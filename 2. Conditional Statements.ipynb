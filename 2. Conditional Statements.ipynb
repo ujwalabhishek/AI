{
 "cells": [
  {
   "cell_type": "code",
   "execution_count": 1,
   "id": "c0dd0b4a-f206-454b-a7e2-f165402f839f",
   "metadata": {},
   "outputs": [
    {
     "name": "stdout",
     "output_type": "stream",
     "text": [
      "the number is 20\n"
     ]
    }
   ],
   "source": [
    "a = 20\n",
    "if a==20:\n",
    "    print(f\"the number is {a}\")\n",
    "else:\n",
    "    print(f\"the number is not 20\")"
   ]
  },
  {
   "cell_type": "code",
   "execution_count": 4,
   "id": "d901d447-d45e-4844-b3fa-ff49703dd319",
   "metadata": {},
   "outputs": [
    {
     "name": "stdout",
     "output_type": "stream",
     "text": [
      "5\n"
     ]
    }
   ],
   "source": [
    "#ternary operators\n",
    "\n",
    "n =5 \n",
    "\n",
    "print('False' if n % 10 == 0 else n )"
   ]
  },
  {
   "cell_type": "code",
   "execution_count": 7,
   "id": "ffac2cd2-c7ec-4cae-b9b0-dbfba04f9405",
   "metadata": {},
   "outputs": [
    {
     "data": {
      "text/plain": [
       "'Red'"
      ]
     },
     "execution_count": 7,
     "metadata": {},
     "output_type": "execute_result"
    }
   ],
   "source": [
    "\"Blue\" if 5 % 10 == 0 else \"Red\""
   ]
  },
  {
   "cell_type": "code",
   "execution_count": null,
   "id": "55b03919-7cd2-4dd7-8603-660e2546d481",
   "metadata": {},
   "outputs": [],
   "source": []
  }
 ],
 "metadata": {
  "kernelspec": {
   "display_name": "Python 3 (ipykernel)",
   "language": "python",
   "name": "python3"
  },
  "language_info": {
   "codemirror_mode": {
    "name": "ipython",
    "version": 3
   },
   "file_extension": ".py",
   "mimetype": "text/x-python",
   "name": "python",
   "nbconvert_exporter": "python",
   "pygments_lexer": "ipython3",
   "version": "3.13.1"
  }
 },
 "nbformat": 4,
 "nbformat_minor": 5
}
