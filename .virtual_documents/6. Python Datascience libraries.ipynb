





import numpy as np


#empty_array = np.array() 


empty_array=np.array(object=[])


# By default, unless specified or dictated by the data type, NumPy resorts to making a float64 array
# This has benefits because float64 can handle most numeric data types, and NumPy is primarily used for mathematical calculations
empty_array





type(empty_array) # datatype of array





empty_array.dtype #data type of elements





empty_array.ndim #number of dimensions 





empty_array.shape # shape of array





empty_array.size #size of array; counts all elements across dimensions 


my_array = np.array([1.5,2,3])
my_array


my_array.dtype


my_array = np.array(['yes','no','not sure'])


my_array


my_array.dtype





np.arange(start=1, stop=10) #similar to range() 


np.array(range(0,10))


myar_1 = np.arange(start=1, stop=10, step=2) #step 
myar_1





myar_1.max()





myar_1.min()





myar_1.mean()


np.arange(start=-2,stop=10,step=2)





np.zeros(2)


np.zeros(shape=10)


np.zeros((3,2))


np.zeros(shape=10,dtype=int)





np.ones(5,dtype=int)





np.linspace(start=2, stop=3,num=5)


np.linspace(1,5,20)


np.eye(5)


np.eye(4,3)





matrix = np.array([[1,2,3],[4,5,6],[7,8,9]])


matrix


type(matrix)


matrix.dtype


matrix.ndim


matrix.shape


matrix.size


# matrix = np.array([[1,2,3],[4,5,6],[7,8]]) # throws error because all arrays need to be same dimension 


threeDarray = np.array([[1,2],[3,4],[5,6],[7,8]])
threeDarray


type(threeDarray)


threeDarray.dtype


threeDarray.ndim


threeDarray.shape


threeDarray.size





arr_2 = np.array([1,2,3,4,5,6,7,8,9,10,11,12])
arr_2.reshape(3,4)


arr_2.reshape(2,6)





my_array = np.array( [1, 2, 3, 4, 5])
my_array [0]


my_array [4]


my_array [-1]


my_array [4:]


my_array [:2]


my_array [:: 2]


my_array [::- 1]





age_list = [18, 15, 23, 14, 20]
ages = np.array(age_list)
ages >= 18 


ages[ages>=18]


ages[[ True, False,  True, False,  True]] # yahan pe length if inner array elements should be same as no of elements in array ages [[True, False ]] will fail 


# ages[[ True, False]] # will fail no of elements mismatch





my_array[[4,0,1]]


my_array


my_array[ [4, 0, 0, 0]]





my_array


indices = np.where(my_array % 2 == 0)
indices


my_array[indices]





# np.where(# (condition , case met , else )) 
my_array


np.where(my_array > 2, 100, my_array) # (condition , case met , else )





np.where(my_array > 2, 'True', 'False')


my_array


np.where(my_array<4, my_array**2,-1)





my_array2 = my_array # making shallow copy of my_array see line 74 my_array elements points to same array 
my_array2[my_array2 > 2] = 100
my_array2


my_array


# make a deep copy to avoid this 
my_array = np.array( [1, 2, 3, 4, 5])
my_array3 = my_array.copy() #making a deep copy
my_array


my_array3


my_array3[my_array3 > 2] = 200
my_array3


my_array # is a deepcopy so the array was not modified 





matrix = np.array( [[1, 2, 3], [4, 5, 6], [7, 8, 9]])
matrix


matrix[1][2]


matrix[1,2]


matrix[:3, 1:] # matrix[:rows, columns:]


threeD_array = np.array( [ [ [1, 2, 3], [4, 5, 6]], [[7, 8, 9], [10, 11, 12]], [[13, 14, 15], [16, 17, 18] ] ] )
threeD_array


threeD_array[1][1][2]


threeD_array [1,1,2]


threeD_array [0:,:,2]


arr_3D = np.array([
[[0, 1, 2], [3, 4, 5], [6, 7, 8]],
[[9, 10, 11], [12, 13, 14], [15, 16, 17]],
[[18, 19, 20], [21, 22, 23], [24, 25, 26]],
])

arr_3D


arr_3D[0]





arr_3D[0][1][2]





arr_3D


arr_3D[:2,:2,:2] #dont try like arr_3D[:2][:2][:2]





arr_3D[[0,1,2],[0,1,2],[0,1,2]]





arr_3D[arr_3D > 15]





np.where(arr_3D > 15,arr_3D, 0)





np.where(arr_3D > 15) #retereive array indexes wher if condition is met 


arr_3D[np.where(arr_3D > 15)] # get the values now 





arr_3D


arr_3D[:,0,:]


arr_3D[:,0]





arr_3D[:,:,0] # all elements, all rows , 0th column 





arr_3D[...,0]


arr_3D[...,0] #is same as arr_3D[0]


matrix = np.array([[1,2,3,8],[4,5,6,7],[7,8,9,9]])
matrix


matrix[1:,1:]


matrix[[1, 2], [1, 2]]





my_arr = np.array([1,2,3,4,5,6])
my_arr


# arr.append(6)





np.append([1, 2, 3], [[4, 5, 6], [7, 8, 9]])


# numpy.append(arr, values, axis=None) axis 0 means row, 1 means column 
np.append(my_arr,values=6)


# np.append([[1, 2, 3], [4, 5, 6]], [7, 8, 9], axis=0) # this will give dimension error second argument should be [[ ]] instead of []





arr3 =np.append([[1, 2, 3], [4, 5, 6]], [[7, 8, 9]], axis=0) # axis zero appends one more row 
arr3





#append a column
# np.append(arr3, [[10, 11, 12]], axis=1) # axis 1 shhould appends column but this will give dimension error  


np.append(arr3,[[10],[11],[12]], axis=1)





arr2 = np.array([[1,2,3,4], [5,1,7,8], [9,10,1,12]])


arr2


np.delete(arr2,1) # flattens array and deletes from index 1


np.delete(arr2,0,1) # deletes first column





arr1 = np.array([1,2,3])
arr2 = np.array([4,5,6])
arr3 = np.array([7,8,9])


# np.concatenate(arr1, arr2) 


np.concatenate([arr1, arr2]) # do not forgert [] else will give error 


arr1 = np.array([[1,2,3]])
arr2 = np.array([[4,5,6]])
arr3 = np.array([[7,8,9]])
arr4 = np.concatenate([arr1,arr2,arr3],axis=0)
arr4


arr5 = np.array([[10],[11],[12]]) # concatenating columns 
np.concatenate([arr4,arr5],axis=1)





arr6 = np.array ( ['Ashok', 'Ravi', 'Kumar', 'Shiela', 'P. ', 'Reddy' ] )


arr6.size


np.reshape(arr6, shape=(2,3))


arr6.reshape(2,3)


np.reshape(arr6, (3, 2))


np.reshape(arr6, (1, 1, 6))


np.reshape(arr6, (6, 1, 1))


np.reshape(arr6, (6, 1))


#np.reshape(arr, (1, 2)) # make sure the product of the provided dimensions to the newshape parameter equals the size of the array





np.reshape(arr6,(-1,3)) #using -1 will automatically calculate the dimension


np.reshape(arr6,(2,-1))








mat = np.array( [ ['Apple', 'Bread', 'Cheese' ], ['Rs. 120', 'Rs. 20', 'Rs. 150']] )


mat.T


mat.transpose()


threeD_array = np.array( [ [ [1, 2], [3, 4]], [[5, 6], [7, 8]]])
threeD_array


threeD_array.T


threeD_array.transpose((2, 1, 0) )

# If you have a 3D array with shape (A, B, C), the axes are indexed as:\
# Axis 0 → First dimension (A)
# Axis 1 → Second dimension (B)
# Axis 2 → Third dimension (C)

# When you use threeD_array.transpose((2, 1, 0)), it means:

# The original axis 2 becomes the new axis 0.
# The original axis 1 remains as axis 1.
# The original axis 0 becomes the new axis 2.






mat.flatten()


threeD_array


threeD_array.ravel()


threeD_array.flatten()








arr = np.arange(24)
arr


arr.shape


reshaped_4x6 = arr.reshape(4,6)
reshaped_4x6





reshaped_4x6[1,3]





reshaped_2x3x4=arr.reshape(2,3,4)
reshaped_2x3x4





reshaped_2x3x4[0,1,2]


reshaped_2x2x2x3= arr.reshape(2, 2, 2, 3) 
reshaped_2x2x2x3





reshaped_2x2x2x3[0, 1, 0, 2]





reshaped_2x2x2x3[ ... , 2]


reshaped_4x6





new_data = np.arange(24, 30)
new_data


# arr_with_new_row = np. append(reshaped_4x6, new_data, axis = 0) # why wouldn't this work?


reshaped_4x6.shape


new_data.shape





new_data_1x6 = new_data.reshape(1, 6)


new_data_1x6.shape





new_data_1x6 = new_data.reshape(-11, 6)
new_data_1x6.shape


arr_with_new_row = np. append(reshaped_4x6, new_data_1x6, axis = 0)
arr_with_new_row





 # arr_with_new_col = np.append(reshaped_4x6, new_data, axis = 1) # why wouldn't this work?


# arr_with_new_col = np.append(reshaped_4x6, new_data_1x6, axis = 1) # why wouldn't this work?


reshaped_4x6.shape


reshaped_6x4 = reshaped_4x6.T
reshaped_6x4.shape


new_data_1x6.shape


new_data_6x1 = new_data_1x6.T
new_data_6x1.shape


new_data_6x1


np.append(reshaped_6x4, new_data_6x1, axis = 1)











data = np.random.uniform(low = 10, high = 40, size = (365, 5)) # creating random data for the purposes of our problem
data





# weekly_data = data.reshape(-1, 7, 5) # why won't this work?





rows_needed = 7 - (data.shape[0]%7) #calculating how many rows needed to fill the last row
rows_needed = data.shape[0] + rows_needed #new length for padding 


padded_data = np.zeros((rows_needed,data.shape[1])) #making 2d empty array 


padded_data[:data.shape[0],:] = data #copying original data to the empty array 


padded_data





weekly_data = padded_data.reshape(-1, 7, 5)


weekly_data.shape





weekly_data[2]


weekly_data[-1] #what our padded data looks like 





weekly_data[13][1][4]





arr = np.array( [1, 2, 3, 4, 5])
arr


lst = [1, 2, 3, 4, 5]
lst


arr+10 #doable for nnumpy array


# lst+10 will give error 


[x+10 for x in lst]


arr ** 3





data = np.array( [
[25, 50000, 4.5, 1, 0],
[45, 80000, 12.2, 0, 1],
[35, 60000, 5, 1, 1]])

data





data[:, :3] = (data[:, :3] - data[ :, :3].mean() ) / data[:, :3].std() # standardising by subtracting the mean and dividing by the standard deviation
data





mat = np.array([[10,20,30],[40,50,60]])
mat


arr = np.array([1,2,3])
arr


mat+arr


#mat+np.array([1,3])





features = np.array([[23, 40000, 650], [32, 45000, 700], [40, 80000, 750]]) # age, income, credit score for each customer
features


weigts = np.array([1,1,3])
weigts


features * weigts





mat_lst = [[10,20,30],[40,50,60]]
mat_lst


arr_lst = [1,2,3]
arr_lst


mat_lst+arr_lst


[[mat_lst[i][j] + arr_lst[j] for j in range(len(arr_lst))] for i in range(len(mat_lst))]





features_lst = [[23, 40000, 650], [32, 45000, 700], [40, 80000, 750]]
weights_lst = [1, 1, 3]
# features_lst * weights_lst
[ [features_lst [i] [j] * weights_lst [j] for j in range(len(weights_lst))] for i in range(len(features_lst) ) ]





big_mat_lst = [[i for i in range(j-1000, j)] for j in range(1000, 11000)]
big_arr_lst = [i for i in range(1000) ]


len (big_mat_lst)


len(big_mat_lst [0])


len(big_arr_lst)


big_mat = np.array(big_mat_lst)
big_arr = np.array(big_arr_lst)


import time


start_time = time. time ( )
product = [ [big_mat_lst [i] [j] * big_arr_lst[j] for j in range(len(big_arr_lst))] for i in range(len(big_mat_lst) )]
print('Time taken to multiply a matrix by a list using list comprehension: ', time. time() - start_time)


start_time = time. time ()
product = big_mat * big_arr
print('Time taken to multiply a matrix by a list using broadcasting: ', time. time () - start_time)

















lst_arr1 = [1,2,3]
arr1 = np.array(lst_arr1)
lst_arr2 = [4,5,6]
arr2 = np.array(lst_arr2)


arr1


arr2





dotproduct = 0
for i in range(len(arr1)): dotproduct +=arr1[i]*arr2[i]
dotproduct


np.dot(arr1,arr2)





lst_mat1 = [[1, 2], [3, 4], [5, 6] ]
mat1 = np.array(lst_mat1)
lst_mat2 = [[7, 8, 9], [10, 11, 12]]
mat2 = np.array(lst_mat2)


np.dot(mat1,mat2)


mat1@mat2





arr1


arr1.sum()


mat1


mat1.sum()





mat1.sum(axis =0) #get sum of each column


mat1.sum(axis =1) #get sum of each row





arr1


arr1.max()


arr1.min()


mat1


mat1.max(axis = 0 ) #max of each col


mat1.max(axis = 1 ) #max of each row


mat1.mean()


mat1.mean(axis = 0, dtype=int ) #mean of each col


mat1.mean(axis = 1, dtype=int ) #mean of each row





arr3 = np.array( [1, -2, -4, 8])
np.abs(arr3)





np.exp(arr3) # calculate e^x for every element


np.power(arr3,2) # calculate square of each elements 





arr2


np.sqrt(arr2)





arr3


np.sort(arr3)


np.sort(arr3)[::-1] # sort in reverse order 


arr3


arr3.argsort() #returns the original index of the elements 








prod_prices = np.array([100, 250, 500, 750,1000])
prod_prices


tax_rates = np.array([5, 7.5, 10])
tax_rates


#try solving later with nested loops
#[prod_prices[i] for i in range(len(prod_prices))] for j in range(len(tax_rates))


# try solving with Broadcasting for better performance


finalprice_A = prod_prices + prod_prices*(tax_rates[0]/100)
finalprice_A


prod_prices.shape


tax_rates.shape


prod_prices.reshape(5,1)


finalprice= prod_prices.reshape(5,1) + [prod_prices.reshape(5,1) * [tax_rates / 100]]
finalprice


#another way is 
tax_ratesn= np.array([5, 7.5, 10]) / 100
tax_ratesn = tax_ratesn + 1
tax_ratesn


finalprice = prod_prices.reshape(5,1) * tax_ratesn
finalprice


#Final price of product D in city Y
finalprice[3][1]


#avg price per city after tax 
finalprice.mean(axis = 0)


#average price of each product
finalprice.mean(axis = 1)


#which city has highest average price after tax
np.max(finalprice.mean(0))


finalprice.mean(0).max() # returns max value by city


np.argmax(finalprice.mean(0)) # returns index of the city 





from PIL import Image


image= Image.open('tractor image.jpg')
image





img_array = np.array(image)


img_array # contains 


# shape=(408, 612, 3)   rows , column, channel (RGB)


img_array.shape








inverted_image_arr = 255 - img_array


#We can now convert the array back to an image and view it to verify our result
inverted_image = Image.fromarray(inverted_image_arr)
inverted_image





grey = 0.2989 * img_array[:,:,0] + 0.5870  * img_array[:,:,1]  + 0.1140  * img_array[:,:,2] 
grey_array = grey.astype(np.uint8) #Image.fromarray() cannot handle float
grey = Image.fromarray(grey_array)
grey





brightnessfactor = 1.5 #increasing brightness by 20%
gr_array = np.array(grey)
brightened_image_arr = np.clip(gr_array * brightnessfactor,0,255).astype(np.uint8)
brightened_image = Image.fromarray(brightened_image_arr)
brightened_image


brightnessfactor = 0.5 #decreasing brightness by 20%
gr_array = np.array(grey)
brightened_image_arr = np.clip(gr_array * brightnessfactor,0,255).astype(np.uint8)
brightened_image = Image.fromarray(brightened_image_arr)
brightened_image





mean = np.mean(brightened_image_arr)
contrast_factor = 1.5
contrasted_image_arr= np.clip((brightened_image_arr - mean) * contrast_factor + mean,0,255).astype(np.uint8)
contrasted_image = Image.fromarray(contrasted_image_arr)
contrasted_image





red_channel_image_arr = img_array. copy() # shallow copy of the array to prevent changes from modifying the original array
red_channel_image_arr[:, :, 1] = 0 # set green channel to 0
red_channel_image_arr[:, :, 2] = 0 # set blue channel to 0
red_channel_image = Image.fromarray(red_channel_image_arr)
red_channel_image





rotated_image_arr = np.rot90(img_array,k=1) # k = 1 represents anti-clockwise can be 2, 3
rotated_image = Image.fromarray(rotated_image_arr)
rotated_image


rotated_image_arr = np.rot90(img_array,k=-1) # k = -1 represents clockwise can be -2, -3
rotated_image = Image.fromarray(rotated_image_arr)
rotated_image





flipd_img_arr = np.flip(img_array,axis=1) # 1, -1
flipd_img = Image.fromarray(flipd_img_arr)
flipd_img





kernel_size = 5 # must be odd as it centers on a pixel
hk = kernel_size // 2 # 'half kernel'; this helps in determining the neighborhood range
# Create an empty array of the same shape as the original to store the blurred image
blurred_image_arr = np.zeros(grey_array.shape)
# Apply a box blur to the central area of the image (i.e., minus the edges)
for i in range(hk, greyscale_image_arr.shape[0] - hk): # iterating over image height
    for j in range(hk, greyscale_image_arr.shape[1] - hk): # iterating over image width
        # Extract the neighborhood defined by the kernel size
        neighborhood = greyscale_image_arr [
        i - hk : i + hk + 1, # +1 to account for the fact that the end index is exclusive
        j - hk : j + hk + 1
        ]
        # Calculate the mean of the neighborhood for each color channel
        blurred_image_arr[i, j] = np.mean(neighborhood)
blurred_image_arr = blurred_image_arr.astype(np.uint8) # as Image. fromarray() cannot handle float values

# Convert the output array back to an image and display it
blurred_image = Image. fromarray(blurred_image_arr)
blurred_image

















import numpy as np
import pandas as pd


#1. 2d array with 8 elements - 1 to 8 , find its dimensions and shape 
arr1 = np.array([[1, 2, 3, 4], [5, 6, 7, 8]])
arr1


arr1.shape


arr1.ndim


# 2. arr = np.array([ [ 1, 2, 3, 4, 5, 6, 7], 
# [ 8, 9, 10, 11, 12, 13, 14], 
# [15, 16, 17, 18, 19, 20, 21], 
# [22, 23, 24, 25, 26, 27, 28],
# [29, 30, 31, 32, 33, 34, 35], 
# [36, 37, 38, 39, 40, 41, 42],
# [43, 44, 45, 46, 47, 48, 49] ]) 
# print(arr) 

# How would you access the element `7` from this array?


arr = np.array([ [ 1, 2, 3, 4, 5, 6, 7], [ 8, 9, 10, 11, 12, 13, 14], [15, 16, 17, 18, 19, 20, 21], [22, 23, 24, 25, 26, 27, 28], [29, 30, 31, 32, 33, 34, 35], [36, 37, 38, 39, 40, 41, 42], [43, 44, 45, 46, 47, 48, 49] ])
print(arr)


arr[0][-1]


arr[0][6]


arr[:1,6:]


#3. On the same array how would you access element 47 to 49 


arr[-1,4:]


arr[6,4:7]


#4. arr = np.array([[1, 2, 3, 4, 5, 6], [7, 8, 9, 10, 11, 12]]) arr.shape
# 12 elements --> 
# 1)Reshape this to 1x12 , tell me its dimnesion 
# 2) Reshape this to 12x1 , tell me its dimnesion 
# 3) 3x4, dimension 
# 4) 4x3 dimension 
# 5) 6x2, dimension


arr_new = np.array([[1, 2, 3, 4, 5, 6], [7, 8, 9, 10, 11, 12]]) 
arr.shape


arr1x12 = arr_new.reshape(1,12)
arr1x12


arr1x12.ndim


arr12x1 = arr_new.reshape(12,1)
arr12x1


arr12x1.ndim


arr3x4 = arr_new.reshape(3,4)
arr3x4


# 1. Create an array of zeros --> 3x3 
# 2. Add 1 to its diagnol by using indexing!


eyarrayzero = np.zeros((3,3),dtype=int)
eyarrayzero


eyarrayzero[0][0] = 1
eyarrayzero[1][1] = 1
eyarrayzero[2][2] = 1
eyarrayzero





onesarr = np.eye(3, dtype=int)
onesarr


# Replace all values greater  than 10 in an array with 10? 

# arr = np.array([5, 15, 25, 35, 10, 7])  
# Expected output : [ 5 10 10 10 10 7]


arr = np.array([5,15,25,35,10,7]) 
arr 


outp =np.where(arr > 10, 10 , arr)
outp


# 1) Create a 1d array with elements 1-10 
# 2) Extract all even numbers from a NumPy array 
# o/p : array([ 2, 4, 6, 8, 10]) 

arr=np.array([1,2,3,4,5,6,7,8,9,10]) 
arr


arr % 2 == 0


arr[arr % 2 == 0]


arr[np.where(arr % 2 == 0)]






