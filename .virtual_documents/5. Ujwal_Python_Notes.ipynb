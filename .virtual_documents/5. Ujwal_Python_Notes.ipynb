


#Multiple Assignments
a = b = c = 100
print(a, b, c)


#expanding
x, y, z = 1, 2.5, "Python"
print(x, y, z)


#Getting the Type of Variable
n = 42
f = 3.14
s = "Hello, World!"
li = [1, 2, 3]
d = {'key': 'value'}
bool = True

# Get and print the type of each variable
print(type(n))
print(type(f))
print(type(s))
print(type(li))
print(type(d))
print(type(bool))





x = str(n)
type(x)


#Scope of a Variable

#Local Variables:
def f():
    a = "I am local"
    print(a)

f()
# print(a)  # This would raise an error since 'local_var' is not accessible outside the function



#Global Variables:
a = "I am global"
def f():

    a = "Modified globally"
    print(a)

f()
print(a)


a = "I am global"

def f():
    global a #use global keyword to access global variable inside the function and modify
    a = "Modified globally"
    print(a)

f()
print(a)











name = "Ujwal"
print("Hello,", name, "! Welcome!")


name = "Ujwal"
print(f"Hello {name} ! Welcome!")


name = "Ujwal"
print("Hello {} ! Welcome!".format(name))


mystr = "fishes are great species"
mystr.title() # converts all words to capitalised form



mystr.upper()


mystr.lower()


mystr.capitalize()


mystr.swapcase()





num_str = '1,2,3'
num_str.isdigit()


num_str.isnumeric()


num_str.isalnum()


num_str.isalpha()


'abcd12'.isalnum()


message = "  Python programming is fun !      "

message.index('y')


message.find("prog")


message.count('g')


message.replace('fun', 'awesome')


message.strip()


split_str= message.split()
split_str


''.join(split_str)


' '.join(split_str)





amount = 150.7545
print(f"Amount: ${amount}")


print("Amount: ${:.2f}".format(amount)) # use :.2f inside {}





print(f"Amount: ${amount:.2f}")


print(f"Amount: ${amount:.3f}") #print 3 decimal places


print(f"Amount: ${amount:.4f}") #print 4 decimal places





name = "John"
print("Customer: {} | Amount: ${:.2f}".format(name, amount))





print("Apples", "Orange", "Mango", sep=", ", end=" are fruits!\n")


print("Apples", "Orange", "Mango", sep=" - ", end=" are fruits!\n")





num = int(input("Enter your value:"))

add = num+5

#Output
print("The sum of the values is %d" %add)





name = "my name is ujwal abhishekl"


name[0]


name[0:7]


name[:7]


name[8:]


myList = [1,2,3,4,5]
myList[2:4]


len(name)


len(myList)





myString = '''
Here is a long string
which i am writing
in multiple lines \'\'\'
'''
myString


print(myString)


strin = "Hello World"
''.join(list(strin)[::-1])








#Write a Python program to reverse the given string
strin = 'Hello World !'
''.join(list(strin)[::-1])





list = [1,2,3,'a','b','c']


len(list)





#List slicing
my_list =[1,2,3,4,5,6]
my_list[3:]


my_list[0:6:2] #list[start:end:stepby]


my_list[0:6:3] #list[start:end:stepby]


my_list[::2] #list[start:end:stepby]


for i in range(10):
            print(i)


del list
mylist = list(range(100))
mylist[:10]


mylist[::-10]





my_list =[1,2,3,4]
my_list.append(5)
print(my_list)


my_list.insert(3,'hello')
print(my_list)


my_list.remove('hello')
print(my_list)


my_list.pop() #removes list items from the end
print(my_list)


my_list2 =[1,2,3,4]
while len(my_list2):
    print(my_list2.pop())


list2 = [[1,2,3], [4,5,6], [7,8,9]]
len(list2)





# new
list_loop = [1,2,3,4,5,6,7,8]
[2 * item for item in list_loop]


#filter

list_loop2 = [1,2,3,4,5,6,7,8]

filtered_list =[item for item in list_loop2 if item % 2 == 0]
filtered_list


# split

myString = "This is my learning streak. What is the calrity on the set of activities"

myString.split()


myString.split('.')


def cleanword(word):
   return word.replace('.','')

[cleanword(word) for word in myString.split()]


[cleanword(word) for word in myString.split() if len(word) < 3]


#Write a Python program to reverse the given string and convert the lower case to upper case and vice-versa.
strin = str(input())
nstr = [ch.lower() if ch.isupper() else ch.upper() for ch in strin]
''.join(list(nstr)[::-1])





setmy ={1,2,3}
len(setmy)


#set is defined inside a curly bracket {} and only contains unique values
setmy = {1,1,2,2,3,'a'}
len(setmy)


set1 ={1,1,1,2,3} # set removes duplicate values
set2={2,3,1}
set1 == set2


del set # removes any instance of original set or list tc class that creates conficts
my_list2 =[2,4,1,1,2,3,4]  #list has duplicate values , using set you can remove duplicate values
myset = list(set(my_list2)) # dhyan do list() ke andar set() ka use hi
print(myset) #output will be [1, 2, 3, 4] removing all duplicate values from the list


myset = {1,1,2,2,2,4,5}
myset.discard(2)
print(myset)
myset.add(21)
print(myset)





my_set = {9, 3, 2, 4, 5}
len(my_set)


sum(my_set)


min(my_set)


max(my_set)


sorted(my_set) # returns a list as sets do not inherently have an order


sorted(my_set, reverse = True)


s1 = {1, 2, 3, 4, 5}
s2 = {1, 2, 3, 4, 8}

2 in s1


8 in s2





my_str = 'Hello world, I am learning Python!'


unique_str = '' # stores unique characters in the string
for ch in my_str: # iterate through the string
    if ch not in unique_str: # only concatenate the character to the new string if it isn't already in the string
        unique_str += ch
print(unique_str)





' '. join(set(my_str))





lst1 = [1, 2, 3, 4, 5]
lst2 = [2, 3, 4, 5, 6, 7]
lst3 = [5, 7, 9, 11, 13]





set(lst1) | set(lst2) | set(lst3)


set1 = {1, 2, 3, 4, 5, 6, 7, 8}
set2 = {0, 2, 4, 6, 8, 10}
set3 = {3, 4, 5}
set4 = {15, 16, 17}


set1. isdisjoint(set2)





set1 | set2


set1.union(set2)





set1 & set2


set1.intersection(set2)





set1 - set2


set1.difference(set2)


set1 ^ set2


set1.symmetric_difference(set2)


set1.issubset(set2)








squares_set_2 = {x ** 2 for x in range(1, 10)} #note here we are using the curly braces 
squares_set_2


squares_of_even = {x ** 2 for x in range(1, 10) if x % 2 == 0}
squares_of_even








account_info = {'client1', 'client2', 'client3', 'client5'}
purchase_history = {'client1', 'client3', 'client4' , 'client5'}
preferences = {'client1', 'client2', 'client3'}


#First, how can we find a list of all the clients in our database?



#Second, how can we find a list of all the clients who have all three data attributes available?


#Third, how can we find which customers are missing some data?


#Fourth, how can we find clients who have either their account information or their purchase history?





team1 = {'Ashok', 'Bina', 'Charu' }
team2 = {'Dhruv', 'Esha' , 'Bina' }

team1.isdisjoint(team2)





team1 & team2








tuple('hello world !')


list1 = [1, 2]
list2 = [3, 4]
tuple(zip(list1,list2))


tuple(list1,list2)


zip(tuple(list1),tuple(list2))


(1,)*5


mytuple = (1,4,6)
mytuple2 = (6,4,1)
mytuple == mytuple2


mytuple = (1, 2, 3)
len(mytuple)


mytuple = (1, 2, 3)
tlist = list(mytuple)
tlist


tlist.append(4)
tlist


tlist.sort(reverse=True)
tlist





#dictonaries
ydidic = {
   1:{
    'erollment_id':1,
    'name' : 'ujwal abhishek'
    },
   2:{
    'erollment_id':2,
    'name' : 'Ragini'
    }
}


print(f"the id is {ydidic[1]['erollment_id']} and name is {ydidic[2]['name']}")


d = {
    "person1": {"name": "John", "age": 25},
    "person2": {"name": "Alice", "age": 30},
    "person3": {"name": "Bob", "age": 22}
}

len(d)


for key,value in d.items():
                            print(F"{key} -> {value}")


 #list, set, tuple, dictonary


list = ["apple","orange","potato", "orange"]





animalList = [('a','ape'), ('b', 'boar'), ('c','cat'),('d','dog'), ('e','elephant')]
animals = { item[0]:item[1] for item in animalList}
animals


# using tuples unpacking
animals = {key:val for key,val in animalList}
animals


animals.items() # shortest way to view dictonary contents


del list
list(animals.items()) #convert dictonary to list, common mistake is to use [] in the first bracket remember to use ()




















dictn = {'name': 'Alice','age': 16,'grade': '10th','email': 'alice@example.com','phone': '123-456-7890','subjects': ['Math', 'Science', 'History', 'Art']}

len(dictn['subjects'])



#sometimes ther input dict is read as string and will need parsing to dictionary then use below code
import ast
dictnr = ast.literal_eval(input())
numb = list(dictnr['subjects'])


print(len(numb))






import ast
inp = '''
{'name': 'Jordan',

 'age': 20,

 'email': 'jordan@example.com',

 'phone': '987-654-3210',

 'cricket_runs': {

  'match_1': 250,

  'match_2': 150,

  'match_3': 300 }}
'''
dictnr = ast.literal_eval(inp)
sum = 0
for x,y  in dictnr['cricket_runs'].items(): sum += int(y) ## this long code can be replaced with sum(dictnr['cricket_runs'].values())
print(sum)



#shorter version
sum(dictnr['cricket_runs'].values())














4 ** 4 # equivalent kto 2 ^ 2


# important

'my_str' * -5  # outputs empty string as against multiplying with positive number














2 < 3 and 3 < 4  # output: True


2 < 3 and 5 < 2  # output: False



7 > 10 and 5 < 2


2 < 3 or 3 < 4  # output: True


2 < 3 or 5 < 2  # output: True


7 > 10 or 5 < 2  # output: False


not 3 < 4  # output: False


not 5 < 2  # output: True



1 < 2 or 2 < 3 and 3 > 4  # output: True



(1 < 2 or 2 < 3) and 3 > 4  # output: False


1 < 2 or (2 < 3 and 3 > 4)  # output: True





x = 5
5 < x < 10  # Equivalent to: (5 < x) and (x < 10)





a = 3
b = 5
c = 7

1 < a < b < c < 10  # Equivalent to: (1 < a) and (a < b) and (b < c) and (c < 10)





x = 10
y = 10
z = 20

x == y == 10  # Equivalent to: (x == y) and (y == 10)
x < y == 10   # Equivalent to: (x < y) and (y == 10)






a = 5
b = 5
c = 7

a <= b <= c  # Equivalent to: (a <= b) and (b <= c)





x = 5
2 * x < x + 10 < 3 * x  # Equivalent to: (2 * x < x + 10) and (x + 10 < 3 * x)






bool('') # empty strings are falsy


''== False # empty strings are not equal to False


'' and 0 # both falsy; returns first falsy


123 and 0 # returns first falsy


'abc' and 'def' # both truthy%;B returns last truthy


'abc' and '' and 0 # returns first falsy


1 and 'abc' and 3.14 # returns last truthy





'' or 0 # both falsy returns last falsy


123 or 0 # returns first truthy


'abc' or 'def' # both truthy; returns first truthy


'abc' or '' or 0 # returns first truthy


0 or '' or 0.0 # returns last falsy





not 0 # returns True


not 123 # returns False





not 'abc' and 0 or 123





'abc' and '' and (0 or 123) or not ''





0  or 123 # expression in parantheses evaluated first


not '' # not evaluated next


'abc' and '' # first and evaluated next (left-to-right execution)


'' and 123 # second and evaluated next


'' or True # outer or evaluated last





'a' in 'abc' # a string is a collection of characters (i.e. a collection of strings of length 1)





'' in 'abc' # empty is part of string


' 'in 'abc' #space' ' is not same as empty ''


'A' in 'abc'


' ' in 'Hello world!'





'1' in 'Hello world!'





'a' not in 'abc'


'' not in 'abc'


'A' not in 'abc'


' ' not in 'abc'





num=23 # 2 x 10 + 3 x 1 = 23 (decimal)
bin(num) # converts decimal integer to a binary string





a = 5 # 101 in binary
b = 3 # 011 or 11 in binary
result = a & b
print(result)





result = a | b
print (result)





result = a^ b
print(result)





result = ~a
print(result)








x = 10   # Positive signed integer
y = -10  # Negative signed integer








import ctypes

x = ctypes.c_uint32(4294967295)  # Max value for 32-bit unsigned int
print(x.value)  # Output: 4294967295

y = ctypes.c_uint32(-1)  # Assigning a negative value
print(y.value)  # Output: 4294967295 (wraps around)






x = 2**100  # Very large number
print(x)    # Python handles it without overflow






x = -1
unsigned_x = x & 0xFFFFFFFF  # Convert to 32-bit unsigned integer
print(unsigned_x)  # Output: 4294967295






x = -10  # Signed integer
y = 255  # Python treats this as signed, but if working with bytes, it can be unsigned





import numpy as np

x = np.uint8(255)  # 8-bit unsigned integer
y = np.int8(-5)    # 8-bit signed integer

print(bin(x))  # Output: '0b11111111' (255)
print(bin(y))  # Output: '0b11111011' (-5 in two's complement)









a = 'Hello world!'
b = a
c = 'Hello world!'
print(a is b) # True
print(a is c) # False , because while the value is same for A & C "Hello world!" memory addresss is not same





print (id(a))
print(id (b))
print(id(c))





print(a is not b)
print (a is not c)





print(a is b) #True
print(a == b) #True
print(a is c) #False
print(a == c) #True














#Calling floor
calling_floor = 2
lift_A = 23
lift_B = 7

#Logic for choosing the right lift for calling floor  - find the distance of each lift from calling floor and choose the least

dist_a = abs(lift_A - calling_floor)
dist_b = abs(lift_B - calling_floor)

if dist_a < dist_b: print("Lift A is choosen")
else: print("Lift B is choosen")





#Calling floor
calling_floor_x = 2
calling_floor_y = 2

lift_A = 23
lift_B = 7

dist_a_x = abs(lift_A - calling_floor_x)
dist_a_y = abs(lift_A - calling_floor_y)
dist_b_x = abs(lift_B - calling_floor_x)
dist_b_y = abs(lift_B - calling_floor_y)

dist_ax_by = dist_a_x+dist_b_y
dist_bx_ay = dist_a_y+dist_b_x

if dist_ax_by < dist_bx_ay: print("Lift a will go to x and lift b will go to y")
else: print("Lift a will go to y and b will go to x")





amount = 2788
if amount < 2500: print('no discount')
else:
    if amount < 5000: print('5% discount')
    else: print('10% discount')





amount = 2788
if amount < 2500: print('no discount')
elif amount >= 2500 and amount < 5000: print('5% discount')
else: print('10% discount')





x = 10

match x:
    case 1:
        print("One")
    case 10:
        print("Ten")
    case _:
        print("Other")



#Eg. Pattern maching capability


point = (0, 1)

match point:
    case (0, 0):
        print("Origin")
    case (0, y):
        print(f"On Y-axis at {y}")
    case (x, 0):
        print(f"On X-axis at {x}")
    case (x, y):
        print(f"Point at ({x}, {y})")









for i in range(0,15): print('ha' * i)


 d ={'Name':'Steve', 'Age':30, 'Designation':'Programmer'}
length = sum(1 for i in d)
print(length)





mylist = [1,2,3,4,5,6,]
for item in mylist:
    print(item)





d = {
    "person1": {"name": "John", "age": 25},
    "person2": {"name": "Alice", "age": 30},
    "person3": {"name": "Bob", "age": 22}
}

for key in d:
    print(key)


#If You Want to Print Key-Value Pairs:
#Modify the loop to print both keys and values:

for key, value in d.items():
    print(f"{key} -> {value}")


for key, value in d.items():
    print(f"{key} -> {value['name']}")


#In Python, .items() is a dictionary method that returns a view object containing key-value pairs as tuples.
d.items() #returns


##interesting way to process items in dictonary with for loop

processed_data = {k:v['name'].upper() + "\n" for k,v in d.items()}
print(processed_data)





# pass

animalLookup = {
    'a':['aardvak','antelopwe'],
    'b':['bear'],
    'c':['cat'],
    'd':['dog'],
}
for letter,animal in animalLookup.items():
    pass


#continue / pass
for letter,animal in animalLookup.items():
    if len(animal) > 1:
        continue
    print(f"Only one animal {animal}")



#break
for letter,animal in animalLookup.items():
    if len(animal) > 1:
        print(f"found {len(animal)} animals {animal}")
        break





for number in range(2,100):
    for factor in range(2, int(number**0.5) + 1):
        if number % factor == 0:
            break
    else: #this else is not for if statement it is against the for statement
        print(f"{number} is prime")





n =5
for i in range(1,n+1):
    for j in range(1,i+1):
        print(j,end="") # print end of the line with space and not a new line so add end ="" by default its a  new line
    print()


n =5
for i in range(1 , n+1):# 1,2,3,4,5
    for j in range(n-1): print(' ',end='') # range(4) 0,1,2,3
    for k in range(2*i-1):print('#', end = '')    #range(1) 0
    print()





from datetime import datetime
import time

while True:
    if datetime.now().second <= 10:
        print(datetime.now().second)
        time.sleep(1)
    else:
        break





x = 0
while x < 5:
    print(x)
    x += 1
else:
    print('The while loop has finished executing.')






correct_password = "ujwal&198"
user_input =""

while user_input != correct_password:
    user_input = input("Enter password")
    print("Wrong pwd please enter correct password")
else:
    print("Login successful")






balance = int(input('Please enter your balance in rupees: '))
hourly_rate = 100 # hourly parking fee in rupees
hours_parked = 0 # to track the total hours parked

print('Welcome to the upGrad parking garage! You will be billed *100 per hour.')

# Loop runs as long as the driver has enough balance and decides to stay
while balance >= hourly_rate:
# Deduct the hourly rate from the balance
    balance -= hourly_rate
    hours_parked += 1

    print()
    print('Hour', hours_parked, 'completed.')
    print('100 rupees deducted.')
    print('Remaining balance: ' + str(balance))

    # Check if there's enough balance for another hour
    if balance < hourly_rate:
        print()
        print('Warning: Insufficient funds for another hour. Would you like to add to your balance?')
        add_balance = input('Enter "yes" to add or "no" to exit: ')
        if add_balance == 'yes':
            balance += int(input('Please enter the amount to add in rupees: '))
            print('Balance added successfully. New balance:', balance)
        else:
            print('You need to exit the garage or risk your vehicle being impounded.')
            break
    # Ask the driver if they want to stay for another hour
    stay = input('Do you want to stay parked for another hour? (yes/no): ')
    if stay != 'yes':
        print()
        print('You have chosen to leave the garage.')
        break

# Final summary after the loop ends
print()
print('Parking session ended.')
print('Total hours parked:', hours_parked)
print('Remaining balance: ' + str(balance))
print('Thank you for using the upGrad parking garage!')





rows = 6
columns = 6
i = 1
while i <= rows:
  j = 1
  while j <= columns:
    print(str(i*j), end = '') # setting the end parameter this way introduces a space at the end instead of a new line
    j += 1
  print() # will print nothing but introduce a new line
  i += 1






rows = 6
columns = 6
i =1
for i in range(1, rows + 1):
  for j in range (1, columns + 1):
    print(str(i*j), end = '') # setting the end parameter this way introduces a space at the end instead of a new line
  print() # will print nothing but introduce a new line











global_variable = 2  # can be accessed by the function

def two_plus_two():
    local_variable = 2  # cannot be accessed outside the function
    print(global_variable + local_variable)

two_plus_two()











# *args example
def fun(*args):
    return sum(args)

print(fun(1, 2, 3, 4))
print(fun(5, 10, 15))

# **kwargs example
def fun(**kwargs):
    for k, val in kwargs.items():
        print(k, val)

fun(a=1, b=2, c=3)


def myFun(*argv):
    for arg in argv:
        print(arg)


myFun('Hello', 'Welcome', 'to', 'GeeksforGeeks')





def fun(arg1,arg2, *argv):
    print("First argument :", arg1)
    print("Second argument :", arg2)
    for arg in argv:
        print("Argument *argv :", arg)

fun('Hello', 'Welcome', 'to', 'GeeksforGeeks')


def find_sum(a, b = 0): return a + b





out1 = find_sum(1, 2)  # will store 3
out2 = find_sum(1)  # will store 1











# iterative method

def factorial(num):
        x = 1
        y = 1
        while x <= num:
            y = y * x
            x += 1
        print(y)

factorial(5)


# Factorial Using Recursion
def factorial(num = None):
    if type(num) !=int  or num < 0:
        print("Invalid input")
        return None
    if num == 0:
       return(1)

    return num * factorial(num-1)

factorial(5)


#how it works

#step1:
#factorial(5) => 5*factorial(4)
#             => 5 * 4 * factorial(3)
#             => 5 * 4 * 3* factorial(2)
#             => 5 * 4 * 3 * 2 factorial(1)
#             => 5 * 4 * 3 * 2 * 1 = 120
#             => 120





def factorial_recursive(n):
    if n == 0 or n == 1:  # base cases
        return 1
    else:
        return n * factorial_recursive(n - 1)  # recursive case





def recursive_sum(n):
    if n == 0:
        return 0
    return n + recursive_sum(n - 1)

result = recursive_sum(5)
print(result)





# functions can return multiple values

def calculator(a,b):
  return a+b, a-b, a*b, a/b

x = calculator(8,5)

print(x) # returns a tuple


add, sub, mul, div = calculator(8,5)

print(add)


print(sub)


print(mul)


print(div)





add, _, _, div = calculator(8,5)
print(add)
print(div)





import random  # used for random number generation

random.randint(1, 10)  # generates a random integer between 1 and 10





import matplotlib.pyplot as plt  # importing the pyplot module of matplotlib under the alias 'plt'

plt.plot([1, 2, 3, 4, 5], [1, 4, 9, 16, 25])  # plotting a number against its square





!pip install emoji








def find_square(x):
    return x ** 2

find_square(5)





find_square = lambda x: x ** 2
find_square(5)





add = lambda x,y:x+y

add(3,5)





# rather than calling lambda function like add(3,5) in saperate line you can do inline call as well

(lambda x,y:x+y)(3,5)





mylist =[1,5,6,7]
sorted(mylist)





mylist = [{'num':5}, {'num':1}, {'num':3}, {'num':7}] # list  of dict
# sorted(mylist) with throw error

sorted(mylist, key = lambda x: x['num'])











def add(x, y): return x + y
def subtract(x, y): return x - y
def multiply(x, y): return x * y





def calculate(operation, x, y):
    return operation(x, y) # operation here is a argument / variable





addition = calculate(add, 4, 4)  # would store 8
subtraction = calculate(subtract, 10, 4)  # would store 6
multiplication = calculate(multiply, 2, 5)  # would store 10





text = '''
Congress party on Sunday criticised Prime Minister Narendra Modi's participation in a podcast with computer scientist Lex Fridman, pointing out his reluctance to hold press conferences whilst engaging with a US podcaster.
Jairam Ramesh, Congress general secretary for communications, contested the prime minister's statement about "criticism is the soul of democracy" during the podcast. He accused PM Modi of destroying institutions meant for government accountability and targeting critics aggressively.
'''

def lowercase(text):
  return text.lower()

def removePunctuations(text):
  Punctuations = ['.','-',',','*','!','?','\'']
  for punc in Punctuations:
    text = text.replace(punc,'')
  return text

def removeLongWords(text):
  return ' '. join([word for word in text.split() if len(word) <= 6])


processingfunctions = [lowercase, removePunctuations, removeLongWords] # use function names to iterate through to call

for func in processingfunctions:
  text = func(text)

print(text)





  text = " hello worls - ! `"

  punctuations = ['.','-',',','*','!','?','\'']
  for punc in punctuations:
    text = text.replace(punc,'')
  print(text)





text = " hello worls - ! "
text = text.replace('.','').replace('-','').replace(',','').replace('*','').replace('!','')

print(text)








# Input has been taken for you
a,b,c= input().split()
ab = int(a) + int(b)
bc = int(b) + int(c)
ca = int(c) + int(a)

if ab<=int(c) or bc<=int(a) or ca<=int(b):
    print('Invalid')
else:
    print('Valid')





# Input has been taken for you
x = int(input())
y = int(input())
# Write your code here

squared = lambda x,y: x**y

# Function call
print(squared(x,y))






# Input has been taken for you
a=int(input())
b=int(input())

#Write your code here

greater = lambda x,y: x if x > y else y


print(greater(a,b))





# Write the 'calculate_bill_amount()' function here.
def calculate_bill_amount(units):
    billamt = 0
    if units <= 100:
        billamt = units * 60
    elif units <= 300:
        billamt = 100 * 60 + (units-100) * 70
    elif units > 300:
        billamt = 100 * 60 + 200 * 70 + (units-300) * 80
    return billamt

units = int(input())
bill = calculate_bill_amount(units)
print(bill)





# Python code​​​​​​‌‌​​‌‌​​‌‌‌​​‌​​‌​​‌​​​‌​ below
def triangle(num):
    if num == 1:
        return num
    return num + triangle(num - 1)

def square(num):
    pass








class Dog:
  sound = 'bark'





class Dog:
  sound='bark'
# Create the object from the class
dog1 = Dog()

#Access the class attribute
dog1.sound





class Dog:
  species=' Canine' #class attribute also called static attributes
  def __init__(self,name,age):
    self.name = name #instance attribute
    self.age = age #instance attribute


Dog.species    #also called static attributes
Dog.species = "Pameruian" # we can reset the values

# create a new instance of thee class and you can observe the modified value of species
myDog = Dog('maggie',5)
myDog.species #






# in order to prevent the modification of class attributes use _

class Dog:
  _species=' Canine' #class attribute also called static attributes
  def __init__(self,name,age):
    self.name = name #instance attribute
    self.age = age #instance attribute

#print value will result in following error now after using _species
Dog.species


# this is allowed but _ is just a convention it still dosent stops from getting the values

Dog._species





class Dog:
  _species=' Canine' #class attribute also called static attributes
  def __init__(self,name,age):
    self.name = name #instance attribute
    self.age = age #instance attribute

  def get_species(self):
    return self._species

  def set_species(self,species):
    Dog._species = species

#print value will result in following error now after using _species
myDog = Dog('maggie',5)
myDog.get_species()


myDog.set_species('BullDog')
myDog.get_species()





class Dog:
  _species=' Canine' #class attribute also called static attributes
  def __init__(self,name,age):
    self.name = name #instance attribute
    self.age = age #instance attribute

  def get_species(self):
    return self._species


myDog = Dog('maggie',5)
myDog._species='Husky' # calls the instance attribute
print(myDog.get_species())
print(Dog._species) # calls the class attribute










class Dog:
    def __init__(self, name, age):
        self.name = name
        self.age = age

    def __str__(self):
        return f"{self.name} is {self.age} years old."  # Correct: Returning a string

dog1 = Dog("Buddy", 3)
dog2 = Dog("Charlie", 5)

print(dog1)
print(dog2)





class WordSet:
  def __init__(self):
    self.words = set()

  def addText(self, text): # Instance method
    text = self.cleanText(text)

    for word in text.split():
      self.words.add(word)

  def cleanText(self,text): # note this is Instance method since self is first argument
    text = text.replace('.','').replace(',','').replace('-','').replace('\'','').replace('!','')
    return text.lower()

wordSet = WordSet()

wordSet.addText('Hi I\' m Ujwal ! Hear is a sentence that i want to be cleaned up ')
wordSet.addText('Hear is another sentence that i want to be cleaned up. ')

print(wordSet.words)






class WordSet:
  def __init__(self):
    self.words = set()

  def addText(self, text): # Instance method
    text = WordSet.cleanText(text) # call is changed from self to class

    for word in text.split():
      self.words.add(word)

  def cleanText(text): # Static method since self is removed
    text = text.replace('.','').replace(',','').replace('-','').replace('\'','').replace('!','')
    return text.lower()

wordSet = WordSet()

wordSet.addText('Hi I\' m Ujwal ! Hear is a sentence that i want to be cleaned up ')
wordSet.addText('Hear is another sentence that i want to be cleaned up. ')

print(wordSet.words)





class WordSet:

  punctuations = ['.','-',',','*','!','?','\''] # static variable
  def __init__(self):
    self.words = set()

  def addText(self, text):
    text = WordSet.cleanText(text)

    for word in text.split():
      self.words.add(word)

  def cleanText(text): # static method
    for i in WordSet.punctuations: # call to static variable
      text = text.replace(i,'')
    return text.lower()

wordSet = WordSet()

wordSet.addText('Hi I\' m Ujwal ! Hear is a sentence that i want to be cleaned up ')
wordSet.addText('Hear is another sentence that i want to be cleaned up. ')

print(wordSet.words)





class WordSet:

  punctuations = ['.','-',',','*','!','?','\''] # static variable
  def __init__(self):
    self.words = set()

  def addText(self, text):
    text = self.cleanText(text)  # this line is returning error

    for word in text.split():
      self.words.add(word)

  def cleanText(text): # static method
    for i in WordSet.punctuations: # call to static variable
      text = text.replace(i,'')
    return text.lower()

wordSet = WordSet()

wordSet.addText('Hi I\' m Ujwal ! Hear is a sentence that i want to be cleaned up ')
wordSet.addText('Hear is another sentence that i want to be cleaned up. ')

print(wordSet.words)





class WordSet:

  punctuations = ['.','-',',','*','!','?','\''] # static variable
  def __init__(self):
    self.words = set()

  def addText(self, text):
    text = self.cleanText(text)  # this line is returning error use @stasticmethod decorator

    for word in text.split():
      self.words.add(word)

  @staticmethod
  def cleanText(text): # static method
    for i in WordSet.punctuations: # call to static variable
      text = text.replace(i,'')
    return text.lower()

wordSet = WordSet()

wordSet.addText('Hi I\' m Ujwal ! Hear is a sentence that i want to be cleaned up ')
wordSet.addText('Hear is another sentence that i want to be cleaned up. ')

print(wordSet.words)





class Dog: #parent class
  _species=' Canine'
  def __init__(self,name):
    self.name = name
  def bark(self):
    print(self.name+' says bark !')


class Husky(Dog): # new class inheritance from parent class Dog
  def bark(self):
    print(self.name+' says Woof Woof Woof!')

  def wagtail(self):
    print('Vigrous wagging !!')




myDog2 = Husky('maggie')
myDog2.bark()
myDog2.wagtail()





class UniqueList(list):
  def append(self,item):
    if item in self:
      return
    super().append(item)


UniqueList = UniqueList()
UniqueList.append(2)
UniqueList.append(9)
UniqueList.append(5)
UniqueList.append(2)

print(UniqueList)


class UniqueList(list):
  def __init__(self):
    super().__init__() #initialize parent constructor first
    self.someProperty = 'SomeValue'

  def append(self,item):
    if item in self:
      return
    super().append(item)

UniqueList = UniqueList()
UniqueList.append(2)
UniqueList.append(9)
UniqueList.append(5)
UniqueList.append(2)

print(UniqueList.someProperty)





# Python code​​​​​​‌‌​​‌‌‌​‌‌‌‌‌​​‌​​​​​‌​​‌ below
class Shape:
	width = 5
	height = 7
	printChar = '#'

	def printRow(self, i):
		raise NotImplementedError("Will be implemented by children extending this class")

	def print(self):
		for i in range(self.height):
			self.printRow(i)

class Square(Shape):
	def printRow(self, i):
		print(self.printChar * self.width)

class Triangle(Shape):
	def printRow(self, i):
		print(self.printChar * i)


s = Triangle()
s.print()


	class SymmetricalTriangle(Shape):
   height =5
   width = 2* height
   def printRow(self, i):
      trianglewidth = i*2+1
      padding = int((self.width - trianglewidth)/2)
      print(" "*padding + self.printChar * trianglewidth)

s = SymmetricalTriangle()
s.print()











def causeError():
  try:
    return 1/0
  except Exception as e:
    return e
causeError()





def causeError():
  try:
    return 1/0
  except Exception:
    print('Custom error handling like this !')
causeError()





def causeError():
  try:
    return 1/0
  except Exception:
    print('Custom error handling like this !')
  finally:
      print('This will always be executed')
causeError()


import time
def causeError():
  start = time.time()
  try:
    return 1/0
  except Exception:
    print('Custom error handling like this !')
  finally:
      print(f'function took {time.time()-start}seconds to execute')
causeError()





def causeError():
  try:
    return 1+'a'
  except TypeError:
    print('Ther was a Type error !')
  except ZeroDivisionError:
    print('Ther was a Zero Division error !')
  except Exception:
    print('There was some error !')
causeError()





def handleException(func):
    def wrapper():
        try:
          func()
        except TypeError:
          print('Ther was a Type error !')
        except ZeroDivisionError:
          print('Ther was a Zero Division error !')
        except Exception:
          print('There was some error !')
    return wrapper

@handleException
def causeError():
    return 1/0

causeError()





@handleException
def raiseError(n):
    if n == 0:
      raise Exception()
    print(n)

raiseError()





class CustomException(Exception):
  pass
  # def __init__(self,message):
  #   self.message = message
  # def __str__(self):
  #   return self.message

  def causeError():
    raise CustomException('This is a custom error')
causeError()





class HttpExceptions(Exception):
  statusCode = None
  message=None
  def __init__(self):
    super().__init__(f'Status Code: {self.statusCode} and message is  {self.message}')

class NotFound(HttpExceptions):
  statusCode = 404
  message = 'Not Found'

class ServerError(HttpExceptions):
  statusCode = 500
  message = 'Server is down'


def raiseServererror():
  raise ServerError()

try:
  raiseServererror()
except HttpExceptions as e:
  print(e)






class NonIntArgumentException(Exception):
    pass

# Python code​​​​​​‌‌​​‌‌‌​‌‌‌‌‌‌​​‌‌​​‌‌‌‌​ below
def handleNonIntArguments(func):
    def wrapper(*args):
        for item in args:
            if type(item) is not int:
                raise NonIntArgumentException()
        return func(*args)
    return wrapper


# Trying test case: (1, 2, 3)
@handleNonIntArguments
def sum(a, b, c):
  return a + b + c

try:
    result = sum(1, 2, 3)
    print(result)
except NonIntArgumentException as e:
    print('Hooray!')


# Trying test case: (1, 2, 'a')
@handleNonIntArguments
def sum(a, b, c):
  return a + b + c

try:
    result = sum(1, 2, 'a')
    print(result)
except NonIntArgumentException as e:
    print('NonIntException!')

















import threading
import time

def longsquare(num):
  time.sleep(1)
  return num**2


t1 = threading.Thread(target=longsquare,args=(5,))
t2 = threading.Thread(target=longsquare, args =(1,))

t1.start()
t2.start()

print(t1.join())
print(t2.join())



results ={}

def longsquare(num, results):
  time.sleep(1)
  results[num] = num**2


t1 = threading.Thread(target=longsquare,args=(5,results))
t2 = threading.Thread(target=longsquare, args =(1,results))

t1.start()
t2.start()

t1.join()
t2.join()

print(results)


#above can also be represented as
results={}
def longsquare(num, results):
  time.sleep(1)
  results[num] = num**2

threads = [threading.Thread(target=longsquare,args=(n,results)) for n in range(0,10)]
[t.start() for t in threads]
[t.join() for t in threads]

print(results)





import threading
import time

def task():
    time.sleep(2)
    print("Task completed")

t = threading.Thread(target=task)
t.start()  # Starts thread

print("Main thread continues...")  # Executes before task() finishes, note we have introduced sleep for 2s in the script def task():






t = threading.Thread(target=task)
t.start()
t.join()  # Main thread waits for t to finish then prints the below item
print("Main thread continues after task completion")



t = threading.Thread(target=task)
t.start()
t.join(1)  # Waits for max 1 second
print("Main thread continues after 1 second")





from multiprocessing import Process
import time

results ={}

def longsquare(num, results):
  time.sleep(1)
  results[num] = num**2


p1 = Process(target=longsquare,args=(5,results))
p2 = Process(target=longsquare, args =(1,results))

p1.start()
p2.start()

p1.join()
p2.join()

print(results) # no results because processes do not share memory so rather print the output from within function


from multiprocessing import Process
import time

results ={}

def longsquare(num, results):
  time.sleep(1)
  print(num**2)
  print("Finished computing!")


p1 = Process(target=longsquare,args=(5,results))
p2 = Process(target=longsquare, args =(1,results))

p1.start()
p2.start()

p1.join()
p2.join() # output is not sequential its parallel processing


results={}
def longsquare(num, results):
  time.sleep(1)
  print(num**2)
  print("Finished computing!")

Processes = [Process(target=longsquare,args=(n,results)) for n in range(0,10)]
[p.start() for p in Processes]
[p.join() for p in Processes]









f = open('/content/sample_data/sample.txt','r')
print(f)


f.readline()


f.readlines()


f = open('/content/sample_data/sample.txt','r')
for line in f.readlines():
  print(line)





f = open('/content/sample_data/sample.txt','a')
f.write('This is a new line \n') #this line only writes output to the buffer
f.close() #this line is important to write the output to the file



with open("/content/sample_data/sample.txt", "a") as file:
    content = file.write("This content will be get written to the file. \n")  # No need to call file.close()






import csv

with open('/content/sample_data/california_housing_test.csv', 'r') as f:
    reader = csv.reader(f)
    for i, rows in enumerate(reader): # enumerate creates a key => value that you unpack to i => rows
      if i > 10 : break
      print(rows)






with open('/content/sample_data/housing_tab.txt', 'r') as f:
    reader = csv.reader(f) #loding a tab delimited file
    for rows in reader:
      print(rows)


with open('/content/sample_data/housing_tab.txt', 'r') as f:
    reader = csv.reader(f,delimiter='\t') #delimiter can help you change to a tab or colon depending on csv type
    for rows in reader:
      print(rows)





with open('/content/sample_data/housing_tab.txt', 'r') as f:
    reader = csv.reader(f,delimiter='\t')
    next(reader) #skips the rows , skips the header
    next(reader) #skips the first row of data
    for rows in reader:
      print(rows)





with open('/content/sample_data/housing_tab.txt', 'r') as f:
    reader = list(csv.reader(f,delimiter='\t'))
    for rows in reader[2:]: # get same result using the list slicing
      print(rows)





with open('/content/sample_data/housing_tab.txt', 'r') as f:
    reader = csv.DictReader(f,delimiter='\t') # get output as dictonary
    for rows in reader:
      print(rows)





with open('/content/sample_data/housing_tab.txt', 'r') as f:
    data = list(csv.DictReader(f,delimiter='\t')) # get output as list of dictonary

[print(rows) for rows in data if float(rows['median_income']) > 6]





data  = [rows for rows in data if float(rows['median_income']) > 2]
with open('/content/sample_data/cal_housing_w.txt','w') as f:
  writer = csv.writer(f)
  for row in data:
    writer.writerow([row['latitude'],row['longitude'],row['population']]) #very imp write as list [] inside writerow()








import json

my_dict = '{"name": "John Doe", "age": 30, "city": "New York"}'

json.loads(my_dict)






import json

my_dict = '{"name": "John Doe", "age": 30, "city": "New York", }' # mal formed json so we use JsonDecoder with try block

json.loads(my_dict)





import json
from json import JSONDecodeError

my_dict = '{"name": "John Doe", "age": 30, "city": "New York", }' # mal formed json so we use JsonDecoder with try block
try:
  json.loads(my_dict)
except JSONDecodeError as e: # raise exception error
  print(e)





my_dict = {"name": "John Doe", "age": 30, "city": "New York", }
json.dumps(my_dict) # creates json string





class Animal:
  def __init__(self,name):
    self.name = name

class AnimalEncoder(json.JSONEncoder):
  def default(self,o):
    if isinstance(o,Animal):
      return o.__dict__
    return super().default(o)



pythonDict = {'a': Animal('elephant'),'d': Animal('dog'),'c': Animal('cat')}
json.dumps(pythonDict,cls=AnimalEncoder)





# Python code​​​​​​‌‌​​‌‌‌‌‌​‌‌‌‌‌​​‌‌​​​​​‌ below
import json
import os

def encodeString(stringVal):
    encodedList = []
    prevChar = None
    count = 0
    for char in stringVal:
        if prevChar != char and prevChar is not None:
            encodedList.append((prevChar, count))
            count = 0
        prevChar = char
        count = count + 1
    encodedList.append((prevChar, count))
    return encodedList

def decodeString(encodedList):
    decodedStr = ''
    for item in encodedList:
        decodedStr = decodedStr + item[0] * item[1]
    return decodedStr

# The filename that will be passed to this function
# is 10_04_challenge_art.txt
def encodeFile(filename, newFilename):
    with open(filename) as f:
        data = encodeString(f.read())
    with open(newFilename,'w') as f:
        f.write(json.dumps(data))


def decodeFile(filename):
    with open(filename) as f:
        data = f.read()
        return decodeString(json.loads(data))



original_filesize = os.path.getsize("/content/sample_data/challenge_art.txt")
print(f'Original file size: {original_filesize}')
encodeFile('/content/sample_data/challenge_art.txt', '/content/sample_data/challenge_art_encoded.txt')

new_filesize = os.path.getsize("/content/sample_data/challenge_art_encoded.txt")
print(f'New file size: {new_filesize}')
decoded = decodeFile('/content/sample_data/challenge_art_encoded.txt')
print(decoded)



