import pandas as pd
import numpy as np


data = {
    'A': [1, 2, 3, 4, 5],
    'B': [5, 6, 7, 8, np.nan],
    'C': ['p', 'q', 'r', 's', 's'],
    'D': [np.nan, 1.2, 3.4, 5.6, 7.8],
    'E': ['x', 'y', 'z', 'x', 'y'],
    'F': ['alpha', 'beta', 'alpha', 'gamma', 'beta'],
    'G': [10, 20, 30, 40, 50],
    'H': [100, 200, 300, 400, 500],
    'I': ['one', 'two', 'three', 'one', 'two'],
    'J': ['first', 'second', 'first', 'second', 'first'],
    'K': [np.nan, np.nan, 15, 25, 35],
    'L': ['1.1', '2.2', '3.3', '4.4', '5.5']
}

df = pd.DataFrame(data)
df.head()


# 1) print first 5 rows 
# 2) print last 5 rows 
# 3) print dimension -> shape! 
# 4) print general information 
# 5) print description (stats) about the data 
# 6) print number of missing values from the


df.head(5)


df.tail(5)


df.shape


df.ndim


df.describe()


df.info()


df.isnull().sum()


df.drop_duplicates(ignore_index=True)


# 8 Sort df on L column -> descending, (indexes are correctly ordered) 


df


df.sort_values(by='L',ascending=False,ignore_index=True)


# 9 Group df by column 'F' and calculate the mean of column 'G'. 


df.groupby('F')['G'].mean()


# 10 Group df by column 'F' and calculate the mean & max of colum H in single step


df.groupby('F')['H'].agg(['mean','max'])


#df.groupby('F')['H'].agg( H_mean=('H','mean'), H_Max=('H','max'))

df.groupby('F').agg(H_mean=('H', 'mean'), H_Max=('H', 'max'))




df = pd.read_csv('phone_usage_india.csv')
df.head()


df.info()


# 1. Find users who spend more than 8 hours on the screen daily # but have less than 500 INR of e-commerce spend 
#df_data = df.where((df['Screen Time (hrs/day)'] > 8) & (df['E-commerce Spend (INR/month)'] < 500))
df_data = df.where((df['Screen Time (hrs/day)'] > 8) & (df['E-commerce Spend (INR/month)'] < 500)).dropna()
df_data


df_data = df[
(df['Screen Time (hrs/day)'] > 8) &
(df["E-commerce Spend (INR/month)"] < 500)
]

df_data


# 2. Create a new column in the dataset that is the difference of gaming time from the screen time 

df["Screen_Gaming_Diff"] = df["Screen Time (hrs/day)"] - df["Gaming Time (hrs/day)"]

df.head()


# 3. Find the average data usage per phone brand and OS (in a single step)


sdata = df.groupby(['Phone Brand','OS'])['Data Usage (GB/month)'].mean()

df[["Phone Brand", "OS","Data Usage (GB/month)"]]




