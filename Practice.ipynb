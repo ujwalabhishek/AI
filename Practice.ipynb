{
 "cells": [
  {
   "cell_type": "markdown",
   "id": "ba4d3a86-4135-41eb-9a7a-7ff54e5bfd35",
   "metadata": {},
   "source": [
    "# Practice"
   ]
  },
  {
   "cell_type": "markdown",
   "id": "a90d50c9-7ec8-4898-98d5-a52e2ccddf19",
   "metadata": {},
   "source": [
    "1. You want to create a function that generates an array of n random real numbers between a and b. Which of the following code snippets accomplishes this?"
   ]
  },
  {
   "cell_type": "markdown",
   "id": "310ad691-28ff-4204-a2e9-c96b48370e57",
   "metadata": {},
   "source": [
    "2. Given the following NumPy array:\n",
    "\n",
    "    np_arr = np.array([5, 7, -2, 3])\n",
    "    Which of the following code snippets will correctly transform np_arr into the array shown below?\n",
    "    \n",
    "    1. np_arr.reshape(2, 2)\n",
    "    2. np_arr.reshape(2, 2).T\n",
    "    3. np_arr.reshape(2, 2).transpose()\n",
    "    4. np_arr.T.reshape(2, 2)"
   ]
  },
  {
   "cell_type": "code",
   "execution_count": 1,
   "id": "25e1e671-47df-4329-8b0f-e0a2df87be92",
   "metadata": {},
   "outputs": [],
   "source": [
    "import numpy as np\n",
    "import pandas as pd\n",
    "np_arr = np.array([5, 7, -2, 3])"
   ]
  },
  {
   "cell_type": "code",
   "execution_count": 2,
   "id": "2ae436ff-df11-4b7f-912d-93ab976c2ae5",
   "metadata": {},
   "outputs": [
    {
     "data": {
      "text/plain": [
       "array([[ 5,  7],\n",
       "       [-2,  3]])"
      ]
     },
     "execution_count": 2,
     "metadata": {},
     "output_type": "execute_result"
    }
   ],
   "source": [
    "np_arr.reshape(2, 2)"
   ]
  },
  {
   "cell_type": "code",
   "execution_count": 3,
   "id": "9aebe1fd-0e53-4ea5-9cab-f957fec506dc",
   "metadata": {},
   "outputs": [
    {
     "data": {
      "text/plain": [
       "array([[ 5, -2],\n",
       "       [ 7,  3]])"
      ]
     },
     "execution_count": 3,
     "metadata": {},
     "output_type": "execute_result"
    }
   ],
   "source": [
    "np_arr.reshape(2, 2).T"
   ]
  },
  {
   "cell_type": "code",
   "execution_count": 4,
   "id": "f882d481-e286-4be0-bcf8-5a70b21bd4aa",
   "metadata": {},
   "outputs": [
    {
     "data": {
      "text/plain": [
       "array([[ 5, -2],\n",
       "       [ 7,  3]])"
      ]
     },
     "execution_count": 4,
     "metadata": {},
     "output_type": "execute_result"
    }
   ],
   "source": [
    "np_arr.reshape(2, 2).transpose()"
   ]
  },
  {
   "cell_type": "code",
   "execution_count": 5,
   "id": "e0861f40-7f9d-48cf-957f-977bb3b335ec",
   "metadata": {},
   "outputs": [
    {
     "data": {
      "text/plain": [
       "array([[ 5,  7],\n",
       "       [-2,  3]])"
      ]
     },
     "execution_count": 5,
     "metadata": {},
     "output_type": "execute_result"
    }
   ],
   "source": [
    "np_arr.T.reshape(2, 2)"
   ]
  },
  {
   "cell_type": "markdown",
   "id": "de2d465e-7022-4dc6-b4ca-b6da99fec04e",
   "metadata": {},
   "source": [
    "3. Consider the array shown below:\n",
    "\n",
    "    np_arr = np.array([[100, 200, 300], [-150, -250, -350]])\n",
    "     \n",
    "    \n",
    "    What do the following operations do?\n",
    "    1. np_arr.reshape(-1)\n",
    "    2. np_arr.reshape(-1, 1)"
   ]
  },
  {
   "cell_type": "code",
   "execution_count": 6,
   "id": "0503c94a-121f-48c5-9900-043d6bd1c0e3",
   "metadata": {},
   "outputs": [
    {
     "data": {
      "text/plain": [
       "array([[ 100,  200,  300],\n",
       "       [-150, -250, -350]])"
      ]
     },
     "execution_count": 6,
     "metadata": {},
     "output_type": "execute_result"
    }
   ],
   "source": [
    "np_arr = np.array([[100, 200, 300], [-150, -250, -350]])\n",
    "np_arr"
   ]
  },
  {
   "cell_type": "code",
   "execution_count": 7,
   "id": "de0dc088-5b82-4b9b-bca7-de5800452283",
   "metadata": {},
   "outputs": [
    {
     "data": {
      "text/plain": [
       "array([ 100,  200,  300, -150, -250, -350])"
      ]
     },
     "execution_count": 7,
     "metadata": {},
     "output_type": "execute_result"
    }
   ],
   "source": [
    "np_arr.reshape(-1)"
   ]
  },
  {
   "cell_type": "code",
   "execution_count": 8,
   "id": "a76efdb0-e371-44fe-88aa-3ee0a30f3c7f",
   "metadata": {},
   "outputs": [
    {
     "data": {
      "text/plain": [
       "array([[ 100],\n",
       "       [ 200],\n",
       "       [ 300],\n",
       "       [-150],\n",
       "       [-250],\n",
       "       [-350]])"
      ]
     },
     "execution_count": 8,
     "metadata": {},
     "output_type": "execute_result"
    }
   ],
   "source": [
    "np_arr.reshape(-1, 1)"
   ]
  },
  {
   "cell_type": "code",
   "execution_count": 9,
   "id": "3a7ee29c-7972-4a1a-8214-b63de9ddf0fa",
   "metadata": {},
   "outputs": [
    {
     "data": {
      "text/plain": [
       "array([[ 100,  200,  300],\n",
       "       [-150, -250, -350]])"
      ]
     },
     "execution_count": 9,
     "metadata": {},
     "output_type": "execute_result"
    }
   ],
   "source": [
    "np_arr.reshape(2, -1)"
   ]
  },
  {
   "cell_type": "markdown",
   "id": "584f3a74-7040-4377-ac2a-df1a137b79ce",
   "metadata": {},
   "source": [
    "4. Consider the array shown below:\n",
    "\n",
    "    np_arr = np.array([[1, 5], [-5, 2], [3, 1]])\n",
    " \n",
    "\n",
    "What sequence of operations can be performed on np_arr to transform it into the desired array shown below:\n",
    "\n",
    "    np.array([[1, -5], [5, 2], [4, -6]])"
   ]
  },
  {
   "cell_type": "code",
   "execution_count": 10,
   "id": "8d7cf75e-b4b4-45a0-8025-cace3923087c",
   "metadata": {},
   "outputs": [
    {
     "data": {
      "text/plain": [
       "array([[ 1,  5],\n",
       "       [-5,  2],\n",
       "       [ 3,  1]])"
      ]
     },
     "execution_count": 10,
     "metadata": {},
     "output_type": "execute_result"
    }
   ],
   "source": [
    "np_arr = np.array([[1, 5], [-5, 2], [3, 1]])\n",
    "np_arr"
   ]
  },
  {
   "cell_type": "code",
   "execution_count": 11,
   "id": "f4d3f6aa-5c7a-4b76-8359-bbe715194a8a",
   "metadata": {},
   "outputs": [
    {
     "data": {
      "text/plain": [
       "array([[ 1,  5],\n",
       "       [-5,  2]])"
      ]
     },
     "execution_count": 11,
     "metadata": {},
     "output_type": "execute_result"
    }
   ],
   "source": [
    "np_arr = np.delete(np_arr, 2, 0)\n",
    "np_arr"
   ]
  },
  {
   "cell_type": "code",
   "execution_count": 12,
   "id": "ce14c6cf-456e-4181-b883-42a63aee47b8",
   "metadata": {},
   "outputs": [
    {
     "data": {
      "text/plain": [
       "array([[ 1,  5],\n",
       "       [-5,  2],\n",
       "       [ 4,  6]])"
      ]
     },
     "execution_count": 12,
     "metadata": {},
     "output_type": "execute_result"
    }
   ],
   "source": [
    "res = np.append(np_arr, [[4,6]]).reshape(3,2)\n",
    "res"
   ]
  },
  {
   "cell_type": "markdown",
   "id": "99902424-422c-4873-a413-b82b0b73ef83",
   "metadata": {},
   "source": [
    "5. Suppose you have an array img with an original shape of 32×32×3. If you want to find the mean of the array along its second (middle) dimension, what will be the resulting shape after the mean operation?"
   ]
  },
  {
   "cell_type": "code",
   "execution_count": 13,
   "id": "78ce812d-6bad-4919-9868-252f1561b18a",
   "metadata": {},
   "outputs": [],
   "source": [
    "# Great question!\n",
    "\n",
    "# You have:\n",
    "\n",
    "# img.shape = (32, 32, 3)\n",
    "# This means:\n",
    "    # 32 rows\n",
    "    # 32 columns\n",
    "    # 3 channels (e.g., RGB)\n",
    "\n",
    "# Now you're taking the mean along axis 1 (the second dimension, i.e., columns):\n",
    "\n",
    "# mean_img = np.mean(img, axis=1)\n",
    "# What happens?\n",
    "# You're reducing the 32 columns into a single value per row and channel\n",
    "\n",
    "# So the axis 1 is collapsed\n",
    "\n",
    "# Resulting shape:\n",
    "\n",
    "# (32, 3)\n",
    "# 32 rows (same)\n",
    "\n",
    "# 3 channels (same)\n",
    "\n",
    "# Columns averaged out"
   ]
  },
  {
   "cell_type": "markdown",
   "id": "edb904c3-1821-4b92-8281-3b565eee3e6a",
   "metadata": {},
   "source": [
    "6. What is the output of the following code snippet?\n",
    "\n",
    "len(df_cars[(df_cars['carbody'] == 'convertible') & (df_cars['citympg'] > 20) & (df_cars['price'] < 15000)])"
   ]
  },
  {
   "cell_type": "code",
   "execution_count": 14,
   "id": "5b3d4364-6157-4f0e-a3e0-2c8f05cf82e0",
   "metadata": {},
   "outputs": [
    {
     "data": {
      "text/html": [
       "<div>\n",
       "<style scoped>\n",
       "    .dataframe tbody tr th:only-of-type {\n",
       "        vertical-align: middle;\n",
       "    }\n",
       "\n",
       "    .dataframe tbody tr th {\n",
       "        vertical-align: top;\n",
       "    }\n",
       "\n",
       "    .dataframe thead th {\n",
       "        text-align: right;\n",
       "    }\n",
       "</style>\n",
       "<table border=\"1\" class=\"dataframe\">\n",
       "  <thead>\n",
       "    <tr style=\"text-align: right;\">\n",
       "      <th></th>\n",
       "      <th>car_ID</th>\n",
       "      <th>symboling</th>\n",
       "      <th>carname</th>\n",
       "      <th>doornumber</th>\n",
       "      <th>carbody</th>\n",
       "      <th>enginelocation</th>\n",
       "      <th>wheelbase</th>\n",
       "      <th>carlength</th>\n",
       "      <th>carwidth</th>\n",
       "      <th>carheight</th>\n",
       "      <th>...</th>\n",
       "      <th>cylindernumber</th>\n",
       "      <th>enginesize</th>\n",
       "      <th>boreratio</th>\n",
       "      <th>stroke</th>\n",
       "      <th>compressionratio</th>\n",
       "      <th>horsepower</th>\n",
       "      <th>peakrpm</th>\n",
       "      <th>citympg</th>\n",
       "      <th>highwaympg</th>\n",
       "      <th>price</th>\n",
       "    </tr>\n",
       "  </thead>\n",
       "  <tbody>\n",
       "    <tr>\n",
       "      <th>0</th>\n",
       "      <td>1</td>\n",
       "      <td>3</td>\n",
       "      <td>alfa-romero giulia</td>\n",
       "      <td>two</td>\n",
       "      <td>convertible</td>\n",
       "      <td>front</td>\n",
       "      <td>88.6</td>\n",
       "      <td>168.8</td>\n",
       "      <td>64.1</td>\n",
       "      <td>48.8</td>\n",
       "      <td>...</td>\n",
       "      <td>four</td>\n",
       "      <td>130</td>\n",
       "      <td>3.47</td>\n",
       "      <td>2.68</td>\n",
       "      <td>9.0</td>\n",
       "      <td>111</td>\n",
       "      <td>5000</td>\n",
       "      <td>21</td>\n",
       "      <td>27</td>\n",
       "      <td>13495.0</td>\n",
       "    </tr>\n",
       "    <tr>\n",
       "      <th>1</th>\n",
       "      <td>2</td>\n",
       "      <td>3</td>\n",
       "      <td>alfa-romero stelvio</td>\n",
       "      <td>two</td>\n",
       "      <td>convertible</td>\n",
       "      <td>front</td>\n",
       "      <td>88.6</td>\n",
       "      <td>168.8</td>\n",
       "      <td>64.1</td>\n",
       "      <td>48.8</td>\n",
       "      <td>...</td>\n",
       "      <td>four</td>\n",
       "      <td>130</td>\n",
       "      <td>3.47</td>\n",
       "      <td>2.68</td>\n",
       "      <td>9.0</td>\n",
       "      <td>111</td>\n",
       "      <td>5000</td>\n",
       "      <td>21</td>\n",
       "      <td>27</td>\n",
       "      <td>16500.0</td>\n",
       "    </tr>\n",
       "    <tr>\n",
       "      <th>2</th>\n",
       "      <td>3</td>\n",
       "      <td>1</td>\n",
       "      <td>alfa-romero Quadrifoglio</td>\n",
       "      <td>two</td>\n",
       "      <td>hatchback</td>\n",
       "      <td>front</td>\n",
       "      <td>94.5</td>\n",
       "      <td>171.2</td>\n",
       "      <td>65.5</td>\n",
       "      <td>52.4</td>\n",
       "      <td>...</td>\n",
       "      <td>six</td>\n",
       "      <td>152</td>\n",
       "      <td>2.68</td>\n",
       "      <td>3.47</td>\n",
       "      <td>9.0</td>\n",
       "      <td>154</td>\n",
       "      <td>5000</td>\n",
       "      <td>19</td>\n",
       "      <td>26</td>\n",
       "      <td>16500.0</td>\n",
       "    </tr>\n",
       "    <tr>\n",
       "      <th>3</th>\n",
       "      <td>4</td>\n",
       "      <td>2</td>\n",
       "      <td>audi 100 ls</td>\n",
       "      <td>four</td>\n",
       "      <td>sedan</td>\n",
       "      <td>front</td>\n",
       "      <td>99.8</td>\n",
       "      <td>176.6</td>\n",
       "      <td>66.2</td>\n",
       "      <td>54.3</td>\n",
       "      <td>...</td>\n",
       "      <td>four</td>\n",
       "      <td>109</td>\n",
       "      <td>3.19</td>\n",
       "      <td>3.40</td>\n",
       "      <td>10.0</td>\n",
       "      <td>102</td>\n",
       "      <td>5500</td>\n",
       "      <td>24</td>\n",
       "      <td>30</td>\n",
       "      <td>13950.0</td>\n",
       "    </tr>\n",
       "    <tr>\n",
       "      <th>4</th>\n",
       "      <td>5</td>\n",
       "      <td>2</td>\n",
       "      <td>audi 100ls</td>\n",
       "      <td>four</td>\n",
       "      <td>sedan</td>\n",
       "      <td>front</td>\n",
       "      <td>99.4</td>\n",
       "      <td>176.6</td>\n",
       "      <td>66.4</td>\n",
       "      <td>54.3</td>\n",
       "      <td>...</td>\n",
       "      <td>five</td>\n",
       "      <td>136</td>\n",
       "      <td>3.19</td>\n",
       "      <td>3.40</td>\n",
       "      <td>8.0</td>\n",
       "      <td>115</td>\n",
       "      <td>5500</td>\n",
       "      <td>18</td>\n",
       "      <td>22</td>\n",
       "      <td>17450.0</td>\n",
       "    </tr>\n",
       "  </tbody>\n",
       "</table>\n",
       "<p>5 rows × 21 columns</p>\n",
       "</div>"
      ],
      "text/plain": [
       "   car_ID  symboling                   carname doornumber      carbody  \\\n",
       "0       1          3        alfa-romero giulia        two  convertible   \n",
       "1       2          3       alfa-romero stelvio        two  convertible   \n",
       "2       3          1  alfa-romero Quadrifoglio        two    hatchback   \n",
       "3       4          2               audi 100 ls       four        sedan   \n",
       "4       5          2                audi 100ls       four        sedan   \n",
       "\n",
       "  enginelocation  wheelbase  carlength  carwidth  carheight  ...  \\\n",
       "0          front       88.6      168.8      64.1       48.8  ...   \n",
       "1          front       88.6      168.8      64.1       48.8  ...   \n",
       "2          front       94.5      171.2      65.5       52.4  ...   \n",
       "3          front       99.8      176.6      66.2       54.3  ...   \n",
       "4          front       99.4      176.6      66.4       54.3  ...   \n",
       "\n",
       "   cylindernumber enginesize  boreratio  stroke  compressionratio  horsepower  \\\n",
       "0            four        130       3.47    2.68               9.0         111   \n",
       "1            four        130       3.47    2.68               9.0         111   \n",
       "2             six        152       2.68    3.47               9.0         154   \n",
       "3            four        109       3.19    3.40              10.0         102   \n",
       "4            five        136       3.19    3.40               8.0         115   \n",
       "\n",
       "   peakrpm  citympg  highwaympg    price  \n",
       "0     5000       21          27  13495.0  \n",
       "1     5000       21          27  16500.0  \n",
       "2     5000       19          26  16500.0  \n",
       "3     5500       24          30  13950.0  \n",
       "4     5500       18          22  17450.0  \n",
       "\n",
       "[5 rows x 21 columns]"
      ]
     },
     "execution_count": 14,
     "metadata": {},
     "output_type": "execute_result"
    }
   ],
   "source": [
    "df_cars = pd.read_csv('data/cars_dataset.csv')\n",
    "df_cars.head()"
   ]
  },
  {
   "cell_type": "code",
   "execution_count": 15,
   "id": "4b8e31d5-0044-4ad9-a867-8b19f02c05ee",
   "metadata": {},
   "outputs": [
    {
     "data": {
      "text/plain": [
       "2"
      ]
     },
     "execution_count": 15,
     "metadata": {},
     "output_type": "execute_result"
    }
   ],
   "source": [
    "len(df_cars[(df_cars['carbody'] == 'convertible') & (df_cars['citympg'] > 20) & (df_cars['price'] < 15000)])"
   ]
  },
  {
   "cell_type": "markdown",
   "id": "de3c707a-2699-455d-97ef-e8089fb1c562",
   "metadata": {},
   "source": [
    "7. If you take the mean rating as a popularity measure, which one of the following can be used to find the name of the most popular movie?\n",
    "\n",
    "\n",
    "    df_movies.describe().transpose()['mean'].idxmax()\n",
    "    \n",
    "    df_movies.describe().loc['mean'].idxmax()\n",
    "    \n",
    "    df_movies.mean().max()\n",
    "    \n",
    "    df_movies.describe().transpose().max()['mean']"
   ]
  },
  {
   "cell_type": "code",
   "execution_count": 16,
   "id": "258cf452-73b7-4d9f-a8b0-2f91563879f0",
   "metadata": {},
   "outputs": [
    {
     "data": {
      "text/html": [
       "<div>\n",
       "<style scoped>\n",
       "    .dataframe tbody tr th:only-of-type {\n",
       "        vertical-align: middle;\n",
       "    }\n",
       "\n",
       "    .dataframe tbody tr th {\n",
       "        vertical-align: top;\n",
       "    }\n",
       "\n",
       "    .dataframe thead th {\n",
       "        text-align: right;\n",
       "    }\n",
       "</style>\n",
       "<table border=\"1\" class=\"dataframe\">\n",
       "  <thead>\n",
       "    <tr style=\"text-align: right;\">\n",
       "      <th></th>\n",
       "      <th>User</th>\n",
       "      <th>Thor</th>\n",
       "      <th>Justice League</th>\n",
       "      <th>Spiderman</th>\n",
       "      <th>The Notebook</th>\n",
       "      <th>Casablanca</th>\n",
       "      <th>Beauty and the Beast</th>\n",
       "      <th>Dolittle</th>\n",
       "      <th>The Kissing Booth</th>\n",
       "      <th>Annabelle</th>\n",
       "      <th>Insidious</th>\n",
       "    </tr>\n",
       "  </thead>\n",
       "  <tbody>\n",
       "    <tr>\n",
       "      <th>0</th>\n",
       "      <td>Arnold</td>\n",
       "      <td>6</td>\n",
       "      <td>5</td>\n",
       "      <td>6</td>\n",
       "      <td>4</td>\n",
       "      <td>5</td>\n",
       "      <td>4</td>\n",
       "      <td>9</td>\n",
       "      <td>8</td>\n",
       "      <td>2</td>\n",
       "      <td>1</td>\n",
       "    </tr>\n",
       "    <tr>\n",
       "      <th>1</th>\n",
       "      <td>Ben</td>\n",
       "      <td>9</td>\n",
       "      <td>10</td>\n",
       "      <td>8</td>\n",
       "      <td>3</td>\n",
       "      <td>1</td>\n",
       "      <td>1</td>\n",
       "      <td>2</td>\n",
       "      <td>5</td>\n",
       "      <td>7</td>\n",
       "      <td>8</td>\n",
       "    </tr>\n",
       "    <tr>\n",
       "      <th>2</th>\n",
       "      <td>Catherine</td>\n",
       "      <td>10</td>\n",
       "      <td>8</td>\n",
       "      <td>9</td>\n",
       "      <td>5</td>\n",
       "      <td>6</td>\n",
       "      <td>7</td>\n",
       "      <td>8</td>\n",
       "      <td>5</td>\n",
       "      <td>9</td>\n",
       "      <td>9</td>\n",
       "    </tr>\n",
       "    <tr>\n",
       "      <th>3</th>\n",
       "      <td>Disha</td>\n",
       "      <td>6</td>\n",
       "      <td>7</td>\n",
       "      <td>7</td>\n",
       "      <td>10</td>\n",
       "      <td>9</td>\n",
       "      <td>10</td>\n",
       "      <td>7</td>\n",
       "      <td>6</td>\n",
       "      <td>5</td>\n",
       "      <td>6</td>\n",
       "    </tr>\n",
       "    <tr>\n",
       "      <th>4</th>\n",
       "      <td>Euclid</td>\n",
       "      <td>7</td>\n",
       "      <td>4</td>\n",
       "      <td>3</td>\n",
       "      <td>5</td>\n",
       "      <td>8</td>\n",
       "      <td>5</td>\n",
       "      <td>9</td>\n",
       "      <td>10</td>\n",
       "      <td>8</td>\n",
       "      <td>7</td>\n",
       "    </tr>\n",
       "    <tr>\n",
       "      <th>5</th>\n",
       "      <td>Farhaan</td>\n",
       "      <td>6</td>\n",
       "      <td>5</td>\n",
       "      <td>9</td>\n",
       "      <td>4</td>\n",
       "      <td>4</td>\n",
       "      <td>7</td>\n",
       "      <td>9</td>\n",
       "      <td>9</td>\n",
       "      <td>5</td>\n",
       "      <td>4</td>\n",
       "    </tr>\n",
       "    <tr>\n",
       "      <th>6</th>\n",
       "      <td>Gaurav</td>\n",
       "      <td>8</td>\n",
       "      <td>8</td>\n",
       "      <td>9</td>\n",
       "      <td>3</td>\n",
       "      <td>1</td>\n",
       "      <td>1</td>\n",
       "      <td>7</td>\n",
       "      <td>5</td>\n",
       "      <td>7</td>\n",
       "      <td>7</td>\n",
       "    </tr>\n",
       "    <tr>\n",
       "      <th>7</th>\n",
       "      <td>Hilbert</td>\n",
       "      <td>6</td>\n",
       "      <td>5</td>\n",
       "      <td>8</td>\n",
       "      <td>6</td>\n",
       "      <td>5</td>\n",
       "      <td>8</td>\n",
       "      <td>10</td>\n",
       "      <td>9</td>\n",
       "      <td>2</td>\n",
       "      <td>1</td>\n",
       "    </tr>\n",
       "    <tr>\n",
       "      <th>8</th>\n",
       "      <td>Indira</td>\n",
       "      <td>10</td>\n",
       "      <td>7</td>\n",
       "      <td>9</td>\n",
       "      <td>5</td>\n",
       "      <td>6</td>\n",
       "      <td>4</td>\n",
       "      <td>2</td>\n",
       "      <td>1</td>\n",
       "      <td>6</td>\n",
       "      <td>8</td>\n",
       "    </tr>\n",
       "    <tr>\n",
       "      <th>9</th>\n",
       "      <td>Jason</td>\n",
       "      <td>10</td>\n",
       "      <td>9</td>\n",
       "      <td>9</td>\n",
       "      <td>7</td>\n",
       "      <td>4</td>\n",
       "      <td>6</td>\n",
       "      <td>1</td>\n",
       "      <td>1</td>\n",
       "      <td>5</td>\n",
       "      <td>4</td>\n",
       "    </tr>\n",
       "    <tr>\n",
       "      <th>10</th>\n",
       "      <td>Kenny</td>\n",
       "      <td>3</td>\n",
       "      <td>2</td>\n",
       "      <td>5</td>\n",
       "      <td>9</td>\n",
       "      <td>8</td>\n",
       "      <td>8</td>\n",
       "      <td>4</td>\n",
       "      <td>1</td>\n",
       "      <td>1</td>\n",
       "      <td>3</td>\n",
       "    </tr>\n",
       "    <tr>\n",
       "      <th>11</th>\n",
       "      <td>Lambert</td>\n",
       "      <td>5</td>\n",
       "      <td>6</td>\n",
       "      <td>4</td>\n",
       "      <td>10</td>\n",
       "      <td>9</td>\n",
       "      <td>8</td>\n",
       "      <td>1</td>\n",
       "      <td>2</td>\n",
       "      <td>10</td>\n",
       "      <td>9</td>\n",
       "    </tr>\n",
       "    <tr>\n",
       "      <th>12</th>\n",
       "      <td>Manish</td>\n",
       "      <td>7</td>\n",
       "      <td>6</td>\n",
       "      <td>6</td>\n",
       "      <td>5</td>\n",
       "      <td>6</td>\n",
       "      <td>8</td>\n",
       "      <td>7</td>\n",
       "      <td>6</td>\n",
       "      <td>6</td>\n",
       "      <td>5</td>\n",
       "    </tr>\n",
       "    <tr>\n",
       "      <th>13</th>\n",
       "      <td>Niti</td>\n",
       "      <td>3</td>\n",
       "      <td>3</td>\n",
       "      <td>2</td>\n",
       "      <td>7</td>\n",
       "      <td>8</td>\n",
       "      <td>7</td>\n",
       "      <td>10</td>\n",
       "      <td>9</td>\n",
       "      <td>4</td>\n",
       "      <td>5</td>\n",
       "    </tr>\n",
       "    <tr>\n",
       "      <th>14</th>\n",
       "      <td>Oliver</td>\n",
       "      <td>4</td>\n",
       "      <td>5</td>\n",
       "      <td>4</td>\n",
       "      <td>2</td>\n",
       "      <td>2</td>\n",
       "      <td>1</td>\n",
       "      <td>7</td>\n",
       "      <td>6</td>\n",
       "      <td>1</td>\n",
       "      <td>2</td>\n",
       "    </tr>\n",
       "    <tr>\n",
       "      <th>15</th>\n",
       "      <td>Pranav</td>\n",
       "      <td>8</td>\n",
       "      <td>9</td>\n",
       "      <td>8</td>\n",
       "      <td>4</td>\n",
       "      <td>1</td>\n",
       "      <td>2</td>\n",
       "      <td>3</td>\n",
       "      <td>1</td>\n",
       "      <td>8</td>\n",
       "      <td>7</td>\n",
       "    </tr>\n",
       "    <tr>\n",
       "      <th>16</th>\n",
       "      <td>Qader</td>\n",
       "      <td>8</td>\n",
       "      <td>7</td>\n",
       "      <td>8</td>\n",
       "      <td>5</td>\n",
       "      <td>4</td>\n",
       "      <td>6</td>\n",
       "      <td>3</td>\n",
       "      <td>4</td>\n",
       "      <td>6</td>\n",
       "      <td>5</td>\n",
       "    </tr>\n",
       "    <tr>\n",
       "      <th>17</th>\n",
       "      <td>Ravi</td>\n",
       "      <td>8</td>\n",
       "      <td>7</td>\n",
       "      <td>9</td>\n",
       "      <td>10</td>\n",
       "      <td>9</td>\n",
       "      <td>8</td>\n",
       "      <td>8</td>\n",
       "      <td>8</td>\n",
       "      <td>9</td>\n",
       "      <td>10</td>\n",
       "    </tr>\n",
       "    <tr>\n",
       "      <th>18</th>\n",
       "      <td>Sushant</td>\n",
       "      <td>5</td>\n",
       "      <td>8</td>\n",
       "      <td>6</td>\n",
       "      <td>1</td>\n",
       "      <td>1</td>\n",
       "      <td>2</td>\n",
       "      <td>7</td>\n",
       "      <td>8</td>\n",
       "      <td>6</td>\n",
       "      <td>5</td>\n",
       "    </tr>\n",
       "    <tr>\n",
       "      <th>19</th>\n",
       "      <td>Tavneet</td>\n",
       "      <td>1</td>\n",
       "      <td>1</td>\n",
       "      <td>4</td>\n",
       "      <td>7</td>\n",
       "      <td>6</td>\n",
       "      <td>8</td>\n",
       "      <td>9</td>\n",
       "      <td>10</td>\n",
       "      <td>1</td>\n",
       "      <td>5</td>\n",
       "    </tr>\n",
       "  </tbody>\n",
       "</table>\n",
       "</div>"
      ],
      "text/plain": [
       "         User  Thor  Justice League  Spiderman  The Notebook  Casablanca  \\\n",
       "0      Arnold     6               5          6             4           5   \n",
       "1         Ben     9              10          8             3           1   \n",
       "2   Catherine    10               8          9             5           6   \n",
       "3       Disha     6               7          7            10           9   \n",
       "4      Euclid     7               4          3             5           8   \n",
       "5     Farhaan     6               5          9             4           4   \n",
       "6      Gaurav     8               8          9             3           1   \n",
       "7     Hilbert     6               5          8             6           5   \n",
       "8      Indira    10               7          9             5           6   \n",
       "9       Jason    10               9          9             7           4   \n",
       "10      Kenny     3               2          5             9           8   \n",
       "11    Lambert     5               6          4            10           9   \n",
       "12     Manish     7               6          6             5           6   \n",
       "13       Niti     3               3          2             7           8   \n",
       "14     Oliver     4               5          4             2           2   \n",
       "15     Pranav     8               9          8             4           1   \n",
       "16      Qader     8               7          8             5           4   \n",
       "17       Ravi     8               7          9            10           9   \n",
       "18    Sushant     5               8          6             1           1   \n",
       "19    Tavneet     1               1          4             7           6   \n",
       "\n",
       "    Beauty and the Beast  Dolittle  The Kissing Booth  Annabelle  Insidious  \n",
       "0                      4         9                  8          2          1  \n",
       "1                      1         2                  5          7          8  \n",
       "2                      7         8                  5          9          9  \n",
       "3                     10         7                  6          5          6  \n",
       "4                      5         9                 10          8          7  \n",
       "5                      7         9                  9          5          4  \n",
       "6                      1         7                  5          7          7  \n",
       "7                      8        10                  9          2          1  \n",
       "8                      4         2                  1          6          8  \n",
       "9                      6         1                  1          5          4  \n",
       "10                     8         4                  1          1          3  \n",
       "11                     8         1                  2         10          9  \n",
       "12                     8         7                  6          6          5  \n",
       "13                     7        10                  9          4          5  \n",
       "14                     1         7                  6          1          2  \n",
       "15                     2         3                  1          8          7  \n",
       "16                     6         3                  4          6          5  \n",
       "17                     8         8                  8          9         10  \n",
       "18                     2         7                  8          6          5  \n",
       "19                     8         9                 10          1          5  "
      ]
     },
     "execution_count": 16,
     "metadata": {},
     "output_type": "execute_result"
    }
   ],
   "source": [
    "df_movies = pd.read_csv('data/User_Movie_Ratings.csv')\n",
    "df_movies\n"
   ]
  },
  {
   "cell_type": "code",
   "execution_count": 17,
   "id": "e08089b8-8653-4131-a719-b9a30747f393",
   "metadata": {},
   "outputs": [
    {
     "data": {
      "text/html": [
       "<div>\n",
       "<style scoped>\n",
       "    .dataframe tbody tr th:only-of-type {\n",
       "        vertical-align: middle;\n",
       "    }\n",
       "\n",
       "    .dataframe tbody tr th {\n",
       "        vertical-align: top;\n",
       "    }\n",
       "\n",
       "    .dataframe thead th {\n",
       "        text-align: right;\n",
       "    }\n",
       "</style>\n",
       "<table border=\"1\" class=\"dataframe\">\n",
       "  <thead>\n",
       "    <tr style=\"text-align: right;\">\n",
       "      <th></th>\n",
       "      <th>Thor</th>\n",
       "      <th>Justice League</th>\n",
       "      <th>Spiderman</th>\n",
       "      <th>The Notebook</th>\n",
       "      <th>Casablanca</th>\n",
       "      <th>Beauty and the Beast</th>\n",
       "      <th>Dolittle</th>\n",
       "      <th>The Kissing Booth</th>\n",
       "      <th>Annabelle</th>\n",
       "      <th>Insidious</th>\n",
       "    </tr>\n",
       "  </thead>\n",
       "  <tbody>\n",
       "    <tr>\n",
       "      <th>count</th>\n",
       "      <td>20.00000</td>\n",
       "      <td>20.00000</td>\n",
       "      <td>20.000000</td>\n",
       "      <td>20.000000</td>\n",
       "      <td>20.000000</td>\n",
       "      <td>20.000000</td>\n",
       "      <td>20.000000</td>\n",
       "      <td>20.000000</td>\n",
       "      <td>20.00000</td>\n",
       "      <td>20.000000</td>\n",
       "    </tr>\n",
       "    <tr>\n",
       "      <th>mean</th>\n",
       "      <td>6.50000</td>\n",
       "      <td>6.10000</td>\n",
       "      <td>6.650000</td>\n",
       "      <td>5.600000</td>\n",
       "      <td>5.150000</td>\n",
       "      <td>5.550000</td>\n",
       "      <td>6.150000</td>\n",
       "      <td>5.700000</td>\n",
       "      <td>5.40000</td>\n",
       "      <td>5.550000</td>\n",
       "    </tr>\n",
       "    <tr>\n",
       "      <th>std</th>\n",
       "      <td>2.50263</td>\n",
       "      <td>2.38195</td>\n",
       "      <td>2.300458</td>\n",
       "      <td>2.643761</td>\n",
       "      <td>2.852054</td>\n",
       "      <td>2.855742</td>\n",
       "      <td>3.116594</td>\n",
       "      <td>3.180533</td>\n",
       "      <td>2.81724</td>\n",
       "      <td>2.605157</td>\n",
       "    </tr>\n",
       "    <tr>\n",
       "      <th>min</th>\n",
       "      <td>1.00000</td>\n",
       "      <td>1.00000</td>\n",
       "      <td>2.000000</td>\n",
       "      <td>1.000000</td>\n",
       "      <td>1.000000</td>\n",
       "      <td>1.000000</td>\n",
       "      <td>1.000000</td>\n",
       "      <td>1.000000</td>\n",
       "      <td>1.00000</td>\n",
       "      <td>1.000000</td>\n",
       "    </tr>\n",
       "    <tr>\n",
       "      <th>25%</th>\n",
       "      <td>5.00000</td>\n",
       "      <td>5.00000</td>\n",
       "      <td>4.750000</td>\n",
       "      <td>4.000000</td>\n",
       "      <td>3.500000</td>\n",
       "      <td>3.500000</td>\n",
       "      <td>3.000000</td>\n",
       "      <td>3.500000</td>\n",
       "      <td>3.50000</td>\n",
       "      <td>4.000000</td>\n",
       "    </tr>\n",
       "    <tr>\n",
       "      <th>50%</th>\n",
       "      <td>6.50000</td>\n",
       "      <td>6.50000</td>\n",
       "      <td>7.500000</td>\n",
       "      <td>5.000000</td>\n",
       "      <td>5.500000</td>\n",
       "      <td>6.500000</td>\n",
       "      <td>7.000000</td>\n",
       "      <td>6.000000</td>\n",
       "      <td>6.00000</td>\n",
       "      <td>5.000000</td>\n",
       "    </tr>\n",
       "    <tr>\n",
       "      <th>75%</th>\n",
       "      <td>8.00000</td>\n",
       "      <td>8.00000</td>\n",
       "      <td>9.000000</td>\n",
       "      <td>7.000000</td>\n",
       "      <td>8.000000</td>\n",
       "      <td>8.000000</td>\n",
       "      <td>9.000000</td>\n",
       "      <td>8.250000</td>\n",
       "      <td>7.25000</td>\n",
       "      <td>7.250000</td>\n",
       "    </tr>\n",
       "    <tr>\n",
       "      <th>max</th>\n",
       "      <td>10.00000</td>\n",
       "      <td>10.00000</td>\n",
       "      <td>9.000000</td>\n",
       "      <td>10.000000</td>\n",
       "      <td>9.000000</td>\n",
       "      <td>10.000000</td>\n",
       "      <td>10.000000</td>\n",
       "      <td>10.000000</td>\n",
       "      <td>10.00000</td>\n",
       "      <td>10.000000</td>\n",
       "    </tr>\n",
       "  </tbody>\n",
       "</table>\n",
       "</div>"
      ],
      "text/plain": [
       "           Thor  Justice League  Spiderman  The Notebook  Casablanca  \\\n",
       "count  20.00000        20.00000  20.000000     20.000000   20.000000   \n",
       "mean    6.50000         6.10000   6.650000      5.600000    5.150000   \n",
       "std     2.50263         2.38195   2.300458      2.643761    2.852054   \n",
       "min     1.00000         1.00000   2.000000      1.000000    1.000000   \n",
       "25%     5.00000         5.00000   4.750000      4.000000    3.500000   \n",
       "50%     6.50000         6.50000   7.500000      5.000000    5.500000   \n",
       "75%     8.00000         8.00000   9.000000      7.000000    8.000000   \n",
       "max    10.00000        10.00000   9.000000     10.000000    9.000000   \n",
       "\n",
       "       Beauty and the Beast   Dolittle  The Kissing Booth  Annabelle  \\\n",
       "count             20.000000  20.000000          20.000000   20.00000   \n",
       "mean               5.550000   6.150000           5.700000    5.40000   \n",
       "std                2.855742   3.116594           3.180533    2.81724   \n",
       "min                1.000000   1.000000           1.000000    1.00000   \n",
       "25%                3.500000   3.000000           3.500000    3.50000   \n",
       "50%                6.500000   7.000000           6.000000    6.00000   \n",
       "75%                8.000000   9.000000           8.250000    7.25000   \n",
       "max               10.000000  10.000000          10.000000   10.00000   \n",
       "\n",
       "       Insidious  \n",
       "count  20.000000  \n",
       "mean    5.550000  \n",
       "std     2.605157  \n",
       "min     1.000000  \n",
       "25%     4.000000  \n",
       "50%     5.000000  \n",
       "75%     7.250000  \n",
       "max    10.000000  "
      ]
     },
     "execution_count": 17,
     "metadata": {},
     "output_type": "execute_result"
    }
   ],
   "source": [
    "df_movies.describe()"
   ]
  },
  {
   "cell_type": "code",
   "execution_count": 18,
   "id": "a2660782-361f-4c6a-a0c1-704c18ec13d7",
   "metadata": {},
   "outputs": [
    {
     "data": {
      "text/html": [
       "<div>\n",
       "<style scoped>\n",
       "    .dataframe tbody tr th:only-of-type {\n",
       "        vertical-align: middle;\n",
       "    }\n",
       "\n",
       "    .dataframe tbody tr th {\n",
       "        vertical-align: top;\n",
       "    }\n",
       "\n",
       "    .dataframe thead th {\n",
       "        text-align: right;\n",
       "    }\n",
       "</style>\n",
       "<table border=\"1\" class=\"dataframe\">\n",
       "  <thead>\n",
       "    <tr style=\"text-align: right;\">\n",
       "      <th></th>\n",
       "      <th>count</th>\n",
       "      <th>mean</th>\n",
       "      <th>std</th>\n",
       "      <th>min</th>\n",
       "      <th>25%</th>\n",
       "      <th>50%</th>\n",
       "      <th>75%</th>\n",
       "      <th>max</th>\n",
       "    </tr>\n",
       "  </thead>\n",
       "  <tbody>\n",
       "    <tr>\n",
       "      <th>Thor</th>\n",
       "      <td>20.0</td>\n",
       "      <td>6.50</td>\n",
       "      <td>2.502630</td>\n",
       "      <td>1.0</td>\n",
       "      <td>5.00</td>\n",
       "      <td>6.5</td>\n",
       "      <td>8.00</td>\n",
       "      <td>10.0</td>\n",
       "    </tr>\n",
       "    <tr>\n",
       "      <th>Justice League</th>\n",
       "      <td>20.0</td>\n",
       "      <td>6.10</td>\n",
       "      <td>2.381950</td>\n",
       "      <td>1.0</td>\n",
       "      <td>5.00</td>\n",
       "      <td>6.5</td>\n",
       "      <td>8.00</td>\n",
       "      <td>10.0</td>\n",
       "    </tr>\n",
       "    <tr>\n",
       "      <th>Spiderman</th>\n",
       "      <td>20.0</td>\n",
       "      <td>6.65</td>\n",
       "      <td>2.300458</td>\n",
       "      <td>2.0</td>\n",
       "      <td>4.75</td>\n",
       "      <td>7.5</td>\n",
       "      <td>9.00</td>\n",
       "      <td>9.0</td>\n",
       "    </tr>\n",
       "    <tr>\n",
       "      <th>The Notebook</th>\n",
       "      <td>20.0</td>\n",
       "      <td>5.60</td>\n",
       "      <td>2.643761</td>\n",
       "      <td>1.0</td>\n",
       "      <td>4.00</td>\n",
       "      <td>5.0</td>\n",
       "      <td>7.00</td>\n",
       "      <td>10.0</td>\n",
       "    </tr>\n",
       "    <tr>\n",
       "      <th>Casablanca</th>\n",
       "      <td>20.0</td>\n",
       "      <td>5.15</td>\n",
       "      <td>2.852054</td>\n",
       "      <td>1.0</td>\n",
       "      <td>3.50</td>\n",
       "      <td>5.5</td>\n",
       "      <td>8.00</td>\n",
       "      <td>9.0</td>\n",
       "    </tr>\n",
       "    <tr>\n",
       "      <th>Beauty and the Beast</th>\n",
       "      <td>20.0</td>\n",
       "      <td>5.55</td>\n",
       "      <td>2.855742</td>\n",
       "      <td>1.0</td>\n",
       "      <td>3.50</td>\n",
       "      <td>6.5</td>\n",
       "      <td>8.00</td>\n",
       "      <td>10.0</td>\n",
       "    </tr>\n",
       "    <tr>\n",
       "      <th>Dolittle</th>\n",
       "      <td>20.0</td>\n",
       "      <td>6.15</td>\n",
       "      <td>3.116594</td>\n",
       "      <td>1.0</td>\n",
       "      <td>3.00</td>\n",
       "      <td>7.0</td>\n",
       "      <td>9.00</td>\n",
       "      <td>10.0</td>\n",
       "    </tr>\n",
       "    <tr>\n",
       "      <th>The Kissing Booth</th>\n",
       "      <td>20.0</td>\n",
       "      <td>5.70</td>\n",
       "      <td>3.180533</td>\n",
       "      <td>1.0</td>\n",
       "      <td>3.50</td>\n",
       "      <td>6.0</td>\n",
       "      <td>8.25</td>\n",
       "      <td>10.0</td>\n",
       "    </tr>\n",
       "    <tr>\n",
       "      <th>Annabelle</th>\n",
       "      <td>20.0</td>\n",
       "      <td>5.40</td>\n",
       "      <td>2.817240</td>\n",
       "      <td>1.0</td>\n",
       "      <td>3.50</td>\n",
       "      <td>6.0</td>\n",
       "      <td>7.25</td>\n",
       "      <td>10.0</td>\n",
       "    </tr>\n",
       "    <tr>\n",
       "      <th>Insidious</th>\n",
       "      <td>20.0</td>\n",
       "      <td>5.55</td>\n",
       "      <td>2.605157</td>\n",
       "      <td>1.0</td>\n",
       "      <td>4.00</td>\n",
       "      <td>5.0</td>\n",
       "      <td>7.25</td>\n",
       "      <td>10.0</td>\n",
       "    </tr>\n",
       "  </tbody>\n",
       "</table>\n",
       "</div>"
      ],
      "text/plain": [
       "                      count  mean       std  min   25%  50%   75%   max\n",
       "Thor                   20.0  6.50  2.502630  1.0  5.00  6.5  8.00  10.0\n",
       "Justice League         20.0  6.10  2.381950  1.0  5.00  6.5  8.00  10.0\n",
       "Spiderman              20.0  6.65  2.300458  2.0  4.75  7.5  9.00   9.0\n",
       "The Notebook           20.0  5.60  2.643761  1.0  4.00  5.0  7.00  10.0\n",
       "Casablanca             20.0  5.15  2.852054  1.0  3.50  5.5  8.00   9.0\n",
       "Beauty and the Beast   20.0  5.55  2.855742  1.0  3.50  6.5  8.00  10.0\n",
       "Dolittle               20.0  6.15  3.116594  1.0  3.00  7.0  9.00  10.0\n",
       "The Kissing Booth      20.0  5.70  3.180533  1.0  3.50  6.0  8.25  10.0\n",
       "Annabelle              20.0  5.40  2.817240  1.0  3.50  6.0  7.25  10.0\n",
       "Insidious              20.0  5.55  2.605157  1.0  4.00  5.0  7.25  10.0"
      ]
     },
     "execution_count": 18,
     "metadata": {},
     "output_type": "execute_result"
    }
   ],
   "source": [
    "df_movies.describe().transpose()"
   ]
  },
  {
   "cell_type": "code",
   "execution_count": 19,
   "id": "11eec663-ec39-4e3a-ab10-97d0852d7932",
   "metadata": {},
   "outputs": [
    {
     "data": {
      "text/plain": [
       "'Spiderman'"
      ]
     },
     "execution_count": 19,
     "metadata": {},
     "output_type": "execute_result"
    }
   ],
   "source": [
    "df_movies.describe().transpose()['mean'].idxmax()"
   ]
  },
  {
   "cell_type": "code",
   "execution_count": 20,
   "id": "f19157cf-7c7b-46ac-8d7b-25c11e4fd695",
   "metadata": {},
   "outputs": [
    {
     "data": {
      "text/plain": [
       "'Spiderman'"
      ]
     },
     "execution_count": 20,
     "metadata": {},
     "output_type": "execute_result"
    }
   ],
   "source": [
    "df_movies.describe().loc['mean'].idxmax()"
   ]
  },
  {
   "cell_type": "code",
   "execution_count": 21,
   "id": "8e829563-3c66-43d2-aef3-6946619fec89",
   "metadata": {},
   "outputs": [
    {
     "data": {
      "text/plain": [
       "np.float64(6.65)"
      ]
     },
     "execution_count": 21,
     "metadata": {},
     "output_type": "execute_result"
    }
   ],
   "source": [
    "df_movies.describe().transpose().max()['mean']"
   ]
  },
  {
   "cell_type": "markdown",
   "id": "a8e6b162-172a-4d7a-a680-b841c875ef8f",
   "metadata": {},
   "source": [
    "How can you determine the number of cars with two doors or four doors in the df_cars dataframe?"
   ]
  },
  {
   "cell_type": "code",
   "execution_count": 22,
   "id": "eb3cc330-8059-49d4-bc7c-a160bc9e29e4",
   "metadata": {},
   "outputs": [
    {
     "data": {
      "text/plain": [
       "doornumber\n",
       "four    75\n",
       "two     72\n",
       "Name: count, dtype: int64"
      ]
     },
     "execution_count": 22,
     "metadata": {},
     "output_type": "execute_result"
    }
   ],
   "source": [
    "df_cars['doornumber'].value_counts()"
   ]
  },
  {
   "cell_type": "markdown",
   "id": "b21c29fc-9a6c-4d49-ae92-54daa0c28c9f",
   "metadata": {},
   "source": [
    "8. Let’s say you want to replace movie ratings above 5 with ‘good’ and everything else with ‘bad’ without modifying the original dataframe in place. \n",
    "\n",
    "What is the correct way of achieving this task?\n",
    "\n"
   ]
  },
  {
   "cell_type": "code",
   "execution_count": null,
   "id": "b4acbd35-e704-480d-a2c6-896c72643668",
   "metadata": {},
   "outputs": [],
   "source": [
    "def corrections(row):\n",
    "    return 'good' if strtoint(row) > 5 else 'bad'\n",
    "new_df = df_movies.map(corrections)"
   ]
  },
  {
   "cell_type": "code",
   "execution_count": null,
   "id": "49114a83-f5db-4a29-8773-ba6c7371a633",
   "metadata": {},
   "outputs": [],
   "source": []
  }
 ],
 "metadata": {
  "kernelspec": {
   "display_name": "Python 3 (ipykernel)",
   "language": "python",
   "name": "python3"
  },
  "language_info": {
   "codemirror_mode": {
    "name": "ipython",
    "version": 3
   },
   "file_extension": ".py",
   "mimetype": "text/x-python",
   "name": "python",
   "nbconvert_exporter": "python",
   "pygments_lexer": "ipython3",
   "version": "3.13.1"
  }
 },
 "nbformat": 4,
 "nbformat_minor": 5
}
