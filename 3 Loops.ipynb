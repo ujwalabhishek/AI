{
 "cells": [
  {
   "cell_type": "markdown",
   "id": "cd2a0188-497d-4c41-92b2-46b077549367",
   "metadata": {},
   "source": [
    "# Conditional Statements"
   ]
  },
  {
   "cell_type": "code",
   "execution_count": 2,
   "id": "e0597f90-7ef4-458e-972a-e47f9dd20c42",
   "metadata": {},
   "outputs": [
    {
     "name": "stdout",
     "output_type": "stream",
     "text": [
      "the number is 20\n"
     ]
    }
   ],
   "source": [
    "a = 20\n",
    "if a==20:\n",
    "    print(f\"the number is {a}\")\n",
    "else:\n",
    "    print(f\"the number is not 20\")"
   ]
  },
  {
   "cell_type": "code",
   "execution_count": 5,
   "id": "8a8e6046-2595-4292-be02-de3897aa87fe",
   "metadata": {},
   "outputs": [
    {
     "name": "stdout",
     "output_type": "stream",
     "text": [
      "3\n"
     ]
    }
   ],
   "source": [
    " d ={'Name':'Steve', 'Age':30, 'Designation':'Programmer'}\n",
    "length = sum(1 for i in d)\n",
    "print(length)"
   ]
  },
  {
   "cell_type": "markdown",
   "id": "ae33889b-36d1-4e46-a660-88f02c25784f",
   "metadata": {
    "jupyter": {
     "source_hidden": true
    }
   },
   "source": [
    "# For Loop"
   ]
  },
  {
   "cell_type": "markdown",
   "id": "6fe3e6d4-cbcd-4769-983b-865950dcab24",
   "metadata": {},
   "source": [
    "# For loop with list "
   ]
  },
  {
   "cell_type": "code",
   "execution_count": 8,
   "id": "8a065827-1719-48cd-baf1-53f9052c5879",
   "metadata": {},
   "outputs": [
    {
     "name": "stdout",
     "output_type": "stream",
     "text": [
      "1\n",
      "2\n",
      "3\n",
      "4\n",
      "5\n",
      "6\n"
     ]
    }
   ],
   "source": [
    "mylist = [1,2,3,4,5,6,]\n",
    "for item in mylist:\n",
    "    print(item)"
   ]
  },
  {
   "cell_type": "markdown",
   "id": "9148f346-de79-41d2-be83-11781ed50ae6",
   "metadata": {},
   "source": [
    "## For loop with dictonary"
   ]
  },
  {
   "cell_type": "code",
   "execution_count": 7,
   "id": "d30f59ec-afa4-48ec-858c-2e1282dc6d02",
   "metadata": {},
   "outputs": [
    {
     "name": "stdout",
     "output_type": "stream",
     "text": [
      "person1\n",
      "person2\n",
      "person3\n"
     ]
    }
   ],
   "source": [
    "d = {\n",
    "    \"person1\": {\"name\": \"John\", \"age\": 25},\n",
    "    \"person2\": {\"name\": \"Alice\", \"age\": 30},\n",
    "    \"person3\": {\"name\": \"Bob\", \"age\": 22}\n",
    "}\n",
    "\n",
    "for key in d:\n",
    "    print(key)"
   ]
  },
  {
   "cell_type": "code",
   "execution_count": 14,
   "id": "a427479f-a46d-4ea0-9d80-0fd4d93ce486",
   "metadata": {},
   "outputs": [
    {
     "name": "stdout",
     "output_type": "stream",
     "text": [
      "person1 -> {'name': 'John', 'age': 25}\n",
      "person2 -> {'name': 'Alice', 'age': 30}\n",
      "person3 -> {'name': 'Bob', 'age': 22}\n"
     ]
    }
   ],
   "source": [
    "#If You Want to Print Key-Value Pairs:\n",
    "#Modify the loop to print both keys and values:\n",
    "\n",
    "for key, value in d.items():\n",
    "    print(f\"{key} -> {value}\")"
   ]
  },
  {
   "cell_type": "code",
   "execution_count": 15,
   "id": "edbf08f5-5a22-4e06-a14e-023712e3babe",
   "metadata": {},
   "outputs": [
    {
     "name": "stdout",
     "output_type": "stream",
     "text": [
      "person1 -> John\n",
      "person2 -> Alice\n",
      "person3 -> Bob\n"
     ]
    }
   ],
   "source": [
    "for key, value in d.items():\n",
    "    print(f\"{key} -> {value['name']}\")"
   ]
  },
  {
   "cell_type": "code",
   "execution_count": 18,
   "id": "0fcf9697-f644-44ea-bb2c-7347b78a77d4",
   "metadata": {},
   "outputs": [
    {
     "data": {
      "text/plain": [
       "dict_items([('person1', {'name': 'John', 'age': 25}), ('person2', {'name': 'Alice', 'age': 30}), ('person3', {'name': 'Bob', 'age': 22})])"
      ]
     },
     "execution_count": 18,
     "metadata": {},
     "output_type": "execute_result"
    }
   ],
   "source": [
    "#In Python, .items() is a dictionary method that returns a view object containing key-value pairs as tuples.\n",
    "d.items() #returns "
   ]
  },
  {
   "cell_type": "code",
   "execution_count": 25,
   "id": "a8ca9873-2ef9-4923-bec7-a693d393e212",
   "metadata": {},
   "outputs": [
    {
     "name": "stdout",
     "output_type": "stream",
     "text": [
      "{'person1': 'JOHN\\n', 'person2': 'ALICE\\n', 'person3': 'BOB\\n'}\n"
     ]
    }
   ],
   "source": [
    "##interesting way to process items in dictonary with for loop\n",
    "\n",
    "processed_data = {k:v['name'].upper() + \"\\n\" for k,v in d.items()}\n",
    "print(processed_data)"
   ]
  },
  {
   "cell_type": "markdown",
   "id": "29fc67c4-cc9b-4e69-a109-88b675c84ae0",
   "metadata": {},
   "source": [
    "## Use of pass , continue, break in for loop "
   ]
  },
  {
   "cell_type": "code",
   "execution_count": 9,
   "id": "714b6116-f976-43de-b3c9-70ad59b8200a",
   "metadata": {},
   "outputs": [],
   "source": [
    "# pass \n",
    "\n",
    "animalLookup = {\n",
    "    'a':['aardvak','antelopwe'],\n",
    "    'b':['bear'],\n",
    "    'c':['cat'],\n",
    "    'd':['dog'],\n",
    "}\n",
    "for letter,animal in animalLookup.items():\n",
    "    pass"
   ]
  },
  {
   "cell_type": "code",
   "execution_count": 15,
   "id": "47bec54f-5fd0-43c8-9f59-e12a18512e65",
   "metadata": {},
   "outputs": [
    {
     "name": "stdout",
     "output_type": "stream",
     "text": [
      "Only one animal ['bear']\n",
      "Only one animal ['cat']\n",
      "Only one animal ['dog']\n"
     ]
    }
   ],
   "source": [
    "#continue / pass\n",
    "for letter,animal in animalLookup.items():\n",
    "    if len(animal) > 1:\n",
    "        continue\n",
    "    print(f\"Only one animal {animal}\")    \n",
    "        "
   ]
  },
  {
   "cell_type": "code",
   "execution_count": 16,
   "id": "3acbc551-8307-49b3-b4a1-84ca3f5bc5b8",
   "metadata": {},
   "outputs": [
    {
     "name": "stdout",
     "output_type": "stream",
     "text": [
      "found 2 animals ['aardvak', 'antelopwe']\n"
     ]
    }
   ],
   "source": [
    "#break\n",
    "for letter,animal in animalLookup.items():\n",
    "    if len(animal) > 1:\n",
    "        print(f\"found {len(animal)} animals {animal}\")\n",
    "        break"
   ]
  },
  {
   "cell_type": "markdown",
   "id": "a5579475-c79e-4198-b0c1-3aff1ee400ba",
   "metadata": {},
   "source": [
    "# For / Else"
   ]
  },
  {
   "cell_type": "code",
   "execution_count": 17,
   "id": "e7c00901-f5ed-46d4-95c1-d962f5312a64",
   "metadata": {},
   "outputs": [
    {
     "name": "stdout",
     "output_type": "stream",
     "text": [
      "2 is prime\n",
      "3 is prime\n",
      "5 is prime\n",
      "7 is prime\n",
      "11 is prime\n",
      "13 is prime\n",
      "17 is prime\n",
      "19 is prime\n",
      "23 is prime\n",
      "29 is prime\n",
      "31 is prime\n",
      "37 is prime\n",
      "41 is prime\n",
      "43 is prime\n",
      "47 is prime\n",
      "53 is prime\n",
      "59 is prime\n",
      "61 is prime\n",
      "67 is prime\n",
      "71 is prime\n",
      "73 is prime\n",
      "79 is prime\n",
      "83 is prime\n",
      "89 is prime\n",
      "97 is prime\n"
     ]
    }
   ],
   "source": [
    "for number in range(2,100):\n",
    "    for factor in range(2, int(number**0.5) + 1):\n",
    "        if number % factor == 0:\n",
    "            break\n",
    "    else: #this else is not for if statement it is against the for statement\n",
    "        print(f\"{number} is prime\")"
   ]
  },
  {
   "cell_type": "markdown",
   "id": "4ec41911-7ef8-4af8-9a75-8becbfa1e545",
   "metadata": {},
   "source": [
    "# While Loop"
   ]
  },
  {
   "cell_type": "code",
   "execution_count": 7,
   "id": "56c4d4d5-9b30-40d2-aa29-1534dc9f82ca",
   "metadata": {},
   "outputs": [],
   "source": [
    "from datetime import datetime\n",
    "import time\n",
    "\n",
    "while True:\n",
    "    if datetime.now().second <= 10:\n",
    "        print(datetime.now().second)\n",
    "        time.sleep(1)\n",
    "    else:\n",
    "        break"
   ]
  },
  {
   "cell_type": "code",
   "execution_count": null,
   "id": "0aeeb3df-f8a1-4354-95f3-e44f46fbd991",
   "metadata": {},
   "outputs": [],
   "source": []
  }
 ],
 "metadata": {
  "kernelspec": {
   "display_name": "Python 3 (ipykernel)",
   "language": "python",
   "name": "python3"
  },
  "language_info": {
   "codemirror_mode": {
    "name": "ipython",
    "version": 3
   },
   "file_extension": ".py",
   "mimetype": "text/x-python",
   "name": "python",
   "nbconvert_exporter": "python",
   "pygments_lexer": "ipython3",
   "version": "3.13.1"
  }
 },
 "nbformat": 4,
 "nbformat_minor": 5
}
