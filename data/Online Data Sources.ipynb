{
 "cells": [
  {
   "cell_type": "markdown",
   "id": "d9e6c557-48ea-49b3-9d53-6607d8666c2b",
   "metadata": {},
   "source": [
    "GitHub: [Awesome Public Datasets](https://github.com/caesar0301/awesome-public-datasets)\n",
    "\n",
    "Govt Of India: [Open Government Data (OGD) Platform India](https://data.gov.in/)\n",
    "\n",
    "GitHub: [DataMeet](https://github.com/datameet)"
   ]
  },
  {
   "cell_type": "code",
   "execution_count": null,
   "id": "576df456-3187-4d2c-bc59-952e0537e524",
   "metadata": {},
   "outputs": [],
   "source": []
  }
 ],
 "metadata": {
  "kernelspec": {
   "display_name": "Python 3 (ipykernel)",
   "language": "python",
   "name": "python3"
  },
  "language_info": {
   "codemirror_mode": {
    "name": "ipython",
    "version": 3
   },
   "file_extension": ".py",
   "mimetype": "text/x-python",
   "name": "python",
   "nbconvert_exporter": "python",
   "pygments_lexer": "ipython3",
   "version": "3.13.1"
  }
 },
 "nbformat": 4,
 "nbformat_minor": 5
}
