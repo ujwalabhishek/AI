{
 "cells": [
  {
   "cell_type": "markdown",
   "id": "e13e666e-e3fb-4cd2-87ac-3bf2738d25b0",
   "metadata": {},
   "source": [
    "# Basics of visualisation - Matpotlib Seaborn\n",
    "\n",
    "\n",
    "https://chatgpt.com/c/67f0c0b3-39cc-8002-b58c-e0e4b9f796a3\n",
    "\n",
    "<table>\n",
    "    <thead>\n",
    "        <tr>\n",
    "            <th>Feature</th><th><strong>Matplotlib</strong></th><th><strong>Seaborn</strong> </th>\n",
    "        </tr>\n",
    "    </thead>\n",
    "    <tbody data-start=\"223\" data-end=\"1100\"><tr data-start=\"223\" data-end=\"317\"><td><strong data-start=\"225\" data-end=\"236\">Purpose</strong></td><td>Low-level plotting library</td><td>High-level interface built on top of Matplotlib</td></tr><tr data-start=\"318\" data-end=\"428\"><td><strong data-start=\"320\" data-end=\"335\">Ease of Use</strong></td><td>Requires more code for complex plots</td><td>Simplifies complex plots with fewer lines of code</td></tr><tr data-start=\"429\" data-end=\"533\"><td><strong data-start=\"431\" data-end=\"445\">Aesthetics</strong></td><td>Basic styling by default</td><td>Better-looking plots by default (themes, color palettes)</td></tr><tr data-start=\"534\" data-end=\"659\"><td><strong data-start=\"536\" data-end=\"553\">Customization</strong></td><td>Very flexible and highly customizable</td><td>Customizable but limited to what Matplotlib allows underneath</td></tr><tr data-start=\"660\" data-end=\"785\"><td><strong data-start=\"662\" data-end=\"676\">Plot Types</strong></td><td>Basic plots (line, bar, scatter, etc.)</td><td>Statistical plots (violin, box, swarm, pairplot, heatmap, etc.)</td></tr><tr data-start=\"786\" data-end=\"912\"><td><strong data-start=\"788\" data-end=\"803\">Integration</strong></td><td>Lower-level, must manually handle DataFrames</td><td>Works well with Pandas DataFrames and integrates smoothly</td></tr><tr data-start=\"913\" data-end=\"1005\"><td><strong data-start=\"915\" data-end=\"925\">Themes</strong></td><td>Manual styling</td><td>Comes with built-in themes (<code data-start=\"973\" data-end=\"983\">darkgrid</code>, <code data-start=\"985\" data-end=\"996\">whitegrid</code>, etc.)</td></tr><tr data-start=\"1006\" data-end=\"1100\"><td><strong data-start=\"1008\" data-end=\"1026\">Learning Curve</strong></td><td>Steeper</td><td>Easier for beginners doing statistical or exploratory plots</td></tr></tbody></table>"
   ]
  },
  {
   "cell_type": "code",
   "execution_count": 2,
   "id": "d03f45fe-0360-46cc-8755-b14f16db3bbb",
   "metadata": {},
   "outputs": [],
   "source": [
    "import seaborn as sns\n",
    "import matplotlib as plt\n",
    "#scatter plor\n",
    "sns.scatterplot(data=amzn,x='Open',y='Close')\n",
    "plt.figure(figsize=(12,12))\n",
    "plt.title(\"Open Close Relation AMZN\")\n",
    "plt.xlable(\"Open Price\")\n",
    "plt.ylable(\"Close Price\")"
   ]
  },
  {
   "cell_type": "code",
   "execution_count": 3,
   "id": "b67d1f27-7e4b-4047-b645-77494b89cdf3",
   "metadata": {},
   "outputs": [
    {
     "ename": "SyntaxError",
     "evalue": "invalid decimal literal (1338845890.py, line 4)",
     "output_type": "error",
     "traceback": [
      "\u001b[1;36m  Cell \u001b[1;32mIn[3], line 4\u001b[1;36m\u001b[0m\n\u001b[1;33m    https://drive.google.com/drive/folders/1WrEFfTu-m8CoINciTl2I2E5FcRr_7q5O?usp=drive_link || D9 || 11,48 AM IST ||\u001b[0m\n\u001b[1;37m                                           ^\u001b[0m\n\u001b[1;31mSyntaxError\u001b[0m\u001b[1;31m:\u001b[0m invalid decimal literal\n"
     ]
    }
   ],
   "source": [
    "sns._(data=df, x='',y='')\n",
    "\n",
    "\n",
    "https://drive.google.com/drive/folders/1WrEFfTu-m8CoINciTl2I2E5FcRr_7q5O?usp=drive_link || D9 || 11,48 AM IST ||\n"
   ]
  },
  {
   "cell_type": "markdown",
   "id": "f5160505-da89-4665-a3d1-ccbdd737ab92",
   "metadata": {},
   "source": [
    "https://drive.google.com/drive/folders/1WrEFfTu-m8CoINciTl2I2E5FcRr_7q5O?usp=drive_link || D9 || 11,48 AM IST ||"
   ]
  },
  {
   "cell_type": "markdown",
   "id": "19fb4471-7169-4439-8fc4-d181045ce2f7",
   "metadata": {},
   "source": [
    "https://drive.google.com/drive/folders/1Ke2ZZ-DtPehhHfTLdpMAf1SkxwkPaNm1?usp=drive_link"
   ]
  },
  {
   "cell_type": "code",
   "execution_count": null,
   "id": "30542a29-070c-4ec4-90dd-e039a688fde9",
   "metadata": {},
   "outputs": [],
   "source": []
  }
 ],
 "metadata": {
  "kernelspec": {
   "display_name": "Python 3 (ipykernel)",
   "language": "python",
   "name": "python3"
  },
  "language_info": {
   "codemirror_mode": {
    "name": "ipython",
    "version": 3
   },
   "file_extension": ".py",
   "mimetype": "text/x-python",
   "name": "python",
   "nbconvert_exporter": "python",
   "pygments_lexer": "ipython3",
   "version": "3.13.1"
  }
 },
 "nbformat": 4,
 "nbformat_minor": 5
}
