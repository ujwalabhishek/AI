{
 "cells": [
  {
   "cell_type": "markdown",
   "metadata": {
    "colab_type": "text",
    "id": "1h__F05n0cYN"
   },
   "source": [
    "# Practice Exercise"
   ]
  },
  {
   "cell_type": "markdown",
   "metadata": {
    "colab_type": "text",
    "id": "qEzf6y1409zw"
   },
   "source": [
    "Question 1: Print a random integer between 100 and 135"
   ]
  },
  {
   "cell_type": "code",
   "execution_count": 3,
   "metadata": {
    "colab": {},
    "colab_type": "code",
    "id": "yisQGrBd0bzN"
   },
   "outputs": [
    {
     "name": "stdout",
     "output_type": "stream",
     "text": [
      "7\n"
     ]
    }
   ],
   "source": [
    "# Import required libraries:\n",
    "from random import seed\n",
    "from random import randint\n",
    "\n",
    "# Print a random integer in the given range:\n",
    "s = randint(2,10)\n",
    "print(s)"
   ]
  },
  {
   "cell_type": "markdown",
   "metadata": {
    "colab_type": "text",
    "id": "vxC8oK_G1w_O"
   },
   "source": [
    "Question 2: Create a list consisting of first 10 even numbers."
   ]
  },
  {
   "cell_type": "code",
   "execution_count": 4,
   "metadata": {
    "colab": {},
    "colab_type": "code",
    "id": "CQ9oPVOf1UZB"
   },
   "outputs": [
    {
     "data": {
      "text/plain": [
       "[2, 4, 6, 8, 10]"
      ]
     },
     "execution_count": 4,
     "metadata": {},
     "output_type": "execute_result"
    }
   ],
   "source": [
    "# Create a list according to the given condition:\n",
    "list([2,4,6,8,10])"
   ]
  },
  {
   "cell_type": "markdown",
   "metadata": {
    "colab_type": "text",
    "id": "GP-3AHb52piM"
   },
   "source": [
    "Question 3: Create a list in the following manner: [birthyear, firstname, birthdate, lastname]"
   ]
  },
  {
   "cell_type": "code",
   "execution_count": 6,
   "metadata": {
    "colab": {},
    "colab_type": "code",
    "id": "D3bKLI8z2lSx"
   },
   "outputs": [
    {
     "data": {
      "text/plain": [
       "[1984, 'Ujwal', 24, 'Abhishek']"
      ]
     },
     "execution_count": 6,
     "metadata": {},
     "output_type": "execute_result"
    }
   ],
   "source": [
    "# Create a list according to the given condition:\n",
    "list([1984,'Ujwal',24,'Abhishek'])"
   ]
  },
  {
   "cell_type": "markdown",
   "metadata": {
    "colab_type": "text",
    "id": "iKABjdd73bSO"
   },
   "source": [
    "Question 4: Create a nested list which consist of 2 students and their scores in mathematics and english:\n",
    "\n",
    "Students: Alex and Cody\n",
    "\n",
    "Alex scores 97 and 95 in mathematics and english respectively,\n",
    "\n",
    "Cody scores 89 and 92 in mathematics and english respectively.\n",
    "\n",
    "The list should be such that it first stores the name of students followed by the subjects and then their scores in nested lists."
   ]
  },
  {
   "cell_type": "code",
   "execution_count": 7,
   "metadata": {
    "colab": {},
    "colab_type": "code",
    "id": "oyaA3mz73Zds"
   },
   "outputs": [
    {
     "data": {
      "text/plain": [
       "[['Alex', ['English', 97], ['maths', 95]],\n",
       " ['Cody', ['English', 89], ['maths', 92]]]"
      ]
     },
     "execution_count": 7,
     "metadata": {},
     "output_type": "execute_result"
    }
   ],
   "source": [
    "# Create a list according to the given condition:\n",
    "list([\n",
    "    ['Alex',['English',97],['maths',95]],\n",
    "    ['Cody',['English',89],['maths',92]],\n",
    "])\n"
   ]
  },
  {
   "cell_type": "markdown",
   "metadata": {
    "colab_type": "text",
    "id": "jycP6fUg4njv"
   },
   "source": [
    "Question 5: Given below is a list, find out whether is has the letter 'k' in it and print the result as true or false."
   ]
  },
  {
   "cell_type": "code",
   "execution_count": 9,
   "metadata": {
    "colab": {},
    "colab_type": "code",
    "id": "r-05TqnN4hub"
   },
   "outputs": [
    {
     "name": "stdout",
     "output_type": "stream",
     "text": [
      "True\n"
     ]
    }
   ],
   "source": [
    "# Given below is a list:\n",
    "list3=[1,2,'r',7,'k',6,'o','h','d',5,9]\n",
    "\n",
    "# Define the character you are searching for:\n",
    "\n",
    "# print the result:\n",
    "print('k' in list3)"
   ]
  },
  {
   "cell_type": "markdown",
   "metadata": {
    "colab_type": "text",
    "id": "NT-4hspO55TH"
   },
   "source": [
    "Question 6: In the tuple given below, print the 3rd element."
   ]
  },
  {
   "cell_type": "code",
   "execution_count": 15,
   "metadata": {
    "colab": {},
    "colab_type": "code",
    "id": "J-CCGlN56gea"
   },
   "outputs": [
    {
     "data": {
      "text/plain": [
       "'world'"
      ]
     },
     "execution_count": 15,
     "metadata": {},
     "output_type": "execute_result"
    }
   ],
   "source": [
    "# Given below is the tuple:\n",
    "tuple1=(1,'hello','world','567')\n",
    "\n",
    "# Print the 3rd element:\n",
    "tuple1[2]"
   ]
  },
  {
   "cell_type": "markdown",
   "metadata": {
    "colab_type": "text",
    "id": "wx6WT1K255WN"
   },
   "source": [
    "Question 7: Given below is a tuple. Sort the tuple and print the result."
   ]
  },
  {
   "cell_type": "code",
   "execution_count": 16,
   "metadata": {
    "colab": {},
    "colab_type": "code",
    "id": "VWmBEUud7MQ4"
   },
   "outputs": [
    {
     "data": {
      "text/plain": [
       "[1, 3, 25, 54, 67, 100]"
      ]
     },
     "execution_count": 16,
     "metadata": {},
     "output_type": "execute_result"
    }
   ],
   "source": [
    "# Given below is the tuple:\n",
    "tuple2=(1,25,67,100,3,54)\n",
    "\n",
    "# Sort the tuple:\n",
    "\n",
    "# Print the result:\n",
    "sorted(tuple2)"
   ]
  },
  {
   "cell_type": "markdown",
   "metadata": {
    "colab_type": "text",
    "id": "nSSJcxQJ55ZU"
   },
   "source": [
    "Question 8: Given below is a list, convert into a set and print the output also print the length of the set."
   ]
  },
  {
   "cell_type": "code",
   "execution_count": 18,
   "metadata": {
    "colab": {},
    "colab_type": "code",
    "id": "m8CcJfyB87eP"
   },
   "outputs": [
    {
     "name": "stdout",
     "output_type": "stream",
     "text": [
      "{1, 2, 3, 4, 5, 6, 7}\n"
     ]
    },
    {
     "data": {
      "text/plain": [
       "7"
      ]
     },
     "execution_count": 18,
     "metadata": {},
     "output_type": "execute_result"
    }
   ],
   "source": [
    "# Given below is the list:\n",
    "list4=[1,2,4,6,3,2,5,4,7,4,6,5,3,2,2,1]\n",
    "\n",
    "# Convert the list into set:\n",
    "myset = set(list4)\n",
    "# Print the result:\n",
    "print(myset)\n",
    "# Print the length of the set:\n",
    "len(myset)"
   ]
  },
  {
   "cell_type": "markdown",
   "metadata": {
    "colab_type": "text",
    "id": "lbbGNfhh55cy"
   },
   "source": [
    "Question 9: Given below are two sets, perform the operations given below:\n",
    "1. Print their union\n",
    "2. Print their intersection\n",
    "3. Print their difference\n",
    "4. Print their symmetric difference"
   ]
  },
  {
   "cell_type": "code",
   "execution_count": 22,
   "metadata": {
    "colab": {},
    "colab_type": "code",
    "id": "04IIzknZ9-ZP"
   },
   "outputs": [
    {
     "name": "stdout",
     "output_type": "stream",
     "text": [
      "{1, 2, 3, 4, 5, 6, 7, 8, 9}\n",
      "{2, 3, 5}\n",
      "{1, 6, 7}\n",
      "{1, 4, 6, 7, 8, 9}\n"
     ]
    }
   ],
   "source": [
    "# Given below are two sets:\n",
    "a={1,2,3,5,6,7}\n",
    "b={4,5,8,9,2,3}\n",
    "\n",
    "# Print their union:\n",
    "s = a.union(b)\n",
    "print(s)\n",
    "# Print their intersection:\n",
    "s = a.intersection(b)\n",
    "print(s)\n",
    "# Print their difference:\n",
    "s = a.difference(b)\n",
    "print(s)\n",
    "# Print their symmetric difference:\n",
    "s = a.symmetric_difference(b)\n",
    "print(s)"
   ]
  },
  {
   "cell_type": "markdown",
   "metadata": {
    "colab_type": "text",
    "id": "aNFcEjza55fq"
   },
   "source": [
    "Question 10: Create a dictionary that stores the names and roll numbers of 5 students as given below:\n",
    "1. Sam, 21\n",
    "2. Cody, 12\n",
    "3. Addy, 3\n",
    "4. Zach, 45\n",
    "5. Amy, 6"
   ]
  },
  {
   "cell_type": "code",
   "execution_count": 23,
   "metadata": {
    "colab": {},
    "colab_type": "code",
    "id": "Wf2kp70A_IfD"
   },
   "outputs": [
    {
     "data": {
      "text/plain": [
       "{'Sam': 21, 'Cody': 12, 'Addy': 3, 'Zach': 45, 'Amy': 6}"
      ]
     },
     "execution_count": 23,
     "metadata": {},
     "output_type": "execute_result"
    }
   ],
   "source": [
    "# Create a dictionary:\n",
    "d = {'Sam':21,\n",
    "        'Cody':12,\n",
    "        'Addy': 3,\n",
    "        'Zach': 45,\n",
    "        'Amy': 6\n",
    "    }\n",
    "# Print the result:\n",
    "d"
   ]
  },
  {
   "cell_type": "markdown",
   "metadata": {
    "colab_type": "text",
    "id": "iFKlCBIA5WjL"
   },
   "source": [
    "Question 11: Due to admission of new students the roll number of zach has changed from 45 to 47. Make the required changes and print the new dictionary."
   ]
  },
  {
   "cell_type": "code",
   "execution_count": 25,
   "metadata": {
    "colab": {},
    "colab_type": "code",
    "id": "rE_fsHnYEZFk"
   },
   "outputs": [
    {
     "data": {
      "text/plain": [
       "{'Sam': 21, 'Cody': 12, 'Addy': 3, 'Zach': 47, 'Amy': 6}"
      ]
     },
     "execution_count": 25,
     "metadata": {},
     "output_type": "execute_result"
    }
   ],
   "source": [
    "# Update the roll number:\n",
    "d['Zach'] = 47\n",
    "\n",
    "# Print the new dictionary:\n",
    "d"
   ]
  },
  {
   "cell_type": "markdown",
   "metadata": {
    "colab_type": "text",
    "id": "MyrZDHMl55ir"
   },
   "source": [
    "Question 12: Sort the dictionary according to roll number.\n"
   ]
  },
  {
   "cell_type": "code",
   "execution_count": 26,
   "metadata": {
    "colab": {},
    "colab_type": "code",
    "id": "NrdUqjkvEpRC"
   },
   "outputs": [
    {
     "ename": "AttributeError",
     "evalue": "'dict' object has no attribute 'sort'",
     "output_type": "error",
     "traceback": [
      "\u001b[1;31m---------------------------------------------------------------------------\u001b[0m",
      "\u001b[1;31mAttributeError\u001b[0m                            Traceback (most recent call last)",
      "Cell \u001b[1;32mIn[26], line 3\u001b[0m\n\u001b[0;32m      1\u001b[0m \u001b[38;5;66;03m# Sort and print the students roll number wise in ascending order:\u001b[39;00m\n\u001b[1;32m----> 3\u001b[0m \u001b[43md\u001b[49m\u001b[38;5;241;43m.\u001b[39;49m\u001b[43msort\u001b[49m()\n",
      "\u001b[1;31mAttributeError\u001b[0m: 'dict' object has no attribute 'sort'"
     ]
    }
   ],
   "source": [
    "# Sort and print the students roll number wise in ascending order:\n"
   ]
  },
  {
   "cell_type": "code",
   "execution_count": 27,
   "metadata": {},
   "outputs": [
    {
     "data": {
      "text/plain": [
       "['Addy', 'Amy', 'Cody', 'Sam', 'Zach']"
      ]
     },
     "execution_count": 27,
     "metadata": {},
     "output_type": "execute_result"
    }
   ],
   "source": [
    "sorted(d)"
   ]
  },
  {
   "cell_type": "code",
   "execution_count": null,
   "metadata": {},
   "outputs": [],
   "source": []
  }
 ],
 "metadata": {
  "colab": {
   "name": "Data structures in Python.ipynb",
   "provenance": []
  },
  "kernelspec": {
   "display_name": "Python 3 (ipykernel)",
   "language": "python",
   "name": "python3"
  },
  "language_info": {
   "codemirror_mode": {
    "name": "ipython",
    "version": 3
   },
   "file_extension": ".py",
   "mimetype": "text/x-python",
   "name": "python",
   "nbconvert_exporter": "python",
   "pygments_lexer": "ipython3",
   "version": "3.13.1"
  }
 },
 "nbformat": 4,
 "nbformat_minor": 4
}
