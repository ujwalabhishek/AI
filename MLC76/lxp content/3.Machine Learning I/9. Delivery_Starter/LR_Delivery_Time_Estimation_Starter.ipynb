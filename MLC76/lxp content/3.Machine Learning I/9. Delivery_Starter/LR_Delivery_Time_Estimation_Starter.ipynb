{
  "cells": [
    {
      "cell_type": "markdown",
      "metadata": {
        "id": "8uOZe3UO68U-"
      },
      "source": [
        "# Order Delivery Time Prediction"
      ]
    },
    {
      "cell_type": "code",
      "execution_count": 14,
      "metadata": {
        "colab": {
          "base_uri": "https://localhost:8080/"
        },
        "id": "hWOAIPbcvsZS",
        "outputId": "8b7d3de5-8fce-4f83-c906-ff1e1c213738"
      },
      "outputs": [
        {
          "output_type": "stream",
          "name": "stdout",
          "text": [
            "Drive already mounted at /content/drive; to attempt to forcibly remount, call drive.mount(\"/content/drive\", force_remount=True).\n"
          ]
        }
      ],
      "source": [
        "from google.colab import drive\n",
        "drive.mount('/content/drive')"
      ]
    },
    {
      "cell_type": "markdown",
      "metadata": {
        "id": "Qd9e2-HF6_85"
      },
      "source": [
        "## Objectives\n",
        "The objective of this assignment is to build a regression model that predicts the delivery time for orders placed through Porter. The model will use various features such as the items ordered, the restaurant location, the order protocol, and the availability of delivery partners.\n",
        "\n",
        "The key goals are:\n",
        "- Predict the delivery time for an order based on multiple input features\n",
        "- Improve delivery time predictions to optimiae operational efficiency\n",
        "- Understand the key factors influencing delivery time to enhance the model's accuracy"
      ]
    },
    {
      "cell_type": "markdown",
      "metadata": {
        "id": "AcC6tJ2p7F2p"
      },
      "source": [
        "## Data Pipeline\n",
        "The data pipeline for this assignment will involve the following steps:\n",
        "1. **Data Loading**\n",
        "2. **Data Preprocessing and Feature Engineering**\n",
        "3. **Exploratory Data Analysis**\n",
        "4. **Model Building**\n",
        "5. **Model Inference**"
      ]
    },
    {
      "cell_type": "markdown",
      "metadata": {
        "id": "uGOQI_f72jV1"
      },
      "source": [
        "## Data Understanding\n",
        "The dataset contains information on orders placed through Porter, with the following columns:\n",
        "\n",
        "| Field                     | Description                                                                                 |\n",
        "|---------------------------|---------------------------------------------------------------------------------------------|\n",
        "| market_id                 | Integer ID representing the market where the restaurant is located.                         |\n",
        "| created_at                | Timestamp when the order was placed.                                                        |\n",
        "| actual_delivery_time      | Timestamp when the order was delivered.                                                     |\n",
        "| store_primary_category    | Category of the restaurant (e.g., fast food, dine-in).                                      |\n",
        "| order_protocol            | Integer representing how the order was placed (e.g., via Porter, call to restaurant, etc.). |\n",
        "| total_items               | Total number of items in the order.                                                         |\n",
        "| subtotal                  | Final price of the order.                                                                   |\n",
        "| num_distinct_items        | Number of distinct items in the order.                                                      |\n",
        "| min_item_price            | Price of the cheapest item in the order.                                                    |\n",
        "| max_item_price            | Price of the most expensive item in the order.                                              |\n",
        "| total_onshift_dashers     | Number of delivery partners on duty when the order was placed.                              |\n",
        "| total_busy_dashers        | Number of delivery partners already occupied with other orders.                             |\n",
        "| total_outstanding_orders  | Number of orders pending fulfillment at the time of the order.                              |\n",
        "| distance                  | Total distance from the restaurant to the customer.                                         |\n"
      ]
    },
    {
      "cell_type": "markdown",
      "metadata": {
        "id": "5QoCQFDzHUWP"
      },
      "source": [
        "## **Importing Necessary Libraries**"
      ]
    },
    {
      "cell_type": "code",
      "execution_count": 15,
      "metadata": {
        "id": "jun9CeAc7QOw"
      },
      "outputs": [],
      "source": [
        "# Import essential libraries for data manipulation and analysis\n",
        "\n",
        "import numpy as np\n",
        "import pandas as pd\n",
        "\n",
        "import matplotlib.pyplot as plt\n",
        "import seaborn as sns\n",
        "\n",
        "from sklearn.model_selection import train_test_split\n",
        "from sklearn.preprocessing import StandardScaler, OneHotEncoder\n",
        "from sklearn.compose import ColumnTransformer\n",
        "from sklearn.pipeline import Pipeline\n",
        "from sklearn.linear_model import LinearRegression\n",
        "from sklearn.metrics import mean_squared_error\n",
        "\n",
        "import warnings\n",
        "warnings.filterwarnings('ignore')"
      ]
    },
    {
      "cell_type": "markdown",
      "metadata": {
        "id": "MueJxkvUIII3"
      },
      "source": [
        "## **1. Loading the data**\n",
        "Load 'porter_data_1.csv' as a DataFrame"
      ]
    },
    {
      "cell_type": "code",
      "execution_count": 16,
      "metadata": {
        "colab": {
          "base_uri": "https://localhost:8080/",
          "height": 330
        },
        "id": "VJS8ZRJXHTwv",
        "outputId": "b93b4764-1f54-416c-aef5-0b741f8415b2"
      },
      "outputs": [
        {
          "output_type": "stream",
          "name": "stdout",
          "text": [
            "Drive already mounted at /content/drive; to attempt to forcibly remount, call drive.mount(\"/content/drive\", force_remount=True).\n"
          ]
        },
        {
          "output_type": "execute_result",
          "data": {
            "text/plain": [
              "   market_id           created_at actual_delivery_time  \\\n",
              "0        1.0  2015-02-06 22:24:17  2015-02-06 23:11:17   \n",
              "1        2.0  2015-02-10 21:49:25  2015-02-10 22:33:25   \n",
              "2        2.0  2015-02-16 00:11:35  2015-02-16 01:06:35   \n",
              "3        1.0  2015-02-12 03:36:46  2015-02-12 04:35:46   \n",
              "4        1.0  2015-01-27 02:12:36  2015-01-27 02:58:36   \n",
              "\n",
              "   store_primary_category  order_protocol  total_items  subtotal  \\\n",
              "0                       4             1.0            4      3441   \n",
              "1                      46             2.0            1      1900   \n",
              "2                      36             3.0            4      4771   \n",
              "3                      38             1.0            1      1525   \n",
              "4                      38             1.0            2      3620   \n",
              "\n",
              "   num_distinct_items  min_item_price  max_item_price  total_onshift_dashers  \\\n",
              "0                   4             557            1239                   33.0   \n",
              "1                   1            1400            1400                    1.0   \n",
              "2                   3             820            1604                    8.0   \n",
              "3                   1            1525            1525                    5.0   \n",
              "4                   2            1425            2195                    5.0   \n",
              "\n",
              "   total_busy_dashers  total_outstanding_orders  distance  \n",
              "0                14.0                      21.0     34.44  \n",
              "1                 2.0                       2.0     27.60  \n",
              "2                 6.0                      18.0     11.56  \n",
              "3                 6.0                       8.0     31.80  \n",
              "4                 5.0                       7.0      8.20  "
            ],
            "text/html": [
              "\n",
              "  <div id=\"df-eb3efd7f-2ca2-4e27-8674-1ef794128c27\" class=\"colab-df-container\">\n",
              "    <div>\n",
              "<style scoped>\n",
              "    .dataframe tbody tr th:only-of-type {\n",
              "        vertical-align: middle;\n",
              "    }\n",
              "\n",
              "    .dataframe tbody tr th {\n",
              "        vertical-align: top;\n",
              "    }\n",
              "\n",
              "    .dataframe thead th {\n",
              "        text-align: right;\n",
              "    }\n",
              "</style>\n",
              "<table border=\"1\" class=\"dataframe\">\n",
              "  <thead>\n",
              "    <tr style=\"text-align: right;\">\n",
              "      <th></th>\n",
              "      <th>market_id</th>\n",
              "      <th>created_at</th>\n",
              "      <th>actual_delivery_time</th>\n",
              "      <th>store_primary_category</th>\n",
              "      <th>order_protocol</th>\n",
              "      <th>total_items</th>\n",
              "      <th>subtotal</th>\n",
              "      <th>num_distinct_items</th>\n",
              "      <th>min_item_price</th>\n",
              "      <th>max_item_price</th>\n",
              "      <th>total_onshift_dashers</th>\n",
              "      <th>total_busy_dashers</th>\n",
              "      <th>total_outstanding_orders</th>\n",
              "      <th>distance</th>\n",
              "    </tr>\n",
              "  </thead>\n",
              "  <tbody>\n",
              "    <tr>\n",
              "      <th>0</th>\n",
              "      <td>1.0</td>\n",
              "      <td>2015-02-06 22:24:17</td>\n",
              "      <td>2015-02-06 23:11:17</td>\n",
              "      <td>4</td>\n",
              "      <td>1.0</td>\n",
              "      <td>4</td>\n",
              "      <td>3441</td>\n",
              "      <td>4</td>\n",
              "      <td>557</td>\n",
              "      <td>1239</td>\n",
              "      <td>33.0</td>\n",
              "      <td>14.0</td>\n",
              "      <td>21.0</td>\n",
              "      <td>34.44</td>\n",
              "    </tr>\n",
              "    <tr>\n",
              "      <th>1</th>\n",
              "      <td>2.0</td>\n",
              "      <td>2015-02-10 21:49:25</td>\n",
              "      <td>2015-02-10 22:33:25</td>\n",
              "      <td>46</td>\n",
              "      <td>2.0</td>\n",
              "      <td>1</td>\n",
              "      <td>1900</td>\n",
              "      <td>1</td>\n",
              "      <td>1400</td>\n",
              "      <td>1400</td>\n",
              "      <td>1.0</td>\n",
              "      <td>2.0</td>\n",
              "      <td>2.0</td>\n",
              "      <td>27.60</td>\n",
              "    </tr>\n",
              "    <tr>\n",
              "      <th>2</th>\n",
              "      <td>2.0</td>\n",
              "      <td>2015-02-16 00:11:35</td>\n",
              "      <td>2015-02-16 01:06:35</td>\n",
              "      <td>36</td>\n",
              "      <td>3.0</td>\n",
              "      <td>4</td>\n",
              "      <td>4771</td>\n",
              "      <td>3</td>\n",
              "      <td>820</td>\n",
              "      <td>1604</td>\n",
              "      <td>8.0</td>\n",
              "      <td>6.0</td>\n",
              "      <td>18.0</td>\n",
              "      <td>11.56</td>\n",
              "    </tr>\n",
              "    <tr>\n",
              "      <th>3</th>\n",
              "      <td>1.0</td>\n",
              "      <td>2015-02-12 03:36:46</td>\n",
              "      <td>2015-02-12 04:35:46</td>\n",
              "      <td>38</td>\n",
              "      <td>1.0</td>\n",
              "      <td>1</td>\n",
              "      <td>1525</td>\n",
              "      <td>1</td>\n",
              "      <td>1525</td>\n",
              "      <td>1525</td>\n",
              "      <td>5.0</td>\n",
              "      <td>6.0</td>\n",
              "      <td>8.0</td>\n",
              "      <td>31.80</td>\n",
              "    </tr>\n",
              "    <tr>\n",
              "      <th>4</th>\n",
              "      <td>1.0</td>\n",
              "      <td>2015-01-27 02:12:36</td>\n",
              "      <td>2015-01-27 02:58:36</td>\n",
              "      <td>38</td>\n",
              "      <td>1.0</td>\n",
              "      <td>2</td>\n",
              "      <td>3620</td>\n",
              "      <td>2</td>\n",
              "      <td>1425</td>\n",
              "      <td>2195</td>\n",
              "      <td>5.0</td>\n",
              "      <td>5.0</td>\n",
              "      <td>7.0</td>\n",
              "      <td>8.20</td>\n",
              "    </tr>\n",
              "  </tbody>\n",
              "</table>\n",
              "</div>\n",
              "    <div class=\"colab-df-buttons\">\n",
              "\n",
              "  <div class=\"colab-df-container\">\n",
              "    <button class=\"colab-df-convert\" onclick=\"convertToInteractive('df-eb3efd7f-2ca2-4e27-8674-1ef794128c27')\"\n",
              "            title=\"Convert this dataframe to an interactive table.\"\n",
              "            style=\"display:none;\">\n",
              "\n",
              "  <svg xmlns=\"http://www.w3.org/2000/svg\" height=\"24px\" viewBox=\"0 -960 960 960\">\n",
              "    <path d=\"M120-120v-720h720v720H120Zm60-500h600v-160H180v160Zm220 220h160v-160H400v160Zm0 220h160v-160H400v160ZM180-400h160v-160H180v160Zm440 0h160v-160H620v160ZM180-180h160v-160H180v160Zm440 0h160v-160H620v160Z\"/>\n",
              "  </svg>\n",
              "    </button>\n",
              "\n",
              "  <style>\n",
              "    .colab-df-container {\n",
              "      display:flex;\n",
              "      gap: 12px;\n",
              "    }\n",
              "\n",
              "    .colab-df-convert {\n",
              "      background-color: #E8F0FE;\n",
              "      border: none;\n",
              "      border-radius: 50%;\n",
              "      cursor: pointer;\n",
              "      display: none;\n",
              "      fill: #1967D2;\n",
              "      height: 32px;\n",
              "      padding: 0 0 0 0;\n",
              "      width: 32px;\n",
              "    }\n",
              "\n",
              "    .colab-df-convert:hover {\n",
              "      background-color: #E2EBFA;\n",
              "      box-shadow: 0px 1px 2px rgba(60, 64, 67, 0.3), 0px 1px 3px 1px rgba(60, 64, 67, 0.15);\n",
              "      fill: #174EA6;\n",
              "    }\n",
              "\n",
              "    .colab-df-buttons div {\n",
              "      margin-bottom: 4px;\n",
              "    }\n",
              "\n",
              "    [theme=dark] .colab-df-convert {\n",
              "      background-color: #3B4455;\n",
              "      fill: #D2E3FC;\n",
              "    }\n",
              "\n",
              "    [theme=dark] .colab-df-convert:hover {\n",
              "      background-color: #434B5C;\n",
              "      box-shadow: 0px 1px 3px 1px rgba(0, 0, 0, 0.15);\n",
              "      filter: drop-shadow(0px 1px 2px rgba(0, 0, 0, 0.3));\n",
              "      fill: #FFFFFF;\n",
              "    }\n",
              "  </style>\n",
              "\n",
              "    <script>\n",
              "      const buttonEl =\n",
              "        document.querySelector('#df-eb3efd7f-2ca2-4e27-8674-1ef794128c27 button.colab-df-convert');\n",
              "      buttonEl.style.display =\n",
              "        google.colab.kernel.accessAllowed ? 'block' : 'none';\n",
              "\n",
              "      async function convertToInteractive(key) {\n",
              "        const element = document.querySelector('#df-eb3efd7f-2ca2-4e27-8674-1ef794128c27');\n",
              "        const dataTable =\n",
              "          await google.colab.kernel.invokeFunction('convertToInteractive',\n",
              "                                                    [key], {});\n",
              "        if (!dataTable) return;\n",
              "\n",
              "        const docLinkHtml = 'Like what you see? Visit the ' +\n",
              "          '<a target=\"_blank\" href=https://colab.research.google.com/notebooks/data_table.ipynb>data table notebook</a>'\n",
              "          + ' to learn more about interactive tables.';\n",
              "        element.innerHTML = '';\n",
              "        dataTable['output_type'] = 'display_data';\n",
              "        await google.colab.output.renderOutput(dataTable, element);\n",
              "        const docLink = document.createElement('div');\n",
              "        docLink.innerHTML = docLinkHtml;\n",
              "        element.appendChild(docLink);\n",
              "      }\n",
              "    </script>\n",
              "  </div>\n",
              "\n",
              "\n",
              "    <div id=\"df-3591be88-07e6-4ae2-ac62-0b4e289441bb\">\n",
              "      <button class=\"colab-df-quickchart\" onclick=\"quickchart('df-3591be88-07e6-4ae2-ac62-0b4e289441bb')\"\n",
              "                title=\"Suggest charts\"\n",
              "                style=\"display:none;\">\n",
              "\n",
              "<svg xmlns=\"http://www.w3.org/2000/svg\" height=\"24px\"viewBox=\"0 0 24 24\"\n",
              "     width=\"24px\">\n",
              "    <g>\n",
              "        <path d=\"M19 3H5c-1.1 0-2 .9-2 2v14c0 1.1.9 2 2 2h14c1.1 0 2-.9 2-2V5c0-1.1-.9-2-2-2zM9 17H7v-7h2v7zm4 0h-2V7h2v10zm4 0h-2v-4h2v4z\"/>\n",
              "    </g>\n",
              "</svg>\n",
              "      </button>\n",
              "\n",
              "<style>\n",
              "  .colab-df-quickchart {\n",
              "      --bg-color: #E8F0FE;\n",
              "      --fill-color: #1967D2;\n",
              "      --hover-bg-color: #E2EBFA;\n",
              "      --hover-fill-color: #174EA6;\n",
              "      --disabled-fill-color: #AAA;\n",
              "      --disabled-bg-color: #DDD;\n",
              "  }\n",
              "\n",
              "  [theme=dark] .colab-df-quickchart {\n",
              "      --bg-color: #3B4455;\n",
              "      --fill-color: #D2E3FC;\n",
              "      --hover-bg-color: #434B5C;\n",
              "      --hover-fill-color: #FFFFFF;\n",
              "      --disabled-bg-color: #3B4455;\n",
              "      --disabled-fill-color: #666;\n",
              "  }\n",
              "\n",
              "  .colab-df-quickchart {\n",
              "    background-color: var(--bg-color);\n",
              "    border: none;\n",
              "    border-radius: 50%;\n",
              "    cursor: pointer;\n",
              "    display: none;\n",
              "    fill: var(--fill-color);\n",
              "    height: 32px;\n",
              "    padding: 0;\n",
              "    width: 32px;\n",
              "  }\n",
              "\n",
              "  .colab-df-quickchart:hover {\n",
              "    background-color: var(--hover-bg-color);\n",
              "    box-shadow: 0 1px 2px rgba(60, 64, 67, 0.3), 0 1px 3px 1px rgba(60, 64, 67, 0.15);\n",
              "    fill: var(--button-hover-fill-color);\n",
              "  }\n",
              "\n",
              "  .colab-df-quickchart-complete:disabled,\n",
              "  .colab-df-quickchart-complete:disabled:hover {\n",
              "    background-color: var(--disabled-bg-color);\n",
              "    fill: var(--disabled-fill-color);\n",
              "    box-shadow: none;\n",
              "  }\n",
              "\n",
              "  .colab-df-spinner {\n",
              "    border: 2px solid var(--fill-color);\n",
              "    border-color: transparent;\n",
              "    border-bottom-color: var(--fill-color);\n",
              "    animation:\n",
              "      spin 1s steps(1) infinite;\n",
              "  }\n",
              "\n",
              "  @keyframes spin {\n",
              "    0% {\n",
              "      border-color: transparent;\n",
              "      border-bottom-color: var(--fill-color);\n",
              "      border-left-color: var(--fill-color);\n",
              "    }\n",
              "    20% {\n",
              "      border-color: transparent;\n",
              "      border-left-color: var(--fill-color);\n",
              "      border-top-color: var(--fill-color);\n",
              "    }\n",
              "    30% {\n",
              "      border-color: transparent;\n",
              "      border-left-color: var(--fill-color);\n",
              "      border-top-color: var(--fill-color);\n",
              "      border-right-color: var(--fill-color);\n",
              "    }\n",
              "    40% {\n",
              "      border-color: transparent;\n",
              "      border-right-color: var(--fill-color);\n",
              "      border-top-color: var(--fill-color);\n",
              "    }\n",
              "    60% {\n",
              "      border-color: transparent;\n",
              "      border-right-color: var(--fill-color);\n",
              "    }\n",
              "    80% {\n",
              "      border-color: transparent;\n",
              "      border-right-color: var(--fill-color);\n",
              "      border-bottom-color: var(--fill-color);\n",
              "    }\n",
              "    90% {\n",
              "      border-color: transparent;\n",
              "      border-bottom-color: var(--fill-color);\n",
              "    }\n",
              "  }\n",
              "</style>\n",
              "\n",
              "      <script>\n",
              "        async function quickchart(key) {\n",
              "          const quickchartButtonEl =\n",
              "            document.querySelector('#' + key + ' button');\n",
              "          quickchartButtonEl.disabled = true;  // To prevent multiple clicks.\n",
              "          quickchartButtonEl.classList.add('colab-df-spinner');\n",
              "          try {\n",
              "            const charts = await google.colab.kernel.invokeFunction(\n",
              "                'suggestCharts', [key], {});\n",
              "          } catch (error) {\n",
              "            console.error('Error during call to suggestCharts:', error);\n",
              "          }\n",
              "          quickchartButtonEl.classList.remove('colab-df-spinner');\n",
              "          quickchartButtonEl.classList.add('colab-df-quickchart-complete');\n",
              "        }\n",
              "        (() => {\n",
              "          let quickchartButtonEl =\n",
              "            document.querySelector('#df-3591be88-07e6-4ae2-ac62-0b4e289441bb button');\n",
              "          quickchartButtonEl.style.display =\n",
              "            google.colab.kernel.accessAllowed ? 'block' : 'none';\n",
              "        })();\n",
              "      </script>\n",
              "    </div>\n",
              "\n",
              "    </div>\n",
              "  </div>\n"
            ],
            "application/vnd.google.colaboratory.intrinsic+json": {
              "type": "dataframe",
              "variable_name": "df"
            }
          },
          "metadata": {},
          "execution_count": 16
        }
      ],
      "source": [
        "# Importing the file porter_data_1.csv\n",
        "from google.colab import drive\n",
        "drive.mount('/content/drive')\n",
        "df = pd.read_csv('/content/drive/MyDrive/Colab Notebooks/porter_data_1.csv')\n",
        "df.head()"
      ]
    },
    {
      "cell_type": "code",
      "execution_count": 17,
      "metadata": {
        "colab": {
          "base_uri": "https://localhost:8080/"
        },
        "id": "A6Bs1FrIe-DO",
        "outputId": "085afdd3-4b86-4981-d30c-99abe87ab1b7"
      },
      "outputs": [
        {
          "output_type": "execute_result",
          "data": {
            "text/plain": [
              "(175777, 14)"
            ]
          },
          "metadata": {},
          "execution_count": 17
        }
      ],
      "source": [
        "#check shape\n",
        "df.shape"
      ]
    },
    {
      "cell_type": "code",
      "execution_count": 18,
      "metadata": {
        "colab": {
          "base_uri": "https://localhost:8080/"
        },
        "id": "GdeoD2zsfEAB",
        "outputId": "72beae1d-8e37-4a43-90f6-13434d9c65f4"
      },
      "outputs": [
        {
          "output_type": "execute_result",
          "data": {
            "text/plain": [
              "Index(['market_id', 'created_at', 'actual_delivery_time',\n",
              "       'store_primary_category', 'order_protocol', 'total_items', 'subtotal',\n",
              "       'num_distinct_items', 'min_item_price', 'max_item_price',\n",
              "       'total_onshift_dashers', 'total_busy_dashers',\n",
              "       'total_outstanding_orders', 'distance'],\n",
              "      dtype='object')"
            ]
          },
          "metadata": {},
          "execution_count": 18
        }
      ],
      "source": [
        "df.columns"
      ]
    },
    {
      "cell_type": "markdown",
      "metadata": {
        "id": "HSRQocOkMSQl"
      },
      "source": [
        "## **2. Data Preprocessing and Feature Engineering** <font color = red>[15 marks]</font> <br>"
      ]
    },
    {
      "cell_type": "markdown",
      "metadata": {
        "id": "02uPO8aQfLnn"
      },
      "source": [
        "#### **2.1 Fixing the Datatypes**  <font color = red>[5 marks]</font> <br>\n",
        "The current timestamps are in object format and need conversion to datetime format for easier handling and intended functionality"
      ]
    },
    {
      "cell_type": "code",
      "execution_count": 19,
      "metadata": {
        "colab": {
          "base_uri": "https://localhost:8080/",
          "height": 523
        },
        "id": "I7vCQ_eQfmhE",
        "outputId": "c3f7650d-93b0-4104-c748-95fce4157142"
      },
      "outputs": [
        {
          "output_type": "execute_result",
          "data": {
            "text/plain": [
              "market_id                   float64\n",
              "created_at                   object\n",
              "actual_delivery_time         object\n",
              "store_primary_category        int64\n",
              "order_protocol              float64\n",
              "total_items                   int64\n",
              "subtotal                      int64\n",
              "num_distinct_items            int64\n",
              "min_item_price                int64\n",
              "max_item_price                int64\n",
              "total_onshift_dashers       float64\n",
              "total_busy_dashers          float64\n",
              "total_outstanding_orders    float64\n",
              "distance                    float64\n",
              "dtype: object"
            ],
            "text/html": [
              "<div>\n",
              "<style scoped>\n",
              "    .dataframe tbody tr th:only-of-type {\n",
              "        vertical-align: middle;\n",
              "    }\n",
              "\n",
              "    .dataframe tbody tr th {\n",
              "        vertical-align: top;\n",
              "    }\n",
              "\n",
              "    .dataframe thead th {\n",
              "        text-align: right;\n",
              "    }\n",
              "</style>\n",
              "<table border=\"1\" class=\"dataframe\">\n",
              "  <thead>\n",
              "    <tr style=\"text-align: right;\">\n",
              "      <th></th>\n",
              "      <th>0</th>\n",
              "    </tr>\n",
              "  </thead>\n",
              "  <tbody>\n",
              "    <tr>\n",
              "      <th>market_id</th>\n",
              "      <td>float64</td>\n",
              "    </tr>\n",
              "    <tr>\n",
              "      <th>created_at</th>\n",
              "      <td>object</td>\n",
              "    </tr>\n",
              "    <tr>\n",
              "      <th>actual_delivery_time</th>\n",
              "      <td>object</td>\n",
              "    </tr>\n",
              "    <tr>\n",
              "      <th>store_primary_category</th>\n",
              "      <td>int64</td>\n",
              "    </tr>\n",
              "    <tr>\n",
              "      <th>order_protocol</th>\n",
              "      <td>float64</td>\n",
              "    </tr>\n",
              "    <tr>\n",
              "      <th>total_items</th>\n",
              "      <td>int64</td>\n",
              "    </tr>\n",
              "    <tr>\n",
              "      <th>subtotal</th>\n",
              "      <td>int64</td>\n",
              "    </tr>\n",
              "    <tr>\n",
              "      <th>num_distinct_items</th>\n",
              "      <td>int64</td>\n",
              "    </tr>\n",
              "    <tr>\n",
              "      <th>min_item_price</th>\n",
              "      <td>int64</td>\n",
              "    </tr>\n",
              "    <tr>\n",
              "      <th>max_item_price</th>\n",
              "      <td>int64</td>\n",
              "    </tr>\n",
              "    <tr>\n",
              "      <th>total_onshift_dashers</th>\n",
              "      <td>float64</td>\n",
              "    </tr>\n",
              "    <tr>\n",
              "      <th>total_busy_dashers</th>\n",
              "      <td>float64</td>\n",
              "    </tr>\n",
              "    <tr>\n",
              "      <th>total_outstanding_orders</th>\n",
              "      <td>float64</td>\n",
              "    </tr>\n",
              "    <tr>\n",
              "      <th>distance</th>\n",
              "      <td>float64</td>\n",
              "    </tr>\n",
              "  </tbody>\n",
              "</table>\n",
              "</div><br><label><b>dtype:</b> object</label>"
            ]
          },
          "metadata": {},
          "execution_count": 19
        }
      ],
      "source": [
        "df.dtypes"
      ]
    },
    {
      "cell_type": "markdown",
      "metadata": {
        "id": "b22Kzjew3rdM"
      },
      "source": [
        "##### **2.1.1** <font color = red>[2 marks]</font> <br>\n",
        "Convert date and time fields to appropriate data type"
      ]
    },
    {
      "cell_type": "code",
      "execution_count": 20,
      "metadata": {
        "colab": {
          "base_uri": "https://localhost:8080/"
        },
        "id": "FoGkz909IXjv",
        "outputId": "ecd454d9-20de-4146-8022-b4d6c72d111a"
      },
      "outputs": [
        {
          "output_type": "stream",
          "name": "stdout",
          "text": [
            "created_at              datetime64[ns]\n",
            "actual_delivery_time    datetime64[ns]\n",
            "dtype: object\n"
          ]
        }
      ],
      "source": [
        "# Convert 'created_at' and 'actual_delivery_time' columns to datetime format\n",
        "\n",
        "df['created_at'] = pd.to_datetime(df['created_at'])\n",
        "df['actual_delivery_time'] = pd.to_datetime(df['actual_delivery_time'])\n",
        "\n",
        "# Verify the conversion\n",
        "print(df[['created_at', 'actual_delivery_time']].dtypes)\n",
        "\n"
      ]
    },
    {
      "cell_type": "markdown",
      "metadata": {
        "id": "u1EBPjFc4Qca"
      },
      "source": [
        "##### **2.1.2**  <font color = red>[3 marks]</font> <br>\n",
        "Convert categorical fields to appropriate data type"
      ]
    },
    {
      "cell_type": "code",
      "execution_count": 21,
      "metadata": {
        "colab": {
          "base_uri": "https://localhost:8080/"
        },
        "id": "PihPSPhQq1nQ",
        "outputId": "f67d7401-f8d4-41ce-ad46-d0e55a856aa8"
      },
      "outputs": [
        {
          "output_type": "stream",
          "name": "stdout",
          "text": [
            "market_id                 category\n",
            "store_primary_category    category\n",
            "order_protocol            category\n",
            "dtype: object\n"
          ]
        }
      ],
      "source": [
        "# Convert categorical features to category type\n",
        "\n",
        "categorical_columns = ['market_id', 'store_primary_category', 'order_protocol']\n",
        "\n",
        "for col in categorical_columns:\n",
        "    df[col] = df[col].astype('category')\n",
        "\n",
        "# Verify the conversion\n",
        "print(df[categorical_columns].dtypes)"
      ]
    },
    {
      "cell_type": "markdown",
      "metadata": {
        "id": "hsEGroRFlX8z"
      },
      "source": [
        "#### **2.2 Feature Engineering** <font color = red>[5 marks]</font> <br>\n",
        "Calculate the time taken to execute the delivery as well as extract the hour and day at which the order was placed"
      ]
    },
    {
      "cell_type": "markdown",
      "metadata": {
        "id": "BubGzQyJpHLQ"
      },
      "source": [
        "##### **2.2.1** <font color = red>[2 marks]</font> <br>\n",
        "Calculate the time taken using the features `actual_delivery_time` and `created_at`"
      ]
    },
    {
      "cell_type": "code",
      "execution_count": 22,
      "metadata": {
        "colab": {
          "base_uri": "https://localhost:8080/"
        },
        "id": "uBGS4PZJMciZ",
        "outputId": "138040f2-bff8-41ec-e992-119708df7691"
      },
      "outputs": [
        {
          "output_type": "stream",
          "name": "stdout",
          "text": [
            "           created_at actual_delivery_time  delivery_time_mins\n",
            "0 2015-02-06 22:24:17  2015-02-06 23:11:17                47.0\n",
            "1 2015-02-10 21:49:25  2015-02-10 22:33:25                44.0\n",
            "2 2015-02-16 00:11:35  2015-02-16 01:06:35                55.0\n",
            "3 2015-02-12 03:36:46  2015-02-12 04:35:46                59.0\n",
            "4 2015-01-27 02:12:36  2015-01-27 02:58:36                46.0\n"
          ]
        }
      ],
      "source": [
        "# Calculate time taken in minutes\n",
        "\n",
        "df['delivery_time_mins'] = (df['actual_delivery_time'] - df['created_at']).dt.total_seconds() / 60\n",
        "\n",
        "# Preview the new column\n",
        "print(df[['created_at', 'actual_delivery_time', 'delivery_time_mins']].head())\n"
      ]
    },
    {
      "cell_type": "markdown",
      "metadata": {
        "id": "ngUUAf3XOPAP"
      },
      "source": [
        "##### **2.2.2** <font color = red>[3 marks]</font> <br>\n",
        "Extract the hour at which the order was placed and which day of the week it was. Drop the unnecessary columns."
      ]
    },
    {
      "cell_type": "code",
      "execution_count": 23,
      "metadata": {
        "colab": {
          "base_uri": "https://localhost:8080/",
          "height": 313
        },
        "id": "iwA4O5VtNxQW",
        "outputId": "d4a7c15c-5509-46c6-fc6e-dc344647a619"
      },
      "outputs": [
        {
          "output_type": "execute_result",
          "data": {
            "text/plain": [
              "  market_id          created_at actual_delivery_time store_primary_category  \\\n",
              "0       1.0 2015-02-06 22:24:17  2015-02-06 23:11:17                      4   \n",
              "1       2.0 2015-02-10 21:49:25  2015-02-10 22:33:25                     46   \n",
              "2       2.0 2015-02-16 00:11:35  2015-02-16 01:06:35                     36   \n",
              "3       1.0 2015-02-12 03:36:46  2015-02-12 04:35:46                     38   \n",
              "4       1.0 2015-01-27 02:12:36  2015-01-27 02:58:36                     38   \n",
              "\n",
              "  order_protocol  total_items  subtotal  num_distinct_items  min_item_price  \\\n",
              "0            1.0            4      3441                   4             557   \n",
              "1            2.0            1      1900                   1            1400   \n",
              "2            3.0            4      4771                   3             820   \n",
              "3            1.0            1      1525                   1            1525   \n",
              "4            1.0            2      3620                   2            1425   \n",
              "\n",
              "   max_item_price  total_onshift_dashers  total_busy_dashers  \\\n",
              "0            1239                   33.0                14.0   \n",
              "1            1400                    1.0                 2.0   \n",
              "2            1604                    8.0                 6.0   \n",
              "3            1525                    5.0                 6.0   \n",
              "4            2195                    5.0                 5.0   \n",
              "\n",
              "   total_outstanding_orders  distance  delivery_time_mins  order_hour  \\\n",
              "0                      21.0     34.44                47.0          22   \n",
              "1                       2.0     27.60                44.0          21   \n",
              "2                      18.0     11.56                55.0           0   \n",
              "3                       8.0     31.80                59.0           3   \n",
              "4                       7.0      8.20                46.0           2   \n",
              "\n",
              "   order_dayofweek isWeekend  \n",
              "0                4         0  \n",
              "1                1         0  \n",
              "2                0         0  \n",
              "3                3         0  \n",
              "4                1         0  "
            ],
            "text/html": [
              "\n",
              "  <div id=\"df-5ddafe36-2673-4c45-9965-80faa7fa8ce1\" class=\"colab-df-container\">\n",
              "    <div>\n",
              "<style scoped>\n",
              "    .dataframe tbody tr th:only-of-type {\n",
              "        vertical-align: middle;\n",
              "    }\n",
              "\n",
              "    .dataframe tbody tr th {\n",
              "        vertical-align: top;\n",
              "    }\n",
              "\n",
              "    .dataframe thead th {\n",
              "        text-align: right;\n",
              "    }\n",
              "</style>\n",
              "<table border=\"1\" class=\"dataframe\">\n",
              "  <thead>\n",
              "    <tr style=\"text-align: right;\">\n",
              "      <th></th>\n",
              "      <th>market_id</th>\n",
              "      <th>created_at</th>\n",
              "      <th>actual_delivery_time</th>\n",
              "      <th>store_primary_category</th>\n",
              "      <th>order_protocol</th>\n",
              "      <th>total_items</th>\n",
              "      <th>subtotal</th>\n",
              "      <th>num_distinct_items</th>\n",
              "      <th>min_item_price</th>\n",
              "      <th>max_item_price</th>\n",
              "      <th>total_onshift_dashers</th>\n",
              "      <th>total_busy_dashers</th>\n",
              "      <th>total_outstanding_orders</th>\n",
              "      <th>distance</th>\n",
              "      <th>delivery_time_mins</th>\n",
              "      <th>order_hour</th>\n",
              "      <th>order_dayofweek</th>\n",
              "      <th>isWeekend</th>\n",
              "    </tr>\n",
              "  </thead>\n",
              "  <tbody>\n",
              "    <tr>\n",
              "      <th>0</th>\n",
              "      <td>1.0</td>\n",
              "      <td>2015-02-06 22:24:17</td>\n",
              "      <td>2015-02-06 23:11:17</td>\n",
              "      <td>4</td>\n",
              "      <td>1.0</td>\n",
              "      <td>4</td>\n",
              "      <td>3441</td>\n",
              "      <td>4</td>\n",
              "      <td>557</td>\n",
              "      <td>1239</td>\n",
              "      <td>33.0</td>\n",
              "      <td>14.0</td>\n",
              "      <td>21.0</td>\n",
              "      <td>34.44</td>\n",
              "      <td>47.0</td>\n",
              "      <td>22</td>\n",
              "      <td>4</td>\n",
              "      <td>0</td>\n",
              "    </tr>\n",
              "    <tr>\n",
              "      <th>1</th>\n",
              "      <td>2.0</td>\n",
              "      <td>2015-02-10 21:49:25</td>\n",
              "      <td>2015-02-10 22:33:25</td>\n",
              "      <td>46</td>\n",
              "      <td>2.0</td>\n",
              "      <td>1</td>\n",
              "      <td>1900</td>\n",
              "      <td>1</td>\n",
              "      <td>1400</td>\n",
              "      <td>1400</td>\n",
              "      <td>1.0</td>\n",
              "      <td>2.0</td>\n",
              "      <td>2.0</td>\n",
              "      <td>27.60</td>\n",
              "      <td>44.0</td>\n",
              "      <td>21</td>\n",
              "      <td>1</td>\n",
              "      <td>0</td>\n",
              "    </tr>\n",
              "    <tr>\n",
              "      <th>2</th>\n",
              "      <td>2.0</td>\n",
              "      <td>2015-02-16 00:11:35</td>\n",
              "      <td>2015-02-16 01:06:35</td>\n",
              "      <td>36</td>\n",
              "      <td>3.0</td>\n",
              "      <td>4</td>\n",
              "      <td>4771</td>\n",
              "      <td>3</td>\n",
              "      <td>820</td>\n",
              "      <td>1604</td>\n",
              "      <td>8.0</td>\n",
              "      <td>6.0</td>\n",
              "      <td>18.0</td>\n",
              "      <td>11.56</td>\n",
              "      <td>55.0</td>\n",
              "      <td>0</td>\n",
              "      <td>0</td>\n",
              "      <td>0</td>\n",
              "    </tr>\n",
              "    <tr>\n",
              "      <th>3</th>\n",
              "      <td>1.0</td>\n",
              "      <td>2015-02-12 03:36:46</td>\n",
              "      <td>2015-02-12 04:35:46</td>\n",
              "      <td>38</td>\n",
              "      <td>1.0</td>\n",
              "      <td>1</td>\n",
              "      <td>1525</td>\n",
              "      <td>1</td>\n",
              "      <td>1525</td>\n",
              "      <td>1525</td>\n",
              "      <td>5.0</td>\n",
              "      <td>6.0</td>\n",
              "      <td>8.0</td>\n",
              "      <td>31.80</td>\n",
              "      <td>59.0</td>\n",
              "      <td>3</td>\n",
              "      <td>3</td>\n",
              "      <td>0</td>\n",
              "    </tr>\n",
              "    <tr>\n",
              "      <th>4</th>\n",
              "      <td>1.0</td>\n",
              "      <td>2015-01-27 02:12:36</td>\n",
              "      <td>2015-01-27 02:58:36</td>\n",
              "      <td>38</td>\n",
              "      <td>1.0</td>\n",
              "      <td>2</td>\n",
              "      <td>3620</td>\n",
              "      <td>2</td>\n",
              "      <td>1425</td>\n",
              "      <td>2195</td>\n",
              "      <td>5.0</td>\n",
              "      <td>5.0</td>\n",
              "      <td>7.0</td>\n",
              "      <td>8.20</td>\n",
              "      <td>46.0</td>\n",
              "      <td>2</td>\n",
              "      <td>1</td>\n",
              "      <td>0</td>\n",
              "    </tr>\n",
              "  </tbody>\n",
              "</table>\n",
              "</div>\n",
              "    <div class=\"colab-df-buttons\">\n",
              "\n",
              "  <div class=\"colab-df-container\">\n",
              "    <button class=\"colab-df-convert\" onclick=\"convertToInteractive('df-5ddafe36-2673-4c45-9965-80faa7fa8ce1')\"\n",
              "            title=\"Convert this dataframe to an interactive table.\"\n",
              "            style=\"display:none;\">\n",
              "\n",
              "  <svg xmlns=\"http://www.w3.org/2000/svg\" height=\"24px\" viewBox=\"0 -960 960 960\">\n",
              "    <path d=\"M120-120v-720h720v720H120Zm60-500h600v-160H180v160Zm220 220h160v-160H400v160Zm0 220h160v-160H400v160ZM180-400h160v-160H180v160Zm440 0h160v-160H620v160ZM180-180h160v-160H180v160Zm440 0h160v-160H620v160Z\"/>\n",
              "  </svg>\n",
              "    </button>\n",
              "\n",
              "  <style>\n",
              "    .colab-df-container {\n",
              "      display:flex;\n",
              "      gap: 12px;\n",
              "    }\n",
              "\n",
              "    .colab-df-convert {\n",
              "      background-color: #E8F0FE;\n",
              "      border: none;\n",
              "      border-radius: 50%;\n",
              "      cursor: pointer;\n",
              "      display: none;\n",
              "      fill: #1967D2;\n",
              "      height: 32px;\n",
              "      padding: 0 0 0 0;\n",
              "      width: 32px;\n",
              "    }\n",
              "\n",
              "    .colab-df-convert:hover {\n",
              "      background-color: #E2EBFA;\n",
              "      box-shadow: 0px 1px 2px rgba(60, 64, 67, 0.3), 0px 1px 3px 1px rgba(60, 64, 67, 0.15);\n",
              "      fill: #174EA6;\n",
              "    }\n",
              "\n",
              "    .colab-df-buttons div {\n",
              "      margin-bottom: 4px;\n",
              "    }\n",
              "\n",
              "    [theme=dark] .colab-df-convert {\n",
              "      background-color: #3B4455;\n",
              "      fill: #D2E3FC;\n",
              "    }\n",
              "\n",
              "    [theme=dark] .colab-df-convert:hover {\n",
              "      background-color: #434B5C;\n",
              "      box-shadow: 0px 1px 3px 1px rgba(0, 0, 0, 0.15);\n",
              "      filter: drop-shadow(0px 1px 2px rgba(0, 0, 0, 0.3));\n",
              "      fill: #FFFFFF;\n",
              "    }\n",
              "  </style>\n",
              "\n",
              "    <script>\n",
              "      const buttonEl =\n",
              "        document.querySelector('#df-5ddafe36-2673-4c45-9965-80faa7fa8ce1 button.colab-df-convert');\n",
              "      buttonEl.style.display =\n",
              "        google.colab.kernel.accessAllowed ? 'block' : 'none';\n",
              "\n",
              "      async function convertToInteractive(key) {\n",
              "        const element = document.querySelector('#df-5ddafe36-2673-4c45-9965-80faa7fa8ce1');\n",
              "        const dataTable =\n",
              "          await google.colab.kernel.invokeFunction('convertToInteractive',\n",
              "                                                    [key], {});\n",
              "        if (!dataTable) return;\n",
              "\n",
              "        const docLinkHtml = 'Like what you see? Visit the ' +\n",
              "          '<a target=\"_blank\" href=https://colab.research.google.com/notebooks/data_table.ipynb>data table notebook</a>'\n",
              "          + ' to learn more about interactive tables.';\n",
              "        element.innerHTML = '';\n",
              "        dataTable['output_type'] = 'display_data';\n",
              "        await google.colab.output.renderOutput(dataTable, element);\n",
              "        const docLink = document.createElement('div');\n",
              "        docLink.innerHTML = docLinkHtml;\n",
              "        element.appendChild(docLink);\n",
              "      }\n",
              "    </script>\n",
              "  </div>\n",
              "\n",
              "\n",
              "    <div id=\"df-bfcd3221-0a1b-4ca0-b93c-e0f456260264\">\n",
              "      <button class=\"colab-df-quickchart\" onclick=\"quickchart('df-bfcd3221-0a1b-4ca0-b93c-e0f456260264')\"\n",
              "                title=\"Suggest charts\"\n",
              "                style=\"display:none;\">\n",
              "\n",
              "<svg xmlns=\"http://www.w3.org/2000/svg\" height=\"24px\"viewBox=\"0 0 24 24\"\n",
              "     width=\"24px\">\n",
              "    <g>\n",
              "        <path d=\"M19 3H5c-1.1 0-2 .9-2 2v14c0 1.1.9 2 2 2h14c1.1 0 2-.9 2-2V5c0-1.1-.9-2-2-2zM9 17H7v-7h2v7zm4 0h-2V7h2v10zm4 0h-2v-4h2v4z\"/>\n",
              "    </g>\n",
              "</svg>\n",
              "      </button>\n",
              "\n",
              "<style>\n",
              "  .colab-df-quickchart {\n",
              "      --bg-color: #E8F0FE;\n",
              "      --fill-color: #1967D2;\n",
              "      --hover-bg-color: #E2EBFA;\n",
              "      --hover-fill-color: #174EA6;\n",
              "      --disabled-fill-color: #AAA;\n",
              "      --disabled-bg-color: #DDD;\n",
              "  }\n",
              "\n",
              "  [theme=dark] .colab-df-quickchart {\n",
              "      --bg-color: #3B4455;\n",
              "      --fill-color: #D2E3FC;\n",
              "      --hover-bg-color: #434B5C;\n",
              "      --hover-fill-color: #FFFFFF;\n",
              "      --disabled-bg-color: #3B4455;\n",
              "      --disabled-fill-color: #666;\n",
              "  }\n",
              "\n",
              "  .colab-df-quickchart {\n",
              "    background-color: var(--bg-color);\n",
              "    border: none;\n",
              "    border-radius: 50%;\n",
              "    cursor: pointer;\n",
              "    display: none;\n",
              "    fill: var(--fill-color);\n",
              "    height: 32px;\n",
              "    padding: 0;\n",
              "    width: 32px;\n",
              "  }\n",
              "\n",
              "  .colab-df-quickchart:hover {\n",
              "    background-color: var(--hover-bg-color);\n",
              "    box-shadow: 0 1px 2px rgba(60, 64, 67, 0.3), 0 1px 3px 1px rgba(60, 64, 67, 0.15);\n",
              "    fill: var(--button-hover-fill-color);\n",
              "  }\n",
              "\n",
              "  .colab-df-quickchart-complete:disabled,\n",
              "  .colab-df-quickchart-complete:disabled:hover {\n",
              "    background-color: var(--disabled-bg-color);\n",
              "    fill: var(--disabled-fill-color);\n",
              "    box-shadow: none;\n",
              "  }\n",
              "\n",
              "  .colab-df-spinner {\n",
              "    border: 2px solid var(--fill-color);\n",
              "    border-color: transparent;\n",
              "    border-bottom-color: var(--fill-color);\n",
              "    animation:\n",
              "      spin 1s steps(1) infinite;\n",
              "  }\n",
              "\n",
              "  @keyframes spin {\n",
              "    0% {\n",
              "      border-color: transparent;\n",
              "      border-bottom-color: var(--fill-color);\n",
              "      border-left-color: var(--fill-color);\n",
              "    }\n",
              "    20% {\n",
              "      border-color: transparent;\n",
              "      border-left-color: var(--fill-color);\n",
              "      border-top-color: var(--fill-color);\n",
              "    }\n",
              "    30% {\n",
              "      border-color: transparent;\n",
              "      border-left-color: var(--fill-color);\n",
              "      border-top-color: var(--fill-color);\n",
              "      border-right-color: var(--fill-color);\n",
              "    }\n",
              "    40% {\n",
              "      border-color: transparent;\n",
              "      border-right-color: var(--fill-color);\n",
              "      border-top-color: var(--fill-color);\n",
              "    }\n",
              "    60% {\n",
              "      border-color: transparent;\n",
              "      border-right-color: var(--fill-color);\n",
              "    }\n",
              "    80% {\n",
              "      border-color: transparent;\n",
              "      border-right-color: var(--fill-color);\n",
              "      border-bottom-color: var(--fill-color);\n",
              "    }\n",
              "    90% {\n",
              "      border-color: transparent;\n",
              "      border-bottom-color: var(--fill-color);\n",
              "    }\n",
              "  }\n",
              "</style>\n",
              "\n",
              "      <script>\n",
              "        async function quickchart(key) {\n",
              "          const quickchartButtonEl =\n",
              "            document.querySelector('#' + key + ' button');\n",
              "          quickchartButtonEl.disabled = true;  // To prevent multiple clicks.\n",
              "          quickchartButtonEl.classList.add('colab-df-spinner');\n",
              "          try {\n",
              "            const charts = await google.colab.kernel.invokeFunction(\n",
              "                'suggestCharts', [key], {});\n",
              "          } catch (error) {\n",
              "            console.error('Error during call to suggestCharts:', error);\n",
              "          }\n",
              "          quickchartButtonEl.classList.remove('colab-df-spinner');\n",
              "          quickchartButtonEl.classList.add('colab-df-quickchart-complete');\n",
              "        }\n",
              "        (() => {\n",
              "          let quickchartButtonEl =\n",
              "            document.querySelector('#df-bfcd3221-0a1b-4ca0-b93c-e0f456260264 button');\n",
              "          quickchartButtonEl.style.display =\n",
              "            google.colab.kernel.accessAllowed ? 'block' : 'none';\n",
              "        })();\n",
              "      </script>\n",
              "    </div>\n",
              "\n",
              "    </div>\n",
              "  </div>\n"
            ],
            "application/vnd.google.colaboratory.intrinsic+json": {
              "type": "dataframe",
              "variable_name": "df"
            }
          },
          "metadata": {},
          "execution_count": 23
        }
      ],
      "source": [
        "# Extract the hour and day of week from the 'created_at' timestamp\n",
        "\n",
        "df['order_hour'] = df['created_at'].dt.hour\n",
        "df['order_dayofweek'] = df['created_at'].dt.dayofweek\n",
        "\n",
        "\n",
        "# Create a categorical feature 'isWeekend'\n",
        "\n",
        "df['isWeekend'] = df['created_at'].dt.dayofweek.apply(lambda x: 1 if x >= 5 else 0)\n",
        "df['isWeekend'] = df['isWeekend'].astype('category')\n",
        "\n",
        "df.head()"
      ]
    },
    {
      "cell_type": "code",
      "execution_count": 24,
      "metadata": {
        "colab": {
          "base_uri": "https://localhost:8080/",
          "height": 226
        },
        "id": "ZgzSO8wyOTbP",
        "outputId": "a6c5fea8-8da0-4037-b6fd-875cb0553914"
      },
      "outputs": [
        {
          "output_type": "execute_result",
          "data": {
            "text/plain": [
              "  market_id store_primary_category order_protocol  total_items  subtotal  \\\n",
              "0       1.0                      4            1.0            4      3441   \n",
              "1       2.0                     46            2.0            1      1900   \n",
              "2       2.0                     36            3.0            4      4771   \n",
              "3       1.0                     38            1.0            1      1525   \n",
              "4       1.0                     38            1.0            2      3620   \n",
              "\n",
              "   num_distinct_items  min_item_price  max_item_price  total_onshift_dashers  \\\n",
              "0                   4             557            1239                   33.0   \n",
              "1                   1            1400            1400                    1.0   \n",
              "2                   3             820            1604                    8.0   \n",
              "3                   1            1525            1525                    5.0   \n",
              "4                   2            1425            2195                    5.0   \n",
              "\n",
              "   total_busy_dashers  total_outstanding_orders  distance  delivery_time_mins  \\\n",
              "0                14.0                      21.0     34.44                47.0   \n",
              "1                 2.0                       2.0     27.60                44.0   \n",
              "2                 6.0                      18.0     11.56                55.0   \n",
              "3                 6.0                       8.0     31.80                59.0   \n",
              "4                 5.0                       7.0      8.20                46.0   \n",
              "\n",
              "   order_hour  order_dayofweek isWeekend  \n",
              "0          22                4         0  \n",
              "1          21                1         0  \n",
              "2           0                0         0  \n",
              "3           3                3         0  \n",
              "4           2                1         0  "
            ],
            "text/html": [
              "\n",
              "  <div id=\"df-7b57eed8-5dc1-4e83-8745-c2a98fecc36a\" class=\"colab-df-container\">\n",
              "    <div>\n",
              "<style scoped>\n",
              "    .dataframe tbody tr th:only-of-type {\n",
              "        vertical-align: middle;\n",
              "    }\n",
              "\n",
              "    .dataframe tbody tr th {\n",
              "        vertical-align: top;\n",
              "    }\n",
              "\n",
              "    .dataframe thead th {\n",
              "        text-align: right;\n",
              "    }\n",
              "</style>\n",
              "<table border=\"1\" class=\"dataframe\">\n",
              "  <thead>\n",
              "    <tr style=\"text-align: right;\">\n",
              "      <th></th>\n",
              "      <th>market_id</th>\n",
              "      <th>store_primary_category</th>\n",
              "      <th>order_protocol</th>\n",
              "      <th>total_items</th>\n",
              "      <th>subtotal</th>\n",
              "      <th>num_distinct_items</th>\n",
              "      <th>min_item_price</th>\n",
              "      <th>max_item_price</th>\n",
              "      <th>total_onshift_dashers</th>\n",
              "      <th>total_busy_dashers</th>\n",
              "      <th>total_outstanding_orders</th>\n",
              "      <th>distance</th>\n",
              "      <th>delivery_time_mins</th>\n",
              "      <th>order_hour</th>\n",
              "      <th>order_dayofweek</th>\n",
              "      <th>isWeekend</th>\n",
              "    </tr>\n",
              "  </thead>\n",
              "  <tbody>\n",
              "    <tr>\n",
              "      <th>0</th>\n",
              "      <td>1.0</td>\n",
              "      <td>4</td>\n",
              "      <td>1.0</td>\n",
              "      <td>4</td>\n",
              "      <td>3441</td>\n",
              "      <td>4</td>\n",
              "      <td>557</td>\n",
              "      <td>1239</td>\n",
              "      <td>33.0</td>\n",
              "      <td>14.0</td>\n",
              "      <td>21.0</td>\n",
              "      <td>34.44</td>\n",
              "      <td>47.0</td>\n",
              "      <td>22</td>\n",
              "      <td>4</td>\n",
              "      <td>0</td>\n",
              "    </tr>\n",
              "    <tr>\n",
              "      <th>1</th>\n",
              "      <td>2.0</td>\n",
              "      <td>46</td>\n",
              "      <td>2.0</td>\n",
              "      <td>1</td>\n",
              "      <td>1900</td>\n",
              "      <td>1</td>\n",
              "      <td>1400</td>\n",
              "      <td>1400</td>\n",
              "      <td>1.0</td>\n",
              "      <td>2.0</td>\n",
              "      <td>2.0</td>\n",
              "      <td>27.60</td>\n",
              "      <td>44.0</td>\n",
              "      <td>21</td>\n",
              "      <td>1</td>\n",
              "      <td>0</td>\n",
              "    </tr>\n",
              "    <tr>\n",
              "      <th>2</th>\n",
              "      <td>2.0</td>\n",
              "      <td>36</td>\n",
              "      <td>3.0</td>\n",
              "      <td>4</td>\n",
              "      <td>4771</td>\n",
              "      <td>3</td>\n",
              "      <td>820</td>\n",
              "      <td>1604</td>\n",
              "      <td>8.0</td>\n",
              "      <td>6.0</td>\n",
              "      <td>18.0</td>\n",
              "      <td>11.56</td>\n",
              "      <td>55.0</td>\n",
              "      <td>0</td>\n",
              "      <td>0</td>\n",
              "      <td>0</td>\n",
              "    </tr>\n",
              "    <tr>\n",
              "      <th>3</th>\n",
              "      <td>1.0</td>\n",
              "      <td>38</td>\n",
              "      <td>1.0</td>\n",
              "      <td>1</td>\n",
              "      <td>1525</td>\n",
              "      <td>1</td>\n",
              "      <td>1525</td>\n",
              "      <td>1525</td>\n",
              "      <td>5.0</td>\n",
              "      <td>6.0</td>\n",
              "      <td>8.0</td>\n",
              "      <td>31.80</td>\n",
              "      <td>59.0</td>\n",
              "      <td>3</td>\n",
              "      <td>3</td>\n",
              "      <td>0</td>\n",
              "    </tr>\n",
              "    <tr>\n",
              "      <th>4</th>\n",
              "      <td>1.0</td>\n",
              "      <td>38</td>\n",
              "      <td>1.0</td>\n",
              "      <td>2</td>\n",
              "      <td>3620</td>\n",
              "      <td>2</td>\n",
              "      <td>1425</td>\n",
              "      <td>2195</td>\n",
              "      <td>5.0</td>\n",
              "      <td>5.0</td>\n",
              "      <td>7.0</td>\n",
              "      <td>8.20</td>\n",
              "      <td>46.0</td>\n",
              "      <td>2</td>\n",
              "      <td>1</td>\n",
              "      <td>0</td>\n",
              "    </tr>\n",
              "  </tbody>\n",
              "</table>\n",
              "</div>\n",
              "    <div class=\"colab-df-buttons\">\n",
              "\n",
              "  <div class=\"colab-df-container\">\n",
              "    <button class=\"colab-df-convert\" onclick=\"convertToInteractive('df-7b57eed8-5dc1-4e83-8745-c2a98fecc36a')\"\n",
              "            title=\"Convert this dataframe to an interactive table.\"\n",
              "            style=\"display:none;\">\n",
              "\n",
              "  <svg xmlns=\"http://www.w3.org/2000/svg\" height=\"24px\" viewBox=\"0 -960 960 960\">\n",
              "    <path d=\"M120-120v-720h720v720H120Zm60-500h600v-160H180v160Zm220 220h160v-160H400v160Zm0 220h160v-160H400v160ZM180-400h160v-160H180v160Zm440 0h160v-160H620v160ZM180-180h160v-160H180v160Zm440 0h160v-160H620v160Z\"/>\n",
              "  </svg>\n",
              "    </button>\n",
              "\n",
              "  <style>\n",
              "    .colab-df-container {\n",
              "      display:flex;\n",
              "      gap: 12px;\n",
              "    }\n",
              "\n",
              "    .colab-df-convert {\n",
              "      background-color: #E8F0FE;\n",
              "      border: none;\n",
              "      border-radius: 50%;\n",
              "      cursor: pointer;\n",
              "      display: none;\n",
              "      fill: #1967D2;\n",
              "      height: 32px;\n",
              "      padding: 0 0 0 0;\n",
              "      width: 32px;\n",
              "    }\n",
              "\n",
              "    .colab-df-convert:hover {\n",
              "      background-color: #E2EBFA;\n",
              "      box-shadow: 0px 1px 2px rgba(60, 64, 67, 0.3), 0px 1px 3px 1px rgba(60, 64, 67, 0.15);\n",
              "      fill: #174EA6;\n",
              "    }\n",
              "\n",
              "    .colab-df-buttons div {\n",
              "      margin-bottom: 4px;\n",
              "    }\n",
              "\n",
              "    [theme=dark] .colab-df-convert {\n",
              "      background-color: #3B4455;\n",
              "      fill: #D2E3FC;\n",
              "    }\n",
              "\n",
              "    [theme=dark] .colab-df-convert:hover {\n",
              "      background-color: #434B5C;\n",
              "      box-shadow: 0px 1px 3px 1px rgba(0, 0, 0, 0.15);\n",
              "      filter: drop-shadow(0px 1px 2px rgba(0, 0, 0, 0.3));\n",
              "      fill: #FFFFFF;\n",
              "    }\n",
              "  </style>\n",
              "\n",
              "    <script>\n",
              "      const buttonEl =\n",
              "        document.querySelector('#df-7b57eed8-5dc1-4e83-8745-c2a98fecc36a button.colab-df-convert');\n",
              "      buttonEl.style.display =\n",
              "        google.colab.kernel.accessAllowed ? 'block' : 'none';\n",
              "\n",
              "      async function convertToInteractive(key) {\n",
              "        const element = document.querySelector('#df-7b57eed8-5dc1-4e83-8745-c2a98fecc36a');\n",
              "        const dataTable =\n",
              "          await google.colab.kernel.invokeFunction('convertToInteractive',\n",
              "                                                    [key], {});\n",
              "        if (!dataTable) return;\n",
              "\n",
              "        const docLinkHtml = 'Like what you see? Visit the ' +\n",
              "          '<a target=\"_blank\" href=https://colab.research.google.com/notebooks/data_table.ipynb>data table notebook</a>'\n",
              "          + ' to learn more about interactive tables.';\n",
              "        element.innerHTML = '';\n",
              "        dataTable['output_type'] = 'display_data';\n",
              "        await google.colab.output.renderOutput(dataTable, element);\n",
              "        const docLink = document.createElement('div');\n",
              "        docLink.innerHTML = docLinkHtml;\n",
              "        element.appendChild(docLink);\n",
              "      }\n",
              "    </script>\n",
              "  </div>\n",
              "\n",
              "\n",
              "    <div id=\"df-b5ad00d5-c7f0-46a5-b83f-29c8253fa123\">\n",
              "      <button class=\"colab-df-quickchart\" onclick=\"quickchart('df-b5ad00d5-c7f0-46a5-b83f-29c8253fa123')\"\n",
              "                title=\"Suggest charts\"\n",
              "                style=\"display:none;\">\n",
              "\n",
              "<svg xmlns=\"http://www.w3.org/2000/svg\" height=\"24px\"viewBox=\"0 0 24 24\"\n",
              "     width=\"24px\">\n",
              "    <g>\n",
              "        <path d=\"M19 3H5c-1.1 0-2 .9-2 2v14c0 1.1.9 2 2 2h14c1.1 0 2-.9 2-2V5c0-1.1-.9-2-2-2zM9 17H7v-7h2v7zm4 0h-2V7h2v10zm4 0h-2v-4h2v4z\"/>\n",
              "    </g>\n",
              "</svg>\n",
              "      </button>\n",
              "\n",
              "<style>\n",
              "  .colab-df-quickchart {\n",
              "      --bg-color: #E8F0FE;\n",
              "      --fill-color: #1967D2;\n",
              "      --hover-bg-color: #E2EBFA;\n",
              "      --hover-fill-color: #174EA6;\n",
              "      --disabled-fill-color: #AAA;\n",
              "      --disabled-bg-color: #DDD;\n",
              "  }\n",
              "\n",
              "  [theme=dark] .colab-df-quickchart {\n",
              "      --bg-color: #3B4455;\n",
              "      --fill-color: #D2E3FC;\n",
              "      --hover-bg-color: #434B5C;\n",
              "      --hover-fill-color: #FFFFFF;\n",
              "      --disabled-bg-color: #3B4455;\n",
              "      --disabled-fill-color: #666;\n",
              "  }\n",
              "\n",
              "  .colab-df-quickchart {\n",
              "    background-color: var(--bg-color);\n",
              "    border: none;\n",
              "    border-radius: 50%;\n",
              "    cursor: pointer;\n",
              "    display: none;\n",
              "    fill: var(--fill-color);\n",
              "    height: 32px;\n",
              "    padding: 0;\n",
              "    width: 32px;\n",
              "  }\n",
              "\n",
              "  .colab-df-quickchart:hover {\n",
              "    background-color: var(--hover-bg-color);\n",
              "    box-shadow: 0 1px 2px rgba(60, 64, 67, 0.3), 0 1px 3px 1px rgba(60, 64, 67, 0.15);\n",
              "    fill: var(--button-hover-fill-color);\n",
              "  }\n",
              "\n",
              "  .colab-df-quickchart-complete:disabled,\n",
              "  .colab-df-quickchart-complete:disabled:hover {\n",
              "    background-color: var(--disabled-bg-color);\n",
              "    fill: var(--disabled-fill-color);\n",
              "    box-shadow: none;\n",
              "  }\n",
              "\n",
              "  .colab-df-spinner {\n",
              "    border: 2px solid var(--fill-color);\n",
              "    border-color: transparent;\n",
              "    border-bottom-color: var(--fill-color);\n",
              "    animation:\n",
              "      spin 1s steps(1) infinite;\n",
              "  }\n",
              "\n",
              "  @keyframes spin {\n",
              "    0% {\n",
              "      border-color: transparent;\n",
              "      border-bottom-color: var(--fill-color);\n",
              "      border-left-color: var(--fill-color);\n",
              "    }\n",
              "    20% {\n",
              "      border-color: transparent;\n",
              "      border-left-color: var(--fill-color);\n",
              "      border-top-color: var(--fill-color);\n",
              "    }\n",
              "    30% {\n",
              "      border-color: transparent;\n",
              "      border-left-color: var(--fill-color);\n",
              "      border-top-color: var(--fill-color);\n",
              "      border-right-color: var(--fill-color);\n",
              "    }\n",
              "    40% {\n",
              "      border-color: transparent;\n",
              "      border-right-color: var(--fill-color);\n",
              "      border-top-color: var(--fill-color);\n",
              "    }\n",
              "    60% {\n",
              "      border-color: transparent;\n",
              "      border-right-color: var(--fill-color);\n",
              "    }\n",
              "    80% {\n",
              "      border-color: transparent;\n",
              "      border-right-color: var(--fill-color);\n",
              "      border-bottom-color: var(--fill-color);\n",
              "    }\n",
              "    90% {\n",
              "      border-color: transparent;\n",
              "      border-bottom-color: var(--fill-color);\n",
              "    }\n",
              "  }\n",
              "</style>\n",
              "\n",
              "      <script>\n",
              "        async function quickchart(key) {\n",
              "          const quickchartButtonEl =\n",
              "            document.querySelector('#' + key + ' button');\n",
              "          quickchartButtonEl.disabled = true;  // To prevent multiple clicks.\n",
              "          quickchartButtonEl.classList.add('colab-df-spinner');\n",
              "          try {\n",
              "            const charts = await google.colab.kernel.invokeFunction(\n",
              "                'suggestCharts', [key], {});\n",
              "          } catch (error) {\n",
              "            console.error('Error during call to suggestCharts:', error);\n",
              "          }\n",
              "          quickchartButtonEl.classList.remove('colab-df-spinner');\n",
              "          quickchartButtonEl.classList.add('colab-df-quickchart-complete');\n",
              "        }\n",
              "        (() => {\n",
              "          let quickchartButtonEl =\n",
              "            document.querySelector('#df-b5ad00d5-c7f0-46a5-b83f-29c8253fa123 button');\n",
              "          quickchartButtonEl.style.display =\n",
              "            google.colab.kernel.accessAllowed ? 'block' : 'none';\n",
              "        })();\n",
              "      </script>\n",
              "    </div>\n",
              "\n",
              "    </div>\n",
              "  </div>\n"
            ],
            "application/vnd.google.colaboratory.intrinsic+json": {
              "type": "dataframe",
              "variable_name": "df"
            }
          },
          "metadata": {},
          "execution_count": 24
        }
      ],
      "source": [
        "# Drop unnecessary columns\n",
        "\n",
        "# Drop raw timestamp columns\n",
        "df.drop(columns=['created_at', 'actual_delivery_time'], inplace=True)\n",
        "\n",
        "df.head()"
      ]
    },
    {
      "cell_type": "markdown",
      "metadata": {
        "id": "-JJxTsQOFKyl"
      },
      "source": [
        "#### **2.3 Creating training and validation sets** <font color = red>[5 marks]</font> <br>"
      ]
    },
    {
      "cell_type": "markdown",
      "metadata": {
        "id": "wuyPJMpCFyUL"
      },
      "source": [
        "##### **2.3.1** <font color = red>[2 marks]</font> <br>\n",
        " Define target and input features"
      ]
    },
    {
      "cell_type": "code",
      "execution_count": 25,
      "metadata": {
        "colab": {
          "base_uri": "https://localhost:8080/"
        },
        "id": "BVyKFLXTFKRE",
        "outputId": "141fd195-b452-445d-a9aa-4af7be2f8c0c"
      },
      "outputs": [
        {
          "output_type": "execute_result",
          "data": {
            "text/plain": [
              "Index(['market_id', 'store_primary_category', 'order_protocol', 'total_items',\n",
              "       'subtotal', 'num_distinct_items', 'min_item_price', 'max_item_price',\n",
              "       'total_onshift_dashers', 'total_busy_dashers',\n",
              "       'total_outstanding_orders', 'distance', 'order_hour', 'order_dayofweek',\n",
              "       'isWeekend'],\n",
              "      dtype='object')"
            ]
          },
          "metadata": {},
          "execution_count": 25
        }
      ],
      "source": [
        "# Define target variable (y) and features (X)\n",
        "y = df.pop('delivery_time_mins')\n",
        "X = df\n",
        "\n",
        "X.columns"
      ]
    },
    {
      "cell_type": "markdown",
      "metadata": {
        "id": "e56iVNqdF3G8"
      },
      "source": [
        "##### **2.3.2** <font color = red>[3 marks]</font> <br>\n",
        " Split the data into training and test sets"
      ]
    },
    {
      "cell_type": "code",
      "execution_count": 26,
      "metadata": {
        "colab": {
          "base_uri": "https://localhost:8080/",
          "height": 211
        },
        "id": "0t7XtNDEF6Pu",
        "outputId": "1aa404f5-8f33-4d0e-bb97-268674430256"
      },
      "outputs": [
        {
          "output_type": "error",
          "ename": "NameError",
          "evalue": "name 'train_test_split' is not defined",
          "traceback": [
            "\u001b[0;31m---------------------------------------------------------------------------\u001b[0m",
            "\u001b[0;31mNameError\u001b[0m                                 Traceback (most recent call last)",
            "\u001b[0;32m/tmp/ipython-input-1754988067.py\u001b[0m in \u001b[0;36m<cell line: 0>\u001b[0;34m()\u001b[0m\n\u001b[1;32m      1\u001b[0m \u001b[0;31m# Split data into training and testing sets\u001b[0m\u001b[0;34m\u001b[0m\u001b[0;34m\u001b[0m\u001b[0m\n\u001b[1;32m      2\u001b[0m \u001b[0;34m\u001b[0m\u001b[0m\n\u001b[0;32m----> 3\u001b[0;31m \u001b[0mX_train\u001b[0m\u001b[0;34m,\u001b[0m \u001b[0mX_test\u001b[0m\u001b[0;34m,\u001b[0m \u001b[0my_train\u001b[0m\u001b[0;34m,\u001b[0m \u001b[0my_test\u001b[0m \u001b[0;34m=\u001b[0m \u001b[0mtrain_test_split\u001b[0m\u001b[0;34m(\u001b[0m\u001b[0mX\u001b[0m\u001b[0;34m,\u001b[0m \u001b[0my\u001b[0m\u001b[0;34m,\u001b[0m \u001b[0mtest_size\u001b[0m\u001b[0;34m=\u001b[0m\u001b[0;36m0.2\u001b[0m\u001b[0;34m,\u001b[0m \u001b[0mrandom_state\u001b[0m\u001b[0;34m=\u001b[0m\u001b[0;36m100\u001b[0m\u001b[0;34m)\u001b[0m\u001b[0;34m\u001b[0m\u001b[0;34m\u001b[0m\u001b[0m\n\u001b[0m\u001b[1;32m      4\u001b[0m \u001b[0;34m\u001b[0m\u001b[0m\n\u001b[1;32m      5\u001b[0m \u001b[0;31m# Display the shape of the splits\u001b[0m\u001b[0;34m\u001b[0m\u001b[0;34m\u001b[0m\u001b[0m\n",
            "\u001b[0;31mNameError\u001b[0m: name 'train_test_split' is not defined"
          ]
        }
      ],
      "source": [
        "# Split data into training and testing sets\n",
        "\n",
        "X_train, X_test, y_train, y_test = train_test_split(X, y, test_size=0.2, random_state=100)\n",
        "\n",
        "# Display the shape of the splits\n",
        "print(\"X_train shape:\", X_train.shape)\n",
        "print(\"X_test shape:\", X_test.shape)\n",
        "print(\"y_train shape:\", y_train.shape)\n",
        "print(\"y_test shape:\", y_test.shape)\n"
      ]
    },
    {
      "cell_type": "markdown",
      "metadata": {
        "id": "ZQxv96NBAq_y"
      },
      "source": [
        "## **3. Exploratory Data Analysis on Training Data** <font color = red>[20 marks]</font> <br>\n",
        "1. Analyzing the correlation between variables to identify patterns and relationships\n",
        "2. Identifying and addressing outliers to ensure the integrity of the analysis\n",
        "3. Exploring the relationships between variables and examining the distribution of the data for better insights"
      ]
    },
    {
      "cell_type": "markdown",
      "metadata": {
        "id": "VU1baEcRc1-A"
      },
      "source": [
        "#### **3.1 Feature Distributions** <font color = red> [7 marks]</font> <br>\n"
      ]
    },
    {
      "cell_type": "code",
      "execution_count": null,
      "metadata": {
        "id": "Rj7yFI7VJ_va"
      },
      "outputs": [],
      "source": [
        "# Define numerical and categorical columns for easy EDA and data manipulation\n",
        "numerical_cols = X_train.select_dtypes(include=np.number).columns.tolist()\n",
        "categorical_cols = X_train.select_dtypes(include='category').columns.tolist()\n",
        "\n",
        "print(\"Numerical columns:\", numerical_cols)\n",
        "print(\"Categorical columns:\", categorical_cols)"
      ]
    },
    {
      "cell_type": "markdown",
      "metadata": {
        "id": "fWMFLWKpHE-R"
      },
      "source": [
        "##### **3.1.1** <font color = red>[3 marks]</font> <br>\n",
        "Plot distributions for numerical columns in the training set to understand their spread and any skewness"
      ]
    },
    {
      "cell_type": "code",
      "execution_count": null,
      "metadata": {
        "id": "_M0u5G1YR73_"
      },
      "outputs": [],
      "source": [
        "# Plot distributions for all numerical columns\n",
        "\n",
        "\n",
        "# Set up plot style\n",
        "sns.set(style='whitegrid')\n",
        "plt.figure(figsize=(16, 22))\n",
        "\n",
        "# Plot distribution for each numerical column\n",
        "for i, col in enumerate(numerical_cols):\n",
        "    plt.subplot(len(numerical_cols) // 2 + 1, 2, i + 1)\n",
        "    sns.histplot(X_train[col], kde=True, bins=30, color='steelblue')\n",
        "    plt.title(f'Distribution of {col}')\n",
        "    plt.xlabel(col)\n",
        "    plt.ylabel('Frequency')\n",
        "\n",
        "plt.tight_layout()\n",
        "plt.show()"
      ]
    },
    {
      "cell_type": "markdown",
      "metadata": {
        "id": "4MtpapIvc9rC"
      },
      "source": [
        "##### **3.1.2** <font color = red>[2 marks]</font> <br>\n",
        "Check the distribution of categorical features"
      ]
    },
    {
      "cell_type": "code",
      "execution_count": null,
      "metadata": {
        "id": "zr8loNgMLdrm"
      },
      "outputs": [],
      "source": [
        "# Distribution of categorical columns\n",
        "\n",
        "plt.figure(figsize=(20, 18))\n",
        "for i, col in enumerate(categorical_cols):\n",
        "    plt.subplot(len(categorical_cols) // 2 + 1, 2, i + 1)\n",
        "    sns.histplot(X_train[col],kde=True, bins=30, color='steelblue')\n",
        "    plt.title(f'Distribution of {col}')\n",
        "plt.tight_layout()\n",
        "plt.show()"
      ]
    },
    {
      "cell_type": "markdown",
      "metadata": {
        "id": "1-9pcLxzJZWf"
      },
      "source": [
        "##### **3.1.3** <font color = red>[2 mark]</font> <br>\n",
        "Visualise the distribution of the target variable to understand its spread and any skewness"
      ]
    },
    {
      "cell_type": "code",
      "execution_count": null,
      "metadata": {
        "id": "fiWe2Bl9R7yL"
      },
      "outputs": [],
      "source": [
        "# Distribution of time_taken\n",
        "\n",
        "\n",
        "plt.figure(figsize=(10, 6))\n",
        "sns.histplot(y_train, kde=True, bins=50, color='steelblue')\n",
        "\n",
        "# Title and labels\n",
        "plt.title('Distribution of Delivery Time (minutes)', fontsize=14)\n",
        "plt.xlabel('Delivery Time (mins)', fontsize=12)\n",
        "plt.ylabel('Frequency', fontsize=12)\n",
        "\n",
        "plt.tight_layout()\n",
        "plt.show()\n"
      ]
    },
    {
      "cell_type": "markdown",
      "metadata": {
        "id": "pbxczs61dROZ"
      },
      "source": [
        "#### **3.2 Relationships Between Features** <font color = red>[3 marks]</font> <br>"
      ]
    },
    {
      "cell_type": "markdown",
      "metadata": {
        "id": "YH81kNkOOvlx"
      },
      "source": [
        "##### **3.2.1** <font color = red>[3 marks]</font> <br>\n",
        "Scatter plots for important numerical and categorical features to observe how they relate to `time_taken`"
      ]
    },
    {
      "cell_type": "code",
      "execution_count": null,
      "metadata": {
        "id": "zIBnRHohR799"
      },
      "outputs": [],
      "source": [
        "# Scatter plot to visualise the relationship between delivery_time_mins and other features\n",
        "\n",
        "plt.figure(figsize=(18, 16))\n",
        "for i, col in enumerate(numerical_cols):\n",
        "    plt.subplot(len(numerical_cols) // 2 + 1, 2, i + 1)\n",
        "    sns.scatterplot(x=X_train[col], y=y_train, alpha=0.6, color='steelblue')\n",
        "    plt.title(f'Delivery Time vs {col}')\n",
        "    plt.xlabel(col)\n",
        "    plt.ylabel('Delivery Time (mins)')\n",
        "\n",
        "plt.tight_layout()\n",
        "plt.show()"
      ]
    },
    {
      "cell_type": "code",
      "execution_count": null,
      "metadata": {
        "id": "KiWL3cKowfZd"
      },
      "outputs": [],
      "source": [
        "# Show the distribution of time_taken for different hours\n",
        "\n",
        "plt.figure(figsize=(12, 6))\n",
        "sns.boxplot(x=X_train['order_hour'], y=y_train)\n",
        "plt.title('Distribution of Delivery Time by Order Hour')\n",
        "plt.xlabel('Order Hour')\n",
        "plt.ylabel('Delivery Time (mins)')\n",
        "plt.show()"
      ]
    },
    {
      "cell_type": "markdown",
      "metadata": {
        "id": "GKg6rBljIJFP"
      },
      "source": [
        "#### **3.3 Correlation Analysis** <font color = red>[5 marks]</font> <br>\n",
        "Check correlations between numerical features to identify which variables are strongly related to `time_taken`"
      ]
    },
    {
      "cell_type": "markdown",
      "metadata": {
        "id": "Cyk00sbYfnc0"
      },
      "source": [
        "##### **3.3.1** <font color = red>[3 marks]</font> <br>\n",
        "Plot a heatmap to display correlations"
      ]
    },
    {
      "cell_type": "code",
      "execution_count": null,
      "metadata": {
        "id": "we9RI1Y3GEse"
      },
      "outputs": [],
      "source": [
        "train_data = X_train.copy()\n",
        "train_data['delivery_time_mins'] = y_train\n",
        "numerical_cols_a = train_data.select_dtypes(include=['int64', 'float64']).columns\n",
        "\n",
        "plt.figure(figsize=(12, 8))\n",
        "correlation_matrix = train_data[numerical_cols_a].corr()\n",
        "\n",
        "sns.heatmap(correlation_matrix, annot=True, fmt=\".2f\", cmap=\"coolwarm\", square=True)\n",
        "plt.title(\"Correlation Matrix including Target Variable\")\n",
        "plt.show()"
      ]
    },
    {
      "cell_type": "code",
      "execution_count": null,
      "metadata": {
        "id": "WxrdHdvKR7vy"
      },
      "outputs": [],
      "source": [
        "# Calculate the correlation matrix including the target variable\n",
        "correlation_matrix = X_train[numerical_cols].corrwith(y_train).sort_values(ascending=False)\n",
        "\n",
        "# Plot the heatmap of the correlation matrix\n",
        "plt.figure(figsize=(10, 8))\n",
        "sns.heatmap(correlation_matrix.to_frame(), annot=True, cmap='coolwarm', fmt=\".2f\")\n",
        "plt.title('Correlation of Numerical Features with Delivery Time')\n",
        "plt.show()"
      ]
    },
    {
      "cell_type": "markdown",
      "metadata": {
        "id": "8yuD3RIwffZE"
      },
      "source": [
        "##### **3.3.2** <font color = red>[2 marks]</font> <br>\n",
        "Drop the columns with weak correlations with the target variable"
      ]
    },
    {
      "cell_type": "code",
      "execution_count": null,
      "metadata": {
        "id": "MDZN586gH8R_"
      },
      "outputs": [],
      "source": [
        "# Drop 3 weakly correlated columns from training dataset\n",
        "columns_to_drop = ['total_onshift_dasher', 'total_outstanding_orders', 'num_distinct_item']\n",
        "X_train = X_train.drop(columns=columns_to_drop)\n",
        "#X_test = X_test.drop(columns=columns_to_drop)\n",
        "\n",
        "print(\"Shape of X_train after dropping columns:\", X_train.shape)\n",
        "#print(\"Shape of X_test after dropping columns:\", X_test.shape)"
      ]
    },
    {
      "cell_type": "markdown",
      "metadata": {
        "id": "_mZv2rz6lxvc"
      },
      "source": [
        "#### **3.4 Handling the Outliers** <font color = red>[5 marks]</font> <br>\n",
        "\n"
      ]
    },
    {
      "cell_type": "markdown",
      "metadata": {
        "id": "hdyAT-OhyH3z"
      },
      "source": [
        "##### **3.4.1** <font color = red>[2 marks]</font> <br>\n",
        "Visualise potential outliers for the target variable and other numerical features using boxplots"
      ]
    },
    {
      "cell_type": "code",
      "execution_count": null,
      "metadata": {
        "id": "ow3Mowo4R71T"
      },
      "outputs": [],
      "source": [
        "# Boxplot for time_taken\n",
        "plt.figure(figsize=(8, 6))\n",
        "sns.boxplot(y=y_train)\n",
        "plt.title('Boxplot of Delivery Time (mins)')\n",
        "plt.ylabel('Delivery Time (mins)')\n",
        "plt.show()\n",
        "\n",
        "# Boxplots for other numerical features\n",
        "numerical_cols_after_drop = X_train.select_dtypes(include=np.number).columns.tolist()\n",
        "\n",
        "plt.figure(figsize=(16, 18))\n",
        "for i, col in enumerate(numerical_cols_after_drop):\n",
        "    plt.subplot(len(numerical_cols_after_drop) // 2 + 1, 2, i + 1)\n",
        "    sns.boxplot(y=X_train[col])\n",
        "    plt.title(f'Boxplot of {col}')\n",
        "    plt.ylabel(col)\n",
        "\n",
        "plt.tight_layout()\n",
        "plt.show()"
      ]
    },
    {
      "cell_type": "markdown",
      "metadata": {
        "id": "_ZCaGBKv_stm"
      },
      "source": [
        "##### **3.4.2** <font color = red>[3 marks]</font> <br>\n",
        "Handle outliers present in all columns"
      ]
    },
    {
      "cell_type": "code",
      "execution_count": null,
      "metadata": {
        "id": "cwQ1A_wZ_X_K"
      },
      "outputs": [],
      "source": [
        "# Handle outliers\n",
        "\n",
        "# Create a copy to work on\n",
        "train_data = pd.concat([X_train, y_train], axis=1)\n",
        "\n",
        "def cap_outliers(df, col):\n",
        "    Q1 = df[col].quantile(0.25)\n",
        "    Q3 = df[col].quantile(0.75)\n",
        "    IQR = Q3 - Q1\n",
        "    lower_bound = Q1 - 1.5 * IQR\n",
        "    upper_bound = Q3 + 1.5 * IQR\n",
        "    df[col] = np.where(df[col] < lower_bound, lower_bound,\n",
        "                       np.where(df[col] > upper_bound, upper_bound, df[col]))\n",
        "    return df\n",
        "\n",
        "# Apply cap putlier fn to delivery_time_mins and other numerical columns\n",
        "clean_cols_after_drop = train_data.select_dtypes(include=np.number).columns.tolist()\n",
        "\n",
        "for col in clean_cols_after_drop:\n",
        "     train_data = cap_outliers(train_data, col)\n",
        "\n",
        "X_train = train_data.drop('delivery_time_mins', axis=1)\n",
        "y_train = train_data['delivery_time_mins']\n",
        "\n",
        "# Boxplot for time_taken after capping outlier\n",
        "plt.figure(figsize=(8, 6))\n",
        "sns.boxplot(y=y_train)\n",
        "plt.title('Boxplot of Delivery Time (mins)')\n",
        "plt.ylabel('Delivery Time (mins)')\n",
        "plt.show()\n",
        "\n",
        "# Boxplots for other numerical features after capping outlier\n",
        "numerical_cols_after_drop = X_train.select_dtypes(include=np.number).columns.tolist()\n",
        "\n",
        "plt.figure(figsize=(16, 18))\n",
        "for i, col in enumerate(numerical_cols_after_drop):\n",
        "    plt.subplot(len(numerical_cols_after_drop) // 2 + 1, 2, i + 1)\n",
        "    sns.boxplot(y=X_train[col])\n",
        "    plt.title(f'Boxplot of {col}')\n",
        "    plt.ylabel(col)\n",
        "\n",
        "plt.tight_layout()\n",
        "plt.show()"
      ]
    },
    {
      "cell_type": "markdown",
      "metadata": {
        "id": "v0Cd2J-LGWaF"
      },
      "source": [
        "## **4. Exploratory Data Analysis on Validation Data** <font color = red>[optional]</font> <br>\n",
        "Optionally, perform EDA on test data to see if the distribution match with the training data"
      ]
    },
    {
      "cell_type": "code",
      "execution_count": null,
      "metadata": {
        "id": "8sN6bG_hTbUE"
      },
      "outputs": [],
      "source": [
        "# Define numerical and categorical columns for easy EDA and data manipulation\n",
        "numerical_cols = X_test.select_dtypes(include=np.number).columns.tolist()\n",
        "categorical_cols = X_test.select_dtypes(include='category').columns.tolist()\n"
      ]
    },
    {
      "cell_type": "markdown",
      "metadata": {
        "id": "6Zq16lr0Q9IG"
      },
      "source": [
        "#### **4.1 Feature Distributions**\n"
      ]
    },
    {
      "cell_type": "markdown",
      "metadata": {
        "id": "WuoIVgXlQC9y"
      },
      "source": [
        "##### **4.1.1**\n",
        "Plot distributions for numerical columns in the validation set to understand their spread and any skewness"
      ]
    },
    {
      "cell_type": "code",
      "execution_count": null,
      "metadata": {
        "id": "JKgSvKvzG8fv"
      },
      "outputs": [],
      "source": [
        "# Plot distributions for all numerical columns\n",
        "\n",
        "\n",
        "# Set up plot style\n",
        "sns.set(style='whitegrid')\n",
        "plt.figure(figsize=(16, 18))\n",
        "\n",
        "# Plot distribution for each numerical column\n",
        "for i, col in enumerate(numerical_cols):\n",
        "    plt.subplot(len(numerical_cols) // 2 + 1, 2, i + 1)\n",
        "    sns.histplot(X_test[col], kde=True, bins=30, color='steelblue')\n",
        "    plt.title(f'Distribution of {col} (Test Set)')\n",
        "    plt.xlabel(col)\n",
        "    plt.ylabel('Frequency')\n",
        "\n",
        "plt.tight_layout()\n",
        "plt.show()"
      ]
    },
    {
      "cell_type": "markdown",
      "metadata": {
        "id": "MrywBQGWQC9z"
      },
      "source": [
        "##### **4.1.2**\n",
        "Check the distribution of categorical features"
      ]
    },
    {
      "cell_type": "code",
      "execution_count": null,
      "metadata": {
        "id": "p0CIcl2tHBwp"
      },
      "outputs": [],
      "source": [
        "# Distribution of categorical columns\n",
        "\n",
        "plt.figure(figsize=(20, 18))\n",
        "for i, col in enumerate(categorical_cols):\n",
        "    plt.subplot(len(categorical_cols) // 2 + 1, 2, i + 1)\n",
        "    sns.histplot(X_test[col],kde=True, bins=30, color='steelblue')\n",
        "    plt.title(f'Distribution of {col} (Test Set)')\n",
        "plt.tight_layout()\n",
        "plt.show()"
      ]
    },
    {
      "cell_type": "markdown",
      "metadata": {
        "id": "8_j74bnlQC9z"
      },
      "source": [
        "##### **4.1.3**\n",
        "Visualise the distribution of the target variable to understand its spread and any skewness"
      ]
    },
    {
      "cell_type": "code",
      "execution_count": null,
      "metadata": {
        "id": "_dGfR8MHGtqm"
      },
      "outputs": [],
      "source": [
        "# Distribution of time_taken\n",
        "\n",
        "plt.figure(figsize=(10, 6))\n",
        "sns.histplot(y_test, kde=True, bins=50, color='steelblue')\n",
        "\n",
        "# Title and labels\n",
        "plt.title('Distribution of Delivery Time (minutes) (Test Set)', fontsize=14)\n",
        "plt.xlabel('Delivery Time (mins)', fontsize=12)\n",
        "plt.ylabel('Frequency', fontsize=12)\n",
        "\n",
        "plt.tight_layout()\n",
        "plt.show()"
      ]
    },
    {
      "cell_type": "markdown",
      "metadata": {
        "id": "Ki2FI7fsHDgK"
      },
      "source": [
        "#### **4.2 Relationships Between Features**\n",
        "Scatter plots for numerical features to observe how they relate to each other, especially to `time_taken`"
      ]
    },
    {
      "cell_type": "code",
      "execution_count": null,
      "metadata": {
        "id": "8lzNPoK4HFnZ"
      },
      "outputs": [],
      "source": [
        "# Scatter plot to visualise the relationship between time_taken and other features\n",
        "\n",
        "plt.figure(figsize=(18, 16))\n",
        "for i, col in enumerate(numerical_cols):\n",
        "    plt.subplot(len(numerical_cols) // 2 + 1, 2, i + 1)\n",
        "    sns.scatterplot(x=X_test[col], y=y_test, alpha=0.6, color='steelblue')\n",
        "    plt.title(f'Delivery Time vs {col} (Test Set)')\n",
        "    plt.xlabel(col)\n",
        "    plt.ylabel('Delivery Time (mins)')\n",
        "\n",
        "plt.tight_layout()\n",
        "plt.show()"
      ]
    },
    {
      "cell_type": "markdown",
      "metadata": {
        "id": "Z8VoM0XfXWko"
      },
      "source": [
        "#### **4.3** Drop the columns with weak correlations with the target variable"
      ]
    },
    {
      "cell_type": "code",
      "execution_count": null,
      "metadata": {
        "id": "1BnM8w2lXWkp"
      },
      "outputs": [],
      "source": [
        "# Drop the weakly correlated columns from test dataset\n",
        "\n",
        "columns_to_drop = ['min_item_price', 'order_dayofweek', 'order_hour']\n",
        "X_test = X_test.drop(columns=columns_to_drop)\n",
        "print(\"Shape of X_test after dropping columns:\", X_test.shape)\n"
      ]
    },
    {
      "cell_type": "markdown",
      "metadata": {
        "id": "ReNN4PyM8enl"
      },
      "source": [
        "## **5. Model Building** <font color = red>[15 marks]</font> <br>"
      ]
    },
    {
      "cell_type": "markdown",
      "metadata": {
        "id": "2l2XfNF6nc8L"
      },
      "source": [
        "#### **Import Necessary Libraries**"
      ]
    },
    {
      "cell_type": "code",
      "execution_count": null,
      "metadata": {
        "id": "__fmfT6vQWpd"
      },
      "outputs": [],
      "source": [
        "# Import libraries\n",
        "import statsmodels.api as sm\n",
        "from statsmodels.stats.outliers_influence import variance_inflation_factor\n",
        "\n",
        "from sklearn.model_selection import train_test_split\n",
        "from sklearn.metrics import mean_squared_error, r2_score\n",
        "from sklearn.preprocessing import MinMaxScaler\n",
        "from sklearn.linear_model import LinearRegression\n",
        "from sklearn.feature_selection import RFE"
      ]
    },
    {
      "cell_type": "markdown",
      "metadata": {
        "id": "fCLIKw5pQiA7"
      },
      "source": [
        "#### **5.1 Feature Scaling** <font color = red>[3 marks]</font> <br>"
      ]
    },
    {
      "cell_type": "code",
      "execution_count": null,
      "metadata": {
        "id": "newEgSyyQiHK"
      },
      "outputs": [],
      "source": [
        "# Apply scaling to the numerical columns\n",
        "\n",
        "scaler = MinMaxScaler()\n",
        "\n",
        "num_cols = X_train.select_dtypes(include=np.number).columns.to_list()\n",
        "X_train[num_cols] = scaler.fit_transform(X_train[num_cols])\n",
        "X_test[num_cols] = scaler.transform(X_test[num_cols])\n",
        "\n",
        "print(\"Numerical columns in X_train after scaling:\")\n",
        "display(X_train[num_cols].head())\n",
        "\n",
        "print(\"Numerical columns in X_test after scaling:\")\n",
        "display(X_test[num_cols].head())"
      ]
    },
    {
      "cell_type": "markdown",
      "metadata": {
        "id": "RXcV5Z_E8tLL"
      },
      "source": [
        "Note that linear regression is agnostic to feature scaling. However, with feature scaling, we get the coefficients to be somewhat on the same scale so that it becomes easier to compare them."
      ]
    },
    {
      "cell_type": "markdown",
      "metadata": {
        "id": "2bxip-t3Y1MB"
      },
      "source": [
        "#### **5.2 Build a linear regression model** <font color = red>[5 marks]</font> <br>"
      ]
    },
    {
      "cell_type": "markdown",
      "metadata": {
        "id": "k7jZciTFtric"
      },
      "source": [
        "You can choose from the libraries *statsmodels* and *scikit-learn* to build the model."
      ]
    },
    {
      "cell_type": "code",
      "execution_count": null,
      "metadata": {
        "id": "DMRpgx_iQYM4"
      },
      "outputs": [],
      "source": [
        "# Create/Initialise the model\n",
        "model = LinearRegression()"
      ]
    },
    {
      "cell_type": "code",
      "execution_count": null,
      "metadata": {
        "id": "hbJVZpMiW8b2"
      },
      "outputs": [],
      "source": [
        "# Train the model using the training data\n",
        "lr = model.fit(X_train, y_train)"
      ]
    },
    {
      "cell_type": "code",
      "execution_count": null,
      "metadata": {
        "id": "cCQcJtDbW_dG"
      },
      "outputs": [],
      "source": [
        "# Make predictions on the test set\n",
        "y_pred = model.predict(X_test)"
      ]
    },
    {
      "cell_type": "code",
      "execution_count": null,
      "metadata": {
        "id": "Udw5kE1fXBsR"
      },
      "outputs": [],
      "source": [
        "# Find results for evaluation metrics\n",
        "mse = mean_squared_error(y_test, y_pred)\n",
        "rmse = np.sqrt(mse)\n",
        "mae = mean_absolute_error(y_test, y_pred)\n",
        "r2 = r2_score(y_test, y_pred)\n",
        "\n",
        "print(f\"Mean Squared Error (MSE): {mse:.2f}\")\n",
        "print(f\"Root Mean Squared Error (RMSE): {rmse:.2f}\")\n",
        "print(f\"Mean Absolute Error (MAE): {mae:.2f}\")\n",
        "print(f\"R-squared (R2): {r2:.2f}\")"
      ]
    },
    {
      "cell_type": "markdown",
      "metadata": {
        "id": "P3-HovybcZKR"
      },
      "source": [
        "Note that we have 12 (depending on how you select features) training features. However, not all of them would be useful. Let's say we want to take the most relevant 8 features.\n",
        "\n",
        "We will use Recursive Feature Elimination (RFE) here.\n",
        "\n",
        "For this, you can look at the coefficients / p-values of features from the model summary and perform feature elimination, or you can use the RFE module provided with *scikit-learn*."
      ]
    },
    {
      "cell_type": "markdown",
      "metadata": {
        "id": "zU8OLQ4bnwdr"
      },
      "source": [
        "#### **5.3 Build the model and fit RFE to select the most important features** <font color = red>[7 marks]</font> <br>"
      ]
    },
    {
      "cell_type": "markdown",
      "metadata": {
        "id": "h4FZMiX11RyI"
      },
      "source": [
        "For RFE, we will start with all features and use\n",
        "the RFE method to recursively reduce the number of features one-by-one.\n",
        "\n",
        "After analysing the results of these iterations, we select the one that has a good balance between performance and number of features."
      ]
    },
    {
      "cell_type": "code",
      "execution_count": null,
      "metadata": {
        "id": "ub1HgSwl1eiC"
      },
      "outputs": [],
      "source": [
        "# Loop through the number of features and test the model\n",
        "\n",
        "# Running RFE with the output number of the variable equal to 8\n",
        "lm = LinearRegression()\n",
        "lm.fit(X_train, y_train)\n",
        "\n",
        "rfe = RFE(lm, n_features_to_select=8)             # running RFE\n",
        "rfe = rfe.fit(X_train, y_train)"
      ]
    },
    {
      "cell_type": "code",
      "execution_count": null,
      "metadata": {
        "id": "WQaY3XM0KrXt"
      },
      "outputs": [],
      "source": [
        "list(zip(X_train.columns,rfe.support_,rfe.ranking_))"
      ]
    },
    {
      "cell_type": "code",
      "execution_count": null,
      "metadata": {
        "id": "4OhhwjZAKwcT"
      },
      "outputs": [],
      "source": [
        "col = X_train.columns[rfe.support_]\n",
        "col"
      ]
    },
    {
      "cell_type": "code",
      "execution_count": null,
      "metadata": {
        "id": "hJ3bJhECLCZq"
      },
      "outputs": [],
      "source": [
        "X_train.columns[~rfe.support_]"
      ]
    },
    {
      "cell_type": "code",
      "execution_count": null,
      "metadata": {
        "id": "M7p-CAQn3wQE"
      },
      "outputs": [],
      "source": [
        "# Build the final model with selected number of features\n",
        "\n",
        "# Creating X_test dataframe with RFE selected variables\n",
        "X_train_rfe = X_train[col]\n",
        "\n",
        "# Adding a constant variable\n",
        "X_train_rfe = sm.add_constant(X_train_rfe)\n",
        "\n",
        "lm = sm.OLS(y_train,X_train_rfe).fit()   # Running the linear model\n",
        "\n",
        "#Let's see the summary of our linear model\n",
        "print(lm.summary())"
      ]
    },
    {
      "cell_type": "code",
      "execution_count": null,
      "metadata": {
        "id": "blMPa-6qMRGL"
      },
      "outputs": [],
      "source": [
        "# Calculate the VIFs for the new model\n",
        "from statsmodels.stats.outliers_influence import variance_inflation_factor\n",
        "\n",
        "vif = pd.DataFrame()\n",
        "X = X_train_rfe.drop(['const'], axis=1)\n",
        "vif['Features'] = X.columns\n",
        "vif['VIF'] = [variance_inflation_factor(X.values, i) for i in range(X.shape[1])]\n",
        "vif['VIF'] = round(vif['VIF'], 2)\n",
        "vif = vif.sort_values(by = \"VIF\", ascending = False)\n",
        "vif"
      ]
    },
    {
      "cell_type": "markdown",
      "metadata": {
        "id": "t0l_mLL_4OOl"
      },
      "source": [
        "## **6. Results and Inference** <font color = red>[5 marks]</font> <br>"
      ]
    },
    {
      "cell_type": "markdown",
      "metadata": {
        "id": "jsPGaacJ71mt"
      },
      "source": [
        "#### **6.1 Perform Residual Analysis** <font color = red>[3 marks]</font> <br>"
      ]
    },
    {
      "cell_type": "code",
      "execution_count": null,
      "metadata": {
        "id": "Lbj7O8rf7SZS"
      },
      "outputs": [],
      "source": [
        "# Perform residual analysis using plots like residuals vs predicted values, Q-Q plot and residual histogram\n",
        "\n",
        "# Get predictions on the training data using the final model (lm)\n",
        "y_train_pred = lm.predict(X)\n",
        "\n",
        "# Calculate residuals\n",
        "residuals = y_train - y_train_pred\n",
        "\n",
        "# Plot the histogram of the error terms\n",
        "fig = plt.figure()\n",
        "plt.figure(figsize=(10, 6))\n",
        "sns.distplot(residuals, bins = 20)\n",
        "fig.suptitle('Error Terms', fontsize = 20)                  # Plot heading\n",
        "plt.xlabel('Errors', fontsize = 18)                         # X-label\n"
      ]
    },
    {
      "cell_type": "markdown",
      "metadata": {
        "id": "Aq4g9xPsu4T5"
      },
      "source": [
        "[Your inferences here:]\n",
        "\n"
      ]
    },
    {
      "cell_type": "markdown",
      "metadata": {
        "id": "S2-CiCId7_y9"
      },
      "source": [
        "#### **6.2 Perform Coefficient Analysis** <font color = red>[2 marks]</font> <br>"
      ]
    },
    {
      "cell_type": "markdown",
      "metadata": {
        "id": "y2koFJovu-cH"
      },
      "source": [
        "Perform coefficient analysis to find how changes in features affect the target.\n",
        "Also, the features were scaled, so interpret the scaled and unscaled coefficients to understand the impact of feature changes on delivery time.\n"
      ]
    },
    {
      "cell_type": "code",
      "execution_count": null,
      "metadata": {
        "id": "6uuL9D8DRQY7"
      },
      "outputs": [],
      "source": [
        "# Compare the scaled vs unscaled features used in the final model"
      ]
    },
    {
      "cell_type": "markdown",
      "metadata": {
        "id": "OQ5VcQ2G-SOb"
      },
      "source": [
        "Additionally, we can analyse the effect of a unit change in a feature. In other words, because we have scaled the features, a unit change in the features will not translate directly to the model. Use scaled and unscaled coefficients to find how will a unit change in a feature affect the target."
      ]
    },
    {
      "cell_type": "code",
      "execution_count": null,
      "metadata": {
        "id": "dMHN7r-x-Lp5"
      },
      "outputs": [],
      "source": [
        "# Analyze the effect of a unit change in a feature, say 'total_items'\n",
        "\n"
      ]
    },
    {
      "cell_type": "markdown",
      "metadata": {
        "id": "aFWJ2s9I_Yeo"
      },
      "source": [
        "Note:\n",
        "The coefficients on the original scale might differ greatly in magnitude from the scaled coefficients, but they both describe the same relationships between variables.\n",
        "\n",
        "Interpretation is key: Focus on the direction and magnitude of the coefficients on the original scale to understand the impact of each variable on the response variable in the original units."
      ]
    },
    {
      "cell_type": "markdown",
      "metadata": {
        "id": "ClCit1tvKIyE"
      },
      "source": [
        "Include conclusions in your report document."
      ]
    },
    {
      "cell_type": "markdown",
      "metadata": {
        "id": "mn-wDgoeSiHP"
      },
      "source": [
        "## Subjective Questions <font color = red>[20 marks]</font>"
      ]
    },
    {
      "cell_type": "markdown",
      "metadata": {
        "id": "h1aj52YxYHzt"
      },
      "source": [
        "Answer the following questions only in the notebook. Include the visualisations/methodologies/insights/outcomes from all the above steps in your report."
      ]
    },
    {
      "cell_type": "markdown",
      "metadata": {
        "id": "TVJSi-Q0Cw_r"
      },
      "source": [
        "#### Subjective Questions based on Assignment"
      ]
    },
    {
      "cell_type": "markdown",
      "metadata": {
        "id": "1_jiT95xTA6q"
      },
      "source": [
        "##### **Question 1.** <font color = red>[2 marks]</font> <br>\n",
        "\n",
        "Are there any categorical variables in the data? From your analysis of the categorical variables from the dataset, what could you infer about their effect on the dependent variable?"
      ]
    },
    {
      "cell_type": "markdown",
      "metadata": {
        "id": "TvFQvBy3VM9A"
      },
      "source": [
        "**Answer:**\n",
        ">Categorical Variable(s) in the Data\n",
        "\n",
        "**From the OLS summary:**\n",
        "\n",
        "isWeekend is a binary categorical variable.\n",
        "\n",
        "It likely represents whether the order was placed on a weekend (1) or weekday (0).\n",
        "\n",
        "Coef of `isWeekend` is **+1.444**\n",
        "\n",
        "Being a weekend increases delivery time by ~1.44 minutes, on average, holding other variables constant.\n",
        "\n",
        "**Note: ** Other categorical variables (like store_primary_category or order_protocol)  have been dropped during preprocessing or encoded as dummies and not included in this particular model output.\n"
      ]
    },
    {
      "cell_type": "markdown",
      "metadata": {
        "id": "KqPxxtWEY3_W"
      },
      "source": [
        "\n",
        "\n",
        "---\n",
        "\n"
      ]
    },
    {
      "cell_type": "markdown",
      "metadata": {
        "id": "DDSRymTJTHCW"
      },
      "source": [
        "##### **Question 2.** <font color = red>[1 marks]</font> <br>\n",
        "What does `test_size = 0.2` refer to during splitting the data into training and test sets?"
      ]
    },
    {
      "cell_type": "markdown",
      "metadata": {
        "id": "PRBCcZvoVx-r"
      },
      "source": [
        "**Answer:**\n",
        "> it means that the data set is divided into 2 parts training & test data. and test_size = 0.2 indicates 20% of the data set has been categorised as test data"
      ]
    },
    {
      "cell_type": "markdown",
      "metadata": {
        "id": "A_afbTV8Y5-F"
      },
      "source": [
        "\n",
        "\n",
        "---\n",
        "\n"
      ]
    },
    {
      "cell_type": "markdown",
      "metadata": {
        "id": "BEVX57VbTJBP"
      },
      "source": [
        "##### **Question 3.** <font color = red>[1 marks]</font> <br>\n",
        "Looking at the heatmap, which one has the highest correlation with the target variable?  "
      ]
    },
    {
      "cell_type": "markdown",
      "metadata": {
        "id": "ewPqz4yLWBzR"
      },
      "source": [
        "**Answer:**\n",
        "> distance has the highest correlation with delivery time in minutes"
      ]
    },
    {
      "cell_type": "markdown",
      "metadata": {
        "id": "DLy_-8F5Y69c"
      },
      "source": [
        "\n",
        "\n",
        "---\n",
        "\n"
      ]
    },
    {
      "cell_type": "markdown",
      "metadata": {
        "id": "lg-6E-N-TKyS"
      },
      "source": [
        "##### **Question 4.** <font color = red>[2 marks]</font> <br>\n",
        "What was your approach to detect the outliers? How did you address them?"
      ]
    },
    {
      "cell_type": "markdown",
      "metadata": {
        "id": "wPUDtsRGWLZl"
      },
      "source": [
        "**Answer:**\n",
        "\n",
        "> i used the box plot to identify the outliers visually and then used the IQR to clip the outliers   \n",
        "\n",
        "IQR = Q3 - Q1\n",
        "lower_bound = Q1 - 1.5 * IQR\n",
        "upper_bound = Q3 + 1.5 * IQR"
      ]
    },
    {
      "cell_type": "markdown",
      "metadata": {
        "id": "OVyJFcT2Y7U8"
      },
      "source": [
        "\n",
        "\n",
        "---\n",
        "\n"
      ]
    },
    {
      "cell_type": "markdown",
      "metadata": {
        "id": "Dvh9CLFnTMhO"
      },
      "source": [
        "##### **Question 5.** <font color = red>[2 marks]</font> <br>\n",
        "Based on the final model, which are the top 3 features significantly affecting the delivery time?"
      ]
    },
    {
      "cell_type": "markdown",
      "metadata": {
        "id": "M-DDpZcCWUun"
      },
      "source": [
        "**Answer:**\n",
        ">Based on coefficient magnitude and statistical significance, the top 3 features influencing delivery time are total_outstanding_orders, total_onshift_dashers, and distance. High outstanding orders substantially increase delivery time, while having more dashers reduces it. Longer delivery distances also contribute to delays. These insights can guide operational improvements in workload management and delivery logistics.\n",
        "\n",
        "\n",
        "\n",
        "| Rank | Feature                        | Coefficient  | Direction   | Interpretation                                                                                                               |\n",
        "| ---- | ------------------------------ | ------------ | ----------- | ---------------------------------------------------------------------------------------------------------------------------- |\n",
        "| 1️  | **`total_outstanding_orders`** | **+70.2251** |  Positive | For every 1 std increase, delivery time increases by **\\~70 mins**. Indicates heavy backlog significantly delays deliveries. |\n",
        "| 2️  | **`total_onshift_dashers`**    | **−50.3741** |  Negative | More dashers on shift **reduce** delivery time — high workforce availability speeds up delivery.                             |\n",
        "| 3️  | **`distance`**                 | **+22.3346** |  Positive | Longer distance between store and customer **increases** delivery time.                                                      |\n"
      ]
    },
    {
      "cell_type": "markdown",
      "metadata": {
        "id": "GVCrLjhTY74h"
      },
      "source": [
        "\n",
        "\n",
        "---\n",
        "\n"
      ]
    },
    {
      "cell_type": "markdown",
      "metadata": {
        "id": "VBLH_lA5C4jy"
      },
      "source": [
        "#### General Subjective Questions"
      ]
    },
    {
      "cell_type": "markdown",
      "metadata": {
        "id": "0MJGDVyiTOyr"
      },
      "source": [
        "##### **Question 6.** <font color = red>[3 marks]</font> <br>\n",
        "Explain the linear regression algorithm in detail"
      ]
    },
    {
      "cell_type": "markdown",
      "metadata": {
        "id": "jZc1QX8RW_Pa"
      },
      "source": [
        "**Answer:**\n",
        ">Linear regression is a fundamental statistical method used to model the relationship between a dependent variable (the one you want to predict) and one or more independent variables (the features you use for prediction).\n",
        "\n",
        "Here's a breakdown of the algorithm:\n",
        "\n",
        "**The Goal:** The primary goal of linear regression is to find the best-fitting straight line  that describes the relationship between the variables. This line is represented by a linear equation.\n",
        "\n",
        "\n",
        "**The Equation:**\n",
        "\n",
        "**Simple Linear Regression:** When you have one independent variable (X) and one dependent variable (y), the equation is: y = β₀ + β₁x + ε\n",
        "\n",
        "**Where:**\n",
        "y is the dependent variable.\n",
        "\n",
        "β₀ is the y-intercept (the value of y when x is 0).\n",
        "\n",
        "β₁ is the slope of the line (how much y changes for a one-unit change in x).\n",
        "x is the independent variable.\n",
        "\n",
        "ε is the error term (the part of y that the model cannot explain).\n",
        "\n",
        "**Multiple Linear Regression:**\n",
        "\n",
        "When you have multiple independent variables (X₁, X₂, ..., Xn), the equation expands to: y = β₀ + β₁x₁ + β₂x₂ + ... + βnxn + ε\n",
        "\n",
        "**Where:**\n",
        "\n",
        "y is the dependent variable.\n",
        "\n",
        "β₀ is the y-intercept.\n",
        "\n",
        "β₁, β₂, ..., βn are the coefficients for each independent variable (representing the change in y for a one-unit change in that variable, holding others constant).\n",
        "\n",
        "x₁, x₂, ..., xn are the independent variables.\n",
        "\n",
        "ε is the error term.\n",
        "\n",
        "**Finding the Best Fit:** The \"best-fitting\" line is determined by minimizing the difference between the actual observed values of the dependent variable and the values predicted by the linear equation. This difference is called the residual.\n",
        "\n",
        "**Cost Function:** To quantify the overall error of the model, a cost function is used. The most common cost function for linear regression is the Mean Squared Error (MSE) or Sum of Squared Errors (SSE). These functions calculate the average (or sum) of the squared residuals. Squaring the residuals ensures that both positive and negative errors contribute to the cost and penalizes larger errors more heavily.\n",
        "\n",
        "\n",
        "**Minimizing the Cost Function:** The process of finding the coefficients (β values) that minimize the cost function is called optimization.\n",
        "\n",
        "There are two main methods for this:\n",
        "\n",
        "**Ordinary Least Squares (OLS):** This is an analytical method that uses calculus to find the coefficients that minimize the sum of squared residuals directly. It provides a closed-form solution.\n",
        "\n",
        "**Gradient Descent:** This is an iterative optimization algorithm. It starts with initial values for the coefficients and then repeatedly adjusts them in the direction that reduces the cost function the most, until a minimum is reached.\n",
        "\n",
        "**Assumptions of Linear Regression:** For the results of linear regression to be valid and reliable, certain assumptions should ideally be met:\n",
        "\n",
        "**Linearity:** There should be a linear relationship between the independent and dependent variables.\n",
        "\n",
        "**Independence:** The observations should be independent of each other.\n",
        "\n",
        "**Homoscedasticity:** The variance of the residuals should be constant across all levels of the independent variables.\n",
        "\n",
        "**Normality:** The residuals should be normally distributed.\n",
        "\n",
        "**No Multicollinearity:** In multiple linear regression, the independent variables should not be highly correlated with each other.\n",
        "\n",
        "In summary, linear regression is a powerful yet simple algorithm that models linear relationships by finding the line (or hyperplane) that minimizes the squared errors between predicted and actual values, typically using OLS or gradient descent.\n"
      ]
    },
    {
      "cell_type": "markdown",
      "metadata": {
        "id": "X0MCb30NY8UE"
      },
      "source": [
        "\n",
        "\n",
        "---\n",
        "\n"
      ]
    },
    {
      "cell_type": "markdown",
      "metadata": {
        "id": "db_7gqf8TQTk"
      },
      "source": [
        "##### **Question 7.** <font color = red>[2 marks]</font> <br>\n",
        "Explain the difference between simple linear regression and multiple linear regression"
      ]
    },
    {
      "cell_type": "markdown",
      "metadata": {
        "id": "c1jsR8htXD8j"
      },
      "source": [
        "**Answer:**\n",
        ">**Simple Linear Regression:** When you have one independent variable (X) and one dependent variable (y), the equation is: y = β₀ + β₁x + ε\n",
        "\n",
        "**Where:**\n",
        "y is the dependent variable.\n",
        "\n",
        "β₀ is the y-intercept (the value of y when x is 0).\n",
        "\n",
        "β₁ is the slope of the line (how much y changes for a one-unit change in x).\n",
        "x is the independent variable.\n",
        "\n",
        "ε is the error term (the part of y that the model cannot explain).\n",
        "\n",
        "**Multiple Linear Regression:**\n",
        "\n",
        "When you have multiple independent variables (X₁, X₂, ..., Xn), the equation expands to: y = β₀ + β₁x₁ + β₂x₂ + ... + βnxn + ε\n",
        "\n",
        "**Where:**\n",
        "\n",
        "y is the dependent variable.\n",
        "\n",
        "β₀ is the y-intercept.\n",
        "\n",
        "β₁, β₂, ..., βn are the coefficients for each independent variable (representing the change in y for a one-unit change in that variable, holding others constant).\n",
        "\n",
        "x₁, x₂, ..., xn are the independent variables.\n",
        "\n",
        "ε is the error term."
      ]
    },
    {
      "cell_type": "markdown",
      "metadata": {
        "id": "FnSGZEltY8ss"
      },
      "source": [
        "\n",
        "\n",
        "---\n",
        "\n"
      ]
    },
    {
      "cell_type": "markdown",
      "metadata": {
        "id": "DT6ivEEnTSEs"
      },
      "source": [
        "##### **Question 8.** <font color = red>[2 marks]</font> <br>\n",
        "What is the role of the cost function in linear regression, and how is it minimized?"
      ]
    },
    {
      "cell_type": "markdown",
      "metadata": {
        "id": "V2PaCL-FXSSn"
      },
      "source": [
        "**Answer:**\n",
        ">**Cost Function:** To quantify the overall error of the model, a cost function is used. The most common cost function for linear regression is the Mean Squared Error (MSE) or Sum of Squared Errors (SSE). These functions calculate the average (or sum) of the squared residuals. Squaring the residuals ensures that both positive and negative errors contribute to the cost and penalizes larger errors more heavily.\n",
        "\n",
        "\n",
        "**Minimizing the Cost Function:** The process of finding the coefficients (β values) that minimize the cost function is called optimization.\n",
        "\n",
        "There are two main methods for this:\n",
        "\n",
        "**Ordinary Least Squares (OLS):** This is an analytical method that uses calculus to find the coefficients that minimize the sum of squared residuals directly. It provides a closed-form solution.\n",
        "\n",
        "**Gradient Descent:** This is an iterative optimization algorithm. It starts with initial values for the coefficients and then repeatedly adjusts them in the direction that reduces the cost function the most, until a minimum is reached.\n"
      ]
    },
    {
      "cell_type": "markdown",
      "metadata": {
        "id": "RIKB_W0FY9QM"
      },
      "source": [
        "\n",
        "\n",
        "---\n",
        "\n"
      ]
    },
    {
      "cell_type": "markdown",
      "metadata": {
        "id": "gZIb5hbMCCVY"
      },
      "source": [
        "##### **Question 9.** <font color = red>[2 marks]</font> <br>\n",
        "Explain the difference between overfitting and underfitting.\n",
        "\n"
      ]
    },
    {
      "cell_type": "markdown",
      "metadata": {
        "id": "d8kn4c-7CEjP"
      },
      "source": [
        "**Answer:**\n",
        "\n",
        ">\n",
        "**Underfitting**\n",
        "\n",
        "* The model is too simple.\n",
        "*It doesn’t learn enough from the data.\n",
        "*It makes a lot of mistakes even on the training data.\n",
        "\n",
        "➤ Example:\n",
        "Trying to predict house prices using only the number of bedrooms — you’re ignoring other important details like location, size, or age.\n",
        "\n",
        "**Overfitting**\n",
        "* The model is too smart for its own good.\n",
        "\n",
        "* It memorizes the training data, including noise and mistakes.\n",
        "\n",
        "* It does great on training data but fails on new data.\n",
        "\n",
        "➤ Example:\n",
        "You learn all the questions and answers from a practice test — but in the real exam, when the questions change slightly, you can’t answer."
      ]
    },
    {
      "cell_type": "markdown",
      "metadata": {
        "id": "8PWIs-suCMEr"
      },
      "source": [
        "\n",
        "\n",
        "---\n",
        "\n"
      ]
    },
    {
      "cell_type": "markdown",
      "metadata": {
        "id": "Os7JPKHwArn7"
      },
      "source": [
        "##### **Question 10.** <font color = red>[3 marks]</font> <br>\n",
        "How do residual plots help in diagnosing a linear regression model?"
      ]
    },
    {
      "cell_type": "markdown",
      "metadata": {
        "id": "zqxU8GSkAubl"
      },
      "source": [
        "**Answer:**\n",
        ">Residual plots help you see if your model is doing a good job. If residuals are randomly scattered around zero, your model is likely valid. If you see patterns, curves, or uneven spread, it suggests problems with your model — like non-linearity, missing variables, or inconsistent errors.\n",
        "\n",
        "A residual plot shows:\n",
        "\n",
        "* **X-axis:** Predicted values (or an independent variable)\n",
        "\n",
        "* **Y-axis:** Residuals\n",
        "\n",
        "This helps us visually check how well the linear regression model fits the data."
      ]
    },
    {
      "cell_type": "code",
      "execution_count": null,
      "metadata": {
        "id": "K5O0tzsCZT5V"
      },
      "outputs": [],
      "source": []
    }
  ],
  "metadata": {
    "colab": {
      "collapsed_sections": [
        "MueJxkvUIII3",
        "02uPO8aQfLnn",
        "b22Kzjew3rdM",
        "u1EBPjFc4Qca",
        "-JJxTsQOFKyl",
        "v0Cd2J-LGWaF",
        "fCLIKw5pQiA7",
        "2bxip-t3Y1MB",
        "mn-wDgoeSiHP"
      ],
      "provenance": []
    },
    "kernelspec": {
      "display_name": "Python 3 (ipykernel)",
      "language": "python",
      "name": "python3"
    },
    "language_info": {
      "codemirror_mode": {
        "name": "ipython",
        "version": 3
      },
      "file_extension": ".py",
      "mimetype": "text/x-python",
      "name": "python",
      "nbconvert_exporter": "python",
      "pygments_lexer": "ipython3",
      "version": "3.13.5"
    }
  },
  "nbformat": 4,
  "nbformat_minor": 0
}