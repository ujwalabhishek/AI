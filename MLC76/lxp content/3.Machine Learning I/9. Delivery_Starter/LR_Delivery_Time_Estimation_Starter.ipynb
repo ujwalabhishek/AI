{
  "cells": [
    {
      "cell_type": "markdown",
      "metadata": {
        "id": "8uOZe3UO68U-"
      },
      "source": [
        "# Order Delivery Time Prediction"
      ]
    },
    {
      "cell_type": "code",
      "source": [
        "from google.colab import drive\n",
        "drive.mount('/content/drive')"
      ],
      "metadata": {
        "colab": {
          "base_uri": "https://localhost:8080/"
        },
        "id": "hWOAIPbcvsZS",
        "outputId": "1ba5fc1c-9fb1-4188-d332-2601ac066a8c"
      },
      "execution_count": 140,
      "outputs": [
        {
          "output_type": "stream",
          "name": "stdout",
          "text": [
            "Drive already mounted at /content/drive; to attempt to forcibly remount, call drive.mount(\"/content/drive\", force_remount=True).\n"
          ]
        }
      ]
    },
    {
      "cell_type": "markdown",
      "metadata": {
        "id": "Qd9e2-HF6_85"
      },
      "source": [
        "## Objectives\n",
        "The objective of this assignment is to build a regression model that predicts the delivery time for orders placed through Porter. The model will use various features such as the items ordered, the restaurant location, the order protocol, and the availability of delivery partners.\n",
        "\n",
        "The key goals are:\n",
        "- Predict the delivery time for an order based on multiple input features\n",
        "- Improve delivery time predictions to optimiae operational efficiency\n",
        "- Understand the key factors influencing delivery time to enhance the model's accuracy"
      ]
    },
    {
      "cell_type": "markdown",
      "metadata": {
        "id": "AcC6tJ2p7F2p"
      },
      "source": [
        "## Data Pipeline\n",
        "The data pipeline for this assignment will involve the following steps:\n",
        "1. **Data Loading**\n",
        "2. **Data Preprocessing and Feature Engineering**\n",
        "3. **Exploratory Data Analysis**\n",
        "4. **Model Building**\n",
        "5. **Model Inference**"
      ]
    },
    {
      "cell_type": "markdown",
      "metadata": {
        "id": "uGOQI_f72jV1"
      },
      "source": [
        "## Data Understanding\n",
        "The dataset contains information on orders placed through Porter, with the following columns:\n",
        "\n",
        "| Field                     | Description                                                                                 |\n",
        "|---------------------------|---------------------------------------------------------------------------------------------|\n",
        "| market_id                 | Integer ID representing the market where the restaurant is located.                         |\n",
        "| created_at                | Timestamp when the order was placed.                                                        |\n",
        "| actual_delivery_time      | Timestamp when the order was delivered.                                                     |\n",
        "| store_primary_category    | Category of the restaurant (e.g., fast food, dine-in).                                      |\n",
        "| order_protocol            | Integer representing how the order was placed (e.g., via Porter, call to restaurant, etc.). |\n",
        "| total_items               | Total number of items in the order.                                                         |\n",
        "| subtotal                  | Final price of the order.                                                                   |\n",
        "| num_distinct_items        | Number of distinct items in the order.                                                      |\n",
        "| min_item_price            | Price of the cheapest item in the order.                                                    |\n",
        "| max_item_price            | Price of the most expensive item in the order.                                              |\n",
        "| total_onshift_dashers     | Number of delivery partners on duty when the order was placed.                              |\n",
        "| total_busy_dashers        | Number of delivery partners already occupied with other orders.                             |\n",
        "| total_outstanding_orders  | Number of orders pending fulfillment at the time of the order.                              |\n",
        "| distance                  | Total distance from the restaurant to the customer.                                         |\n"
      ]
    },
    {
      "cell_type": "markdown",
      "metadata": {
        "id": "5QoCQFDzHUWP"
      },
      "source": [
        "## **Importing Necessary Libraries**"
      ]
    },
    {
      "cell_type": "code",
      "execution_count": 141,
      "metadata": {
        "id": "jun9CeAc7QOw"
      },
      "outputs": [],
      "source": [
        "# Import essential libraries for data manipulation and analysis\n",
        "\n",
        "import numpy as np\n",
        "import pandas as pd\n",
        "\n",
        "import matplotlib.pyplot as plt\n",
        "import seaborn as sns\n",
        "import statsmodels.api as sm\n",
        "from statsmodels.stats.outliers_influence import variance_inflation_factor\n",
        "\n",
        "from sklearn.model_selection import train_test_split\n",
        "from sklearn.linear_model import LinearRegression\n",
        "from sklearn.feature_selection import RFE\n",
        "from sklearn.metrics import mean_squared_error, r2_score, mean_absolute_error\n",
        "\n",
        "import warnings\n",
        "warnings.filterwarnings('ignore')"
      ]
    },
    {
      "cell_type": "markdown",
      "metadata": {
        "id": "MueJxkvUIII3"
      },
      "source": [
        "## **1. Loading the data**\n",
        "Load 'porter_data_1.csv' as a DataFrame"
      ]
    },
    {
      "cell_type": "code",
      "execution_count": 142,
      "metadata": {
        "id": "VJS8ZRJXHTwv",
        "colab": {
          "base_uri": "https://localhost:8080/",
          "height": 330
        },
        "outputId": "81cb8d8c-860b-4d08-e9ac-ebd0106c3629"
      },
      "outputs": [
        {
          "output_type": "stream",
          "name": "stdout",
          "text": [
            "Drive already mounted at /content/drive; to attempt to forcibly remount, call drive.mount(\"/content/drive\", force_remount=True).\n"
          ]
        },
        {
          "output_type": "execute_result",
          "data": {
            "text/plain": [
              "   market_id           created_at actual_delivery_time  \\\n",
              "0        1.0  2015-02-06 22:24:17  2015-02-06 23:11:17   \n",
              "1        2.0  2015-02-10 21:49:25  2015-02-10 22:33:25   \n",
              "2        2.0  2015-02-16 00:11:35  2015-02-16 01:06:35   \n",
              "3        1.0  2015-02-12 03:36:46  2015-02-12 04:35:46   \n",
              "4        1.0  2015-01-27 02:12:36  2015-01-27 02:58:36   \n",
              "\n",
              "   store_primary_category  order_protocol  total_items  subtotal  \\\n",
              "0                       4             1.0            4      3441   \n",
              "1                      46             2.0            1      1900   \n",
              "2                      36             3.0            4      4771   \n",
              "3                      38             1.0            1      1525   \n",
              "4                      38             1.0            2      3620   \n",
              "\n",
              "   num_distinct_items  min_item_price  max_item_price  total_onshift_dashers  \\\n",
              "0                   4             557            1239                   33.0   \n",
              "1                   1            1400            1400                    1.0   \n",
              "2                   3             820            1604                    8.0   \n",
              "3                   1            1525            1525                    5.0   \n",
              "4                   2            1425            2195                    5.0   \n",
              "\n",
              "   total_busy_dashers  total_outstanding_orders  distance  \n",
              "0                14.0                      21.0     34.44  \n",
              "1                 2.0                       2.0     27.60  \n",
              "2                 6.0                      18.0     11.56  \n",
              "3                 6.0                       8.0     31.80  \n",
              "4                 5.0                       7.0      8.20  "
            ],
            "text/html": [
              "\n",
              "  <div id=\"df-25689a5a-aca3-4fe6-8129-76a03fd6d2ca\" class=\"colab-df-container\">\n",
              "    <div>\n",
              "<style scoped>\n",
              "    .dataframe tbody tr th:only-of-type {\n",
              "        vertical-align: middle;\n",
              "    }\n",
              "\n",
              "    .dataframe tbody tr th {\n",
              "        vertical-align: top;\n",
              "    }\n",
              "\n",
              "    .dataframe thead th {\n",
              "        text-align: right;\n",
              "    }\n",
              "</style>\n",
              "<table border=\"1\" class=\"dataframe\">\n",
              "  <thead>\n",
              "    <tr style=\"text-align: right;\">\n",
              "      <th></th>\n",
              "      <th>market_id</th>\n",
              "      <th>created_at</th>\n",
              "      <th>actual_delivery_time</th>\n",
              "      <th>store_primary_category</th>\n",
              "      <th>order_protocol</th>\n",
              "      <th>total_items</th>\n",
              "      <th>subtotal</th>\n",
              "      <th>num_distinct_items</th>\n",
              "      <th>min_item_price</th>\n",
              "      <th>max_item_price</th>\n",
              "      <th>total_onshift_dashers</th>\n",
              "      <th>total_busy_dashers</th>\n",
              "      <th>total_outstanding_orders</th>\n",
              "      <th>distance</th>\n",
              "    </tr>\n",
              "  </thead>\n",
              "  <tbody>\n",
              "    <tr>\n",
              "      <th>0</th>\n",
              "      <td>1.0</td>\n",
              "      <td>2015-02-06 22:24:17</td>\n",
              "      <td>2015-02-06 23:11:17</td>\n",
              "      <td>4</td>\n",
              "      <td>1.0</td>\n",
              "      <td>4</td>\n",
              "      <td>3441</td>\n",
              "      <td>4</td>\n",
              "      <td>557</td>\n",
              "      <td>1239</td>\n",
              "      <td>33.0</td>\n",
              "      <td>14.0</td>\n",
              "      <td>21.0</td>\n",
              "      <td>34.44</td>\n",
              "    </tr>\n",
              "    <tr>\n",
              "      <th>1</th>\n",
              "      <td>2.0</td>\n",
              "      <td>2015-02-10 21:49:25</td>\n",
              "      <td>2015-02-10 22:33:25</td>\n",
              "      <td>46</td>\n",
              "      <td>2.0</td>\n",
              "      <td>1</td>\n",
              "      <td>1900</td>\n",
              "      <td>1</td>\n",
              "      <td>1400</td>\n",
              "      <td>1400</td>\n",
              "      <td>1.0</td>\n",
              "      <td>2.0</td>\n",
              "      <td>2.0</td>\n",
              "      <td>27.60</td>\n",
              "    </tr>\n",
              "    <tr>\n",
              "      <th>2</th>\n",
              "      <td>2.0</td>\n",
              "      <td>2015-02-16 00:11:35</td>\n",
              "      <td>2015-02-16 01:06:35</td>\n",
              "      <td>36</td>\n",
              "      <td>3.0</td>\n",
              "      <td>4</td>\n",
              "      <td>4771</td>\n",
              "      <td>3</td>\n",
              "      <td>820</td>\n",
              "      <td>1604</td>\n",
              "      <td>8.0</td>\n",
              "      <td>6.0</td>\n",
              "      <td>18.0</td>\n",
              "      <td>11.56</td>\n",
              "    </tr>\n",
              "    <tr>\n",
              "      <th>3</th>\n",
              "      <td>1.0</td>\n",
              "      <td>2015-02-12 03:36:46</td>\n",
              "      <td>2015-02-12 04:35:46</td>\n",
              "      <td>38</td>\n",
              "      <td>1.0</td>\n",
              "      <td>1</td>\n",
              "      <td>1525</td>\n",
              "      <td>1</td>\n",
              "      <td>1525</td>\n",
              "      <td>1525</td>\n",
              "      <td>5.0</td>\n",
              "      <td>6.0</td>\n",
              "      <td>8.0</td>\n",
              "      <td>31.80</td>\n",
              "    </tr>\n",
              "    <tr>\n",
              "      <th>4</th>\n",
              "      <td>1.0</td>\n",
              "      <td>2015-01-27 02:12:36</td>\n",
              "      <td>2015-01-27 02:58:36</td>\n",
              "      <td>38</td>\n",
              "      <td>1.0</td>\n",
              "      <td>2</td>\n",
              "      <td>3620</td>\n",
              "      <td>2</td>\n",
              "      <td>1425</td>\n",
              "      <td>2195</td>\n",
              "      <td>5.0</td>\n",
              "      <td>5.0</td>\n",
              "      <td>7.0</td>\n",
              "      <td>8.20</td>\n",
              "    </tr>\n",
              "  </tbody>\n",
              "</table>\n",
              "</div>\n",
              "    <div class=\"colab-df-buttons\">\n",
              "\n",
              "  <div class=\"colab-df-container\">\n",
              "    <button class=\"colab-df-convert\" onclick=\"convertToInteractive('df-25689a5a-aca3-4fe6-8129-76a03fd6d2ca')\"\n",
              "            title=\"Convert this dataframe to an interactive table.\"\n",
              "            style=\"display:none;\">\n",
              "\n",
              "  <svg xmlns=\"http://www.w3.org/2000/svg\" height=\"24px\" viewBox=\"0 -960 960 960\">\n",
              "    <path d=\"M120-120v-720h720v720H120Zm60-500h600v-160H180v160Zm220 220h160v-160H400v160Zm0 220h160v-160H400v160ZM180-400h160v-160H180v160Zm440 0h160v-160H620v160ZM180-180h160v-160H180v160Zm440 0h160v-160H620v160Z\"/>\n",
              "  </svg>\n",
              "    </button>\n",
              "\n",
              "  <style>\n",
              "    .colab-df-container {\n",
              "      display:flex;\n",
              "      gap: 12px;\n",
              "    }\n",
              "\n",
              "    .colab-df-convert {\n",
              "      background-color: #E8F0FE;\n",
              "      border: none;\n",
              "      border-radius: 50%;\n",
              "      cursor: pointer;\n",
              "      display: none;\n",
              "      fill: #1967D2;\n",
              "      height: 32px;\n",
              "      padding: 0 0 0 0;\n",
              "      width: 32px;\n",
              "    }\n",
              "\n",
              "    .colab-df-convert:hover {\n",
              "      background-color: #E2EBFA;\n",
              "      box-shadow: 0px 1px 2px rgba(60, 64, 67, 0.3), 0px 1px 3px 1px rgba(60, 64, 67, 0.15);\n",
              "      fill: #174EA6;\n",
              "    }\n",
              "\n",
              "    .colab-df-buttons div {\n",
              "      margin-bottom: 4px;\n",
              "    }\n",
              "\n",
              "    [theme=dark] .colab-df-convert {\n",
              "      background-color: #3B4455;\n",
              "      fill: #D2E3FC;\n",
              "    }\n",
              "\n",
              "    [theme=dark] .colab-df-convert:hover {\n",
              "      background-color: #434B5C;\n",
              "      box-shadow: 0px 1px 3px 1px rgba(0, 0, 0, 0.15);\n",
              "      filter: drop-shadow(0px 1px 2px rgba(0, 0, 0, 0.3));\n",
              "      fill: #FFFFFF;\n",
              "    }\n",
              "  </style>\n",
              "\n",
              "    <script>\n",
              "      const buttonEl =\n",
              "        document.querySelector('#df-25689a5a-aca3-4fe6-8129-76a03fd6d2ca button.colab-df-convert');\n",
              "      buttonEl.style.display =\n",
              "        google.colab.kernel.accessAllowed ? 'block' : 'none';\n",
              "\n",
              "      async function convertToInteractive(key) {\n",
              "        const element = document.querySelector('#df-25689a5a-aca3-4fe6-8129-76a03fd6d2ca');\n",
              "        const dataTable =\n",
              "          await google.colab.kernel.invokeFunction('convertToInteractive',\n",
              "                                                    [key], {});\n",
              "        if (!dataTable) return;\n",
              "\n",
              "        const docLinkHtml = 'Like what you see? Visit the ' +\n",
              "          '<a target=\"_blank\" href=https://colab.research.google.com/notebooks/data_table.ipynb>data table notebook</a>'\n",
              "          + ' to learn more about interactive tables.';\n",
              "        element.innerHTML = '';\n",
              "        dataTable['output_type'] = 'display_data';\n",
              "        await google.colab.output.renderOutput(dataTable, element);\n",
              "        const docLink = document.createElement('div');\n",
              "        docLink.innerHTML = docLinkHtml;\n",
              "        element.appendChild(docLink);\n",
              "      }\n",
              "    </script>\n",
              "  </div>\n",
              "\n",
              "\n",
              "    <div id=\"df-dc8e6f6a-20be-4fa2-bf64-d2cbb9e56553\">\n",
              "      <button class=\"colab-df-quickchart\" onclick=\"quickchart('df-dc8e6f6a-20be-4fa2-bf64-d2cbb9e56553')\"\n",
              "                title=\"Suggest charts\"\n",
              "                style=\"display:none;\">\n",
              "\n",
              "<svg xmlns=\"http://www.w3.org/2000/svg\" height=\"24px\"viewBox=\"0 0 24 24\"\n",
              "     width=\"24px\">\n",
              "    <g>\n",
              "        <path d=\"M19 3H5c-1.1 0-2 .9-2 2v14c0 1.1.9 2 2 2h14c1.1 0 2-.9 2-2V5c0-1.1-.9-2-2-2zM9 17H7v-7h2v7zm4 0h-2V7h2v10zm4 0h-2v-4h2v4z\"/>\n",
              "    </g>\n",
              "</svg>\n",
              "      </button>\n",
              "\n",
              "<style>\n",
              "  .colab-df-quickchart {\n",
              "      --bg-color: #E8F0FE;\n",
              "      --fill-color: #1967D2;\n",
              "      --hover-bg-color: #E2EBFA;\n",
              "      --hover-fill-color: #174EA6;\n",
              "      --disabled-fill-color: #AAA;\n",
              "      --disabled-bg-color: #DDD;\n",
              "  }\n",
              "\n",
              "  [theme=dark] .colab-df-quickchart {\n",
              "      --bg-color: #3B4455;\n",
              "      --fill-color: #D2E3FC;\n",
              "      --hover-bg-color: #434B5C;\n",
              "      --hover-fill-color: #FFFFFF;\n",
              "      --disabled-bg-color: #3B4455;\n",
              "      --disabled-fill-color: #666;\n",
              "  }\n",
              "\n",
              "  .colab-df-quickchart {\n",
              "    background-color: var(--bg-color);\n",
              "    border: none;\n",
              "    border-radius: 50%;\n",
              "    cursor: pointer;\n",
              "    display: none;\n",
              "    fill: var(--fill-color);\n",
              "    height: 32px;\n",
              "    padding: 0;\n",
              "    width: 32px;\n",
              "  }\n",
              "\n",
              "  .colab-df-quickchart:hover {\n",
              "    background-color: var(--hover-bg-color);\n",
              "    box-shadow: 0 1px 2px rgba(60, 64, 67, 0.3), 0 1px 3px 1px rgba(60, 64, 67, 0.15);\n",
              "    fill: var(--button-hover-fill-color);\n",
              "  }\n",
              "\n",
              "  .colab-df-quickchart-complete:disabled,\n",
              "  .colab-df-quickchart-complete:disabled:hover {\n",
              "    background-color: var(--disabled-bg-color);\n",
              "    fill: var(--disabled-fill-color);\n",
              "    box-shadow: none;\n",
              "  }\n",
              "\n",
              "  .colab-df-spinner {\n",
              "    border: 2px solid var(--fill-color);\n",
              "    border-color: transparent;\n",
              "    border-bottom-color: var(--fill-color);\n",
              "    animation:\n",
              "      spin 1s steps(1) infinite;\n",
              "  }\n",
              "\n",
              "  @keyframes spin {\n",
              "    0% {\n",
              "      border-color: transparent;\n",
              "      border-bottom-color: var(--fill-color);\n",
              "      border-left-color: var(--fill-color);\n",
              "    }\n",
              "    20% {\n",
              "      border-color: transparent;\n",
              "      border-left-color: var(--fill-color);\n",
              "      border-top-color: var(--fill-color);\n",
              "    }\n",
              "    30% {\n",
              "      border-color: transparent;\n",
              "      border-left-color: var(--fill-color);\n",
              "      border-top-color: var(--fill-color);\n",
              "      border-right-color: var(--fill-color);\n",
              "    }\n",
              "    40% {\n",
              "      border-color: transparent;\n",
              "      border-right-color: var(--fill-color);\n",
              "      border-top-color: var(--fill-color);\n",
              "    }\n",
              "    60% {\n",
              "      border-color: transparent;\n",
              "      border-right-color: var(--fill-color);\n",
              "    }\n",
              "    80% {\n",
              "      border-color: transparent;\n",
              "      border-right-color: var(--fill-color);\n",
              "      border-bottom-color: var(--fill-color);\n",
              "    }\n",
              "    90% {\n",
              "      border-color: transparent;\n",
              "      border-bottom-color: var(--fill-color);\n",
              "    }\n",
              "  }\n",
              "</style>\n",
              "\n",
              "      <script>\n",
              "        async function quickchart(key) {\n",
              "          const quickchartButtonEl =\n",
              "            document.querySelector('#' + key + ' button');\n",
              "          quickchartButtonEl.disabled = true;  // To prevent multiple clicks.\n",
              "          quickchartButtonEl.classList.add('colab-df-spinner');\n",
              "          try {\n",
              "            const charts = await google.colab.kernel.invokeFunction(\n",
              "                'suggestCharts', [key], {});\n",
              "          } catch (error) {\n",
              "            console.error('Error during call to suggestCharts:', error);\n",
              "          }\n",
              "          quickchartButtonEl.classList.remove('colab-df-spinner');\n",
              "          quickchartButtonEl.classList.add('colab-df-quickchart-complete');\n",
              "        }\n",
              "        (() => {\n",
              "          let quickchartButtonEl =\n",
              "            document.querySelector('#df-dc8e6f6a-20be-4fa2-bf64-d2cbb9e56553 button');\n",
              "          quickchartButtonEl.style.display =\n",
              "            google.colab.kernel.accessAllowed ? 'block' : 'none';\n",
              "        })();\n",
              "      </script>\n",
              "    </div>\n",
              "\n",
              "    </div>\n",
              "  </div>\n"
            ],
            "application/vnd.google.colaboratory.intrinsic+json": {
              "type": "dataframe",
              "variable_name": "df"
            }
          },
          "metadata": {},
          "execution_count": 142
        }
      ],
      "source": [
        "# Importing the file porter_data_1.csv\n",
        "from google.colab import drive\n",
        "drive.mount('/content/drive')\n",
        "df = pd.read_csv('/content/drive/MyDrive/Colab Notebooks/porter_data_1.csv')\n",
        "df.head()"
      ]
    },
    {
      "cell_type": "code",
      "source": [
        "#check shape\n",
        "df.shape"
      ],
      "metadata": {
        "colab": {
          "base_uri": "https://localhost:8080/"
        },
        "id": "A6Bs1FrIe-DO",
        "outputId": "b379e306-ff13-46ab-edb5-2535a58e2b70"
      },
      "execution_count": 143,
      "outputs": [
        {
          "output_type": "execute_result",
          "data": {
            "text/plain": [
              "(175777, 14)"
            ]
          },
          "metadata": {},
          "execution_count": 143
        }
      ]
    },
    {
      "cell_type": "code",
      "source": [
        "df.columns"
      ],
      "metadata": {
        "colab": {
          "base_uri": "https://localhost:8080/"
        },
        "id": "GdeoD2zsfEAB",
        "outputId": "0d84510f-a404-4e64-8e15-f33a67a9f43d"
      },
      "execution_count": 144,
      "outputs": [
        {
          "output_type": "execute_result",
          "data": {
            "text/plain": [
              "Index(['market_id', 'created_at', 'actual_delivery_time',\n",
              "       'store_primary_category', 'order_protocol', 'total_items', 'subtotal',\n",
              "       'num_distinct_items', 'min_item_price', 'max_item_price',\n",
              "       'total_onshift_dashers', 'total_busy_dashers',\n",
              "       'total_outstanding_orders', 'distance'],\n",
              "      dtype='object')"
            ]
          },
          "metadata": {},
          "execution_count": 144
        }
      ]
    },
    {
      "cell_type": "markdown",
      "metadata": {
        "id": "HSRQocOkMSQl"
      },
      "source": [
        "## **2. Data Preprocessing and Feature Engineering** <font color = red>[15 marks]</font> <br>"
      ]
    },
    {
      "cell_type": "markdown",
      "metadata": {
        "id": "02uPO8aQfLnn"
      },
      "source": [
        "#### **2.1 Fixing the Datatypes**  <font color = red>[5 marks]</font> <br>\n",
        "The current timestamps are in object format and need conversion to datetime format for easier handling and intended functionality"
      ]
    },
    {
      "cell_type": "code",
      "source": [
        "df.dtypes"
      ],
      "metadata": {
        "colab": {
          "base_uri": "https://localhost:8080/",
          "height": 523
        },
        "id": "I7vCQ_eQfmhE",
        "outputId": "edbdf32c-f404-449c-b348-fb75bc3ba648"
      },
      "execution_count": 145,
      "outputs": [
        {
          "output_type": "execute_result",
          "data": {
            "text/plain": [
              "market_id                   float64\n",
              "created_at                   object\n",
              "actual_delivery_time         object\n",
              "store_primary_category        int64\n",
              "order_protocol              float64\n",
              "total_items                   int64\n",
              "subtotal                      int64\n",
              "num_distinct_items            int64\n",
              "min_item_price                int64\n",
              "max_item_price                int64\n",
              "total_onshift_dashers       float64\n",
              "total_busy_dashers          float64\n",
              "total_outstanding_orders    float64\n",
              "distance                    float64\n",
              "dtype: object"
            ],
            "text/html": [
              "<div>\n",
              "<style scoped>\n",
              "    .dataframe tbody tr th:only-of-type {\n",
              "        vertical-align: middle;\n",
              "    }\n",
              "\n",
              "    .dataframe tbody tr th {\n",
              "        vertical-align: top;\n",
              "    }\n",
              "\n",
              "    .dataframe thead th {\n",
              "        text-align: right;\n",
              "    }\n",
              "</style>\n",
              "<table border=\"1\" class=\"dataframe\">\n",
              "  <thead>\n",
              "    <tr style=\"text-align: right;\">\n",
              "      <th></th>\n",
              "      <th>0</th>\n",
              "    </tr>\n",
              "  </thead>\n",
              "  <tbody>\n",
              "    <tr>\n",
              "      <th>market_id</th>\n",
              "      <td>float64</td>\n",
              "    </tr>\n",
              "    <tr>\n",
              "      <th>created_at</th>\n",
              "      <td>object</td>\n",
              "    </tr>\n",
              "    <tr>\n",
              "      <th>actual_delivery_time</th>\n",
              "      <td>object</td>\n",
              "    </tr>\n",
              "    <tr>\n",
              "      <th>store_primary_category</th>\n",
              "      <td>int64</td>\n",
              "    </tr>\n",
              "    <tr>\n",
              "      <th>order_protocol</th>\n",
              "      <td>float64</td>\n",
              "    </tr>\n",
              "    <tr>\n",
              "      <th>total_items</th>\n",
              "      <td>int64</td>\n",
              "    </tr>\n",
              "    <tr>\n",
              "      <th>subtotal</th>\n",
              "      <td>int64</td>\n",
              "    </tr>\n",
              "    <tr>\n",
              "      <th>num_distinct_items</th>\n",
              "      <td>int64</td>\n",
              "    </tr>\n",
              "    <tr>\n",
              "      <th>min_item_price</th>\n",
              "      <td>int64</td>\n",
              "    </tr>\n",
              "    <tr>\n",
              "      <th>max_item_price</th>\n",
              "      <td>int64</td>\n",
              "    </tr>\n",
              "    <tr>\n",
              "      <th>total_onshift_dashers</th>\n",
              "      <td>float64</td>\n",
              "    </tr>\n",
              "    <tr>\n",
              "      <th>total_busy_dashers</th>\n",
              "      <td>float64</td>\n",
              "    </tr>\n",
              "    <tr>\n",
              "      <th>total_outstanding_orders</th>\n",
              "      <td>float64</td>\n",
              "    </tr>\n",
              "    <tr>\n",
              "      <th>distance</th>\n",
              "      <td>float64</td>\n",
              "    </tr>\n",
              "  </tbody>\n",
              "</table>\n",
              "</div><br><label><b>dtype:</b> object</label>"
            ]
          },
          "metadata": {},
          "execution_count": 145
        }
      ]
    },
    {
      "cell_type": "markdown",
      "metadata": {
        "id": "b22Kzjew3rdM"
      },
      "source": [
        "##### **2.1.1** <font color = red>[2 marks]</font> <br>\n",
        "Convert date and time fields to appropriate data type"
      ]
    },
    {
      "cell_type": "code",
      "execution_count": 146,
      "metadata": {
        "id": "FoGkz909IXjv",
        "colab": {
          "base_uri": "https://localhost:8080/"
        },
        "outputId": "04b289ef-867f-4242-e24e-e8d40ee42f16"
      },
      "outputs": [
        {
          "output_type": "stream",
          "name": "stdout",
          "text": [
            "created_at              datetime64[ns]\n",
            "actual_delivery_time    datetime64[ns]\n",
            "dtype: object\n"
          ]
        }
      ],
      "source": [
        "# Convert 'created_at' and 'actual_delivery_time' columns to datetime format\n",
        "\n",
        "df['created_at'] = pd.to_datetime(df['created_at'])\n",
        "df['actual_delivery_time'] = pd.to_datetime(df['actual_delivery_time'])\n",
        "\n",
        "# Verify the conversion\n",
        "print(df[['created_at', 'actual_delivery_time']].dtypes)\n",
        "\n"
      ]
    },
    {
      "cell_type": "markdown",
      "metadata": {
        "id": "u1EBPjFc4Qca"
      },
      "source": [
        "##### **2.1.2**  <font color = red>[3 marks]</font> <br>\n",
        "Convert categorical fields to appropriate data type"
      ]
    },
    {
      "cell_type": "code",
      "execution_count": 147,
      "metadata": {
        "id": "PihPSPhQq1nQ",
        "colab": {
          "base_uri": "https://localhost:8080/"
        },
        "outputId": "75090681-f2f0-4d6c-a99e-b064d19060f1"
      },
      "outputs": [
        {
          "output_type": "stream",
          "name": "stdout",
          "text": [
            "market_id                 category\n",
            "store_primary_category    category\n",
            "order_protocol            category\n",
            "dtype: object\n"
          ]
        }
      ],
      "source": [
        "# Convert categorical features to category type\n",
        "\n",
        "categorical_columns = ['market_id', 'store_primary_category', 'order_protocol']\n",
        "\n",
        "for col in categorical_columns:\n",
        "    df[col] = df[col].astype('category')\n",
        "\n",
        "# Verify the conversion\n",
        "print(df[categorical_columns].dtypes)"
      ]
    },
    {
      "cell_type": "markdown",
      "metadata": {
        "id": "hsEGroRFlX8z"
      },
      "source": [
        "#### **2.2 Feature Engineering** <font color = red>[5 marks]</font> <br>\n",
        "Calculate the time taken to execute the delivery as well as extract the hour and day at which the order was placed"
      ]
    },
    {
      "cell_type": "markdown",
      "metadata": {
        "id": "BubGzQyJpHLQ"
      },
      "source": [
        "##### **2.2.1** <font color = red>[2 marks]</font> <br>\n",
        "Calculate the time taken using the features `actual_delivery_time` and `created_at`"
      ]
    },
    {
      "cell_type": "code",
      "execution_count": 148,
      "metadata": {
        "id": "uBGS4PZJMciZ",
        "colab": {
          "base_uri": "https://localhost:8080/"
        },
        "outputId": "eb705a42-9996-4f04-d0c1-fcae3ad9376a"
      },
      "outputs": [
        {
          "output_type": "stream",
          "name": "stdout",
          "text": [
            "           created_at actual_delivery_time  delivery_time_mins\n",
            "0 2015-02-06 22:24:17  2015-02-06 23:11:17                47.0\n",
            "1 2015-02-10 21:49:25  2015-02-10 22:33:25                44.0\n",
            "2 2015-02-16 00:11:35  2015-02-16 01:06:35                55.0\n",
            "3 2015-02-12 03:36:46  2015-02-12 04:35:46                59.0\n",
            "4 2015-01-27 02:12:36  2015-01-27 02:58:36                46.0\n"
          ]
        }
      ],
      "source": [
        "# Calculate time taken in minutes\n",
        "\n",
        "df['delivery_time_mins'] = (df['actual_delivery_time'] - df['created_at']).dt.total_seconds() / 60\n",
        "\n",
        "# Preview the new column\n",
        "print(df[['created_at', 'actual_delivery_time', 'delivery_time_mins']].head())\n"
      ]
    },
    {
      "cell_type": "markdown",
      "metadata": {
        "id": "ngUUAf3XOPAP"
      },
      "source": [
        "##### **2.2.2** <font color = red>[3 marks]</font> <br>\n",
        "Extract the hour at which the order was placed and which day of the week it was. Drop the unnecessary columns."
      ]
    },
    {
      "cell_type": "code",
      "execution_count": 149,
      "metadata": {
        "id": "iwA4O5VtNxQW",
        "colab": {
          "base_uri": "https://localhost:8080/",
          "height": 313
        },
        "outputId": "65d6de10-2bd4-41fa-de9e-bd0d91a24f84"
      },
      "outputs": [
        {
          "output_type": "execute_result",
          "data": {
            "text/plain": [
              "  market_id          created_at actual_delivery_time store_primary_category  \\\n",
              "0       1.0 2015-02-06 22:24:17  2015-02-06 23:11:17                      4   \n",
              "1       2.0 2015-02-10 21:49:25  2015-02-10 22:33:25                     46   \n",
              "2       2.0 2015-02-16 00:11:35  2015-02-16 01:06:35                     36   \n",
              "3       1.0 2015-02-12 03:36:46  2015-02-12 04:35:46                     38   \n",
              "4       1.0 2015-01-27 02:12:36  2015-01-27 02:58:36                     38   \n",
              "\n",
              "  order_protocol  total_items  subtotal  num_distinct_items  min_item_price  \\\n",
              "0            1.0            4      3441                   4             557   \n",
              "1            2.0            1      1900                   1            1400   \n",
              "2            3.0            4      4771                   3             820   \n",
              "3            1.0            1      1525                   1            1525   \n",
              "4            1.0            2      3620                   2            1425   \n",
              "\n",
              "   max_item_price  total_onshift_dashers  total_busy_dashers  \\\n",
              "0            1239                   33.0                14.0   \n",
              "1            1400                    1.0                 2.0   \n",
              "2            1604                    8.0                 6.0   \n",
              "3            1525                    5.0                 6.0   \n",
              "4            2195                    5.0                 5.0   \n",
              "\n",
              "   total_outstanding_orders  distance  delivery_time_mins  order_hour  \\\n",
              "0                      21.0     34.44                47.0          22   \n",
              "1                       2.0     27.60                44.0          21   \n",
              "2                      18.0     11.56                55.0           0   \n",
              "3                       8.0     31.80                59.0           3   \n",
              "4                       7.0      8.20                46.0           2   \n",
              "\n",
              "   order_dayofweek isWeekend  \n",
              "0                4         0  \n",
              "1                1         0  \n",
              "2                0         0  \n",
              "3                3         0  \n",
              "4                1         0  "
            ],
            "text/html": [
              "\n",
              "  <div id=\"df-40000a29-5b02-4a14-ae63-06114fa70e98\" class=\"colab-df-container\">\n",
              "    <div>\n",
              "<style scoped>\n",
              "    .dataframe tbody tr th:only-of-type {\n",
              "        vertical-align: middle;\n",
              "    }\n",
              "\n",
              "    .dataframe tbody tr th {\n",
              "        vertical-align: top;\n",
              "    }\n",
              "\n",
              "    .dataframe thead th {\n",
              "        text-align: right;\n",
              "    }\n",
              "</style>\n",
              "<table border=\"1\" class=\"dataframe\">\n",
              "  <thead>\n",
              "    <tr style=\"text-align: right;\">\n",
              "      <th></th>\n",
              "      <th>market_id</th>\n",
              "      <th>created_at</th>\n",
              "      <th>actual_delivery_time</th>\n",
              "      <th>store_primary_category</th>\n",
              "      <th>order_protocol</th>\n",
              "      <th>total_items</th>\n",
              "      <th>subtotal</th>\n",
              "      <th>num_distinct_items</th>\n",
              "      <th>min_item_price</th>\n",
              "      <th>max_item_price</th>\n",
              "      <th>total_onshift_dashers</th>\n",
              "      <th>total_busy_dashers</th>\n",
              "      <th>total_outstanding_orders</th>\n",
              "      <th>distance</th>\n",
              "      <th>delivery_time_mins</th>\n",
              "      <th>order_hour</th>\n",
              "      <th>order_dayofweek</th>\n",
              "      <th>isWeekend</th>\n",
              "    </tr>\n",
              "  </thead>\n",
              "  <tbody>\n",
              "    <tr>\n",
              "      <th>0</th>\n",
              "      <td>1.0</td>\n",
              "      <td>2015-02-06 22:24:17</td>\n",
              "      <td>2015-02-06 23:11:17</td>\n",
              "      <td>4</td>\n",
              "      <td>1.0</td>\n",
              "      <td>4</td>\n",
              "      <td>3441</td>\n",
              "      <td>4</td>\n",
              "      <td>557</td>\n",
              "      <td>1239</td>\n",
              "      <td>33.0</td>\n",
              "      <td>14.0</td>\n",
              "      <td>21.0</td>\n",
              "      <td>34.44</td>\n",
              "      <td>47.0</td>\n",
              "      <td>22</td>\n",
              "      <td>4</td>\n",
              "      <td>0</td>\n",
              "    </tr>\n",
              "    <tr>\n",
              "      <th>1</th>\n",
              "      <td>2.0</td>\n",
              "      <td>2015-02-10 21:49:25</td>\n",
              "      <td>2015-02-10 22:33:25</td>\n",
              "      <td>46</td>\n",
              "      <td>2.0</td>\n",
              "      <td>1</td>\n",
              "      <td>1900</td>\n",
              "      <td>1</td>\n",
              "      <td>1400</td>\n",
              "      <td>1400</td>\n",
              "      <td>1.0</td>\n",
              "      <td>2.0</td>\n",
              "      <td>2.0</td>\n",
              "      <td>27.60</td>\n",
              "      <td>44.0</td>\n",
              "      <td>21</td>\n",
              "      <td>1</td>\n",
              "      <td>0</td>\n",
              "    </tr>\n",
              "    <tr>\n",
              "      <th>2</th>\n",
              "      <td>2.0</td>\n",
              "      <td>2015-02-16 00:11:35</td>\n",
              "      <td>2015-02-16 01:06:35</td>\n",
              "      <td>36</td>\n",
              "      <td>3.0</td>\n",
              "      <td>4</td>\n",
              "      <td>4771</td>\n",
              "      <td>3</td>\n",
              "      <td>820</td>\n",
              "      <td>1604</td>\n",
              "      <td>8.0</td>\n",
              "      <td>6.0</td>\n",
              "      <td>18.0</td>\n",
              "      <td>11.56</td>\n",
              "      <td>55.0</td>\n",
              "      <td>0</td>\n",
              "      <td>0</td>\n",
              "      <td>0</td>\n",
              "    </tr>\n",
              "    <tr>\n",
              "      <th>3</th>\n",
              "      <td>1.0</td>\n",
              "      <td>2015-02-12 03:36:46</td>\n",
              "      <td>2015-02-12 04:35:46</td>\n",
              "      <td>38</td>\n",
              "      <td>1.0</td>\n",
              "      <td>1</td>\n",
              "      <td>1525</td>\n",
              "      <td>1</td>\n",
              "      <td>1525</td>\n",
              "      <td>1525</td>\n",
              "      <td>5.0</td>\n",
              "      <td>6.0</td>\n",
              "      <td>8.0</td>\n",
              "      <td>31.80</td>\n",
              "      <td>59.0</td>\n",
              "      <td>3</td>\n",
              "      <td>3</td>\n",
              "      <td>0</td>\n",
              "    </tr>\n",
              "    <tr>\n",
              "      <th>4</th>\n",
              "      <td>1.0</td>\n",
              "      <td>2015-01-27 02:12:36</td>\n",
              "      <td>2015-01-27 02:58:36</td>\n",
              "      <td>38</td>\n",
              "      <td>1.0</td>\n",
              "      <td>2</td>\n",
              "      <td>3620</td>\n",
              "      <td>2</td>\n",
              "      <td>1425</td>\n",
              "      <td>2195</td>\n",
              "      <td>5.0</td>\n",
              "      <td>5.0</td>\n",
              "      <td>7.0</td>\n",
              "      <td>8.20</td>\n",
              "      <td>46.0</td>\n",
              "      <td>2</td>\n",
              "      <td>1</td>\n",
              "      <td>0</td>\n",
              "    </tr>\n",
              "  </tbody>\n",
              "</table>\n",
              "</div>\n",
              "    <div class=\"colab-df-buttons\">\n",
              "\n",
              "  <div class=\"colab-df-container\">\n",
              "    <button class=\"colab-df-convert\" onclick=\"convertToInteractive('df-40000a29-5b02-4a14-ae63-06114fa70e98')\"\n",
              "            title=\"Convert this dataframe to an interactive table.\"\n",
              "            style=\"display:none;\">\n",
              "\n",
              "  <svg xmlns=\"http://www.w3.org/2000/svg\" height=\"24px\" viewBox=\"0 -960 960 960\">\n",
              "    <path d=\"M120-120v-720h720v720H120Zm60-500h600v-160H180v160Zm220 220h160v-160H400v160Zm0 220h160v-160H400v160ZM180-400h160v-160H180v160Zm440 0h160v-160H620v160ZM180-180h160v-160H180v160Zm440 0h160v-160H620v160Z\"/>\n",
              "  </svg>\n",
              "    </button>\n",
              "\n",
              "  <style>\n",
              "    .colab-df-container {\n",
              "      display:flex;\n",
              "      gap: 12px;\n",
              "    }\n",
              "\n",
              "    .colab-df-convert {\n",
              "      background-color: #E8F0FE;\n",
              "      border: none;\n",
              "      border-radius: 50%;\n",
              "      cursor: pointer;\n",
              "      display: none;\n",
              "      fill: #1967D2;\n",
              "      height: 32px;\n",
              "      padding: 0 0 0 0;\n",
              "      width: 32px;\n",
              "    }\n",
              "\n",
              "    .colab-df-convert:hover {\n",
              "      background-color: #E2EBFA;\n",
              "      box-shadow: 0px 1px 2px rgba(60, 64, 67, 0.3), 0px 1px 3px 1px rgba(60, 64, 67, 0.15);\n",
              "      fill: #174EA6;\n",
              "    }\n",
              "\n",
              "    .colab-df-buttons div {\n",
              "      margin-bottom: 4px;\n",
              "    }\n",
              "\n",
              "    [theme=dark] .colab-df-convert {\n",
              "      background-color: #3B4455;\n",
              "      fill: #D2E3FC;\n",
              "    }\n",
              "\n",
              "    [theme=dark] .colab-df-convert:hover {\n",
              "      background-color: #434B5C;\n",
              "      box-shadow: 0px 1px 3px 1px rgba(0, 0, 0, 0.15);\n",
              "      filter: drop-shadow(0px 1px 2px rgba(0, 0, 0, 0.3));\n",
              "      fill: #FFFFFF;\n",
              "    }\n",
              "  </style>\n",
              "\n",
              "    <script>\n",
              "      const buttonEl =\n",
              "        document.querySelector('#df-40000a29-5b02-4a14-ae63-06114fa70e98 button.colab-df-convert');\n",
              "      buttonEl.style.display =\n",
              "        google.colab.kernel.accessAllowed ? 'block' : 'none';\n",
              "\n",
              "      async function convertToInteractive(key) {\n",
              "        const element = document.querySelector('#df-40000a29-5b02-4a14-ae63-06114fa70e98');\n",
              "        const dataTable =\n",
              "          await google.colab.kernel.invokeFunction('convertToInteractive',\n",
              "                                                    [key], {});\n",
              "        if (!dataTable) return;\n",
              "\n",
              "        const docLinkHtml = 'Like what you see? Visit the ' +\n",
              "          '<a target=\"_blank\" href=https://colab.research.google.com/notebooks/data_table.ipynb>data table notebook</a>'\n",
              "          + ' to learn more about interactive tables.';\n",
              "        element.innerHTML = '';\n",
              "        dataTable['output_type'] = 'display_data';\n",
              "        await google.colab.output.renderOutput(dataTable, element);\n",
              "        const docLink = document.createElement('div');\n",
              "        docLink.innerHTML = docLinkHtml;\n",
              "        element.appendChild(docLink);\n",
              "      }\n",
              "    </script>\n",
              "  </div>\n",
              "\n",
              "\n",
              "    <div id=\"df-a713bcb3-f58e-47e7-997f-8bfe17963721\">\n",
              "      <button class=\"colab-df-quickchart\" onclick=\"quickchart('df-a713bcb3-f58e-47e7-997f-8bfe17963721')\"\n",
              "                title=\"Suggest charts\"\n",
              "                style=\"display:none;\">\n",
              "\n",
              "<svg xmlns=\"http://www.w3.org/2000/svg\" height=\"24px\"viewBox=\"0 0 24 24\"\n",
              "     width=\"24px\">\n",
              "    <g>\n",
              "        <path d=\"M19 3H5c-1.1 0-2 .9-2 2v14c0 1.1.9 2 2 2h14c1.1 0 2-.9 2-2V5c0-1.1-.9-2-2-2zM9 17H7v-7h2v7zm4 0h-2V7h2v10zm4 0h-2v-4h2v4z\"/>\n",
              "    </g>\n",
              "</svg>\n",
              "      </button>\n",
              "\n",
              "<style>\n",
              "  .colab-df-quickchart {\n",
              "      --bg-color: #E8F0FE;\n",
              "      --fill-color: #1967D2;\n",
              "      --hover-bg-color: #E2EBFA;\n",
              "      --hover-fill-color: #174EA6;\n",
              "      --disabled-fill-color: #AAA;\n",
              "      --disabled-bg-color: #DDD;\n",
              "  }\n",
              "\n",
              "  [theme=dark] .colab-df-quickchart {\n",
              "      --bg-color: #3B4455;\n",
              "      --fill-color: #D2E3FC;\n",
              "      --hover-bg-color: #434B5C;\n",
              "      --hover-fill-color: #FFFFFF;\n",
              "      --disabled-bg-color: #3B4455;\n",
              "      --disabled-fill-color: #666;\n",
              "  }\n",
              "\n",
              "  .colab-df-quickchart {\n",
              "    background-color: var(--bg-color);\n",
              "    border: none;\n",
              "    border-radius: 50%;\n",
              "    cursor: pointer;\n",
              "    display: none;\n",
              "    fill: var(--fill-color);\n",
              "    height: 32px;\n",
              "    padding: 0;\n",
              "    width: 32px;\n",
              "  }\n",
              "\n",
              "  .colab-df-quickchart:hover {\n",
              "    background-color: var(--hover-bg-color);\n",
              "    box-shadow: 0 1px 2px rgba(60, 64, 67, 0.3), 0 1px 3px 1px rgba(60, 64, 67, 0.15);\n",
              "    fill: var(--button-hover-fill-color);\n",
              "  }\n",
              "\n",
              "  .colab-df-quickchart-complete:disabled,\n",
              "  .colab-df-quickchart-complete:disabled:hover {\n",
              "    background-color: var(--disabled-bg-color);\n",
              "    fill: var(--disabled-fill-color);\n",
              "    box-shadow: none;\n",
              "  }\n",
              "\n",
              "  .colab-df-spinner {\n",
              "    border: 2px solid var(--fill-color);\n",
              "    border-color: transparent;\n",
              "    border-bottom-color: var(--fill-color);\n",
              "    animation:\n",
              "      spin 1s steps(1) infinite;\n",
              "  }\n",
              "\n",
              "  @keyframes spin {\n",
              "    0% {\n",
              "      border-color: transparent;\n",
              "      border-bottom-color: var(--fill-color);\n",
              "      border-left-color: var(--fill-color);\n",
              "    }\n",
              "    20% {\n",
              "      border-color: transparent;\n",
              "      border-left-color: var(--fill-color);\n",
              "      border-top-color: var(--fill-color);\n",
              "    }\n",
              "    30% {\n",
              "      border-color: transparent;\n",
              "      border-left-color: var(--fill-color);\n",
              "      border-top-color: var(--fill-color);\n",
              "      border-right-color: var(--fill-color);\n",
              "    }\n",
              "    40% {\n",
              "      border-color: transparent;\n",
              "      border-right-color: var(--fill-color);\n",
              "      border-top-color: var(--fill-color);\n",
              "    }\n",
              "    60% {\n",
              "      border-color: transparent;\n",
              "      border-right-color: var(--fill-color);\n",
              "    }\n",
              "    80% {\n",
              "      border-color: transparent;\n",
              "      border-right-color: var(--fill-color);\n",
              "      border-bottom-color: var(--fill-color);\n",
              "    }\n",
              "    90% {\n",
              "      border-color: transparent;\n",
              "      border-bottom-color: var(--fill-color);\n",
              "    }\n",
              "  }\n",
              "</style>\n",
              "\n",
              "      <script>\n",
              "        async function quickchart(key) {\n",
              "          const quickchartButtonEl =\n",
              "            document.querySelector('#' + key + ' button');\n",
              "          quickchartButtonEl.disabled = true;  // To prevent multiple clicks.\n",
              "          quickchartButtonEl.classList.add('colab-df-spinner');\n",
              "          try {\n",
              "            const charts = await google.colab.kernel.invokeFunction(\n",
              "                'suggestCharts', [key], {});\n",
              "          } catch (error) {\n",
              "            console.error('Error during call to suggestCharts:', error);\n",
              "          }\n",
              "          quickchartButtonEl.classList.remove('colab-df-spinner');\n",
              "          quickchartButtonEl.classList.add('colab-df-quickchart-complete');\n",
              "        }\n",
              "        (() => {\n",
              "          let quickchartButtonEl =\n",
              "            document.querySelector('#df-a713bcb3-f58e-47e7-997f-8bfe17963721 button');\n",
              "          quickchartButtonEl.style.display =\n",
              "            google.colab.kernel.accessAllowed ? 'block' : 'none';\n",
              "        })();\n",
              "      </script>\n",
              "    </div>\n",
              "\n",
              "    </div>\n",
              "  </div>\n"
            ],
            "application/vnd.google.colaboratory.intrinsic+json": {
              "type": "dataframe",
              "variable_name": "df"
            }
          },
          "metadata": {},
          "execution_count": 149
        }
      ],
      "source": [
        "# Extract the hour and day of week from the 'created_at' timestamp\n",
        "\n",
        "df['order_hour'] = df['created_at'].dt.hour\n",
        "df['order_dayofweek'] = df['created_at'].dt.dayofweek\n",
        "\n",
        "\n",
        "# Create a categorical feature 'isWeekend'\n",
        "\n",
        "df['isWeekend'] = df['created_at'].dt.dayofweek.apply(lambda x: 1 if x >= 5 else 0)\n",
        "df['isWeekend'] = df['isWeekend'].astype('category')\n",
        "\n",
        "df.head()"
      ]
    },
    {
      "cell_type": "code",
      "execution_count": 150,
      "metadata": {
        "id": "ZgzSO8wyOTbP",
        "colab": {
          "base_uri": "https://localhost:8080/",
          "height": 226
        },
        "outputId": "b816a6fc-0fdb-4e24-d873-a225b7ec69f5"
      },
      "outputs": [
        {
          "output_type": "execute_result",
          "data": {
            "text/plain": [
              "  market_id store_primary_category order_protocol  total_items  subtotal  \\\n",
              "0       1.0                      4            1.0            4      3441   \n",
              "1       2.0                     46            2.0            1      1900   \n",
              "2       2.0                     36            3.0            4      4771   \n",
              "3       1.0                     38            1.0            1      1525   \n",
              "4       1.0                     38            1.0            2      3620   \n",
              "\n",
              "   num_distinct_items  min_item_price  max_item_price  total_onshift_dashers  \\\n",
              "0                   4             557            1239                   33.0   \n",
              "1                   1            1400            1400                    1.0   \n",
              "2                   3             820            1604                    8.0   \n",
              "3                   1            1525            1525                    5.0   \n",
              "4                   2            1425            2195                    5.0   \n",
              "\n",
              "   total_busy_dashers  total_outstanding_orders  distance  delivery_time_mins  \\\n",
              "0                14.0                      21.0     34.44                47.0   \n",
              "1                 2.0                       2.0     27.60                44.0   \n",
              "2                 6.0                      18.0     11.56                55.0   \n",
              "3                 6.0                       8.0     31.80                59.0   \n",
              "4                 5.0                       7.0      8.20                46.0   \n",
              "\n",
              "   order_hour  order_dayofweek isWeekend  \n",
              "0          22                4         0  \n",
              "1          21                1         0  \n",
              "2           0                0         0  \n",
              "3           3                3         0  \n",
              "4           2                1         0  "
            ],
            "text/html": [
              "\n",
              "  <div id=\"df-44952041-27de-4d9f-a125-40fe54e44dbb\" class=\"colab-df-container\">\n",
              "    <div>\n",
              "<style scoped>\n",
              "    .dataframe tbody tr th:only-of-type {\n",
              "        vertical-align: middle;\n",
              "    }\n",
              "\n",
              "    .dataframe tbody tr th {\n",
              "        vertical-align: top;\n",
              "    }\n",
              "\n",
              "    .dataframe thead th {\n",
              "        text-align: right;\n",
              "    }\n",
              "</style>\n",
              "<table border=\"1\" class=\"dataframe\">\n",
              "  <thead>\n",
              "    <tr style=\"text-align: right;\">\n",
              "      <th></th>\n",
              "      <th>market_id</th>\n",
              "      <th>store_primary_category</th>\n",
              "      <th>order_protocol</th>\n",
              "      <th>total_items</th>\n",
              "      <th>subtotal</th>\n",
              "      <th>num_distinct_items</th>\n",
              "      <th>min_item_price</th>\n",
              "      <th>max_item_price</th>\n",
              "      <th>total_onshift_dashers</th>\n",
              "      <th>total_busy_dashers</th>\n",
              "      <th>total_outstanding_orders</th>\n",
              "      <th>distance</th>\n",
              "      <th>delivery_time_mins</th>\n",
              "      <th>order_hour</th>\n",
              "      <th>order_dayofweek</th>\n",
              "      <th>isWeekend</th>\n",
              "    </tr>\n",
              "  </thead>\n",
              "  <tbody>\n",
              "    <tr>\n",
              "      <th>0</th>\n",
              "      <td>1.0</td>\n",
              "      <td>4</td>\n",
              "      <td>1.0</td>\n",
              "      <td>4</td>\n",
              "      <td>3441</td>\n",
              "      <td>4</td>\n",
              "      <td>557</td>\n",
              "      <td>1239</td>\n",
              "      <td>33.0</td>\n",
              "      <td>14.0</td>\n",
              "      <td>21.0</td>\n",
              "      <td>34.44</td>\n",
              "      <td>47.0</td>\n",
              "      <td>22</td>\n",
              "      <td>4</td>\n",
              "      <td>0</td>\n",
              "    </tr>\n",
              "    <tr>\n",
              "      <th>1</th>\n",
              "      <td>2.0</td>\n",
              "      <td>46</td>\n",
              "      <td>2.0</td>\n",
              "      <td>1</td>\n",
              "      <td>1900</td>\n",
              "      <td>1</td>\n",
              "      <td>1400</td>\n",
              "      <td>1400</td>\n",
              "      <td>1.0</td>\n",
              "      <td>2.0</td>\n",
              "      <td>2.0</td>\n",
              "      <td>27.60</td>\n",
              "      <td>44.0</td>\n",
              "      <td>21</td>\n",
              "      <td>1</td>\n",
              "      <td>0</td>\n",
              "    </tr>\n",
              "    <tr>\n",
              "      <th>2</th>\n",
              "      <td>2.0</td>\n",
              "      <td>36</td>\n",
              "      <td>3.0</td>\n",
              "      <td>4</td>\n",
              "      <td>4771</td>\n",
              "      <td>3</td>\n",
              "      <td>820</td>\n",
              "      <td>1604</td>\n",
              "      <td>8.0</td>\n",
              "      <td>6.0</td>\n",
              "      <td>18.0</td>\n",
              "      <td>11.56</td>\n",
              "      <td>55.0</td>\n",
              "      <td>0</td>\n",
              "      <td>0</td>\n",
              "      <td>0</td>\n",
              "    </tr>\n",
              "    <tr>\n",
              "      <th>3</th>\n",
              "      <td>1.0</td>\n",
              "      <td>38</td>\n",
              "      <td>1.0</td>\n",
              "      <td>1</td>\n",
              "      <td>1525</td>\n",
              "      <td>1</td>\n",
              "      <td>1525</td>\n",
              "      <td>1525</td>\n",
              "      <td>5.0</td>\n",
              "      <td>6.0</td>\n",
              "      <td>8.0</td>\n",
              "      <td>31.80</td>\n",
              "      <td>59.0</td>\n",
              "      <td>3</td>\n",
              "      <td>3</td>\n",
              "      <td>0</td>\n",
              "    </tr>\n",
              "    <tr>\n",
              "      <th>4</th>\n",
              "      <td>1.0</td>\n",
              "      <td>38</td>\n",
              "      <td>1.0</td>\n",
              "      <td>2</td>\n",
              "      <td>3620</td>\n",
              "      <td>2</td>\n",
              "      <td>1425</td>\n",
              "      <td>2195</td>\n",
              "      <td>5.0</td>\n",
              "      <td>5.0</td>\n",
              "      <td>7.0</td>\n",
              "      <td>8.20</td>\n",
              "      <td>46.0</td>\n",
              "      <td>2</td>\n",
              "      <td>1</td>\n",
              "      <td>0</td>\n",
              "    </tr>\n",
              "  </tbody>\n",
              "</table>\n",
              "</div>\n",
              "    <div class=\"colab-df-buttons\">\n",
              "\n",
              "  <div class=\"colab-df-container\">\n",
              "    <button class=\"colab-df-convert\" onclick=\"convertToInteractive('df-44952041-27de-4d9f-a125-40fe54e44dbb')\"\n",
              "            title=\"Convert this dataframe to an interactive table.\"\n",
              "            style=\"display:none;\">\n",
              "\n",
              "  <svg xmlns=\"http://www.w3.org/2000/svg\" height=\"24px\" viewBox=\"0 -960 960 960\">\n",
              "    <path d=\"M120-120v-720h720v720H120Zm60-500h600v-160H180v160Zm220 220h160v-160H400v160Zm0 220h160v-160H400v160ZM180-400h160v-160H180v160Zm440 0h160v-160H620v160ZM180-180h160v-160H180v160Zm440 0h160v-160H620v160Z\"/>\n",
              "  </svg>\n",
              "    </button>\n",
              "\n",
              "  <style>\n",
              "    .colab-df-container {\n",
              "      display:flex;\n",
              "      gap: 12px;\n",
              "    }\n",
              "\n",
              "    .colab-df-convert {\n",
              "      background-color: #E8F0FE;\n",
              "      border: none;\n",
              "      border-radius: 50%;\n",
              "      cursor: pointer;\n",
              "      display: none;\n",
              "      fill: #1967D2;\n",
              "      height: 32px;\n",
              "      padding: 0 0 0 0;\n",
              "      width: 32px;\n",
              "    }\n",
              "\n",
              "    .colab-df-convert:hover {\n",
              "      background-color: #E2EBFA;\n",
              "      box-shadow: 0px 1px 2px rgba(60, 64, 67, 0.3), 0px 1px 3px 1px rgba(60, 64, 67, 0.15);\n",
              "      fill: #174EA6;\n",
              "    }\n",
              "\n",
              "    .colab-df-buttons div {\n",
              "      margin-bottom: 4px;\n",
              "    }\n",
              "\n",
              "    [theme=dark] .colab-df-convert {\n",
              "      background-color: #3B4455;\n",
              "      fill: #D2E3FC;\n",
              "    }\n",
              "\n",
              "    [theme=dark] .colab-df-convert:hover {\n",
              "      background-color: #434B5C;\n",
              "      box-shadow: 0px 1px 3px 1px rgba(0, 0, 0, 0.15);\n",
              "      filter: drop-shadow(0px 1px 2px rgba(0, 0, 0, 0.3));\n",
              "      fill: #FFFFFF;\n",
              "    }\n",
              "  </style>\n",
              "\n",
              "    <script>\n",
              "      const buttonEl =\n",
              "        document.querySelector('#df-44952041-27de-4d9f-a125-40fe54e44dbb button.colab-df-convert');\n",
              "      buttonEl.style.display =\n",
              "        google.colab.kernel.accessAllowed ? 'block' : 'none';\n",
              "\n",
              "      async function convertToInteractive(key) {\n",
              "        const element = document.querySelector('#df-44952041-27de-4d9f-a125-40fe54e44dbb');\n",
              "        const dataTable =\n",
              "          await google.colab.kernel.invokeFunction('convertToInteractive',\n",
              "                                                    [key], {});\n",
              "        if (!dataTable) return;\n",
              "\n",
              "        const docLinkHtml = 'Like what you see? Visit the ' +\n",
              "          '<a target=\"_blank\" href=https://colab.research.google.com/notebooks/data_table.ipynb>data table notebook</a>'\n",
              "          + ' to learn more about interactive tables.';\n",
              "        element.innerHTML = '';\n",
              "        dataTable['output_type'] = 'display_data';\n",
              "        await google.colab.output.renderOutput(dataTable, element);\n",
              "        const docLink = document.createElement('div');\n",
              "        docLink.innerHTML = docLinkHtml;\n",
              "        element.appendChild(docLink);\n",
              "      }\n",
              "    </script>\n",
              "  </div>\n",
              "\n",
              "\n",
              "    <div id=\"df-3fc554a3-013d-4491-8179-4117ca01ac4f\">\n",
              "      <button class=\"colab-df-quickchart\" onclick=\"quickchart('df-3fc554a3-013d-4491-8179-4117ca01ac4f')\"\n",
              "                title=\"Suggest charts\"\n",
              "                style=\"display:none;\">\n",
              "\n",
              "<svg xmlns=\"http://www.w3.org/2000/svg\" height=\"24px\"viewBox=\"0 0 24 24\"\n",
              "     width=\"24px\">\n",
              "    <g>\n",
              "        <path d=\"M19 3H5c-1.1 0-2 .9-2 2v14c0 1.1.9 2 2 2h14c1.1 0 2-.9 2-2V5c0-1.1-.9-2-2-2zM9 17H7v-7h2v7zm4 0h-2V7h2v10zm4 0h-2v-4h2v4z\"/>\n",
              "    </g>\n",
              "</svg>\n",
              "      </button>\n",
              "\n",
              "<style>\n",
              "  .colab-df-quickchart {\n",
              "      --bg-color: #E8F0FE;\n",
              "      --fill-color: #1967D2;\n",
              "      --hover-bg-color: #E2EBFA;\n",
              "      --hover-fill-color: #174EA6;\n",
              "      --disabled-fill-color: #AAA;\n",
              "      --disabled-bg-color: #DDD;\n",
              "  }\n",
              "\n",
              "  [theme=dark] .colab-df-quickchart {\n",
              "      --bg-color: #3B4455;\n",
              "      --fill-color: #D2E3FC;\n",
              "      --hover-bg-color: #434B5C;\n",
              "      --hover-fill-color: #FFFFFF;\n",
              "      --disabled-bg-color: #3B4455;\n",
              "      --disabled-fill-color: #666;\n",
              "  }\n",
              "\n",
              "  .colab-df-quickchart {\n",
              "    background-color: var(--bg-color);\n",
              "    border: none;\n",
              "    border-radius: 50%;\n",
              "    cursor: pointer;\n",
              "    display: none;\n",
              "    fill: var(--fill-color);\n",
              "    height: 32px;\n",
              "    padding: 0;\n",
              "    width: 32px;\n",
              "  }\n",
              "\n",
              "  .colab-df-quickchart:hover {\n",
              "    background-color: var(--hover-bg-color);\n",
              "    box-shadow: 0 1px 2px rgba(60, 64, 67, 0.3), 0 1px 3px 1px rgba(60, 64, 67, 0.15);\n",
              "    fill: var(--button-hover-fill-color);\n",
              "  }\n",
              "\n",
              "  .colab-df-quickchart-complete:disabled,\n",
              "  .colab-df-quickchart-complete:disabled:hover {\n",
              "    background-color: var(--disabled-bg-color);\n",
              "    fill: var(--disabled-fill-color);\n",
              "    box-shadow: none;\n",
              "  }\n",
              "\n",
              "  .colab-df-spinner {\n",
              "    border: 2px solid var(--fill-color);\n",
              "    border-color: transparent;\n",
              "    border-bottom-color: var(--fill-color);\n",
              "    animation:\n",
              "      spin 1s steps(1) infinite;\n",
              "  }\n",
              "\n",
              "  @keyframes spin {\n",
              "    0% {\n",
              "      border-color: transparent;\n",
              "      border-bottom-color: var(--fill-color);\n",
              "      border-left-color: var(--fill-color);\n",
              "    }\n",
              "    20% {\n",
              "      border-color: transparent;\n",
              "      border-left-color: var(--fill-color);\n",
              "      border-top-color: var(--fill-color);\n",
              "    }\n",
              "    30% {\n",
              "      border-color: transparent;\n",
              "      border-left-color: var(--fill-color);\n",
              "      border-top-color: var(--fill-color);\n",
              "      border-right-color: var(--fill-color);\n",
              "    }\n",
              "    40% {\n",
              "      border-color: transparent;\n",
              "      border-right-color: var(--fill-color);\n",
              "      border-top-color: var(--fill-color);\n",
              "    }\n",
              "    60% {\n",
              "      border-color: transparent;\n",
              "      border-right-color: var(--fill-color);\n",
              "    }\n",
              "    80% {\n",
              "      border-color: transparent;\n",
              "      border-right-color: var(--fill-color);\n",
              "      border-bottom-color: var(--fill-color);\n",
              "    }\n",
              "    90% {\n",
              "      border-color: transparent;\n",
              "      border-bottom-color: var(--fill-color);\n",
              "    }\n",
              "  }\n",
              "</style>\n",
              "\n",
              "      <script>\n",
              "        async function quickchart(key) {\n",
              "          const quickchartButtonEl =\n",
              "            document.querySelector('#' + key + ' button');\n",
              "          quickchartButtonEl.disabled = true;  // To prevent multiple clicks.\n",
              "          quickchartButtonEl.classList.add('colab-df-spinner');\n",
              "          try {\n",
              "            const charts = await google.colab.kernel.invokeFunction(\n",
              "                'suggestCharts', [key], {});\n",
              "          } catch (error) {\n",
              "            console.error('Error during call to suggestCharts:', error);\n",
              "          }\n",
              "          quickchartButtonEl.classList.remove('colab-df-spinner');\n",
              "          quickchartButtonEl.classList.add('colab-df-quickchart-complete');\n",
              "        }\n",
              "        (() => {\n",
              "          let quickchartButtonEl =\n",
              "            document.querySelector('#df-3fc554a3-013d-4491-8179-4117ca01ac4f button');\n",
              "          quickchartButtonEl.style.display =\n",
              "            google.colab.kernel.accessAllowed ? 'block' : 'none';\n",
              "        })();\n",
              "      </script>\n",
              "    </div>\n",
              "\n",
              "    </div>\n",
              "  </div>\n"
            ],
            "application/vnd.google.colaboratory.intrinsic+json": {
              "type": "dataframe",
              "variable_name": "df"
            }
          },
          "metadata": {},
          "execution_count": 150
        }
      ],
      "source": [
        "# Drop unnecessary columns\n",
        "\n",
        "# Drop raw timestamp columns\n",
        "df.drop(columns=['created_at', 'actual_delivery_time'], inplace=True)\n",
        "\n",
        "df.head()"
      ]
    },
    {
      "cell_type": "markdown",
      "metadata": {
        "id": "-JJxTsQOFKyl"
      },
      "source": [
        "#### **2.3 Creating training and validation sets** <font color = red>[5 marks]</font> <br>"
      ]
    },
    {
      "cell_type": "markdown",
      "metadata": {
        "id": "wuyPJMpCFyUL"
      },
      "source": [
        "##### **2.3.1** <font color = red>[2 marks]</font> <br>\n",
        " Define target and input features"
      ]
    },
    {
      "cell_type": "code",
      "execution_count": 151,
      "metadata": {
        "id": "BVyKFLXTFKRE",
        "colab": {
          "base_uri": "https://localhost:8080/"
        },
        "outputId": "09fd4315-ca8d-4dce-a29e-ae8be5d2ac77"
      },
      "outputs": [
        {
          "output_type": "execute_result",
          "data": {
            "text/plain": [
              "Index(['market_id', 'store_primary_category', 'order_protocol', 'total_items',\n",
              "       'subtotal', 'num_distinct_items', 'min_item_price', 'max_item_price',\n",
              "       'total_onshift_dashers', 'total_busy_dashers',\n",
              "       'total_outstanding_orders', 'distance', 'order_hour', 'order_dayofweek',\n",
              "       'isWeekend'],\n",
              "      dtype='object')"
            ]
          },
          "metadata": {},
          "execution_count": 151
        }
      ],
      "source": [
        "# Define target variable (y) and features (X)\n",
        "y = df.pop('delivery_time_mins')\n",
        "X = df\n",
        "\n",
        "X.columns"
      ]
    },
    {
      "cell_type": "markdown",
      "metadata": {
        "id": "e56iVNqdF3G8"
      },
      "source": [
        "##### **2.3.2** <font color = red>[3 marks]</font> <br>\n",
        " Split the data into training and test sets"
      ]
    },
    {
      "cell_type": "code",
      "execution_count": 152,
      "metadata": {
        "id": "0t7XtNDEF6Pu",
        "colab": {
          "base_uri": "https://localhost:8080/"
        },
        "outputId": "1dbaf2ea-0268-4e68-d356-49e493a68cef"
      },
      "outputs": [
        {
          "output_type": "stream",
          "name": "stdout",
          "text": [
            "X_train shape: (140621, 15)\n",
            "X_test shape: (35156, 15)\n",
            "y_train shape: (140621,)\n",
            "y_test shape: (35156,)\n"
          ]
        }
      ],
      "source": [
        "# Split data into training and testing sets\n",
        "\n",
        "X_train, X_test, y_train, y_test = train_test_split(X, y, test_size=0.2, random_state=100)\n",
        "\n",
        "# Display the shape of the splits\n",
        "print(\"X_train shape:\", X_train.shape)\n",
        "print(\"X_test shape:\", X_test.shape)\n",
        "print(\"y_train shape:\", y_train.shape)\n",
        "print(\"y_test shape:\", y_test.shape)\n"
      ]
    },
    {
      "cell_type": "markdown",
      "metadata": {
        "id": "ZQxv96NBAq_y"
      },
      "source": [
        "## **3. Exploratory Data Analysis on Training Data** <font color = red>[20 marks]</font> <br>\n",
        "1. Analyzing the correlation between variables to identify patterns and relationships\n",
        "2. Identifying and addressing outliers to ensure the integrity of the analysis\n",
        "3. Exploring the relationships between variables and examining the distribution of the data for better insights"
      ]
    },
    {
      "cell_type": "markdown",
      "metadata": {
        "id": "VU1baEcRc1-A"
      },
      "source": [
        "#### **3.1 Feature Distributions** <font color = red> [7 marks]</font> <br>\n"
      ]
    },
    {
      "cell_type": "code",
      "execution_count": 153,
      "metadata": {
        "id": "Rj7yFI7VJ_va",
        "colab": {
          "base_uri": "https://localhost:8080/"
        },
        "outputId": "64d155b7-a09c-4d7e-bfe8-9e300e5dd271"
      },
      "outputs": [
        {
          "output_type": "stream",
          "name": "stdout",
          "text": [
            "Numerical columns: ['total_items', 'subtotal', 'num_distinct_items', 'min_item_price', 'max_item_price', 'total_onshift_dashers', 'total_busy_dashers', 'total_outstanding_orders', 'distance', 'order_hour', 'order_dayofweek']\n",
            "Categorical columns: ['market_id', 'store_primary_category', 'order_protocol', 'isWeekend']\n"
          ]
        }
      ],
      "source": [
        "# Define numerical and categorical columns for easy EDA and data manipulation\n",
        "numerical_cols = X_train.select_dtypes(include=np.number).columns.tolist()\n",
        "categorical_cols = X_train.select_dtypes(include='category').columns.tolist()\n",
        "\n",
        "print(\"Numerical columns:\", numerical_cols)\n",
        "print(\"Categorical columns:\", categorical_cols)"
      ]
    },
    {
      "cell_type": "markdown",
      "metadata": {
        "id": "fWMFLWKpHE-R"
      },
      "source": [
        "##### **3.1.1** <font color = red>[3 marks]</font> <br>\n",
        "Plot distributions for numerical columns in the training set to understand their spread and any skewness"
      ]
    },
    {
      "cell_type": "code",
      "execution_count": null,
      "metadata": {
        "id": "_M0u5G1YR73_"
      },
      "outputs": [],
      "source": [
        "# Plot distributions for all numerical columns\n",
        "\n",
        "\n",
        "# Set up plot style\n",
        "sns.set(style='whitegrid')\n",
        "plt.figure(figsize=(16, 22))\n",
        "\n",
        "# Plot distribution for each numerical column\n",
        "for i, col in enumerate(numerical_cols):\n",
        "    plt.subplot(len(numerical_cols) // 2 + 1, 2, i + 1)\n",
        "    sns.histplot(X_train[col], kde=True, bins=30, color='steelblue')\n",
        "    plt.title(f'Distribution of {col}')\n",
        "    plt.xlabel(col)\n",
        "    plt.ylabel('Frequency')\n",
        "\n",
        "plt.tight_layout()\n",
        "plt.show()"
      ]
    },
    {
      "cell_type": "markdown",
      "metadata": {
        "id": "4MtpapIvc9rC"
      },
      "source": [
        "##### **3.1.2** <font color = red>[2 marks]</font> <br>\n",
        "Check the distribution of categorical features"
      ]
    },
    {
      "cell_type": "code",
      "execution_count": null,
      "metadata": {
        "id": "zr8loNgMLdrm"
      },
      "outputs": [],
      "source": [
        "# Distribution of categorical columns\n",
        "\n",
        "plt.figure(figsize=(20, 18))\n",
        "for i, col in enumerate(categorical_cols):\n",
        "    plt.subplot(len(categorical_cols) // 2 + 1, 2, i + 1)\n",
        "    sns.histplot(X_train[col],kde=True, bins=30, color='steelblue')\n",
        "    plt.title(f'Distribution of {col}')\n",
        "plt.tight_layout()\n",
        "plt.show()"
      ]
    },
    {
      "cell_type": "markdown",
      "metadata": {
        "id": "1-9pcLxzJZWf"
      },
      "source": [
        "##### **3.1.3** <font color = red>[2 mark]</font> <br>\n",
        "Visualise the distribution of the target variable to understand its spread and any skewness"
      ]
    },
    {
      "cell_type": "code",
      "execution_count": null,
      "metadata": {
        "id": "fiWe2Bl9R7yL"
      },
      "outputs": [],
      "source": [
        "# Distribution of time_taken\n",
        "\n",
        "\n",
        "plt.figure(figsize=(10, 6))\n",
        "sns.histplot(y_train, kde=True, bins=50, color='steelblue')\n",
        "\n",
        "# Title and labels\n",
        "plt.title('Distribution of Delivery Time (minutes)', fontsize=14)\n",
        "plt.xlabel('Delivery Time (mins)', fontsize=12)\n",
        "plt.ylabel('Frequency', fontsize=12)\n",
        "\n",
        "plt.tight_layout()\n",
        "plt.show()\n"
      ]
    },
    {
      "cell_type": "markdown",
      "metadata": {
        "id": "pbxczs61dROZ"
      },
      "source": [
        "#### **3.2 Relationships Between Features** <font color = red>[3 marks]</font> <br>"
      ]
    },
    {
      "cell_type": "markdown",
      "metadata": {
        "id": "YH81kNkOOvlx"
      },
      "source": [
        "##### **3.2.1** <font color = red>[3 marks]</font> <br>\n",
        "Scatter plots for important numerical and categorical features to observe how they relate to `time_taken`"
      ]
    },
    {
      "cell_type": "code",
      "execution_count": null,
      "metadata": {
        "id": "zIBnRHohR799"
      },
      "outputs": [],
      "source": [
        "# Scatter plot to visualise the relationship between delivery_time_mins and other features\n",
        "\n",
        "plt.figure(figsize=(18, 16))\n",
        "for i, col in enumerate(numerical_cols):\n",
        "    plt.subplot(len(numerical_cols) // 2 + 1, 2, i + 1)\n",
        "    sns.scatterplot(x=X_train[col], y=y_train, alpha=0.6, color='steelblue')\n",
        "    plt.title(f'Delivery Time vs {col}')\n",
        "    plt.xlabel(col)\n",
        "    plt.ylabel('Delivery Time (mins)')\n",
        "\n",
        "plt.tight_layout()\n",
        "plt.show()"
      ]
    },
    {
      "cell_type": "code",
      "execution_count": null,
      "metadata": {
        "id": "KiWL3cKowfZd"
      },
      "outputs": [],
      "source": [
        "# Show the distribution of time_taken for different hours\n",
        "\n",
        "plt.figure(figsize=(12, 6))\n",
        "sns.boxplot(x=X_train['order_hour'], y=y_train)\n",
        "plt.title('Distribution of Delivery Time by Order Hour')\n",
        "plt.xlabel('Order Hour')\n",
        "plt.ylabel('Delivery Time (mins)')\n",
        "plt.show()"
      ]
    },
    {
      "cell_type": "markdown",
      "metadata": {
        "id": "GKg6rBljIJFP"
      },
      "source": [
        "#### **3.3 Correlation Analysis** <font color = red>[5 marks]</font> <br>\n",
        "Check correlations between numerical features to identify which variables are strongly related to `time_taken`"
      ]
    },
    {
      "cell_type": "markdown",
      "metadata": {
        "id": "Cyk00sbYfnc0"
      },
      "source": [
        "##### **3.3.1** <font color = red>[3 marks]</font> <br>\n",
        "Plot a heatmap to display correlations"
      ]
    },
    {
      "cell_type": "code",
      "source": [
        "train_data = X_train.copy()\n",
        "train_data['delivery_time_mins'] = y_train\n",
        "numerical_cols_a = train_data.select_dtypes(include=['int64', 'float64']).columns\n",
        "\n",
        "plt.figure(figsize=(12, 8))\n",
        "correlation_matrix = train_data[numerical_cols_a].corr()\n",
        "\n",
        "sns.heatmap(correlation_matrix, annot=True, fmt=\".2f\", cmap=\"coolwarm\", square=True)\n",
        "plt.title(\"Correlation Matrix including Target Variable\")\n",
        "plt.show()"
      ],
      "metadata": {
        "id": "we9RI1Y3GEse"
      },
      "execution_count": null,
      "outputs": []
    },
    {
      "cell_type": "code",
      "execution_count": null,
      "metadata": {
        "id": "WxrdHdvKR7vy"
      },
      "outputs": [],
      "source": [
        "# Calculate the correlation matrix including the target variable\n",
        "correlation_matrix = X_train[numerical_cols].corrwith(y_train).sort_values(ascending=False)\n",
        "\n",
        "# Plot the heatmap of the correlation matrix\n",
        "plt.figure(figsize=(10, 8))\n",
        "sns.heatmap(correlation_matrix.to_frame(), annot=True, cmap='coolwarm', fmt=\".2f\")\n",
        "plt.title('Correlation of Numerical Features with Delivery Time')\n",
        "plt.show()"
      ]
    },
    {
      "cell_type": "markdown",
      "metadata": {
        "id": "8yuD3RIwffZE"
      },
      "source": [
        "##### **3.3.2** <font color = red>[2 marks]</font> <br>\n",
        "Drop the columns with weak correlations with the target variable"
      ]
    },
    {
      "cell_type": "code",
      "execution_count": null,
      "metadata": {
        "id": "MDZN586gH8R_"
      },
      "outputs": [],
      "source": [
        "# Drop 3 weakly correlated columns from training dataset\n",
        "columns_to_drop = ['min_item_price', 'order_dayofweek', 'order_hour']\n",
        "X_train = X_train.drop(columns=columns_to_drop)\n",
        "X_test = X_test.drop(columns=columns_to_drop)\n",
        "\n",
        "print(\"Shape of X_train after dropping columns:\", X_train.shape)\n",
        "print(\"Shape of X_test after dropping columns:\", X_test.shape)"
      ]
    },
    {
      "cell_type": "markdown",
      "metadata": {
        "id": "_mZv2rz6lxvc"
      },
      "source": [
        "#### **3.4 Handling the Outliers** <font color = red>[5 marks]</font> <br>\n",
        "\n"
      ]
    },
    {
      "cell_type": "markdown",
      "metadata": {
        "id": "hdyAT-OhyH3z"
      },
      "source": [
        "##### **3.4.1** <font color = red>[2 marks]</font> <br>\n",
        "Visualise potential outliers for the target variable and other numerical features using boxplots"
      ]
    },
    {
      "cell_type": "code",
      "execution_count": null,
      "metadata": {
        "id": "ow3Mowo4R71T"
      },
      "outputs": [],
      "source": [
        "# Boxplot for time_taken\n",
        "plt.figure(figsize=(8, 6))\n",
        "sns.boxplot(y=y_train)\n",
        "plt.title('Boxplot of Delivery Time (mins)')\n",
        "plt.ylabel('Delivery Time (mins)')\n",
        "plt.show()\n",
        "\n",
        "# Boxplots for other numerical features\n",
        "numerical_cols_after_drop = X_train.select_dtypes(include=np.number).columns.tolist()\n",
        "\n",
        "plt.figure(figsize=(16, 18))\n",
        "for i, col in enumerate(numerical_cols_after_drop):\n",
        "    plt.subplot(len(numerical_cols_after_drop) // 2 + 1, 2, i + 1)\n",
        "    sns.boxplot(y=X_train[col])\n",
        "    plt.title(f'Boxplot of {col}')\n",
        "    plt.ylabel(col)\n",
        "\n",
        "plt.tight_layout()\n",
        "plt.show()"
      ]
    },
    {
      "cell_type": "markdown",
      "metadata": {
        "id": "_ZCaGBKv_stm"
      },
      "source": [
        "##### **3.4.2** <font color = red>[3 marks]</font> <br>\n",
        "Handle outliers present in all columns"
      ]
    },
    {
      "cell_type": "code",
      "execution_count": null,
      "metadata": {
        "id": "cwQ1A_wZ_X_K"
      },
      "outputs": [],
      "source": [
        "# Handle outliers\n",
        "\n"
      ]
    },
    {
      "cell_type": "markdown",
      "metadata": {
        "id": "v0Cd2J-LGWaF"
      },
      "source": [
        "## **4. Exploratory Data Analysis on Validation Data** <font color = red>[optional]</font> <br>\n",
        "Optionally, perform EDA on test data to see if the distribution match with the training data"
      ]
    },
    {
      "cell_type": "code",
      "execution_count": null,
      "metadata": {
        "id": "8sN6bG_hTbUE"
      },
      "outputs": [],
      "source": [
        "# Define numerical and categorical columns for easy EDA and data manipulation\n",
        "\n"
      ]
    },
    {
      "cell_type": "markdown",
      "metadata": {
        "id": "6Zq16lr0Q9IG"
      },
      "source": [
        "#### **4.1 Feature Distributions**\n"
      ]
    },
    {
      "cell_type": "markdown",
      "metadata": {
        "id": "WuoIVgXlQC9y"
      },
      "source": [
        "##### **4.1.1**\n",
        "Plot distributions for numerical columns in the validation set to understand their spread and any skewness"
      ]
    },
    {
      "cell_type": "code",
      "execution_count": null,
      "metadata": {
        "id": "JKgSvKvzG8fv"
      },
      "outputs": [],
      "source": [
        "# Plot distributions for all numerical columns\n",
        "\n"
      ]
    },
    {
      "cell_type": "markdown",
      "metadata": {
        "id": "MrywBQGWQC9z"
      },
      "source": [
        "##### **4.1.2**\n",
        "Check the distribution of categorical features"
      ]
    },
    {
      "cell_type": "code",
      "execution_count": null,
      "metadata": {
        "id": "p0CIcl2tHBwp"
      },
      "outputs": [],
      "source": [
        "# Distribution of categorical columns\n",
        "\n"
      ]
    },
    {
      "cell_type": "markdown",
      "metadata": {
        "id": "8_j74bnlQC9z"
      },
      "source": [
        "##### **4.1.3**\n",
        "Visualise the distribution of the target variable to understand its spread and any skewness"
      ]
    },
    {
      "cell_type": "code",
      "execution_count": null,
      "metadata": {
        "id": "_dGfR8MHGtqm"
      },
      "outputs": [],
      "source": [
        "# Distribution of time_taken\n",
        "\n"
      ]
    },
    {
      "cell_type": "markdown",
      "metadata": {
        "id": "Ki2FI7fsHDgK"
      },
      "source": [
        "#### **4.2 Relationships Between Features**\n",
        "Scatter plots for numerical features to observe how they relate to each other, especially to `time_taken`"
      ]
    },
    {
      "cell_type": "code",
      "execution_count": null,
      "metadata": {
        "id": "8lzNPoK4HFnZ"
      },
      "outputs": [],
      "source": [
        "# Scatter plot to visualise the relationship between time_taken and other features\n",
        "\n"
      ]
    },
    {
      "cell_type": "markdown",
      "metadata": {
        "id": "Z8VoM0XfXWko"
      },
      "source": [
        "#### **4.3** Drop the columns with weak correlations with the target variable"
      ]
    },
    {
      "cell_type": "code",
      "execution_count": null,
      "metadata": {
        "id": "1BnM8w2lXWkp"
      },
      "outputs": [],
      "source": [
        "# Drop the weakly correlated columns from training dataset\n",
        "\n"
      ]
    },
    {
      "cell_type": "markdown",
      "metadata": {
        "id": "ReNN4PyM8enl"
      },
      "source": [
        "## **5. Model Building** <font color = red>[15 marks]</font> <br>"
      ]
    },
    {
      "cell_type": "markdown",
      "metadata": {
        "id": "2l2XfNF6nc8L"
      },
      "source": [
        "#### **Import Necessary Libraries**"
      ]
    },
    {
      "cell_type": "code",
      "execution_count": null,
      "metadata": {
        "id": "__fmfT6vQWpd"
      },
      "outputs": [],
      "source": [
        "# Import libraries\n",
        "\n"
      ]
    },
    {
      "cell_type": "markdown",
      "metadata": {
        "id": "fCLIKw5pQiA7"
      },
      "source": [
        "#### **5.1 Feature Scaling** <font color = red>[3 marks]</font> <br>"
      ]
    },
    {
      "cell_type": "code",
      "execution_count": null,
      "metadata": {
        "id": "newEgSyyQiHK"
      },
      "outputs": [],
      "source": [
        "# Apply scaling to the numerical columns\n",
        "\n"
      ]
    },
    {
      "cell_type": "markdown",
      "metadata": {
        "id": "RXcV5Z_E8tLL"
      },
      "source": [
        "Note that linear regression is agnostic to feature scaling. However, with feature scaling, we get the coefficients to be somewhat on the same scale so that it becomes easier to compare them."
      ]
    },
    {
      "cell_type": "markdown",
      "metadata": {
        "id": "2bxip-t3Y1MB"
      },
      "source": [
        "#### **5.2 Build a linear regression model** <font color = red>[5 marks]</font> <br>"
      ]
    },
    {
      "cell_type": "markdown",
      "metadata": {
        "id": "k7jZciTFtric"
      },
      "source": [
        "You can choose from the libraries *statsmodels* and *scikit-learn* to build the model."
      ]
    },
    {
      "cell_type": "code",
      "execution_count": null,
      "metadata": {
        "id": "DMRpgx_iQYM4"
      },
      "outputs": [],
      "source": [
        "# Create/Initialise the model\n"
      ]
    },
    {
      "cell_type": "code",
      "execution_count": null,
      "metadata": {
        "id": "hbJVZpMiW8b2"
      },
      "outputs": [],
      "source": [
        "# Train the model using the training data\n"
      ]
    },
    {
      "cell_type": "code",
      "execution_count": null,
      "metadata": {
        "id": "cCQcJtDbW_dG"
      },
      "outputs": [],
      "source": [
        "# Make predictions\n"
      ]
    },
    {
      "cell_type": "code",
      "execution_count": null,
      "metadata": {
        "id": "Udw5kE1fXBsR"
      },
      "outputs": [],
      "source": [
        "# Find results for evaluation metrics\n",
        "\n"
      ]
    },
    {
      "cell_type": "markdown",
      "metadata": {
        "id": "P3-HovybcZKR"
      },
      "source": [
        "Note that we have 12 (depending on how you select features) training features. However, not all of them would be useful. Let's say we want to take the most relevant 8 features.\n",
        "\n",
        "We will use Recursive Feature Elimination (RFE) here.\n",
        "\n",
        "For this, you can look at the coefficients / p-values of features from the model summary and perform feature elimination, or you can use the RFE module provided with *scikit-learn*."
      ]
    },
    {
      "cell_type": "markdown",
      "metadata": {
        "id": "zU8OLQ4bnwdr"
      },
      "source": [
        "#### **5.3 Build the model and fit RFE to select the most important features** <font color = red>[7 marks]</font> <br>"
      ]
    },
    {
      "cell_type": "markdown",
      "metadata": {
        "id": "h4FZMiX11RyI"
      },
      "source": [
        "For RFE, we will start with all features and use\n",
        "the RFE method to recursively reduce the number of features one-by-one.\n",
        "\n",
        "After analysing the results of these iterations, we select the one that has a good balance between performance and number of features."
      ]
    },
    {
      "cell_type": "code",
      "execution_count": null,
      "metadata": {
        "id": "ub1HgSwl1eiC"
      },
      "outputs": [],
      "source": [
        "# Loop through the number of features and test the model\n",
        "\n"
      ]
    },
    {
      "cell_type": "code",
      "execution_count": null,
      "metadata": {
        "id": "M7p-CAQn3wQE"
      },
      "outputs": [],
      "source": [
        "# Build the final model with selected number of features\n",
        "\n"
      ]
    },
    {
      "cell_type": "markdown",
      "metadata": {
        "id": "t0l_mLL_4OOl"
      },
      "source": [
        "## **6. Results and Inference** <font color = red>[5 marks]</font> <br>"
      ]
    },
    {
      "cell_type": "markdown",
      "metadata": {
        "id": "jsPGaacJ71mt"
      },
      "source": [
        "#### **6.1 Perform Residual Analysis** <font color = red>[3 marks]</font> <br>"
      ]
    },
    {
      "cell_type": "code",
      "execution_count": null,
      "metadata": {
        "id": "Lbj7O8rf7SZS"
      },
      "outputs": [],
      "source": [
        "# Perform residual analysis using plots like residuals vs predicted values, Q-Q plot and residual histogram\n",
        "\n"
      ]
    },
    {
      "cell_type": "markdown",
      "metadata": {
        "id": "Aq4g9xPsu4T5"
      },
      "source": [
        "[Your inferences here:]\n",
        "\n"
      ]
    },
    {
      "cell_type": "markdown",
      "metadata": {
        "id": "S2-CiCId7_y9"
      },
      "source": [
        "#### **6.2 Perform Coefficient Analysis** <font color = red>[2 marks]</font> <br>"
      ]
    },
    {
      "cell_type": "markdown",
      "metadata": {
        "id": "y2koFJovu-cH"
      },
      "source": [
        "Perform coefficient analysis to find how changes in features affect the target.\n",
        "Also, the features were scaled, so interpret the scaled and unscaled coefficients to understand the impact of feature changes on delivery time.\n"
      ]
    },
    {
      "cell_type": "code",
      "execution_count": null,
      "metadata": {
        "id": "sr8EWhg_9QnI"
      },
      "outputs": [],
      "source": [
        "# Compare the scaled vs unscaled features used in the final model\n",
        "\n"
      ]
    },
    {
      "cell_type": "markdown",
      "metadata": {
        "id": "OQ5VcQ2G-SOb"
      },
      "source": [
        "Additionally, we can analyse the effect of a unit change in a feature. In other words, because we have scaled the features, a unit change in the features will not translate directly to the model. Use scaled and unscaled coefficients to find how will a unit change in a feature affect the target."
      ]
    },
    {
      "cell_type": "code",
      "execution_count": null,
      "metadata": {
        "id": "dMHN7r-x-Lp5"
      },
      "outputs": [],
      "source": [
        "# Analyze the effect of a unit change in a feature, say 'total_items'\n",
        "\n"
      ]
    },
    {
      "cell_type": "markdown",
      "metadata": {
        "id": "aFWJ2s9I_Yeo"
      },
      "source": [
        "Note:\n",
        "The coefficients on the original scale might differ greatly in magnitude from the scaled coefficients, but they both describe the same relationships between variables.\n",
        "\n",
        "Interpretation is key: Focus on the direction and magnitude of the coefficients on the original scale to understand the impact of each variable on the response variable in the original units."
      ]
    },
    {
      "cell_type": "markdown",
      "metadata": {
        "id": "ClCit1tvKIyE"
      },
      "source": [
        "Include conclusions in your report document."
      ]
    },
    {
      "cell_type": "markdown",
      "metadata": {
        "id": "mn-wDgoeSiHP"
      },
      "source": [
        "## Subjective Questions <font color = red>[20 marks]</font>"
      ]
    },
    {
      "cell_type": "markdown",
      "metadata": {
        "id": "h1aj52YxYHzt"
      },
      "source": [
        "Answer the following questions only in the notebook. Include the visualisations/methodologies/insights/outcomes from all the above steps in your report."
      ]
    },
    {
      "cell_type": "markdown",
      "metadata": {
        "id": "TVJSi-Q0Cw_r"
      },
      "source": [
        "#### Subjective Questions based on Assignment"
      ]
    },
    {
      "cell_type": "markdown",
      "metadata": {
        "id": "1_jiT95xTA6q"
      },
      "source": [
        "##### **Question 1.** <font color = red>[2 marks]</font> <br>\n",
        "\n",
        "Are there any categorical variables in the data? From your analysis of the categorical variables from the dataset, what could you infer about their effect on the dependent variable?"
      ]
    },
    {
      "cell_type": "markdown",
      "metadata": {
        "id": "TvFQvBy3VM9A"
      },
      "source": [
        "**Answer:**\n",
        ">"
      ]
    },
    {
      "cell_type": "markdown",
      "metadata": {
        "id": "KqPxxtWEY3_W"
      },
      "source": [
        "\n",
        "\n",
        "---\n",
        "\n"
      ]
    },
    {
      "cell_type": "markdown",
      "metadata": {
        "id": "DDSRymTJTHCW"
      },
      "source": [
        "##### **Question 2.** <font color = red>[1 marks]</font> <br>\n",
        "What does `test_size = 0.2` refer to during splitting the data into training and test sets?"
      ]
    },
    {
      "cell_type": "markdown",
      "metadata": {
        "id": "PRBCcZvoVx-r"
      },
      "source": [
        "**Answer:**\n",
        ">"
      ]
    },
    {
      "cell_type": "markdown",
      "metadata": {
        "id": "A_afbTV8Y5-F"
      },
      "source": [
        "\n",
        "\n",
        "---\n",
        "\n"
      ]
    },
    {
      "cell_type": "markdown",
      "metadata": {
        "id": "BEVX57VbTJBP"
      },
      "source": [
        "##### **Question 3.** <font color = red>[1 marks]</font> <br>\n",
        "Looking at the heatmap, which one has the highest correlation with the target variable?  "
      ]
    },
    {
      "cell_type": "markdown",
      "metadata": {
        "id": "ewPqz4yLWBzR"
      },
      "source": [
        "**Answer:**\n",
        ">"
      ]
    },
    {
      "cell_type": "markdown",
      "metadata": {
        "id": "DLy_-8F5Y69c"
      },
      "source": [
        "\n",
        "\n",
        "---\n",
        "\n"
      ]
    },
    {
      "cell_type": "markdown",
      "metadata": {
        "id": "lg-6E-N-TKyS"
      },
      "source": [
        "##### **Question 4.** <font color = red>[2 marks]</font> <br>\n",
        "What was your approach to detect the outliers? How did you address them?"
      ]
    },
    {
      "cell_type": "markdown",
      "metadata": {
        "id": "wPUDtsRGWLZl"
      },
      "source": [
        "**Answer:**\n",
        "\n",
        ">"
      ]
    },
    {
      "cell_type": "markdown",
      "metadata": {
        "id": "OVyJFcT2Y7U8"
      },
      "source": [
        "\n",
        "\n",
        "---\n",
        "\n"
      ]
    },
    {
      "cell_type": "markdown",
      "metadata": {
        "id": "Dvh9CLFnTMhO"
      },
      "source": [
        "##### **Question 5.** <font color = red>[2 marks]</font> <br>\n",
        "Based on the final model, which are the top 3 features significantly affecting the delivery time?"
      ]
    },
    {
      "cell_type": "markdown",
      "metadata": {
        "id": "M-DDpZcCWUun"
      },
      "source": [
        "**Answer:**\n",
        ">"
      ]
    },
    {
      "cell_type": "markdown",
      "metadata": {
        "id": "GVCrLjhTY74h"
      },
      "source": [
        "\n",
        "\n",
        "---\n",
        "\n"
      ]
    },
    {
      "cell_type": "markdown",
      "metadata": {
        "id": "VBLH_lA5C4jy"
      },
      "source": [
        "#### General Subjective Questions"
      ]
    },
    {
      "cell_type": "markdown",
      "metadata": {
        "id": "0MJGDVyiTOyr"
      },
      "source": [
        "##### **Question 6.** <font color = red>[3 marks]</font> <br>\n",
        "Explain the linear regression algorithm in detail"
      ]
    },
    {
      "cell_type": "markdown",
      "metadata": {
        "id": "jZc1QX8RW_Pa"
      },
      "source": [
        "**Answer:**\n",
        ">\n"
      ]
    },
    {
      "cell_type": "markdown",
      "metadata": {
        "id": "X0MCb30NY8UE"
      },
      "source": [
        "\n",
        "\n",
        "---\n",
        "\n"
      ]
    },
    {
      "cell_type": "markdown",
      "metadata": {
        "id": "db_7gqf8TQTk"
      },
      "source": [
        "##### **Question 7.** <font color = red>[2 marks]</font> <br>\n",
        "Explain the difference between simple linear regression and multiple linear regression"
      ]
    },
    {
      "cell_type": "markdown",
      "metadata": {
        "id": "c1jsR8htXD8j"
      },
      "source": [
        "**Answer:**\n",
        ">"
      ]
    },
    {
      "cell_type": "markdown",
      "metadata": {
        "id": "FnSGZEltY8ss"
      },
      "source": [
        "\n",
        "\n",
        "---\n",
        "\n"
      ]
    },
    {
      "cell_type": "markdown",
      "metadata": {
        "id": "DT6ivEEnTSEs"
      },
      "source": [
        "##### **Question 8.** <font color = red>[2 marks]</font> <br>\n",
        "What is the role of the cost function in linear regression, and how is it minimized?"
      ]
    },
    {
      "cell_type": "markdown",
      "metadata": {
        "id": "V2PaCL-FXSSn"
      },
      "source": [
        "**Answer:**\n",
        ">\n"
      ]
    },
    {
      "cell_type": "markdown",
      "metadata": {
        "id": "RIKB_W0FY9QM"
      },
      "source": [
        "\n",
        "\n",
        "---\n",
        "\n"
      ]
    },
    {
      "cell_type": "markdown",
      "metadata": {
        "id": "gZIb5hbMCCVY"
      },
      "source": [
        "##### **Question 9.** <font color = red>[2 marks]</font> <br>\n",
        "Explain the difference between overfitting and underfitting.\n",
        "\n"
      ]
    },
    {
      "cell_type": "markdown",
      "metadata": {
        "id": "d8kn4c-7CEjP"
      },
      "source": [
        "**Answer:**\n",
        "\n",
        ">"
      ]
    },
    {
      "cell_type": "markdown",
      "metadata": {
        "id": "8PWIs-suCMEr"
      },
      "source": [
        "\n",
        "\n",
        "---\n",
        "\n"
      ]
    },
    {
      "cell_type": "markdown",
      "metadata": {
        "id": "Os7JPKHwArn7"
      },
      "source": [
        "##### **Question 10.** <font color = red>[3 marks]</font> <br>\n",
        "How do residual plots help in diagnosing a linear regression model?"
      ]
    },
    {
      "cell_type": "markdown",
      "metadata": {
        "id": "zqxU8GSkAubl"
      },
      "source": [
        "**Answer:**\n",
        ">"
      ]
    },
    {
      "cell_type": "code",
      "metadata": {
        "id": "e80ef463"
      },
      "source": [
        "# Function to handle outliers using IQR\n",
        "def handle_outliers_iqr(df, column):\n",
        "    Q1 = df[column].quantile(0.25)\n",
        "    Q3 = df[column].quantile(0.75)\n",
        "    IQR = Q3 - Q1\n",
        "    lower_bound = Q1 - 1.5 * IQR\n",
        "    upper_bound = Q3 + 1.5 * IQR\n",
        "    df[column] = df[column].clip(lower=lower_bound, upper=upper_bound)\n",
        "    return df\n",
        "\n",
        "# Handle outliers in numerical columns of the training set\n",
        "numerical_cols_after_drop = X_train.select_dtypes(include=np.number).columns.tolist()\n",
        "for col in numerical_cols_after_drop:\n",
        "    X_train = handle_outliers_iqr(X_train, col)\n",
        "\n",
        "# Handle outliers in the target variable of the training set\n",
        "y_train = y_train.clip(lower=y_train.quantile(0.25) - 1.5 * (y_train.quantile(0.75) - y_train.quantile(0.25)),\n",
        "                       upper=y_train.quantile(0.75) + 1.5 * (y_train.quantile(0.75) - y_train.quantile(0.25)))\n",
        "\n",
        "# Apply the same capping to the test set to prevent data leakage\n",
        "for col in numerical_cols_after_drop:\n",
        "    Q1 = X_test[col].quantile(0.25)\n",
        "    Q3 = X_test[col].quantile(0.75)\n",
        "    IQR = Q3 - Q1\n",
        "    lower_bound = Q1 - 1.5 * IQR\n",
        "    upper_bound = Q3 + 1.5 * IQR\n",
        "    X_test[col] = X_test[col].clip(lower=lower_bound, upper=upper_bound)\n",
        "\n",
        "y_test = y_test.clip(lower=y_test.quantile(0.25) - 1.5 * (y_test.quantile(0.75) - y_test.quantile(0.25)),\n",
        "                     upper=y_test.quantile(0.75) + 1.5 * (y_test.quantile(0.75) - y_test.quantile(0.25)))\n",
        "\n",
        "print(\"Outliers handled in training and test sets.\")"
      ],
      "execution_count": null,
      "outputs": []
    }
  ],
  "metadata": {
    "colab": {
      "collapsed_sections": [
        "MueJxkvUIII3",
        "02uPO8aQfLnn",
        "b22Kzjew3rdM",
        "u1EBPjFc4Qca",
        "-JJxTsQOFKyl",
        "v0Cd2J-LGWaF",
        "fCLIKw5pQiA7",
        "2bxip-t3Y1MB",
        "mn-wDgoeSiHP"
      ],
      "provenance": []
    },
    "kernelspec": {
      "display_name": "Python 3",
      "name": "python3"
    },
    "language_info": {
      "name": "python"
    }
  },
  "nbformat": 4,
  "nbformat_minor": 0
}