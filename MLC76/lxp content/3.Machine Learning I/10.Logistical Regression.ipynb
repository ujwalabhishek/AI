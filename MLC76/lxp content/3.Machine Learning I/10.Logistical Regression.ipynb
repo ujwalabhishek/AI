{
 "cells": [
  {
   "cell_type": "markdown",
   "id": "b9e6ef08-90b6-4d09-8bb4-c5784823112c",
   "metadata": {},
   "source": [
    "# Logistical Regression"
   ]
  },
  {
   "cell_type": "code",
   "execution_count": null,
   "id": "73d1cbb8-3f18-4e43-8638-70d6a050c967",
   "metadata": {},
   "outputs": [],
   "source": []
  }
 ],
 "metadata": {
  "kernelspec": {
   "display_name": "Python 3 (ipykernel)",
   "language": "python",
   "name": "python3"
  },
  "language_info": {
   "codemirror_mode": {
    "name": "ipython",
    "version": 3
   },
   "file_extension": ".py",
   "mimetype": "text/x-python",
   "name": "python",
   "nbconvert_exporter": "python",
   "pygments_lexer": "ipython3",
   "version": "3.13.5"
  }
 },
 "nbformat": 4,
 "nbformat_minor": 5
}
