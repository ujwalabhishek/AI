{
 "cells": [
  {
   "cell_type": "markdown",
   "metadata": {},
   "source": [
    "# Change of Basis - Solved Examples"
   ]
  },
  {
   "cell_type": "markdown",
   "metadata": {},
   "source": [
    "In this demonstration, we'll take a look at how to perform change of basis calculations in python. Mainly we'll look at\n",
    "- how to denote the basis vectors in numpy\n",
    "- how to create the transformation matrix\n",
    "- how to perform change of basis"
   ]
  },
  {
   "cell_type": "code",
   "execution_count": 1,
   "metadata": {},
   "outputs": [],
   "source": [
    "#Import the libraries\n",
    "import numpy as np"
   ]
  },
  {
   "cell_type": "markdown",
   "metadata": {},
   "source": [
    "A few conventions before we proceed\n",
    "- By default, we'll assume the original basis as B1 and the new basis as B2\n",
    "- The original vector representation is denoted as v1 and the new vector representation as v2\n",
    "- Matrix M is to be multiplied with v1 to obtain v2"
   ]
  },
  {
   "cell_type": "markdown",
   "metadata": {},
   "source": [
    "#### Case 1 - Moving from the standard basis to a non-standard basis"
   ]
  },
  {
   "cell_type": "markdown",
   "metadata": {},
   "source": [
    "In this scenario, you are given a point's representation in the standard basis.Your task is to identify the same point's representation in a new set of basis vectors"
   ]
  },
  {
   "cell_type": "markdown",
   "metadata": {},
   "source": [
    "**Q** - Let's say you're given a point P which is represented as v1 in the standard basis B1 as shown below"
   ]
  },
  {
   "cell_type": "markdown",
   "metadata": {},
   "source": [
    "\\begin{equation*} v_1 = \\begin{bmatrix} 4 \\\\ 9 \\end{bmatrix}\\space in \\space B_1 = \\begin{bmatrix} 1 &0 \\\\ 0 &1 \\end{bmatrix}  \\end{equation*} "
   ]
  },
  {
   "cell_type": "markdown",
   "metadata": {},
   "source": [
    "Now you need to find the same point's representation in a different basis B2, which is denoted as follows"
   ]
  },
  {
   "cell_type": "markdown",
   "metadata": {},
   "source": [
    "\\begin{equation*}B_2 = \\begin{bmatrix} 1 \\\\ 2\\end{bmatrix} \\space and \\space \\begin{bmatrix} 1 \\\\ 3\\end{bmatrix}\\end{equation*} "
   ]
  },
  {
   "cell_type": "markdown",
   "metadata": {},
   "source": [
    "\\begin{equation*}or \\space B_2 = \\begin{bmatrix} 1 & 1 \\\\ 2 & 3\\end{bmatrix}\\end{equation*} "
   ]
  },
  {
   "cell_type": "markdown",
   "metadata": {},
   "source": [
    "\\begin{equation*}v_2 = \\begin{bmatrix} 3 \\\\  1\\end{bmatrix} \\end{equation*}"
   ]
  },
  {
   "cell_type": "code",
   "execution_count": 2,
   "metadata": {
    "scrolled": true
   },
   "outputs": [
    {
     "data": {
      "text/plain": [
       "array([[1, 1],\n",
       "       [2, 3]])"
      ]
     },
     "execution_count": 2,
     "metadata": {},
     "output_type": "execute_result"
    }
   ],
   "source": [
    "#Step - 1 \n",
    "#Denoting the new basis vectors as numpy arrays\n",
    "#Notice the way the arguments are taken\n",
    "\n",
    "B2 = np.array([[1,1],[2,3]])\n",
    "B2"
   ]
  },
  {
   "cell_type": "code",
   "execution_count": null,
   "metadata": {},
   "outputs": [],
   "source": [
    "B2 = np.array([arguments])"
   ]
  },
  {
   "cell_type": "markdown",
   "metadata": {},
   "source": [
    "As you can see, numpy creates the matrix by taking in the rows as the arguments. So therefore, first create the basis vector matrix and then pass the arguments."
   ]
  },
  {
   "cell_type": "code",
   "execution_count": 1,
   "metadata": {},
   "outputs": [],
   "source": [
    "#Step - 2\n",
    "#Create the transformation matrix M"
   ]
  },
  {
   "cell_type": "markdown",
   "metadata": {},
   "source": [
    "Now we know that"
   ]
  },
  {
   "cell_type": "markdown",
   "metadata": {},
   "source": [
    "\n",
    "\\begin{equation*} M = B_2^{-1}* B_1\\end{equation*} \n"
   ]
  },
  {
   "cell_type": "markdown",
   "metadata": {},
   "source": [
    "Since B1 is the standard basis vectors which is also the identity matrix, the above equation gets simplified as"
   ]
  },
  {
   "cell_type": "markdown",
   "metadata": {},
   "source": [
    "\\begin{equation*} M = B_2^{-1}\\end{equation*} "
   ]
  },
  {
   "cell_type": "code",
   "execution_count": 8,
   "metadata": {},
   "outputs": [],
   "source": [
    "# M is the inverse of B2\n",
    "M = np.linalg.inv(B2)"
   ]
  },
  {
   "cell_type": "code",
   "execution_count": 9,
   "metadata": {},
   "outputs": [
    {
     "data": {
      "text/plain": [
       "array([[ 3., -1.],\n",
       "       [-2.,  1.]])"
      ]
     },
     "execution_count": 9,
     "metadata": {},
     "output_type": "execute_result"
    }
   ],
   "source": [
    "M"
   ]
  },
  {
   "cell_type": "code",
   "execution_count": 10,
   "metadata": {},
   "outputs": [
    {
     "data": {
      "text/plain": [
       "array([[1., 0.],\n",
       "       [0., 1.]])"
      ]
     },
     "execution_count": 10,
     "metadata": {},
     "output_type": "execute_result"
    }
   ],
   "source": [
    "M @ B2"
   ]
  },
  {
   "cell_type": "code",
   "execution_count": 11,
   "metadata": {},
   "outputs": [],
   "source": [
    "#Step - 3 \n",
    "#Perform the change of basis"
   ]
  },
  {
   "cell_type": "markdown",
   "metadata": {},
   "source": [
    "We know that, in order to get v2 we have the equation as "
   ]
  },
  {
   "cell_type": "markdown",
   "metadata": {},
   "source": [
    "\\begin{equation*} v_2 = M*v_1\\end{equation*} "
   ]
  },
  {
   "cell_type": "code",
   "execution_count": 13,
   "metadata": {},
   "outputs": [],
   "source": [
    "#Denote v1\n",
    "v1 = np.array([[4],[9]])"
   ]
  },
  {
   "cell_type": "code",
   "execution_count": 14,
   "metadata": {},
   "outputs": [
    {
     "data": {
      "text/plain": [
       "array([[4],\n",
       "       [9]])"
      ]
     },
     "execution_count": 14,
     "metadata": {},
     "output_type": "execute_result"
    }
   ],
   "source": [
    "v1"
   ]
  },
  {
   "cell_type": "code",
   "execution_count": 15,
   "metadata": {},
   "outputs": [],
   "source": [
    "#Apply the change of basis formula\n",
    "#Multiply the transformation matrix M with v1\n",
    "\n",
    "v2 = M @ v1"
   ]
  },
  {
   "cell_type": "code",
   "execution_count": 16,
   "metadata": {},
   "outputs": [
    {
     "data": {
      "text/plain": [
       "array([[3.],\n",
       "       [1.]])"
      ]
     },
     "execution_count": 16,
     "metadata": {},
     "output_type": "execute_result"
    }
   ],
   "source": [
    "v2"
   ]
  },
  {
   "cell_type": "markdown",
   "metadata": {},
   "source": [
    "So, therefore the same point P's representation in the new basis vectors B2, is given as "
   ]
  },
  {
   "cell_type": "markdown",
   "metadata": {},
   "source": [
    "\\begin{equation*} v_2 = \\begin{bmatrix} 3 \\\\ 1\\end{bmatrix}\\end{equation*} "
   ]
  },
  {
   "cell_type": "markdown",
   "metadata": {},
   "source": [
    "#### Case 2 - Moving from a non-standard basis to the standard basis"
   ]
  },
  {
   "cell_type": "markdown",
   "metadata": {},
   "source": [
    "In this scenario, you are given a point's representation in a non-standard basis.Your task is to identify the same point's representation in the standard basis vectors"
   ]
  },
  {
   "cell_type": "markdown",
   "metadata": {},
   "source": [
    "Let's take the same example as above in the reverse order"
   ]
  },
  {
   "cell_type": "markdown",
   "metadata": {},
   "source": [
    "**Q** - Let's say you're given a point P which is represented as v1 in the non-standard basis B1 as shown below"
   ]
  },
  {
   "cell_type": "markdown",
   "metadata": {},
   "source": [
    "\\begin{equation*} v_1 = \\begin{bmatrix} 3\\\\ 1 \\end{bmatrix}\\space in \\space B_1 = \\begin{bmatrix} 1 &1 \\\\ 2 &3 \\end{bmatrix}  \\end{equation*} "
   ]
  },
  {
   "cell_type": "markdown",
   "metadata": {},
   "source": [
    "Now you need to find the same point's representation in the standard basis B2, which is denoted as follows"
   ]
  },
  {
   "cell_type": "markdown",
   "metadata": {},
   "source": [
    "\\begin{equation*}B_2 = \\begin{bmatrix} 1 \\\\ 0\\end{bmatrix} \\space and \\space \\begin{bmatrix} 0 \\\\ 1\\end{bmatrix}\\end{equation*} "
   ]
  },
  {
   "cell_type": "markdown",
   "metadata": {},
   "source": [
    "\\begin{equation*}or \\space B_2 = \\begin{bmatrix} 1 & 0 \\\\ 0 & 1\\end{bmatrix}\\end{equation*} "
   ]
  },
  {
   "cell_type": "markdown",
   "metadata": {},
   "source": [
    "Recall the formula for transformation matrix M again"
   ]
  },
  {
   "cell_type": "markdown",
   "metadata": {},
   "source": [
    "\\begin{equation*} M = B_2^{-1}* B_1\\end{equation*} "
   ]
  },
  {
   "cell_type": "markdown",
   "metadata": {},
   "source": [
    "In this case B2 is the standard basis or the identity matrix and therefore it's inverse will be B2 itself. Therefore the above equation gets simplified as "
   ]
  },
  {
   "cell_type": "markdown",
   "metadata": {},
   "source": [
    "\\begin{equation*} M = B_1\\end{equation*} "
   ]
  },
  {
   "cell_type": "code",
   "execution_count": 25,
   "metadata": {},
   "outputs": [],
   "source": [
    "#Step-1 \n",
    "#Denote B1 as numpy arrays\n",
    "B1 = np.array([[1,1],[2,3]])"
   ]
  },
  {
   "cell_type": "code",
   "execution_count": 26,
   "metadata": {},
   "outputs": [],
   "source": [
    "#Step-2\n",
    "#Find the transformation matrix M\n",
    "M = B1"
   ]
  },
  {
   "cell_type": "code",
   "execution_count": 27,
   "metadata": {},
   "outputs": [
    {
     "data": {
      "text/plain": [
       "array([[1, 1],\n",
       "       [2, 3]])"
      ]
     },
     "execution_count": 27,
     "metadata": {},
     "output_type": "execute_result"
    }
   ],
   "source": [
    "M"
   ]
  },
  {
   "cell_type": "code",
   "execution_count": 28,
   "metadata": {},
   "outputs": [
    {
     "data": {
      "text/plain": [
       "array([[4],\n",
       "       [9]])"
      ]
     },
     "execution_count": 28,
     "metadata": {},
     "output_type": "execute_result"
    }
   ],
   "source": [
    "#Step -3 \n",
    "#Apply the change of basis formula\n",
    "#v2 = M*v1\n",
    "v1 = np.array([[3],[1]])\n",
    "v2 = M @ v1\n",
    "v2"
   ]
  },
  {
   "cell_type": "markdown",
   "metadata": {},
   "source": [
    "### Summary"
   ]
  },
  {
   "cell_type": "markdown",
   "metadata": {},
   "source": [
    "The same point P can have multiple representations in multiple basis vectors. When moving between two set of basis vectors the following rule holds true"
   ]
  },
  {
   "cell_type": "markdown",
   "metadata": {},
   "source": [
    "\\begin{equation*} B_1*v_1 = B_2*v_2\\end{equation*} "
   ]
  },
  {
   "cell_type": "markdown",
   "metadata": {},
   "source": [
    "B1 is one set of basis vectors and v1 is the point's representation in B1 whereas B2 is another set of basis vectors and v2 is the same point's representation in B2."
   ]
  },
  {
   "cell_type": "markdown",
   "metadata": {},
   "source": [
    "In the above example, we have shown that"
   ]
  },
  {
   "cell_type": "markdown",
   "metadata": {},
   "source": [
    "\\begin{equation*}  \\begin{bmatrix} 1 & 0 \\\\ 0 & 1\\end{bmatrix}* \\begin{bmatrix} 4 \\\\ 9 \\end{bmatrix} = \\begin{bmatrix} 1 & 1 \\\\ 2 & 3\\end{bmatrix}*\\begin{bmatrix} 3 \\\\ 1\\end{bmatrix}\\end{equation*} "
   ]
  },
  {
   "cell_type": "markdown",
   "metadata": {},
   "source": [
    "or in more concrete terms"
   ]
  },
  {
   "cell_type": "markdown",
   "metadata": {},
   "source": [
    "\\begin{equation*} 4* \\begin{bmatrix} 1  \\\\ 0 \\end{bmatrix} + 9 * \\begin{bmatrix} 0 \\\\ 1\\end{bmatrix} = 3* \\begin{bmatrix} 1 \\\\ 2\\end{bmatrix} + 1*\\begin{bmatrix} 1 \\\\ 3\\end{bmatrix}\\end{equation*} "
   ]
  },
  {
   "cell_type": "markdown",
   "metadata": {},
   "source": [
    "The above representation is shown in the diagram below"
   ]
  },
  {
   "attachments": {
    "bad3a335-0f2c-4a3b-8c78-2b171dc8ba9e.png": {
     "image/png": "[encoded data removed]"
    }
   },
   "cell_type": "markdown",
   "metadata": {},
   "source": [
    "![COB2.png](attachment:bad3a335-0f2c-4a3b-8c78-2b171dc8ba9e.png)"
   ]
  },
  {
   "cell_type": "markdown",
   "metadata": {},
   "source": [
    "**Shortcut for finding M**\n",
    "\n",
    "Once we've correctly set the conventions and when our movement is between standard and non-standard basis vectors, it's possible to express M in terms of just the non-standard basis vectors\n",
    "\n",
    "- If we're moving from a standard basis to a non-standard basis, M is equal to the inverse of the non-standard basis vectors\n",
    "\n",
    "- If we're moving from a non-standard basis to a standard basis, M is equal to the non-standard basis vectors."
   ]
  },
  {
   "cell_type": "code",
   "execution_count": null,
   "metadata": {},
   "outputs": [],
   "source": []
  }
 ],
 "metadata": {
  "kernelspec": {
   "display_name": "Python 3 (ipykernel)",
   "language": "python",
   "name": "python3"
  },
  "language_info": {
   "codemirror_mode": {
    "name": "ipython",
    "version": 3
   },
   "file_extension": ".py",
   "mimetype": "text/x-python",
   "name": "python",
   "nbconvert_exporter": "python",
   "pygments_lexer": "ipython3",
   "version": "3.13.7"
  }
 },
 "nbformat": 4,
 "nbformat_minor": 4
}
