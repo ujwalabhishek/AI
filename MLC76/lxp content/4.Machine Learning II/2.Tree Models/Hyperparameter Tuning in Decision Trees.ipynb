{
 "cells": [
  {
   "cell_type": "markdown",
   "id": "9c3ae485-0633-4649-8a16-7c2d83c3d2e7",
   "metadata": {},
   "source": [
    "**Content**\n",
    "\n",
    "Welcome to the session on 'Hyperparameter Tuning in Decision Trees'. In the previous session, you learnt about the concepts of homogeneity and its various measures. In this session, you will first understand the disadvantages of decision trees. Then, you will learn about various truncation and pruning strategies that are used to overcome one of the biggest disadvantages of trees, that is, overfitting.\n",
    "\n",
    " \n",
    "\n",
    "**In this session:**\n",
    "- Disadvantages of decision trees\n",
    "- Tree truncation\n",
    "- Tree pruning\n",
    "- Hyperparameter tuning\n",
    "- Decision tree regression"
   ]
  },
  {
   "cell_type": "code",
   "execution_count": null,
   "id": "278bc15b-8c70-41ab-91f2-8338561ba5fa",
   "metadata": {},
   "outputs": [],
   "source": []
  }
 ],
 "metadata": {
  "kernelspec": {
   "display_name": "Python 3 (ipykernel)",
   "language": "python",
   "name": "python3"
  },
  "language_info": {
   "codemirror_mode": {
    "name": "ipython",
    "version": 3
   },
   "file_extension": ".py",
   "mimetype": "text/x-python",
   "name": "python",
   "nbconvert_exporter": "python",
   "pygments_lexer": "ipython3",
   "version": "3.13.1"
  }
 },
 "nbformat": 4,
 "nbformat_minor": 5
}
