{
 "cells": [
  {
   "cell_type": "markdown",
   "metadata": {},
   "source": [
    "## Exploratory Data Analysis:\n",
    "- EDA stands for **Exploratory Data Analysis**. It is the **initial step** in the data analysis process where you **explore and understand the dataset**, its **structure, relationships, and underlying patterns** — before applying any machine learning models or advanced analytics.\n",
    "\n",
    "### Goals of EDA:\n",
    "1. Understand the dataset — structure, data types, distributions.\n",
    "2. Detect anomalies — missing values, outliers, duplicates.\n",
    "3. Uncover relationships — correlations between variables.\n",
    "4. Validate assumptions — about data types, ranges, categories.\n",
    "5. Guide further analysis — modeling, feature selection, transformations."
   ]
  },
  {
   "cell_type": "code",
   "execution_count": 1,
   "metadata": {
    "id": "Bb_vXEzUDeVM"
   },
   "outputs": [],
   "source": [
    "import pandas as pd\n",
    "data = pd.read_csv('ikea.csv', index_col = 0)"
   ]
  },
  {
   "cell_type": "code",
   "execution_count": 2,
   "metadata": {
    "colab": {
     "base_uri": "https://localhost:8080/",
     "height": 696
    },
    "id": "OHkkg9eNDryQ",
    "outputId": "9aa84b45-ac74-409a-ca14-134053226a11"
   },
   "outputs": [
    {
     "data": {
      "text/html": [
       "<div>\n",
       "<style scoped>\n",
       "    .dataframe tbody tr th:only-of-type {\n",
       "        vertical-align: middle;\n",
       "    }\n",
       "\n",
       "    .dataframe tbody tr th {\n",
       "        vertical-align: top;\n",
       "    }\n",
       "\n",
       "    .dataframe thead th {\n",
       "        text-align: right;\n",
       "    }\n",
       "</style>\n",
       "<table border=\"1\" class=\"dataframe\">\n",
       "  <thead>\n",
       "    <tr style=\"text-align: right;\">\n",
       "      <th></th>\n",
       "      <th>item_id</th>\n",
       "      <th>name</th>\n",
       "      <th>category</th>\n",
       "      <th>price</th>\n",
       "      <th>old_price</th>\n",
       "      <th>sellable_online</th>\n",
       "      <th>link</th>\n",
       "      <th>other_colors</th>\n",
       "      <th>short_description</th>\n",
       "      <th>designer</th>\n",
       "      <th>depth</th>\n",
       "      <th>height</th>\n",
       "      <th>width</th>\n",
       "    </tr>\n",
       "  </thead>\n",
       "  <tbody>\n",
       "    <tr>\n",
       "      <th>0</th>\n",
       "      <td>90420332</td>\n",
       "      <td>FREKVENS</td>\n",
       "      <td>Bar furniture</td>\n",
       "      <td>265.0</td>\n",
       "      <td>No old price</td>\n",
       "      <td>True</td>\n",
       "      <td>https://www.ikea.com/sa/en/p/frekvens-bar-tabl...</td>\n",
       "      <td>No</td>\n",
       "      <td>Bar table, in/outdoor,          51x51 cm</td>\n",
       "      <td>Nicholai Wiig Hansen</td>\n",
       "      <td>NaN</td>\n",
       "      <td>99.0</td>\n",
       "      <td>51.0</td>\n",
       "    </tr>\n",
       "    <tr>\n",
       "      <th>1</th>\n",
       "      <td>368814</td>\n",
       "      <td>NORDVIKEN</td>\n",
       "      <td>Bar furniture</td>\n",
       "      <td>995.0</td>\n",
       "      <td>No old price</td>\n",
       "      <td>False</td>\n",
       "      <td>https://www.ikea.com/sa/en/p/nordviken-bar-tab...</td>\n",
       "      <td>No</td>\n",
       "      <td>Bar table,          140x80 cm</td>\n",
       "      <td>Francis Cayouette</td>\n",
       "      <td>NaN</td>\n",
       "      <td>105.0</td>\n",
       "      <td>80.0</td>\n",
       "    </tr>\n",
       "    <tr>\n",
       "      <th>2</th>\n",
       "      <td>9333523</td>\n",
       "      <td>NORDVIKEN / NORDVIKEN</td>\n",
       "      <td>Bar furniture</td>\n",
       "      <td>2095.0</td>\n",
       "      <td>No old price</td>\n",
       "      <td>False</td>\n",
       "      <td>https://www.ikea.com/sa/en/p/nordviken-nordvik...</td>\n",
       "      <td>No</td>\n",
       "      <td>Bar table and 4 bar stools</td>\n",
       "      <td>Francis Cayouette</td>\n",
       "      <td>NaN</td>\n",
       "      <td>NaN</td>\n",
       "      <td>NaN</td>\n",
       "    </tr>\n",
       "    <tr>\n",
       "      <th>3</th>\n",
       "      <td>80155205</td>\n",
       "      <td>STIG</td>\n",
       "      <td>Bar furniture</td>\n",
       "      <td>69.0</td>\n",
       "      <td>No old price</td>\n",
       "      <td>True</td>\n",
       "      <td>https://www.ikea.com/sa/en/p/stig-bar-stool-wi...</td>\n",
       "      <td>Yes</td>\n",
       "      <td>Bar stool with backrest,          74 cm</td>\n",
       "      <td>Henrik Preutz</td>\n",
       "      <td>50.0</td>\n",
       "      <td>100.0</td>\n",
       "      <td>60.0</td>\n",
       "    </tr>\n",
       "    <tr>\n",
       "      <th>4</th>\n",
       "      <td>30180504</td>\n",
       "      <td>NORBERG</td>\n",
       "      <td>Bar furniture</td>\n",
       "      <td>225.0</td>\n",
       "      <td>No old price</td>\n",
       "      <td>True</td>\n",
       "      <td>https://www.ikea.com/sa/en/p/norberg-wall-moun...</td>\n",
       "      <td>No</td>\n",
       "      <td>Wall-mounted drop-leaf table,         ...</td>\n",
       "      <td>Marcus Arvonen</td>\n",
       "      <td>60.0</td>\n",
       "      <td>43.0</td>\n",
       "      <td>74.0</td>\n",
       "    </tr>\n",
       "  </tbody>\n",
       "</table>\n",
       "</div>"
      ],
      "text/plain": [
       "    item_id                   name       category   price     old_price  \\\n",
       "0  90420332               FREKVENS  Bar furniture   265.0  No old price   \n",
       "1    368814              NORDVIKEN  Bar furniture   995.0  No old price   \n",
       "2   9333523  NORDVIKEN / NORDVIKEN  Bar furniture  2095.0  No old price   \n",
       "3  80155205                   STIG  Bar furniture    69.0  No old price   \n",
       "4  30180504                NORBERG  Bar furniture   225.0  No old price   \n",
       "\n",
       "   sellable_online                                               link  \\\n",
       "0             True  https://www.ikea.com/sa/en/p/frekvens-bar-tabl...   \n",
       "1            False  https://www.ikea.com/sa/en/p/nordviken-bar-tab...   \n",
       "2            False  https://www.ikea.com/sa/en/p/nordviken-nordvik...   \n",
       "3             True  https://www.ikea.com/sa/en/p/stig-bar-stool-wi...   \n",
       "4             True  https://www.ikea.com/sa/en/p/norberg-wall-moun...   \n",
       "\n",
       "  other_colors                                  short_description  \\\n",
       "0           No           Bar table, in/outdoor,          51x51 cm   \n",
       "1           No                      Bar table,          140x80 cm   \n",
       "2           No                         Bar table and 4 bar stools   \n",
       "3          Yes            Bar stool with backrest,          74 cm   \n",
       "4           No          Wall-mounted drop-leaf table,         ...   \n",
       "\n",
       "               designer  depth  height  width  \n",
       "0  Nicholai Wiig Hansen    NaN    99.0   51.0  \n",
       "1     Francis Cayouette    NaN   105.0   80.0  \n",
       "2     Francis Cayouette    NaN     NaN    NaN  \n",
       "3         Henrik Preutz   50.0   100.0   60.0  \n",
       "4        Marcus Arvonen   60.0    43.0   74.0  "
      ]
     },
     "execution_count": 2,
     "metadata": {},
     "output_type": "execute_result"
    }
   ],
   "source": [
    "data.head()"
   ]
  },
  {
   "cell_type": "markdown",
   "metadata": {},
   "source": [
    "### Column description\n",
    "| Column Name         | Description                                                         |\n",
    "| ------------------- | ------------------------------------------------------------------- |\n",
    "| `Unnamed: 0`        | Index column, can be ignored.                                       |\n",
    "| `item_id`           | Unique identifier for each item.                                    |\n",
    "| `name`              | Product name.                                                       |\n",
    "| `category`          | Category of the item (e.g., Bar furniture).                         |\n",
    "| `price`             | Current price of the product.                                       |\n",
    "| `old_price`         | Previous price (often \"No old price\").                              |\n",
    "| `sellable_online`   | Whether the item is available for online purchase (`True`/`False`). |\n",
    "| `link`              | URL to the product page.                                            |\n",
    "| `other_colors`      | Whether the product is available in other colors (`Yes`/`No`).      |\n",
    "| `short_description` | Brief description of the item.                                      |\n",
    "| `designer`          | Name of the product designer.                                       |\n",
    "| `depth`             | Depth in cm (many missing values).                                  |\n",
    "| `height`            | Height in cm (many missing values).                                 |\n",
    "| `width`             | Width in cm (many missing values).                                  |\n"
   ]
  },
  {
   "cell_type": "code",
   "execution_count": 3,
   "metadata": {
    "colab": {
     "base_uri": "https://localhost:8080/"
    },
    "id": "PXk-3YfSDvaI",
    "outputId": "bbb87731-cc5b-4bf7-a8c9-ed3465b6d80d"
   },
   "outputs": [
    {
     "name": "stdout",
     "output_type": "stream",
     "text": [
      "<class 'pandas.core.frame.DataFrame'>\n",
      "Index: 3694 entries, 0 to 3693\n",
      "Data columns (total 13 columns):\n",
      " #   Column             Non-Null Count  Dtype  \n",
      "---  ------             --------------  -----  \n",
      " 0   item_id            3694 non-null   int64  \n",
      " 1   name               3694 non-null   object \n",
      " 2   category           3694 non-null   object \n",
      " 3   price              3694 non-null   float64\n",
      " 4   old_price          3694 non-null   object \n",
      " 5   sellable_online    3694 non-null   bool   \n",
      " 6   link               3694 non-null   object \n",
      " 7   other_colors       3694 non-null   object \n",
      " 8   short_description  3694 non-null   object \n",
      " 9   designer           3694 non-null   object \n",
      " 10  depth              2231 non-null   float64\n",
      " 11  height             2706 non-null   float64\n",
      " 12  width              3105 non-null   float64\n",
      "dtypes: bool(1), float64(4), int64(1), object(7)\n",
      "memory usage: 378.8+ KB\n"
     ]
    }
   ],
   "source": [
    "data.info()"
   ]
  },
  {
   "cell_type": "code",
   "execution_count": 4,
   "metadata": {
    "colab": {
     "base_uri": "https://localhost:8080/",
     "height": 300
    },
    "id": "gAbwhzSbDywk",
    "outputId": "88f95f8a-16fb-48d3-cd15-f852ccd2acd4"
   },
   "outputs": [
    {
     "data": {
      "text/html": [
       "<div>\n",
       "<style scoped>\n",
       "    .dataframe tbody tr th:only-of-type {\n",
       "        vertical-align: middle;\n",
       "    }\n",
       "\n",
       "    .dataframe tbody tr th {\n",
       "        vertical-align: top;\n",
       "    }\n",
       "\n",
       "    .dataframe thead th {\n",
       "        text-align: right;\n",
       "    }\n",
       "</style>\n",
       "<table border=\"1\" class=\"dataframe\">\n",
       "  <thead>\n",
       "    <tr style=\"text-align: right;\">\n",
       "      <th></th>\n",
       "      <th>item_id</th>\n",
       "      <th>price</th>\n",
       "      <th>depth</th>\n",
       "      <th>height</th>\n",
       "      <th>width</th>\n",
       "    </tr>\n",
       "  </thead>\n",
       "  <tbody>\n",
       "    <tr>\n",
       "      <th>count</th>\n",
       "      <td>3.694000e+03</td>\n",
       "      <td>3694.000000</td>\n",
       "      <td>2231.000000</td>\n",
       "      <td>2706.000000</td>\n",
       "      <td>3105.000000</td>\n",
       "    </tr>\n",
       "    <tr>\n",
       "      <th>mean</th>\n",
       "      <td>4.863240e+07</td>\n",
       "      <td>1078.208419</td>\n",
       "      <td>54.379202</td>\n",
       "      <td>101.679970</td>\n",
       "      <td>104.470853</td>\n",
       "    </tr>\n",
       "    <tr>\n",
       "      <th>std</th>\n",
       "      <td>2.888709e+07</td>\n",
       "      <td>1374.652494</td>\n",
       "      <td>29.958351</td>\n",
       "      <td>61.097585</td>\n",
       "      <td>71.133771</td>\n",
       "    </tr>\n",
       "    <tr>\n",
       "      <th>min</th>\n",
       "      <td>5.848700e+04</td>\n",
       "      <td>3.000000</td>\n",
       "      <td>1.000000</td>\n",
       "      <td>1.000000</td>\n",
       "      <td>1.000000</td>\n",
       "    </tr>\n",
       "    <tr>\n",
       "      <th>25%</th>\n",
       "      <td>2.039057e+07</td>\n",
       "      <td>180.900000</td>\n",
       "      <td>38.000000</td>\n",
       "      <td>67.000000</td>\n",
       "      <td>60.000000</td>\n",
       "    </tr>\n",
       "    <tr>\n",
       "      <th>50%</th>\n",
       "      <td>4.928808e+07</td>\n",
       "      <td>544.700000</td>\n",
       "      <td>47.000000</td>\n",
       "      <td>83.000000</td>\n",
       "      <td>80.000000</td>\n",
       "    </tr>\n",
       "    <tr>\n",
       "      <th>75%</th>\n",
       "      <td>7.040357e+07</td>\n",
       "      <td>1429.500000</td>\n",
       "      <td>60.000000</td>\n",
       "      <td>124.000000</td>\n",
       "      <td>140.000000</td>\n",
       "    </tr>\n",
       "    <tr>\n",
       "      <th>max</th>\n",
       "      <td>9.993262e+07</td>\n",
       "      <td>9585.000000</td>\n",
       "      <td>257.000000</td>\n",
       "      <td>700.000000</td>\n",
       "      <td>420.000000</td>\n",
       "    </tr>\n",
       "  </tbody>\n",
       "</table>\n",
       "</div>"
      ],
      "text/plain": [
       "            item_id        price        depth       height        width\n",
       "count  3.694000e+03  3694.000000  2231.000000  2706.000000  3105.000000\n",
       "mean   4.863240e+07  1078.208419    54.379202   101.679970   104.470853\n",
       "std    2.888709e+07  1374.652494    29.958351    61.097585    71.133771\n",
       "min    5.848700e+04     3.000000     1.000000     1.000000     1.000000\n",
       "25%    2.039057e+07   180.900000    38.000000    67.000000    60.000000\n",
       "50%    4.928808e+07   544.700000    47.000000    83.000000    80.000000\n",
       "75%    7.040357e+07  1429.500000    60.000000   124.000000   140.000000\n",
       "max    9.993262e+07  9585.000000   257.000000   700.000000   420.000000"
      ]
     },
     "execution_count": 4,
     "metadata": {},
     "output_type": "execute_result"
    }
   ],
   "source": [
    "data.describe()"
   ]
  },
  {
   "cell_type": "code",
   "execution_count": 5,
   "metadata": {
    "colab": {
     "base_uri": "https://localhost:8080/"
    },
    "id": "nYcLCPnLD1ho",
    "outputId": "8c4f7b7c-b03a-4863-9e17-d38fb10e16be"
   },
   "outputs": [
    {
     "data": {
      "text/plain": [
       "item_id                 0\n",
       "name                    0\n",
       "category                0\n",
       "price                   0\n",
       "old_price               0\n",
       "sellable_online         0\n",
       "link                    0\n",
       "other_colors            0\n",
       "short_description       0\n",
       "designer                0\n",
       "depth                1463\n",
       "height                988\n",
       "width                 589\n",
       "dtype: int64"
      ]
     },
     "execution_count": 5,
     "metadata": {},
     "output_type": "execute_result"
    }
   ],
   "source": [
    "data.isnull().sum()"
   ]
  },
  {
   "cell_type": "code",
   "execution_count": 6,
   "metadata": {
    "colab": {
     "base_uri": "https://localhost:8080/"
    },
    "id": "gcri1NYRD4py",
    "outputId": "b2e31710-f42c-47ac-843f-b6be80c040ec"
   },
   "outputs": [
    {
     "data": {
      "text/plain": [
       "Index(['item_id', 'name', 'category', 'price', 'old_price', 'sellable_online',\n",
       "       'link', 'other_colors', 'short_description', 'designer', 'depth',\n",
       "       'height', 'width'],\n",
       "      dtype='object')"
      ]
     },
     "execution_count": 6,
     "metadata": {},
     "output_type": "execute_result"
    }
   ],
   "source": [
    "data.columns"
   ]
  },
  {
   "cell_type": "code",
   "execution_count": 7,
   "metadata": {
    "colab": {
     "base_uri": "https://localhost:8080/"
    },
    "id": "AxmQUvBhD7E4",
    "outputId": "e2eb5e23-741f-450e-aab9-d9784d5750b6"
   },
   "outputs": [
    {
     "data": {
      "text/plain": [
       "(3694, 13)"
      ]
     },
     "execution_count": 7,
     "metadata": {},
     "output_type": "execute_result"
    }
   ],
   "source": [
    "data.shape"
   ]
  },
  {
   "cell_type": "code",
   "execution_count": 8,
   "metadata": {
    "colab": {
     "base_uri": "https://localhost:8080/"
    },
    "id": "twpa14NwD9Lq",
    "outputId": "73fe2c53-6dc7-405e-ffde-996f5e2adc49"
   },
   "outputs": [
    {
     "data": {
      "text/plain": [
       "48022"
      ]
     },
     "execution_count": 8,
     "metadata": {},
     "output_type": "execute_result"
    }
   ],
   "source": [
    "data.size"
   ]
  },
  {
   "cell_type": "markdown",
   "metadata": {
    "id": "kxCu2wFeEBEo"
   },
   "source": [
    "# Label Ecoding on 'other_colors' Series and 'sellable_online' Series\n",
    "\n",
    " * Converting each unique value in the sellable_online, other_colors columns into an integer value based on alphabetical order using label encoding\n",
    " \n",
    " * sellable_online - True = 1, False = 0\n",
    " \n",
    " * other_colors - No = 0,  Yes = 1"
   ]
  },
  {
   "cell_type": "markdown",
   "metadata": {
    "id": "oQzpIeczELn6"
   },
   "source": [
    "# 'old_price' Series Cleaning\n",
    "* Converting 'No old price' values in old_price Series into NaN\n",
    "* removing 'SR' currency denoted before the old price values in the same column\n",
    "* Further converting the entire series into numeric dtype\n",
    "* Lastly, filling the null values with the average of the series"
   ]
  },
  {
   "cell_type": "code",
   "execution_count": 59,
   "metadata": {
    "id": "SECpZ85KESc-"
   },
   "outputs": [],
   "source": [
    "data = data.replace('No old price', 'NaN')"
   ]
  },
  {
   "cell_type": "code",
   "execution_count": 10,
   "metadata": {
    "id": "oUDWTP4rEUzx"
   },
   "outputs": [],
   "source": [
    "import re\n",
    "data['old_price'] = data['old_price'].apply(lambda row: re.sub(\"[^0-9,NaN]\", \"\", row))"
   ]
  },
  {
   "cell_type": "code",
   "execution_count": 11,
   "metadata": {
    "colab": {
     "base_uri": "https://localhost:8080/",
     "height": 696
    },
    "id": "4ez5V1q6EXN9",
    "outputId": "f34e727a-4470-44d3-cb71-500a112e740f"
   },
   "outputs": [
    {
     "data": {
      "text/html": [
       "<div>\n",
       "<style scoped>\n",
       "    .dataframe tbody tr th:only-of-type {\n",
       "        vertical-align: middle;\n",
       "    }\n",
       "\n",
       "    .dataframe tbody tr th {\n",
       "        vertical-align: top;\n",
       "    }\n",
       "\n",
       "    .dataframe thead th {\n",
       "        text-align: right;\n",
       "    }\n",
       "</style>\n",
       "<table border=\"1\" class=\"dataframe\">\n",
       "  <thead>\n",
       "    <tr style=\"text-align: right;\">\n",
       "      <th></th>\n",
       "      <th>item_id</th>\n",
       "      <th>name</th>\n",
       "      <th>category</th>\n",
       "      <th>price</th>\n",
       "      <th>old_price</th>\n",
       "      <th>sellable_online</th>\n",
       "      <th>link</th>\n",
       "      <th>other_colors</th>\n",
       "      <th>short_description</th>\n",
       "      <th>designer</th>\n",
       "      <th>depth</th>\n",
       "      <th>height</th>\n",
       "      <th>width</th>\n",
       "    </tr>\n",
       "  </thead>\n",
       "  <tbody>\n",
       "    <tr>\n",
       "      <th>0</th>\n",
       "      <td>90420332</td>\n",
       "      <td>FREKVENS</td>\n",
       "      <td>Bar furniture</td>\n",
       "      <td>265.0</td>\n",
       "      <td>NaN</td>\n",
       "      <td>True</td>\n",
       "      <td>https://www.ikea.com/sa/en/p/frekvens-bar-tabl...</td>\n",
       "      <td>No</td>\n",
       "      <td>Bar table, in/outdoor,          51x51 cm</td>\n",
       "      <td>Nicholai Wiig Hansen</td>\n",
       "      <td>NaN</td>\n",
       "      <td>99.0</td>\n",
       "      <td>51.0</td>\n",
       "    </tr>\n",
       "    <tr>\n",
       "      <th>1</th>\n",
       "      <td>368814</td>\n",
       "      <td>NORDVIKEN</td>\n",
       "      <td>Bar furniture</td>\n",
       "      <td>995.0</td>\n",
       "      <td>NaN</td>\n",
       "      <td>False</td>\n",
       "      <td>https://www.ikea.com/sa/en/p/nordviken-bar-tab...</td>\n",
       "      <td>No</td>\n",
       "      <td>Bar table,          140x80 cm</td>\n",
       "      <td>Francis Cayouette</td>\n",
       "      <td>NaN</td>\n",
       "      <td>105.0</td>\n",
       "      <td>80.0</td>\n",
       "    </tr>\n",
       "    <tr>\n",
       "      <th>2</th>\n",
       "      <td>9333523</td>\n",
       "      <td>NORDVIKEN / NORDVIKEN</td>\n",
       "      <td>Bar furniture</td>\n",
       "      <td>2095.0</td>\n",
       "      <td>NaN</td>\n",
       "      <td>False</td>\n",
       "      <td>https://www.ikea.com/sa/en/p/nordviken-nordvik...</td>\n",
       "      <td>No</td>\n",
       "      <td>Bar table and 4 bar stools</td>\n",
       "      <td>Francis Cayouette</td>\n",
       "      <td>NaN</td>\n",
       "      <td>NaN</td>\n",
       "      <td>NaN</td>\n",
       "    </tr>\n",
       "    <tr>\n",
       "      <th>3</th>\n",
       "      <td>80155205</td>\n",
       "      <td>STIG</td>\n",
       "      <td>Bar furniture</td>\n",
       "      <td>69.0</td>\n",
       "      <td>NaN</td>\n",
       "      <td>True</td>\n",
       "      <td>https://www.ikea.com/sa/en/p/stig-bar-stool-wi...</td>\n",
       "      <td>Yes</td>\n",
       "      <td>Bar stool with backrest,          74 cm</td>\n",
       "      <td>Henrik Preutz</td>\n",
       "      <td>50.0</td>\n",
       "      <td>100.0</td>\n",
       "      <td>60.0</td>\n",
       "    </tr>\n",
       "    <tr>\n",
       "      <th>4</th>\n",
       "      <td>30180504</td>\n",
       "      <td>NORBERG</td>\n",
       "      <td>Bar furniture</td>\n",
       "      <td>225.0</td>\n",
       "      <td>NaN</td>\n",
       "      <td>True</td>\n",
       "      <td>https://www.ikea.com/sa/en/p/norberg-wall-moun...</td>\n",
       "      <td>No</td>\n",
       "      <td>Wall-mounted drop-leaf table,         ...</td>\n",
       "      <td>Marcus Arvonen</td>\n",
       "      <td>60.0</td>\n",
       "      <td>43.0</td>\n",
       "      <td>74.0</td>\n",
       "    </tr>\n",
       "    <tr>\n",
       "      <th>...</th>\n",
       "      <td>...</td>\n",
       "      <td>...</td>\n",
       "      <td>...</td>\n",
       "      <td>...</td>\n",
       "      <td>...</td>\n",
       "      <td>...</td>\n",
       "      <td>...</td>\n",
       "      <td>...</td>\n",
       "      <td>...</td>\n",
       "      <td>...</td>\n",
       "      <td>...</td>\n",
       "      <td>...</td>\n",
       "      <td>...</td>\n",
       "    </tr>\n",
       "    <tr>\n",
       "      <th>3689</th>\n",
       "      <td>99157902</td>\n",
       "      <td>ELVARLI</td>\n",
       "      <td>Wardrobes</td>\n",
       "      <td>750.0</td>\n",
       "      <td>820.0</td>\n",
       "      <td>True</td>\n",
       "      <td>https://www.ikea.com/sa/en/p/elvarli-1-section...</td>\n",
       "      <td>No</td>\n",
       "      <td>1 section,          92x51x222-350 cm</td>\n",
       "      <td>Ehlén Johansson</td>\n",
       "      <td>50.0</td>\n",
       "      <td>NaN</td>\n",
       "      <td>91.0</td>\n",
       "    </tr>\n",
       "    <tr>\n",
       "      <th>3690</th>\n",
       "      <td>9158152</td>\n",
       "      <td>ELVARLI</td>\n",
       "      <td>Wardrobes</td>\n",
       "      <td>1572.0</td>\n",
       "      <td>NaN</td>\n",
       "      <td>True</td>\n",
       "      <td>https://www.ikea.com/sa/en/p/elvarli-2-section...</td>\n",
       "      <td>No</td>\n",
       "      <td>2 sections,          135x51x222-350 cm</td>\n",
       "      <td>Ehlén Johansson</td>\n",
       "      <td>50.0</td>\n",
       "      <td>NaN</td>\n",
       "      <td>135.0</td>\n",
       "    </tr>\n",
       "    <tr>\n",
       "      <th>3691</th>\n",
       "      <td>59157541</td>\n",
       "      <td>ELVARLI</td>\n",
       "      <td>Wardrobes</td>\n",
       "      <td>924.0</td>\n",
       "      <td>NaN</td>\n",
       "      <td>True</td>\n",
       "      <td>https://www.ikea.com/sa/en/p/elvarli-2-section...</td>\n",
       "      <td>No</td>\n",
       "      <td>2 sections,          175x51x222-350 cm</td>\n",
       "      <td>Ehlén Johansson</td>\n",
       "      <td>50.0</td>\n",
       "      <td>NaN</td>\n",
       "      <td>175.0</td>\n",
       "    </tr>\n",
       "    <tr>\n",
       "      <th>3692</th>\n",
       "      <td>89157573</td>\n",
       "      <td>ELVARLI</td>\n",
       "      <td>Wardrobes</td>\n",
       "      <td>2745.0</td>\n",
       "      <td>NaN</td>\n",
       "      <td>True</td>\n",
       "      <td>https://www.ikea.com/sa/en/p/elvarli-3-section...</td>\n",
       "      <td>No</td>\n",
       "      <td>3 sections,          178x51x222-350 cm</td>\n",
       "      <td>Ehlén Johansson</td>\n",
       "      <td>50.0</td>\n",
       "      <td>NaN</td>\n",
       "      <td>178.0</td>\n",
       "    </tr>\n",
       "    <tr>\n",
       "      <th>3693</th>\n",
       "      <td>69157376</td>\n",
       "      <td>ELVARLI</td>\n",
       "      <td>Wardrobes</td>\n",
       "      <td>1231.0</td>\n",
       "      <td>NaN</td>\n",
       "      <td>True</td>\n",
       "      <td>https://www.ikea.com/sa/en/p/elvarli-2-section...</td>\n",
       "      <td>No</td>\n",
       "      <td>2 sections,          175x51x222-350 cm</td>\n",
       "      <td>Ehlén Johansson</td>\n",
       "      <td>50.0</td>\n",
       "      <td>NaN</td>\n",
       "      <td>175.0</td>\n",
       "    </tr>\n",
       "  </tbody>\n",
       "</table>\n",
       "<p>3694 rows × 13 columns</p>\n",
       "</div>"
      ],
      "text/plain": [
       "       item_id                   name       category   price  old_price  \\\n",
       "0     90420332               FREKVENS  Bar furniture   265.0        NaN   \n",
       "1       368814              NORDVIKEN  Bar furniture   995.0        NaN   \n",
       "2      9333523  NORDVIKEN / NORDVIKEN  Bar furniture  2095.0        NaN   \n",
       "3     80155205                   STIG  Bar furniture    69.0        NaN   \n",
       "4     30180504                NORBERG  Bar furniture   225.0        NaN   \n",
       "...        ...                    ...            ...     ...        ...   \n",
       "3689  99157902                ELVARLI      Wardrobes   750.0      820.0   \n",
       "3690   9158152                ELVARLI      Wardrobes  1572.0        NaN   \n",
       "3691  59157541                ELVARLI      Wardrobes   924.0        NaN   \n",
       "3692  89157573                ELVARLI      Wardrobes  2745.0        NaN   \n",
       "3693  69157376                ELVARLI      Wardrobes  1231.0        NaN   \n",
       "\n",
       "      sellable_online                                               link  \\\n",
       "0                True  https://www.ikea.com/sa/en/p/frekvens-bar-tabl...   \n",
       "1               False  https://www.ikea.com/sa/en/p/nordviken-bar-tab...   \n",
       "2               False  https://www.ikea.com/sa/en/p/nordviken-nordvik...   \n",
       "3                True  https://www.ikea.com/sa/en/p/stig-bar-stool-wi...   \n",
       "4                True  https://www.ikea.com/sa/en/p/norberg-wall-moun...   \n",
       "...               ...                                                ...   \n",
       "3689             True  https://www.ikea.com/sa/en/p/elvarli-1-section...   \n",
       "3690             True  https://www.ikea.com/sa/en/p/elvarli-2-section...   \n",
       "3691             True  https://www.ikea.com/sa/en/p/elvarli-2-section...   \n",
       "3692             True  https://www.ikea.com/sa/en/p/elvarli-3-section...   \n",
       "3693             True  https://www.ikea.com/sa/en/p/elvarli-2-section...   \n",
       "\n",
       "     other_colors                                  short_description  \\\n",
       "0              No           Bar table, in/outdoor,          51x51 cm   \n",
       "1              No                      Bar table,          140x80 cm   \n",
       "2              No                         Bar table and 4 bar stools   \n",
       "3             Yes            Bar stool with backrest,          74 cm   \n",
       "4              No          Wall-mounted drop-leaf table,         ...   \n",
       "...           ...                                                ...   \n",
       "3689           No               1 section,          92x51x222-350 cm   \n",
       "3690           No             2 sections,          135x51x222-350 cm   \n",
       "3691           No             2 sections,          175x51x222-350 cm   \n",
       "3692           No             3 sections,          178x51x222-350 cm   \n",
       "3693           No             2 sections,          175x51x222-350 cm   \n",
       "\n",
       "                  designer  depth  height  width  \n",
       "0     Nicholai Wiig Hansen    NaN    99.0   51.0  \n",
       "1        Francis Cayouette    NaN   105.0   80.0  \n",
       "2        Francis Cayouette    NaN     NaN    NaN  \n",
       "3            Henrik Preutz   50.0   100.0   60.0  \n",
       "4           Marcus Arvonen   60.0    43.0   74.0  \n",
       "...                    ...    ...     ...    ...  \n",
       "3689       Ehlén Johansson   50.0     NaN   91.0  \n",
       "3690       Ehlén Johansson   50.0     NaN  135.0  \n",
       "3691       Ehlén Johansson   50.0     NaN  175.0  \n",
       "3692       Ehlén Johansson   50.0     NaN  178.0  \n",
       "3693       Ehlén Johansson   50.0     NaN  175.0  \n",
       "\n",
       "[3694 rows x 13 columns]"
      ]
     },
     "execution_count": 11,
     "metadata": {},
     "output_type": "execute_result"
    }
   ],
   "source": [
    "data['old_price'] = pd.to_numeric(data['old_price'], errors = 'coerce')\n",
    "data"
   ]
  },
  {
   "cell_type": "code",
   "execution_count": 12,
   "metadata": {
    "id": "mUjbpG9HEaOw"
   },
   "outputs": [],
   "source": [
    "data['old_price'] = data['old_price'].fillna(data.old_price.mean())"
   ]
  },
  {
   "cell_type": "code",
   "execution_count": 13,
   "metadata": {
    "colab": {
     "base_uri": "https://localhost:8080/"
    },
    "id": "wrOnWEGFEcUh",
    "outputId": "6ad5956a-18fd-46d5-93a8-e94e26ad712a"
   },
   "outputs": [
    {
     "data": {
      "text/plain": [
       "np.int64(0)"
      ]
     },
     "execution_count": 13,
     "metadata": {},
     "output_type": "execute_result"
    }
   ],
   "source": [
    "data.old_price.isnull().sum()"
   ]
  },
  {
   "cell_type": "code",
   "execution_count": 14,
   "metadata": {
    "colab": {
     "base_uri": "https://localhost:8080/"
    },
    "id": "V_BAgWEHEfE-",
    "outputId": "c5e6a5a2-ea3d-4ce2-890e-67e105fe83ee"
   },
   "outputs": [
    {
     "data": {
      "text/plain": [
       "0       450.098413\n",
       "1       450.098413\n",
       "2       450.098413\n",
       "3       450.098413\n",
       "4       450.098413\n",
       "           ...    \n",
       "3689    820.000000\n",
       "3690    450.098413\n",
       "3691    450.098413\n",
       "3692    450.098413\n",
       "3693    450.098413\n",
       "Name: old_price, Length: 3694, dtype: float64"
      ]
     },
     "execution_count": 14,
     "metadata": {},
     "output_type": "execute_result"
    }
   ],
   "source": [
    "data.old_price"
   ]
  },
  {
   "cell_type": "markdown",
   "metadata": {
    "id": "rQ813U6HEigg"
   },
   "source": [
    "# Dropping Columns\n",
    "* Links of the products and their various descriptions  are of little use while visualising, hence droppping the respective columns\n",
    "* Further dropping item_id, name, designer columns for better visualization"
   ]
  },
  {
   "cell_type": "code",
   "execution_count": 15,
   "metadata": {
    "id": "3-MnMfibElmE"
   },
   "outputs": [],
   "source": [
    "data = data.drop(['link', 'short_description', 'item_id', 'designer', 'name'], axis = 1)"
   ]
  },
  {
   "cell_type": "markdown",
   "metadata": {
    "id": "un0TPbxJEpOk"
   },
   "source": [
    "#  Null Values\n",
    "* Filling the NaN/ Null values in the columns 'depth', 'width' and 'height' with their average values"
   ]
  },
  {
   "cell_type": "code",
   "execution_count": 16,
   "metadata": {},
   "outputs": [
    {
     "data": {
      "text/plain": [
       "category              0\n",
       "price                 0\n",
       "old_price             0\n",
       "sellable_online       0\n",
       "other_colors          0\n",
       "depth              1463\n",
       "height              988\n",
       "width               589\n",
       "dtype: int64"
      ]
     },
     "execution_count": 16,
     "metadata": {},
     "output_type": "execute_result"
    }
   ],
   "source": [
    "data.isna().sum()"
   ]
  },
  {
   "cell_type": "code",
   "execution_count": 60,
   "metadata": {
    "id": "TmfdQg1FEsx6"
   },
   "outputs": [],
   "source": [
    "data['depth'] = data.depth.fillna(data.depth.median())"
   ]
  },
  {
   "cell_type": "code",
   "execution_count": 61,
   "metadata": {
    "id": "L-8ncYblEu5l"
   },
   "outputs": [],
   "source": [
    "data['width'] = data.width.fillna(data.width.median())"
   ]
  },
  {
   "cell_type": "code",
   "execution_count": 62,
   "metadata": {
    "id": "z91U4xw2Ew7w"
   },
   "outputs": [],
   "source": [
    "data['height'] = data.height.fillna(data.height.mean())"
   ]
  },
  {
   "cell_type": "code",
   "execution_count": 63,
   "metadata": {
    "colab": {
     "base_uri": "https://localhost:8080/",
     "height": 424
    },
    "id": "ri1KF9M0Ey9b",
    "outputId": "a2d96df7-5558-4ef5-850e-5e6a1a58440b"
   },
   "outputs": [
    {
     "data": {
      "text/html": [
       "<div>\n",
       "<style scoped>\n",
       "    .dataframe tbody tr th:only-of-type {\n",
       "        vertical-align: middle;\n",
       "    }\n",
       "\n",
       "    .dataframe tbody tr th {\n",
       "        vertical-align: top;\n",
       "    }\n",
       "\n",
       "    .dataframe thead th {\n",
       "        text-align: right;\n",
       "    }\n",
       "</style>\n",
       "<table border=\"1\" class=\"dataframe\">\n",
       "  <thead>\n",
       "    <tr style=\"text-align: right;\">\n",
       "      <th></th>\n",
       "      <th>type</th>\n",
       "      <th>price</th>\n",
       "      <th>oldrate</th>\n",
       "      <th>is_online</th>\n",
       "      <th>color_options</th>\n",
       "      <th>depth</th>\n",
       "      <th>height</th>\n",
       "      <th>width</th>\n",
       "    </tr>\n",
       "  </thead>\n",
       "  <tbody>\n",
       "    <tr>\n",
       "      <th>0</th>\n",
       "      <td>Bar furniture</td>\n",
       "      <td>265.0</td>\n",
       "      <td>450.098413</td>\n",
       "      <td>True</td>\n",
       "      <td>No</td>\n",
       "      <td>54.379202</td>\n",
       "      <td>99.00000</td>\n",
       "      <td>51.000000</td>\n",
       "    </tr>\n",
       "    <tr>\n",
       "      <th>1</th>\n",
       "      <td>Bar furniture</td>\n",
       "      <td>995.0</td>\n",
       "      <td>450.098413</td>\n",
       "      <td>False</td>\n",
       "      <td>No</td>\n",
       "      <td>54.379202</td>\n",
       "      <td>105.00000</td>\n",
       "      <td>80.000000</td>\n",
       "    </tr>\n",
       "    <tr>\n",
       "      <th>2</th>\n",
       "      <td>Bar furniture</td>\n",
       "      <td>2095.0</td>\n",
       "      <td>450.098413</td>\n",
       "      <td>False</td>\n",
       "      <td>No</td>\n",
       "      <td>54.379202</td>\n",
       "      <td>101.67997</td>\n",
       "      <td>104.470853</td>\n",
       "    </tr>\n",
       "    <tr>\n",
       "      <th>3</th>\n",
       "      <td>Bar furniture</td>\n",
       "      <td>69.0</td>\n",
       "      <td>450.098413</td>\n",
       "      <td>True</td>\n",
       "      <td>Yes</td>\n",
       "      <td>50.000000</td>\n",
       "      <td>100.00000</td>\n",
       "      <td>60.000000</td>\n",
       "    </tr>\n",
       "    <tr>\n",
       "      <th>4</th>\n",
       "      <td>Bar furniture</td>\n",
       "      <td>225.0</td>\n",
       "      <td>450.098413</td>\n",
       "      <td>True</td>\n",
       "      <td>No</td>\n",
       "      <td>60.000000</td>\n",
       "      <td>43.00000</td>\n",
       "      <td>74.000000</td>\n",
       "    </tr>\n",
       "    <tr>\n",
       "      <th>...</th>\n",
       "      <td>...</td>\n",
       "      <td>...</td>\n",
       "      <td>...</td>\n",
       "      <td>...</td>\n",
       "      <td>...</td>\n",
       "      <td>...</td>\n",
       "      <td>...</td>\n",
       "      <td>...</td>\n",
       "    </tr>\n",
       "    <tr>\n",
       "      <th>3689</th>\n",
       "      <td>Wardrobes</td>\n",
       "      <td>750.0</td>\n",
       "      <td>820.000000</td>\n",
       "      <td>True</td>\n",
       "      <td>No</td>\n",
       "      <td>50.000000</td>\n",
       "      <td>101.67997</td>\n",
       "      <td>91.000000</td>\n",
       "    </tr>\n",
       "    <tr>\n",
       "      <th>3690</th>\n",
       "      <td>Wardrobes</td>\n",
       "      <td>1572.0</td>\n",
       "      <td>450.098413</td>\n",
       "      <td>True</td>\n",
       "      <td>No</td>\n",
       "      <td>50.000000</td>\n",
       "      <td>101.67997</td>\n",
       "      <td>135.000000</td>\n",
       "    </tr>\n",
       "    <tr>\n",
       "      <th>3691</th>\n",
       "      <td>Wardrobes</td>\n",
       "      <td>924.0</td>\n",
       "      <td>450.098413</td>\n",
       "      <td>True</td>\n",
       "      <td>No</td>\n",
       "      <td>50.000000</td>\n",
       "      <td>101.67997</td>\n",
       "      <td>175.000000</td>\n",
       "    </tr>\n",
       "    <tr>\n",
       "      <th>3692</th>\n",
       "      <td>Wardrobes</td>\n",
       "      <td>2745.0</td>\n",
       "      <td>450.098413</td>\n",
       "      <td>True</td>\n",
       "      <td>No</td>\n",
       "      <td>50.000000</td>\n",
       "      <td>101.67997</td>\n",
       "      <td>178.000000</td>\n",
       "    </tr>\n",
       "    <tr>\n",
       "      <th>3693</th>\n",
       "      <td>Wardrobes</td>\n",
       "      <td>1231.0</td>\n",
       "      <td>450.098413</td>\n",
       "      <td>True</td>\n",
       "      <td>No</td>\n",
       "      <td>50.000000</td>\n",
       "      <td>101.67997</td>\n",
       "      <td>175.000000</td>\n",
       "    </tr>\n",
       "  </tbody>\n",
       "</table>\n",
       "<p>3694 rows × 8 columns</p>\n",
       "</div>"
      ],
      "text/plain": [
       "               type   price     oldrate  is_online color_options      depth  \\\n",
       "0     Bar furniture   265.0  450.098413       True            No  54.379202   \n",
       "1     Bar furniture   995.0  450.098413      False            No  54.379202   \n",
       "2     Bar furniture  2095.0  450.098413      False            No  54.379202   \n",
       "3     Bar furniture    69.0  450.098413       True           Yes  50.000000   \n",
       "4     Bar furniture   225.0  450.098413       True            No  60.000000   \n",
       "...             ...     ...         ...        ...           ...        ...   \n",
       "3689      Wardrobes   750.0  820.000000       True            No  50.000000   \n",
       "3690      Wardrobes  1572.0  450.098413       True            No  50.000000   \n",
       "3691      Wardrobes   924.0  450.098413       True            No  50.000000   \n",
       "3692      Wardrobes  2745.0  450.098413       True            No  50.000000   \n",
       "3693      Wardrobes  1231.0  450.098413       True            No  50.000000   \n",
       "\n",
       "         height       width  \n",
       "0      99.00000   51.000000  \n",
       "1     105.00000   80.000000  \n",
       "2     101.67997  104.470853  \n",
       "3     100.00000   60.000000  \n",
       "4      43.00000   74.000000  \n",
       "...         ...         ...  \n",
       "3689  101.67997   91.000000  \n",
       "3690  101.67997  135.000000  \n",
       "3691  101.67997  175.000000  \n",
       "3692  101.67997  178.000000  \n",
       "3693  101.67997  175.000000  \n",
       "\n",
       "[3694 rows x 8 columns]"
      ]
     },
     "execution_count": 63,
     "metadata": {},
     "output_type": "execute_result"
    }
   ],
   "source": [
    "data"
   ]
  },
  {
   "cell_type": "code",
   "execution_count": 21,
   "metadata": {
    "colab": {
     "base_uri": "https://localhost:8080/"
    },
    "id": "P0WUPkanE1sC",
    "outputId": "0c599fb1-dca6-40de-a4cb-c2fac6cc8b6d"
   },
   "outputs": [
    {
     "data": {
      "text/plain": [
       "category           0\n",
       "price              0\n",
       "old_price          0\n",
       "sellable_online    0\n",
       "other_colors       0\n",
       "depth              0\n",
       "height             0\n",
       "width              0\n",
       "dtype: int64"
      ]
     },
     "execution_count": 21,
     "metadata": {},
     "output_type": "execute_result"
    }
   ],
   "source": [
    "data.isnull().sum()"
   ]
  },
  {
   "cell_type": "markdown",
   "metadata": {
    "id": "skAwbN-NE5i_"
   },
   "source": [
    "# Changing the Column Names"
   ]
  },
  {
   "cell_type": "code",
   "execution_count": 22,
   "metadata": {
    "id": "aAkslBgrE8gT"
   },
   "outputs": [],
   "source": [
    "data.columns = data.columns.str.replace('old_price', 'oldrate')\n",
    "data.columns = data.columns.str.replace('sellable_online', 'is_online')\n",
    "data.columns = data.columns.str.replace('other_colors', 'color_options')\n",
    "data.columns = data.columns.str.replace('category', 'type')\n",
    "\n",
    "# data.rename(columns={\n",
    "#     'old_price': 'oldrate',\n",
    "#     'sellable_online': 'is_online',\n",
    "#     'other_colors': 'color_options',\n",
    "#     'category': 'type'\n",
    "# }, inplace=True)\n"
   ]
  },
  {
   "cell_type": "code",
   "execution_count": 23,
   "metadata": {
    "colab": {
     "base_uri": "https://localhost:8080/",
     "height": 424
    },
    "id": "zkaKC2hfE-or",
    "outputId": "3f07140e-4421-4b5f-ffe6-d37c4adbdd46"
   },
   "outputs": [
    {
     "data": {
      "text/html": [
       "<div>\n",
       "<style scoped>\n",
       "    .dataframe tbody tr th:only-of-type {\n",
       "        vertical-align: middle;\n",
       "    }\n",
       "\n",
       "    .dataframe tbody tr th {\n",
       "        vertical-align: top;\n",
       "    }\n",
       "\n",
       "    .dataframe thead th {\n",
       "        text-align: right;\n",
       "    }\n",
       "</style>\n",
       "<table border=\"1\" class=\"dataframe\">\n",
       "  <thead>\n",
       "    <tr style=\"text-align: right;\">\n",
       "      <th></th>\n",
       "      <th>type</th>\n",
       "      <th>price</th>\n",
       "      <th>oldrate</th>\n",
       "      <th>is_online</th>\n",
       "      <th>color_options</th>\n",
       "      <th>depth</th>\n",
       "      <th>height</th>\n",
       "      <th>width</th>\n",
       "    </tr>\n",
       "  </thead>\n",
       "  <tbody>\n",
       "    <tr>\n",
       "      <th>0</th>\n",
       "      <td>Bar furniture</td>\n",
       "      <td>265.0</td>\n",
       "      <td>450.098413</td>\n",
       "      <td>True</td>\n",
       "      <td>No</td>\n",
       "      <td>54.379202</td>\n",
       "      <td>99.00000</td>\n",
       "      <td>51.000000</td>\n",
       "    </tr>\n",
       "    <tr>\n",
       "      <th>1</th>\n",
       "      <td>Bar furniture</td>\n",
       "      <td>995.0</td>\n",
       "      <td>450.098413</td>\n",
       "      <td>False</td>\n",
       "      <td>No</td>\n",
       "      <td>54.379202</td>\n",
       "      <td>105.00000</td>\n",
       "      <td>80.000000</td>\n",
       "    </tr>\n",
       "    <tr>\n",
       "      <th>2</th>\n",
       "      <td>Bar furniture</td>\n",
       "      <td>2095.0</td>\n",
       "      <td>450.098413</td>\n",
       "      <td>False</td>\n",
       "      <td>No</td>\n",
       "      <td>54.379202</td>\n",
       "      <td>101.67997</td>\n",
       "      <td>104.470853</td>\n",
       "    </tr>\n",
       "    <tr>\n",
       "      <th>3</th>\n",
       "      <td>Bar furniture</td>\n",
       "      <td>69.0</td>\n",
       "      <td>450.098413</td>\n",
       "      <td>True</td>\n",
       "      <td>Yes</td>\n",
       "      <td>50.000000</td>\n",
       "      <td>100.00000</td>\n",
       "      <td>60.000000</td>\n",
       "    </tr>\n",
       "    <tr>\n",
       "      <th>4</th>\n",
       "      <td>Bar furniture</td>\n",
       "      <td>225.0</td>\n",
       "      <td>450.098413</td>\n",
       "      <td>True</td>\n",
       "      <td>No</td>\n",
       "      <td>60.000000</td>\n",
       "      <td>43.00000</td>\n",
       "      <td>74.000000</td>\n",
       "    </tr>\n",
       "  </tbody>\n",
       "</table>\n",
       "</div>"
      ],
      "text/plain": [
       "            type   price     oldrate  is_online color_options      depth  \\\n",
       "0  Bar furniture   265.0  450.098413       True            No  54.379202   \n",
       "1  Bar furniture   995.0  450.098413      False            No  54.379202   \n",
       "2  Bar furniture  2095.0  450.098413      False            No  54.379202   \n",
       "3  Bar furniture    69.0  450.098413       True           Yes  50.000000   \n",
       "4  Bar furniture   225.0  450.098413       True            No  60.000000   \n",
       "\n",
       "      height       width  \n",
       "0   99.00000   51.000000  \n",
       "1  105.00000   80.000000  \n",
       "2  101.67997  104.470853  \n",
       "3  100.00000   60.000000  \n",
       "4   43.00000   74.000000  "
      ]
     },
     "execution_count": 23,
     "metadata": {},
     "output_type": "execute_result"
    }
   ],
   "source": [
    "data.head()"
   ]
  },
  {
   "cell_type": "markdown",
   "metadata": {
    "id": "w-c8C87dFC2V"
   },
   "source": [
    "Since there are 3694 rows consisting of different categories of products, it may not be viable to plot or the graphs may be misleading/ambiguous."
   ]
  },
  {
   "cell_type": "markdown",
   "metadata": {
    "id": "8g2pCUHBFGgq"
   },
   "source": [
    "# GroupBy\n",
    "* Before plotting, grouping of the categories is required.\n",
    "* Grouping the different categories by sum()/suming them up"
   ]
  },
  {
   "cell_type": "markdown",
   "metadata": {
    "id": "TepEx1cvFJR5"
   },
   "source": [
    "Using this dataframe to Visualise and Analyse\n",
    "* The most meaningful column here is 'type' but it would be converted into index as a consequence of grouping. \n",
    "* Resetting the index will help here"
   ]
  },
  {
   "cell_type": "code",
   "execution_count": 68,
   "metadata": {
    "colab": {
     "base_uri": "https://localhost:8080/",
     "height": 582
    },
    "id": "AdC3a20pFRdN",
    "outputId": "72079348-c8bd-436a-e7f2-76596a99d0ac"
   },
   "outputs": [
    {
     "data": {
      "text/html": [
       "<div>\n",
       "<style scoped>\n",
       "    .dataframe tbody tr th:only-of-type {\n",
       "        vertical-align: middle;\n",
       "    }\n",
       "\n",
       "    .dataframe tbody tr th {\n",
       "        vertical-align: top;\n",
       "    }\n",
       "\n",
       "    .dataframe thead th {\n",
       "        text-align: right;\n",
       "    }\n",
       "</style>\n",
       "<table border=\"1\" class=\"dataframe\">\n",
       "  <thead>\n",
       "    <tr style=\"text-align: right;\">\n",
       "      <th></th>\n",
       "      <th>type</th>\n",
       "      <th>price</th>\n",
       "      <th>oldrate</th>\n",
       "      <th>is_online</th>\n",
       "      <th>color_options</th>\n",
       "      <th>depth</th>\n",
       "      <th>height</th>\n",
       "      <th>width</th>\n",
       "    </tr>\n",
       "  </thead>\n",
       "  <tbody>\n",
       "    <tr>\n",
       "      <th>0</th>\n",
       "      <td>Bar furniture</td>\n",
       "      <td>31939.0</td>\n",
       "      <td>21814.23</td>\n",
       "      <td>44</td>\n",
       "      <td>NoNoNoYesNoNoNoNoNoNoNoNoNoNoNoNoNoYesNoNoNoNo...</td>\n",
       "      <td>2354.58</td>\n",
       "      <td>4635.16</td>\n",
       "      <td>3003.71</td>\n",
       "    </tr>\n",
       "    <tr>\n",
       "      <th>1</th>\n",
       "      <td>Beds</td>\n",
       "      <td>342666.0</td>\n",
       "      <td>94769.58</td>\n",
       "      <td>205</td>\n",
       "      <td>NoNoNoNoNoNoYesNoYesNoYesYesNoYesNoYesYesYesNo...</td>\n",
       "      <td>13581.40</td>\n",
       "      <td>18192.68</td>\n",
       "      <td>28669.83</td>\n",
       "    </tr>\n",
       "    <tr>\n",
       "      <th>2</th>\n",
       "      <td>Bookcases &amp; shelving units</td>\n",
       "      <td>284640.0</td>\n",
       "      <td>246459.53</td>\n",
       "      <td>547</td>\n",
       "      <td>NoNoNoNoNoNoNoYesYesNoYesNoNoYesNoNoNoNoYesYes...</td>\n",
       "      <td>21892.02</td>\n",
       "      <td>68723.08</td>\n",
       "      <td>58279.37</td>\n",
       "    </tr>\n",
       "    <tr>\n",
       "      <th>3</th>\n",
       "      <td>Cabinets &amp; cupboards</td>\n",
       "      <td>230392.6</td>\n",
       "      <td>132416.46</td>\n",
       "      <td>291</td>\n",
       "      <td>NoYesNoYesYesYesYesNoNoYesYesYesNoYesYesNoYesY...</td>\n",
       "      <td>11876.86</td>\n",
       "      <td>32388.16</td>\n",
       "      <td>29040.95</td>\n",
       "    </tr>\n",
       "    <tr>\n",
       "      <th>4</th>\n",
       "      <td>Café furniture</td>\n",
       "      <td>14401.0</td>\n",
       "      <td>11917.26</td>\n",
       "      <td>26</td>\n",
       "      <td>NoNoNoNoYesNoNoYesNoNoNoNoNoNoYesNoYesNoNoNoNo...</td>\n",
       "      <td>1279.55</td>\n",
       "      <td>2187.72</td>\n",
       "      <td>1663.35</td>\n",
       "    </tr>\n",
       "    <tr>\n",
       "      <th>5</th>\n",
       "      <td>Chairs</td>\n",
       "      <td>504536.6</td>\n",
       "      <td>210821.09</td>\n",
       "      <td>477</td>\n",
       "      <td>NoNoYesYesNoYesNoNoNoYesNoYesYesNoNoYesYesNoNo...</td>\n",
       "      <td>27906.98</td>\n",
       "      <td>41703.87</td>\n",
       "      <td>35346.32</td>\n",
       "    </tr>\n",
       "    <tr>\n",
       "      <th>6</th>\n",
       "      <td>Chests of drawers &amp; drawer units</td>\n",
       "      <td>76522.5</td>\n",
       "      <td>57178.55</td>\n",
       "      <td>125</td>\n",
       "      <td>NoYesYesNoNoYesNoYesYesNoYesYesNoYesNoNoYesNoN...</td>\n",
       "      <td>5923.52</td>\n",
       "      <td>9857.36</td>\n",
       "      <td>9583.00</td>\n",
       "    </tr>\n",
       "    <tr>\n",
       "      <th>7</th>\n",
       "      <td>Children's furniture</td>\n",
       "      <td>33822.0</td>\n",
       "      <td>55326.81</td>\n",
       "      <td>119</td>\n",
       "      <td>NoNoYesNoNoNoNoNoNoNoNoNoNoYesNoNoNoNoYesNoNoN...</td>\n",
       "      <td>5816.38</td>\n",
       "      <td>10077.68</td>\n",
       "      <td>8060.83</td>\n",
       "    </tr>\n",
       "    <tr>\n",
       "      <th>8</th>\n",
       "      <td>Nursery furniture</td>\n",
       "      <td>38185.0</td>\n",
       "      <td>43774.35</td>\n",
       "      <td>93</td>\n",
       "      <td>NoNoNoNoNoNoNoNoNoNoNoNoNoNoNoYesNoNoNoNoYesNo...</td>\n",
       "      <td>4529.76</td>\n",
       "      <td>8446.84</td>\n",
       "      <td>6435.88</td>\n",
       "    </tr>\n",
       "    <tr>\n",
       "      <th>9</th>\n",
       "      <td>Outdoor furniture</td>\n",
       "      <td>185722.6</td>\n",
       "      <td>95381.80</td>\n",
       "      <td>216</td>\n",
       "      <td>YesNoYesNoNoNoYesNoNoNoYesNoNoNoYesYesNoYesNoN...</td>\n",
       "      <td>13185.47</td>\n",
       "      <td>18533.80</td>\n",
       "      <td>19824.60</td>\n",
       "    </tr>\n",
       "    <tr>\n",
       "      <th>10</th>\n",
       "      <td>Room dividers</td>\n",
       "      <td>12116.0</td>\n",
       "      <td>6086.08</td>\n",
       "      <td>13</td>\n",
       "      <td>YesYesNoYesNoNoYesYesNoYesYesNoYes</td>\n",
       "      <td>568.14</td>\n",
       "      <td>1658.40</td>\n",
       "      <td>1929.47</td>\n",
       "    </tr>\n",
       "    <tr>\n",
       "      <th>11</th>\n",
       "      <td>Sideboards, buffets &amp; console tables</td>\n",
       "      <td>24566.0</td>\n",
       "      <td>10897.17</td>\n",
       "      <td>23</td>\n",
       "      <td>YesNoYesNoNoNoYesYesNoYesYesYesNoYesYesYesYesY...</td>\n",
       "      <td>985.14</td>\n",
       "      <td>2531.00</td>\n",
       "      <td>2677.00</td>\n",
       "    </tr>\n",
       "    <tr>\n",
       "      <th>12</th>\n",
       "      <td>Sofas &amp; armchairs</td>\n",
       "      <td>857719.0</td>\n",
       "      <td>190008.09</td>\n",
       "      <td>427</td>\n",
       "      <td>YesYesYesYesYesYesYesNoYesYesYesYesYesYesYesNo...</td>\n",
       "      <td>35272.70</td>\n",
       "      <td>36600.60</td>\n",
       "      <td>67218.98</td>\n",
       "    </tr>\n",
       "    <tr>\n",
       "      <th>13</th>\n",
       "      <td>TV &amp; media furniture</td>\n",
       "      <td>125219.6</td>\n",
       "      <td>84304.71</td>\n",
       "      <td>189</td>\n",
       "      <td>YesNoNoYesYesYesYesYesNoNoNoNoYesNoYesYesYesYe...</td>\n",
       "      <td>8040.61</td>\n",
       "      <td>19061.16</td>\n",
       "      <td>24132.95</td>\n",
       "    </tr>\n",
       "    <tr>\n",
       "      <th>14</th>\n",
       "      <td>Tables &amp; desks</td>\n",
       "      <td>691190.0</td>\n",
       "      <td>275504.11</td>\n",
       "      <td>608</td>\n",
       "      <td>NoNoYesNoYesNoYesYesYesYesYesYesYesNoNoNoYesNo...</td>\n",
       "      <td>33078.15</td>\n",
       "      <td>50222.31</td>\n",
       "      <td>49976.21</td>\n",
       "    </tr>\n",
       "    <tr>\n",
       "      <th>15</th>\n",
       "      <td>Trolleys</td>\n",
       "      <td>18998.5</td>\n",
       "      <td>13092.56</td>\n",
       "      <td>27</td>\n",
       "      <td>YesYesNoNoNoNoNoNoNoNoNoNoNoNoNoNoNoNoNoNoNoNo...</td>\n",
       "      <td>1481.20</td>\n",
       "      <td>2439.68</td>\n",
       "      <td>1638.00</td>\n",
       "    </tr>\n",
       "    <tr>\n",
       "      <th>16</th>\n",
       "      <td>Wardrobes</td>\n",
       "      <td>510265.5</td>\n",
       "      <td>112911.16</td>\n",
       "      <td>236</td>\n",
       "      <td>NoYesNoYesNoNoNoNoNoNoNoYesNoYesYesYesNoYesYes...</td>\n",
       "      <td>13104.31</td>\n",
       "      <td>48346.32</td>\n",
       "      <td>38434.88</td>\n",
       "    </tr>\n",
       "  </tbody>\n",
       "</table>\n",
       "</div>"
      ],
      "text/plain": [
       "                                    type     price    oldrate  is_online  \\\n",
       "0                          Bar furniture   31939.0   21814.23         44   \n",
       "1                                   Beds  342666.0   94769.58        205   \n",
       "2             Bookcases & shelving units  284640.0  246459.53        547   \n",
       "3                   Cabinets & cupboards  230392.6  132416.46        291   \n",
       "4                         Café furniture   14401.0   11917.26         26   \n",
       "5                                 Chairs  504536.6  210821.09        477   \n",
       "6       Chests of drawers & drawer units   76522.5   57178.55        125   \n",
       "7                   Children's furniture   33822.0   55326.81        119   \n",
       "8                      Nursery furniture   38185.0   43774.35         93   \n",
       "9                      Outdoor furniture  185722.6   95381.80        216   \n",
       "10                         Room dividers   12116.0    6086.08         13   \n",
       "11  Sideboards, buffets & console tables   24566.0   10897.17         23   \n",
       "12                     Sofas & armchairs  857719.0  190008.09        427   \n",
       "13                  TV & media furniture  125219.6   84304.71        189   \n",
       "14                        Tables & desks  691190.0  275504.11        608   \n",
       "15                              Trolleys   18998.5   13092.56         27   \n",
       "16                             Wardrobes  510265.5  112911.16        236   \n",
       "\n",
       "                                        color_options     depth    height  \\\n",
       "0   NoNoNoYesNoNoNoNoNoNoNoNoNoNoNoNoNoYesNoNoNoNo...   2354.58   4635.16   \n",
       "1   NoNoNoNoNoNoYesNoYesNoYesYesNoYesNoYesYesYesNo...  13581.40  18192.68   \n",
       "2   NoNoNoNoNoNoNoYesYesNoYesNoNoYesNoNoNoNoYesYes...  21892.02  68723.08   \n",
       "3   NoYesNoYesYesYesYesNoNoYesYesYesNoYesYesNoYesY...  11876.86  32388.16   \n",
       "4   NoNoNoNoYesNoNoYesNoNoNoNoNoNoYesNoYesNoNoNoNo...   1279.55   2187.72   \n",
       "5   NoNoYesYesNoYesNoNoNoYesNoYesYesNoNoYesYesNoNo...  27906.98  41703.87   \n",
       "6   NoYesYesNoNoYesNoYesYesNoYesYesNoYesNoNoYesNoN...   5923.52   9857.36   \n",
       "7   NoNoYesNoNoNoNoNoNoNoNoNoNoYesNoNoNoNoYesNoNoN...   5816.38  10077.68   \n",
       "8   NoNoNoNoNoNoNoNoNoNoNoNoNoNoNoYesNoNoNoNoYesNo...   4529.76   8446.84   \n",
       "9   YesNoYesNoNoNoYesNoNoNoYesNoNoNoYesYesNoYesNoN...  13185.47  18533.80   \n",
       "10                 YesYesNoYesNoNoYesYesNoYesYesNoYes    568.14   1658.40   \n",
       "11  YesNoYesNoNoNoYesYesNoYesYesYesNoYesYesYesYesY...    985.14   2531.00   \n",
       "12  YesYesYesYesYesYesYesNoYesYesYesYesYesYesYesNo...  35272.70  36600.60   \n",
       "13  YesNoNoYesYesYesYesYesNoNoNoNoYesNoYesYesYesYe...   8040.61  19061.16   \n",
       "14  NoNoYesNoYesNoYesYesYesYesYesYesYesNoNoNoYesNo...  33078.15  50222.31   \n",
       "15  YesYesNoNoNoNoNoNoNoNoNoNoNoNoNoNoNoNoNoNoNoNo...   1481.20   2439.68   \n",
       "16  NoYesNoYesNoNoNoNoNoNoNoYesNoYesYesYesNoYesYes...  13104.31  48346.32   \n",
       "\n",
       "       width  \n",
       "0    3003.71  \n",
       "1   28669.83  \n",
       "2   58279.37  \n",
       "3   29040.95  \n",
       "4    1663.35  \n",
       "5   35346.32  \n",
       "6    9583.00  \n",
       "7    8060.83  \n",
       "8    6435.88  \n",
       "9   19824.60  \n",
       "10   1929.47  \n",
       "11   2677.00  \n",
       "12  67218.98  \n",
       "13  24132.95  \n",
       "14  49976.21  \n",
       "15   1638.00  \n",
       "16  38434.88  "
      ]
     },
     "execution_count": 68,
     "metadata": {},
     "output_type": "execute_result"
    }
   ],
   "source": [
    "data1 = data.groupby(data['type']).sum()\n",
    "\n",
    "data1.transpose()\n",
    "\n",
    "df = data1.reset_index()\n",
    "\n",
    "df.oldrate = df.oldrate.round(2)\n",
    "df.depth = df.depth.round(2)\n",
    "df.height = df.height.round(2)\n",
    "df.width = df.width.round(2) \n",
    "#df.drop([\"color_options\"],axis=1,inplace=True)\n",
    "df"
   ]
  },
  {
   "cell_type": "code",
   "execution_count": 25,
   "metadata": {},
   "outputs": [
    {
     "data": {
      "text/html": [
       "<div>\n",
       "<style scoped>\n",
       "    .dataframe tbody tr th:only-of-type {\n",
       "        vertical-align: middle;\n",
       "    }\n",
       "\n",
       "    .dataframe tbody tr th {\n",
       "        vertical-align: top;\n",
       "    }\n",
       "\n",
       "    .dataframe thead th {\n",
       "        text-align: right;\n",
       "    }\n",
       "</style>\n",
       "<table border=\"1\" class=\"dataframe\">\n",
       "  <thead>\n",
       "    <tr style=\"text-align: right;\">\n",
       "      <th></th>\n",
       "      <th>type</th>\n",
       "      <th>price</th>\n",
       "      <th>oldrate</th>\n",
       "      <th>is_online</th>\n",
       "      <th>depth</th>\n",
       "      <th>height</th>\n",
       "      <th>width</th>\n",
       "    </tr>\n",
       "  </thead>\n",
       "  <tbody>\n",
       "    <tr>\n",
       "      <th>0</th>\n",
       "      <td>Bar furniture</td>\n",
       "      <td>31939.0</td>\n",
       "      <td>21814.23</td>\n",
       "      <td>44</td>\n",
       "      <td>2354.58</td>\n",
       "      <td>4635.16</td>\n",
       "      <td>3003.71</td>\n",
       "    </tr>\n",
       "    <tr>\n",
       "      <th>1</th>\n",
       "      <td>Beds</td>\n",
       "      <td>342666.0</td>\n",
       "      <td>94769.58</td>\n",
       "      <td>205</td>\n",
       "      <td>13581.40</td>\n",
       "      <td>18192.68</td>\n",
       "      <td>28669.83</td>\n",
       "    </tr>\n",
       "    <tr>\n",
       "      <th>2</th>\n",
       "      <td>Bookcases &amp; shelving units</td>\n",
       "      <td>284640.0</td>\n",
       "      <td>246459.53</td>\n",
       "      <td>547</td>\n",
       "      <td>21892.02</td>\n",
       "      <td>68723.08</td>\n",
       "      <td>58279.37</td>\n",
       "    </tr>\n",
       "    <tr>\n",
       "      <th>3</th>\n",
       "      <td>Cabinets &amp; cupboards</td>\n",
       "      <td>230392.6</td>\n",
       "      <td>132416.46</td>\n",
       "      <td>291</td>\n",
       "      <td>11876.86</td>\n",
       "      <td>32388.16</td>\n",
       "      <td>29040.95</td>\n",
       "    </tr>\n",
       "    <tr>\n",
       "      <th>4</th>\n",
       "      <td>Café furniture</td>\n",
       "      <td>14401.0</td>\n",
       "      <td>11917.26</td>\n",
       "      <td>26</td>\n",
       "      <td>1279.55</td>\n",
       "      <td>2187.72</td>\n",
       "      <td>1663.35</td>\n",
       "    </tr>\n",
       "    <tr>\n",
       "      <th>5</th>\n",
       "      <td>Chairs</td>\n",
       "      <td>504536.6</td>\n",
       "      <td>210821.09</td>\n",
       "      <td>477</td>\n",
       "      <td>27906.98</td>\n",
       "      <td>41703.87</td>\n",
       "      <td>35346.32</td>\n",
       "    </tr>\n",
       "    <tr>\n",
       "      <th>6</th>\n",
       "      <td>Chests of drawers &amp; drawer units</td>\n",
       "      <td>76522.5</td>\n",
       "      <td>57178.55</td>\n",
       "      <td>125</td>\n",
       "      <td>5923.52</td>\n",
       "      <td>9857.36</td>\n",
       "      <td>9583.00</td>\n",
       "    </tr>\n",
       "    <tr>\n",
       "      <th>7</th>\n",
       "      <td>Children's furniture</td>\n",
       "      <td>33822.0</td>\n",
       "      <td>55326.81</td>\n",
       "      <td>119</td>\n",
       "      <td>5816.38</td>\n",
       "      <td>10077.68</td>\n",
       "      <td>8060.83</td>\n",
       "    </tr>\n",
       "    <tr>\n",
       "      <th>8</th>\n",
       "      <td>Nursery furniture</td>\n",
       "      <td>38185.0</td>\n",
       "      <td>43774.35</td>\n",
       "      <td>93</td>\n",
       "      <td>4529.76</td>\n",
       "      <td>8446.84</td>\n",
       "      <td>6435.88</td>\n",
       "    </tr>\n",
       "    <tr>\n",
       "      <th>9</th>\n",
       "      <td>Outdoor furniture</td>\n",
       "      <td>185722.6</td>\n",
       "      <td>95381.80</td>\n",
       "      <td>216</td>\n",
       "      <td>13185.47</td>\n",
       "      <td>18533.80</td>\n",
       "      <td>19824.60</td>\n",
       "    </tr>\n",
       "    <tr>\n",
       "      <th>10</th>\n",
       "      <td>Room dividers</td>\n",
       "      <td>12116.0</td>\n",
       "      <td>6086.08</td>\n",
       "      <td>13</td>\n",
       "      <td>568.14</td>\n",
       "      <td>1658.40</td>\n",
       "      <td>1929.47</td>\n",
       "    </tr>\n",
       "    <tr>\n",
       "      <th>11</th>\n",
       "      <td>Sideboards, buffets &amp; console tables</td>\n",
       "      <td>24566.0</td>\n",
       "      <td>10897.17</td>\n",
       "      <td>23</td>\n",
       "      <td>985.14</td>\n",
       "      <td>2531.00</td>\n",
       "      <td>2677.00</td>\n",
       "    </tr>\n",
       "    <tr>\n",
       "      <th>12</th>\n",
       "      <td>Sofas &amp; armchairs</td>\n",
       "      <td>857719.0</td>\n",
       "      <td>190008.09</td>\n",
       "      <td>427</td>\n",
       "      <td>35272.70</td>\n",
       "      <td>36600.60</td>\n",
       "      <td>67218.98</td>\n",
       "    </tr>\n",
       "    <tr>\n",
       "      <th>13</th>\n",
       "      <td>TV &amp; media furniture</td>\n",
       "      <td>125219.6</td>\n",
       "      <td>84304.71</td>\n",
       "      <td>189</td>\n",
       "      <td>8040.61</td>\n",
       "      <td>19061.16</td>\n",
       "      <td>24132.95</td>\n",
       "    </tr>\n",
       "    <tr>\n",
       "      <th>14</th>\n",
       "      <td>Tables &amp; desks</td>\n",
       "      <td>691190.0</td>\n",
       "      <td>275504.11</td>\n",
       "      <td>608</td>\n",
       "      <td>33078.15</td>\n",
       "      <td>50222.31</td>\n",
       "      <td>49976.21</td>\n",
       "    </tr>\n",
       "    <tr>\n",
       "      <th>15</th>\n",
       "      <td>Trolleys</td>\n",
       "      <td>18998.5</td>\n",
       "      <td>13092.56</td>\n",
       "      <td>27</td>\n",
       "      <td>1481.20</td>\n",
       "      <td>2439.68</td>\n",
       "      <td>1638.00</td>\n",
       "    </tr>\n",
       "    <tr>\n",
       "      <th>16</th>\n",
       "      <td>Wardrobes</td>\n",
       "      <td>510265.5</td>\n",
       "      <td>112911.16</td>\n",
       "      <td>236</td>\n",
       "      <td>13104.31</td>\n",
       "      <td>48346.32</td>\n",
       "      <td>38434.88</td>\n",
       "    </tr>\n",
       "  </tbody>\n",
       "</table>\n",
       "</div>"
      ],
      "text/plain": [
       "                                    type     price    oldrate  is_online  \\\n",
       "0                          Bar furniture   31939.0   21814.23         44   \n",
       "1                                   Beds  342666.0   94769.58        205   \n",
       "2             Bookcases & shelving units  284640.0  246459.53        547   \n",
       "3                   Cabinets & cupboards  230392.6  132416.46        291   \n",
       "4                         Café furniture   14401.0   11917.26         26   \n",
       "5                                 Chairs  504536.6  210821.09        477   \n",
       "6       Chests of drawers & drawer units   76522.5   57178.55        125   \n",
       "7                   Children's furniture   33822.0   55326.81        119   \n",
       "8                      Nursery furniture   38185.0   43774.35         93   \n",
       "9                      Outdoor furniture  185722.6   95381.80        216   \n",
       "10                         Room dividers   12116.0    6086.08         13   \n",
       "11  Sideboards, buffets & console tables   24566.0   10897.17         23   \n",
       "12                     Sofas & armchairs  857719.0  190008.09        427   \n",
       "13                  TV & media furniture  125219.6   84304.71        189   \n",
       "14                        Tables & desks  691190.0  275504.11        608   \n",
       "15                              Trolleys   18998.5   13092.56         27   \n",
       "16                             Wardrobes  510265.5  112911.16        236   \n",
       "\n",
       "       depth    height     width  \n",
       "0    2354.58   4635.16   3003.71  \n",
       "1   13581.40  18192.68  28669.83  \n",
       "2   21892.02  68723.08  58279.37  \n",
       "3   11876.86  32388.16  29040.95  \n",
       "4    1279.55   2187.72   1663.35  \n",
       "5   27906.98  41703.87  35346.32  \n",
       "6    5923.52   9857.36   9583.00  \n",
       "7    5816.38  10077.68   8060.83  \n",
       "8    4529.76   8446.84   6435.88  \n",
       "9   13185.47  18533.80  19824.60  \n",
       "10    568.14   1658.40   1929.47  \n",
       "11    985.14   2531.00   2677.00  \n",
       "12  35272.70  36600.60  67218.98  \n",
       "13   8040.61  19061.16  24132.95  \n",
       "14  33078.15  50222.31  49976.21  \n",
       "15   1481.20   2439.68   1638.00  \n",
       "16  13104.31  48346.32  38434.88  "
      ]
     },
     "execution_count": 25,
     "metadata": {},
     "output_type": "execute_result"
    }
   ],
   "source": [
    "# Group by 'type' and calculate the sum\n",
    "grouped_data = data.groupby('type').sum().reset_index()\n",
    "\n",
    "# Round specific numeric columns to 2 decimal places\n",
    "columns_to_round = ['oldrate', 'depth', 'height', 'width']\n",
    "grouped_data[columns_to_round] = grouped_data[columns_to_round].round(2)\n",
    "\n",
    "# Optional: Uncomment to drop 'color_options' column\n",
    "grouped_data.drop(columns=['color_options'], inplace=True)\n",
    "\n",
    "# Final result\n",
    "grouped_data"
   ]
  },
  {
   "cell_type": "code",
   "execution_count": 26,
   "metadata": {
    "colab": {
     "base_uri": "https://localhost:8080/",
     "height": 582
    },
    "id": "OjMduM91FUVG",
    "outputId": "9a841e8c-929f-4473-86e1-02c83b7b6b7c"
   },
   "outputs": [
    {
     "data": {
      "text/html": [
       "<div>\n",
       "<style scoped>\n",
       "    .dataframe tbody tr th:only-of-type {\n",
       "        vertical-align: middle;\n",
       "    }\n",
       "\n",
       "    .dataframe tbody tr th {\n",
       "        vertical-align: top;\n",
       "    }\n",
       "\n",
       "    .dataframe thead th {\n",
       "        text-align: right;\n",
       "    }\n",
       "</style>\n",
       "<table border=\"1\" class=\"dataframe\">\n",
       "  <thead>\n",
       "    <tr style=\"text-align: right;\">\n",
       "      <th></th>\n",
       "      <th>type</th>\n",
       "      <th>price</th>\n",
       "      <th>oldrate</th>\n",
       "      <th>depth</th>\n",
       "      <th>height</th>\n",
       "      <th>width</th>\n",
       "    </tr>\n",
       "  </thead>\n",
       "  <tbody>\n",
       "    <tr>\n",
       "      <th>0</th>\n",
       "      <td>Bar furniture</td>\n",
       "      <td>679.553191</td>\n",
       "      <td>464.132590</td>\n",
       "      <td>50.097533</td>\n",
       "      <td>98.620418</td>\n",
       "      <td>63.908692</td>\n",
       "    </tr>\n",
       "    <tr>\n",
       "      <th>1</th>\n",
       "      <td>Beds</td>\n",
       "      <td>1647.432692</td>\n",
       "      <td>455.623001</td>\n",
       "      <td>65.295194</td>\n",
       "      <td>87.464800</td>\n",
       "      <td>137.835719</td>\n",
       "    </tr>\n",
       "    <tr>\n",
       "      <th>2</th>\n",
       "      <td>Bookcases &amp; shelving units</td>\n",
       "      <td>519.416058</td>\n",
       "      <td>449.743674</td>\n",
       "      <td>39.948949</td>\n",
       "      <td>125.407075</td>\n",
       "      <td>106.349211</td>\n",
       "    </tr>\n",
       "    <tr>\n",
       "      <th>3</th>\n",
       "      <td>Cabinets &amp; cupboards</td>\n",
       "      <td>789.015753</td>\n",
       "      <td>453.481018</td>\n",
       "      <td>40.674165</td>\n",
       "      <td>110.918350</td>\n",
       "      <td>99.455311</td>\n",
       "    </tr>\n",
       "    <tr>\n",
       "      <th>4</th>\n",
       "      <td>Café furniture</td>\n",
       "      <td>553.884615</td>\n",
       "      <td>458.356288</td>\n",
       "      <td>49.213478</td>\n",
       "      <td>84.143072</td>\n",
       "      <td>63.975164</td>\n",
       "    </tr>\n",
       "    <tr>\n",
       "      <th>5</th>\n",
       "      <td>Chairs</td>\n",
       "      <td>1048.932640</td>\n",
       "      <td>438.297482</td>\n",
       "      <td>58.018665</td>\n",
       "      <td>86.702441</td>\n",
       "      <td>73.485070</td>\n",
       "    </tr>\n",
       "    <tr>\n",
       "      <th>6</th>\n",
       "      <td>Chests of drawers &amp; drawer units</td>\n",
       "      <td>612.180000</td>\n",
       "      <td>457.428368</td>\n",
       "      <td>47.388134</td>\n",
       "      <td>78.858880</td>\n",
       "      <td>76.664000</td>\n",
       "    </tr>\n",
       "    <tr>\n",
       "      <th>7</th>\n",
       "      <td>Children's furniture</td>\n",
       "      <td>272.758065</td>\n",
       "      <td>446.183948</td>\n",
       "      <td>46.906259</td>\n",
       "      <td>81.271607</td>\n",
       "      <td>65.006654</td>\n",
       "    </tr>\n",
       "    <tr>\n",
       "      <th>8</th>\n",
       "      <td>Nursery furniture</td>\n",
       "      <td>393.659794</td>\n",
       "      <td>451.281951</td>\n",
       "      <td>46.698508</td>\n",
       "      <td>87.080821</td>\n",
       "      <td>66.349314</td>\n",
       "    </tr>\n",
       "    <tr>\n",
       "      <th>9</th>\n",
       "      <td>Outdoor furniture</td>\n",
       "      <td>859.826852</td>\n",
       "      <td>441.582393</td>\n",
       "      <td>61.043846</td>\n",
       "      <td>85.804618</td>\n",
       "      <td>91.780560</td>\n",
       "    </tr>\n",
       "    <tr>\n",
       "      <th>10</th>\n",
       "      <td>Room dividers</td>\n",
       "      <td>932.000000</td>\n",
       "      <td>468.160195</td>\n",
       "      <td>43.702893</td>\n",
       "      <td>127.569219</td>\n",
       "      <td>148.420835</td>\n",
       "    </tr>\n",
       "    <tr>\n",
       "      <th>11</th>\n",
       "      <td>Sideboards, buffets &amp; console tables</td>\n",
       "      <td>1068.086957</td>\n",
       "      <td>473.789786</td>\n",
       "      <td>42.832070</td>\n",
       "      <td>110.043478</td>\n",
       "      <td>116.391304</td>\n",
       "    </tr>\n",
       "    <tr>\n",
       "      <th>12</th>\n",
       "      <td>Sofas &amp; armchairs</td>\n",
       "      <td>2004.016355</td>\n",
       "      <td>443.944126</td>\n",
       "      <td>82.412857</td>\n",
       "      <td>85.515411</td>\n",
       "      <td>157.053697</td>\n",
       "    </tr>\n",
       "    <tr>\n",
       "      <th>13</th>\n",
       "      <td>TV &amp; media furniture</td>\n",
       "      <td>659.050526</td>\n",
       "      <td>443.709023</td>\n",
       "      <td>42.319024</td>\n",
       "      <td>100.321885</td>\n",
       "      <td>127.015530</td>\n",
       "    </tr>\n",
       "    <tr>\n",
       "      <th>14</th>\n",
       "      <td>Tables &amp; desks</td>\n",
       "      <td>1129.395425</td>\n",
       "      <td>450.170116</td>\n",
       "      <td>54.049272</td>\n",
       "      <td>82.062605</td>\n",
       "      <td>81.660468</td>\n",
       "    </tr>\n",
       "    <tr>\n",
       "      <th>15</th>\n",
       "      <td>Trolleys</td>\n",
       "      <td>678.517857</td>\n",
       "      <td>467.591383</td>\n",
       "      <td>52.900173</td>\n",
       "      <td>87.131428</td>\n",
       "      <td>58.500000</td>\n",
       "    </tr>\n",
       "    <tr>\n",
       "      <th>16</th>\n",
       "      <td>Wardrobes</td>\n",
       "      <td>2162.141949</td>\n",
       "      <td>478.437113</td>\n",
       "      <td>55.526732</td>\n",
       "      <td>204.857285</td>\n",
       "      <td>162.859675</td>\n",
       "    </tr>\n",
       "  </tbody>\n",
       "</table>\n",
       "</div>"
      ],
      "text/plain": [
       "                                    type        price     oldrate      depth  \\\n",
       "0                          Bar furniture   679.553191  464.132590  50.097533   \n",
       "1                                   Beds  1647.432692  455.623001  65.295194   \n",
       "2             Bookcases & shelving units   519.416058  449.743674  39.948949   \n",
       "3                   Cabinets & cupboards   789.015753  453.481018  40.674165   \n",
       "4                         Café furniture   553.884615  458.356288  49.213478   \n",
       "5                                 Chairs  1048.932640  438.297482  58.018665   \n",
       "6       Chests of drawers & drawer units   612.180000  457.428368  47.388134   \n",
       "7                   Children's furniture   272.758065  446.183948  46.906259   \n",
       "8                      Nursery furniture   393.659794  451.281951  46.698508   \n",
       "9                      Outdoor furniture   859.826852  441.582393  61.043846   \n",
       "10                         Room dividers   932.000000  468.160195  43.702893   \n",
       "11  Sideboards, buffets & console tables  1068.086957  473.789786  42.832070   \n",
       "12                     Sofas & armchairs  2004.016355  443.944126  82.412857   \n",
       "13                  TV & media furniture   659.050526  443.709023  42.319024   \n",
       "14                        Tables & desks  1129.395425  450.170116  54.049272   \n",
       "15                              Trolleys   678.517857  467.591383  52.900173   \n",
       "16                             Wardrobes  2162.141949  478.437113  55.526732   \n",
       "\n",
       "        height       width  \n",
       "0    98.620418   63.908692  \n",
       "1    87.464800  137.835719  \n",
       "2   125.407075  106.349211  \n",
       "3   110.918350   99.455311  \n",
       "4    84.143072   63.975164  \n",
       "5    86.702441   73.485070  \n",
       "6    78.858880   76.664000  \n",
       "7    81.271607   65.006654  \n",
       "8    87.080821   66.349314  \n",
       "9    85.804618   91.780560  \n",
       "10  127.569219  148.420835  \n",
       "11  110.043478  116.391304  \n",
       "12   85.515411  157.053697  \n",
       "13  100.321885  127.015530  \n",
       "14   82.062605   81.660468  \n",
       "15   87.131428   58.500000  \n",
       "16  204.857285  162.859675  "
      ]
     },
     "execution_count": 26,
     "metadata": {},
     "output_type": "execute_result"
    }
   ],
   "source": [
    "data2 = data.groupby('type')[data.select_dtypes(include='number').columns].mean()\n",
    "dff = data2.reset_index()\n",
    "dff"
   ]
  },
  {
   "cell_type": "markdown",
   "metadata": {
    "id": "ADycvohrFZ_m"
   },
   "source": [
    "df - DataFrame grouped by Product Category by Summing \n",
    "\n",
    "dff - DataFrame grouped by Product Category by Averaging"
   ]
  },
  {
   "cell_type": "markdown",
   "metadata": {
    "id": "_2xg7nnwFncp"
   },
   "source": [
    "# Exploratory Data Analysis and Visualization"
   ]
  },
  {
   "cell_type": "code",
   "execution_count": 27,
   "metadata": {
    "id": "0nw8l3hQFr0a"
   },
   "outputs": [],
   "source": [
    "import seaborn as sns\n",
    "import plotly.express as px\n",
    "import matplotlib\n",
    "import matplotlib.pyplot as plt"
   ]
  },
  {
   "cell_type": "code",
   "execution_count": 28,
   "metadata": {
    "id": "EVC_mfS9Ftzm"
   },
   "outputs": [],
   "source": [
    "data2 = data.groupby('type')[data.select_dtypes(include='number').columns].mean()\n",
    "dff = data2.reset_index()"
   ]
  },
  {
   "cell_type": "code",
   "execution_count": 29,
   "metadata": {
    "id": "oh35wpvaFvxp"
   },
   "outputs": [],
   "source": [
    "data1 = data.groupby(data['type']).sum()\n",
    "df = data1.reset_index()"
   ]
  },
  {
   "cell_type": "markdown",
   "metadata": {
    "id": "Wf4PHrnyFytu"
   },
   "source": [
    "# Understanding the dataset through graphs"
   ]
  },
  {
   "cell_type": "code",
   "execution_count": 70,
   "metadata": {
    "colab": {
     "base_uri": "https://localhost:8080/",
     "height": 536
    },
    "id": "rbbFYgNMF2Be",
    "outputId": "fdf661a6-4228-4301-9993-c8ba3713ffad"
   },
   "outputs": [
    {
     "data": {
      "image/png": "[encoded data removed]",
      "text/plain": [
       "<Figure size 2500x900 with 1 Axes>"
      ]
     },
     "metadata": {},
     "output_type": "display_data"
    }
   ],
   "source": [
    "x = dff.price\n",
    "fig, ax = plt.subplots(figsize=(25, 9))\n",
    "\n",
    "explode = [0,0.1,0,0,0,0,0,0,0,0,0,0,0.2,0,0,0,0.2]\n",
    "colors = ['slategrey', 'lightblue','deeppink', 'salmon', 'mediumorchid', 'turquoise','darkorange','khaki', 'palegreen','darkkhaki','cyan','plum','thistle','cadetblue','pink','olive','yellow']\n",
    "\n",
    "ax.pie(x, labels=dff.type, autopct='%.0f%%',explode = explode, colors = colors)\n",
    "ax.set_title(\"IKEA's Product Range wise Average Purchase Price\")\n",
    "\n",
    "plt.show();"
   ]
  },
  {
   "cell_type": "markdown",
   "metadata": {
    "id": "is0KCulFF66K"
   },
   "source": [
    "* IKEA's Wardrobes, Sofas & Armchairs, Beds are a bit expensive when compared to other poducts in their furniture range, these products can contribute well to the revenue as their purchase price is high. \n",
    "* The Average Purchase Price of IKEA's Nursery furniture, Children's furniture, Cafe furniture, Books & Shelving units are very inexpensive and affordable."
   ]
  },
  {
   "cell_type": "code",
   "execution_count": 31,
   "metadata": {
    "colab": {
     "base_uri": "https://localhost:8080/",
     "height": 662
    },
    "id": "noT5SMZsF9iW",
    "outputId": "e7a985cc-f80c-4a98-b1d8-c25a06b29bd5"
   },
   "outputs": [
    {
     "data": {
      "image/png": "[encoded data removed]",
      "text/plain": [
       "<Figure size 2000x1100 with 9 Axes>"
      ]
     },
     "metadata": {},
     "output_type": "display_data"
    }
   ],
   "source": [
    "dff.hist(color = 'pink', alpha = 1, bins=12, layout = (3,3), figsize = (20,11));"
   ]
  },
  {
   "cell_type": "markdown",
   "metadata": {
    "id": "o5y4pXLqGJzE"
   },
   "source": [
    "# Analysis\n",
    "##### This graph is just to get a rough idea about the Series of this DataFrame.\n",
    "Later in the book, all the graphs are plotted in detail.\n",
    "\n",
    "#####    1,2. Present & Previous Purchase Prices\n",
    "* Current Average Purchase price of each product of IKEA's furniture nearly costs around 250 rupees - 1,250 rupees; \n",
    "\n",
    "while the Old Rates of the same product range costed around 440 rupees - 458 rupees and few others costed around.\n",
    "\n",
    "#####    3. Online Availability of Products\n",
    "* Products are available online but it is not clear as to how many in number are available online.\n",
    "\n",
    "#####    4. Color Options Availability\n",
    "* Color options for the furniture products are available.\n",
    "In-depth analysis is made later in this notebook for the color availability of the products.\n",
    "\n",
    "#####    5. Distance between the end and the beginning part of an object\n",
    "* Although the Average Depth of the products falls in range of 40-65, maximum number of products can be seen having depth at 40-45\n",
    "\n",
    "#####    6. Vertical Distance from the top to the object’s base\n",
    "* The Heights of the products are ranging between 80-120m, most of them falling in between 80-90m\n",
    "\n",
    "##### 7. Measure of the product side to side\n",
    "* Mean Width of the products ranged from 60 - 160,\n",
    "with highest number of products having a mean width of 60"
   ]
  },
  {
   "cell_type": "code",
   "execution_count": 32,
   "metadata": {},
   "outputs": [
    {
     "data": {
      "text/html": [
       "<div>\n",
       "<style scoped>\n",
       "    .dataframe tbody tr th:only-of-type {\n",
       "        vertical-align: middle;\n",
       "    }\n",
       "\n",
       "    .dataframe tbody tr th {\n",
       "        vertical-align: top;\n",
       "    }\n",
       "\n",
       "    .dataframe thead th {\n",
       "        text-align: right;\n",
       "    }\n",
       "</style>\n",
       "<table border=\"1\" class=\"dataframe\">\n",
       "  <thead>\n",
       "    <tr style=\"text-align: right;\">\n",
       "      <th></th>\n",
       "      <th>price</th>\n",
       "      <th>oldrate</th>\n",
       "      <th>is_online</th>\n",
       "      <th>color_options</th>\n",
       "      <th>depth</th>\n",
       "      <th>height</th>\n",
       "      <th>width</th>\n",
       "    </tr>\n",
       "    <tr>\n",
       "      <th>type</th>\n",
       "      <th></th>\n",
       "      <th></th>\n",
       "      <th></th>\n",
       "      <th></th>\n",
       "      <th></th>\n",
       "      <th></th>\n",
       "      <th></th>\n",
       "    </tr>\n",
       "  </thead>\n",
       "  <tbody>\n",
       "    <tr>\n",
       "      <th>Bar furniture</th>\n",
       "      <td>31939.0</td>\n",
       "      <td>21814.231746</td>\n",
       "      <td>44</td>\n",
       "      <td>NoNoNoYesNoNoNoNoNoNoNoNoNoNoNoNoNoYesNoNoNoNo...</td>\n",
       "      <td>2354.584043</td>\n",
       "      <td>4635.159645</td>\n",
       "      <td>3003.708535</td>\n",
       "    </tr>\n",
       "    <tr>\n",
       "      <th>Beds</th>\n",
       "      <td>342666.0</td>\n",
       "      <td>94769.584127</td>\n",
       "      <td>205</td>\n",
       "      <td>NoNoNoNoNoNoYesNoYesNoYesYesNoYesNoYesYesYesNo...</td>\n",
       "      <td>13581.400269</td>\n",
       "      <td>18192.678492</td>\n",
       "      <td>28669.829630</td>\n",
       "    </tr>\n",
       "    <tr>\n",
       "      <th>Bookcases &amp; shelving units</th>\n",
       "      <td>284640.0</td>\n",
       "      <td>246459.533333</td>\n",
       "      <td>547</td>\n",
       "      <td>NoNoNoNoNoNoNoYesYesNoYesNoNoYesNoNoNoNoYesYes...</td>\n",
       "      <td>21892.024204</td>\n",
       "      <td>68723.076866</td>\n",
       "      <td>58279.367794</td>\n",
       "    </tr>\n",
       "    <tr>\n",
       "      <th>Cabinets &amp; cupboards</th>\n",
       "      <td>230392.6</td>\n",
       "      <td>132416.457143</td>\n",
       "      <td>291</td>\n",
       "      <td>NoYesNoYesYesYesYesNoNoYesYesYesNoYesYesNoYesY...</td>\n",
       "      <td>11876.856118</td>\n",
       "      <td>32388.158167</td>\n",
       "      <td>29040.950725</td>\n",
       "    </tr>\n",
       "    <tr>\n",
       "      <th>Café furniture</th>\n",
       "      <td>14401.0</td>\n",
       "      <td>11917.263492</td>\n",
       "      <td>26</td>\n",
       "      <td>NoNoNoNoYesNoNoYesNoNoNoNoNoNoYesNoYesNoNoNoNo...</td>\n",
       "      <td>1279.550426</td>\n",
       "      <td>2187.719882</td>\n",
       "      <td>1663.354267</td>\n",
       "    </tr>\n",
       "    <tr>\n",
       "      <th>Chairs</th>\n",
       "      <td>504536.6</td>\n",
       "      <td>210821.088889</td>\n",
       "      <td>477</td>\n",
       "      <td>NoNoYesYesNoYesNoNoNoYesNoYesYesNoNoYesYesNoNo...</td>\n",
       "      <td>27906.978037</td>\n",
       "      <td>41703.874353</td>\n",
       "      <td>35346.318519</td>\n",
       "    </tr>\n",
       "    <tr>\n",
       "      <th>Chests of drawers &amp; drawer units</th>\n",
       "      <td>76522.5</td>\n",
       "      <td>57178.546032</td>\n",
       "      <td>125</td>\n",
       "      <td>NoYesYesNoNoYesNoYesYesNoYesYesNoYesNoNoYesNoN...</td>\n",
       "      <td>5923.516809</td>\n",
       "      <td>9857.359941</td>\n",
       "      <td>9583.000000</td>\n",
       "    </tr>\n",
       "    <tr>\n",
       "      <th>Children's furniture</th>\n",
       "      <td>33822.0</td>\n",
       "      <td>55326.809524</td>\n",
       "      <td>119</td>\n",
       "      <td>NoNoYesNoNoNoNoNoNoNoNoNoNoYesNoNoNoNoYesNoNoN...</td>\n",
       "      <td>5816.376065</td>\n",
       "      <td>10077.679231</td>\n",
       "      <td>8060.825121</td>\n",
       "    </tr>\n",
       "    <tr>\n",
       "      <th>Nursery furniture</th>\n",
       "      <td>38185.0</td>\n",
       "      <td>43774.349206</td>\n",
       "      <td>93</td>\n",
       "      <td>NoNoNoNoNoNoNoNoNoNoNoNoNoNoNoYesNoNoNoNoYesNo...</td>\n",
       "      <td>4529.755267</td>\n",
       "      <td>8446.839616</td>\n",
       "      <td>6435.883414</td>\n",
       "    </tr>\n",
       "    <tr>\n",
       "      <th>Outdoor furniture</th>\n",
       "      <td>185722.6</td>\n",
       "      <td>95381.796825</td>\n",
       "      <td>216</td>\n",
       "      <td>YesNoYesNoNoNoYesNoNoNoYesNoNoNoYesYesNoYesNoN...</td>\n",
       "      <td>13185.470641</td>\n",
       "      <td>18533.797487</td>\n",
       "      <td>19824.600966</td>\n",
       "    </tr>\n",
       "    <tr>\n",
       "      <th>Room dividers</th>\n",
       "      <td>12116.0</td>\n",
       "      <td>6086.082540</td>\n",
       "      <td>13</td>\n",
       "      <td>YesYesNoYesNoNoYesYesNoYesYesNoYes</td>\n",
       "      <td>568.137606</td>\n",
       "      <td>1658.399852</td>\n",
       "      <td>1929.470853</td>\n",
       "    </tr>\n",
       "    <tr>\n",
       "      <th>Sideboards, buffets &amp; console tables</th>\n",
       "      <td>24566.0</td>\n",
       "      <td>10897.165079</td>\n",
       "      <td>23</td>\n",
       "      <td>YesNoYesNoNoNoYesYesNoYesYesYesNoYesYesYesYesY...</td>\n",
       "      <td>985.137606</td>\n",
       "      <td>2531.000000</td>\n",
       "      <td>2677.000000</td>\n",
       "    </tr>\n",
       "    <tr>\n",
       "      <th>Sofas &amp; armchairs</th>\n",
       "      <td>857719.0</td>\n",
       "      <td>190008.085714</td>\n",
       "      <td>427</td>\n",
       "      <td>YesYesYesYesYesYesYesNoYesYesYesYesYesYesYesNo...</td>\n",
       "      <td>35272.702824</td>\n",
       "      <td>36600.595713</td>\n",
       "      <td>67218.982287</td>\n",
       "    </tr>\n",
       "    <tr>\n",
       "      <th>TV &amp; media furniture</th>\n",
       "      <td>125219.6</td>\n",
       "      <td>84304.714286</td>\n",
       "      <td>189</td>\n",
       "      <td>YesNoNoYesYesYesYesYesNoNoNoNoYesNoYesYesYesYe...</td>\n",
       "      <td>8040.614523</td>\n",
       "      <td>19061.158167</td>\n",
       "      <td>24132.950725</td>\n",
       "    </tr>\n",
       "    <tr>\n",
       "      <th>Tables &amp; desks</th>\n",
       "      <td>691190.0</td>\n",
       "      <td>275504.111111</td>\n",
       "      <td>608</td>\n",
       "      <td>NoNoYesNoYesNoYesYesYesYesYesYesYesNoNoNoYesNo...</td>\n",
       "      <td>33078.154639</td>\n",
       "      <td>50222.314117</td>\n",
       "      <td>49976.206441</td>\n",
       "    </tr>\n",
       "    <tr>\n",
       "      <th>Trolleys</th>\n",
       "      <td>18998.5</td>\n",
       "      <td>13092.558730</td>\n",
       "      <td>27</td>\n",
       "      <td>YesYesNoNoNoNoNoNoNoNoNoNoNoNoNoNoNoNoNoNoNoNo...</td>\n",
       "      <td>1481.204841</td>\n",
       "      <td>2439.679970</td>\n",
       "      <td>1638.000000</td>\n",
       "    </tr>\n",
       "    <tr>\n",
       "      <th>Wardrobes</th>\n",
       "      <td>510265.5</td>\n",
       "      <td>112911.158730</td>\n",
       "      <td>236</td>\n",
       "      <td>NoYesNoYesNoNoNoNoNoNoNoYesNoYesYesYesNoYesYes...</td>\n",
       "      <td>13104.308830</td>\n",
       "      <td>48346.319290</td>\n",
       "      <td>38434.883414</td>\n",
       "    </tr>\n",
       "  </tbody>\n",
       "</table>\n",
       "</div>"
      ],
      "text/plain": [
       "                                         price        oldrate  is_online  \\\n",
       "type                                                                       \n",
       "Bar furniture                          31939.0   21814.231746         44   \n",
       "Beds                                  342666.0   94769.584127        205   \n",
       "Bookcases & shelving units            284640.0  246459.533333        547   \n",
       "Cabinets & cupboards                  230392.6  132416.457143        291   \n",
       "Café furniture                         14401.0   11917.263492         26   \n",
       "Chairs                                504536.6  210821.088889        477   \n",
       "Chests of drawers & drawer units       76522.5   57178.546032        125   \n",
       "Children's furniture                   33822.0   55326.809524        119   \n",
       "Nursery furniture                      38185.0   43774.349206         93   \n",
       "Outdoor furniture                     185722.6   95381.796825        216   \n",
       "Room dividers                          12116.0    6086.082540         13   \n",
       "Sideboards, buffets & console tables   24566.0   10897.165079         23   \n",
       "Sofas & armchairs                     857719.0  190008.085714        427   \n",
       "TV & media furniture                  125219.6   84304.714286        189   \n",
       "Tables & desks                        691190.0  275504.111111        608   \n",
       "Trolleys                               18998.5   13092.558730         27   \n",
       "Wardrobes                             510265.5  112911.158730        236   \n",
       "\n",
       "                                                                          color_options  \\\n",
       "type                                                                                      \n",
       "Bar furniture                         NoNoNoYesNoNoNoNoNoNoNoNoNoNoNoNoNoYesNoNoNoNo...   \n",
       "Beds                                  NoNoNoNoNoNoYesNoYesNoYesYesNoYesNoYesYesYesNo...   \n",
       "Bookcases & shelving units            NoNoNoNoNoNoNoYesYesNoYesNoNoYesNoNoNoNoYesYes...   \n",
       "Cabinets & cupboards                  NoYesNoYesYesYesYesNoNoYesYesYesNoYesYesNoYesY...   \n",
       "Café furniture                        NoNoNoNoYesNoNoYesNoNoNoNoNoNoYesNoYesNoNoNoNo...   \n",
       "Chairs                                NoNoYesYesNoYesNoNoNoYesNoYesYesNoNoYesYesNoNo...   \n",
       "Chests of drawers & drawer units      NoYesYesNoNoYesNoYesYesNoYesYesNoYesNoNoYesNoN...   \n",
       "Children's furniture                  NoNoYesNoNoNoNoNoNoNoNoNoNoYesNoNoNoNoYesNoNoN...   \n",
       "Nursery furniture                     NoNoNoNoNoNoNoNoNoNoNoNoNoNoNoYesNoNoNoNoYesNo...   \n",
       "Outdoor furniture                     YesNoYesNoNoNoYesNoNoNoYesNoNoNoYesYesNoYesNoN...   \n",
       "Room dividers                                        YesYesNoYesNoNoYesYesNoYesYesNoYes   \n",
       "Sideboards, buffets & console tables  YesNoYesNoNoNoYesYesNoYesYesYesNoYesYesYesYesY...   \n",
       "Sofas & armchairs                     YesYesYesYesYesYesYesNoYesYesYesYesYesYesYesNo...   \n",
       "TV & media furniture                  YesNoNoYesYesYesYesYesNoNoNoNoYesNoYesYesYesYe...   \n",
       "Tables & desks                        NoNoYesNoYesNoYesYesYesYesYesYesYesNoNoNoYesNo...   \n",
       "Trolleys                              YesYesNoNoNoNoNoNoNoNoNoNoNoNoNoNoNoNoNoNoNoNo...   \n",
       "Wardrobes                             NoYesNoYesNoNoNoNoNoNoNoYesNoYesYesYesNoYesYes...   \n",
       "\n",
       "                                             depth        height         width  \n",
       "type                                                                            \n",
       "Bar furniture                          2354.584043   4635.159645   3003.708535  \n",
       "Beds                                  13581.400269  18192.678492  28669.829630  \n",
       "Bookcases & shelving units            21892.024204  68723.076866  58279.367794  \n",
       "Cabinets & cupboards                  11876.856118  32388.158167  29040.950725  \n",
       "Café furniture                         1279.550426   2187.719882   1663.354267  \n",
       "Chairs                                27906.978037  41703.874353  35346.318519  \n",
       "Chests of drawers & drawer units       5923.516809   9857.359941   9583.000000  \n",
       "Children's furniture                   5816.376065  10077.679231   8060.825121  \n",
       "Nursery furniture                      4529.755267   8446.839616   6435.883414  \n",
       "Outdoor furniture                     13185.470641  18533.797487  19824.600966  \n",
       "Room dividers                           568.137606   1658.399852   1929.470853  \n",
       "Sideboards, buffets & console tables    985.137606   2531.000000   2677.000000  \n",
       "Sofas & armchairs                     35272.702824  36600.595713  67218.982287  \n",
       "TV & media furniture                   8040.614523  19061.158167  24132.950725  \n",
       "Tables & desks                        33078.154639  50222.314117  49976.206441  \n",
       "Trolleys                               1481.204841   2439.679970   1638.000000  \n",
       "Wardrobes                             13104.308830  48346.319290  38434.883414  "
      ]
     },
     "execution_count": 32,
     "metadata": {},
     "output_type": "execute_result"
    }
   ],
   "source": [
    "data1"
   ]
  },
  {
   "cell_type": "code",
   "execution_count": 78,
   "metadata": {
    "colab": {
     "base_uri": "https://localhost:8080/",
     "height": 408
    },
    "id": "KlOyjZa3GXck",
    "outputId": "3112de17-dc8e-4896-f188-7396cbbbff99"
   },
   "outputs": [
    {
     "data": {
      "image/png": "[encoded data removed]",
      "text/plain": [
       "<Figure size 2200x800 with 1 Axes>"
      ]
     },
     "metadata": {},
     "output_type": "display_data"
    }
   ],
   "source": [
    "#fig, ax = plt.subplots()\n",
    "#ax.stem(df.type, df.is_online, use_line_collection=True)\n",
    "(markers, stemlines, baseline) = plt.stem(df.type, df.is_online)\n",
    "df_grouped = df.groupby('type')['is_online'].sum().reset_index()\n",
    "plt.bar(df_grouped['type'], df_grouped['is_online'], color='skyblue')\n",
    "plt.title(\"# IKEA Products Online\")\n",
    "plt.xticks(rotation=45)\n",
    "plt.ylabel(\"Online Count\")\n",
    "plt.show()\n",
    "\n"
   ]
  },
  {
   "cell_type": "markdown",
   "metadata": {
    "id": "QiNZa4J2Gfpq"
   },
   "source": [
    "- Among vast range of product categories that IKEA has, only a few products from each category are available online \n",
    "- As the graph suggests, only between 0-600 products of different categories are available online out of which products belonging to Booking cases and shelving units, Tables & desks category are available online more in number(490-610 units) than others\n",
    "- Room Dividers, Cafe Furniture, Slideboards, Buffets & console tables are available very less in number"
   ]
  },
  {
   "cell_type": "code",
   "execution_count": 34,
   "metadata": {
    "colab": {
     "base_uri": "https://localhost:8080/",
     "height": 582
    },
    "id": "VewFyg9aG6aU",
    "outputId": "c1b20e76-f29a-427e-82c3-16bd1d2e6f4d"
   },
   "outputs": [
    {
     "data": {
      "text/html": [
       "<div>\n",
       "<style scoped>\n",
       "    .dataframe tbody tr th:only-of-type {\n",
       "        vertical-align: middle;\n",
       "    }\n",
       "\n",
       "    .dataframe tbody tr th {\n",
       "        vertical-align: top;\n",
       "    }\n",
       "\n",
       "    .dataframe thead th {\n",
       "        text-align: right;\n",
       "    }\n",
       "</style>\n",
       "<table border=\"1\" class=\"dataframe\">\n",
       "  <thead>\n",
       "    <tr style=\"text-align: right;\">\n",
       "      <th></th>\n",
       "      <th>type</th>\n",
       "      <th>price</th>\n",
       "      <th>oldrate</th>\n",
       "      <th>depth</th>\n",
       "      <th>height</th>\n",
       "      <th>width</th>\n",
       "    </tr>\n",
       "  </thead>\n",
       "  <tbody>\n",
       "    <tr>\n",
       "      <th>0</th>\n",
       "      <td>Bar furniture</td>\n",
       "      <td>679.55</td>\n",
       "      <td>464.13</td>\n",
       "      <td>50.10</td>\n",
       "      <td>98.62</td>\n",
       "      <td>63.91</td>\n",
       "    </tr>\n",
       "    <tr>\n",
       "      <th>1</th>\n",
       "      <td>Beds</td>\n",
       "      <td>1647.43</td>\n",
       "      <td>455.62</td>\n",
       "      <td>65.30</td>\n",
       "      <td>87.46</td>\n",
       "      <td>137.84</td>\n",
       "    </tr>\n",
       "    <tr>\n",
       "      <th>2</th>\n",
       "      <td>Bookcases &amp; shelving units</td>\n",
       "      <td>519.42</td>\n",
       "      <td>449.74</td>\n",
       "      <td>39.95</td>\n",
       "      <td>125.41</td>\n",
       "      <td>106.35</td>\n",
       "    </tr>\n",
       "    <tr>\n",
       "      <th>3</th>\n",
       "      <td>Cabinets &amp; cupboards</td>\n",
       "      <td>789.02</td>\n",
       "      <td>453.48</td>\n",
       "      <td>40.67</td>\n",
       "      <td>110.92</td>\n",
       "      <td>99.46</td>\n",
       "    </tr>\n",
       "    <tr>\n",
       "      <th>4</th>\n",
       "      <td>Café furniture</td>\n",
       "      <td>553.88</td>\n",
       "      <td>458.36</td>\n",
       "      <td>49.21</td>\n",
       "      <td>84.14</td>\n",
       "      <td>63.98</td>\n",
       "    </tr>\n",
       "    <tr>\n",
       "      <th>5</th>\n",
       "      <td>Chairs</td>\n",
       "      <td>1048.93</td>\n",
       "      <td>438.30</td>\n",
       "      <td>58.02</td>\n",
       "      <td>86.70</td>\n",
       "      <td>73.49</td>\n",
       "    </tr>\n",
       "    <tr>\n",
       "      <th>6</th>\n",
       "      <td>Chests of drawers &amp; drawer units</td>\n",
       "      <td>612.18</td>\n",
       "      <td>457.43</td>\n",
       "      <td>47.39</td>\n",
       "      <td>78.86</td>\n",
       "      <td>76.66</td>\n",
       "    </tr>\n",
       "    <tr>\n",
       "      <th>7</th>\n",
       "      <td>Children's furniture</td>\n",
       "      <td>272.76</td>\n",
       "      <td>446.18</td>\n",
       "      <td>46.91</td>\n",
       "      <td>81.27</td>\n",
       "      <td>65.01</td>\n",
       "    </tr>\n",
       "    <tr>\n",
       "      <th>8</th>\n",
       "      <td>Nursery furniture</td>\n",
       "      <td>393.66</td>\n",
       "      <td>451.28</td>\n",
       "      <td>46.70</td>\n",
       "      <td>87.08</td>\n",
       "      <td>66.35</td>\n",
       "    </tr>\n",
       "    <tr>\n",
       "      <th>9</th>\n",
       "      <td>Outdoor furniture</td>\n",
       "      <td>859.83</td>\n",
       "      <td>441.58</td>\n",
       "      <td>61.04</td>\n",
       "      <td>85.80</td>\n",
       "      <td>91.78</td>\n",
       "    </tr>\n",
       "    <tr>\n",
       "      <th>10</th>\n",
       "      <td>Room dividers</td>\n",
       "      <td>932.00</td>\n",
       "      <td>468.16</td>\n",
       "      <td>43.70</td>\n",
       "      <td>127.57</td>\n",
       "      <td>148.42</td>\n",
       "    </tr>\n",
       "    <tr>\n",
       "      <th>11</th>\n",
       "      <td>Sideboards, buffets &amp; console tables</td>\n",
       "      <td>1068.09</td>\n",
       "      <td>473.79</td>\n",
       "      <td>42.83</td>\n",
       "      <td>110.04</td>\n",
       "      <td>116.39</td>\n",
       "    </tr>\n",
       "    <tr>\n",
       "      <th>12</th>\n",
       "      <td>Sofas &amp; armchairs</td>\n",
       "      <td>2004.02</td>\n",
       "      <td>443.94</td>\n",
       "      <td>82.41</td>\n",
       "      <td>85.52</td>\n",
       "      <td>157.05</td>\n",
       "    </tr>\n",
       "    <tr>\n",
       "      <th>13</th>\n",
       "      <td>TV &amp; media furniture</td>\n",
       "      <td>659.05</td>\n",
       "      <td>443.71</td>\n",
       "      <td>42.32</td>\n",
       "      <td>100.32</td>\n",
       "      <td>127.02</td>\n",
       "    </tr>\n",
       "    <tr>\n",
       "      <th>14</th>\n",
       "      <td>Tables &amp; desks</td>\n",
       "      <td>1129.40</td>\n",
       "      <td>450.17</td>\n",
       "      <td>54.05</td>\n",
       "      <td>82.06</td>\n",
       "      <td>81.66</td>\n",
       "    </tr>\n",
       "    <tr>\n",
       "      <th>15</th>\n",
       "      <td>Trolleys</td>\n",
       "      <td>678.52</td>\n",
       "      <td>467.59</td>\n",
       "      <td>52.90</td>\n",
       "      <td>87.13</td>\n",
       "      <td>58.50</td>\n",
       "    </tr>\n",
       "    <tr>\n",
       "      <th>16</th>\n",
       "      <td>Wardrobes</td>\n",
       "      <td>2162.14</td>\n",
       "      <td>478.44</td>\n",
       "      <td>55.53</td>\n",
       "      <td>204.86</td>\n",
       "      <td>162.86</td>\n",
       "    </tr>\n",
       "  </tbody>\n",
       "</table>\n",
       "</div>"
      ],
      "text/plain": [
       "                                    type    price  oldrate  depth  height  \\\n",
       "0                          Bar furniture   679.55   464.13  50.10   98.62   \n",
       "1                                   Beds  1647.43   455.62  65.30   87.46   \n",
       "2             Bookcases & shelving units   519.42   449.74  39.95  125.41   \n",
       "3                   Cabinets & cupboards   789.02   453.48  40.67  110.92   \n",
       "4                         Café furniture   553.88   458.36  49.21   84.14   \n",
       "5                                 Chairs  1048.93   438.30  58.02   86.70   \n",
       "6       Chests of drawers & drawer units   612.18   457.43  47.39   78.86   \n",
       "7                   Children's furniture   272.76   446.18  46.91   81.27   \n",
       "8                      Nursery furniture   393.66   451.28  46.70   87.08   \n",
       "9                      Outdoor furniture   859.83   441.58  61.04   85.80   \n",
       "10                         Room dividers   932.00   468.16  43.70  127.57   \n",
       "11  Sideboards, buffets & console tables  1068.09   473.79  42.83  110.04   \n",
       "12                     Sofas & armchairs  2004.02   443.94  82.41   85.52   \n",
       "13                  TV & media furniture   659.05   443.71  42.32  100.32   \n",
       "14                        Tables & desks  1129.40   450.17  54.05   82.06   \n",
       "15                              Trolleys   678.52   467.59  52.90   87.13   \n",
       "16                             Wardrobes  2162.14   478.44  55.53  204.86   \n",
       "\n",
       "     width  \n",
       "0    63.91  \n",
       "1   137.84  \n",
       "2   106.35  \n",
       "3    99.46  \n",
       "4    63.98  \n",
       "5    73.49  \n",
       "6    76.66  \n",
       "7    65.01  \n",
       "8    66.35  \n",
       "9    91.78  \n",
       "10  148.42  \n",
       "11  116.39  \n",
       "12  157.05  \n",
       "13  127.02  \n",
       "14   81.66  \n",
       "15   58.50  \n",
       "16  162.86  "
      ]
     },
     "execution_count": 34,
     "metadata": {},
     "output_type": "execute_result"
    }
   ],
   "source": [
    "num_cols = ['oldrate', 'height', 'width', 'price', 'depth']\n",
    "dff[num_cols] = dff[num_cols].round(2)\n",
    "# dff.oldrate = dff.oldrate.round(2)\n",
    "# dff.height = dff.height.round(2)\n",
    "# dff.width = dff.width.round(2) \n",
    "# dff.price = dff.price.round(2)\n",
    "# dff.depth = dff.depth.round(2)\n",
    "dff"
   ]
  },
  {
   "cell_type": "code",
   "execution_count": 79,
   "metadata": {
    "colab": {
     "base_uri": "https://localhost:8080/",
     "height": 542
    },
    "id": "F7LX4udBG9_g",
    "outputId": "62daa125-0910-4d3d-cc6c-839e909f850a"
   },
   "outputs": [
    {
     "data": {
      "application/vnd.plotly.v1+json": {
       "config": {
        "plotlyServerURL": "https://plot.ly"
       },
       "data": [
        {
         "alignmentgroup": "True",
         "hovertemplate": "Price Type=oldrate<br>type=%{x}<br>Price=%{text}<extra></extra>",
         "legendgroup": "oldrate",
         "marker": {
          "color": "#636efa",
          "pattern": {
           "shape": ""
          }
         },
         "name": "oldrate",
         "offsetgroup": "oldrate",
         "orientation": "v",
         "showlegend": true,
         "text": {
          "bdata": "rkfhehQCfUBSuB6F63l8QKRwPQrXG3xASOF6FK5XfED2KFyPwqV8QM3MzMzMZHtAexSuR+GWfEB7FK5H4eJ7QBSuR+F6NHxA4XoUrkeZe0DD9Shcj0J9QHE9CtejnH1A16NwPQq/e0CPwvUoXLt7QB+F61G4InxAPQrXo3A5fUDXo3A9Cud9QA==",
          "dtype": "f8"
         },
         "textposition": "auto",
         "type": "bar",
         "x": [
          "Bar furniture",
          "Beds",
          "Bookcases & shelving units",
          "Cabinets & cupboards",
          "Café furniture",
          "Chairs",
          "Chests of drawers & drawer units",
          "Children's furniture",
          "Nursery furniture",
          "Outdoor furniture",
          "Room dividers",
          "Sideboards, buffets & console tables",
          "Sofas & armchairs",
          "TV & media furniture",
          "Tables & desks",
          "Trolleys",
          "Wardrobes"
         ],
         "xaxis": "x",
         "y": {
          "bdata": "rkfhehQCfUBSuB6F63l8QKRwPQrXG3xASOF6FK5XfED2KFyPwqV8QM3MzMzMZHtAexSuR+GWfEB7FK5H4eJ7QBSuR+F6NHxA4XoUrkeZe0DD9Shcj0J9QHE9CtejnH1A16NwPQq/e0CPwvUoXLt7QB+F61G4InxAPQrXo3A5fUDXo3A9Cud9QA==",
          "dtype": "f8"
         },
         "yaxis": "y"
        },
        {
         "alignmentgroup": "True",
         "hovertemplate": "Price Type=price<br>type=%{x}<br>Price=%{text}<extra></extra>",
         "legendgroup": "price",
         "marker": {
          "color": "#EF553B",
          "pattern": {
           "shape": ""
          }
         },
         "name": "price",
         "offsetgroup": "price",
         "orientation": "v",
         "showlegend": true,
         "text": {
          "bdata": "ZmZmZmY8hUAfhetRuL2ZQI/C9ShcO4BAXI/C9SioiEDXo3A9Ck+BQB+F61G4Y5BAPQrXo3Ahg0Bcj8L1KAxxQMP1KFyPmnhAcT0K16PeikAAAAAAACCNQI/C9ShcsJBArkfhehRQn0BmZmZmZpiEQJqZmZmZpZFAXI/C9Sg0hUDhehSuR+SgQA==",
          "dtype": "f8"
         },
         "textposition": "auto",
         "type": "bar",
         "x": [
          "Bar furniture",
          "Beds",
          "Bookcases & shelving units",
          "Cabinets & cupboards",
          "Café furniture",
          "Chairs",
          "Chests of drawers & drawer units",
          "Children's furniture",
          "Nursery furniture",
          "Outdoor furniture",
          "Room dividers",
          "Sideboards, buffets & console tables",
          "Sofas & armchairs",
          "TV & media furniture",
          "Tables & desks",
          "Trolleys",
          "Wardrobes"
         ],
         "xaxis": "x",
         "y": {
          "bdata": "ZmZmZmY8hUAfhetRuL2ZQI/C9ShcO4BAXI/C9SioiEDXo3A9Ck+BQB+F61G4Y5BAPQrXo3Ahg0Bcj8L1KAxxQMP1KFyPmnhAcT0K16PeikAAAAAAACCNQI/C9ShcsJBArkfhehRQn0BmZmZmZpiEQJqZmZmZpZFAXI/C9Sg0hUDhehSuR+SgQA==",
          "dtype": "f8"
         },
         "yaxis": "y"
        }
       ],
       "layout": {
        "barmode": "group",
        "legend": {
         "title": {
          "text": "Price Type"
         },
         "tracegroupgap": 0
        },
        "template": {
         "data": {
          "bar": [
           {
            "error_x": {
             "color": "#2a3f5f"
            },
            "error_y": {
             "color": "#2a3f5f"
            },
            "marker": {
             "line": {
              "color": "#E5ECF6",
              "width": 0.5
             },
             "pattern": {
              "fillmode": "overlay",
              "size": 10,
              "solidity": 0.2
             }
            },
            "type": "bar"
           }
          ],
          "barpolar": [
           {
            "marker": {
             "line": {
              "color": "#E5ECF6",
              "width": 0.5
             },
             "pattern": {
              "fillmode": "overlay",
              "size": 10,
              "solidity": 0.2
             }
            },
            "type": "barpolar"
           }
          ],
          "carpet": [
           {
            "aaxis": {
             "endlinecolor": "#2a3f5f",
             "gridcolor": "white",
             "linecolor": "white",
             "minorgridcolor": "white",
             "startlinecolor": "#2a3f5f"
            },
            "baxis": {
             "endlinecolor": "#2a3f5f",
             "gridcolor": "white",
             "linecolor": "white",
             "minorgridcolor": "white",
             "startlinecolor": "#2a3f5f"
            },
            "type": "carpet"
           }
          ],
          "choropleth": [
           {
            "colorbar": {
             "outlinewidth": 0,
             "ticks": ""
            },
            "type": "choropleth"
           }
          ],
          "contour": [
           {
            "colorbar": {
             "outlinewidth": 0,
             "ticks": ""
            },
            "colorscale": [
             [
              0,
              "#0d0887"
             ],
             [
              0.1111111111111111,
              "#46039f"
             ],
             [
              0.2222222222222222,
              "#7201a8"
             ],
             [
              0.3333333333333333,
              "#9c179e"
             ],
             [
              0.4444444444444444,
              "#bd3786"
             ],
             [
              0.5555555555555556,
              "#d8576b"
             ],
             [
              0.6666666666666666,
              "#ed7953"
             ],
             [
              0.7777777777777778,
              "#fb9f3a"
             ],
             [
              0.8888888888888888,
              "#fdca26"
             ],
             [
              1,
              "#f0f921"
             ]
            ],
            "type": "contour"
           }
          ],
          "contourcarpet": [
           {
            "colorbar": {
             "outlinewidth": 0,
             "ticks": ""
            },
            "type": "contourcarpet"
           }
          ],
          "heatmap": [
           {
            "colorbar": {
             "outlinewidth": 0,
             "ticks": ""
            },
            "colorscale": [
             [
              0,
              "#0d0887"
             ],
             [
              0.1111111111111111,
              "#46039f"
             ],
             [
              0.2222222222222222,
              "#7201a8"
             ],
             [
              0.3333333333333333,
              "#9c179e"
             ],
             [
              0.4444444444444444,
              "#bd3786"
             ],
             [
              0.5555555555555556,
              "#d8576b"
             ],
             [
              0.6666666666666666,
              "#ed7953"
             ],
             [
              0.7777777777777778,
              "#fb9f3a"
             ],
             [
              0.8888888888888888,
              "#fdca26"
             ],
             [
              1,
              "#f0f921"
             ]
            ],
            "type": "heatmap"
           }
          ],
          "histogram": [
           {
            "marker": {
             "pattern": {
              "fillmode": "overlay",
              "size": 10,
              "solidity": 0.2
             }
            },
            "type": "histogram"
           }
          ],
          "histogram2d": [
           {
            "colorbar": {
             "outlinewidth": 0,
             "ticks": ""
            },
            "colorscale": [
             [
              0,
              "#0d0887"
             ],
             [
              0.1111111111111111,
              "#46039f"
             ],
             [
              0.2222222222222222,
              "#7201a8"
             ],
             [
              0.3333333333333333,
              "#9c179e"
             ],
             [
              0.4444444444444444,
              "#bd3786"
             ],
             [
              0.5555555555555556,
              "#d8576b"
             ],
             [
              0.6666666666666666,
              "#ed7953"
             ],
             [
              0.7777777777777778,
              "#fb9f3a"
             ],
             [
              0.8888888888888888,
              "#fdca26"
             ],
             [
              1,
              "#f0f921"
             ]
            ],
            "type": "histogram2d"
           }
          ],
          "histogram2dcontour": [
           {
            "colorbar": {
             "outlinewidth": 0,
             "ticks": ""
            },
            "colorscale": [
             [
              0,
              "#0d0887"
             ],
             [
              0.1111111111111111,
              "#46039f"
             ],
             [
              0.2222222222222222,
              "#7201a8"
             ],
             [
              0.3333333333333333,
              "#9c179e"
             ],
             [
              0.4444444444444444,
              "#bd3786"
             ],
             [
              0.5555555555555556,
              "#d8576b"
             ],
             [
              0.6666666666666666,
              "#ed7953"
             ],
             [
              0.7777777777777778,
              "#fb9f3a"
             ],
             [
              0.8888888888888888,
              "#fdca26"
             ],
             [
              1,
              "#f0f921"
             ]
            ],
            "type": "histogram2dcontour"
           }
          ],
          "mesh3d": [
           {
            "colorbar": {
             "outlinewidth": 0,
             "ticks": ""
            },
            "type": "mesh3d"
           }
          ],
          "parcoords": [
           {
            "line": {
             "colorbar": {
              "outlinewidth": 0,
              "ticks": ""
             }
            },
            "type": "parcoords"
           }
          ],
          "pie": [
           {
            "automargin": true,
            "type": "pie"
           }
          ],
          "scatter": [
           {
            "fillpattern": {
             "fillmode": "overlay",
             "size": 10,
             "solidity": 0.2
            },
            "type": "scatter"
           }
          ],
          "scatter3d": [
           {
            "line": {
             "colorbar": {
              "outlinewidth": 0,
              "ticks": ""
             }
            },
            "marker": {
             "colorbar": {
              "outlinewidth": 0,
              "ticks": ""
             }
            },
            "type": "scatter3d"
           }
          ],
          "scattercarpet": [
           {
            "marker": {
             "colorbar": {
              "outlinewidth": 0,
              "ticks": ""
             }
            },
            "type": "scattercarpet"
           }
          ],
          "scattergeo": [
           {
            "marker": {
             "colorbar": {
              "outlinewidth": 0,
              "ticks": ""
             }
            },
            "type": "scattergeo"
           }
          ],
          "scattergl": [
           {
            "marker": {
             "colorbar": {
              "outlinewidth": 0,
              "ticks": ""
             }
            },
            "type": "scattergl"
           }
          ],
          "scattermap": [
           {
            "marker": {
             "colorbar": {
              "outlinewidth": 0,
              "ticks": ""
             }
            },
            "type": "scattermap"
           }
          ],
          "scattermapbox": [
           {
            "marker": {
             "colorbar": {
              "outlinewidth": 0,
              "ticks": ""
             }
            },
            "type": "scattermapbox"
           }
          ],
          "scatterpolar": [
           {
            "marker": {
             "colorbar": {
              "outlinewidth": 0,
              "ticks": ""
             }
            },
            "type": "scatterpolar"
           }
          ],
          "scatterpolargl": [
           {
            "marker": {
             "colorbar": {
              "outlinewidth": 0,
              "ticks": ""
             }
            },
            "type": "scatterpolargl"
           }
          ],
          "scatterternary": [
           {
            "marker": {
             "colorbar": {
              "outlinewidth": 0,
              "ticks": ""
             }
            },
            "type": "scatterternary"
           }
          ],
          "surface": [
           {
            "colorbar": {
             "outlinewidth": 0,
             "ticks": ""
            },
            "colorscale": [
             [
              0,
              "#0d0887"
             ],
             [
              0.1111111111111111,
              "#46039f"
             ],
             [
              0.2222222222222222,
              "#7201a8"
             ],
             [
              0.3333333333333333,
              "#9c179e"
             ],
             [
              0.4444444444444444,
              "#bd3786"
             ],
             [
              0.5555555555555556,
              "#d8576b"
             ],
             [
              0.6666666666666666,
              "#ed7953"
             ],
             [
              0.7777777777777778,
              "#fb9f3a"
             ],
             [
              0.8888888888888888,
              "#fdca26"
             ],
             [
              1,
              "#f0f921"
             ]
            ],
            "type": "surface"
           }
          ],
          "table": [
           {
            "cells": {
             "fill": {
              "color": "#EBF0F8"
             },
             "line": {
              "color": "white"
             }
            },
            "header": {
             "fill": {
              "color": "#C8D4E3"
             },
             "line": {
              "color": "white"
             }
            },
            "type": "table"
           }
          ]
         },
         "layout": {
          "annotationdefaults": {
           "arrowcolor": "#2a3f5f",
           "arrowhead": 0,
           "arrowwidth": 1
          },
          "autotypenumbers": "strict",
          "coloraxis": {
           "colorbar": {
            "outlinewidth": 0,
            "ticks": ""
           }
          },
          "colorscale": {
           "diverging": [
            [
             0,
             "#8e0152"
            ],
            [
             0.1,
             "#c51b7d"
            ],
            [
             0.2,
             "#de77ae"
            ],
            [
             0.3,
             "#f1b6da"
            ],
            [
             0.4,
             "#fde0ef"
            ],
            [
             0.5,
             "#f7f7f7"
            ],
            [
             0.6,
             "#e6f5d0"
            ],
            [
             0.7,
             "#b8e186"
            ],
            [
             0.8,
             "#7fbc41"
            ],
            [
             0.9,
             "#4d9221"
            ],
            [
             1,
             "#276419"
            ]
           ],
           "sequential": [
            [
             0,
             "#0d0887"
            ],
            [
             0.1111111111111111,
             "#46039f"
            ],
            [
             0.2222222222222222,
             "#7201a8"
            ],
            [
             0.3333333333333333,
             "#9c179e"
            ],
            [
             0.4444444444444444,
             "#bd3786"
            ],
            [
             0.5555555555555556,
             "#d8576b"
            ],
            [
             0.6666666666666666,
             "#ed7953"
            ],
            [
             0.7777777777777778,
             "#fb9f3a"
            ],
            [
             0.8888888888888888,
             "#fdca26"
            ],
            [
             1,
             "#f0f921"
            ]
           ],
           "sequentialminus": [
            [
             0,
             "#0d0887"
            ],
            [
             0.1111111111111111,
             "#46039f"
            ],
            [
             0.2222222222222222,
             "#7201a8"
            ],
            [
             0.3333333333333333,
             "#9c179e"
            ],
            [
             0.4444444444444444,
             "#bd3786"
            ],
            [
             0.5555555555555556,
             "#d8576b"
            ],
            [
             0.6666666666666666,
             "#ed7953"
            ],
            [
             0.7777777777777778,
             "#fb9f3a"
            ],
            [
             0.8888888888888888,
             "#fdca26"
            ],
            [
             1,
             "#f0f921"
            ]
           ]
          },
          "colorway": [
           "#636efa",
           "#EF553B",
           "#00cc96",
           "#ab63fa",
           "#FFA15A",
           "#19d3f3",
           "#FF6692",
           "#B6E880",
           "#FF97FF",
           "#FECB52"
          ],
          "font": {
           "color": "#2a3f5f"
          },
          "geo": {
           "bgcolor": "white",
           "lakecolor": "white",
           "landcolor": "#E5ECF6",
           "showlakes": true,
           "showland": true,
           "subunitcolor": "white"
          },
          "hoverlabel": {
           "align": "left"
          },
          "hovermode": "closest",
          "mapbox": {
           "style": "light"
          },
          "paper_bgcolor": "white",
          "plot_bgcolor": "#E5ECF6",
          "polar": {
           "angularaxis": {
            "gridcolor": "white",
            "linecolor": "white",
            "ticks": ""
           },
           "bgcolor": "#E5ECF6",
           "radialaxis": {
            "gridcolor": "white",
            "linecolor": "white",
            "ticks": ""
           }
          },
          "scene": {
           "xaxis": {
            "backgroundcolor": "#E5ECF6",
            "gridcolor": "white",
            "gridwidth": 2,
            "linecolor": "white",
            "showbackground": true,
            "ticks": "",
            "zerolinecolor": "white"
           },
           "yaxis": {
            "backgroundcolor": "#E5ECF6",
            "gridcolor": "white",
            "gridwidth": 2,
            "linecolor": "white",
            "showbackground": true,
            "ticks": "",
            "zerolinecolor": "white"
           },
           "zaxis": {
            "backgroundcolor": "#E5ECF6",
            "gridcolor": "white",
            "gridwidth": 2,
            "linecolor": "white",
            "showbackground": true,
            "ticks": "",
            "zerolinecolor": "white"
           }
          },
          "shapedefaults": {
           "line": {
            "color": "#2a3f5f"
           }
          },
          "ternary": {
           "aaxis": {
            "gridcolor": "white",
            "linecolor": "white",
            "ticks": ""
           },
           "baxis": {
            "gridcolor": "white",
            "linecolor": "white",
            "ticks": ""
           },
           "bgcolor": "#E5ECF6",
           "caxis": {
            "gridcolor": "white",
            "linecolor": "white",
            "ticks": ""
           }
          },
          "title": {
           "x": 0.05
          },
          "xaxis": {
           "automargin": true,
           "gridcolor": "white",
           "linecolor": "white",
           "ticks": "",
           "title": {
            "standoff": 15
           },
           "zerolinecolor": "white",
           "zerolinewidth": 2
          },
          "yaxis": {
           "automargin": true,
           "gridcolor": "white",
           "linecolor": "white",
           "ticks": "",
           "title": {
            "standoff": 15
           },
           "zerolinecolor": "white",
           "zerolinewidth": 2
          }
         }
        },
        "title": {
         "text": "Comparing Old Purchase Price & Present Purchase Price"
        },
        "xaxis": {
         "anchor": "y",
         "domain": [
          0,
          1
         ],
         "title": {
          "text": "type"
         }
        },
        "yaxis": {
         "anchor": "x",
         "domain": [
          0,
          1
         ],
         "title": {
          "text": "Price"
         }
        }
       }
      },
      "image/png": "[encoded data removed]"
     },
     "metadata": {},
     "output_type": "display_data"
    }
   ],
   "source": [
    "# Melt the dataframe to have a 'Price Type' column\n",
    "df_melt = dff.melt(id_vars=['type'], value_vars=['oldrate', 'price'], \n",
    "                   var_name='Price Type', value_name='Price')\n",
    "\n",
    "fig = px.bar(\n",
    "    df_melt,\n",
    "    x='type',\n",
    "    y='Price',\n",
    "    color='Price Type',\n",
    "    barmode='group',\n",
    "    text='Price',\n",
    "    title='Comparing Old Purchase Price & Present Purchase Price'\n",
    ")\n",
    "\n",
    "fig.show()"
   ]
  },
  {
   "cell_type": "markdown",
   "metadata": {
    "id": "4EbBD6MpHCc9"
   },
   "source": [
    "* Average Present Purchase price per unit of Children's Furniture, Nursery Furniture has decreased in comparision with their previous/old prices\n",
    "\n",
    "* And for other furniture except Children's Furniture and Nursery Furniture the average purchase price per unit has increased especially for Wardrobes"
   ]
  },
  {
   "cell_type": "markdown",
   "metadata": {
    "id": "3MXOcWXhHON7"
   },
   "source": [
    "# Looking into the relationship between Product's Measurements and Its Price"
   ]
  },
  {
   "cell_type": "code",
   "execution_count": 36,
   "metadata": {
    "colab": {
     "base_uri": "https://localhost:8080/",
     "height": 295
    },
    "id": "iqdJ9MFAHRN0",
    "outputId": "4689f5bf-e27c-4984-db6f-c833e267878e"
   },
   "outputs": [
    {
     "data": {
      "image/png": "[encoded data removed]",
      "text/plain": [
       "<Figure size 1300x600 with 1 Axes>"
      ]
     },
     "metadata": {},
     "output_type": "display_data"
    }
   ],
   "source": [
    "sns.set(rc={'figure.figsize':(13,6)})  # Set figure size before plotting\n",
    "\n",
    "ax = sns.scatterplot(\n",
    "    data=dff,\n",
    "    x=\"price\",\n",
    "    y=\"type\",\n",
    "    hue=\"height\",\n",
    "    s=250  # marker size\n",
    ")\n",
    "\n",
    "ax.set_title(\"Relation between Product's Height and its Purchase Price\")\n",
    "plt.show()"
   ]
  },
  {
   "cell_type": "markdown",
   "metadata": {
    "id": "3lhee6dBHV_t"
   },
   "source": [
    "* As we can see from above, the average cost of Children's furniture 250 INR and the average height is 100cm \n",
    "* The tallest Furniture Item in IKEA is its Wardrobe which is 200cm i.e, approximately 6 foot tall and costs around 2,250 INR\n",
    "* It is hard to draw a line of best fit here, as there is very weak negative correlation or no correlation between a product's height and its price"
   ]
  },
  {
   "cell_type": "code",
   "execution_count": 80,
   "metadata": {
    "colab": {
     "base_uri": "https://localhost:8080/",
     "height": 542
    },
    "id": "O6yGSOmRHYrN",
    "outputId": "905a34ed-3db4-42ca-cc95-49b8085a2a77"
   },
   "outputs": [
    {
     "data": {
      "application/vnd.plotly.v1+json": {
       "config": {
        "plotlyServerURL": "https://plot.ly"
       },
       "data": [
        {
         "customdata": {
          "bdata": "SOF6FK6nWEDNzMzMzAxJQA==",
          "dtype": "f8",
          "shape": "1, 2"
         },
         "hovertemplate": "type=Bar furniture<br>price=%{marker.size}<br>width=%{y}<br>height=%{customdata[0]}<br>depth=%{customdata[1]}<extra></extra>",
         "legendgroup": "Bar furniture",
         "marker": {
          "color": "#636efa",
          "size": {
           "bdata": "ZmZmZmY8hUA=",
           "dtype": "f8"
          },
          "sizemode": "area",
          "sizeref": 5.405349999999999,
          "symbol": "circle"
         },
         "mode": "markers",
         "name": "Bar furniture",
         "orientation": "v",
         "showlegend": true,
         "type": "scatter",
         "x": {
          "bdata": "ZmZmZmY8hUA=",
          "dtype": "f8"
         },
         "xaxis": "x",
         "y": {
          "bdata": "FK5H4Xr0T0A=",
          "dtype": "f8"
         },
         "yaxis": "y"
        },
        {
         "customdata": {
          "bdata": "PQrXo3DdVUAzMzMzM1NQQA==",
          "dtype": "f8",
          "shape": "1, 2"
         },
         "hovertemplate": "type=Beds<br>price=%{marker.size}<br>width=%{y}<br>height=%{customdata[0]}<br>depth=%{customdata[1]}<extra></extra>",
         "legendgroup": "Beds",
         "marker": {
          "color": "#EF553B",
          "size": {
           "bdata": "H4XrUbi9mUA=",
           "dtype": "f8"
          },
          "sizemode": "area",
          "sizeref": 5.405349999999999,
          "symbol": "circle"
         },
         "mode": "markers",
         "name": "Beds",
         "orientation": "v",
         "showlegend": true,
         "type": "scatter",
         "x": {
          "bdata": "H4XrUbi9mUA=",
          "dtype": "f8"
         },
         "xaxis": "x",
         "y": {
          "bdata": "exSuR+E6YUA=",
          "dtype": "f8"
         },
         "yaxis": "y"
        },
        {
         "customdata": {
          "bdata": "CtejcD1aX0CamZmZmflDQA==",
          "dtype": "f8",
          "shape": "1, 2"
         },
         "hovertemplate": "type=Bookcases & shelving units<br>price=%{marker.size}<br>width=%{y}<br>height=%{customdata[0]}<br>depth=%{customdata[1]}<extra></extra>",
         "legendgroup": "Bookcases & shelving units",
         "marker": {
          "color": "#00cc96",
          "size": {
           "bdata": "j8L1KFw7gEA=",
           "dtype": "f8"
          },
          "sizemode": "area",
          "sizeref": 5.405349999999999,
          "symbol": "circle"
         },
         "mode": "markers",
         "name": "Bookcases & shelving units",
         "orientation": "v",
         "showlegend": true,
         "type": "scatter",
         "x": {
          "bdata": "j8L1KFw7gEA=",
          "dtype": "f8"
         },
         "xaxis": "x",
         "y": {
          "bdata": "ZmZmZmaWWkA=",
          "dtype": "f8"
         },
         "yaxis": "y"
        },
        {
         "customdata": {
          "bdata": "exSuR+G6W0D2KFyPwlVEQA==",
          "dtype": "f8",
          "shape": "1, 2"
         },
         "hovertemplate": "type=Cabinets & cupboards<br>price=%{marker.size}<br>width=%{y}<br>height=%{customdata[0]}<br>depth=%{customdata[1]}<extra></extra>",
         "legendgroup": "Cabinets & cupboards",
         "marker": {
          "color": "#ab63fa",
          "size": {
           "bdata": "XI/C9SioiEA=",
           "dtype": "f8"
          },
          "sizemode": "area",
          "sizeref": 5.405349999999999,
          "symbol": "circle"
         },
         "mode": "markers",
         "name": "Cabinets & cupboards",
         "orientation": "v",
         "showlegend": true,
         "type": "scatter",
         "x": {
          "bdata": "XI/C9SioiEA=",
          "dtype": "f8"
         },
         "xaxis": "x",
         "y": {
          "bdata": "PQrXo3DdWEA=",
          "dtype": "f8"
         },
         "yaxis": "y"
        },
        {
         "customdata": {
          "bdata": "KVyPwvUIVUB7FK5H4ZpIQA==",
          "dtype": "f8",
          "shape": "1, 2"
         },
         "hovertemplate": "type=Café furniture<br>price=%{marker.size}<br>width=%{y}<br>height=%{customdata[0]}<br>depth=%{customdata[1]}<extra></extra>",
         "legendgroup": "Café furniture",
         "marker": {
          "color": "#FFA15A",
          "size": {
           "bdata": "16NwPQpPgUA=",
           "dtype": "f8"
          },
          "sizemode": "area",
          "sizeref": 5.405349999999999,
          "symbol": "circle"
         },
         "mode": "markers",
         "name": "Café furniture",
         "orientation": "v",
         "showlegend": true,
         "type": "scatter",
         "x": {
          "bdata": "16NwPQpPgUA=",
          "dtype": "f8"
         },
         "xaxis": "x",
         "y": {
          "bdata": "PQrXo3D9T0A=",
          "dtype": "f8"
         },
         "yaxis": "y"
        },
        {
         "customdata": {
          "bdata": "zczMzMysVUDD9ShcjwJNQA==",
          "dtype": "f8",
          "shape": "1, 2"
         },
         "hovertemplate": "type=Chairs<br>price=%{marker.size}<br>width=%{y}<br>height=%{customdata[0]}<br>depth=%{customdata[1]}<extra></extra>",
         "legendgroup": "Chairs",
         "marker": {
          "color": "#19d3f3",
          "size": {
           "bdata": "H4XrUbhjkEA=",
           "dtype": "f8"
          },
          "sizemode": "area",
          "sizeref": 5.405349999999999,
          "symbol": "circle"
         },
         "mode": "markers",
         "name": "Chairs",
         "orientation": "v",
         "showlegend": true,
         "type": "scatter",
         "x": {
          "bdata": "H4XrUbhjkEA=",
          "dtype": "f8"
         },
         "xaxis": "x",
         "y": {
          "bdata": "j8L1KFxfUkA=",
          "dtype": "f8"
         },
         "yaxis": "y"
        },
        {
         "customdata": {
          "bdata": "16NwPQq3U0BSuB6F67FHQA==",
          "dtype": "f8",
          "shape": "1, 2"
         },
         "hovertemplate": "type=Chests of drawers & drawer units<br>price=%{marker.size}<br>width=%{y}<br>height=%{customdata[0]}<br>depth=%{customdata[1]}<extra></extra>",
         "legendgroup": "Chests of drawers & drawer units",
         "marker": {
          "color": "#FF6692",
          "size": {
           "bdata": "PQrXo3Ahg0A=",
           "dtype": "f8"
          },
          "sizemode": "area",
          "sizeref": 5.405349999999999,
          "symbol": "circle"
         },
         "mode": "markers",
         "name": "Chests of drawers & drawer units",
         "orientation": "v",
         "showlegend": true,
         "type": "scatter",
         "x": {
          "bdata": "PQrXo3Ahg0A=",
          "dtype": "f8"
         },
         "xaxis": "x",
         "y": {
          "bdata": "CtejcD0qU0A=",
          "dtype": "f8"
         },
         "yaxis": "y"
        },
        {
         "customdata": {
          "bdata": "4XoUrkdRVEAUrkfhenRHQA==",
          "dtype": "f8",
          "shape": "1, 2"
         },
         "hovertemplate": "type=Children's furniture<br>price=%{marker.size}<br>width=%{y}<br>height=%{customdata[0]}<br>depth=%{customdata[1]}<extra></extra>",
         "legendgroup": "Children's furniture",
         "marker": {
          "color": "#B6E880",
          "size": {
           "bdata": "XI/C9SgMcUA=",
           "dtype": "f8"
          },
          "sizemode": "area",
          "sizeref": 5.405349999999999,
          "symbol": "circle"
         },
         "mode": "markers",
         "name": "Children's furniture",
         "orientation": "v",
         "showlegend": true,
         "type": "scatter",
         "x": {
          "bdata": "XI/C9SgMcUA=",
          "dtype": "f8"
         },
         "xaxis": "x",
         "y": {
          "bdata": "cT0K16NAUEA=",
          "dtype": "f8"
         },
         "yaxis": "y"
        },
        {
         "customdata": {
          "bdata": "hetRuB7FVUCamZmZmVlHQA==",
          "dtype": "f8",
          "shape": "1, 2"
         },
         "hovertemplate": "type=Nursery furniture<br>price=%{marker.size}<br>width=%{y}<br>height=%{customdata[0]}<br>depth=%{customdata[1]}<extra></extra>",
         "legendgroup": "Nursery furniture",
         "marker": {
          "color": "#FF97FF",
          "size": {
           "bdata": "w/UoXI+aeEA=",
           "dtype": "f8"
          },
          "sizemode": "area",
          "sizeref": 5.405349999999999,
          "symbol": "circle"
         },
         "mode": "markers",
         "name": "Nursery furniture",
         "orientation": "v",
         "showlegend": true,
         "type": "scatter",
         "x": {
          "bdata": "w/UoXI+aeEA=",
          "dtype": "f8"
         },
         "xaxis": "x",
         "y": {
          "bdata": "ZmZmZmaWUEA=",
          "dtype": "f8"
         },
         "yaxis": "y"
        },
        {
         "customdata": {
          "bdata": "MzMzMzNzVUCF61G4HoVOQA==",
          "dtype": "f8",
          "shape": "1, 2"
         },
         "hovertemplate": "type=Outdoor furniture<br>price=%{marker.size}<br>width=%{y}<br>height=%{customdata[0]}<br>depth=%{customdata[1]}<extra></extra>",
         "legendgroup": "Outdoor furniture",
         "marker": {
          "color": "#FECB52",
          "size": {
           "bdata": "cT0K16PeikA=",
           "dtype": "f8"
          },
          "sizemode": "area",
          "sizeref": 5.405349999999999,
          "symbol": "circle"
         },
         "mode": "markers",
         "name": "Outdoor furniture",
         "orientation": "v",
         "showlegend": true,
         "type": "scatter",
         "x": {
          "bdata": "cT0K16PeikA=",
          "dtype": "f8"
         },
         "xaxis": "x",
         "y": {
          "bdata": "UrgehevxVkA=",
          "dtype": "f8"
         },
         "yaxis": "y"
        },
        {
         "customdata": {
          "bdata": "FK5H4XrkX0CamZmZmdlFQA==",
          "dtype": "f8",
          "shape": "1, 2"
         },
         "hovertemplate": "type=Room dividers<br>price=%{marker.size}<br>width=%{y}<br>height=%{customdata[0]}<br>depth=%{customdata[1]}<extra></extra>",
         "legendgroup": "Room dividers",
         "marker": {
          "color": "#636efa",
          "size": {
           "bdata": "AAAAAAAgjUA=",
           "dtype": "f8"
          },
          "sizemode": "area",
          "sizeref": 5.405349999999999,
          "symbol": "circle"
         },
         "mode": "markers",
         "name": "Room dividers",
         "orientation": "v",
         "showlegend": true,
         "type": "scatter",
         "x": {
          "bdata": "AAAAAAAgjUA=",
          "dtype": "f8"
         },
         "xaxis": "x",
         "y": {
          "bdata": "PQrXo3CNYkA=",
          "dtype": "f8"
         },
         "yaxis": "y"
        },
        {
         "customdata": {
          "bdata": "w/UoXI+CW0AK16NwPWpFQA==",
          "dtype": "f8",
          "shape": "1, 2"
         },
         "hovertemplate": "type=Sideboards, buffets & console tables<br>price=%{marker.size}<br>width=%{y}<br>height=%{customdata[0]}<br>depth=%{customdata[1]}<extra></extra>",
         "legendgroup": "Sideboards, buffets & console tables",
         "marker": {
          "color": "#EF553B",
          "size": {
           "bdata": "j8L1KFywkEA=",
           "dtype": "f8"
          },
          "sizemode": "area",
          "sizeref": 5.405349999999999,
          "symbol": "circle"
         },
         "mode": "markers",
         "name": "Sideboards, buffets & console tables",
         "orientation": "v",
         "showlegend": true,
         "type": "scatter",
         "x": {
          "bdata": "j8L1KFywkEA=",
          "dtype": "f8"
         },
         "xaxis": "x",
         "y": {
          "bdata": "KVyPwvUYXUA=",
          "dtype": "f8"
         },
         "yaxis": "y"
        },
        {
         "customdata": {
          "bdata": "4XoUrkdhVUAK16NwPZpUQA==",
          "dtype": "f8",
          "shape": "1, 2"
         },
         "hovertemplate": "type=Sofas & armchairs<br>price=%{marker.size}<br>width=%{y}<br>height=%{customdata[0]}<br>depth=%{customdata[1]}<extra></extra>",
         "legendgroup": "Sofas & armchairs",
         "marker": {
          "color": "#00cc96",
          "size": {
           "bdata": "rkfhehRQn0A=",
           "dtype": "f8"
          },
          "sizemode": "area",
          "sizeref": 5.405349999999999,
          "symbol": "circle"
         },
         "mode": "markers",
         "name": "Sofas & armchairs",
         "orientation": "v",
         "showlegend": true,
         "type": "scatter",
         "x": {
          "bdata": "rkfhehRQn0A=",
          "dtype": "f8"
         },
         "xaxis": "x",
         "y": {
          "bdata": "mpmZmZmhY0A=",
          "dtype": "f8"
         },
         "yaxis": "y"
        },
        {
         "customdata": {
          "bdata": "FK5H4XoUWUApXI/C9ShFQA==",
          "dtype": "f8",
          "shape": "1, 2"
         },
         "hovertemplate": "type=TV & media furniture<br>price=%{marker.size}<br>width=%{y}<br>height=%{customdata[0]}<br>depth=%{customdata[1]}<extra></extra>",
         "legendgroup": "TV & media furniture",
         "marker": {
          "color": "#ab63fa",
          "size": {
           "bdata": "ZmZmZmaYhEA=",
           "dtype": "f8"
          },
          "sizemode": "area",
          "sizeref": 5.405349999999999,
          "symbol": "circle"
         },
         "mode": "markers",
         "name": "TV & media furniture",
         "orientation": "v",
         "showlegend": true,
         "type": "scatter",
         "x": {
          "bdata": "ZmZmZmaYhEA=",
          "dtype": "f8"
         },
         "xaxis": "x",
         "y": {
          "bdata": "4XoUrkfBX0A=",
          "dtype": "f8"
         },
         "yaxis": "y"
        },
        {
         "customdata": {
          "bdata": "pHA9CteDVEBmZmZmZgZLQA==",
          "dtype": "f8",
          "shape": "1, 2"
         },
         "hovertemplate": "type=Tables & desks<br>price=%{marker.size}<br>width=%{y}<br>height=%{customdata[0]}<br>depth=%{customdata[1]}<extra></extra>",
         "legendgroup": "Tables & desks",
         "marker": {
          "color": "#FFA15A",
          "size": {
           "bdata": "mpmZmZmlkUA=",
           "dtype": "f8"
          },
          "sizemode": "area",
          "sizeref": 5.405349999999999,
          "symbol": "circle"
         },
         "mode": "markers",
         "name": "Tables & desks",
         "orientation": "v",
         "showlegend": true,
         "type": "scatter",
         "x": {
          "bdata": "mpmZmZmlkUA=",
          "dtype": "f8"
         },
         "xaxis": "x",
         "y": {
          "bdata": "CtejcD1qVEA=",
          "dtype": "f8"
         },
         "yaxis": "y"
        },
        {
         "customdata": {
          "bdata": "uB6F61HIVUAzMzMzM3NKQA==",
          "dtype": "f8",
          "shape": "1, 2"
         },
         "hovertemplate": "type=Trolleys<br>price=%{marker.size}<br>width=%{y}<br>height=%{customdata[0]}<br>depth=%{customdata[1]}<extra></extra>",
         "legendgroup": "Trolleys",
         "marker": {
          "color": "#19d3f3",
          "size": {
           "bdata": "XI/C9Sg0hUA=",
           "dtype": "f8"
          },
          "sizemode": "area",
          "sizeref": 5.405349999999999,
          "symbol": "circle"
         },
         "mode": "markers",
         "name": "Trolleys",
         "orientation": "v",
         "showlegend": true,
         "type": "scatter",
         "x": {
          "bdata": "XI/C9Sg0hUA=",
          "dtype": "f8"
         },
         "xaxis": "x",
         "y": {
          "bdata": "AAAAAABATUA=",
          "dtype": "f8"
         },
         "yaxis": "y"
        },
        {
         "customdata": {
          "bdata": "7FG4HoWbaUCkcD0K18NLQA==",
          "dtype": "f8",
          "shape": "1, 2"
         },
         "hovertemplate": "type=Wardrobes<br>price=%{marker.size}<br>width=%{y}<br>height=%{customdata[0]}<br>depth=%{customdata[1]}<extra></extra>",
         "legendgroup": "Wardrobes",
         "marker": {
          "color": "#FF6692",
          "size": {
           "bdata": "4XoUrkfkoEA=",
           "dtype": "f8"
          },
          "sizemode": "area",
          "sizeref": 5.405349999999999,
          "symbol": "circle"
         },
         "mode": "markers",
         "name": "Wardrobes",
         "orientation": "v",
         "showlegend": true,
         "type": "scatter",
         "x": {
          "bdata": "4XoUrkfkoEA=",
          "dtype": "f8"
         },
         "xaxis": "x",
         "y": {
          "bdata": "7FG4HoVbZEA=",
          "dtype": "f8"
         },
         "yaxis": "y"
        }
       ],
       "layout": {
        "legend": {
         "itemsizing": "constant",
         "title": {
          "text": "type"
         },
         "tracegroupgap": 0
        },
        "margin": {
         "t": 60
        },
        "template": {
         "data": {
          "bar": [
           {
            "error_x": {
             "color": "#2a3f5f"
            },
            "error_y": {
             "color": "#2a3f5f"
            },
            "marker": {
             "line": {
              "color": "#E5ECF6",
              "width": 0.5
             },
             "pattern": {
              "fillmode": "overlay",
              "size": 10,
              "solidity": 0.2
             }
            },
            "type": "bar"
           }
          ],
          "barpolar": [
           {
            "marker": {
             "line": {
              "color": "#E5ECF6",
              "width": 0.5
             },
             "pattern": {
              "fillmode": "overlay",
              "size": 10,
              "solidity": 0.2
             }
            },
            "type": "barpolar"
           }
          ],
          "carpet": [
           {
            "aaxis": {
             "endlinecolor": "#2a3f5f",
             "gridcolor": "white",
             "linecolor": "white",
             "minorgridcolor": "white",
             "startlinecolor": "#2a3f5f"
            },
            "baxis": {
             "endlinecolor": "#2a3f5f",
             "gridcolor": "white",
             "linecolor": "white",
             "minorgridcolor": "white",
             "startlinecolor": "#2a3f5f"
            },
            "type": "carpet"
           }
          ],
          "choropleth": [
           {
            "colorbar": {
             "outlinewidth": 0,
             "ticks": ""
            },
            "type": "choropleth"
           }
          ],
          "contour": [
           {
            "colorbar": {
             "outlinewidth": 0,
             "ticks": ""
            },
            "colorscale": [
             [
              0,
              "#0d0887"
             ],
             [
              0.1111111111111111,
              "#46039f"
             ],
             [
              0.2222222222222222,
              "#7201a8"
             ],
             [
              0.3333333333333333,
              "#9c179e"
             ],
             [
              0.4444444444444444,
              "#bd3786"
             ],
             [
              0.5555555555555556,
              "#d8576b"
             ],
             [
              0.6666666666666666,
              "#ed7953"
             ],
             [
              0.7777777777777778,
              "#fb9f3a"
             ],
             [
              0.8888888888888888,
              "#fdca26"
             ],
             [
              1,
              "#f0f921"
             ]
            ],
            "type": "contour"
           }
          ],
          "contourcarpet": [
           {
            "colorbar": {
             "outlinewidth": 0,
             "ticks": ""
            },
            "type": "contourcarpet"
           }
          ],
          "heatmap": [
           {
            "colorbar": {
             "outlinewidth": 0,
             "ticks": ""
            },
            "colorscale": [
             [
              0,
              "#0d0887"
             ],
             [
              0.1111111111111111,
              "#46039f"
             ],
             [
              0.2222222222222222,
              "#7201a8"
             ],
             [
              0.3333333333333333,
              "#9c179e"
             ],
             [
              0.4444444444444444,
              "#bd3786"
             ],
             [
              0.5555555555555556,
              "#d8576b"
             ],
             [
              0.6666666666666666,
              "#ed7953"
             ],
             [
              0.7777777777777778,
              "#fb9f3a"
             ],
             [
              0.8888888888888888,
              "#fdca26"
             ],
             [
              1,
              "#f0f921"
             ]
            ],
            "type": "heatmap"
           }
          ],
          "histogram": [
           {
            "marker": {
             "pattern": {
              "fillmode": "overlay",
              "size": 10,
              "solidity": 0.2
             }
            },
            "type": "histogram"
           }
          ],
          "histogram2d": [
           {
            "colorbar": {
             "outlinewidth": 0,
             "ticks": ""
            },
            "colorscale": [
             [
              0,
              "#0d0887"
             ],
             [
              0.1111111111111111,
              "#46039f"
             ],
             [
              0.2222222222222222,
              "#7201a8"
             ],
             [
              0.3333333333333333,
              "#9c179e"
             ],
             [
              0.4444444444444444,
              "#bd3786"
             ],
             [
              0.5555555555555556,
              "#d8576b"
             ],
             [
              0.6666666666666666,
              "#ed7953"
             ],
             [
              0.7777777777777778,
              "#fb9f3a"
             ],
             [
              0.8888888888888888,
              "#fdca26"
             ],
             [
              1,
              "#f0f921"
             ]
            ],
            "type": "histogram2d"
           }
          ],
          "histogram2dcontour": [
           {
            "colorbar": {
             "outlinewidth": 0,
             "ticks": ""
            },
            "colorscale": [
             [
              0,
              "#0d0887"
             ],
             [
              0.1111111111111111,
              "#46039f"
             ],
             [
              0.2222222222222222,
              "#7201a8"
             ],
             [
              0.3333333333333333,
              "#9c179e"
             ],
             [
              0.4444444444444444,
              "#bd3786"
             ],
             [
              0.5555555555555556,
              "#d8576b"
             ],
             [
              0.6666666666666666,
              "#ed7953"
             ],
             [
              0.7777777777777778,
              "#fb9f3a"
             ],
             [
              0.8888888888888888,
              "#fdca26"
             ],
             [
              1,
              "#f0f921"
             ]
            ],
            "type": "histogram2dcontour"
           }
          ],
          "mesh3d": [
           {
            "colorbar": {
             "outlinewidth": 0,
             "ticks": ""
            },
            "type": "mesh3d"
           }
          ],
          "parcoords": [
           {
            "line": {
             "colorbar": {
              "outlinewidth": 0,
              "ticks": ""
             }
            },
            "type": "parcoords"
           }
          ],
          "pie": [
           {
            "automargin": true,
            "type": "pie"
           }
          ],
          "scatter": [
           {
            "fillpattern": {
             "fillmode": "overlay",
             "size": 10,
             "solidity": 0.2
            },
            "type": "scatter"
           }
          ],
          "scatter3d": [
           {
            "line": {
             "colorbar": {
              "outlinewidth": 0,
              "ticks": ""
             }
            },
            "marker": {
             "colorbar": {
              "outlinewidth": 0,
              "ticks": ""
             }
            },
            "type": "scatter3d"
           }
          ],
          "scattercarpet": [
           {
            "marker": {
             "colorbar": {
              "outlinewidth": 0,
              "ticks": ""
             }
            },
            "type": "scattercarpet"
           }
          ],
          "scattergeo": [
           {
            "marker": {
             "colorbar": {
              "outlinewidth": 0,
              "ticks": ""
             }
            },
            "type": "scattergeo"
           }
          ],
          "scattergl": [
           {
            "marker": {
             "colorbar": {
              "outlinewidth": 0,
              "ticks": ""
             }
            },
            "type": "scattergl"
           }
          ],
          "scattermap": [
           {
            "marker": {
             "colorbar": {
              "outlinewidth": 0,
              "ticks": ""
             }
            },
            "type": "scattermap"
           }
          ],
          "scattermapbox": [
           {
            "marker": {
             "colorbar": {
              "outlinewidth": 0,
              "ticks": ""
             }
            },
            "type": "scattermapbox"
           }
          ],
          "scatterpolar": [
           {
            "marker": {
             "colorbar": {
              "outlinewidth": 0,
              "ticks": ""
             }
            },
            "type": "scatterpolar"
           }
          ],
          "scatterpolargl": [
           {
            "marker": {
             "colorbar": {
              "outlinewidth": 0,
              "ticks": ""
             }
            },
            "type": "scatterpolargl"
           }
          ],
          "scatterternary": [
           {
            "marker": {
             "colorbar": {
              "outlinewidth": 0,
              "ticks": ""
             }
            },
            "type": "scatterternary"
           }
          ],
          "surface": [
           {
            "colorbar": {
             "outlinewidth": 0,
             "ticks": ""
            },
            "colorscale": [
             [
              0,
              "#0d0887"
             ],
             [
              0.1111111111111111,
              "#46039f"
             ],
             [
              0.2222222222222222,
              "#7201a8"
             ],
             [
              0.3333333333333333,
              "#9c179e"
             ],
             [
              0.4444444444444444,
              "#bd3786"
             ],
             [
              0.5555555555555556,
              "#d8576b"
             ],
             [
              0.6666666666666666,
              "#ed7953"
             ],
             [
              0.7777777777777778,
              "#fb9f3a"
             ],
             [
              0.8888888888888888,
              "#fdca26"
             ],
             [
              1,
              "#f0f921"
             ]
            ],
            "type": "surface"
           }
          ],
          "table": [
           {
            "cells": {
             "fill": {
              "color": "#EBF0F8"
             },
             "line": {
              "color": "white"
             }
            },
            "header": {
             "fill": {
              "color": "#C8D4E3"
             },
             "line": {
              "color": "white"
             }
            },
            "type": "table"
           }
          ]
         },
         "layout": {
          "annotationdefaults": {
           "arrowcolor": "#2a3f5f",
           "arrowhead": 0,
           "arrowwidth": 1
          },
          "autotypenumbers": "strict",
          "coloraxis": {
           "colorbar": {
            "outlinewidth": 0,
            "ticks": ""
           }
          },
          "colorscale": {
           "diverging": [
            [
             0,
             "#8e0152"
            ],
            [
             0.1,
             "#c51b7d"
            ],
            [
             0.2,
             "#de77ae"
            ],
            [
             0.3,
             "#f1b6da"
            ],
            [
             0.4,
             "#fde0ef"
            ],
            [
             0.5,
             "#f7f7f7"
            ],
            [
             0.6,
             "#e6f5d0"
            ],
            [
             0.7,
             "#b8e186"
            ],
            [
             0.8,
             "#7fbc41"
            ],
            [
             0.9,
             "#4d9221"
            ],
            [
             1,
             "#276419"
            ]
           ],
           "sequential": [
            [
             0,
             "#0d0887"
            ],
            [
             0.1111111111111111,
             "#46039f"
            ],
            [
             0.2222222222222222,
             "#7201a8"
            ],
            [
             0.3333333333333333,
             "#9c179e"
            ],
            [
             0.4444444444444444,
             "#bd3786"
            ],
            [
             0.5555555555555556,
             "#d8576b"
            ],
            [
             0.6666666666666666,
             "#ed7953"
            ],
            [
             0.7777777777777778,
             "#fb9f3a"
            ],
            [
             0.8888888888888888,
             "#fdca26"
            ],
            [
             1,
             "#f0f921"
            ]
           ],
           "sequentialminus": [
            [
             0,
             "#0d0887"
            ],
            [
             0.1111111111111111,
             "#46039f"
            ],
            [
             0.2222222222222222,
             "#7201a8"
            ],
            [
             0.3333333333333333,
             "#9c179e"
            ],
            [
             0.4444444444444444,
             "#bd3786"
            ],
            [
             0.5555555555555556,
             "#d8576b"
            ],
            [
             0.6666666666666666,
             "#ed7953"
            ],
            [
             0.7777777777777778,
             "#fb9f3a"
            ],
            [
             0.8888888888888888,
             "#fdca26"
            ],
            [
             1,
             "#f0f921"
            ]
           ]
          },
          "colorway": [
           "#636efa",
           "#EF553B",
           "#00cc96",
           "#ab63fa",
           "#FFA15A",
           "#19d3f3",
           "#FF6692",
           "#B6E880",
           "#FF97FF",
           "#FECB52"
          ],
          "font": {
           "color": "#2a3f5f"
          },
          "geo": {
           "bgcolor": "white",
           "lakecolor": "white",
           "landcolor": "#E5ECF6",
           "showlakes": true,
           "showland": true,
           "subunitcolor": "white"
          },
          "hoverlabel": {
           "align": "left"
          },
          "hovermode": "closest",
          "mapbox": {
           "style": "light"
          },
          "paper_bgcolor": "white",
          "plot_bgcolor": "#E5ECF6",
          "polar": {
           "angularaxis": {
            "gridcolor": "white",
            "linecolor": "white",
            "ticks": ""
           },
           "bgcolor": "#E5ECF6",
           "radialaxis": {
            "gridcolor": "white",
            "linecolor": "white",
            "ticks": ""
           }
          },
          "scene": {
           "xaxis": {
            "backgroundcolor": "#E5ECF6",
            "gridcolor": "white",
            "gridwidth": 2,
            "linecolor": "white",
            "showbackground": true,
            "ticks": "",
            "zerolinecolor": "white"
           },
           "yaxis": {
            "backgroundcolor": "#E5ECF6",
            "gridcolor": "white",
            "gridwidth": 2,
            "linecolor": "white",
            "showbackground": true,
            "ticks": "",
            "zerolinecolor": "white"
           },
           "zaxis": {
            "backgroundcolor": "#E5ECF6",
            "gridcolor": "white",
            "gridwidth": 2,
            "linecolor": "white",
            "showbackground": true,
            "ticks": "",
            "zerolinecolor": "white"
           }
          },
          "shapedefaults": {
           "line": {
            "color": "#2a3f5f"
           }
          },
          "ternary": {
           "aaxis": {
            "gridcolor": "white",
            "linecolor": "white",
            "ticks": ""
           },
           "baxis": {
            "gridcolor": "white",
            "linecolor": "white",
            "ticks": ""
           },
           "bgcolor": "#E5ECF6",
           "caxis": {
            "gridcolor": "white",
            "linecolor": "white",
            "ticks": ""
           }
          },
          "title": {
           "x": 0.05
          },
          "xaxis": {
           "automargin": true,
           "gridcolor": "white",
           "linecolor": "white",
           "ticks": "",
           "title": {
            "standoff": 15
           },
           "zerolinecolor": "white",
           "zerolinewidth": 2
          },
          "yaxis": {
           "automargin": true,
           "gridcolor": "white",
           "linecolor": "white",
           "ticks": "",
           "title": {
            "standoff": 15
           },
           "zerolinecolor": "white",
           "zerolinewidth": 2
          }
         }
        },
        "title": {
         "text": "Relation between Product Specification and its Purchase Price"
        },
        "xaxis": {
         "anchor": "y",
         "domain": [
          0,
          1
         ],
         "title": {
          "text": "price"
         }
        },
        "yaxis": {
         "anchor": "x",
         "domain": [
          0,
          1
         ],
         "title": {
          "text": "width"
         }
        }
       }
      },
      "image/png": "[encoded data removed]"
     },
     "metadata": {},
     "output_type": "display_data"
    }
   ],
   "source": [
    "fig = px.scatter(dff, x=\"price\", y=\"width\", color=\"type\", \n",
    "                 size='price',\n",
    "                 hover_data=['height', 'depth'])\n",
    "fig.update_layout(title_text='Relation between Product Specification and its Purchase Price')\n",
    "fig.show()"
   ]
  },
  {
   "cell_type": "markdown",
   "metadata": {
    "id": "MeQfH4BQHceT"
   },
   "source": [
    "* The correlation is positive and very weak\n",
    "* For instance, furniture like Beds, come in different measurements, single-cot, double-cot, king-size etc, here, the measurements play an important role; as the price varies according to the size.\n",
    "* The weak-positive correlation can be applicable here.\n",
    "* This may not be true for all products until their size/specifications play as a major core feature of the respective product."
   ]
  },
  {
   "cell_type": "code",
   "execution_count": 81,
   "metadata": {
    "colab": {
     "base_uri": "https://localhost:8080/",
     "height": 456
    },
    "id": "S55B5KIHHe7R",
    "outputId": "8c8fc3d1-f4c8-408a-fef8-1e3c73029956"
   },
   "outputs": [
    {
     "data": {
      "image/png": "[encoded data removed]",
      "text/plain": [
       "<Figure size 2200x800 with 2 Axes>"
      ]
     },
     "metadata": {},
     "output_type": "display_data"
    }
   ],
   "source": [
    "# Select only numeric columns\n",
    "numeric_data = data.select_dtypes(include='number')\n",
    "\n",
    "# Compute correlation matrix and plot\n",
    "sns.set(rc={'figure.figsize': (22,8)})\n",
    "ax = sns.heatmap(numeric_data.corr(), cmap=\"PuBu\", linewidths=2, linecolor=\"k\",\n",
    "                 square=True, annot=True, fmt=\".2f\", annot_kws={\"size\":10})\n",
    "ax.set_title(\"Correlation Chart\")\n",
    "plt.show()"
   ]
  },
  {
   "cell_type": "markdown",
   "metadata": {
    "id": "rk3ACdkfHjMK"
   },
   "source": [
    "* Correlation between product's width, height, depth and its purchase price is weak positive\n",
    "* This could be especially true for some products in IKEA's range of Furniture products as the product's measurements are one of its it core features. For example, Beds, Wardrobes, Tables & Desks etc.\n",
    "* Otherwise, their correlation is 0 "
   ]
  },
  {
   "cell_type": "markdown",
   "metadata": {
    "id": "PWzEbH0eHnuV"
   },
   "source": [
    "# Questions & Answers"
   ]
  },
  {
   "cell_type": "markdown",
   "metadata": {
    "id": "DplvzQBEHrQW"
   },
   "source": [
    "**1. List the exact number of IKEA's products in each category**"
   ]
  },
  {
   "cell_type": "code",
   "execution_count": 39,
   "metadata": {
    "colab": {
     "base_uri": "https://localhost:8080/",
     "height": 582
    },
    "id": "Jn4l2L5NHvpV",
    "outputId": "38601bbb-85d4-4747-9076-36a8edb299de"
   },
   "outputs": [
    {
     "data": {
      "text/html": [
       "<div>\n",
       "<style scoped>\n",
       "    .dataframe tbody tr th:only-of-type {\n",
       "        vertical-align: middle;\n",
       "    }\n",
       "\n",
       "    .dataframe tbody tr th {\n",
       "        vertical-align: top;\n",
       "    }\n",
       "\n",
       "    .dataframe thead th {\n",
       "        text-align: right;\n",
       "    }\n",
       "</style>\n",
       "<table border=\"1\" class=\"dataframe\">\n",
       "  <thead>\n",
       "    <tr style=\"text-align: right;\">\n",
       "      <th></th>\n",
       "      <th>type</th>\n",
       "      <th>in_number</th>\n",
       "    </tr>\n",
       "  </thead>\n",
       "  <tbody>\n",
       "    <tr>\n",
       "      <th>0</th>\n",
       "      <td>Bar furniture</td>\n",
       "      <td>47</td>\n",
       "    </tr>\n",
       "    <tr>\n",
       "      <th>1</th>\n",
       "      <td>Beds</td>\n",
       "      <td>208</td>\n",
       "    </tr>\n",
       "    <tr>\n",
       "      <th>2</th>\n",
       "      <td>Bookcases &amp; shelving units</td>\n",
       "      <td>548</td>\n",
       "    </tr>\n",
       "    <tr>\n",
       "      <th>3</th>\n",
       "      <td>Cabinets &amp; cupboards</td>\n",
       "      <td>292</td>\n",
       "    </tr>\n",
       "    <tr>\n",
       "      <th>4</th>\n",
       "      <td>Café furniture</td>\n",
       "      <td>26</td>\n",
       "    </tr>\n",
       "    <tr>\n",
       "      <th>5</th>\n",
       "      <td>Chairs</td>\n",
       "      <td>481</td>\n",
       "    </tr>\n",
       "    <tr>\n",
       "      <th>6</th>\n",
       "      <td>Chests of drawers &amp; drawer units</td>\n",
       "      <td>125</td>\n",
       "    </tr>\n",
       "    <tr>\n",
       "      <th>7</th>\n",
       "      <td>Children's furniture</td>\n",
       "      <td>124</td>\n",
       "    </tr>\n",
       "    <tr>\n",
       "      <th>8</th>\n",
       "      <td>Nursery furniture</td>\n",
       "      <td>97</td>\n",
       "    </tr>\n",
       "    <tr>\n",
       "      <th>9</th>\n",
       "      <td>Outdoor furniture</td>\n",
       "      <td>216</td>\n",
       "    </tr>\n",
       "    <tr>\n",
       "      <th>10</th>\n",
       "      <td>Room dividers</td>\n",
       "      <td>13</td>\n",
       "    </tr>\n",
       "    <tr>\n",
       "      <th>11</th>\n",
       "      <td>Sideboards, buffets &amp; console tables</td>\n",
       "      <td>23</td>\n",
       "    </tr>\n",
       "    <tr>\n",
       "      <th>12</th>\n",
       "      <td>Sofas &amp; armchairs</td>\n",
       "      <td>428</td>\n",
       "    </tr>\n",
       "    <tr>\n",
       "      <th>13</th>\n",
       "      <td>TV &amp; media furniture</td>\n",
       "      <td>190</td>\n",
       "    </tr>\n",
       "    <tr>\n",
       "      <th>14</th>\n",
       "      <td>Tables &amp; desks</td>\n",
       "      <td>612</td>\n",
       "    </tr>\n",
       "    <tr>\n",
       "      <th>15</th>\n",
       "      <td>Trolleys</td>\n",
       "      <td>28</td>\n",
       "    </tr>\n",
       "    <tr>\n",
       "      <th>16</th>\n",
       "      <td>Wardrobes</td>\n",
       "      <td>236</td>\n",
       "    </tr>\n",
       "  </tbody>\n",
       "</table>\n",
       "</div>"
      ],
      "text/plain": [
       "                                    type  in_number\n",
       "0                          Bar furniture         47\n",
       "1                                   Beds        208\n",
       "2             Bookcases & shelving units        548\n",
       "3                   Cabinets & cupboards        292\n",
       "4                         Café furniture         26\n",
       "5                                 Chairs        481\n",
       "6       Chests of drawers & drawer units        125\n",
       "7                   Children's furniture        124\n",
       "8                      Nursery furniture         97\n",
       "9                      Outdoor furniture        216\n",
       "10                         Room dividers         13\n",
       "11  Sideboards, buffets & console tables         23\n",
       "12                     Sofas & armchairs        428\n",
       "13                  TV & media furniture        190\n",
       "14                        Tables & desks        612\n",
       "15                              Trolleys         28\n",
       "16                             Wardrobes        236"
      ]
     },
     "execution_count": 39,
     "metadata": {},
     "output_type": "execute_result"
    }
   ],
   "source": [
    "ash = data.groupby('type')['price'].agg(['count'])  # Group by 'type', count number of prices\n",
    "dx = ash.reset_index()                              # Convert grouped index back to columns\n",
    "dx.columns = dx.columns.str.replace('count', 'in_number')  # Rename 'count' to 'in_number'\n",
    "dx                                                 # Show the resulting DataFrame"
   ]
  },
  {
   "cell_type": "markdown",
   "metadata": {
    "id": "ZIlQmwIcH03w"
   },
   "source": [
    "**Answer :**\n",
    "* Bar furniture\t47\n",
    "* Beds\t208\n",
    "* Bookcases & shelving units\t548\n",
    "* Cabinets & cupboards\t292\n",
    "* Café furniture\t26\n",
    "* Chairs\t481\n",
    "* Chests of drawers & drawer units\t125\n",
    "* Children's furniture\t124\n",
    "* Nursery furniture\t97\n",
    "* Outdoor furniture\t216\n",
    "* Room dividers\t13\n",
    "* Sideboards, buffets & console tables\t23\n",
    "* Sofas & armchairs\t428\n",
    "* TV & media furniture\t190\n",
    "*\tTables & desks\t612\n",
    "* Trolleys\t28\n",
    "*\tWardrobes\t236"
   ]
  },
  {
   "cell_type": "markdown",
   "metadata": {
    "id": "qZSjTtLSH4l6"
   },
   "source": [
    "**2. Which category of IKEA's Furniture range has minimum online presence?**"
   ]
  },
  {
   "cell_type": "code",
   "execution_count": 40,
   "metadata": {
    "colab": {
     "base_uri": "https://localhost:8080/",
     "height": 582
    },
    "id": "STfz5qMuH61V",
    "outputId": "434e7cae-e56c-4dbb-b3ab-a51f1d9662d0"
   },
   "outputs": [
    {
     "data": {
      "text/html": [
       "<div>\n",
       "<style scoped>\n",
       "    .dataframe tbody tr th:only-of-type {\n",
       "        vertical-align: middle;\n",
       "    }\n",
       "\n",
       "    .dataframe tbody tr th {\n",
       "        vertical-align: top;\n",
       "    }\n",
       "\n",
       "    .dataframe thead th {\n",
       "        text-align: right;\n",
       "    }\n",
       "</style>\n",
       "<table border=\"1\" class=\"dataframe\">\n",
       "  <thead>\n",
       "    <tr style=\"text-align: right;\">\n",
       "      <th></th>\n",
       "      <th>type</th>\n",
       "      <th>in_number</th>\n",
       "      <th>price</th>\n",
       "      <th>oldrate</th>\n",
       "      <th>is_online</th>\n",
       "      <th>color_options</th>\n",
       "      <th>depth</th>\n",
       "      <th>height</th>\n",
       "      <th>width</th>\n",
       "    </tr>\n",
       "  </thead>\n",
       "  <tbody>\n",
       "    <tr>\n",
       "      <th>0</th>\n",
       "      <td>Bar furniture</td>\n",
       "      <td>47</td>\n",
       "      <td>31939.0</td>\n",
       "      <td>21814.231746</td>\n",
       "      <td>44</td>\n",
       "      <td>NoNoNoYesNoNoNoNoNoNoNoNoNoNoNoNoNoYesNoNoNoNo...</td>\n",
       "      <td>2354.584043</td>\n",
       "      <td>4635.159645</td>\n",
       "      <td>3003.708535</td>\n",
       "    </tr>\n",
       "    <tr>\n",
       "      <th>1</th>\n",
       "      <td>Beds</td>\n",
       "      <td>208</td>\n",
       "      <td>342666.0</td>\n",
       "      <td>94769.584127</td>\n",
       "      <td>205</td>\n",
       "      <td>NoNoNoNoNoNoYesNoYesNoYesYesNoYesNoYesYesYesNo...</td>\n",
       "      <td>13581.400269</td>\n",
       "      <td>18192.678492</td>\n",
       "      <td>28669.829630</td>\n",
       "    </tr>\n",
       "    <tr>\n",
       "      <th>2</th>\n",
       "      <td>Bookcases &amp; shelving units</td>\n",
       "      <td>548</td>\n",
       "      <td>284640.0</td>\n",
       "      <td>246459.533333</td>\n",
       "      <td>547</td>\n",
       "      <td>NoNoNoNoNoNoNoYesYesNoYesNoNoYesNoNoNoNoYesYes...</td>\n",
       "      <td>21892.024204</td>\n",
       "      <td>68723.076866</td>\n",
       "      <td>58279.367794</td>\n",
       "    </tr>\n",
       "    <tr>\n",
       "      <th>3</th>\n",
       "      <td>Cabinets &amp; cupboards</td>\n",
       "      <td>292</td>\n",
       "      <td>230392.6</td>\n",
       "      <td>132416.457143</td>\n",
       "      <td>291</td>\n",
       "      <td>NoYesNoYesYesYesYesNoNoYesYesYesNoYesYesNoYesY...</td>\n",
       "      <td>11876.856118</td>\n",
       "      <td>32388.158167</td>\n",
       "      <td>29040.950725</td>\n",
       "    </tr>\n",
       "    <tr>\n",
       "      <th>4</th>\n",
       "      <td>Café furniture</td>\n",
       "      <td>26</td>\n",
       "      <td>14401.0</td>\n",
       "      <td>11917.263492</td>\n",
       "      <td>26</td>\n",
       "      <td>NoNoNoNoYesNoNoYesNoNoNoNoNoNoYesNoYesNoNoNoNo...</td>\n",
       "      <td>1279.550426</td>\n",
       "      <td>2187.719882</td>\n",
       "      <td>1663.354267</td>\n",
       "    </tr>\n",
       "    <tr>\n",
       "      <th>5</th>\n",
       "      <td>Chairs</td>\n",
       "      <td>481</td>\n",
       "      <td>504536.6</td>\n",
       "      <td>210821.088889</td>\n",
       "      <td>477</td>\n",
       "      <td>NoNoYesYesNoYesNoNoNoYesNoYesYesNoNoYesYesNoNo...</td>\n",
       "      <td>27906.978037</td>\n",
       "      <td>41703.874353</td>\n",
       "      <td>35346.318519</td>\n",
       "    </tr>\n",
       "    <tr>\n",
       "      <th>6</th>\n",
       "      <td>Chests of drawers &amp; drawer units</td>\n",
       "      <td>125</td>\n",
       "      <td>76522.5</td>\n",
       "      <td>57178.546032</td>\n",
       "      <td>125</td>\n",
       "      <td>NoYesYesNoNoYesNoYesYesNoYesYesNoYesNoNoYesNoN...</td>\n",
       "      <td>5923.516809</td>\n",
       "      <td>9857.359941</td>\n",
       "      <td>9583.000000</td>\n",
       "    </tr>\n",
       "    <tr>\n",
       "      <th>7</th>\n",
       "      <td>Children's furniture</td>\n",
       "      <td>124</td>\n",
       "      <td>33822.0</td>\n",
       "      <td>55326.809524</td>\n",
       "      <td>119</td>\n",
       "      <td>NoNoYesNoNoNoNoNoNoNoNoNoNoYesNoNoNoNoYesNoNoN...</td>\n",
       "      <td>5816.376065</td>\n",
       "      <td>10077.679231</td>\n",
       "      <td>8060.825121</td>\n",
       "    </tr>\n",
       "    <tr>\n",
       "      <th>8</th>\n",
       "      <td>Nursery furniture</td>\n",
       "      <td>97</td>\n",
       "      <td>38185.0</td>\n",
       "      <td>43774.349206</td>\n",
       "      <td>93</td>\n",
       "      <td>NoNoNoNoNoNoNoNoNoNoNoNoNoNoNoYesNoNoNoNoYesNo...</td>\n",
       "      <td>4529.755267</td>\n",
       "      <td>8446.839616</td>\n",
       "      <td>6435.883414</td>\n",
       "    </tr>\n",
       "    <tr>\n",
       "      <th>9</th>\n",
       "      <td>Outdoor furniture</td>\n",
       "      <td>216</td>\n",
       "      <td>185722.6</td>\n",
       "      <td>95381.796825</td>\n",
       "      <td>216</td>\n",
       "      <td>YesNoYesNoNoNoYesNoNoNoYesNoNoNoYesYesNoYesNoN...</td>\n",
       "      <td>13185.470641</td>\n",
       "      <td>18533.797487</td>\n",
       "      <td>19824.600966</td>\n",
       "    </tr>\n",
       "    <tr>\n",
       "      <th>10</th>\n",
       "      <td>Room dividers</td>\n",
       "      <td>13</td>\n",
       "      <td>12116.0</td>\n",
       "      <td>6086.082540</td>\n",
       "      <td>13</td>\n",
       "      <td>YesYesNoYesNoNoYesYesNoYesYesNoYes</td>\n",
       "      <td>568.137606</td>\n",
       "      <td>1658.399852</td>\n",
       "      <td>1929.470853</td>\n",
       "    </tr>\n",
       "    <tr>\n",
       "      <th>11</th>\n",
       "      <td>Sideboards, buffets &amp; console tables</td>\n",
       "      <td>23</td>\n",
       "      <td>24566.0</td>\n",
       "      <td>10897.165079</td>\n",
       "      <td>23</td>\n",
       "      <td>YesNoYesNoNoNoYesYesNoYesYesYesNoYesYesYesYesY...</td>\n",
       "      <td>985.137606</td>\n",
       "      <td>2531.000000</td>\n",
       "      <td>2677.000000</td>\n",
       "    </tr>\n",
       "    <tr>\n",
       "      <th>12</th>\n",
       "      <td>Sofas &amp; armchairs</td>\n",
       "      <td>428</td>\n",
       "      <td>857719.0</td>\n",
       "      <td>190008.085714</td>\n",
       "      <td>427</td>\n",
       "      <td>YesYesYesYesYesYesYesNoYesYesYesYesYesYesYesNo...</td>\n",
       "      <td>35272.702824</td>\n",
       "      <td>36600.595713</td>\n",
       "      <td>67218.982287</td>\n",
       "    </tr>\n",
       "    <tr>\n",
       "      <th>13</th>\n",
       "      <td>TV &amp; media furniture</td>\n",
       "      <td>190</td>\n",
       "      <td>125219.6</td>\n",
       "      <td>84304.714286</td>\n",
       "      <td>189</td>\n",
       "      <td>YesNoNoYesYesYesYesYesNoNoNoNoYesNoYesYesYesYe...</td>\n",
       "      <td>8040.614523</td>\n",
       "      <td>19061.158167</td>\n",
       "      <td>24132.950725</td>\n",
       "    </tr>\n",
       "    <tr>\n",
       "      <th>14</th>\n",
       "      <td>Tables &amp; desks</td>\n",
       "      <td>612</td>\n",
       "      <td>691190.0</td>\n",
       "      <td>275504.111111</td>\n",
       "      <td>608</td>\n",
       "      <td>NoNoYesNoYesNoYesYesYesYesYesYesYesNoNoNoYesNo...</td>\n",
       "      <td>33078.154639</td>\n",
       "      <td>50222.314117</td>\n",
       "      <td>49976.206441</td>\n",
       "    </tr>\n",
       "    <tr>\n",
       "      <th>15</th>\n",
       "      <td>Trolleys</td>\n",
       "      <td>28</td>\n",
       "      <td>18998.5</td>\n",
       "      <td>13092.558730</td>\n",
       "      <td>27</td>\n",
       "      <td>YesYesNoNoNoNoNoNoNoNoNoNoNoNoNoNoNoNoNoNoNoNo...</td>\n",
       "      <td>1481.204841</td>\n",
       "      <td>2439.679970</td>\n",
       "      <td>1638.000000</td>\n",
       "    </tr>\n",
       "    <tr>\n",
       "      <th>16</th>\n",
       "      <td>Wardrobes</td>\n",
       "      <td>236</td>\n",
       "      <td>510265.5</td>\n",
       "      <td>112911.158730</td>\n",
       "      <td>236</td>\n",
       "      <td>NoYesNoYesNoNoNoNoNoNoNoYesNoYesYesYesNoYesYes...</td>\n",
       "      <td>13104.308830</td>\n",
       "      <td>48346.319290</td>\n",
       "      <td>38434.883414</td>\n",
       "    </tr>\n",
       "  </tbody>\n",
       "</table>\n",
       "</div>"
      ],
      "text/plain": [
       "                                    type  in_number     price        oldrate  \\\n",
       "0                          Bar furniture         47   31939.0   21814.231746   \n",
       "1                                   Beds        208  342666.0   94769.584127   \n",
       "2             Bookcases & shelving units        548  284640.0  246459.533333   \n",
       "3                   Cabinets & cupboards        292  230392.6  132416.457143   \n",
       "4                         Café furniture         26   14401.0   11917.263492   \n",
       "5                                 Chairs        481  504536.6  210821.088889   \n",
       "6       Chests of drawers & drawer units        125   76522.5   57178.546032   \n",
       "7                   Children's furniture        124   33822.0   55326.809524   \n",
       "8                      Nursery furniture         97   38185.0   43774.349206   \n",
       "9                      Outdoor furniture        216  185722.6   95381.796825   \n",
       "10                         Room dividers         13   12116.0    6086.082540   \n",
       "11  Sideboards, buffets & console tables         23   24566.0   10897.165079   \n",
       "12                     Sofas & armchairs        428  857719.0  190008.085714   \n",
       "13                  TV & media furniture        190  125219.6   84304.714286   \n",
       "14                        Tables & desks        612  691190.0  275504.111111   \n",
       "15                              Trolleys         28   18998.5   13092.558730   \n",
       "16                             Wardrobes        236  510265.5  112911.158730   \n",
       "\n",
       "    is_online                                      color_options  \\\n",
       "0          44  NoNoNoYesNoNoNoNoNoNoNoNoNoNoNoNoNoYesNoNoNoNo...   \n",
       "1         205  NoNoNoNoNoNoYesNoYesNoYesYesNoYesNoYesYesYesNo...   \n",
       "2         547  NoNoNoNoNoNoNoYesYesNoYesNoNoYesNoNoNoNoYesYes...   \n",
       "3         291  NoYesNoYesYesYesYesNoNoYesYesYesNoYesYesNoYesY...   \n",
       "4          26  NoNoNoNoYesNoNoYesNoNoNoNoNoNoYesNoYesNoNoNoNo...   \n",
       "5         477  NoNoYesYesNoYesNoNoNoYesNoYesYesNoNoYesYesNoNo...   \n",
       "6         125  NoYesYesNoNoYesNoYesYesNoYesYesNoYesNoNoYesNoN...   \n",
       "7         119  NoNoYesNoNoNoNoNoNoNoNoNoNoYesNoNoNoNoYesNoNoN...   \n",
       "8          93  NoNoNoNoNoNoNoNoNoNoNoNoNoNoNoYesNoNoNoNoYesNo...   \n",
       "9         216  YesNoYesNoNoNoYesNoNoNoYesNoNoNoYesYesNoYesNoN...   \n",
       "10         13                 YesYesNoYesNoNoYesYesNoYesYesNoYes   \n",
       "11         23  YesNoYesNoNoNoYesYesNoYesYesYesNoYesYesYesYesY...   \n",
       "12        427  YesYesYesYesYesYesYesNoYesYesYesYesYesYesYesNo...   \n",
       "13        189  YesNoNoYesYesYesYesYesNoNoNoNoYesNoYesYesYesYe...   \n",
       "14        608  NoNoYesNoYesNoYesYesYesYesYesYesYesNoNoNoYesNo...   \n",
       "15         27  YesYesNoNoNoNoNoNoNoNoNoNoNoNoNoNoNoNoNoNoNoNo...   \n",
       "16        236  NoYesNoYesNoNoNoNoNoNoNoYesNoYesYesYesNoYesYes...   \n",
       "\n",
       "           depth        height         width  \n",
       "0    2354.584043   4635.159645   3003.708535  \n",
       "1   13581.400269  18192.678492  28669.829630  \n",
       "2   21892.024204  68723.076866  58279.367794  \n",
       "3   11876.856118  32388.158167  29040.950725  \n",
       "4    1279.550426   2187.719882   1663.354267  \n",
       "5   27906.978037  41703.874353  35346.318519  \n",
       "6    5923.516809   9857.359941   9583.000000  \n",
       "7    5816.376065  10077.679231   8060.825121  \n",
       "8    4529.755267   8446.839616   6435.883414  \n",
       "9   13185.470641  18533.797487  19824.600966  \n",
       "10    568.137606   1658.399852   1929.470853  \n",
       "11    985.137606   2531.000000   2677.000000  \n",
       "12  35272.702824  36600.595713  67218.982287  \n",
       "13   8040.614523  19061.158167  24132.950725  \n",
       "14  33078.154639  50222.314117  49976.206441  \n",
       "15   1481.204841   2439.679970   1638.000000  \n",
       "16  13104.308830  48346.319290  38434.883414  "
      ]
     },
     "execution_count": 40,
     "metadata": {},
     "output_type": "execute_result"
    }
   ],
   "source": [
    "cx = pd.merge(dx, df, on = \"type\", how = \"outer\")\n",
    "cx"
   ]
  },
  {
   "cell_type": "code",
   "execution_count": 41,
   "metadata": {
    "colab": {
     "base_uri": "https://localhost:8080/",
     "height": 582
    },
    "id": "a2iUHZdTH9sa",
    "outputId": "d20aa3d6-fc79-4a60-b091-ac9492e6a87d"
   },
   "outputs": [
    {
     "data": {
      "text/html": [
       "<div>\n",
       "<style scoped>\n",
       "    .dataframe tbody tr th:only-of-type {\n",
       "        vertical-align: middle;\n",
       "    }\n",
       "\n",
       "    .dataframe tbody tr th {\n",
       "        vertical-align: top;\n",
       "    }\n",
       "\n",
       "    .dataframe thead th {\n",
       "        text-align: right;\n",
       "    }\n",
       "</style>\n",
       "<table border=\"1\" class=\"dataframe\">\n",
       "  <thead>\n",
       "    <tr style=\"text-align: right;\">\n",
       "      <th></th>\n",
       "      <th>type</th>\n",
       "      <th>in_number</th>\n",
       "      <th>price</th>\n",
       "      <th>oldrate</th>\n",
       "      <th>is_online</th>\n",
       "      <th>color_options</th>\n",
       "      <th>depth</th>\n",
       "      <th>height</th>\n",
       "      <th>width</th>\n",
       "      <th>not_online</th>\n",
       "    </tr>\n",
       "  </thead>\n",
       "  <tbody>\n",
       "    <tr>\n",
       "      <th>0</th>\n",
       "      <td>Bar furniture</td>\n",
       "      <td>47</td>\n",
       "      <td>31939.0</td>\n",
       "      <td>21814.231746</td>\n",
       "      <td>44</td>\n",
       "      <td>NoNoNoYesNoNoNoNoNoNoNoNoNoNoNoNoNoYesNoNoNoNo...</td>\n",
       "      <td>2354.584043</td>\n",
       "      <td>4635.159645</td>\n",
       "      <td>3003.708535</td>\n",
       "      <td>3</td>\n",
       "    </tr>\n",
       "    <tr>\n",
       "      <th>1</th>\n",
       "      <td>Beds</td>\n",
       "      <td>208</td>\n",
       "      <td>342666.0</td>\n",
       "      <td>94769.584127</td>\n",
       "      <td>205</td>\n",
       "      <td>NoNoNoNoNoNoYesNoYesNoYesYesNoYesNoYesYesYesNo...</td>\n",
       "      <td>13581.400269</td>\n",
       "      <td>18192.678492</td>\n",
       "      <td>28669.829630</td>\n",
       "      <td>3</td>\n",
       "    </tr>\n",
       "    <tr>\n",
       "      <th>2</th>\n",
       "      <td>Bookcases &amp; shelving units</td>\n",
       "      <td>548</td>\n",
       "      <td>284640.0</td>\n",
       "      <td>246459.533333</td>\n",
       "      <td>547</td>\n",
       "      <td>NoNoNoNoNoNoNoYesYesNoYesNoNoYesNoNoNoNoYesYes...</td>\n",
       "      <td>21892.024204</td>\n",
       "      <td>68723.076866</td>\n",
       "      <td>58279.367794</td>\n",
       "      <td>1</td>\n",
       "    </tr>\n",
       "    <tr>\n",
       "      <th>3</th>\n",
       "      <td>Cabinets &amp; cupboards</td>\n",
       "      <td>292</td>\n",
       "      <td>230392.6</td>\n",
       "      <td>132416.457143</td>\n",
       "      <td>291</td>\n",
       "      <td>NoYesNoYesYesYesYesNoNoYesYesYesNoYesYesNoYesY...</td>\n",
       "      <td>11876.856118</td>\n",
       "      <td>32388.158167</td>\n",
       "      <td>29040.950725</td>\n",
       "      <td>1</td>\n",
       "    </tr>\n",
       "    <tr>\n",
       "      <th>4</th>\n",
       "      <td>Café furniture</td>\n",
       "      <td>26</td>\n",
       "      <td>14401.0</td>\n",
       "      <td>11917.263492</td>\n",
       "      <td>26</td>\n",
       "      <td>NoNoNoNoYesNoNoYesNoNoNoNoNoNoYesNoYesNoNoNoNo...</td>\n",
       "      <td>1279.550426</td>\n",
       "      <td>2187.719882</td>\n",
       "      <td>1663.354267</td>\n",
       "      <td>0</td>\n",
       "    </tr>\n",
       "    <tr>\n",
       "      <th>5</th>\n",
       "      <td>Chairs</td>\n",
       "      <td>481</td>\n",
       "      <td>504536.6</td>\n",
       "      <td>210821.088889</td>\n",
       "      <td>477</td>\n",
       "      <td>NoNoYesYesNoYesNoNoNoYesNoYesYesNoNoYesYesNoNo...</td>\n",
       "      <td>27906.978037</td>\n",
       "      <td>41703.874353</td>\n",
       "      <td>35346.318519</td>\n",
       "      <td>4</td>\n",
       "    </tr>\n",
       "    <tr>\n",
       "      <th>6</th>\n",
       "      <td>Chests of drawers &amp; drawer units</td>\n",
       "      <td>125</td>\n",
       "      <td>76522.5</td>\n",
       "      <td>57178.546032</td>\n",
       "      <td>125</td>\n",
       "      <td>NoYesYesNoNoYesNoYesYesNoYesYesNoYesNoNoYesNoN...</td>\n",
       "      <td>5923.516809</td>\n",
       "      <td>9857.359941</td>\n",
       "      <td>9583.000000</td>\n",
       "      <td>0</td>\n",
       "    </tr>\n",
       "    <tr>\n",
       "      <th>7</th>\n",
       "      <td>Children's furniture</td>\n",
       "      <td>124</td>\n",
       "      <td>33822.0</td>\n",
       "      <td>55326.809524</td>\n",
       "      <td>119</td>\n",
       "      <td>NoNoYesNoNoNoNoNoNoNoNoNoNoYesNoNoNoNoYesNoNoN...</td>\n",
       "      <td>5816.376065</td>\n",
       "      <td>10077.679231</td>\n",
       "      <td>8060.825121</td>\n",
       "      <td>5</td>\n",
       "    </tr>\n",
       "    <tr>\n",
       "      <th>8</th>\n",
       "      <td>Nursery furniture</td>\n",
       "      <td>97</td>\n",
       "      <td>38185.0</td>\n",
       "      <td>43774.349206</td>\n",
       "      <td>93</td>\n",
       "      <td>NoNoNoNoNoNoNoNoNoNoNoNoNoNoNoYesNoNoNoNoYesNo...</td>\n",
       "      <td>4529.755267</td>\n",
       "      <td>8446.839616</td>\n",
       "      <td>6435.883414</td>\n",
       "      <td>4</td>\n",
       "    </tr>\n",
       "    <tr>\n",
       "      <th>9</th>\n",
       "      <td>Outdoor furniture</td>\n",
       "      <td>216</td>\n",
       "      <td>185722.6</td>\n",
       "      <td>95381.796825</td>\n",
       "      <td>216</td>\n",
       "      <td>YesNoYesNoNoNoYesNoNoNoYesNoNoNoYesYesNoYesNoN...</td>\n",
       "      <td>13185.470641</td>\n",
       "      <td>18533.797487</td>\n",
       "      <td>19824.600966</td>\n",
       "      <td>0</td>\n",
       "    </tr>\n",
       "    <tr>\n",
       "      <th>10</th>\n",
       "      <td>Room dividers</td>\n",
       "      <td>13</td>\n",
       "      <td>12116.0</td>\n",
       "      <td>6086.082540</td>\n",
       "      <td>13</td>\n",
       "      <td>YesYesNoYesNoNoYesYesNoYesYesNoYes</td>\n",
       "      <td>568.137606</td>\n",
       "      <td>1658.399852</td>\n",
       "      <td>1929.470853</td>\n",
       "      <td>0</td>\n",
       "    </tr>\n",
       "    <tr>\n",
       "      <th>11</th>\n",
       "      <td>Sideboards, buffets &amp; console tables</td>\n",
       "      <td>23</td>\n",
       "      <td>24566.0</td>\n",
       "      <td>10897.165079</td>\n",
       "      <td>23</td>\n",
       "      <td>YesNoYesNoNoNoYesYesNoYesYesYesNoYesYesYesYesY...</td>\n",
       "      <td>985.137606</td>\n",
       "      <td>2531.000000</td>\n",
       "      <td>2677.000000</td>\n",
       "      <td>0</td>\n",
       "    </tr>\n",
       "    <tr>\n",
       "      <th>12</th>\n",
       "      <td>Sofas &amp; armchairs</td>\n",
       "      <td>428</td>\n",
       "      <td>857719.0</td>\n",
       "      <td>190008.085714</td>\n",
       "      <td>427</td>\n",
       "      <td>YesYesYesYesYesYesYesNoYesYesYesYesYesYesYesNo...</td>\n",
       "      <td>35272.702824</td>\n",
       "      <td>36600.595713</td>\n",
       "      <td>67218.982287</td>\n",
       "      <td>1</td>\n",
       "    </tr>\n",
       "    <tr>\n",
       "      <th>13</th>\n",
       "      <td>TV &amp; media furniture</td>\n",
       "      <td>190</td>\n",
       "      <td>125219.6</td>\n",
       "      <td>84304.714286</td>\n",
       "      <td>189</td>\n",
       "      <td>YesNoNoYesYesYesYesYesNoNoNoNoYesNoYesYesYesYe...</td>\n",
       "      <td>8040.614523</td>\n",
       "      <td>19061.158167</td>\n",
       "      <td>24132.950725</td>\n",
       "      <td>1</td>\n",
       "    </tr>\n",
       "    <tr>\n",
       "      <th>14</th>\n",
       "      <td>Tables &amp; desks</td>\n",
       "      <td>612</td>\n",
       "      <td>691190.0</td>\n",
       "      <td>275504.111111</td>\n",
       "      <td>608</td>\n",
       "      <td>NoNoYesNoYesNoYesYesYesYesYesYesYesNoNoNoYesNo...</td>\n",
       "      <td>33078.154639</td>\n",
       "      <td>50222.314117</td>\n",
       "      <td>49976.206441</td>\n",
       "      <td>4</td>\n",
       "    </tr>\n",
       "    <tr>\n",
       "      <th>15</th>\n",
       "      <td>Trolleys</td>\n",
       "      <td>28</td>\n",
       "      <td>18998.5</td>\n",
       "      <td>13092.558730</td>\n",
       "      <td>27</td>\n",
       "      <td>YesYesNoNoNoNoNoNoNoNoNoNoNoNoNoNoNoNoNoNoNoNo...</td>\n",
       "      <td>1481.204841</td>\n",
       "      <td>2439.679970</td>\n",
       "      <td>1638.000000</td>\n",
       "      <td>1</td>\n",
       "    </tr>\n",
       "    <tr>\n",
       "      <th>16</th>\n",
       "      <td>Wardrobes</td>\n",
       "      <td>236</td>\n",
       "      <td>510265.5</td>\n",
       "      <td>112911.158730</td>\n",
       "      <td>236</td>\n",
       "      <td>NoYesNoYesNoNoNoNoNoNoNoYesNoYesYesYesNoYesYes...</td>\n",
       "      <td>13104.308830</td>\n",
       "      <td>48346.319290</td>\n",
       "      <td>38434.883414</td>\n",
       "      <td>0</td>\n",
       "    </tr>\n",
       "  </tbody>\n",
       "</table>\n",
       "</div>"
      ],
      "text/plain": [
       "                                    type  in_number     price        oldrate  \\\n",
       "0                          Bar furniture         47   31939.0   21814.231746   \n",
       "1                                   Beds        208  342666.0   94769.584127   \n",
       "2             Bookcases & shelving units        548  284640.0  246459.533333   \n",
       "3                   Cabinets & cupboards        292  230392.6  132416.457143   \n",
       "4                         Café furniture         26   14401.0   11917.263492   \n",
       "5                                 Chairs        481  504536.6  210821.088889   \n",
       "6       Chests of drawers & drawer units        125   76522.5   57178.546032   \n",
       "7                   Children's furniture        124   33822.0   55326.809524   \n",
       "8                      Nursery furniture         97   38185.0   43774.349206   \n",
       "9                      Outdoor furniture        216  185722.6   95381.796825   \n",
       "10                         Room dividers         13   12116.0    6086.082540   \n",
       "11  Sideboards, buffets & console tables         23   24566.0   10897.165079   \n",
       "12                     Sofas & armchairs        428  857719.0  190008.085714   \n",
       "13                  TV & media furniture        190  125219.6   84304.714286   \n",
       "14                        Tables & desks        612  691190.0  275504.111111   \n",
       "15                              Trolleys         28   18998.5   13092.558730   \n",
       "16                             Wardrobes        236  510265.5  112911.158730   \n",
       "\n",
       "    is_online                                      color_options  \\\n",
       "0          44  NoNoNoYesNoNoNoNoNoNoNoNoNoNoNoNoNoYesNoNoNoNo...   \n",
       "1         205  NoNoNoNoNoNoYesNoYesNoYesYesNoYesNoYesYesYesNo...   \n",
       "2         547  NoNoNoNoNoNoNoYesYesNoYesNoNoYesNoNoNoNoYesYes...   \n",
       "3         291  NoYesNoYesYesYesYesNoNoYesYesYesNoYesYesNoYesY...   \n",
       "4          26  NoNoNoNoYesNoNoYesNoNoNoNoNoNoYesNoYesNoNoNoNo...   \n",
       "5         477  NoNoYesYesNoYesNoNoNoYesNoYesYesNoNoYesYesNoNo...   \n",
       "6         125  NoYesYesNoNoYesNoYesYesNoYesYesNoYesNoNoYesNoN...   \n",
       "7         119  NoNoYesNoNoNoNoNoNoNoNoNoNoYesNoNoNoNoYesNoNoN...   \n",
       "8          93  NoNoNoNoNoNoNoNoNoNoNoNoNoNoNoYesNoNoNoNoYesNo...   \n",
       "9         216  YesNoYesNoNoNoYesNoNoNoYesNoNoNoYesYesNoYesNoN...   \n",
       "10         13                 YesYesNoYesNoNoYesYesNoYesYesNoYes   \n",
       "11         23  YesNoYesNoNoNoYesYesNoYesYesYesNoYesYesYesYesY...   \n",
       "12        427  YesYesYesYesYesYesYesNoYesYesYesYesYesYesYesNo...   \n",
       "13        189  YesNoNoYesYesYesYesYesNoNoNoNoYesNoYesYesYesYe...   \n",
       "14        608  NoNoYesNoYesNoYesYesYesYesYesYesYesNoNoNoYesNo...   \n",
       "15         27  YesYesNoNoNoNoNoNoNoNoNoNoNoNoNoNoNoNoNoNoNoNo...   \n",
       "16        236  NoYesNoYesNoNoNoNoNoNoNoYesNoYesYesYesNoYesYes...   \n",
       "\n",
       "           depth        height         width  not_online  \n",
       "0    2354.584043   4635.159645   3003.708535           3  \n",
       "1   13581.400269  18192.678492  28669.829630           3  \n",
       "2   21892.024204  68723.076866  58279.367794           1  \n",
       "3   11876.856118  32388.158167  29040.950725           1  \n",
       "4    1279.550426   2187.719882   1663.354267           0  \n",
       "5   27906.978037  41703.874353  35346.318519           4  \n",
       "6    5923.516809   9857.359941   9583.000000           0  \n",
       "7    5816.376065  10077.679231   8060.825121           5  \n",
       "8    4529.755267   8446.839616   6435.883414           4  \n",
       "9   13185.470641  18533.797487  19824.600966           0  \n",
       "10    568.137606   1658.399852   1929.470853           0  \n",
       "11    985.137606   2531.000000   2677.000000           0  \n",
       "12  35272.702824  36600.595713  67218.982287           1  \n",
       "13   8040.614523  19061.158167  24132.950725           1  \n",
       "14  33078.154639  50222.314117  49976.206441           4  \n",
       "15   1481.204841   2439.679970   1638.000000           1  \n",
       "16  13104.308830  48346.319290  38434.883414           0  "
      ]
     },
     "execution_count": 41,
     "metadata": {},
     "output_type": "execute_result"
    }
   ],
   "source": [
    "cx['not_online'] = cx['in_number'] - cx['is_online']\n",
    "cx"
   ]
  },
  {
   "cell_type": "markdown",
   "metadata": {
    "id": "l1RdnJgmIBXY"
   },
   "source": [
    "**Answer :**\n",
    "* There are around 5 products from Children's Furniture of IKEA which are unavailable online.\n",
    "* From 124 Children's Furniture products of IKEA, only 119 of them have an online presence.\n",
    "* This could be because the products might be specialised in nature which are best experienced in-store."
   ]
  },
  {
   "cell_type": "markdown",
   "metadata": {
    "id": "9yD0ib1lIEQj"
   },
   "source": [
    "**3. Which products have a strong online presence?**"
   ]
  },
  {
   "cell_type": "code",
   "execution_count": 42,
   "metadata": {
    "colab": {
     "base_uri": "https://localhost:8080/",
     "height": 614
    },
    "id": "4sGBN2jEIGnH",
    "outputId": "4fcb94d3-7b1f-4996-83f7-c515623e81f7"
   },
   "outputs": [
    {
     "data": {
      "text/html": [
       "<div>\n",
       "<style scoped>\n",
       "    .dataframe tbody tr th:only-of-type {\n",
       "        vertical-align: middle;\n",
       "    }\n",
       "\n",
       "    .dataframe tbody tr th {\n",
       "        vertical-align: top;\n",
       "    }\n",
       "\n",
       "    .dataframe thead th {\n",
       "        text-align: right;\n",
       "    }\n",
       "</style>\n",
       "<table border=\"1\" class=\"dataframe\">\n",
       "  <thead>\n",
       "    <tr style=\"text-align: right;\">\n",
       "      <th></th>\n",
       "      <th></th>\n",
       "      <th></th>\n",
       "      <th>price</th>\n",
       "      <th>oldrate</th>\n",
       "      <th>color_options</th>\n",
       "      <th>depth</th>\n",
       "      <th>height</th>\n",
       "      <th>width</th>\n",
       "      <th>not_online</th>\n",
       "    </tr>\n",
       "    <tr>\n",
       "      <th>type</th>\n",
       "      <th>in_number</th>\n",
       "      <th>is_online</th>\n",
       "      <th></th>\n",
       "      <th></th>\n",
       "      <th></th>\n",
       "      <th></th>\n",
       "      <th></th>\n",
       "      <th></th>\n",
       "      <th></th>\n",
       "    </tr>\n",
       "  </thead>\n",
       "  <tbody>\n",
       "    <tr>\n",
       "      <th>Bar furniture</th>\n",
       "      <th>47</th>\n",
       "      <th>44</th>\n",
       "      <td>31939.0</td>\n",
       "      <td>21814.231746</td>\n",
       "      <td>NoNoNoYesNoNoNoNoNoNoNoNoNoNoNoNoNoYesNoNoNoNo...</td>\n",
       "      <td>2354.584043</td>\n",
       "      <td>4635.159645</td>\n",
       "      <td>3003.708535</td>\n",
       "      <td>3</td>\n",
       "    </tr>\n",
       "    <tr>\n",
       "      <th>Beds</th>\n",
       "      <th>208</th>\n",
       "      <th>205</th>\n",
       "      <td>342666.0</td>\n",
       "      <td>94769.584127</td>\n",
       "      <td>NoNoNoNoNoNoYesNoYesNoYesYesNoYesNoYesYesYesNo...</td>\n",
       "      <td>13581.400269</td>\n",
       "      <td>18192.678492</td>\n",
       "      <td>28669.829630</td>\n",
       "      <td>3</td>\n",
       "    </tr>\n",
       "    <tr>\n",
       "      <th>Bookcases &amp; shelving units</th>\n",
       "      <th>548</th>\n",
       "      <th>547</th>\n",
       "      <td>284640.0</td>\n",
       "      <td>246459.533333</td>\n",
       "      <td>NoNoNoNoNoNoNoYesYesNoYesNoNoYesNoNoNoNoYesYes...</td>\n",
       "      <td>21892.024204</td>\n",
       "      <td>68723.076866</td>\n",
       "      <td>58279.367794</td>\n",
       "      <td>1</td>\n",
       "    </tr>\n",
       "    <tr>\n",
       "      <th>Cabinets &amp; cupboards</th>\n",
       "      <th>292</th>\n",
       "      <th>291</th>\n",
       "      <td>230392.6</td>\n",
       "      <td>132416.457143</td>\n",
       "      <td>NoYesNoYesYesYesYesNoNoYesYesYesNoYesYesNoYesY...</td>\n",
       "      <td>11876.856118</td>\n",
       "      <td>32388.158167</td>\n",
       "      <td>29040.950725</td>\n",
       "      <td>1</td>\n",
       "    </tr>\n",
       "    <tr>\n",
       "      <th>Café furniture</th>\n",
       "      <th>26</th>\n",
       "      <th>26</th>\n",
       "      <td>14401.0</td>\n",
       "      <td>11917.263492</td>\n",
       "      <td>NoNoNoNoYesNoNoYesNoNoNoNoNoNoYesNoYesNoNoNoNo...</td>\n",
       "      <td>1279.550426</td>\n",
       "      <td>2187.719882</td>\n",
       "      <td>1663.354267</td>\n",
       "      <td>0</td>\n",
       "    </tr>\n",
       "    <tr>\n",
       "      <th>Chairs</th>\n",
       "      <th>481</th>\n",
       "      <th>477</th>\n",
       "      <td>504536.6</td>\n",
       "      <td>210821.088889</td>\n",
       "      <td>NoNoYesYesNoYesNoNoNoYesNoYesYesNoNoYesYesNoNo...</td>\n",
       "      <td>27906.978037</td>\n",
       "      <td>41703.874353</td>\n",
       "      <td>35346.318519</td>\n",
       "      <td>4</td>\n",
       "    </tr>\n",
       "    <tr>\n",
       "      <th>Chests of drawers &amp; drawer units</th>\n",
       "      <th>125</th>\n",
       "      <th>125</th>\n",
       "      <td>76522.5</td>\n",
       "      <td>57178.546032</td>\n",
       "      <td>NoYesYesNoNoYesNoYesYesNoYesYesNoYesNoNoYesNoN...</td>\n",
       "      <td>5923.516809</td>\n",
       "      <td>9857.359941</td>\n",
       "      <td>9583.000000</td>\n",
       "      <td>0</td>\n",
       "    </tr>\n",
       "    <tr>\n",
       "      <th>Children's furniture</th>\n",
       "      <th>124</th>\n",
       "      <th>119</th>\n",
       "      <td>33822.0</td>\n",
       "      <td>55326.809524</td>\n",
       "      <td>NoNoYesNoNoNoNoNoNoNoNoNoNoYesNoNoNoNoYesNoNoN...</td>\n",
       "      <td>5816.376065</td>\n",
       "      <td>10077.679231</td>\n",
       "      <td>8060.825121</td>\n",
       "      <td>5</td>\n",
       "    </tr>\n",
       "    <tr>\n",
       "      <th>Nursery furniture</th>\n",
       "      <th>97</th>\n",
       "      <th>93</th>\n",
       "      <td>38185.0</td>\n",
       "      <td>43774.349206</td>\n",
       "      <td>NoNoNoNoNoNoNoNoNoNoNoNoNoNoNoYesNoNoNoNoYesNo...</td>\n",
       "      <td>4529.755267</td>\n",
       "      <td>8446.839616</td>\n",
       "      <td>6435.883414</td>\n",
       "      <td>4</td>\n",
       "    </tr>\n",
       "    <tr>\n",
       "      <th>Outdoor furniture</th>\n",
       "      <th>216</th>\n",
       "      <th>216</th>\n",
       "      <td>185722.6</td>\n",
       "      <td>95381.796825</td>\n",
       "      <td>YesNoYesNoNoNoYesNoNoNoYesNoNoNoYesYesNoYesNoN...</td>\n",
       "      <td>13185.470641</td>\n",
       "      <td>18533.797487</td>\n",
       "      <td>19824.600966</td>\n",
       "      <td>0</td>\n",
       "    </tr>\n",
       "    <tr>\n",
       "      <th>Room dividers</th>\n",
       "      <th>13</th>\n",
       "      <th>13</th>\n",
       "      <td>12116.0</td>\n",
       "      <td>6086.082540</td>\n",
       "      <td>YesYesNoYesNoNoYesYesNoYesYesNoYes</td>\n",
       "      <td>568.137606</td>\n",
       "      <td>1658.399852</td>\n",
       "      <td>1929.470853</td>\n",
       "      <td>0</td>\n",
       "    </tr>\n",
       "    <tr>\n",
       "      <th>Sideboards, buffets &amp; console tables</th>\n",
       "      <th>23</th>\n",
       "      <th>23</th>\n",
       "      <td>24566.0</td>\n",
       "      <td>10897.165079</td>\n",
       "      <td>YesNoYesNoNoNoYesYesNoYesYesYesNoYesYesYesYesY...</td>\n",
       "      <td>985.137606</td>\n",
       "      <td>2531.000000</td>\n",
       "      <td>2677.000000</td>\n",
       "      <td>0</td>\n",
       "    </tr>\n",
       "    <tr>\n",
       "      <th>Sofas &amp; armchairs</th>\n",
       "      <th>428</th>\n",
       "      <th>427</th>\n",
       "      <td>857719.0</td>\n",
       "      <td>190008.085714</td>\n",
       "      <td>YesYesYesYesYesYesYesNoYesYesYesYesYesYesYesNo...</td>\n",
       "      <td>35272.702824</td>\n",
       "      <td>36600.595713</td>\n",
       "      <td>67218.982287</td>\n",
       "      <td>1</td>\n",
       "    </tr>\n",
       "    <tr>\n",
       "      <th>TV &amp; media furniture</th>\n",
       "      <th>190</th>\n",
       "      <th>189</th>\n",
       "      <td>125219.6</td>\n",
       "      <td>84304.714286</td>\n",
       "      <td>YesNoNoYesYesYesYesYesNoNoNoNoYesNoYesYesYesYe...</td>\n",
       "      <td>8040.614523</td>\n",
       "      <td>19061.158167</td>\n",
       "      <td>24132.950725</td>\n",
       "      <td>1</td>\n",
       "    </tr>\n",
       "    <tr>\n",
       "      <th>Tables &amp; desks</th>\n",
       "      <th>612</th>\n",
       "      <th>608</th>\n",
       "      <td>691190.0</td>\n",
       "      <td>275504.111111</td>\n",
       "      <td>NoNoYesNoYesNoYesYesYesYesYesYesYesNoNoNoYesNo...</td>\n",
       "      <td>33078.154639</td>\n",
       "      <td>50222.314117</td>\n",
       "      <td>49976.206441</td>\n",
       "      <td>4</td>\n",
       "    </tr>\n",
       "    <tr>\n",
       "      <th>Trolleys</th>\n",
       "      <th>28</th>\n",
       "      <th>27</th>\n",
       "      <td>18998.5</td>\n",
       "      <td>13092.558730</td>\n",
       "      <td>YesYesNoNoNoNoNoNoNoNoNoNoNoNoNoNoNoNoNoNoNoNo...</td>\n",
       "      <td>1481.204841</td>\n",
       "      <td>2439.679970</td>\n",
       "      <td>1638.000000</td>\n",
       "      <td>1</td>\n",
       "    </tr>\n",
       "    <tr>\n",
       "      <th>Wardrobes</th>\n",
       "      <th>236</th>\n",
       "      <th>236</th>\n",
       "      <td>510265.5</td>\n",
       "      <td>112911.158730</td>\n",
       "      <td>NoYesNoYesNoNoNoNoNoNoNoYesNoYesYesYesNoYesYes...</td>\n",
       "      <td>13104.308830</td>\n",
       "      <td>48346.319290</td>\n",
       "      <td>38434.883414</td>\n",
       "      <td>0</td>\n",
       "    </tr>\n",
       "  </tbody>\n",
       "</table>\n",
       "</div>"
      ],
      "text/plain": [
       "                                                             price  \\\n",
       "type                                 in_number is_online             \n",
       "Bar furniture                        47        44          31939.0   \n",
       "Beds                                 208       205        342666.0   \n",
       "Bookcases & shelving units           548       547        284640.0   \n",
       "Cabinets & cupboards                 292       291        230392.6   \n",
       "Café furniture                       26        26          14401.0   \n",
       "Chairs                               481       477        504536.6   \n",
       "Chests of drawers & drawer units     125       125         76522.5   \n",
       "Children's furniture                 124       119         33822.0   \n",
       "Nursery furniture                    97        93          38185.0   \n",
       "Outdoor furniture                    216       216        185722.6   \n",
       "Room dividers                        13        13          12116.0   \n",
       "Sideboards, buffets & console tables 23        23          24566.0   \n",
       "Sofas & armchairs                    428       427        857719.0   \n",
       "TV & media furniture                 190       189        125219.6   \n",
       "Tables & desks                       612       608        691190.0   \n",
       "Trolleys                             28        27          18998.5   \n",
       "Wardrobes                            236       236        510265.5   \n",
       "\n",
       "                                                                oldrate  \\\n",
       "type                                 in_number is_online                  \n",
       "Bar furniture                        47        44          21814.231746   \n",
       "Beds                                 208       205         94769.584127   \n",
       "Bookcases & shelving units           548       547        246459.533333   \n",
       "Cabinets & cupboards                 292       291        132416.457143   \n",
       "Café furniture                       26        26          11917.263492   \n",
       "Chairs                               481       477        210821.088889   \n",
       "Chests of drawers & drawer units     125       125         57178.546032   \n",
       "Children's furniture                 124       119         55326.809524   \n",
       "Nursery furniture                    97        93          43774.349206   \n",
       "Outdoor furniture                    216       216         95381.796825   \n",
       "Room dividers                        13        13           6086.082540   \n",
       "Sideboards, buffets & console tables 23        23          10897.165079   \n",
       "Sofas & armchairs                    428       427        190008.085714   \n",
       "TV & media furniture                 190       189         84304.714286   \n",
       "Tables & desks                       612       608        275504.111111   \n",
       "Trolleys                             28        27          13092.558730   \n",
       "Wardrobes                            236       236        112911.158730   \n",
       "\n",
       "                                                                                              color_options  \\\n",
       "type                                 in_number is_online                                                      \n",
       "Bar furniture                        47        44         NoNoNoYesNoNoNoNoNoNoNoNoNoNoNoNoNoYesNoNoNoNo...   \n",
       "Beds                                 208       205        NoNoNoNoNoNoYesNoYesNoYesYesNoYesNoYesYesYesNo...   \n",
       "Bookcases & shelving units           548       547        NoNoNoNoNoNoNoYesYesNoYesNoNoYesNoNoNoNoYesYes...   \n",
       "Cabinets & cupboards                 292       291        NoYesNoYesYesYesYesNoNoYesYesYesNoYesYesNoYesY...   \n",
       "Café furniture                       26        26         NoNoNoNoYesNoNoYesNoNoNoNoNoNoYesNoYesNoNoNoNo...   \n",
       "Chairs                               481       477        NoNoYesYesNoYesNoNoNoYesNoYesYesNoNoYesYesNoNo...   \n",
       "Chests of drawers & drawer units     125       125        NoYesYesNoNoYesNoYesYesNoYesYesNoYesNoNoYesNoN...   \n",
       "Children's furniture                 124       119        NoNoYesNoNoNoNoNoNoNoNoNoNoYesNoNoNoNoYesNoNoN...   \n",
       "Nursery furniture                    97        93         NoNoNoNoNoNoNoNoNoNoNoNoNoNoNoYesNoNoNoNoYesNo...   \n",
       "Outdoor furniture                    216       216        YesNoYesNoNoNoYesNoNoNoYesNoNoNoYesYesNoYesNoN...   \n",
       "Room dividers                        13        13                        YesYesNoYesNoNoYesYesNoYesYesNoYes   \n",
       "Sideboards, buffets & console tables 23        23         YesNoYesNoNoNoYesYesNoYesYesYesNoYesYesYesYesY...   \n",
       "Sofas & armchairs                    428       427        YesYesYesYesYesYesYesNoYesYesYesYesYesYesYesNo...   \n",
       "TV & media furniture                 190       189        YesNoNoYesYesYesYesYesNoNoNoNoYesNoYesYesYesYe...   \n",
       "Tables & desks                       612       608        NoNoYesNoYesNoYesYesYesYesYesYesYesNoNoNoYesNo...   \n",
       "Trolleys                             28        27         YesYesNoNoNoNoNoNoNoNoNoNoNoNoNoNoNoNoNoNoNoNo...   \n",
       "Wardrobes                            236       236        NoYesNoYesNoNoNoNoNoNoNoYesNoYesYesYesNoYesYes...   \n",
       "\n",
       "                                                                 depth  \\\n",
       "type                                 in_number is_online                 \n",
       "Bar furniture                        47        44          2354.584043   \n",
       "Beds                                 208       205        13581.400269   \n",
       "Bookcases & shelving units           548       547        21892.024204   \n",
       "Cabinets & cupboards                 292       291        11876.856118   \n",
       "Café furniture                       26        26          1279.550426   \n",
       "Chairs                               481       477        27906.978037   \n",
       "Chests of drawers & drawer units     125       125         5923.516809   \n",
       "Children's furniture                 124       119         5816.376065   \n",
       "Nursery furniture                    97        93          4529.755267   \n",
       "Outdoor furniture                    216       216        13185.470641   \n",
       "Room dividers                        13        13           568.137606   \n",
       "Sideboards, buffets & console tables 23        23           985.137606   \n",
       "Sofas & armchairs                    428       427        35272.702824   \n",
       "TV & media furniture                 190       189         8040.614523   \n",
       "Tables & desks                       612       608        33078.154639   \n",
       "Trolleys                             28        27          1481.204841   \n",
       "Wardrobes                            236       236        13104.308830   \n",
       "\n",
       "                                                                height  \\\n",
       "type                                 in_number is_online                 \n",
       "Bar furniture                        47        44          4635.159645   \n",
       "Beds                                 208       205        18192.678492   \n",
       "Bookcases & shelving units           548       547        68723.076866   \n",
       "Cabinets & cupboards                 292       291        32388.158167   \n",
       "Café furniture                       26        26          2187.719882   \n",
       "Chairs                               481       477        41703.874353   \n",
       "Chests of drawers & drawer units     125       125         9857.359941   \n",
       "Children's furniture                 124       119        10077.679231   \n",
       "Nursery furniture                    97        93          8446.839616   \n",
       "Outdoor furniture                    216       216        18533.797487   \n",
       "Room dividers                        13        13          1658.399852   \n",
       "Sideboards, buffets & console tables 23        23          2531.000000   \n",
       "Sofas & armchairs                    428       427        36600.595713   \n",
       "TV & media furniture                 190       189        19061.158167   \n",
       "Tables & desks                       612       608        50222.314117   \n",
       "Trolleys                             28        27          2439.679970   \n",
       "Wardrobes                            236       236        48346.319290   \n",
       "\n",
       "                                                                 width  \\\n",
       "type                                 in_number is_online                 \n",
       "Bar furniture                        47        44          3003.708535   \n",
       "Beds                                 208       205        28669.829630   \n",
       "Bookcases & shelving units           548       547        58279.367794   \n",
       "Cabinets & cupboards                 292       291        29040.950725   \n",
       "Café furniture                       26        26          1663.354267   \n",
       "Chairs                               481       477        35346.318519   \n",
       "Chests of drawers & drawer units     125       125         9583.000000   \n",
       "Children's furniture                 124       119         8060.825121   \n",
       "Nursery furniture                    97        93          6435.883414   \n",
       "Outdoor furniture                    216       216        19824.600966   \n",
       "Room dividers                        13        13          1929.470853   \n",
       "Sideboards, buffets & console tables 23        23          2677.000000   \n",
       "Sofas & armchairs                    428       427        67218.982287   \n",
       "TV & media furniture                 190       189        24132.950725   \n",
       "Tables & desks                       612       608        49976.206441   \n",
       "Trolleys                             28        27          1638.000000   \n",
       "Wardrobes                            236       236        38434.883414   \n",
       "\n",
       "                                                          not_online  \n",
       "type                                 in_number is_online              \n",
       "Bar furniture                        47        44                  3  \n",
       "Beds                                 208       205                 3  \n",
       "Bookcases & shelving units           548       547                 1  \n",
       "Cabinets & cupboards                 292       291                 1  \n",
       "Café furniture                       26        26                  0  \n",
       "Chairs                               481       477                 4  \n",
       "Chests of drawers & drawer units     125       125                 0  \n",
       "Children's furniture                 124       119                 5  \n",
       "Nursery furniture                    97        93                  4  \n",
       "Outdoor furniture                    216       216                 0  \n",
       "Room dividers                        13        13                  0  \n",
       "Sideboards, buffets & console tables 23        23                  0  \n",
       "Sofas & armchairs                    428       427                 1  \n",
       "TV & media furniture                 190       189                 1  \n",
       "Tables & desks                       612       608                 4  \n",
       "Trolleys                             28        27                  1  \n",
       "Wardrobes                            236       236                 0  "
      ]
     },
     "execution_count": 42,
     "metadata": {},
     "output_type": "execute_result"
    }
   ],
   "source": [
    "cx.groupby(['type','in_number','is_online']).sum()"
   ]
  },
  {
   "cell_type": "markdown",
   "metadata": {
    "id": "q2IVPpUOIK--"
   },
   "source": [
    "**Answer :**\n",
    "* Cafe Furniture, Chests of drawers & drawer units, Outdoor furniture, Room dividers, Sideboards, buffets & console tables, Wardrobes catogories in IKEA have a strong online presence.\n",
    "* One of the reasons for these products to have a strong online presence could be their high number of sales and strong demand."
   ]
  },
  {
   "cell_type": "markdown",
   "metadata": {
    "id": "Gn4aiYzHIOXa"
   },
   "source": [
    "**4. What are the different categories of furniture products IKEA sells?**\n"
   ]
  },
  {
   "cell_type": "code",
   "execution_count": 43,
   "metadata": {
    "colab": {
     "base_uri": "https://localhost:8080/"
    },
    "id": "JeydzpO_IRS6",
    "outputId": "4c524614-03a8-4cec-ba37-ce9dd1318d49"
   },
   "outputs": [
    {
     "data": {
      "text/plain": [
       "0                            Bar furniture\n",
       "1                                     Beds\n",
       "2               Bookcases & shelving units\n",
       "3                     Cabinets & cupboards\n",
       "4                           Café furniture\n",
       "5                                   Chairs\n",
       "6         Chests of drawers & drawer units\n",
       "7                     Children's furniture\n",
       "8                        Nursery furniture\n",
       "9                        Outdoor furniture\n",
       "10                           Room dividers\n",
       "11    Sideboards, buffets & console tables\n",
       "12                       Sofas & armchairs\n",
       "13                    TV & media furniture\n",
       "14                          Tables & desks\n",
       "15                                Trolleys\n",
       "16                               Wardrobes\n",
       "Name: type, dtype: object"
      ]
     },
     "execution_count": 43,
     "metadata": {},
     "output_type": "execute_result"
    }
   ],
   "source": [
    "df.type"
   ]
  },
  {
   "cell_type": "markdown",
   "metadata": {
    "id": "yxcVfOn4IVii"
   },
   "source": [
    "IKEA sells **17 different furniture products** ranging from Bar Furniture to the Nursery Furniture\n",
    "\n",
    "Below is the detailed list of Furniture IKEA sells,\n",
    "* Bar furniture\n",
    "* Beds\n",
    "* Bookcases & shelving units\n",
    "* Cabinets & cupboards\n",
    "* Café furniture\n",
    "* Chairs\n",
    "* Chests of drawers & drawer units\n",
    "* Children's furniture\n",
    "* Nursery furniture                        \n",
    "* Outdoor furniture\n",
    "* Room dividers\n",
    "* Sideboards, buffets & console tables\n",
    "* Sofas & armchairs\n",
    "* TV & media furniture\n",
    "* Tables & desks                                \n",
    "* Trolleys\n",
    "* Wardrobes"
   ]
  },
  {
   "cell_type": "markdown",
   "metadata": {
    "id": "PFqgK8bwIZjD"
   },
   "source": [
    "**5. How many of IKEA's products are available online?**"
   ]
  },
  {
   "cell_type": "code",
   "execution_count": 44,
   "metadata": {
    "colab": {
     "base_uri": "https://localhost:8080/",
     "height": 614
    },
    "id": "HQVE-qBIIbr7",
    "outputId": "988e1052-4017-462c-a082-c88af4e2b179"
   },
   "outputs": [
    {
     "data": {
      "text/html": [
       "<div>\n",
       "<style scoped>\n",
       "    .dataframe tbody tr th:only-of-type {\n",
       "        vertical-align: middle;\n",
       "    }\n",
       "\n",
       "    .dataframe tbody tr th {\n",
       "        vertical-align: top;\n",
       "    }\n",
       "\n",
       "    .dataframe thead th {\n",
       "        text-align: right;\n",
       "    }\n",
       "</style>\n",
       "<table border=\"1\" class=\"dataframe\">\n",
       "  <thead>\n",
       "    <tr style=\"text-align: right;\">\n",
       "      <th></th>\n",
       "      <th>price</th>\n",
       "      <th>oldrate</th>\n",
       "      <th>is_online</th>\n",
       "      <th>color_options</th>\n",
       "      <th>depth</th>\n",
       "      <th>height</th>\n",
       "      <th>width</th>\n",
       "    </tr>\n",
       "    <tr>\n",
       "      <th>type</th>\n",
       "      <th></th>\n",
       "      <th></th>\n",
       "      <th></th>\n",
       "      <th></th>\n",
       "      <th></th>\n",
       "      <th></th>\n",
       "      <th></th>\n",
       "    </tr>\n",
       "  </thead>\n",
       "  <tbody>\n",
       "    <tr>\n",
       "      <th>Bar furniture</th>\n",
       "      <td>31939.0</td>\n",
       "      <td>21814.231746</td>\n",
       "      <td>44</td>\n",
       "      <td>NoNoNoYesNoNoNoNoNoNoNoNoNoNoNoNoNoYesNoNoNoNo...</td>\n",
       "      <td>2354.584043</td>\n",
       "      <td>4635.159645</td>\n",
       "      <td>3003.708535</td>\n",
       "    </tr>\n",
       "    <tr>\n",
       "      <th>Beds</th>\n",
       "      <td>342666.0</td>\n",
       "      <td>94769.584127</td>\n",
       "      <td>205</td>\n",
       "      <td>NoNoNoNoNoNoYesNoYesNoYesYesNoYesNoYesYesYesNo...</td>\n",
       "      <td>13581.400269</td>\n",
       "      <td>18192.678492</td>\n",
       "      <td>28669.829630</td>\n",
       "    </tr>\n",
       "    <tr>\n",
       "      <th>Bookcases &amp; shelving units</th>\n",
       "      <td>284640.0</td>\n",
       "      <td>246459.533333</td>\n",
       "      <td>547</td>\n",
       "      <td>NoNoNoNoNoNoNoYesYesNoYesNoNoYesNoNoNoNoYesYes...</td>\n",
       "      <td>21892.024204</td>\n",
       "      <td>68723.076866</td>\n",
       "      <td>58279.367794</td>\n",
       "    </tr>\n",
       "    <tr>\n",
       "      <th>Cabinets &amp; cupboards</th>\n",
       "      <td>230392.6</td>\n",
       "      <td>132416.457143</td>\n",
       "      <td>291</td>\n",
       "      <td>NoYesNoYesYesYesYesNoNoYesYesYesNoYesYesNoYesY...</td>\n",
       "      <td>11876.856118</td>\n",
       "      <td>32388.158167</td>\n",
       "      <td>29040.950725</td>\n",
       "    </tr>\n",
       "    <tr>\n",
       "      <th>Café furniture</th>\n",
       "      <td>14401.0</td>\n",
       "      <td>11917.263492</td>\n",
       "      <td>26</td>\n",
       "      <td>NoNoNoNoYesNoNoYesNoNoNoNoNoNoYesNoYesNoNoNoNo...</td>\n",
       "      <td>1279.550426</td>\n",
       "      <td>2187.719882</td>\n",
       "      <td>1663.354267</td>\n",
       "    </tr>\n",
       "    <tr>\n",
       "      <th>Chairs</th>\n",
       "      <td>504536.6</td>\n",
       "      <td>210821.088889</td>\n",
       "      <td>477</td>\n",
       "      <td>NoNoYesYesNoYesNoNoNoYesNoYesYesNoNoYesYesNoNo...</td>\n",
       "      <td>27906.978037</td>\n",
       "      <td>41703.874353</td>\n",
       "      <td>35346.318519</td>\n",
       "    </tr>\n",
       "    <tr>\n",
       "      <th>Chests of drawers &amp; drawer units</th>\n",
       "      <td>76522.5</td>\n",
       "      <td>57178.546032</td>\n",
       "      <td>125</td>\n",
       "      <td>NoYesYesNoNoYesNoYesYesNoYesYesNoYesNoNoYesNoN...</td>\n",
       "      <td>5923.516809</td>\n",
       "      <td>9857.359941</td>\n",
       "      <td>9583.000000</td>\n",
       "    </tr>\n",
       "    <tr>\n",
       "      <th>Children's furniture</th>\n",
       "      <td>33822.0</td>\n",
       "      <td>55326.809524</td>\n",
       "      <td>119</td>\n",
       "      <td>NoNoYesNoNoNoNoNoNoNoNoNoNoYesNoNoNoNoYesNoNoN...</td>\n",
       "      <td>5816.376065</td>\n",
       "      <td>10077.679231</td>\n",
       "      <td>8060.825121</td>\n",
       "    </tr>\n",
       "    <tr>\n",
       "      <th>Nursery furniture</th>\n",
       "      <td>38185.0</td>\n",
       "      <td>43774.349206</td>\n",
       "      <td>93</td>\n",
       "      <td>NoNoNoNoNoNoNoNoNoNoNoNoNoNoNoYesNoNoNoNoYesNo...</td>\n",
       "      <td>4529.755267</td>\n",
       "      <td>8446.839616</td>\n",
       "      <td>6435.883414</td>\n",
       "    </tr>\n",
       "    <tr>\n",
       "      <th>Outdoor furniture</th>\n",
       "      <td>185722.6</td>\n",
       "      <td>95381.796825</td>\n",
       "      <td>216</td>\n",
       "      <td>YesNoYesNoNoNoYesNoNoNoYesNoNoNoYesYesNoYesNoN...</td>\n",
       "      <td>13185.470641</td>\n",
       "      <td>18533.797487</td>\n",
       "      <td>19824.600966</td>\n",
       "    </tr>\n",
       "    <tr>\n",
       "      <th>Room dividers</th>\n",
       "      <td>12116.0</td>\n",
       "      <td>6086.082540</td>\n",
       "      <td>13</td>\n",
       "      <td>YesYesNoYesNoNoYesYesNoYesYesNoYes</td>\n",
       "      <td>568.137606</td>\n",
       "      <td>1658.399852</td>\n",
       "      <td>1929.470853</td>\n",
       "    </tr>\n",
       "    <tr>\n",
       "      <th>Sideboards, buffets &amp; console tables</th>\n",
       "      <td>24566.0</td>\n",
       "      <td>10897.165079</td>\n",
       "      <td>23</td>\n",
       "      <td>YesNoYesNoNoNoYesYesNoYesYesYesNoYesYesYesYesY...</td>\n",
       "      <td>985.137606</td>\n",
       "      <td>2531.000000</td>\n",
       "      <td>2677.000000</td>\n",
       "    </tr>\n",
       "    <tr>\n",
       "      <th>Sofas &amp; armchairs</th>\n",
       "      <td>857719.0</td>\n",
       "      <td>190008.085714</td>\n",
       "      <td>427</td>\n",
       "      <td>YesYesYesYesYesYesYesNoYesYesYesYesYesYesYesNo...</td>\n",
       "      <td>35272.702824</td>\n",
       "      <td>36600.595713</td>\n",
       "      <td>67218.982287</td>\n",
       "    </tr>\n",
       "    <tr>\n",
       "      <th>TV &amp; media furniture</th>\n",
       "      <td>125219.6</td>\n",
       "      <td>84304.714286</td>\n",
       "      <td>189</td>\n",
       "      <td>YesNoNoYesYesYesYesYesNoNoNoNoYesNoYesYesYesYe...</td>\n",
       "      <td>8040.614523</td>\n",
       "      <td>19061.158167</td>\n",
       "      <td>24132.950725</td>\n",
       "    </tr>\n",
       "    <tr>\n",
       "      <th>Tables &amp; desks</th>\n",
       "      <td>691190.0</td>\n",
       "      <td>275504.111111</td>\n",
       "      <td>608</td>\n",
       "      <td>NoNoYesNoYesNoYesYesYesYesYesYesYesNoNoNoYesNo...</td>\n",
       "      <td>33078.154639</td>\n",
       "      <td>50222.314117</td>\n",
       "      <td>49976.206441</td>\n",
       "    </tr>\n",
       "    <tr>\n",
       "      <th>Trolleys</th>\n",
       "      <td>18998.5</td>\n",
       "      <td>13092.558730</td>\n",
       "      <td>27</td>\n",
       "      <td>YesYesNoNoNoNoNoNoNoNoNoNoNoNoNoNoNoNoNoNoNoNo...</td>\n",
       "      <td>1481.204841</td>\n",
       "      <td>2439.679970</td>\n",
       "      <td>1638.000000</td>\n",
       "    </tr>\n",
       "    <tr>\n",
       "      <th>Wardrobes</th>\n",
       "      <td>510265.5</td>\n",
       "      <td>112911.158730</td>\n",
       "      <td>236</td>\n",
       "      <td>NoYesNoYesNoNoNoNoNoNoNoYesNoYesYesYesNoYesYes...</td>\n",
       "      <td>13104.308830</td>\n",
       "      <td>48346.319290</td>\n",
       "      <td>38434.883414</td>\n",
       "    </tr>\n",
       "  </tbody>\n",
       "</table>\n",
       "</div>"
      ],
      "text/plain": [
       "                                         price        oldrate  is_online  \\\n",
       "type                                                                       \n",
       "Bar furniture                          31939.0   21814.231746         44   \n",
       "Beds                                  342666.0   94769.584127        205   \n",
       "Bookcases & shelving units            284640.0  246459.533333        547   \n",
       "Cabinets & cupboards                  230392.6  132416.457143        291   \n",
       "Café furniture                         14401.0   11917.263492         26   \n",
       "Chairs                                504536.6  210821.088889        477   \n",
       "Chests of drawers & drawer units       76522.5   57178.546032        125   \n",
       "Children's furniture                   33822.0   55326.809524        119   \n",
       "Nursery furniture                      38185.0   43774.349206         93   \n",
       "Outdoor furniture                     185722.6   95381.796825        216   \n",
       "Room dividers                          12116.0    6086.082540         13   \n",
       "Sideboards, buffets & console tables   24566.0   10897.165079         23   \n",
       "Sofas & armchairs                     857719.0  190008.085714        427   \n",
       "TV & media furniture                  125219.6   84304.714286        189   \n",
       "Tables & desks                        691190.0  275504.111111        608   \n",
       "Trolleys                               18998.5   13092.558730         27   \n",
       "Wardrobes                             510265.5  112911.158730        236   \n",
       "\n",
       "                                                                          color_options  \\\n",
       "type                                                                                      \n",
       "Bar furniture                         NoNoNoYesNoNoNoNoNoNoNoNoNoNoNoNoNoYesNoNoNoNo...   \n",
       "Beds                                  NoNoNoNoNoNoYesNoYesNoYesYesNoYesNoYesYesYesNo...   \n",
       "Bookcases & shelving units            NoNoNoNoNoNoNoYesYesNoYesNoNoYesNoNoNoNoYesYes...   \n",
       "Cabinets & cupboards                  NoYesNoYesYesYesYesNoNoYesYesYesNoYesYesNoYesY...   \n",
       "Café furniture                        NoNoNoNoYesNoNoYesNoNoNoNoNoNoYesNoYesNoNoNoNo...   \n",
       "Chairs                                NoNoYesYesNoYesNoNoNoYesNoYesYesNoNoYesYesNoNo...   \n",
       "Chests of drawers & drawer units      NoYesYesNoNoYesNoYesYesNoYesYesNoYesNoNoYesNoN...   \n",
       "Children's furniture                  NoNoYesNoNoNoNoNoNoNoNoNoNoYesNoNoNoNoYesNoNoN...   \n",
       "Nursery furniture                     NoNoNoNoNoNoNoNoNoNoNoNoNoNoNoYesNoNoNoNoYesNo...   \n",
       "Outdoor furniture                     YesNoYesNoNoNoYesNoNoNoYesNoNoNoYesYesNoYesNoN...   \n",
       "Room dividers                                        YesYesNoYesNoNoYesYesNoYesYesNoYes   \n",
       "Sideboards, buffets & console tables  YesNoYesNoNoNoYesYesNoYesYesYesNoYesYesYesYesY...   \n",
       "Sofas & armchairs                     YesYesYesYesYesYesYesNoYesYesYesYesYesYesYesNo...   \n",
       "TV & media furniture                  YesNoNoYesYesYesYesYesNoNoNoNoYesNoYesYesYesYe...   \n",
       "Tables & desks                        NoNoYesNoYesNoYesYesYesYesYesYesYesNoNoNoYesNo...   \n",
       "Trolleys                              YesYesNoNoNoNoNoNoNoNoNoNoNoNoNoNoNoNoNoNoNoNo...   \n",
       "Wardrobes                             NoYesNoYesNoNoNoNoNoNoNoYesNoYesYesYesNoYesYes...   \n",
       "\n",
       "                                             depth        height         width  \n",
       "type                                                                            \n",
       "Bar furniture                          2354.584043   4635.159645   3003.708535  \n",
       "Beds                                  13581.400269  18192.678492  28669.829630  \n",
       "Bookcases & shelving units            21892.024204  68723.076866  58279.367794  \n",
       "Cabinets & cupboards                  11876.856118  32388.158167  29040.950725  \n",
       "Café furniture                         1279.550426   2187.719882   1663.354267  \n",
       "Chairs                                27906.978037  41703.874353  35346.318519  \n",
       "Chests of drawers & drawer units       5923.516809   9857.359941   9583.000000  \n",
       "Children's furniture                   5816.376065  10077.679231   8060.825121  \n",
       "Nursery furniture                      4529.755267   8446.839616   6435.883414  \n",
       "Outdoor furniture                     13185.470641  18533.797487  19824.600966  \n",
       "Room dividers                           568.137606   1658.399852   1929.470853  \n",
       "Sideboards, buffets & console tables    985.137606   2531.000000   2677.000000  \n",
       "Sofas & armchairs                     35272.702824  36600.595713  67218.982287  \n",
       "TV & media furniture                   8040.614523  19061.158167  24132.950725  \n",
       "Tables & desks                        33078.154639  50222.314117  49976.206441  \n",
       "Trolleys                               1481.204841   2439.679970   1638.000000  \n",
       "Wardrobes                             13104.308830  48346.319290  38434.883414  "
      ]
     },
     "execution_count": 44,
     "metadata": {},
     "output_type": "execute_result"
    }
   ],
   "source": [
    "data1"
   ]
  },
  {
   "cell_type": "code",
   "execution_count": 45,
   "metadata": {
    "colab": {
     "base_uri": "https://localhost:8080/"
    },
    "id": "JOxZ05GcIfrF",
    "outputId": "c6789b44-3002-4d59-be98-66e2a46ab8ec"
   },
   "outputs": [
    {
     "data": {
      "text/plain": [
       "np.int64(3666)"
      ]
     },
     "execution_count": 45,
     "metadata": {},
     "output_type": "execute_result"
    }
   ],
   "source": [
    "data1.is_online.sum()"
   ]
  },
  {
   "cell_type": "markdown",
   "metadata": {
    "id": "AZyrvonDIjZ2"
   },
   "source": [
    "* Out of 3,694 furniture products of 17 different categories, only **3,666** of them have an online presence/are sold online.\n",
    "* Meaning that 28 poducts are just sold in offline stores.\n",
    "* One of the primary reasons could be that these products are obsolete in nature or customers prefer to trial and buy these products in-person."
   ]
  },
  {
   "cell_type": "markdown",
   "metadata": {
    "id": "KFoX9mijI4E5"
   },
   "source": [
    "**7. Which products' current purchase prices is lower than that of their previous ones?**"
   ]
  },
  {
   "cell_type": "code",
   "execution_count": 46,
   "metadata": {
    "colab": {
     "base_uri": "https://localhost:8080/",
     "height": 112
    },
    "id": "3RHcxv3XI7Ao",
    "outputId": "f5982fac-74cd-4f33-d3a9-170e3ff24027"
   },
   "outputs": [
    {
     "data": {
      "text/html": [
       "<div>\n",
       "<style scoped>\n",
       "    .dataframe tbody tr th:only-of-type {\n",
       "        vertical-align: middle;\n",
       "    }\n",
       "\n",
       "    .dataframe tbody tr th {\n",
       "        vertical-align: top;\n",
       "    }\n",
       "\n",
       "    .dataframe thead th {\n",
       "        text-align: right;\n",
       "    }\n",
       "</style>\n",
       "<table border=\"1\" class=\"dataframe\">\n",
       "  <thead>\n",
       "    <tr style=\"text-align: right;\">\n",
       "      <th></th>\n",
       "      <th>type</th>\n",
       "      <th>price</th>\n",
       "      <th>oldrate</th>\n",
       "      <th>depth</th>\n",
       "      <th>height</th>\n",
       "      <th>width</th>\n",
       "    </tr>\n",
       "  </thead>\n",
       "  <tbody>\n",
       "    <tr>\n",
       "      <th>7</th>\n",
       "      <td>Children's furniture</td>\n",
       "      <td>272.76</td>\n",
       "      <td>446.18</td>\n",
       "      <td>46.91</td>\n",
       "      <td>81.27</td>\n",
       "      <td>65.01</td>\n",
       "    </tr>\n",
       "    <tr>\n",
       "      <th>8</th>\n",
       "      <td>Nursery furniture</td>\n",
       "      <td>393.66</td>\n",
       "      <td>451.28</td>\n",
       "      <td>46.70</td>\n",
       "      <td>87.08</td>\n",
       "      <td>66.35</td>\n",
       "    </tr>\n",
       "  </tbody>\n",
       "</table>\n",
       "</div>"
      ],
      "text/plain": [
       "                   type   price  oldrate  depth  height  width\n",
       "7  Children's furniture  272.76   446.18  46.91   81.27  65.01\n",
       "8     Nursery furniture  393.66   451.28  46.70   87.08  66.35"
      ]
     },
     "execution_count": 46,
     "metadata": {},
     "output_type": "execute_result"
    }
   ],
   "source": [
    "dff[dff.price < dff.oldrate]"
   ]
  },
  {
   "cell_type": "markdown",
   "metadata": {
    "id": "VR0-GuJbI-vq"
   },
   "source": [
    "**Answer :**\n",
    "* Present Purchase Prices of **Children's Furniture and Nursery Furniture** are lower than their Previous Purchase Prices.\n",
    "* One of the reasons for this could be their obsolocence or little/no demand."
   ]
  },
  {
   "cell_type": "markdown",
   "metadata": {
    "id": "CeFkOsinJCvq"
   },
   "source": [
    "**8. Which of the product categories achieved maximum increase in their selling price in comparision to their Previous purchase price?**"
   ]
  },
  {
   "cell_type": "markdown",
   "metadata": {
    "id": "qehm7fKpJGgp"
   },
   "source": [
    "##### Adding a column to the data and plotting for better understanding"
   ]
  },
  {
   "cell_type": "code",
   "execution_count": 47,
   "metadata": {
    "id": "42aOCzziJJf2"
   },
   "outputs": [],
   "source": [
    "dff['PurchasePriceDifference'] = dff.price - dff.oldrate"
   ]
  },
  {
   "cell_type": "code",
   "execution_count": 48,
   "metadata": {
    "colab": {
     "base_uri": "https://localhost:8080/",
     "height": 614
    },
    "id": "757KagzHJLv5",
    "outputId": "82fc8017-f6b9-498d-d1ef-78011f0b0847"
   },
   "outputs": [
    {
     "data": {
      "text/html": [
       "<div>\n",
       "<style scoped>\n",
       "    .dataframe tbody tr th:only-of-type {\n",
       "        vertical-align: middle;\n",
       "    }\n",
       "\n",
       "    .dataframe tbody tr th {\n",
       "        vertical-align: top;\n",
       "    }\n",
       "\n",
       "    .dataframe thead th {\n",
       "        text-align: right;\n",
       "    }\n",
       "</style>\n",
       "<table border=\"1\" class=\"dataframe\">\n",
       "  <thead>\n",
       "    <tr style=\"text-align: right;\">\n",
       "      <th></th>\n",
       "      <th></th>\n",
       "      <th>price</th>\n",
       "      <th>oldrate</th>\n",
       "      <th>depth</th>\n",
       "      <th>height</th>\n",
       "      <th>width</th>\n",
       "    </tr>\n",
       "    <tr>\n",
       "      <th>PurchasePriceDifference</th>\n",
       "      <th>type</th>\n",
       "      <th></th>\n",
       "      <th></th>\n",
       "      <th></th>\n",
       "      <th></th>\n",
       "      <th></th>\n",
       "    </tr>\n",
       "  </thead>\n",
       "  <tbody>\n",
       "    <tr>\n",
       "      <th>-173.42</th>\n",
       "      <th>Children's furniture</th>\n",
       "      <td>272.76</td>\n",
       "      <td>446.18</td>\n",
       "      <td>46.91</td>\n",
       "      <td>81.27</td>\n",
       "      <td>65.01</td>\n",
       "    </tr>\n",
       "    <tr>\n",
       "      <th>-57.62</th>\n",
       "      <th>Nursery furniture</th>\n",
       "      <td>393.66</td>\n",
       "      <td>451.28</td>\n",
       "      <td>46.70</td>\n",
       "      <td>87.08</td>\n",
       "      <td>66.35</td>\n",
       "    </tr>\n",
       "    <tr>\n",
       "      <th>69.68</th>\n",
       "      <th>Bookcases &amp; shelving units</th>\n",
       "      <td>519.42</td>\n",
       "      <td>449.74</td>\n",
       "      <td>39.95</td>\n",
       "      <td>125.41</td>\n",
       "      <td>106.35</td>\n",
       "    </tr>\n",
       "    <tr>\n",
       "      <th>95.52</th>\n",
       "      <th>Café furniture</th>\n",
       "      <td>553.88</td>\n",
       "      <td>458.36</td>\n",
       "      <td>49.21</td>\n",
       "      <td>84.14</td>\n",
       "      <td>63.98</td>\n",
       "    </tr>\n",
       "    <tr>\n",
       "      <th>154.75</th>\n",
       "      <th>Chests of drawers &amp; drawer units</th>\n",
       "      <td>612.18</td>\n",
       "      <td>457.43</td>\n",
       "      <td>47.39</td>\n",
       "      <td>78.86</td>\n",
       "      <td>76.66</td>\n",
       "    </tr>\n",
       "    <tr>\n",
       "      <th>210.93</th>\n",
       "      <th>Trolleys</th>\n",
       "      <td>678.52</td>\n",
       "      <td>467.59</td>\n",
       "      <td>52.90</td>\n",
       "      <td>87.13</td>\n",
       "      <td>58.50</td>\n",
       "    </tr>\n",
       "    <tr>\n",
       "      <th>215.34</th>\n",
       "      <th>TV &amp; media furniture</th>\n",
       "      <td>659.05</td>\n",
       "      <td>443.71</td>\n",
       "      <td>42.32</td>\n",
       "      <td>100.32</td>\n",
       "      <td>127.02</td>\n",
       "    </tr>\n",
       "    <tr>\n",
       "      <th>215.42</th>\n",
       "      <th>Bar furniture</th>\n",
       "      <td>679.55</td>\n",
       "      <td>464.13</td>\n",
       "      <td>50.10</td>\n",
       "      <td>98.62</td>\n",
       "      <td>63.91</td>\n",
       "    </tr>\n",
       "    <tr>\n",
       "      <th>335.54</th>\n",
       "      <th>Cabinets &amp; cupboards</th>\n",
       "      <td>789.02</td>\n",
       "      <td>453.48</td>\n",
       "      <td>40.67</td>\n",
       "      <td>110.92</td>\n",
       "      <td>99.46</td>\n",
       "    </tr>\n",
       "    <tr>\n",
       "      <th>418.25</th>\n",
       "      <th>Outdoor furniture</th>\n",
       "      <td>859.83</td>\n",
       "      <td>441.58</td>\n",
       "      <td>61.04</td>\n",
       "      <td>85.80</td>\n",
       "      <td>91.78</td>\n",
       "    </tr>\n",
       "    <tr>\n",
       "      <th>463.84</th>\n",
       "      <th>Room dividers</th>\n",
       "      <td>932.00</td>\n",
       "      <td>468.16</td>\n",
       "      <td>43.70</td>\n",
       "      <td>127.57</td>\n",
       "      <td>148.42</td>\n",
       "    </tr>\n",
       "    <tr>\n",
       "      <th>594.30</th>\n",
       "      <th>Sideboards, buffets &amp; console tables</th>\n",
       "      <td>1068.09</td>\n",
       "      <td>473.79</td>\n",
       "      <td>42.83</td>\n",
       "      <td>110.04</td>\n",
       "      <td>116.39</td>\n",
       "    </tr>\n",
       "    <tr>\n",
       "      <th>610.63</th>\n",
       "      <th>Chairs</th>\n",
       "      <td>1048.93</td>\n",
       "      <td>438.30</td>\n",
       "      <td>58.02</td>\n",
       "      <td>86.70</td>\n",
       "      <td>73.49</td>\n",
       "    </tr>\n",
       "    <tr>\n",
       "      <th>679.23</th>\n",
       "      <th>Tables &amp; desks</th>\n",
       "      <td>1129.40</td>\n",
       "      <td>450.17</td>\n",
       "      <td>54.05</td>\n",
       "      <td>82.06</td>\n",
       "      <td>81.66</td>\n",
       "    </tr>\n",
       "    <tr>\n",
       "      <th>1191.81</th>\n",
       "      <th>Beds</th>\n",
       "      <td>1647.43</td>\n",
       "      <td>455.62</td>\n",
       "      <td>65.30</td>\n",
       "      <td>87.46</td>\n",
       "      <td>137.84</td>\n",
       "    </tr>\n",
       "    <tr>\n",
       "      <th>1560.08</th>\n",
       "      <th>Sofas &amp; armchairs</th>\n",
       "      <td>2004.02</td>\n",
       "      <td>443.94</td>\n",
       "      <td>82.41</td>\n",
       "      <td>85.52</td>\n",
       "      <td>157.05</td>\n",
       "    </tr>\n",
       "    <tr>\n",
       "      <th>1683.70</th>\n",
       "      <th>Wardrobes</th>\n",
       "      <td>2162.14</td>\n",
       "      <td>478.44</td>\n",
       "      <td>55.53</td>\n",
       "      <td>204.86</td>\n",
       "      <td>162.86</td>\n",
       "    </tr>\n",
       "  </tbody>\n",
       "</table>\n",
       "</div>"
      ],
      "text/plain": [
       "                                                                price  \\\n",
       "PurchasePriceDifference type                                            \n",
       "-173.42                 Children's furniture                   272.76   \n",
       "-57.62                  Nursery furniture                      393.66   \n",
       " 69.68                  Bookcases & shelving units             519.42   \n",
       " 95.52                  Café furniture                         553.88   \n",
       " 154.75                 Chests of drawers & drawer units       612.18   \n",
       " 210.93                 Trolleys                               678.52   \n",
       " 215.34                 TV & media furniture                   659.05   \n",
       " 215.42                 Bar furniture                          679.55   \n",
       " 335.54                 Cabinets & cupboards                   789.02   \n",
       " 418.25                 Outdoor furniture                      859.83   \n",
       " 463.84                 Room dividers                          932.00   \n",
       " 594.30                 Sideboards, buffets & console tables  1068.09   \n",
       " 610.63                 Chairs                                1048.93   \n",
       " 679.23                 Tables & desks                        1129.40   \n",
       " 1191.81                Beds                                  1647.43   \n",
       " 1560.08                Sofas & armchairs                     2004.02   \n",
       " 1683.70                Wardrobes                             2162.14   \n",
       "\n",
       "                                                              oldrate  depth  \\\n",
       "PurchasePriceDifference type                                                   \n",
       "-173.42                 Children's furniture                   446.18  46.91   \n",
       "-57.62                  Nursery furniture                      451.28  46.70   \n",
       " 69.68                  Bookcases & shelving units             449.74  39.95   \n",
       " 95.52                  Café furniture                         458.36  49.21   \n",
       " 154.75                 Chests of drawers & drawer units       457.43  47.39   \n",
       " 210.93                 Trolleys                               467.59  52.90   \n",
       " 215.34                 TV & media furniture                   443.71  42.32   \n",
       " 215.42                 Bar furniture                          464.13  50.10   \n",
       " 335.54                 Cabinets & cupboards                   453.48  40.67   \n",
       " 418.25                 Outdoor furniture                      441.58  61.04   \n",
       " 463.84                 Room dividers                          468.16  43.70   \n",
       " 594.30                 Sideboards, buffets & console tables   473.79  42.83   \n",
       " 610.63                 Chairs                                 438.30  58.02   \n",
       " 679.23                 Tables & desks                         450.17  54.05   \n",
       " 1191.81                Beds                                   455.62  65.30   \n",
       " 1560.08                Sofas & armchairs                      443.94  82.41   \n",
       " 1683.70                Wardrobes                              478.44  55.53   \n",
       "\n",
       "                                                              height   width  \n",
       "PurchasePriceDifference type                                                  \n",
       "-173.42                 Children's furniture                   81.27   65.01  \n",
       "-57.62                  Nursery furniture                      87.08   66.35  \n",
       " 69.68                  Bookcases & shelving units            125.41  106.35  \n",
       " 95.52                  Café furniture                         84.14   63.98  \n",
       " 154.75                 Chests of drawers & drawer units       78.86   76.66  \n",
       " 210.93                 Trolleys                               87.13   58.50  \n",
       " 215.34                 TV & media furniture                  100.32  127.02  \n",
       " 215.42                 Bar furniture                          98.62   63.91  \n",
       " 335.54                 Cabinets & cupboards                  110.92   99.46  \n",
       " 418.25                 Outdoor furniture                      85.80   91.78  \n",
       " 463.84                 Room dividers                         127.57  148.42  \n",
       " 594.30                 Sideboards, buffets & console tables  110.04  116.39  \n",
       " 610.63                 Chairs                                 86.70   73.49  \n",
       " 679.23                 Tables & desks                         82.06   81.66  \n",
       " 1191.81                Beds                                   87.46  137.84  \n",
       " 1560.08                Sofas & armchairs                      85.52  157.05  \n",
       " 1683.70                Wardrobes                             204.86  162.86  "
      ]
     },
     "execution_count": 48,
     "metadata": {},
     "output_type": "execute_result"
    }
   ],
   "source": [
    "dff.groupby(['PurchasePriceDifference','type']).min()"
   ]
  },
  {
   "cell_type": "code",
   "execution_count": 49,
   "metadata": {
    "colab": {
     "base_uri": "https://localhost:8080/",
     "height": 639
    },
    "id": "NwY6BU_OJPB7",
    "outputId": "58529ada-b752-4b79-c7aa-91c0c22bd67c"
   },
   "outputs": [
    {
     "data": {
      "image/png": "[encoded data removed]",
      "text/plain": [
       "<Figure size 1400x700 with 1 Axes>"
      ]
     },
     "metadata": {},
     "output_type": "display_data"
    }
   ],
   "source": [
    "plt.figure(figsize=(14,7))  # set a bigger figure size\n",
    "plt.plot(\n",
    "    dff.type,\n",
    "    dff.PurchasePriceDifference,\n",
    "    'b-o',              # blue line with circle markers\n",
    "    lw=4,\n",
    "    markersize=18,\n",
    "    markerfacecolor='cyan'\n",
    ")\n",
    "plt.title(\"Purchase Price Difference\")\n",
    "plt.xlabel(\"Product Type\")\n",
    "plt.ylabel(\"Price Difference\")\n",
    "plt.xticks(rotation=45)\n",
    "plt.tight_layout()  # adjust layout so labels don't get cut off\n",
    "plt.show()"
   ]
  },
  {
   "cell_type": "markdown",
   "metadata": {
    "id": "bk-HCpg1JS09"
   },
   "source": [
    "Alternatively, It can be analysed through GroupBy() function too"
   ]
  },
  {
   "cell_type": "code",
   "execution_count": 50,
   "metadata": {
    "colab": {
     "base_uri": "https://localhost:8080/",
     "height": 645
    },
    "id": "tPnig-R5JVqH",
    "outputId": "aec8d054-28a5-4a0f-d087-ef1684bdfba3"
   },
   "outputs": [
    {
     "data": {
      "text/html": [
       "<div>\n",
       "<style scoped>\n",
       "    .dataframe tbody tr th:only-of-type {\n",
       "        vertical-align: middle;\n",
       "    }\n",
       "\n",
       "    .dataframe tbody tr th {\n",
       "        vertical-align: top;\n",
       "    }\n",
       "\n",
       "    .dataframe thead tr th {\n",
       "        text-align: left;\n",
       "    }\n",
       "\n",
       "    .dataframe thead tr:last-of-type th {\n",
       "        text-align: right;\n",
       "    }\n",
       "</style>\n",
       "<table border=\"1\" class=\"dataframe\">\n",
       "  <thead>\n",
       "    <tr>\n",
       "      <th></th>\n",
       "      <th></th>\n",
       "      <th>oldrate</th>\n",
       "    </tr>\n",
       "    <tr>\n",
       "      <th></th>\n",
       "      <th></th>\n",
       "      <th>min</th>\n",
       "    </tr>\n",
       "    <tr>\n",
       "      <th>price</th>\n",
       "      <th>type</th>\n",
       "      <th></th>\n",
       "    </tr>\n",
       "  </thead>\n",
       "  <tbody>\n",
       "    <tr>\n",
       "      <th>272.76</th>\n",
       "      <th>Children's furniture</th>\n",
       "      <td>446.18</td>\n",
       "    </tr>\n",
       "    <tr>\n",
       "      <th>393.66</th>\n",
       "      <th>Nursery furniture</th>\n",
       "      <td>451.28</td>\n",
       "    </tr>\n",
       "    <tr>\n",
       "      <th>519.42</th>\n",
       "      <th>Bookcases &amp; shelving units</th>\n",
       "      <td>449.74</td>\n",
       "    </tr>\n",
       "    <tr>\n",
       "      <th>553.88</th>\n",
       "      <th>Café furniture</th>\n",
       "      <td>458.36</td>\n",
       "    </tr>\n",
       "    <tr>\n",
       "      <th>612.18</th>\n",
       "      <th>Chests of drawers &amp; drawer units</th>\n",
       "      <td>457.43</td>\n",
       "    </tr>\n",
       "    <tr>\n",
       "      <th>659.05</th>\n",
       "      <th>TV &amp; media furniture</th>\n",
       "      <td>443.71</td>\n",
       "    </tr>\n",
       "    <tr>\n",
       "      <th>678.52</th>\n",
       "      <th>Trolleys</th>\n",
       "      <td>467.59</td>\n",
       "    </tr>\n",
       "    <tr>\n",
       "      <th>679.55</th>\n",
       "      <th>Bar furniture</th>\n",
       "      <td>464.13</td>\n",
       "    </tr>\n",
       "    <tr>\n",
       "      <th>789.02</th>\n",
       "      <th>Cabinets &amp; cupboards</th>\n",
       "      <td>453.48</td>\n",
       "    </tr>\n",
       "    <tr>\n",
       "      <th>859.83</th>\n",
       "      <th>Outdoor furniture</th>\n",
       "      <td>441.58</td>\n",
       "    </tr>\n",
       "    <tr>\n",
       "      <th>932.00</th>\n",
       "      <th>Room dividers</th>\n",
       "      <td>468.16</td>\n",
       "    </tr>\n",
       "    <tr>\n",
       "      <th>1048.93</th>\n",
       "      <th>Chairs</th>\n",
       "      <td>438.30</td>\n",
       "    </tr>\n",
       "    <tr>\n",
       "      <th>1068.09</th>\n",
       "      <th>Sideboards, buffets &amp; console tables</th>\n",
       "      <td>473.79</td>\n",
       "    </tr>\n",
       "    <tr>\n",
       "      <th>1129.40</th>\n",
       "      <th>Tables &amp; desks</th>\n",
       "      <td>450.17</td>\n",
       "    </tr>\n",
       "    <tr>\n",
       "      <th>1647.43</th>\n",
       "      <th>Beds</th>\n",
       "      <td>455.62</td>\n",
       "    </tr>\n",
       "    <tr>\n",
       "      <th>2004.02</th>\n",
       "      <th>Sofas &amp; armchairs</th>\n",
       "      <td>443.94</td>\n",
       "    </tr>\n",
       "    <tr>\n",
       "      <th>2162.14</th>\n",
       "      <th>Wardrobes</th>\n",
       "      <td>478.44</td>\n",
       "    </tr>\n",
       "  </tbody>\n",
       "</table>\n",
       "</div>"
      ],
      "text/plain": [
       "                                             oldrate\n",
       "                                                 min\n",
       "price   type                                        \n",
       "272.76  Children's furniture                  446.18\n",
       "393.66  Nursery furniture                     451.28\n",
       "519.42  Bookcases & shelving units            449.74\n",
       "553.88  Café furniture                        458.36\n",
       "612.18  Chests of drawers & drawer units      457.43\n",
       "659.05  TV & media furniture                  443.71\n",
       "678.52  Trolleys                              467.59\n",
       "679.55  Bar furniture                         464.13\n",
       "789.02  Cabinets & cupboards                  453.48\n",
       "859.83  Outdoor furniture                     441.58\n",
       "932.00  Room dividers                         468.16\n",
       "1048.93 Chairs                                438.30\n",
       "1068.09 Sideboards, buffets & console tables  473.79\n",
       "1129.40 Tables & desks                        450.17\n",
       "1647.43 Beds                                  455.62\n",
       "2004.02 Sofas & armchairs                     443.94\n",
       "2162.14 Wardrobes                             478.44"
      ]
     },
     "execution_count": 50,
     "metadata": {},
     "output_type": "execute_result"
    }
   ],
   "source": [
    "dff.groupby(['price', 'type']).agg({'oldrate': ['min']})"
   ]
  },
  {
   "cell_type": "markdown",
   "metadata": {
    "id": "VWyU4DmlJbfi"
   },
   "source": [
    "**Answer :** \n",
    "- IKEA's Wardrobes have acheived highest price increase in its purchase price in comparision to its previous purchase price.\n",
    "- There could be an increase in Wardrobes' (making) costs with a proportionate increase in its demand considering the general inflation rate."
   ]
  },
  {
   "cell_type": "markdown",
   "metadata": {
    "id": "SgllVhHdJgg2"
   },
   "source": [
    "# Conclusion\n",
    "\n",
    "* IKEA has 3,694 products specialising in 17 different furniture categories out of which its Wardrobes, Sofas & Armchairs, Tables and Desks bear a high purchase price in comparision to their older rates.\n",
    "* Nearly out of 3,694, products 3,666 are available and sold online. Although only 1512 of them have color options to choose from.\n",
    "* For some products, like Beds, Wardrobes, Sofas & Armchairs, Cafe Furniture, Room dividers, specification especially, its height, depth and breadth, play a crucial role in deciding the costs. Most of the customers look for the specifications of the products before exercising their buying power.\n",
    "This explains the weak positive correlation between the price of the product and its measurements/specifications.\n",
    "* In IKEA's broad range of furniture products, the purchase price of all the products has fairly increased except Children's Furniture & Nursery Furniture which might have had gone obsolete with growing change in consumer's preferences/lifestyle & behaviour."
   ]
  },
  {
   "cell_type": "markdown",
   "metadata": {},
   "source": [
    "---"
   ]
  },
  {
   "cell_type": "markdown",
   "metadata": {},
   "source": [
    "## automated data analysis packages \n",
    "* pandas-profiling\n",
    "* dtale\n",
    "* Gsweetviz"
   ]
  },
  {
   "cell_type": "code",
   "execution_count": null,
   "metadata": {},
   "outputs": [],
   "source": []
  }
 ],
 "metadata": {
  "colab": {
   "authorship_tag": "ABX9TyMvLB4/4PyKc9TqTTDpJoCv",
   "include_colab_link": true,
   "provenance": []
  },
  "kernelspec": {
   "display_name": "Python 3 (ipykernel)",
   "language": "python",
   "name": "python3"
  },
  "language_info": {
   "codemirror_mode": {
    "name": "ipython",
    "version": 3
   },
   "file_extension": ".py",
   "mimetype": "text/x-python",
   "name": "python",
   "nbconvert_exporter": "python",
   "pygments_lexer": "ipython3",
   "version": "3.13.1"
  }
 },
 "nbformat": 4,
 "nbformat_minor": 4
}
