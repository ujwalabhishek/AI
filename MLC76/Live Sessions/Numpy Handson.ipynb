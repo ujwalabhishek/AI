{
 "cells": [
  {
   "cell_type": "code",
   "execution_count": 2,
   "id": "e08a2044-3a37-4b2d-94e7-51de12613c74",
   "metadata": {},
   "outputs": [],
   "source": [
    "import numpy as np"
   ]
  },
  {
   "cell_type": "code",
   "execution_count": 19,
   "id": "8b763f27-5a58-47e3-97c3-669c5392c339",
   "metadata": {},
   "outputs": [
    {
     "name": "stdout",
     "output_type": "stream",
     "text": [
      "[ 1  2  3  4  5  6  7  8  9 10]\n"
     ]
    }
   ],
   "source": [
    "arr1 = np.array([1,2,3,4,5,6,7,8,9,10])\n",
    "print(arr1)"
   ]
  },
  {
   "cell_type": "code",
   "execution_count": 5,
   "id": "beefb271-14ec-484f-a3b1-0b32e5b33b30",
   "metadata": {},
   "outputs": [
    {
     "name": "stdout",
     "output_type": "stream",
     "text": [
      "The first element is  1\n",
      "The first element is  6\n",
      "The first element is  2\n",
      "The first element is  5\n"
     ]
    }
   ],
   "source": [
    "print(\"The first element is \", arr1[0])\n",
    "print(\"The first element is \", arr1[-1])\n",
    "print(\"The first element is \", arr1[1])\n",
    "print(\"The first element is \", arr1[4])"
   ]
  },
  {
   "cell_type": "markdown",
   "id": "b6f3470e-b3e9-4c4b-b210-08735fa4b1d4",
   "metadata": {},
   "source": [
    "## Slicing ##"
   ]
  },
  {
   "cell_type": "code",
   "execution_count": 20,
   "id": "5f372e89-bbf1-4a46-9bc8-acb48c3116fc",
   "metadata": {},
   "outputs": [
    {
     "data": {
      "text/plain": [
       "array([3, 4, 5])"
      ]
     },
     "execution_count": 20,
     "metadata": {},
     "output_type": "execute_result"
    }
   ],
   "source": [
    "arr1[2:5:1]"
   ]
  },
  {
   "cell_type": "code",
   "execution_count": 21,
   "id": "6abde211-e3d1-4689-b819-43bc28bb79c6",
   "metadata": {},
   "outputs": [
    {
     "data": {
      "text/plain": [
       "array([1, 2, 3])"
      ]
     },
     "execution_count": 21,
     "metadata": {},
     "output_type": "execute_result"
    }
   ],
   "source": [
    "arr1[:3]"
   ]
  },
  {
   "cell_type": "code",
   "execution_count": 22,
   "id": "13255169-0f0c-48de-b465-140dc814e21b",
   "metadata": {},
   "outputs": [
    {
     "data": {
      "text/plain": [
       "array([1, 2])"
      ]
     },
     "execution_count": 22,
     "metadata": {},
     "output_type": "execute_result"
    }
   ],
   "source": [
    "arr1[:2:]"
   ]
  },
  {
   "cell_type": "code",
   "execution_count": 23,
   "id": "d879e009-10b5-4b1e-9ead-82ce4a037273",
   "metadata": {},
   "outputs": [
    {
     "data": {
      "text/plain": [
       "array([ 1,  2,  3,  4,  5,  6,  7,  8,  9, 10])"
      ]
     },
     "execution_count": 23,
     "metadata": {},
     "output_type": "execute_result"
    }
   ],
   "source": [
    "arr1[:]"
   ]
  },
  {
   "cell_type": "code",
   "execution_count": 24,
   "id": "db4b24f4-e5cd-4f3a-938b-f11a3e5be32d",
   "metadata": {},
   "outputs": [
    {
     "data": {
      "text/plain": [
       "array([10,  9,  8,  7,  6,  5,  4,  3,  2,  1])"
      ]
     },
     "execution_count": 24,
     "metadata": {},
     "output_type": "execute_result"
    }
   ],
   "source": [
    "arr1[::-1]"
   ]
  },
  {
   "cell_type": "markdown",
   "id": "ca595a82-8e3d-4443-b890-8c5ad6c48bd5",
   "metadata": {},
   "source": [
    "## Define 2D Array ##\n",
    "\n",
    "2D array also nown as array"
   ]
  },
  {
   "cell_type": "code",
   "execution_count": 30,
   "id": "7425bc66-80d4-4bb2-85f4-21e346888fdb",
   "metadata": {},
   "outputs": [
    {
     "name": "stdout",
     "output_type": "stream",
     "text": [
      "[[1 2 3]\n",
      " [4 5 6]\n",
      " [7 8 9]]\n"
     ]
    }
   ],
   "source": [
    "arr2 = np.array([[1,2,3],[4,5,6],[7,8,9]])\n",
    "print(arr2)"
   ]
  },
  {
   "cell_type": "code",
   "execution_count": 31,
   "id": "948c1d90-867e-40d9-ad07-90df0bec5fe1",
   "metadata": {},
   "outputs": [
    {
     "data": {
      "text/plain": [
       "(3, 3)"
      ]
     },
     "execution_count": 31,
     "metadata": {},
     "output_type": "execute_result"
    }
   ],
   "source": [
    "arr2.shape"
   ]
  },
  {
   "cell_type": "code",
   "execution_count": 32,
   "id": "a3cf0b40-788a-4eff-bc39-da7ab816ff01",
   "metadata": {},
   "outputs": [
    {
     "data": {
      "text/plain": [
       "9"
      ]
     },
     "execution_count": 32,
     "metadata": {},
     "output_type": "execute_result"
    }
   ],
   "source": [
    "arr2.size"
   ]
  },
  {
   "cell_type": "code",
   "execution_count": 33,
   "id": "9e3f1489-ca0c-49f6-80fd-6e681dc6b9f8",
   "metadata": {},
   "outputs": [
    {
     "data": {
      "text/plain": [
       "2"
      ]
     },
     "execution_count": 33,
     "metadata": {},
     "output_type": "execute_result"
    }
   ],
   "source": [
    "arr2.ndim"
   ]
  },
  {
   "cell_type": "code",
   "execution_count": 34,
   "id": "e61d24d1-31be-4fbe-8659-12615b2df0ff",
   "metadata": {},
   "outputs": [
    {
     "data": {
      "text/plain": [
       "3"
      ]
     },
     "execution_count": 34,
     "metadata": {},
     "output_type": "execute_result"
    }
   ],
   "source": [
    "len(arr2)"
   ]
  },
  {
   "cell_type": "markdown",
   "id": "fcc46c30-b71c-46f2-b2e9-73f47fca1d89",
   "metadata": {},
   "source": [
    "## Zero Matrix ##"
   ]
  },
  {
   "cell_type": "code",
   "execution_count": 36,
   "id": "3d0b2e1f-4cd2-44ef-ae66-2f8245b02b32",
   "metadata": {},
   "outputs": [
    {
     "data": {
      "text/plain": [
       "array([[0, 0, 0, 0, 0, 0, 0, 0, 0],\n",
       "       [0, 0, 0, 0, 0, 0, 0, 0, 0],\n",
       "       [0, 0, 0, 0, 0, 0, 0, 0, 0],\n",
       "       [0, 0, 0, 0, 0, 0, 0, 0, 0]])"
      ]
     },
     "execution_count": 36,
     "metadata": {},
     "output_type": "execute_result"
    }
   ],
   "source": [
    "np.zeros((4,9), dtype=int)"
   ]
  },
  {
   "cell_type": "code",
   "execution_count": 37,
   "id": "df2c7879-0c44-4108-94d4-4f5d0a33edec",
   "metadata": {},
   "outputs": [
    {
     "data": {
      "text/plain": [
       "array([[1, 1, 1, 1, 1, 1, 1, 1, 1],\n",
       "       [1, 1, 1, 1, 1, 1, 1, 1, 1],\n",
       "       [1, 1, 1, 1, 1, 1, 1, 1, 1],\n",
       "       [1, 1, 1, 1, 1, 1, 1, 1, 1]])"
      ]
     },
     "execution_count": 37,
     "metadata": {},
     "output_type": "execute_result"
    }
   ],
   "source": [
    "np.ones((4,9), dtype=int)"
   ]
  },
  {
   "cell_type": "markdown",
   "id": "b35a7147-c034-4872-9397-100299a4f823",
   "metadata": {},
   "source": [
    "## Full Matrix\" ##"
   ]
  },
  {
   "cell_type": "code",
   "execution_count": 39,
   "id": "622016ff-0fa8-4d5e-a2cc-af24273e5ebc",
   "metadata": {},
   "outputs": [
    {
     "name": "stdout",
     "output_type": "stream",
     "text": [
      "[[2 2 2 2]\n",
      " [2 2 2 2]\n",
      " [2 2 2 2]]\n"
     ]
    }
   ],
   "source": [
    "fullmatrice = np.full((3,4),fill_value=2)\n",
    "print(fullmatrice)"
   ]
  },
  {
   "cell_type": "markdown",
   "id": "c80a372f-79ee-4694-aa21-8e5bc266438b",
   "metadata": {},
   "source": [
    "## Identity matrices ##"
   ]
  },
  {
   "cell_type": "code",
   "execution_count": 40,
   "id": "9187ca49-be78-45e1-8cfe-6a5cfb17ef93",
   "metadata": {},
   "outputs": [
    {
     "name": "stdout",
     "output_type": "stream",
     "text": [
      "[[1 0 0 0 0]\n",
      " [0 1 0 0 0]\n",
      " [0 0 1 0 0]\n",
      " [0 0 0 1 0]\n",
      " [0 0 0 0 1]]\n"
     ]
    }
   ],
   "source": [
    "print(np.eye(5,dtype=int))"
   ]
  },
  {
   "cell_type": "code",
   "execution_count": 42,
   "id": "30b761e5-fa3a-4166-bf18-3c05c9d46b79",
   "metadata": {},
   "outputs": [
    {
     "name": "stdout",
     "output_type": "stream",
     "text": [
      "[[10  0  0  0  0  0]\n",
      " [ 0 21  0  0  0  0]\n",
      " [ 0  0 13  0  0  0]\n",
      " [ 0  0  0  4  0  0]\n",
      " [ 0  0  0  0  5  0]\n",
      " [ 0  0  0  0  0  6]]\n"
     ]
    }
   ],
   "source": [
    "print(np.diag([10,21,13,4,5,6]))"
   ]
  },
  {
   "cell_type": "markdown",
   "id": "d706d5aa-4bce-47fe-9d5a-9bb22aea4505",
   "metadata": {},
   "source": [
    "## Arrange function ##"
   ]
  },
  {
   "cell_type": "code",
   "execution_count": 43,
   "id": "38249ec1-be71-4981-afe7-1aca2a865446",
   "metadata": {},
   "outputs": [
    {
     "data": {
      "text/plain": [
       "array([0, 1, 2, 3, 4, 5, 6, 7, 8, 9])"
      ]
     },
     "execution_count": 43,
     "metadata": {},
     "output_type": "execute_result"
    }
   ],
   "source": [
    "#range(0,10) -> 1,2,3,4,5,6,7,8,9,10\n",
    "np.arange(0,10)"
   ]
  },
  {
   "cell_type": "code",
   "execution_count": 44,
   "id": "e1b3e420-6975-45e0-b582-9c5c35e68a43",
   "metadata": {},
   "outputs": [
    {
     "data": {
      "text/plain": [
       "array([0, 2, 4, 6, 8])"
      ]
     },
     "execution_count": 44,
     "metadata": {},
     "output_type": "execute_result"
    }
   ],
   "source": [
    "#default step size is a int , can be float as well eg .5\n",
    "np.arange(0,10,2)"
   ]
  },
  {
   "cell_type": "code",
   "execution_count": 46,
   "id": "3d195ec7-ea62-4763-afeb-092fa8447d19",
   "metadata": {},
   "outputs": [
    {
     "data": {
      "text/plain": [
       "array([10,  9,  8,  7,  6,  5,  4,  3,  2,  1])"
      ]
     },
     "execution_count": 46,
     "metadata": {},
     "output_type": "execute_result"
    }
   ],
   "source": [
    "np.arange(10,0,-1)"
   ]
  },
  {
   "cell_type": "code",
   "execution_count": 47,
   "id": "525e5ffa-fc18-40ab-a734-2ec5fdff0395",
   "metadata": {},
   "outputs": [
    {
     "data": {
      "text/plain": [
       "array([0. , 0.5, 1. , 1.5, 2. , 2.5, 3. , 3.5, 4. , 4.5, 5. , 5.5, 6. ,\n",
       "       6.5, 7. , 7.5, 8. , 8.5, 9. , 9.5])"
      ]
     },
     "execution_count": 47,
     "metadata": {},
     "output_type": "execute_result"
    }
   ],
   "source": [
    "np.arange(0,10,.5)"
   ]
  },
  {
   "cell_type": "markdown",
   "id": "692e2634-5ca2-4da6-be70-5089fe246b60",
   "metadata": {},
   "source": [
    "## Reshaping a array ##"
   ]
  },
  {
   "cell_type": "code",
   "execution_count": 50,
   "id": "965d2d8b-e2f0-4313-94da-23815f4022e1",
   "metadata": {},
   "outputs": [
    {
     "data": {
      "text/plain": [
       "array([0, 1, 2, 3, 4, 5, 6, 7, 8, 9])"
      ]
     },
     "execution_count": 50,
     "metadata": {},
     "output_type": "execute_result"
    }
   ],
   "source": [
    "#size of array before and after reshaping should be same \n",
    "arr5= np.arange(0,10)\n",
    "arr5"
   ]
  },
  {
   "cell_type": "code",
   "execution_count": 52,
   "id": "6c87840c-2356-421c-b821-1a8d1d90a64d",
   "metadata": {},
   "outputs": [
    {
     "data": {
      "text/plain": [
       "10"
      ]
     },
     "execution_count": 52,
     "metadata": {},
     "output_type": "execute_result"
    }
   ],
   "source": [
    "arr5.size"
   ]
  },
  {
   "cell_type": "code",
   "execution_count": 55,
   "id": "a92681f1-502a-499e-bd51-fa35ab3167e0",
   "metadata": {},
   "outputs": [
    {
     "data": {
      "text/plain": [
       "array([[0, 1, 2, 3, 4],\n",
       "       [5, 6, 7, 8, 9]])"
      ]
     },
     "execution_count": 55,
     "metadata": {},
     "output_type": "execute_result"
    }
   ],
   "source": [
    "reshaped = arr5.reshape(2,5)\n",
    "reshaped"
   ]
  },
  {
   "cell_type": "markdown",
   "id": "6c417a9d-6a68-45fe-a2c3-2026e045c716",
   "metadata": {},
   "source": [
    "## Transpose ##"
   ]
  },
  {
   "cell_type": "code",
   "execution_count": 57,
   "id": "a5501501-b296-4e85-a274-7951792c36f9",
   "metadata": {},
   "outputs": [
    {
     "data": {
      "text/plain": [
       "array([[ 1,  2,  3,  4,  5],\n",
       "       [ 6,  7,  8,  9, 10]])"
      ]
     },
     "execution_count": 57,
     "metadata": {},
     "output_type": "execute_result"
    }
   ],
   "source": [
    "arr6 = np.array([[1,2,3,4,5],[6,7,8,9,10]])\n",
    "arr6"
   ]
  },
  {
   "cell_type": "code",
   "execution_count": 59,
   "id": "d8e45886-0927-45c9-a5d9-418704136e5d",
   "metadata": {},
   "outputs": [
    {
     "data": {
      "text/plain": [
       "array([[ 1,  6],\n",
       "       [ 2,  7],\n",
       "       [ 3,  8],\n",
       "       [ 4,  9],\n",
       "       [ 5, 10]])"
      ]
     },
     "execution_count": 59,
     "metadata": {},
     "output_type": "execute_result"
    }
   ],
   "source": [
    "arr6.T"
   ]
  },
  {
   "cell_type": "code",
   "execution_count": 60,
   "id": "3474ed9c-ff5d-457e-99b6-a2004306edc8",
   "metadata": {},
   "outputs": [
    {
     "data": {
      "text/plain": [
       "array([[ 1,  6],\n",
       "       [ 2,  7],\n",
       "       [ 3,  8],\n",
       "       [ 4,  9],\n",
       "       [ 5, 10]])"
      ]
     },
     "execution_count": 60,
     "metadata": {},
     "output_type": "execute_result"
    }
   ],
   "source": [
    "transposed =np.transpose(arr6)\n",
    "transposed"
   ]
  },
  {
   "cell_type": "markdown",
   "id": "d91023de-a3c3-4394-8733-b230099acf74",
   "metadata": {},
   "source": [
    "## Mathametical Operations"
   ]
  },
  {
   "cell_type": "code",
   "execution_count": 61,
   "id": "cf7997fc-a15c-454c-b055-f4be24b2945e",
   "metadata": {},
   "outputs": [
    {
     "data": {
      "text/plain": [
       "array([[ 6,  8],\n",
       "       [10, 12]])"
      ]
     },
     "execution_count": 61,
     "metadata": {},
     "output_type": "execute_result"
    }
   ],
   "source": [
    "x=np.array([[1,2],[3,4]])\n",
    "y=np.array([[5,6],[7,8]])\n",
    "\n",
    "x+y"
   ]
  },
  {
   "cell_type": "code",
   "execution_count": 62,
   "id": "ce5d9240-5fd3-4970-8cfb-a21d6f59c258",
   "metadata": {},
   "outputs": [
    {
     "data": {
      "text/plain": [
       "array([[-4, -4],\n",
       "       [-4, -4]])"
      ]
     },
     "execution_count": 62,
     "metadata": {},
     "output_type": "execute_result"
    }
   ],
   "source": [
    "x-y"
   ]
  },
  {
   "cell_type": "code",
   "execution_count": 63,
   "id": "78bb457b-3d3e-4399-99a5-af442cb43219",
   "metadata": {},
   "outputs": [
    {
     "data": {
      "text/plain": [
       "array([[ 6,  8],\n",
       "       [10, 12]])"
      ]
     },
     "execution_count": 63,
     "metadata": {},
     "output_type": "execute_result"
    }
   ],
   "source": [
    "np.add(x,y)"
   ]
  },
  {
   "cell_type": "code",
   "execution_count": 65,
   "id": "6a4f28ca-1aa3-4283-b507-875d385c8d30",
   "metadata": {},
   "outputs": [
    {
     "data": {
      "text/plain": [
       "array([[-4, -4],\n",
       "       [-4, -4]])"
      ]
     },
     "execution_count": 65,
     "metadata": {},
     "output_type": "execute_result"
    }
   ],
   "source": [
    "np.subtract(x,y)"
   ]
  },
  {
   "cell_type": "code",
   "execution_count": 66,
   "id": "7d041c43-f013-4e4d-809b-bb5117ed87e6",
   "metadata": {},
   "outputs": [
    {
     "data": {
      "text/plain": [
       "array([[0.2       , 0.33333333],\n",
       "       [0.42857143, 0.5       ]])"
      ]
     },
     "execution_count": 66,
     "metadata": {},
     "output_type": "execute_result"
    }
   ],
   "source": [
    "x/y"
   ]
  },
  {
   "cell_type": "code",
   "execution_count": 67,
   "id": "899ee5f8-df0e-4c43-bf8b-024449399b03",
   "metadata": {},
   "outputs": [
    {
     "data": {
      "text/plain": [
       "array([[0.2       , 0.33333333],\n",
       "       [0.42857143, 0.5       ]])"
      ]
     },
     "execution_count": 67,
     "metadata": {},
     "output_type": "execute_result"
    }
   ],
   "source": [
    "np.divide(x,y)"
   ]
  },
  {
   "cell_type": "code",
   "execution_count": 68,
   "id": "3ad024a7-aeed-4fba-aa4c-ed677dff91df",
   "metadata": {},
   "outputs": [
    {
     "data": {
      "text/plain": [
       "array([[0, 0],\n",
       "       [0, 0]])"
      ]
     },
     "execution_count": 68,
     "metadata": {},
     "output_type": "execute_result"
    }
   ],
   "source": [
    "x//y"
   ]
  },
  {
   "cell_type": "code",
   "execution_count": 70,
   "id": "7b090a95-9d59-476d-b531-e53e58e82a0d",
   "metadata": {},
   "outputs": [
    {
     "data": {
      "text/plain": [
       "array([[ 5, 12],\n",
       "       [21, 32]])"
      ]
     },
     "execution_count": 70,
     "metadata": {},
     "output_type": "execute_result"
    }
   ],
   "source": [
    "#elemenm wise multiplaciation\n",
    "x*y"
   ]
  },
  {
   "cell_type": "code",
   "execution_count": 71,
   "id": "f475a2f6-d2ca-41d8-82b2-6f8abdab5bcf",
   "metadata": {},
   "outputs": [
    {
     "data": {
      "text/plain": [
       "array([[ 5, 12],\n",
       "       [21, 32]])"
      ]
     },
     "execution_count": 71,
     "metadata": {},
     "output_type": "execute_result"
    }
   ],
   "source": [
    "np.multiply(x,y)"
   ]
  },
  {
   "cell_type": "code",
   "execution_count": 73,
   "id": "c30a2387-4997-4b32-beef-8a63be8333af",
   "metadata": {},
   "outputs": [
    {
     "data": {
      "text/plain": [
       "array([[19, 22],\n",
       "       [43, 50]])"
      ]
     },
     "execution_count": 73,
     "metadata": {},
     "output_type": "execute_result"
    }
   ],
   "source": [
    "#MATRIX MULTIPLICATION\n",
    "x@y"
   ]
  },
  {
   "cell_type": "code",
   "execution_count": 74,
   "id": "98fda002-3fed-452f-a0df-31312b3c1a48",
   "metadata": {},
   "outputs": [
    {
     "data": {
      "text/plain": [
       "array([[19, 22],\n",
       "       [43, 50]])"
      ]
     },
     "execution_count": 74,
     "metadata": {},
     "output_type": "execute_result"
    }
   ],
   "source": [
    "np.matmul(x,y)"
   ]
  },
  {
   "cell_type": "markdown",
   "id": "a758da0f-bc63-4fd9-baab-fd0006d07898",
   "metadata": {},
   "source": [
    "# Create a fenced matrix for user using given shape where all corner elements are 1 rest all 0 \n",
    "\n",
    "[[1 1 1 1], \n",
    "[1 0 0 1], \n",
    "[1 1 1 1]] \n",
    "\n",
    "#no of rows \n",
    "\n",
    "#no. of columns"
   ]
  },
  {
   "cell_type": "code",
   "execution_count": 78,
   "id": "4aeb95b9-f99e-4843-80d9-d3b58d3a546e",
   "metadata": {},
   "outputs": [
    {
     "name": "stdin",
     "output_type": "stream",
     "text": [
      "Enter rows: 4\n",
      "Enter cols: 4\n"
     ]
    },
    {
     "data": {
      "text/plain": [
       "array([[0, 0, 0, 0],\n",
       "       [0, 0, 0, 0],\n",
       "       [0, 0, 0, 0],\n",
       "       [0, 0, 0, 0]])"
      ]
     },
     "execution_count": 78,
     "metadata": {},
     "output_type": "execute_result"
    }
   ],
   "source": [
    "m = int(input(\"Enter rows:\"))\n",
    "n = int(input(\"Enter cols:\"))\n",
    "arr7 = np.zeros((m,n),dtype = int)\n",
    "arr7"
   ]
  },
  {
   "cell_type": "code",
   "execution_count": 81,
   "id": "57fdbedc-3eaa-42dd-818d-f6ae0d421614",
   "metadata": {},
   "outputs": [
    {
     "data": {
      "text/plain": [
       "array([[1, 1, 1, 1],\n",
       "       [1, 0, 0, 1],\n",
       "       [1, 0, 0, 1],\n",
       "       [1, 1, 1, 1]])"
      ]
     },
     "execution_count": 81,
     "metadata": {},
     "output_type": "execute_result"
    }
   ],
   "source": [
    "arr7[0] = 1\n",
    "arr7[:,0] = 1\n",
    "arr7[:,-1] = 1\n",
    "arr7[-1] = 1\n",
    "arr7[0]\n",
    "arr7"
   ]
  },
  {
   "cell_type": "markdown",
   "id": "14f68704-a8cd-4f51-9a75-56a22a1fa39c",
   "metadata": {},
   "source": [
    "## Stacking"
   ]
  },
  {
   "cell_type": "code",
   "execution_count": 82,
   "id": "8e748c21-e257-41ce-8450-1d5acea6c589",
   "metadata": {},
   "outputs": [],
   "source": [
    "x=np.array([[1,2],[3,4]]) \n",
    "y=np.array([[5,6],[7,8]]) \n",
    "z=np.array([[9,10],[11,12]])"
   ]
  },
  {
   "cell_type": "code",
   "execution_count": 86,
   "id": "38a11308-5b86-40fe-a129-00b025bdb84e",
   "metadata": {},
   "outputs": [
    {
     "data": {
      "text/plain": [
       "array([[ 1,  2,  5,  6,  9, 10],\n",
       "       [ 3,  4,  7,  8, 11, 12]])"
      ]
     },
     "execution_count": 86,
     "metadata": {},
     "output_type": "execute_result"
    }
   ],
   "source": [
    "#horizontal stacking (side by side)\n",
    "#no of rows has to be same otherwise wnt wor colm doesnot matter \n",
    "np.hstack((x,y,z))"
   ]
  },
  {
   "cell_type": "code",
   "execution_count": 87,
   "id": "038d4751-2aeb-4849-b044-a639c4524c5e",
   "metadata": {},
   "outputs": [
    {
     "data": {
      "text/plain": [
       "array([[ 1,  2],\n",
       "       [ 3,  4],\n",
       "       [ 5,  6],\n",
       "       [ 7,  8],\n",
       "       [ 9, 10],\n",
       "       [11, 12]])"
      ]
     },
     "execution_count": 87,
     "metadata": {},
     "output_type": "execute_result"
    }
   ],
   "source": [
    "np.vstack((x,y,z))"
   ]
  },
  {
   "cell_type": "markdown",
   "id": "3a45dee3-1437-4e30-b0c6-75c726a526f1",
   "metadata": {},
   "source": [
    "Odd number of rows and columns\n",
    "\n",
    "[[0, 0, 0, 1, 0, 0, 0], [0, 0, 0, 1, 0, 0, 0], [0, 0, 0, 1, 0, 0, 0], [1, 1, 1, 1, 1, 1, 1], [0, 0, 0, 1, 0, 0, 0], [0, 0, 0, 1, 0, 0, 0], [0, 0, 0, 1, 0, 0, 0]]\n",
    "\n",
    "https://drive.google.com/file/d/1L4M_a03yX1HY2vagDzSzQ1XFojYpnbng/view?usp=drive_link"
   ]
  },
  {
   "cell_type": "code",
   "execution_count": null,
   "id": "9ff2ac77-1c7b-4086-87db-606fb337713f",
   "metadata": {},
   "outputs": [],
   "source": []
  }
 ],
 "metadata": {
  "kernelspec": {
   "display_name": "Python 3 (ipykernel)",
   "language": "python",
   "name": "python3"
  },
  "language_info": {
   "codemirror_mode": {
    "name": "ipython",
    "version": 3
   },
   "file_extension": ".py",
   "mimetype": "text/x-python",
   "name": "python",
   "nbconvert_exporter": "python",
   "pygments_lexer": "ipython3",
   "version": "3.13.1"
  }
 },
 "nbformat": 4,
 "nbformat_minor": 5
}
