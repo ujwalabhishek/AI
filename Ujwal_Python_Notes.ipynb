{
 "cells": [
  {
   "cell_type": "markdown",
   "metadata": {
    "id": "l_oxgGY7rqTz"
   },
   "source": [
    "# Variables\n",
    "\n",
    "\n",
    "### Rules for Naming Variables\n",
    "To use variables effectively, we must follow Python’s naming rules:\n",
    "\n",
    "* Variable names can only contain letters, digits and underscores (_).\n",
    "* A variable name cannot start with a digit.\n",
    "* Variable names are case-sensitive (myVar and myvar are different).\n",
    "* Avoid using Python keywords (e.g., if, else, for) as variable names.\n",
    "\n",
    "\n",
    "```\n",
    "Valid Example:\n",
    "  age = 21\n",
    "  _colour = \"lilac\"\n",
    "  total_score = 90\n",
    "\n",
    "Invalid Example:\n",
    "  1name = \"Error\"  # Starts with a digit\n",
    "  class = 10       # 'class' is a reserved keyword\n",
    "  user-name = \"Doe\"  # Contains a hyphen\n",
    "```"
   ]
  },
  {
   "cell_type": "code",
   "execution_count": null,
   "metadata": {
    "colab": {
     "base_uri": "https://localhost:8080/"
    },
    "id": "YpvQHPQtrw-m",
    "outputId": "a99d9022-7494-453c-cb33-c199b4b347f2"
   },
   "outputs": [
    {
     "name": "stdout",
     "output_type": "stream",
     "text": [
      "100 100 100\n"
     ]
    }
   ],
   "source": [
    "#Multiple Assignments\n",
    "a = b = c = 100\n",
    "print(a, b, c)"
   ]
  },
  {
   "cell_type": "code",
   "execution_count": null,
   "metadata": {
    "colab": {
     "base_uri": "https://localhost:8080/"
    },
    "id": "DvcKhBF7wf4F",
    "outputId": "ca18aacb-b386-44f6-d65e-91ca785860ee"
   },
   "outputs": [
    {
     "name": "stdout",
     "output_type": "stream",
     "text": [
      "1 2.5 Python\n"
     ]
    }
   ],
   "source": [
    "#expanding\n",
    "x, y, z = 1, 2.5, \"Python\"\n",
    "print(x, y, z)"
   ]
  },
  {
   "cell_type": "code",
   "execution_count": null,
   "metadata": {
    "colab": {
     "base_uri": "https://localhost:8080/"
    },
    "id": "K8EgL98iwtrc",
    "outputId": "92ecb62b-9c68-40b7-b586-7c8575cc0889"
   },
   "outputs": [
    {
     "name": "stdout",
     "output_type": "stream",
     "text": [
      "<class 'int'>\n",
      "<class 'float'>\n",
      "<class 'str'>\n",
      "<class 'list'>\n",
      "<class 'dict'>\n",
      "<class 'bool'>\n"
     ]
    }
   ],
   "source": [
    "#Getting the Type of Variable\n",
    "n = 42\n",
    "f = 3.14\n",
    "s = \"Hello, World!\"\n",
    "li = [1, 2, 3]\n",
    "d = {'key': 'value'}\n",
    "bool = True\n",
    "\n",
    "# Get and print the type of each variable\n",
    "print(type(n))\n",
    "print(type(f))\n",
    "print(type(s))\n",
    "print(type(li))\n",
    "print(type(d))\n",
    "print(type(bool))"
   ]
  },
  {
   "cell_type": "markdown",
   "metadata": {
    "id": "oDyF87xS26VI"
   },
   "source": [
    "## Variable typecasting\n",
    "\n",
    "str(n) # converts the integer n=43 to string n = '42'"
   ]
  },
  {
   "cell_type": "code",
   "execution_count": null,
   "metadata": {
    "colab": {
     "base_uri": "https://localhost:8080/"
    },
    "id": "XekFmCH83RSi",
    "outputId": "b18746ce-b0fe-461d-b8a4-4adb6cc00db8"
   },
   "outputs": [
    {
     "data": {
      "text/plain": [
       "str"
      ]
     },
     "execution_count": 22,
     "metadata": {},
     "output_type": "execute_result"
    }
   ],
   "source": [
    "x = str(n)\n",
    "type(x)"
   ]
  },
  {
   "cell_type": "code",
   "execution_count": null,
   "metadata": {
    "colab": {
     "base_uri": "https://localhost:8080/"
    },
    "id": "R4pUPDiJw11B",
    "outputId": "7a401c3d-e033-47d3-941c-4eaf9669a343"
   },
   "outputs": [
    {
     "name": "stdout",
     "output_type": "stream",
     "text": [
      "I am local\n"
     ]
    }
   ],
   "source": [
    "#Scope of a Variable\n",
    "\n",
    "#Local Variables:\n",
    "def f():\n",
    "    a = \"I am local\"\n",
    "    print(a)\n",
    "\n",
    "f()\n",
    "# print(a)  # This would raise an error since 'local_var' is not accessible outside the function\n"
   ]
  },
  {
   "cell_type": "code",
   "execution_count": null,
   "metadata": {
    "colab": {
     "base_uri": "https://localhost:8080/"
    },
    "id": "zxILMuOSw5lR",
    "outputId": "402b8ea1-a183-42c7-8b78-3fff03f06c43"
   },
   "outputs": [
    {
     "name": "stdout",
     "output_type": "stream",
     "text": [
      "Modified globally\n",
      "I am global\n"
     ]
    }
   ],
   "source": [
    "#Global Variables:\n",
    "a = \"I am global\"\n",
    "def f():\n",
    "\n",
    "    a = \"Modified globally\"\n",
    "    print(a)\n",
    "\n",
    "f()\n",
    "print(a)"
   ]
  },
  {
   "cell_type": "code",
   "execution_count": null,
   "metadata": {
    "colab": {
     "base_uri": "https://localhost:8080/"
    },
    "id": "x14dJCDPw9vS",
    "outputId": "546bbe28-68fd-4f49-dd45-dbb95e3c9d4d"
   },
   "outputs": [
    {
     "name": "stdout",
     "output_type": "stream",
     "text": [
      "Modified globally\n",
      "Modified globally\n"
     ]
    }
   ],
   "source": [
    "a = \"I am global\"\n",
    "\n",
    "def f():\n",
    "    global a #use global keyword to access global variable inside the function and modify\n",
    "    a = \"Modified globally\"\n",
    "    print(a)\n",
    "\n",
    "f()\n",
    "print(a)"
   ]
  },
  {
   "cell_type": "markdown",
   "metadata": {
    "id": "_--Jf9U3wfis"
   },
   "source": [
    "# Data Types\n",
    "\n",
    "![image.png](data:image/png;base64,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)\n"
   ]
  },
  {
   "cell_type": "markdown",
   "metadata": {
    "id": "1ctKSgx0sxv1"
   },
   "source": [
    "# Operators\n",
    "\n",
    "## Arithmetic Operators\n",
    "\n",
    "1. Addition: +\n",
    "2. Subtraction: -\n",
    "3. Multiplication: *\n",
    "4. Division: /\n",
    "5. Floor division (i.e. division rounded to the previous whole number): //\n",
    "6. Modulus (i.e. the remainder you obtain after a floor division operation): %\n",
    "7. Exponentiation: **\n",
    "\n",
    "## Assignment Operators\n",
    "\n",
    "1. Assign: =\n",
    "2. Add and assign: +=\n",
    "3. Subtract and assign: -=\n",
    "4. Multiply and assign: *=\n",
    "5. Divide and assign: /=\n",
    "6. Floor divide and assign: //=\n",
    "7. Modulus and assign: %=\n",
    "8. Exponentiate and assign: **=\n",
    "\n"
   ]
  },
  {
   "cell_type": "code",
   "execution_count": null,
   "metadata": {
    "id": "g8klmXeJ35YK"
   },
   "outputs": [],
   "source": []
  },
  {
   "cell_type": "code",
   "execution_count": null,
   "metadata": {
    "colab": {
     "base_uri": "https://localhost:8080/"
    },
    "id": "qks_wg040360",
    "outputId": "7dd29628-4b9c-452c-a4e2-2e533952d9b3"
   },
   "outputs": [
    {
     "data": {
      "text/plain": [
       "256"
      ]
     },
     "execution_count": 18,
     "metadata": {},
     "output_type": "execute_result"
    }
   ],
   "source": [
    "4 ** 4 # equivalent kto 2 ^ 2"
   ]
  },
  {
   "cell_type": "code",
   "execution_count": null,
   "metadata": {
    "colab": {
     "base_uri": "https://localhost:8080/",
     "height": 35
    },
    "id": "s83glPKS2TnE",
    "outputId": "c05f7227-c4bf-4111-fcae-179dbe3165d1"
   },
   "outputs": [
    {
     "data": {
      "application/vnd.google.colaboratory.intrinsic+json": {
       "type": "string"
      },
      "text/plain": [
       "''"
      ]
     },
     "execution_count": 20,
     "metadata": {},
     "output_type": "execute_result"
    }
   ],
   "source": [
    "# important\n",
    "\n",
    "'my_str' * -5  # outputs empty string as against multiplying with positive number"
   ]
  },
  {
   "cell_type": "code",
   "execution_count": null,
   "metadata": {
    "id": "ujjORfugs1Av"
   },
   "outputs": [],
   "source": []
  },
  {
   "cell_type": "markdown",
   "metadata": {
    "id": "DiBtxA9Ds19m"
   },
   "source": [
    "## The walrus operator (:=) in\n",
    "\n",
    " The walrus operator (:=) in Python is known as the assignment expression operator. It allows assignment to a variable within an expression, making the code more concise.\n",
    "\n",
    "Here are some simple examples without involving loops, conditionals, or data structures:\n",
    "\n",
    "1. Assigning and Printing in One Step\n",
    "  Instead of:\n",
    "  ```\n",
    "  x = 10\n",
    "  print(x)\n",
    "  ```\n",
    "  You can use:\n",
    "  ```\n",
    "  print(x := 10)  # Output: 10\n",
    "  ```\n",
    "Here, x is assigned 10 and immediately printed.\n",
    "\n",
    "2. Using in Mathematical Expressions\n",
    "  Instead of:\n",
    "  ```\n",
    "  a = 5\n",
    "  b = a * 2\n",
    "  print(b)\n",
    "  ```\n",
    "You can use:\n",
    "  ```\n",
    "  print(b := (a := 5) * 2)  # Output: 10\n",
    "```\n",
    "* a is assigned 5\n",
    "* b is assigned a * 2, which is 10\n",
    "* b is printed\n",
    "2. Formatting Strings:\n",
    "  Instead of:\n",
    "```\n",
    "name = \"Alice\"\n",
    "greeting = f\"Hello, {name}!\"\n",
    "print(greeting)\n",
    "```\n",
    "You can use:\n",
    "```\n",
    "print(greeting := f\"Hello, {name := 'Alice'}!\")  # Output: Hello, Alice!\n",
    "```\n",
    "* name is assigned \"Alice\" inside the f-string\n",
    "* greeting is assigned the formatted string"
   ]
  },
  {
   "cell_type": "markdown",
   "metadata": {
    "id": "KYEFSCC1_UDI"
   },
   "source": [
    "## Comparision Operators\n",
    "\n",
    "* Equals: == (note the difference between this and the assignment operator ==)\n",
    "* Does not equal: !=\n",
    "* Greater than: >\n",
    "* Less than: <\n",
    "* Greater than or equal to: >=\n",
    "* Less than or equal to: <=\n"
   ]
  },
  {
   "cell_type": "markdown",
   "metadata": {
    "id": "jVFkJbwrBHf3"
   },
   "source": [
    "## Logical Operators\n",
    "\n",
    "* The AND operator: and (evaluates to True if both operands evaluate to True)\n",
    "* The OR operator: or (evaluates to True if either operand evaluates to True)\n",
    "* The NOT operator: not (is the inverse of the provided operand)\n",
    "\n",
    "Precedence\n",
    "\n",
    "1. Paranthesis\n",
    "2. AND\n",
    "3. TRUE"
   ]
  },
  {
   "cell_type": "code",
   "execution_count": null,
   "metadata": {
    "colab": {
     "base_uri": "https://localhost:8080/"
    },
    "id": "LOoOtFfC_fM2",
    "outputId": "102bfa47-7d87-4e82-e9b6-212097cd5768"
   },
   "outputs": [
    {
     "data": {
      "text/plain": [
       "True"
      ]
     },
     "execution_count": 1,
     "metadata": {},
     "output_type": "execute_result"
    }
   ],
   "source": [
    "2 < 3 and 3 < 4  # output: True"
   ]
  },
  {
   "cell_type": "code",
   "execution_count": null,
   "metadata": {
    "colab": {
     "base_uri": "https://localhost:8080/"
    },
    "id": "qxKTZxoDITAg",
    "outputId": "a8f89fd2-35c4-459f-f864-0c0301719a10"
   },
   "outputs": [
    {
     "data": {
      "text/plain": [
       "False"
      ]
     },
     "execution_count": 2,
     "metadata": {},
     "output_type": "execute_result"
    }
   ],
   "source": [
    "2 < 3 and 5 < 2  # output: False\n"
   ]
  },
  {
   "cell_type": "code",
   "execution_count": null,
   "metadata": {
    "colab": {
     "base_uri": "https://localhost:8080/"
    },
    "id": "r1Tocx47IW47",
    "outputId": "26e35878-f9de-4b75-e671-66f5e95865d5"
   },
   "outputs": [
    {
     "data": {
      "text/plain": [
       "False"
      ]
     },
     "execution_count": 3,
     "metadata": {},
     "output_type": "execute_result"
    }
   ],
   "source": [
    "7 > 10 and 5 < 2"
   ]
  },
  {
   "cell_type": "code",
   "execution_count": null,
   "metadata": {
    "colab": {
     "base_uri": "https://localhost:8080/"
    },
    "id": "_KjjIvmvIhmd",
    "outputId": "20f62159-58ec-4619-cfdc-9ff5effe5aaa"
   },
   "outputs": [
    {
     "data": {
      "text/plain": [
       "True"
      ]
     },
     "execution_count": 4,
     "metadata": {},
     "output_type": "execute_result"
    }
   ],
   "source": [
    "2 < 3 or 3 < 4  # output: True"
   ]
  },
  {
   "cell_type": "code",
   "execution_count": null,
   "metadata": {
    "colab": {
     "base_uri": "https://localhost:8080/"
    },
    "id": "xA1gKefvIjoi",
    "outputId": "be1fed39-7360-4cb1-ab3c-15287b8c5488"
   },
   "outputs": [
    {
     "data": {
      "text/plain": [
       "True"
      ]
     },
     "execution_count": 5,
     "metadata": {},
     "output_type": "execute_result"
    }
   ],
   "source": [
    "2 < 3 or 5 < 2  # output: True"
   ]
  },
  {
   "cell_type": "code",
   "execution_count": null,
   "metadata": {
    "colab": {
     "base_uri": "https://localhost:8080/"
    },
    "id": "xadyWGXSIlHk",
    "outputId": "17008050-95af-46e2-d886-2684a3549b5e"
   },
   "outputs": [
    {
     "data": {
      "text/plain": [
       "False"
      ]
     },
     "execution_count": 6,
     "metadata": {},
     "output_type": "execute_result"
    }
   ],
   "source": [
    "7 > 10 or 5 < 2  # output: False"
   ]
  },
  {
   "cell_type": "code",
   "execution_count": null,
   "metadata": {
    "colab": {
     "base_uri": "https://localhost:8080/"
    },
    "id": "7cc1nA8UImo9",
    "outputId": "00df1e73-e90c-4c94-fdf4-5927532effbc"
   },
   "outputs": [
    {
     "data": {
      "text/plain": [
       "False"
      ]
     },
     "execution_count": 7,
     "metadata": {},
     "output_type": "execute_result"
    }
   ],
   "source": [
    "not 3 < 4  # output: False"
   ]
  },
  {
   "cell_type": "code",
   "execution_count": null,
   "metadata": {
    "colab": {
     "base_uri": "https://localhost:8080/"
    },
    "id": "okB49t5dIoWw",
    "outputId": "e7a23516-e108-47ee-fdbf-f7fc4d6b9545"
   },
   "outputs": [
    {
     "data": {
      "text/plain": [
       "True"
      ]
     },
     "execution_count": 8,
     "metadata": {},
     "output_type": "execute_result"
    }
   ],
   "source": [
    "not 5 < 2  # output: True\n"
   ]
  },
  {
   "cell_type": "code",
   "execution_count": null,
   "metadata": {
    "colab": {
     "base_uri": "https://localhost:8080/"
    },
    "id": "YxIHwVetIrec",
    "outputId": "a3d71a63-86e7-4c55-c25c-007d727c73d6"
   },
   "outputs": [
    {
     "data": {
      "text/plain": [
       "True"
      ]
     },
     "execution_count": 9,
     "metadata": {},
     "output_type": "execute_result"
    }
   ],
   "source": [
    "1 < 2 or 2 < 3 and 3 > 4  # output: True\n"
   ]
  },
  {
   "cell_type": "code",
   "execution_count": null,
   "metadata": {
    "colab": {
     "base_uri": "https://localhost:8080/"
    },
    "id": "taE2sHLzIsNU",
    "outputId": "57e051db-52bc-40ae-c970-8f20c51945c6"
   },
   "outputs": [
    {
     "data": {
      "text/plain": [
       "False"
      ]
     },
     "execution_count": 10,
     "metadata": {},
     "output_type": "execute_result"
    }
   ],
   "source": [
    "(1 < 2 or 2 < 3) and 3 > 4  # output: False"
   ]
  },
  {
   "cell_type": "code",
   "execution_count": null,
   "metadata": {
    "colab": {
     "base_uri": "https://localhost:8080/"
    },
    "id": "ot-v34dbIt1n",
    "outputId": "139766fa-5051-4130-8313-2cf25d88c93d"
   },
   "outputs": [
    {
     "data": {
      "text/plain": [
       "True"
      ]
     },
     "execution_count": 11,
     "metadata": {},
     "output_type": "execute_result"
    }
   ],
   "source": [
    "1 < 2 or (2 < 3 and 3 > 4)  # output: True"
   ]
  },
  {
   "cell_type": "markdown",
   "metadata": {
    "id": "MqBr_LIxI-Sg"
   },
   "source": [
    "## Chained Comparison Operators in Python (Without Logical Operators)\n",
    "\n",
    "In Python, chained comparison operators allow you to compare multiple values in a single statement without using logical operators (and, or, etc.).\n",
    "\n",
    "1. Basic Chaining\n",
    "\n",
    "  Instead of writing:\n",
    "\n",
    "  ```\n",
    "  x = 5\n",
    "  5 < x and x < 10\n",
    "  ```\n",
    "\n",
    "  You can simply write:\n",
    "\n",
    "  ```\n",
    "  x = 5\n",
    "  5 < x < 10  # Equivalent to: (5 < x) and (x < 10)\n",
    "  ```\n",
    "\n",
    "```\n",
    "# This is formatted as code\n",
    "```\n",
    "\n"
   ]
  },
  {
   "cell_type": "code",
   "execution_count": null,
   "metadata": {
    "colab": {
     "base_uri": "https://localhost:8080/"
    },
    "id": "wAixrXSFIvSi",
    "outputId": "7aa84160-9926-4b0e-e2b6-9933739e45f2"
   },
   "outputs": [
    {
     "data": {
      "text/plain": [
       "False"
      ]
     },
     "execution_count": 12,
     "metadata": {},
     "output_type": "execute_result"
    }
   ],
   "source": [
    "x = 5\n",
    "5 < x < 10  # Equivalent to: (5 < x) and (x < 10)"
   ]
  },
  {
   "cell_type": "markdown",
   "metadata": {
    "id": "ZucBopcsJjYc"
   },
   "source": [
    "2. Multiple Comparisons\n",
    "\n",
    "Python allows more than two comparisons in a single expression:\n",
    "\n",
    "```\n",
    "a = 3\n",
    "b = 5\n",
    "c = 7\n",
    "\n",
    "1 < a < b < c < 10  # Equivalent to: (1 < a) and (a < b) and (b < c) and (c < 10)\n",
    "```"
   ]
  },
  {
   "cell_type": "code",
   "execution_count": null,
   "metadata": {
    "colab": {
     "base_uri": "https://localhost:8080/"
    },
    "id": "3eWqc7nSJbSo",
    "outputId": "89aed02e-1bd6-40ea-9a30-da7ba8e1a904"
   },
   "outputs": [
    {
     "data": {
      "text/plain": [
       "True"
      ]
     },
     "execution_count": 13,
     "metadata": {},
     "output_type": "execute_result"
    }
   ],
   "source": [
    "a = 3\n",
    "b = 5\n",
    "c = 7\n",
    "\n",
    "1 < a < b < c < 10  # Equivalent to: (1 < a) and (a < b) and (b < c) and (c < 10)"
   ]
  },
  {
   "cell_type": "markdown",
   "metadata": {
    "id": "1jgE2cnzJ2mW"
   },
   "source": [
    "3. Comparing Equalities\n",
    "\n",
    "Chained comparisons can include equality (==):\n",
    "```\n",
    "x = 10\n",
    "y = 10\n",
    "z = 20\n",
    "\n",
    "x == y == 10  # Equivalent to: (x == y) and (y == 10)\n",
    "x < y == 10   # Equivalent to: (x < y) and (y == 10)\n",
    "```"
   ]
  },
  {
   "cell_type": "code",
   "execution_count": null,
   "metadata": {
    "colab": {
     "base_uri": "https://localhost:8080/"
    },
    "id": "zUTZkdi2J85d",
    "outputId": "70fa6850-0cbd-43a2-a54a-a371e520a507"
   },
   "outputs": [
    {
     "data": {
      "text/plain": [
       "False"
      ]
     },
     "execution_count": 14,
     "metadata": {},
     "output_type": "execute_result"
    }
   ],
   "source": [
    "x = 10\n",
    "y = 10\n",
    "z = 20\n",
    "\n",
    "x == y == 10  # Equivalent to: (x == y) and (y == 10)\n",
    "x < y == 10   # Equivalent to: (x < y) and (y == 10)\n"
   ]
  },
  {
   "cell_type": "markdown",
   "metadata": {
    "id": "kR_shZUSKVng"
   },
   "source": [
    "4. Checking Non-Decreasing Order\n",
    "\n",
    "```\n",
    "a = 5\n",
    "b = 5\n",
    "c = 7\n",
    "\n",
    "a <= b <= c  # Equivalent to: (a <= b) and (b <= c)\n",
    "```\n",
    "This checks if a is less than or equal to b, and b is less than or equal to c.\n",
    "\n"
   ]
  },
  {
   "cell_type": "code",
   "execution_count": null,
   "metadata": {
    "colab": {
     "base_uri": "https://localhost:8080/"
    },
    "id": "GB5NiEvPKDVW",
    "outputId": "3cac9637-a033-4ff8-f753-a414ccf35dc0"
   },
   "outputs": [
    {
     "data": {
      "text/plain": [
       "True"
      ]
     },
     "execution_count": 15,
     "metadata": {},
     "output_type": "execute_result"
    }
   ],
   "source": [
    "a = 5\n",
    "b = 5\n",
    "c = 7\n",
    "\n",
    "a <= b <= c  # Equivalent to: (a <= b) and (b <= c)"
   ]
  },
  {
   "cell_type": "markdown",
   "metadata": {
    "id": "RNvHvGFhKmcv"
   },
   "source": [
    "5. Expressions in Chaining\n",
    "\n",
    "You can also use expressions inside comparisons:\n",
    "\n",
    "```\n",
    "x = 5\n",
    "2 * x < x + 10 < 3 * x  # Equivalent to: (2 * x < x + 10) and (x + 10 < 3 * x)\n",
    "```\n",
    "\n",
    "This evaluates to True if both inequalities hold."
   ]
  },
  {
   "cell_type": "code",
   "execution_count": null,
   "metadata": {
    "colab": {
     "base_uri": "https://localhost:8080/"
    },
    "id": "jdg2R3HzKecS",
    "outputId": "7f7967db-e4a3-45fc-beb6-ad36d83e755c"
   },
   "outputs": [
    {
     "data": {
      "text/plain": [
       "False"
      ]
     },
     "execution_count": 16,
     "metadata": {},
     "output_type": "execute_result"
    }
   ],
   "source": [
    "x = 5\n",
    "2 * x < x + 10 < 3 * x  # Equivalent to: (2 * x < x + 10) and (x + 10 < 3 * x)\n"
   ]
  },
  {
   "cell_type": "markdown",
   "metadata": {
    "id": "hb3rjT9bsZXt"
   },
   "source": [
    "## Truthiness & Falsiness\n",
    "\n",
    "In Python, non-boolean data types can also be 'truthy' (True-like) or 'falsy' (False-like), i.e., they can evaluate to True or False in boolean\n",
    "contexts, without explicitly being equal to False\n",
    "\n",
    "Empty strings are falsy but not False. Non-empty strings are truthy but not True."
   ]
  },
  {
   "cell_type": "code",
   "execution_count": null,
   "metadata": {
    "colab": {
     "base_uri": "https://localhost:8080/"
    },
    "id": "a1KmhSJ_Kv8u",
    "outputId": "c616f03a-8d49-4c3e-e6e0-d05125ba9459"
   },
   "outputs": [
    {
     "data": {
      "text/plain": [
       "False"
      ]
     },
     "execution_count": 1,
     "metadata": {},
     "output_type": "execute_result"
    }
   ],
   "source": [
    "bool('') # empty strings are falsy"
   ]
  },
  {
   "cell_type": "code",
   "execution_count": null,
   "metadata": {
    "colab": {
     "base_uri": "https://localhost:8080/"
    },
    "id": "He9fZiXbszO8",
    "outputId": "e373ec8a-8e13-4e94-97b0-087fc5d601f1"
   },
   "outputs": [
    {
     "data": {
      "text/plain": [
       "False"
      ]
     },
     "execution_count": 3,
     "metadata": {},
     "output_type": "execute_result"
    }
   ],
   "source": [
    "''== False # empty strings are not equal to False"
   ]
  },
  {
   "cell_type": "code",
   "execution_count": null,
   "metadata": {
    "colab": {
     "base_uri": "https://localhost:8080/",
     "height": 35
    },
    "id": "WwnLsSfes2aW",
    "outputId": "c767a37f-f19a-486f-b9df-952173451a30"
   },
   "outputs": [
    {
     "data": {
      "application/vnd.google.colaboratory.intrinsic+json": {
       "type": "string"
      },
      "text/plain": [
       "''"
      ]
     },
     "execution_count": 5,
     "metadata": {},
     "output_type": "execute_result"
    }
   ],
   "source": [
    "'' and 0 # both falsy; returns first falsy"
   ]
  },
  {
   "cell_type": "code",
   "execution_count": null,
   "metadata": {
    "colab": {
     "base_uri": "https://localhost:8080/"
    },
    "id": "7BfbCRoOuB_M",
    "outputId": "ccbe1461-1dc1-4467-b679-a6940b91a41c"
   },
   "outputs": [
    {
     "data": {
      "text/plain": [
       "0"
      ]
     },
     "execution_count": 9,
     "metadata": {},
     "output_type": "execute_result"
    }
   ],
   "source": [
    "123 and 0 # returns first falsy"
   ]
  },
  {
   "cell_type": "code",
   "execution_count": null,
   "metadata": {
    "colab": {
     "base_uri": "https://localhost:8080/",
     "height": 35
    },
    "id": "789weSnKuMMg",
    "outputId": "acccfb48-1cf8-4b45-fe9d-fd81e80744a3"
   },
   "outputs": [
    {
     "data": {
      "application/vnd.google.colaboratory.intrinsic+json": {
       "type": "string"
      },
      "text/plain": [
       "'def'"
      ]
     },
     "execution_count": 10,
     "metadata": {},
     "output_type": "execute_result"
    }
   ],
   "source": [
    "'abc' and 'def' # both truthy%;B returns last truthy"
   ]
  },
  {
   "cell_type": "code",
   "execution_count": null,
   "metadata": {
    "colab": {
     "base_uri": "https://localhost:8080/",
     "height": 35
    },
    "id": "sBa_fTxCutPH",
    "outputId": "b79187a9-0984-46f1-97a2-7208e63f852e"
   },
   "outputs": [
    {
     "data": {
      "application/vnd.google.colaboratory.intrinsic+json": {
       "type": "string"
      },
      "text/plain": [
       "''"
      ]
     },
     "execution_count": 12,
     "metadata": {},
     "output_type": "execute_result"
    }
   ],
   "source": [
    "'abc' and '' and 0 # returns first falsy"
   ]
  },
  {
   "cell_type": "code",
   "execution_count": null,
   "metadata": {
    "colab": {
     "base_uri": "https://localhost:8080/"
    },
    "id": "Oj99G8Neu5Dj",
    "outputId": "925af1bb-ad51-40eb-c230-9359d462a1a0"
   },
   "outputs": [
    {
     "data": {
      "text/plain": [
       "3.14"
      ]
     },
     "execution_count": 13,
     "metadata": {},
     "output_type": "execute_result"
    }
   ],
   "source": [
    "1 and 'abc' and 3.14 # returns last truthy"
   ]
  },
  {
   "cell_type": "markdown",
   "metadata": {
    "id": "Nca-EmjNvKQG"
   },
   "source": [
    "An or operation will need to verify if any value is truthy to evaluate to True. If it encounters a falsy value, it will proceed to check for more. If it\n",
    "encounters a truthy value, that is sufficient to return the truthy value. It will therefore:\n",
    "\n",
    "* Return the first truthy value if any value is truthy, or\n",
    "* Return the last falsy value if all values are falsy."
   ]
  },
  {
   "cell_type": "code",
   "execution_count": null,
   "metadata": {
    "colab": {
     "base_uri": "https://localhost:8080/"
    },
    "id": "wn5B2Mt6vAiX",
    "outputId": "e7912600-a236-4093-a552-38baae2efdb1"
   },
   "outputs": [
    {
     "data": {
      "text/plain": [
       "0"
      ]
     },
     "execution_count": 14,
     "metadata": {},
     "output_type": "execute_result"
    }
   ],
   "source": [
    "'' or 0 # both falsy returns last falsy"
   ]
  },
  {
   "cell_type": "code",
   "execution_count": null,
   "metadata": {
    "colab": {
     "base_uri": "https://localhost:8080/"
    },
    "id": "8GKMWRwuv0lB",
    "outputId": "3429d2ed-96ab-4b9a-a21a-ba0ec96958bc"
   },
   "outputs": [
    {
     "data": {
      "text/plain": [
       "123"
      ]
     },
     "execution_count": 15,
     "metadata": {},
     "output_type": "execute_result"
    }
   ],
   "source": [
    "123 or 0 # returns first truthy"
   ]
  },
  {
   "cell_type": "code",
   "execution_count": null,
   "metadata": {
    "colab": {
     "base_uri": "https://localhost:8080/",
     "height": 35
    },
    "id": "WcanH29Fv9vM",
    "outputId": "658c3e3e-41be-4ab4-cda5-e60445a027dc"
   },
   "outputs": [
    {
     "data": {
      "application/vnd.google.colaboratory.intrinsic+json": {
       "type": "string"
      },
      "text/plain": [
       "'abc'"
      ]
     },
     "execution_count": 16,
     "metadata": {},
     "output_type": "execute_result"
    }
   ],
   "source": [
    "'abc' or 'def' # both truthy; returns first truthy"
   ]
  },
  {
   "cell_type": "code",
   "execution_count": null,
   "metadata": {
    "colab": {
     "base_uri": "https://localhost:8080/",
     "height": 35
    },
    "id": "tBVcV5oYwAqk",
    "outputId": "ef4a7c87-dd9c-4dcc-ed91-2778ee16c2d6"
   },
   "outputs": [
    {
     "data": {
      "application/vnd.google.colaboratory.intrinsic+json": {
       "type": "string"
      },
      "text/plain": [
       "'abc'"
      ]
     },
     "execution_count": 18,
     "metadata": {},
     "output_type": "execute_result"
    }
   ],
   "source": [
    "'abc' or '' or 0 # returns first truthy"
   ]
  },
  {
   "cell_type": "code",
   "execution_count": null,
   "metadata": {
    "colab": {
     "base_uri": "https://localhost:8080/"
    },
    "id": "GT5OTf1GwEdT",
    "outputId": "690b71ff-8180-4a03-854b-d1c54f217288"
   },
   "outputs": [
    {
     "data": {
      "text/plain": [
       "0.0"
      ]
     },
     "execution_count": 20,
     "metadata": {},
     "output_type": "execute_result"
    }
   ],
   "source": [
    "0 or '' or 0.0 # returns last falsy"
   ]
  },
  {
   "cell_type": "markdown",
   "metadata": {
    "id": "9ILYL0zow3jg"
   },
   "source": [
    "The not operation will always return the opposite boolean: True if falsy and False if truthy\n"
   ]
  },
  {
   "cell_type": "code",
   "execution_count": null,
   "metadata": {
    "colab": {
     "base_uri": "https://localhost:8080/"
    },
    "id": "S6HeiJiIwQZT",
    "outputId": "d47e94be-1591-4934-95be-ef56072666a9"
   },
   "outputs": [
    {
     "data": {
      "text/plain": [
       "True"
      ]
     },
     "execution_count": 21,
     "metadata": {},
     "output_type": "execute_result"
    }
   ],
   "source": [
    "not 0 # returns True"
   ]
  },
  {
   "cell_type": "code",
   "execution_count": null,
   "metadata": {
    "colab": {
     "base_uri": "https://localhost:8080/"
    },
    "id": "3oAXxBTew7xb",
    "outputId": "707ab615-2e4f-45bd-867f-a2b67d239a0f"
   },
   "outputs": [
    {
     "data": {
      "text/plain": [
       "False"
      ]
     },
     "execution_count": 22,
     "metadata": {},
     "output_type": "execute_result"
    }
   ],
   "source": [
    "not 123 # returns False"
   ]
  },
  {
   "cell_type": "markdown",
   "metadata": {
    "id": "N4Og-NpZw_sK"
   },
   "source": [
    "What if we chain our operators? The **order of precedence of logical operators is not > and > or**, unless there are parantheses involved, in\n",
    "which case the expressions within the parantheses will be solved first."
   ]
  },
  {
   "cell_type": "code",
   "execution_count": null,
   "metadata": {
    "colab": {
     "base_uri": "https://localhost:8080/"
    },
    "id": "FRuTKKmlw93n",
    "outputId": "6862f2ab-9331-4112-d616-1e808c488ab2"
   },
   "outputs": [
    {
     "data": {
      "text/plain": [
       "123"
      ]
     },
     "execution_count": 23,
     "metadata": {},
     "output_type": "execute_result"
    }
   ],
   "source": [
    "not 'abc' and 0 or 123"
   ]
  },
  {
   "cell_type": "markdown",
   "metadata": {
    "id": "uPIkzeuAzIIB"
   },
   "source": [
    "**Example:**"
   ]
  },
  {
   "cell_type": "code",
   "execution_count": null,
   "metadata": {
    "colab": {
     "base_uri": "https://localhost:8080/"
    },
    "id": "zDBMXKCLxSVK",
    "outputId": "8bbacc33-cdb1-4895-e5de-e6df8968eb85"
   },
   "outputs": [
    {
     "data": {
      "text/plain": [
       "True"
      ]
     },
     "execution_count": 25,
     "metadata": {},
     "output_type": "execute_result"
    }
   ],
   "source": [
    "'abc' and '' and (0 or 123) or not ''"
   ]
  },
  {
   "cell_type": "markdown",
   "metadata": {
    "id": "j_edTMI_yjCN"
   },
   "source": [
    "Let's solve this step-by-step in order of precedence"
   ]
  },
  {
   "cell_type": "code",
   "execution_count": null,
   "metadata": {
    "colab": {
     "base_uri": "https://localhost:8080/"
    },
    "id": "RUprVCW1yIKi",
    "outputId": "c8ef7d92-8e4e-47dc-d5f6-a08717d8e263"
   },
   "outputs": [
    {
     "data": {
      "text/plain": [
       "123"
      ]
     },
     "execution_count": 26,
     "metadata": {},
     "output_type": "execute_result"
    }
   ],
   "source": [
    "0  or 123 # expression in parantheses evaluated first"
   ]
  },
  {
   "cell_type": "code",
   "execution_count": null,
   "metadata": {
    "colab": {
     "base_uri": "https://localhost:8080/"
    },
    "id": "NCD80894yrkV",
    "outputId": "8aabb98d-432b-4185-beae-04a35cefb6c8"
   },
   "outputs": [
    {
     "data": {
      "text/plain": [
       "True"
      ]
     },
     "execution_count": 28,
     "metadata": {},
     "output_type": "execute_result"
    }
   ],
   "source": [
    "not '' # not evaluated next"
   ]
  },
  {
   "cell_type": "code",
   "execution_count": null,
   "metadata": {
    "colab": {
     "base_uri": "https://localhost:8080/",
     "height": 35
    },
    "id": "UzGURMv0yvof",
    "outputId": "4007eb2d-7c8e-48fe-d591-5bd6bc3e3b02"
   },
   "outputs": [
    {
     "data": {
      "application/vnd.google.colaboratory.intrinsic+json": {
       "type": "string"
      },
      "text/plain": [
       "''"
      ]
     },
     "execution_count": 29,
     "metadata": {},
     "output_type": "execute_result"
    }
   ],
   "source": [
    "'abc' and '' # first and evaluated next (left-to-right execution)"
   ]
  },
  {
   "cell_type": "code",
   "execution_count": null,
   "metadata": {
    "colab": {
     "base_uri": "https://localhost:8080/",
     "height": 35
    },
    "id": "ix87jV3Sy9zQ",
    "outputId": "28986528-5be7-4e68-ae2c-82602fdbf2d0"
   },
   "outputs": [
    {
     "data": {
      "application/vnd.google.colaboratory.intrinsic+json": {
       "type": "string"
      },
      "text/plain": [
       "''"
      ]
     },
     "execution_count": 30,
     "metadata": {},
     "output_type": "execute_result"
    }
   ],
   "source": [
    "'' and 123 # second and evaluated next"
   ]
  },
  {
   "cell_type": "code",
   "execution_count": null,
   "metadata": {
    "colab": {
     "base_uri": "https://localhost:8080/"
    },
    "id": "3odobPbGzA_R",
    "outputId": "3456e9f2-797f-4cb9-cd50-9d33d8f69a1e"
   },
   "outputs": [
    {
     "data": {
      "text/plain": [
       "True"
      ]
     },
     "execution_count": 31,
     "metadata": {},
     "output_type": "execute_result"
    }
   ],
   "source": [
    "'' or True # outer or evaluated last"
   ]
  },
  {
   "cell_type": "markdown",
   "metadata": {
    "id": "mIC-ha3zzyju"
   },
   "source": [
    "## Membership Operators (in)\n",
    "\n",
    "\n",
    "Membership operators allow us to **check if a value belongs to a collection or sequence**. So far, the only such collection or sequence we have encountered is of the string type, which, as we know, is a sequence of characters which in themselves are strings of length 1. There are other collections and sequences, such as lists, tuples, sets and dictionaries, which you will learn of later.\n",
    "\n",
    "\n",
    "\n",
    "The membership operators in Python are as follows:\n",
    "\n",
    "* To check if a member belongs to a collection: in\n",
    "* To check if a member does not belong to a collection: not in\n",
    "\n"
   ]
  },
  {
   "cell_type": "code",
   "execution_count": null,
   "metadata": {
    "colab": {
     "base_uri": "https://localhost:8080/"
    },
    "id": "iv2c1Nz928ZG",
    "outputId": "4bfa66e3-169d-4086-c50f-87845f43a1bf"
   },
   "outputs": [
    {
     "data": {
      "text/plain": [
       "True"
      ]
     },
     "execution_count": 41,
     "metadata": {},
     "output_type": "execute_result"
    }
   ],
   "source": [
    "'a' in 'abc' # a string is a collection of characters (i.e. a collection of strings of length 1)"
   ]
  },
  {
   "cell_type": "markdown",
   "metadata": {
    "id": "6PTidSVo3lHH"
   },
   "source": [
    "**Important:-**"
   ]
  },
  {
   "cell_type": "code",
   "execution_count": null,
   "metadata": {
    "colab": {
     "base_uri": "https://localhost:8080/"
    },
    "id": "QqRdz8qp3UvF",
    "outputId": "14b881e7-866a-4006-ef96-270a9c584bd2"
   },
   "outputs": [
    {
     "data": {
      "text/plain": [
       "True"
      ]
     },
     "execution_count": 40,
     "metadata": {},
     "output_type": "execute_result"
    }
   ],
   "source": [
    "'' in 'abc' # empty is part of string"
   ]
  },
  {
   "cell_type": "code",
   "execution_count": null,
   "metadata": {
    "colab": {
     "base_uri": "https://localhost:8080/"
    },
    "id": "IlgdySov4Amz",
    "outputId": "a6fe731d-5ad6-4607-faab-607f587e8292"
   },
   "outputs": [
    {
     "data": {
      "text/plain": [
       "False"
      ]
     },
     "execution_count": 43,
     "metadata": {},
     "output_type": "execute_result"
    }
   ],
   "source": [
    "' 'in 'abc' #space' ' is not same as empty ''"
   ]
  },
  {
   "cell_type": "code",
   "execution_count": null,
   "metadata": {
    "colab": {
     "base_uri": "https://localhost:8080/"
    },
    "id": "7lOF-qZm3XEJ",
    "outputId": "865dcbd8-0f54-417a-e5a3-f4ff96a9510a"
   },
   "outputs": [
    {
     "data": {
      "text/plain": [
       "False"
      ]
     },
     "execution_count": 42,
     "metadata": {},
     "output_type": "execute_result"
    }
   ],
   "source": [
    "'A' in 'abc'"
   ]
  },
  {
   "cell_type": "code",
   "execution_count": null,
   "metadata": {
    "colab": {
     "base_uri": "https://localhost:8080/"
    },
    "id": "ll0ZFpvB38AX",
    "outputId": "5c5a7620-d5e6-4fd1-94f0-014409804915"
   },
   "outputs": [
    {
     "data": {
      "text/plain": [
       "True"
      ]
     },
     "execution_count": 44,
     "metadata": {},
     "output_type": "execute_result"
    }
   ],
   "source": [
    "' ' in 'Hello world!'"
   ]
  },
  {
   "cell_type": "markdown",
   "metadata": {
    "id": "kwvt1rmQ4ULK"
   },
   "source": [
    "1 in 'Hello world!' # we can only check if strings belong to strings, not integers\n",
    "\n",
    "\n",
    "\n",
    "\n"
   ]
  },
  {
   "cell_type": "code",
   "execution_count": null,
   "metadata": {
    "colab": {
     "base_uri": "https://localhost:8080/"
    },
    "id": "b24LARdB4z5H",
    "outputId": "50328678-863e-41ae-ff43-ee5133895582"
   },
   "outputs": [
    {
     "data": {
      "text/plain": [
       "False"
      ]
     },
     "execution_count": 53,
     "metadata": {},
     "output_type": "execute_result"
    }
   ],
   "source": [
    "'1' in 'Hello world!'"
   ]
  },
  {
   "cell_type": "markdown",
   "metadata": {
    "id": "6_Q8GV2K4zeK"
   },
   "source": [
    "\n",
    "The not in membership operator checks if a value is not in a collection"
   ]
  },
  {
   "cell_type": "code",
   "execution_count": null,
   "metadata": {
    "colab": {
     "base_uri": "https://localhost:8080/"
    },
    "id": "S0LgnyFB4NRD",
    "outputId": "0e133b01-621f-4253-bcf4-d4d762539989"
   },
   "outputs": [
    {
     "data": {
      "text/plain": [
       "False"
      ]
     },
     "execution_count": 45,
     "metadata": {},
     "output_type": "execute_result"
    }
   ],
   "source": [
    "'a' not in 'abc'"
   ]
  },
  {
   "cell_type": "code",
   "execution_count": null,
   "metadata": {
    "colab": {
     "base_uri": "https://localhost:8080/"
    },
    "id": "2JhWVfnz4fHK",
    "outputId": "eaa8fee5-e695-4580-d45f-edba8f119724"
   },
   "outputs": [
    {
     "data": {
      "text/plain": [
       "False"
      ]
     },
     "execution_count": 46,
     "metadata": {},
     "output_type": "execute_result"
    }
   ],
   "source": [
    "'' not in 'abc'"
   ]
  },
  {
   "cell_type": "code",
   "execution_count": null,
   "metadata": {
    "colab": {
     "base_uri": "https://localhost:8080/"
    },
    "id": "SRoduLFs4iGw",
    "outputId": "f2675f00-75bb-4143-e36d-c8791aea1214"
   },
   "outputs": [
    {
     "data": {
      "text/plain": [
       "True"
      ]
     },
     "execution_count": 47,
     "metadata": {},
     "output_type": "execute_result"
    }
   ],
   "source": [
    "'A' not in 'abc'"
   ]
  },
  {
   "cell_type": "code",
   "execution_count": null,
   "metadata": {
    "colab": {
     "base_uri": "https://localhost:8080/"
    },
    "id": "LzIrCZpf4kNw",
    "outputId": "88d6d272-1977-43dd-92b2-c98fe14c6ce1"
   },
   "outputs": [
    {
     "data": {
      "text/plain": [
       "True"
      ]
     },
     "execution_count": 48,
     "metadata": {},
     "output_type": "execute_result"
    }
   ],
   "source": [
    "' ' not in 'abc'"
   ]
  },
  {
   "cell_type": "markdown",
   "metadata": {
    "id": "6LKewi526Smt"
   },
   "source": [
    "## Bitwise Operator\n",
    "\n",
    "Bitwise operators perform operations on integers on a binary level. These operators work directly with the binary representations of numbers by manipulating individual bits.\n",
    "\n",
    "\n",
    "The bitwise operators in Python are as follows:\n",
    "\n",
    "\n",
    "\n",
    "* Bitwise AND: & (returns 1 if both bits are 1)\n",
    "* Bitwise OR:  | (returns 1 if either bit is 1)\n",
    "* Bitwise XOR (exclusive OR):  ^ (returns 1 if bits are different)\n",
    "* Bitwise NOT:  ~ (returns the 1 for 0 and 0 for 1)\n",
    "* Bitwise left shift:  << (shifts all bits to the left, filling the right-most bit with 0)\n",
    "* Bitwise right shift:  >> (shifts all bits to the right, filling the left-most bit with 0 if unsigned)\n",
    "\n",
    "\n",
    "\n",
    "*Bitwise operators perform bit-level operations on integers. Integers can be represented as binary (base 2) on the bit level, typically using 32 bits\n",
    "or binary digits.*"
   ]
  },
  {
   "cell_type": "code",
   "execution_count": null,
   "metadata": {
    "colab": {
     "base_uri": "https://localhost:8080/",
     "height": 35
    },
    "id": "L2Oivuj24niU",
    "outputId": "8b6e39b4-2c32-4c91-cf11-29e4f0fb2551"
   },
   "outputs": [
    {
     "data": {
      "application/vnd.google.colaboratory.intrinsic+json": {
       "type": "string"
      },
      "text/plain": [
       "'0b10111'"
      ]
     },
     "execution_count": 54,
     "metadata": {},
     "output_type": "execute_result"
    }
   ],
   "source": [
    "num=23 # 2 x 10 + 3 x 1 = 23 (decimal)\n",
    "bin(num) # converts decimal integer to a binary string"
   ]
  },
  {
   "cell_type": "markdown",
   "metadata": {
    "id": "7HlHeVNo7gJE"
   },
   "source": [
    "**10111** is the binary representation of **23**. Reading from right to left, we can arrive at 23 as follows:\n",
    "\n",
    "\n",
    "* 1 × 2^º = 1 x 1 = 1\n",
    "* 1 × 2^¹ = 1 x 2 = 2\n",
    "* 1 × 2^² = 1 × 4 = 4\n",
    "* 0 x 2^3  = 0 x 8 = 0\n",
    "* 1 × 2^4 = 1 × 16 = 16\n",
    "\n",
    "0610111 = 1+2+4+0+ 16 = 23\n",
    "\n",
    "Now, consider the ** bitwise AND ** operator & :-"
   ]
  },
  {
   "cell_type": "code",
   "execution_count": null,
   "metadata": {
    "colab": {
     "base_uri": "https://localhost:8080/"
    },
    "id": "aOp02SD97cLn",
    "outputId": "97b28015-5ae8-4199-fa3a-8b1159cecf40"
   },
   "outputs": [
    {
     "name": "stdout",
     "output_type": "stream",
     "text": [
      "1\n"
     ]
    }
   ],
   "source": [
    "a = 5 # 101 in binary\n",
    "b = 3 # 011 or 11 in binary\n",
    "result = a & b\n",
    "print(result)"
   ]
  },
  {
   "cell_type": "markdown",
   "metadata": {
    "id": "0-VoPhd-9Cs5"
   },
   "source": [
    "Here, the & operator is performing AND logic on each bit. Reading from right-to-left:\n",
    "5 & 3\n",
    "=> 101 AND 011\n",
    "=>\n",
    "* 1 AND 1 = 1\n",
    "* 0 AND 1 = 0\n",
    "* 1 AND 0 = 0\n",
    "\n",
    "\n",
    "Therefore, the final output is 001 in binary, or 1 in decimal (base 10).\n",
    "\n",
    "Let's try using the **bitwise OR** operator **|**:-"
   ]
  },
  {
   "cell_type": "code",
   "execution_count": null,
   "metadata": {
    "colab": {
     "base_uri": "https://localhost:8080/"
    },
    "id": "Wm7L1ASN8gOe",
    "outputId": "5509456a-52c6-473c-ad8c-33126ecc8ef1"
   },
   "outputs": [
    {
     "name": "stdout",
     "output_type": "stream",
     "text": [
      "7\n"
     ]
    }
   ],
   "source": [
    "result = a | b\n",
    "print (result)"
   ]
  },
  {
   "cell_type": "markdown",
   "metadata": {
    "id": "AuEN0_st_JPz"
   },
   "source": [
    "Here, the operator is performing OR logic on each bit. Reading from right-to-left:\n",
    "* 1 OR 1 = 1\n",
    "* 0 OR 1 = 1\n",
    "* 1 OR 0 = 1\n",
    "\n",
    "Therefore, the final output is 111 in binary, or 7 in decimal.\n",
    "\n",
    "***binary to decimal conversion:***\n",
    "\n",
    "111 = 1 * 2^2 + 1 * 2^1+ 1 * 2^0 = 4 + 2 + 1 = 7\n",
    "\n",
    "Let's try using the **bitwise XOR** operator ^:"
   ]
  },
  {
   "cell_type": "code",
   "execution_count": null,
   "metadata": {
    "colab": {
     "base_uri": "https://localhost:8080/"
    },
    "id": "_sl1vpir-av8",
    "outputId": "60f004e4-a880-43b6-e527-4fc146b1dd90"
   },
   "outputs": [
    {
     "name": "stdout",
     "output_type": "stream",
     "text": [
      "6\n"
     ]
    }
   ],
   "source": [
    "result = a^ b\n",
    "print(result)"
   ]
  },
  {
   "cell_type": "markdown",
   "metadata": {
    "id": "YY4Auwk6AQM7"
   },
   "source": [
    "The XOR operator will return 1 if both bits are different, otherwise it returns 0. Reading from right-to-left:\n",
    "\n",
    "* 1 XOR 1 = 0\n",
    "* 0 XOR 1 = 1\n",
    "* 1 XOR 0 = 1\n",
    "\n",
    "Therefore, the final output is 110 in binary, or 6 in decimal.\n",
    "\n",
    "Let's try using the **bitwise NOT** operator ~:"
   ]
  },
  {
   "cell_type": "code",
   "execution_count": null,
   "metadata": {
    "colab": {
     "base_uri": "https://localhost:8080/"
    },
    "id": "o-gzo-HI_7NS",
    "outputId": "41a874e1-2131-406e-d721-d21190ee3784"
   },
   "outputs": [
    {
     "name": "stdout",
     "output_type": "stream",
     "text": [
      "-6\n"
     ]
    }
   ],
   "source": [
    "result = ~a\n",
    "print(result)"
   ]
  },
  {
   "cell_type": "markdown",
   "metadata": {
    "id": "J_ikb8DLAyiC"
   },
   "source": [
    "Integers are typically represented as 32-bit numbers. So, 5 in the decimal system is equal to 0000 0000 0000 0000 0000 0000 0000 0101 in the\n",
    "binary system. The ~ operator performs NOT logic on each bit, i.e. flips each bit.\n",
    "\n",
    "Therefore, ~a in this case is equal to 1111 1111 1111 1111 1111 1111 1111 1010 in the binary system.\n",
    "\n",
    "If we interpret this binary number in the standard way, that is as an unsigned integer, that number would be equal to 4294967290 in the decimal\n",
    "system.\n",
    "\n",
    "If we interpret it as an signed integer, we would get -6 in the decimal system instead.\n",
    "\n",
    "\n",
    "\n",
    "This is only an introduction to bitwise operators in Python. To read up more, such as on << and >>, you may refer to this  ![link]\n",
    "\n",
    "\n",
    "\n",
    "\n",
    "\n",
    "\n",
    "\n",
    "\n",
    "\n",
    "\n",
    "\n",
    "\n",
    "\n",
    "\n",
    "\n",
    "\n",
    "\n",
    "\n",
    "\n",
    "\n",
    "\n",
    "\n",
    "\n",
    "\n",
    "\n",
    "\n",
    "\n",
    "\n",
    "\n",
    "\n",
    "\n",
    "\n",
    "\n",
    "\n",
    "\n",
    "\n",
    "\n",
    "\n",
    "\n",
    "\n",
    "\n",
    "\n",
    "\n",
    "\n",
    "\n",
    "\n",
    "\n",
    "\n",
    "\n",
    "\n",
    "\n",
    "\n",
    "\n",
    "\n",
    "\n",
    "\n",
    "\n",
    "\n",
    "\n",
    "\n",
    "(https://en.wikibooks.org/wiki/Python_Programming/Operators#Bitwise_Operators).\n",
    "\n",
    "\n",
    "\n",
    "In Python, integers may be signed or unsigned. Usually, the leftmost bit represents the sign (positive or negative) in the case of the binary representation of signed integers. Let’s ask a large language model (LLM) for more information on these:\n",
    "\n",
    "\n",
    "\n",
    "Ask an LLM of your choice to tell you about signed and unsigned integers in Python. Furthermore, ask it to explain the use of including the sign in the binary representation of signed integers.\n",
    "\n",
    "\n",
    "\n",
    "Note that in the context of the Pandas library used for data science, these operators do not perform bitwise operations but rather element-wise operations.\n",
    "\n",
    "\n",
    "\n",
    "In the next segment, you will learn about identity operators in Python. It is recommended you attempt this segment if you want to better understand how variables are assigned in memory in Python.\n",
    "\n"
   ]
  },
  {
   "cell_type": "markdown",
   "metadata": {
    "id": "fCAgt8X3KJtF"
   },
   "source": [
    "## Signed and Unsigned Integers in Python\n",
    "\n",
    "\n",
    "1. Signed Integers\n",
    "\n",
    "A signed integer can represent both positive and negative numbers. In Python, integers are signed by default:"
   ]
  },
  {
   "cell_type": "code",
   "execution_count": null,
   "metadata": {
    "id": "MyOgKh72Ahre"
   },
   "outputs": [],
   "source": [
    "x = 10   # Positive signed integer\n",
    "y = -10  # Negative signed integer"
   ]
  },
  {
   "cell_type": "markdown",
   "metadata": {
    "id": "MkB5lx_DKU-T"
   },
   "source": [
    "Python automatically handles the sign using two’s complement representation internally.\n",
    "\n",
    "\n",
    "**Two’s Complement Representation**\n",
    "\n",
    "Two’s complement is a binary representation system used to store signed integers (both positive and negative numbers) in computers. It simplifies arithmetic operations like addition and subtraction.\n",
    "\n",
    "**Why Two’s Complement?**\n",
    "\n",
    "No need for special negative number handling in hardware\n",
    "\n",
    "**How Two’s Complement Works**\n",
    "For an n-bit system, numbers are represented as:\n",
    "\n",
    "* Positive numbers: Stored as usual in binary.\n",
    "* Negative numbers: Obtained using two’s complement transformation:\n",
    "  * Write the positive number in binary.\n",
    "  * Invert all bits (flip 0s to 1s and 1s to 0s).\n",
    "  * Add 1 to the result.\n",
    "\n",
    "\n",
    "**Example:** Representing -5 in 8-bit Two’s Complement\n",
    "\n",
    "**Step 1:** Write +5 in 8-bit binary\n",
    "```\n",
    "+5  =  00000101 (binary)\n",
    "```\n",
    "**Step 2:** Invert all bits (flip 0s to 1s and 1s to 0s)\n",
    "```\n",
    "00000101  →  11111010\n",
    "\n",
    "```\n",
    "**Step 3:** Add 1 to the result\n",
    "```\n",
    "  11111010\n",
    "+ 00000001\n",
    "------------\n",
    "  11111011  (Final two’s complement representation of -5)\n",
    "```\n",
    "\n",
    "\n",
    "---\n",
    "\n",
    "### **Checking If a Number is Negative in Two’s Complement**\n",
    "\n",
    "A number is negative if its most significant bit (MSB) (leftmost bit) is 1.\n",
    "\n",
    "Example (8-bit system):\n",
    "\n",
    "01100100 → Positive (+100 in decimal)\n",
    "\n",
    "**1**0011000 → Negative (-104 in decimal)\n"
   ]
  },
  {
   "cell_type": "markdown",
   "metadata": {
    "id": "WKebcdfvM8ic"
   },
   "source": [
    "2. Unsigned Integers\n",
    "\n",
    "An unsigned integer can only represent non-negative numbers (i.e., 0 and positive numbers).\n",
    "\n",
    "🔹 Python does not have built-in unsigned integers like C or Java, but you can simulate them using ctypes or struct:\n"
   ]
  },
  {
   "cell_type": "code",
   "execution_count": null,
   "metadata": {
    "colab": {
     "base_uri": "https://localhost:8080/"
    },
    "id": "-hiWoF5tKUR5",
    "outputId": "307c2f69-7aa2-420a-df6e-a2daa360e0ca"
   },
   "outputs": [
    {
     "name": "stdout",
     "output_type": "stream",
     "text": [
      "4294967295\n",
      "4294967295\n"
     ]
    }
   ],
   "source": [
    "import ctypes\n",
    "\n",
    "x = ctypes.c_uint32(4294967295)  # Max value for 32-bit unsigned int\n",
    "print(x.value)  # Output: 4294967295\n",
    "\n",
    "y = ctypes.c_uint32(-1)  # Assigning a negative value\n",
    "print(y.value)  # Output: 4294967295 (wraps around)\n"
   ]
  },
  {
   "cell_type": "markdown",
   "metadata": {
    "id": "O7anRA-PNdOY"
   },
   "source": [
    "![image.png](data:image/png;base64,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)\n",
    "\n",
    "4. Handling Large Numbers in Python\n",
    "\n",
    "Python integers do not have fixed bit sizes (unlike C or Java). Python dynamically allocates memory for integers, so there is no integer overflow:"
   ]
  },
  {
   "cell_type": "code",
   "execution_count": null,
   "metadata": {
    "colab": {
     "base_uri": "https://localhost:8080/"
    },
    "id": "DxdHTyz7NVBc",
    "outputId": "03563468-1521-4493-cf2a-c28f797dcda3"
   },
   "outputs": [
    {
     "name": "stdout",
     "output_type": "stream",
     "text": [
      "1267650600228229401496703205376\n"
     ]
    }
   ],
   "source": [
    "x = 2**100  # Very large number\n",
    "print(x)    # Python handles it without overflow\n"
   ]
  },
  {
   "cell_type": "markdown",
   "metadata": {
    "id": "l8exGOYFN0j9"
   },
   "source": [
    "However, if you work with fixed-size integers (e.g., 32-bit, 64-bit) using external libraries, you might encounter overflow.\n",
    "\n",
    "\n",
    "\n",
    "---\n",
    "\n",
    "5. Converting Between Signed and Unsigned\n",
    "\n",
    "You can convert a signed integer to an unsigned integer using bitwise operations:\n"
   ]
  },
  {
   "cell_type": "code",
   "execution_count": null,
   "metadata": {
    "colab": {
     "base_uri": "https://localhost:8080/"
    },
    "id": "gd0eGuQ-NtjI",
    "outputId": "e78f9853-d0f7-42ff-9c8a-ed0b2968dea4"
   },
   "outputs": [
    {
     "name": "stdout",
     "output_type": "stream",
     "text": [
      "4294967295\n"
     ]
    }
   ],
   "source": [
    "x = -1\n",
    "unsigned_x = x & 0xFFFFFFFF  # Convert to 32-bit unsigned integer\n",
    "print(unsigned_x)  # Output: 4294967295\n"
   ]
  },
  {
   "cell_type": "markdown",
   "metadata": {
    "id": "75dL0s6iOMwS"
   },
   "source": [
    "Here, & 0xFFFFFFFF keeps only the lower 32 bits, converting -1 to 4294967295.\n",
    "\n",
    "\n",
    "### Why Include the Sign in Binary Representation?\n",
    "\n",
    "Binary representation of signed integers helps computers perform arithmetic correctly. There are three main methods to represent signed integers:\n",
    "\n",
    "1. **Sign-Magnitude Representation:**\n",
    "\n",
    "The leftmost bit indicates sign (0 for positive, 1 for negative).\n",
    "\n",
    "The remaining bits store the magnitude.\n",
    "\n",
    "Example (4-bit):\n",
    "\n",
    "```\n",
    "  5  →  0101\n",
    " -5  →  1101\n",
    "```\n",
    "**Issue:** Arithmetic operations (like addition) require special handling.\n",
    "\n",
    "2. **One’s Complement Representation:**\n",
    "* Invert all bits and add 1 to represent negatives.\n",
    "* This allows regular binary addition to work correctly.\n",
    "\n",
    "Example (8-bit):\n",
    "```\n",
    "  5  →  00000101\n",
    " -5  →  11111011  (Invert + Add 1)\n",
    "```\n",
    "\n",
    "**Python’s Behavior**\n",
    "\n",
    "Python integers are **signed by default** and support arbitrarily large values:"
   ]
  },
  {
   "cell_type": "code",
   "execution_count": null,
   "metadata": {
    "id": "KxmBdN9_OF8_"
   },
   "outputs": [],
   "source": [
    "x = -10  # Signed integer\n",
    "y = 255  # Python treats this as signed, but if working with bytes, it can be unsigned"
   ]
  },
  {
   "cell_type": "markdown",
   "metadata": {
    "id": "vTCulAoqTIGj"
   },
   "source": [
    "For **explicit unsigned integers**, you need specialized libraries like numpy:"
   ]
  },
  {
   "cell_type": "code",
   "execution_count": null,
   "metadata": {
    "colab": {
     "base_uri": "https://localhost:8080/"
    },
    "id": "VP4WCFI3TGS-",
    "outputId": "9c04d7b7-51ec-4144-c896-1ceab7848b51"
   },
   "outputs": [
    {
     "name": "stdout",
     "output_type": "stream",
     "text": [
      "0b11111111\n",
      "-0b101\n"
     ]
    }
   ],
   "source": [
    "import numpy as np\n",
    "\n",
    "x = np.uint8(255)  # 8-bit unsigned integer\n",
    "y = np.int8(-5)    # 8-bit signed integer\n",
    "\n",
    "print(bin(x))  # Output: '0b11111111' (255)\n",
    "print(bin(y))  # Output: '0b11111011' (-5 in two's complement)\n"
   ]
  },
  {
   "cell_type": "markdown",
   "metadata": {
    "id": "7-YRcMD3TxbI"
   },
   "source": [
    "![image.png](data:image/png;base64,iVBORw0KGgoAAAANSUhEUgAAAwIAAAGRCAYAAADW0QR8AAAAAXNSR0IArs4c6QAAAARnQU1BAACxjwv8YQUAAAAJcEhZcwAADsMAAA7DAcdvqGQAAL8KSURBVHhe7N15WFTV/wfw9wgossyA5LCJAQkCYo4rJkooEYKpfE1TWghNREsrxbTMVFwqTSS1UtytVMwlzGQyQgxxTYUCgkBFQ2UxRQZmILb7+yPm/uZehn0bmM/reeYpzjl3OefeuXM+95x7FTAMw4AQQgghhBCiVbrxEwghhBBCCCFdHwUChBBCCCGEaCEKBAghhBBCCNFCFAgQQgghhBCihSgQIIQQQgghRAtRIEAIIYQQQogWokCAEEIIIYQQLUSBACGEEEIIIVqIAgFCCCGEEEK0EAUChBBCCCGEaKE2DwQYhsH58+fxv//9DxYWFhAKhRAKhTAzM4O7uzuSk5P5ixBCCCGEEELaWJsGAhUVFVi0aBF8fX0RFxcHhULByUtJSUFubi5nGUIIIYQQQkjba9NAQCqVYs+ePQCAbt26YcuWLXj48CGKioqQmpqK999/H/r6+vzFCCGEEEIIIW1MwDAMw09sLe+99x4iIyMBANOmTcOuXbsgEAj4xQghhBBCCCHtrE1HBFRdv34d2dnZ/GRWXl4eXFxcIBQKYW5uznl2ICIign22ICQkBAAgl8vh5+fHph85cgQrV66EjY0NhEIh7O3tcezYMSgUCmzevJlNt7Gxwa5du6Aa/0ilUnY9fn5+iI2NhZeXF5v2+uuvIz8/HxkZGRg/fjybPmHCBNy7d49dT1VVFU6fPo3//e9/6Nu3L1vOzc0NJ06cqHeb165dwzPPPANzc3OcP38e48aNY/MjIiLY5QDgu+++Y/MWL17MWS8hhBBCCCGN0aaBgI+PDzsCcPPmTTzzzDPYsGEDHj16xC/aYiEhIYiIiEBRUREA4J9//sEbb7yBUaNG4aOPPmLTi4qKsHjxYsTHx/PW8J/z589j6tSp+O2339i077//Hs8++yyeffZZXLhwgU0/d+4cFi5ciNLSUgDAgwcPsHDhQsTFxeHx48dsufT0dLz22mvsNCm+oqIivP3220hLSwMAGBoaYvr06Wz++fPnUVZWBtQ8fK3cd4FAgAkTJtAoCyGEEEIIabI2DQSeffZZzJo1i/27tLQUa9euha2tLebNm4f8/HxO+ZYYNWoU7ty5g6SkJNja2gIAqqur8fDhQ8TGxuLOnTvw8PBg048fP85bw38EAgH27NmDR48eYfny5Wz6/fv3MW3aNOTl5WHv3r3o1u2/pktMTMSNGzeAmucg3Nzc8NNPP6GgoABFRUU4ffo0RCIRAODrr7/mBAhKKSkpSElJ4aR5enrC1NQUAPD7778jLy8PqAk2lEHK0KFDMXToUM5yhBBCCCGENEabBgJ6enrYuHEj9u3bhz59+nDyDhw4gLFjx7J3wVtqzpw5MDU1xVNPPYVnnnmGTZ8xYwbc3NxgamqKwMBANj0vL4+9y67Kzc0NPj4+0NXVxfPPP4+ePXsCAExNTbFgwQIYGBjAy8sLgwYNAmqmKP3zzz8AALFYjL1792LUqFHQ09PDP//8g+rqaojFYgDA7du36wx+3n//feTn5yMnJwcDBgzAU089hXHjxgEA8vPz8eeffwIA0tLSkJWVBQB47rnnIBQKOeshhBBCCCGkMdo0EAAAHR0dTJkyBSkpKYiNjcWQIUPYvLt372Ljxo2orKzkLNMcenp6/CQAgJWVFfv/xsbG7P8rFApUVVWxfyvp6OionWpjaGjI3tnX09ODoaEhUDNVRxlQVFRUIDIyEv3792eDEl9fX7bjXlZWxk4jUjV48GC8+eab6NmzJ7p37w49PT3o6urilVdeYfflzJkzYBgG586dA8MwEIlE8Pf356+KEEIIIYSQRmnzQEBJR0cHbm5uiI2NxVtvvcWmX758mb2j3tlt374d7733HvtvI1hYWMDb2xtmZmb8ohyGhoZqA5mnn34aDg4OAICEhAT8/fffuHTpEgBg2LBhsLOz4y1BCCGEEEJI47RbIKCkp6fHmbqjq6vLzrevi7o795qmpKQEP/74IwDgiSeewG+//YbMzEzs378fjo6O/OKNIhaLMWXKFADAjRs38Msvv7BTqQICAthpS4QQQgghhDRV/T3wFtq7dy82btyI7OxsVFVVgWEYZGVlITw8nC0zdOhQ9OrVC0ZGRrCxsQFqHio+ffo0KioqkJWVhQMHDqisVTP9+++/KCwsBGqeGygsLERVVRWOHz+Oy5cv84s3mr+/P0QiESorK3H48GEUFhbCysoKbm5u/KKEEEIIIYQ0WpsGAo8fP8bq1asxaNAgmJqaQiQSYejQoUhKSgIA2NraYvny5dDV1YWRkRFeeOEFdtl169bBzMwMQ4cOxa1bt1TWqpl69eqFsWPHAjWBzPPPPw9TU1O8++67aqf9NJadnR2GDRsGAOy0oGeeeQbW1ta8koQQQgghhDRemwYCI0aMgKenJ0xMTDjpdnZ2WL16Nc6fP4+nnnqKTZ87dy7WrVvHPpT7xBNP4LPPPsOHH36osrRmEggEWLlyJebNm8dOdRoyZAgOHz6M4cOH84s3Ws+ePfHKK6+wfwsEArzyyivQ1dXllCOEEEIIIaQpBAz9s7QaLycnB8899xxyc3Ph6OiImJgY9pWkhBBCCCGENEebjgiQ1nH58mX2TURTpkyhIIAQQgghhLQYBQIa7tatW1i3bh1Q8zrSGTNm8IsQQgghhBDSZBQIaKiIiAgIhUJIJBLcvHkT3bp1w2effQZ7e3t+UUIIIYQQQpqMAoFOwNnZGSdOnMCkSZP4WYQQQgghhDQLPSxMCCGEEEKIFqIRAUIIIYQQQrQQBQKEEEIIIYRoIQoECCGEEEII0UIUCBBCCCGEEKKFKBAghBBCCCFEC1EgQAghhBBCiBaiQIAQQgghhBAtRIEAIYQQQgghWogCAUIIIYQQQrQQBQKEEEIIIYRoIQHDMAw/sS3cu3cPDx48gFwuRzttkhBCCCGEkC5JIBDA0NAQvXv3hrW1NT+7Udo8ECgrK0NGRgYAQCgUokePHhAIBPxihBDSZd26dQv29vb8ZFIHaq+ug44lIW2nsrISFRUVePz4MXR0dODk5AR9fX1+sXq1+dSgjIwM9OjRA2KxGPr6+hQEEEIIIYQQ0kK6urro2bMnevfuDT09PfbGe1O0aSBw7949AIBIJOJnEUIIIYQQQlpIV1cXxsbGqKqqYvvejdWmgcCDBw8gFAr5yYQQQgghhJBWoqurCxMTEzx48ICfVa82DQTkcjl69OjBTyaEEEIIIYS0Ij09Pcjlcn5yvdo0EGAYhp4JIIQQQgghpI3p6uo2+c2cbRoIEEIIIYQQQjQTBQKEEEIIIYTwCAQC6OnpoUePHi3+6OnpaeQsGQoECCGEEEIIUSEQCNC9e3d069Y6XeVu3bqhe/fuGhcMtE7tCCGEEEII6SJ0dXX5Sa2irdbbXBQIEEIIIYQQoqK1RgL42mq9zaVRexMfHw8nJye1n7Fjxzb53aiEENKZ5eXlYdGiRXB1dYWTkxNcXV1x4sQJAMD9+/cRGBiIkydP8hdrFQ8ePMDYsWM51+GJEyfiypUrQM1b4fbv3485c+bg8ePH/MXbnUKhQGBgIGd/hw8fjr1796KyspJfXGOkpKTAx8cHKSkpqKqqwnfffYdRo0bByckJ3t7eSEhIqPctIMrjtHTpUn4W0IjjxDAMdu3ahZdeekltfkforMeyo3TEtcDJyQnx8fH8oh1u6dKlLeovlpSUYNasWdi1axc/q9Vo2ndOowIBFxcXbN68GZs3b8YLL7wAXV1dhIaGYvPmzQgLC4OxsTF/EUII6ZIePnyI4OBgJCQkYPHixdi8eTPeeustlJWVAQAeP36MjIwM/PPPP/xFW9WwYcPYa3BJSQnee+893L17F1VVVcjOzsbdu3fZffrll1/wv//9D3/++Sd/Ne3Gzs4OGzZsQHh4OAYPHoz169cjOjqaX0wjPH78GKtXr8aUKVPg6uqKuLg4rFq1Cv7+/oiOjoadnR3efvvtFrVnQ8dJIBDg5Zdfhr6+Pvbv319v0NHeOtOxbK579+4hMDAQ+/fv52fVaf/+/Zg+fTrb2W3va4Hy4+Liwi/SqTEMg927d6O8vBwzZszgZzcoLi4OdnZ27GfGjBlQKBT8Yhr3ndOoQMDc3Bw+Pj7w8fFB//79oauri1GjRsHHxwceHh7Q19fnL0IIIV1SXl4ecnJysHLlSgQFBcHHxwfz5s3D9OnTgZobJ1euXMHMmTP5i7Yqa2tr+Pj4YPr06Xj55ZdRUlKCkpIS6OrqYtWqVYiJiYGFhQUAIDs7G9nZ2R36w9a7d28899xzmDBhAlavXg1zc3P89ttv/GIa4fz58/jnn38wYcIECAQC3LlzByYmJpg+fTqcnJwQEBCAsrIyFBQU8BdttMYcJwMDA0yfPh3R0dG4d+8ebw0dpzMdy+Z6/Pgx/vjjD5SXl/Oz6vTnn39yzon2vhYoP+bm5vwindq9e/cQHR2NgIAAGBkZ8bMbZcqUKez3KyoqCgYGBvwigIZ95zQqEKhPcnIyBg4ciG+//ZZNy8zMxPDhw/Htt98iLS0NEokEX3zxBTZu3AgXFxdIJBLOUOKDBw+wcOFCuLi4wMXFBUuWLEFJSYnKVgghRDPo6+ujR48eOHr0KIqKivjZ7DVv586dAIDS0lJ8/PHH7PUtLCwML730EgIDA6FQKNjymzdvxvLly+Hk5IRRo0YhISGBv2q1Hj58iMTERAwfPhy2trYAbxh+6dKlCA8PR1lZGV588UV2ux2poqIC1dXV7GhyWVkZPv/8cwwfPhxOTk6QSCQ4dOgQGIZhpz8sWrQI27dvZ39DlPloRBszDIOYmBh4eHjAyckJHh4edbYvwzBITEzE008/zXbQXVxcUFJSgpSUFJSWluLixYswNTVFnz59+IvXUlVVhW+//RYSiQQuLi74+OOPUVpaCjTyOA0bNgwCgQBJSUn8VWsE/rGsrKzE3r172WM5ceJEpKenAyrfjfr6A0uXLsWzzz6LTZs2wdXVFTt37qx3nWVlZWxZJycn+Pj44Pbt2wCA27dv49VXX4VTzfS9zz//nLOdsWPH4sSJE+x5sXjxYpSUlCA+Ph4vvvgiysrKEB4eDolEgrS0NOTk5GDOnDlwcXGBk5MT/Pz8kJ6ezk6ZOnHiBHJzczFmzBgsXbq01rWAYRicPn0avr6+cHJygouLCxYuXMiOILT0WqAqKioKzs7OOHXqFAAgKysLzzzzDDZv3oyKigocOnSIrbeLiws2bdrEts3OnTshkUhw+PBh+Pn5wcnJCYsWLcL9+/exePHiWvvVmOPK15R+X2ZmJiorK/H000/zs9qEpnznOk0g0K9fPzg7O+Ps2bPs8Oavv/4KAwMDeHp6suUOHjwIU1NTHDlyBM8++yw2bNiAM2fOoKSkBEuWLEFqaiqioqLw1VdfIT4+Hlu2bOnQu1eEEKKOvb093nnnHVy7dg3u7u7YsGFDnT9gDMMgIiIC3377Ld58801ER0ejqqoKf/zxB78ovv32WwwfPhxff/01DA0NsWHDBhQWFvKLsU6cOAEnJye4u7ujR48e+PDDD9WOzi5fvhzz5s2Dvr4+du3ahS1btqBnz578Ym3uwYMH+OWXX3Dq1CmsWbMGABAQEADUzP8tLi7GN998g1OnTsHV1RXr16/nTL35+eef0a1bNxw5cgROTk74/PPPcevWrUa18c8//4wlS5bgxRdfRGxsLEaMGIGlS5ciKyuLLaOkUCjw999/w9XVlX2LyKhRo7B48WK89957GDx4MA4cOIA1a9bAwcGBv3gtcXFxyM7OxnfffYegoCB8/fXXnBtnSnUdJ6FQiCeffBI3b97kL9Jh6jqWDMNg3759CA8Px+LFi3Hq1CmIRCIsWbIEDx8+ZJevqz+glJ+fj0ePHuHq1auYPXt2ves8ceIEdu7ciWXLluHMmTN4/vnnoVAocP/+fYSEhAAATp06hY8++gi7du3C0aNH2e3k5ubil19+wY4dOzBr1iz8+OOPOHXqFEaNGoVdu3ZBX18f8+bNwy+//IL+/fsjJycHgwYNwi+//ILt27fjwYMH+OSTT8AwDLZs2QIfHx+IxWJER0dj+fLl7HaUfv75Z4SGhmLw4MGIjo7GqlWrEB8fj6VLl3KC8+ZeC5RBdFpaGiZNmoRnnnkG+/btwz///IP9+/ejT58+eP3111FRUYE7d+5g06ZNOHPmDPz8/LBjxw5OwFFWVoaTJ0/i008/xaxZsxATE4OAgAAMGjQI27dvh46ODr744gvOta+h46rU1H5fZmYm7OzsYGZmxs9qtOPHj7NTg+Li4vjZHJrynes0gYCRkREmTZqE33//HX///TcUCgXOnTuH5557DtbW1mw5X19fzJo1CwMGDMDixYvxxBNPICEhAdevX8fly5exYsUKPP300/D09MTkyZMRHx/PuXAQQogmUM4jPXnyJMaOHYs9e/Zw7lCqevjwIeLj4zF+/HjMnTsXjo6OWLx4MVxdXflFMWnSJEyaNAkjRozAiy++iLt37+L+/fv8YizlvODPPvsMhYWFmDJlito568bGxuwwuKmpKUxMTDrkfdnZ2dlYsmQJQkNDgZrOy1NPPQUAeOKJJ/DRRx/ByckJTz31FN54441aU29GjhyJwMBADBgwALNmzUJRURH+/vvvBtu4rKwMUVFRGDlyJEJCQmBjY4N58+ahuroa58+fZ9evpOxE9uvXj037+eefsWnTJrz77rs4c+YM5syZg2XLliElJYWzrDpDhw7Fe++9B0dHR8ydOxeurq64cOECOyqgVNdx6tmzJ8RiMXJzcznlO1Jdx/Lhw4c4fPgwpk+fjpdeeglPPfUU3nzzTdy8eRNpaWns8nX1B5REIhFmzpwJfX39Rq8TAMzMzLBo0SL0798fP//8Mx49eoQVK1bgqaeegr+/P0aNGoXTp0+zbW9sbIwFCxbAyckJgYGBMDc3x/Xr19GjRw+YmpoCNVNFnnjiCXZK9FtvvQUrKyt4enpi3LhxyMnJgUKhgImJCfT19aGjowMzM7Naz06WlpYiKioKLi4uWLZsGZycnPDSSy9h8eLFuHLlCuf60dxrwebNmxEeHo4+ffrAwMAAixcvxp07d7Bu3TqcPn0a7777LkxMTGBgYID3338fw4YNg5WVFdvWqh1fgUCAkJAQPP300wgICEDv3r0hkUgQEBAAT09PPPvss3jw4AHnPG7ouCo1td+XnZ0NS0vLOqfzKIWGhqp9DsDLy4udFnTy5EmsWLECqamp/MVZmvKd6zSBAAB4enrCwMAAV65cQXZ2NjIyMuDp6cn5sbGwsGD/1tfXh66uLioqKvDXX3+huroawcHBbET77bfforKyUm1kSAghmsDOzg5bt25lH5KMiIjAv//+yynzzz//4NGjR3B2dmbvLuvq6qr9QVO9Ruro6PCza1HOC544cSLWrVsH1Mxt11QjRozA1atXsWnTJly4cAHHjx9nr/FlZWU4fPgwXnrpJYwaNQrz5s3jLw4zMzN2xENPT49Nb6iNS0pKcPv2bSQmJkIikcDJyQkTJkxAUVERKioq2PXURdmBGzBgAF599VVYWVkhMDAQYrEYhw8fBmqmmfDvyCqp7rdyv6qqqjr171tdxzI/Px8PHjzAgQMH4OzsDCcnJ8yaNQvV1dWoqqpil6+rP6BkYGAAoVAI1IwO1LfOSZMm4bXXXsPatWsxePBghIeHo6KiAunp6SguLsakSZPg5OSEQYMGISEhgdP2RkZGbIdfR0enwddH5uXl4dNPP4Wvry8GDx7MvimsMeRyOe7evQs7OzvOPHdra2tUVlZCJpOxac29Fvj4+MDLywsikQgA4OzsjClTpkAqlWLMmDEYOXIkUDNd7fTp05g5cybGjBnDToNS1aNHD/Tq1QtQOUbK/wLAk08+ySmPRhxXpbbq94WHhzf4HIC9vT0GDBjAT9ZI9Z+NGsba2hrPPfccEhISEBMTA1tbWwwePJhTRi6Xs/9fWFiIkpISGBsbsw8ff/HFFzh37hz7OXr0KHsSEkKIpurfvz+GDh2K7OxsFBcXc/JMTExgZGTETmFBzR3ntn6LiKbq1q0bfH19ERwcjM2bN+PatWtAzZzkTz75BK+//jp++OEHbN68mb9onRpqYyMjI9ja2sLDwwPx8fGc35lXXnmFt7b/OkBmZma4ceMGUDO9S7UTq0rZyVm+fDm7TuU0EqWysjJ2nrRyv5R3jhujtLQUBQUFte4wdzR1x9Lc3By9e/fGK6+8wmnnc+fOYdSoUeyydfUH1GlonT179sSyZctw7do1hISEYPfu3YiLi4OzszNEIhGioqI4yzR3alxJSQnefvttXL16FREREYiPj8fkyZP5xepkaGiIPn36IDs7mzOd5t69e9DX14dYLOaUbw3p6ek4fvw4Ro0ahV9//ZUNUH/66ScsXLgQnp6eOHLkCA4ePKh2WmFTNfa4NrXfZ2lpidzc3FZ5tunixYtIS0urt7015TvXqQIBgUAALy8vXLp0CQcOHMCkSZNqPdl94MABnDhxAhkZGdi4cSPKysrwwgsvwNHREX379sWXX36JO3fuoKqqComJiTh37lyjL5SEENJeEhMTsXDhQpw8eRKnT59GREQEYmJi4O7uDhMTE07ZJ554AkOHDsWJEyewZ88epKWlYc2aNcjOzuaUa46ysjLk5eUhPj4eH374IQDA3d2dXwyouYP+77//4urVqzh37lytaSntSSAQYPr06bCxscHnn3+OkpIS5OfnAzVD8v/88w/27t3LX6xODbWxvr4+PDw8cOHCBRw7dgwVFRV4+PAh9u/fr7ZjYWBgAGtra/z1119gGAYGBgYYM2YMkpKSsHfvXty5cwdbtmzBzZs32fY2NjZG79690bt3b3YaiVJcXBwiIyORmZmJTz75BNnZ2Zg8eTJ69OihstX/qDtOMpkMd+7cwaBBg/jFOxz/WOrp6cHd3R3Hjh1DfHw8qqqqcOfOHURFRXGCqbr6A+qYmJjUu85jx45BKpWipKQEvXv3Zu9IjxgxAtXV1fjqq6/w8OFDVFRU4Pvvv0dmZmajpsbp6OhAR0cHKSkpuHjxIm7duoXCwkJ069YNenp6uHDhQq3573p6eigsLMSlS5dqTYnp2bMn++9SfPzxx8jIyMCJEyewefNmjBw5kp0m1xz37t3D6dOn2c8ff/yBkpISfPbZZ3BycsL69esxYMAA9nmmBw8egGEY9nz75ptvao0INEdjj2tT+31PPfUU7ty5wxk1aYrt27ezU4ZWrFiB77//vt5AQFO+c50qEACAp59+Gk5OTtDT08OIESP42Zg8eTJ++OEH+Pv7IzU1FVu3bsWgQYNgYWGBr776CoaGhnj11Vfh6emJHTt2sG9rIIQQTWJqaoqbN29i6dKleOedd3Do0CG88cYbWLp0KacDiJqpIB988AGef/55fPbZZwgODsbo0aMxdOhQ6OjoNKpDUpfTp0/D09MT8+bNQ1lZGb788ku41PH+8PHjx2PQoEH45JNPcOjQIX52u7OwsMDcuXNx7do1HDlyBK+88gqsrKzw5ptvYsmSJZwXTTSkMW382muvITQ0FPv378e4ceMwdepUKBQKtVMHdHV18fzzz+PatWvs6wNnzpyJ9957D/v374ePjw/i4uLw2WefYcKECfzFa3n++efx6NEjTJo0CXFxcViyZAl8fHz4xYA6jtPVq1fBMEytUXZNoXosjx8/jqVLl2L69OlYvXo1e37q6emhe/fu7DJ19QfU0dXVrXedPXv2xIoVKzBmzBhERETgvffeg4+PD1xcXPDll18iNzcX/v7+GDduHOLi4hr9wGm/fv0QEBDAPuDbo0cPzJo1C5mZmZgwYQIuXLgANzc3zjKvvPIKevfujffeew+//vorJw8Apk2bhs8++wyJiYnw9/fHhx9+iP/973/YuHFji+7IX716Fe+88w77OXDgAKKiopCUlIS3334bvXv3RkhICK5fv44DBw7Ax8cHQ4cOxerVq/Haa6/BycmpRdtXauxxbWq/b/DgwejWrRs7gthUc+fOZacMnT9/vt4gABr0nRMwLZko1YDExETY29vzk1vk8ePHCA4Oho2NDTZs2MD+IKalpeGVV17BW2+9heDgYP5ihBDSYW7dutXq18KG3LlzBwEBARg3bhzWrl3Lz9ZoHdFezdHSNlb+nj3//PMd+rulUCgwd+5cODk54YMPPmhR4MjXEceS+gNdU1sfV+Vbma5du4bt27ezz3W0hcLCwjb9zo0ePZqfXKdOMyJQVVWFnJwcbNq0Cenp6XjxxRdr3RUjhBBtdfjwYXzzzTe4c+cOzp07h3fffRfFxcXw9/fnFyXN1NptbGJighUrVuDo0aONejNQW2AYBgcPHkRRURFCQkJatUNCSGciEAjwxhtvQFdXFwcPHuRntxpN+851mkAgIyMDEydOxC+//IINGzZwHggihBBtZ2xsjO3bt8PHx4e9W7Zz504MHTqUX5Q0U1u08cCBA3H69GkMHDiQn9UuBAIBZs+ejRMnTjR6OgshXZWRkRH27NmD2bNno7q6mp/dKhiG0ajvXKebGkQIIZ1NR0yP6MyovboOOpaksxIIBJxnTlpLeXl5i15f2pAuOzWIEEIIIYSQ9sAwDMrLy1ttZKC6urrNg4DmoECAEEIIIYQQHoZhUFFRgX///bfFn4qKCo0LAkCBACGEEEIIIdqJAgFCCCGEEEK0EAUChBBCCCGEaCEKBAghhBBCCNFCFAgQQgghhBCihdr83xEghBBCCCGEtI+m/DsCbRoIZGZmwtHRkZ9MCCFaha6FTUPt1XXQsSSkfTX1O0dTgwghhBBCCNFCFAgQQgghhBCihSgQIIQQQgghRAtRIEAIIYQQQogWokCAEEIIIYQQLUSBACGEEEIIIVqIXh9KCCFtjK6FTdPc9qqsrERpaSkqKirQ0E+bQCCAnp4eevbsCV1dXX52q2nKPjVXe9WlOZp7LAkhzdPU7xyNCBBCCOn0KisrIZPJUF5e3qgON8MwKC8vh0wmQ2VlJT+7VTR1n5qrPepCCOmaKBAghBBNVlmFqg0HUblwK5jrmfxcrvv/oPKjXah8fzuQ+5Cf26WVlpY2q7PNMAxKS0v5ya2iufvUXG1Zlw5B5z4hbY4CAUII0WBMyk1UHYxFdfx1VLwZDuaPm/wi/3nwGOWz16P65HlU/3QZVbG/8Ut0aRUVFfykRmvJsvVpq/XWpyO22Vbo3Cek7WlcICCVSuHn5we5XM5JT05Ohru7O/Ly8jjpTZGXlwcXFxdIpVJ+VrtojToQQrSL4ClrwMTovz/KylER8hmYP29zCz2SoXzWJ8D9f/77WyBAt0H9uGV4QkJCYG5ujuTkZE56Xl4e3N3da6VrupbceW/JsvVpq/XWpyO22Vbo3G+65ORkuLi4IDk5GXK5HH5+fvX2eSIiIhASEsJPJlpE4wKBtmRhYYE///wTvr6+/CxCCNFMQkPo7X7//ztEpf+iYs4GMJk5//1dJEfFG58COQX//a3TDbrhb0HQQGcIAJ566ils27aNn9ylxMXFwc7ODnZ2dggNDeVn16utbt5s375d7T6p7qudnR1mzJgBhUJRaxn+cl1WJzj3Q0JCEBERwU/uMBKJBH/++SckEgk/ixC1tCoQIISQzkjwlDX09n0I9BL+l1BSiorZ68Fk3EHF7E/BZOf+l66rA92It9Ft3FDO8nUZNWoUzp07V+8dw84sNTUV4eHhuHz5MrKzs4GaDnVHKigoQFZWFtLS0nD58mVcunQJcXFxbP6UKVOQnZ2N7OxsREVFwcDAgM1bunQpmxceHs6md2V07hPStjplIKAc7tq9ezdcXFwgFAprDfNFRERAKBRCKBTCxcUFeXl5aofJVMuFhIRwonvlNKU1a9ZwyqiSSqVsHn8flFORlPknT57kLEsIIY0lsLVA96+X/3+HSCZHxYxVYLLu/ve3rg70ti5EN49BnOXqY21tjfDwcISGhtZ711v1OqfuOqipEhMTMWnSJIjFYigUCty7dw9nz55l77LXRyqVwsPDAykpKXB0dGTrrPwdqeu63xCxWIzw8HAYGBhALBZj5MiR/CKERxPPfeV5cOjQIaxcubLO80A59Ybf11BV1zaUQkJC2DzVqdPq0tVNbyopKeGcs/UFP/x+iyaNdpC20SkDAaXw8HCcOXMGMpkM/v7+WLZsGeRyOZKTk3H06FFkZmZCJpPh4MGD/EWBmi9obGwscnNz2XUcOnSIUyYxMRFGRkaQyWRISEhAdHQ0+yWSSqUIDQ1lt7Nv3z52H/Ly8jBu3DiEh4dDJpMhNzcXFy9eRGFhIWf9hBDSaH16/9chEptw0/V0obd1IQTPDOCmN4Kvry/GjBmDlStX8rOAmutcUFAQEhIS2GtZTk5Op+ggZGVlwcHBAQUFBfD29sbw4cMhFNZ0Jhvg6+uLhIQEDBw4EJmZmYiMjIRcLse0adNgY2MDmUzGXvdffvnlejuTdSkoKEB6ejrMzc3ZtOPHj7PTf1RHCgBg/fr1sLOzg7OzM1JTUzl5XZ6GnfuGhoaIiYlBQEAAwsLCkJ+fX+d0HGW/gr8ONLANZX5OTg7bT/nggw/qTVdn/vz5+Pjjj9l+TGhoqNqghd9vyczMxNGjR9WWJV1Hpw8ELCwsAADz5s1DUVERiouLAQCFhYXshVkikbDllORyOWJjY7FgwQIYGhoCNReFgIAATrnRo0djzpw5QM16/P39kZGRAQCIjo5GcHAwu24PDw+IRCJkZWUhKSkJtra28PDwAAAYGhri448/hqmpqcraCSGkiXR1AAHv0i0QAN2b/w9JhYWFITU1Ve0PfnR0NN5//322k2NoaIgFCxYgNja21ksdNFFeXh6CgoIQGRkJHx8ffnaTZGVloaioCGFhYWyah4cHbG1tkZSUxCnbEIVCgbfffhuTJk2Cq6srAMDLy4ud+nPy5EmsWLGC7fDPnTuXzfviiy8QEhKCgoKaufHaopOe+wEBAVi4cCGgZh2N2cbt27fZvs2YMWPYPktd6Xz79u1j1y+RSDBmzBjEx8fzi9Xqt1hYWGDq1Klqy5Kuo1MFAn379oWxsTE/uRaJRIKDBw/Cx8enzmGw4uJiFBUVwdLSkp/VKHK5HDk5OVi5ciU7hGZpaYlTp04hNzcXGRkZsLGxqfOLSQghTfbg8X9vSMl/xE0vr0DFW5vqfr1iA5Q/+MoRTSXldc7JyYlT3tLSknPjRVM5ODhg7dq12LBhA1xdXZGfnw+ZTMYv1mi5ubkQiUSc3yFDQ0PY2NiwN4gaQ6FQYNasWbC2tsbcuXP52QAAe3t7DBig/i73wIEDYWNjw0/u2rrQuW9paQmRSASFQtHgNnx9fREeHg5HR0fO9KO60huDvz2ljIwMJCYmwtLSku3XrFy5sknnNul8NC4QqOtLlpubi6KiIk5afSQSCfLz85GZmYnQ0FC1wUBhYSFyc2seNFL54jeG8uJ/+PBhdohY+fH19YWTkxNycnI4F5bc3FyaGkQIaZ7CYlQEb/j/1yR2E0Dn3ZcAUc3NhrJyVMzbWPv1io2kHPlUfZNKfZ3cxt6Y6UijR4/GmDFjYG9vD4VCgZ07d8LT05PzAG5T1PX7hHo6V+p89NFH7Bz1uly8eBFpaWkQi8X8LBw/fhwAYGRU8zadrq6LnfvK/oyBgUGjtuHr6wuZTIbTp0/j5Zdf5gQD6tIbom57qDmHAwICavVpIiMj+UVJF6JxgYCDgwNEIhFnzl5eXh5CQ0M503jqI5VK2Y6/sbExbG1t+UVgYWGBMWPGYOvWrWxnPSEhAYmJifyidfL396/zQSNLS0tcu3YNCQkJQE2QsXXrVn4xQghpWHEpKmZ9AuZ2zY0LnW7Q/fwd6AT5Qm+/ykOU8rL/Xq946z5n8cZQTl/85ptvcOPGDTbd398fn376KdvJkMvlWLZsGUaMGNGo63FHcnV1xZAhQzBgwAAMGDCg3jvwjaHu90kqleLcuXMYPHgwp2xd4uLicPz4cc6zAMrXhKq+InTFihX4/vvv2UAgNDSUzTt79iz27NnT7ICmU+kC5350dDS7Dn5/pqFt7N69m82zsLBgpxfXla6Oaj9Heb7yp0EDwODBg+lNSlpI4wIBQ0NDHDlyBDk5OezQlKOjI8LDwxv9/n9LS0sEBQWx03W8vb3VLrtp0ya2vFAoRHR0tNovR118fX0RHBwMR0fHWk/uSyQSnD59mt0Pe3t7vPjii/V+WQkhpJaKSlSEbPj/1yTqdINuxAL2DSkCWwvo7fkAeEL0X37Jfx0n5D5UWUnjSCQSvP/++5w0X19f7Nu3Dx4eHpxrqnLOs6ZTnVtf3x14dSQSCVxdXdm3Bqn7fQoNDcWZM2dqPYdWF9XnAPivCVXd1/Pnz3NGA8LDw2uV7/I6wbk/b948fPrpp/VOzxk3bhyWLVvG9meCg4PZPklD27CysmLzHB0dsXz5ckgkkjrT1XnmmWdgb28PoVCIoKAgHDx4UO35amFhgYMHD7L9FmEz3opFOh8B04b/DGFmZiYcHR35yRpLXvNGiAULFqgNHAghpDlaci1kkrNQEfTxf39014Pe5nfUviGF+TsfFbM/BQoeAwB0QmdA57WWPRzbUZrTXg8fNr3zp8rMzIyf1GIt3afmaou6NFdzjqVSVzj3IyIikJGRQdNrSLtp6ndO40YEOtKOHTtw+/btRg/xEkJIWxO42qPbc8MgeNIcel8uUtsRAgBBX3N037MMgiGOEAywg85zw/hFujSBQMBParSWLFuftlpvfTpim22Fzn1C2p5WjwhERERw5nr26dOnSUO8hBDSGJp+LdQ0zWmv4uJilJeX85MbpXv37i16+LMuLdmn5mqrujRXc45lV0IjAqS9NfU7p9WBACGEtAe6FjZNc9qrsrISMpkMTf1JEwgEEAqF0NVt/rvo69LcfWqutqxLczXnWBJCmq+p3zmaGkQIIaTT09XVhVAoRPfu3Rs1PUYgEKB79+5t2nFu6j41V3vUhRDSNdGIACGEtDG6FjYNtVfXQceSkPbV1O8cjQgQQgghhBCihSgQIIQQQgghRAtRIEAIIYQQQogWokCAEEIIIYQQLUSBACGEEEIIIVqozd8aRAghhBBCCGkfTXlrUJsHAk3ZGUII6YroWtg01F5dBx1LQtpXU79zNDWIEEIIIYQQLUSBACGEEEIIIVqIAgFCCCGEEEK0EAUChBBCCCGEaCEKBAghhBBCCNFCFAgQQgghhBCihej1oYQQ0sboWtg0zW2vyspKlJaWoqKiAm3401YngUAAPT099OzZE7q6uvzsVtEedWzNenTWY9meWrO9CWnqd45GBAghhHR6lZWVkMlkKC8v77COI8MwKC8vh0wmQ2VlJT+7xdqrjm1dj4a0Vz01RUe3N9FuNCJACCFtrKXXwiNF1/F14WUUV5fxs2rpLtDFc0ZOWNLbm5/VaTSnvYqLi1FeXs5P7jDdu3eHsbExP7lFOqKOLa1HVziW7aml7U1IU79zNCJACCEa7O+KR5jx9x78WJyKX+U3GvzElmRgaV40vpcl81fVpVVUVPCTOlRb7E9brLMh2rJNTaHNdScdQyMDAalUCqFQyH5CQkIAAHl5eXBxcYFUKuUv0qpCQkLg4uKCvLw8fhagsn9tvR9oozrn5eXB3d0dycna1VEgpDNKK8tFNZo+cPt76T1+EiskJIS9rvLTIyIi+MmdQhsObjdLW+xPW6yzIdqyTU2hzXUnHUPjAoGIiAhs3boVubm5kMlkkMlkGDFiBORyOSwsLPDnn3/C19eXv1irMzExwaFDh/jJkMvl2Lp1Kz+5zfDrnJycDHd39zqDFEJI19KUbsFkw4Gw0TUBgHqDh7CwMKSmpnJuBiQnJ0Mmk2HOnDmcsl3Z9u3bYWdnh9DQUE56QUEB3N3dYWdnB2dnZ6SmpgIA4uLiYGdnx/nMmDEDCoWCs3xd2ur6rdxf1X1VUtZRtZ4KhQIzZsyoVZe4uDjOspomNTUVzs7OcHd3R0FBAScvNDRUbT1U68pvH+X61B1H1WPNPz/qOm/q21Z9x4iQjqRxgUBGRga8vb1haGjIpr3xxhucv9tLbGws5HI5Jy0hIQFFRUUYOHAgJ50QQjrSIhNPHDB/Dc8Z9Odn1WJhYYGpU6di27ZtQM0NjmXLliEwMLBDrrUdQdmJW7p0KT8Lx48fx+rVq5GdnY133nkHa9euhUKhgJeXF7Kzs9nPrl27YG1tDQMDA/4q2k1qaiqCgoIQGRkJOzs7Tl5BQQGysrKQlpaGy5cv49KlS4iLi4OBgQGioqLYeqSlpcHb2xvm5uac5TVJXFwc1q5di71790IkEnHytm/fDgDIzs7G5cuXER4ezna2P/roI3h6eiI7OxtHjhzBkiVLUFBQgIKCAixZsgRHjhxBdnY2PD098dFHHwE1bRoeHo7Lly8jOzubs436zpu6tlXfMSKko2lcIODk5KS2A46aHys/Pz/ONJmIiAjOFCLVoW2pVAo/Pz+sWbOm1jSjhijvwCckJHDSo6Oj8e6779a6EKnuB3/akHJ6j1AohLm5OXbv3s3eFVLWaffu3Zwyyjt1qnWWSqXw8PBASkoKHB0dERISonaaj7LeyjZUrkO5bxs3bmTLKqnuf33TogghmucdkQdW9/JDpOwC9sou87PVCggIYEcFlNc5Dw8PgDc9U/V6hC50rQgPD8fcuXP5yQCAuXPnwsvLCwAwevRoCIVCfhEoFAocPnwYM2fO5Geppe76DTXXZ357N8TV1RUxMTEQi8X8LIjFYoSHh8PAwABisRgjR47kFwEAXLx4EcbGxnB1deVnaQwvLy9ERUXByMiIk65QKHD9+nX2OBQUFCA7OxuJiYkoKCjAvXv3MGXKFABAfn4+0tPTkZKSgpSUFDg7O7N1zsrKwqVLl1BQUIDExERMmjQJYrEYCoUC9+7dw9mzZ6FQKOo8b+rbVn3HiJCOpnGBwMKFC2FjYwNLS8sG56pGREQgNjaWnUbk7+9fazpPYmIijIyMIJPJkJCQgOjo6EbNtzcyMsKCBQuwdetWtkOdnJyM1NRUDBkyhFNWLpejpKSE3Y+wsDB2uby8PIwbNw7h4eGQyWS4desWjh07hsLCQs46wsPDcebMGbYey5YtqxUM+fr6IiEhAQMHDkRmZiYiIyM5+erI5XJMmzYN3t7e7FSr4uJi3Lhxgy3Db8fg4GCsXLmSsx5CSMfqq2uKXeIZMNfhvlHkPZNxWGf2ArYWJSD0n2hOXn2UowLr16/H1q1bsWDBAhgaGkIqlSI0NBSZmZmQyWTYt28fez1KTk7G0aNH2byDBw/yV9vlJCYmwtjYuNZd/6Z2ntVdv5XXZxsbG/b6vG/fPrz88sutHmAVFBQgPT291l3/pgY0mqakpAQymQxisRhxcXEICQnBSy+9BNTUWSgUwsjICNu3b8fOnTvh7f3f27SysrLg4ODATucxMjKCjY0NJ6+goADe3t4YPny42mBQVX3bIkSTaVwgAACRkZHIzc1FbGxsnXdH5HI5YmNj2R8v1FxoAwICOOVGjx7NznmVSCTw9/dHRkYGp0xdBg8ejKKiImRlZQEAtm3bhqlTp8LCwoJTztDQEB999BG7H2PHjkVRURGKi4uRlJQEW1tb9k6boaEhPv74Y5iamnLWER4ezq533rx57PItlZWVhaKiIk67hIWFoV+/fkAd7RgQEICcnJxW/yEihDSfAIB3z/44bTUXVjr/dUqWmHphZa/x2FKUgA8e/shfpEFz5sxBUVERoDIaEB0djeDgYPZ65OHhAZFIxF4HCwsL2WuDRCKpdT3UNKpzx/nzwBsSFxeHb775ptY0EIVCgZ07d8LPz4+T3lTK63NYWBib5uHhAVtbWyQlJXHKtoRCocDbb7+NSZMm1QpcLl68CJlMBnt7e056ZxMbG4udO3ciNjYWlpaWnLxt27YhKysLUVFRnFdzyuVyzJo1C8HBwXjrrbc4y+Tl5bHTeXx8fDh59alrW4RoKo0MBFDTYY6Jianz7khxcTGKiopqfeGbor7pPODNo83Ly0NqairGjh3LKaOkOpTu4eHB3vHPyMiAjY1Nh827zc3NhUgkqvOCVFxcjNu3b2P69Ons/js6OuLatWu12pwQ0nHuVBbCJ3c7RN16Itb6Tazp5YcVpj74/PFZLGtGEICa66yNjQ37XJZcLkdOTg5WrlzJXg8sLS1x6tQp5ObmQiKR4ODBg/Dx8VF7zdRE4eHh7Fz4qKioWnf26xIXF4f58+cjMjKy1pSOixcvAgCeeeYZTnpTqbs+K49JY29YNUShUGDWrFmwtrauNaVFGdAEBwc3ul00jXKq0MmTJ7Fnzx4YGBiwQatYLEZaWhru37+P8PBwdpoPADg4OOCLL75AcHAwvLy8UFBQAJlMxuatXbsWGzZsgKurK/Lz89m8utS3LUI0mcYGAkqDBw+Gqamp2k5pYWEhcnNz2b+VP2KNtXDhQnY4ViaTqX0bkfLu+MaNG+Hq6gqJRMIvAqlUynnTUUJCAueOf05ODmeaT25ubq2pQW3F0tKy1uhCXl4eu31jY2MMGjQICQkJnLbIz89XW1dCSMfJKM/HuPtfQA86WGjiic2Pf8XyRzH8Ys2m7IQePnyYcz1QvT5KJBLk5+cjMzMToaGhnSIYaKrU1FSsWLECR44cqXUHvTU7z+quz0pOTk78pGb56KOPYG1tjfDwcH5WqwU0HcnAwACenp7w9PSEgYEBUlNTcenSJYwePZp9LkI5cnPx4kXk5ORg4MCBGDhwINzc3NgXf+zduxfOzs4Qi8UYPXo0xowZA3t7e/Z4K9dfl/q2RYgm07hAYO3atZxOf1JSEgoLC2sNP1tYWGDMmDGcOfwJCQlITEzklGspCwsL2NjY4JtvvsG8efP42YCau/7x8fFsR3vs2LG4du0a+zCevJVfP2psbAyRSIT4+HigppOv+kozCwsLFBYWcp6d2LZtGx4+fAjU/PCPGDFC7TMJhBDNk13xCD652zD/wVF8+OgUP7vF/P39ERoaqvbmi/KlBai59tja2vKLdBrKV0CuX78ex48fZ187qVAosHbtWty/fx8TJ06s9UrK1uw8Ozg4QCQScZ7JkkqlOHfuHAYPHswpWxflaynd3NyQnp6OiRMnslOg4uLicPz4cbZ+qtOjWjOgaQ/KV31OnDgR6enpcHNzY3/rAgMDcfbsWdjZ2WHixIlYvXo1G8AtXboUK1asgJ2dHWeERywWIzg4GG5ubrCzs8O9e/ewZs0aoOYB7CFDhmDAgAEYMGAAZzSlrvOmvm3Vd4wI6WgaFwgYGhrC0dGRHZYODQ3FmTNnagUCALBp0yag5q6KUChEdHR0rWcEWsO8efMwbtw4ODg48LOAmlGDc+fOsft85coVdkRAIpFg37597NQbe3t7vPjii7WeEWgsiUQCV1dX9q0TymcOPv30UwiFQowbN65WIHDmzBns3LmT3b8RI0awzwiA94C2skxj365ECGl/2RWPsK/4Cj+5Vfj6+iI4OJhzHVa+hczS0hJBQUHslCFvb2+1I6mdwdy5czmvAs3OzoaXl1etV2uq5kHl7TXN6Tyru34fOXIEOTk5jfrNU0csFuP8+fOcfVXuH/91p6p5ynoq66XpXF1dkZ6ezqmLcpSDf8xU66TaPunp6ZwRHtX24R9T1fNDdTSlrvMG9WyrvmNESEcTMG34z9hlZmbC0dGRn9xmlG9gWLBggUb/OCmnEh05cqTDnh0ghLSfllwLk8pyMCTrU35yg7ZbByCk12h+cqfQnPZSjnJqEjMzM35Si3RUHVtSj65yLNtTS9qbkKZ+5zRuRKAlduzYgdu3bzd6SLUjKKfu8P/RNEIIUWewvg3m9HLnJ9frWcN+CDR14yd3aQKBgJ/Uodpif9pinQ3Rlm1qCm2uO+kYnXpEICIigjO3sk+fPk0aUm0Pyn9H4O7du2xaWFgYFi5cyClHCOm62vpa2NU0p72Ki4tRXl7OT+4w3bt3r/Ntbc3VEXVsaT26wrFsTy1tb0Ka+p3r1IEAIYR0BnQtbJrmtFdlZSVkMhna8Cet0QQCAYRCIXR1dflZLdLedWyNenT2Y9meWqO9CWnqd65LTQ0ihBCinXR1dSEUCtG9e/cOm14hEAjQvXv3NuvMtVcd27oeDWmvemqKjm5vot1oRIAQQtoYXQubhtqr66BjSUj7aup3jkYECCGEEEII0UIUCBBCCCGEEKKFKBAghBBCCCFEC1EgQAghhBBCiBaiQIAQQgghhBAt1OZvDSKEEEIIIYS0j6a8NajNA4Gm7AwhhHRFdC1sGmqvroOOJSHtq6nfOZoaRAghhBBCiBaiQIAQQgghhBAtRIEAIYQQQgghWogCAUIIIYQQQrQQBQKEEEIIIYRoIQoECCGEEEII0UL0+lBCCGljdC1smua2V2VlJUpLS1FRUYE2/Gmrk0AggJ6eHnr27AldXV1+dqtojzq2Zj0667FsT63Z3oQ09TtHIwKEEEI6vcrKSshkMpSXl3dYx5FhGJSXl0Mmk6GyspKf3WLtVce2rkdD2quemqKj25toNxoRIISQNtbSa+GRouv4uvAyiqvL+Fm1dBfo4jkjJyzp7c3P6jSa017FxcUoLy/nJ3eY7t27w9jYmJ/cIh1Rx5bWoyscy/bU0vYmpKnfORoRIIQQDfZ3xSPM+HsPfixOxa/yGw1+YksysDQvGt/Lkvmr6tIqKir4SR2qLfanLdbZEG3ZpqbQ5rqTjqGxgUBERASEQiH7cXFxQV5eHr9Ys0mlUoSEhPCTG0UqlbbpvjWFVCqFn58f5HI5P4sQ0gWkleWiGk0fuP299B4/iRUSEqL2+hcSEoKIiAh+cqfQhoPbzdIW+9MW62yItmxTU2hz3UnH0MhAICQkBDt37kRmZiZkMhlkMhnCw8Ph6OgIqVTKL94sGRkZ8Pf35yc3KCQkBKGhobX2LSkpiV9Uq+Xl5cHd3R3Jydp1V5KQ1taUbsFkw4Gw0TUBgHqDh7CwMKSmpnK+n8nJyZDJZJgzZw6nbFe2fft22NnZITQ0lJNeUFAAd3d32NnZwdnZGampqQCAuLg42NnZcT4zZsyAQqHgLF+X5ORkuLu7t/qNI+X+qu6rkrKOqvVUKBSYMWNGrbrExcVxltU0qampcHZ2hru7OwoKCjh5dR1LAAgNDYWdnR22b9/OSa+v3erblnJ96tqsrm0p19fUc4aQtqZxgYBUKsW5c+dw5swZWFhYsOm+vr44fPgwtm7d2uK733K5HBkZGRg8eDA/q14RERHIycnBb7/9VmvffH19OWUJIaQ9LTLxxAHz1/CcQX9+Vi0WFhaYOnUqtm3bBtRcE5ctW4bAwEAYGhryi3dJyg7j0qVL+Vk4fvw4Vq9ejezsbLzzzjtYu3YtFAoFvLy8kJ2dzX527doFa2trGBgY8FfRblJTUxEUFITIyEjY2dlx8goKCpCVlYW0tDRcvnwZly5dQlxcHAwMDBAVFcXWIy0tDd7e3jA3N+csr0ni4uKwdu1a7N27FyKRiJNX17FUBjx+fn6YMmUKJ6++dqtvW8oOfnZ2Ni5fvozw8HCkpqbWu62CggIsWbIER44cQXZ2Njw9PfHRRx9xyhDSUTQuEIiOjkZwcDCno600ePBgFBUVISsrC3K5HH5+fti9ezdcXFwgFAphbm7OucOlLKOcwqMcCjc0NERkZCS7jby8PHYdQqFQ7dC4XC5HbGwsFixYUO8PJX+b/H2KiIhgh+VVpxWpToVS3b6yvGq+uiF9pfrq0tRtK5dR5qlOgVJOSVqzZk2t/UpOTsagQYOQkpICDw8PmrpESBt7R+SB1b38ECm7gL2yy/xstQICAthRgYSEBACAh4cHwJv+qO4apu6a0NmEh4dj7ty5/GQAwNy5c+Hl5QUAGD16NIRCIb8IFAoFDh8+jJkzZ/Kz1JJKpfDw8EBKSgocHR3Z62VDvxkNcXV1RUxMDMRiMT8LYrEY4eHhMDAwgFgsxsiRI/lFAAAXL16EsbExXF1d+Vkaw8vLC1FRUTAyMuJn1XkslQGP8liqqq/d6tqWQqHA9evX2WNeUFCA7OxsJCYm1rutlJQUODs7s+2blZWFS5cu1RppIKQjaFQgIJfLkZOTAycnJ34WAMDY2BgikQi5ublsWnh4OM6cOQOZTAZ/f38sW7YMcrkccrkc06ZNg7e3N2QyGXJzc5GTk6N2atHKlSsRHBzMlhs2bBi/CIqLi1FUVARLS0t+Fku5TRsbG3ba0L59+/Dyyy9zfiwPHToEf39/yGQyjBkzhn26WyaT4fDhw9i5c2et8sp8ZT34HXbUBAHjxo1DeHg4ZDIZMjMzcfToUc6PSlO2HRERgdjYWOTm5kImkyE4OBgrV65k15WYmAgjIyPIZDIkJCQgOjoaUqkUEokEv//+OwYOHIiEhATExMTUGzwRQhrWV9cUu8QzYK7DfaPIeybjsM7sBWwtSkDoP9GcvPooRwXWr1+PrVu3sjc5pFIpZ/rjvn372OtqcnIyjh49yuYdPHiQv9ouJzExEcbGxrXu+je18+zr64uEhAQMHDgQmZmZiIyMbPRvRmsoKChAenp6rbv+TQ1otFlJSQlkMhnEYjHi4uIQEhKCl156iV+slqysLDg4OLCjBkZGRrCxseEXI6RDaFQg0Bzh4eHsnf158+ahqKgIxcXFyMrKQlFREQICAoCaUYAFCxYgOlr9D2VGRgZQU27MmDH87EZRbjMsLIxN8/DwgK2tLecZgoCAAHYqkb+/P/r06cPu5+DBg2Fqasr5EQgICMDChQsBlXrExsbWusuelJQEW1tb9q6e8oc+Pj6eLdPYbasbAQkICEBOTg67b6NHj2bnE0skEvj7+7PtSAhpXQIA3j3747TVXFjp/HeHeompF1b2Go8tRQn44OGP/EUaNGfOHBQVFQEqowH8UVkPDw+IRCJkZWUBAAoLC9lrgEQiUTt6q0lU53M3dW52XFwcvvnmG7VTTnbu3Ak/Pz9OelM19jejpRQKBd5++21MmjSpVuBy8eJFyGQy2Nvbc9JJ3WJjY7Fz507ExsbWe3NQlVwux6xZsxAcHIy33nqLn01Ih9GoQMDQ0BA2NjZ1diYbc1deKTc3lx2CVQ65Tp8+HTk5ObU60JGRkQAAoVBY5zQWdaMRfLm5uRCJRJx3ADdUJ0tLSwwaNKhJ7w22tLSsNW8RNcFMYmIiLC0t2TqvXLmyWdsuLi7G7du3MX36dHZdjo6OuHbtWqvfqSKENOxOZSF8crdD1K0nYq3fxJpeflhh6oPPH5/FsmYEAVC5Pnl7e8PQ0JAdlV25ciX7vbe0tMSpU6eQm5sLiUSCgwcPwsfHB0KhUO0Iq6YJDw9n58JHRUXVurNfl7i4OMyfPx+RkZG1po9cvHgRAPDMM89w0puqOb8ZTaVQKDBr1ixYW1vXmj6jDGiCg4Mb3S7aTDlV6OTJk9izZw8MDAzYALk+Dg4O+OKLLxAcHAwvLy8UFBRAJpPxixHSITQqEEDNXWp1d7tRc8dbJBLBwcGBn1WLpaUlJkyYwE5rUX7qmqYSGRkJmUwGb29vTJs2rdb2DQ0N4e3tXeeIAmq2qRyR4KtrulNz5ObmsnfxVDk5OSEgIIBTX5lMxgY6TWFsbIxBgwYhISGBs678/HxIJBJ+cUJIO8goz8e4+19ADzpYaOKJzY9/xfJHMfxizabshB4+fLjWdUQ5kiiRSJCfn4/MzEyEhoZ2imCgqVJTU7FixQocOXKk1h301uw8t8dvxkcffQRra2uEh4fzs1otoNEWBgYG8PT0hKenJwwMDJCamopLly5h9OjR/KIcAwcOhJubGwYOHAgA2Lt3L5ydnWsFmIR0BI0LBHx9fWFjY1OrMy6VShEUFISPP/5YbUeez8HBAUVFRdixYwc/i0Mul2PNmjXstuq7+AYEBODcuXO1Rg2kUimkUikcHBwgEok48+iVb0Fq6huKVEVHR7Pz/PPy8hAaGqr2oeXBgwfj3LlzrfLDbGhoiBEjRrBzgwkhmiG74hF8crdh/oOj+PDRKX52i/n7+yM0NFTtyJ/yWoeamwW2trb8Ip2G8nWT69evx/Hjx9lXQSoUCqxduxb379/HxIkTa70msjU7z63xm6F8BaabmxvS09MxceJEdgpUXFwcjh8/ztZPdXpUawY07UH5+s2JEyciPT0dbm5u7NuC6jqWUJkadvz4caxfv559VWh97VbftgIDA3H27FnY2dlh4sSJWL16NRss1rUtsViM4OBguLm5wc7ODvfu3cOaNWtUakdIx9G4QAA1d+e9vb05U1xCQ0Px+++/N/putKGhIfbs2YOdO3ey61A3lG1oaIi7d++y2woNDcWePXtqdbJRM+f+zz//hI2NDWfftm7dCg8PDxgaGuLIkSPIycnh7Df/VahNNW7cOCxbtoydnhMcHKz2daUWFhY4ePAggoKC2O039Q0UqhYuXFirrvW9sUiV8vkEemsQIa0vu+IR9hVf4Se3Cl9fXwQHB3OmVSq/w5aWluz1xdLSEt7e3mqvRZ3B3LlzOa8Czc7OhpeXV61Xa6rmQeWNMs3pPEskEri6urJvDWqN3wyxWIzz589z9lW5f/zXnarm1feWG03k6uqK9PR0Tl2Uoxx1HUvwpoZlZ2cjPT0drq6u9bZbfdvinx+q7VfXtlBz3vC3Q4gmEDBt+M/YZWZmsm+lIc0TERGBjIyMZk3vIYRohpZcC5PKcjAk61N+coO2WwcgpFf9UxY0VXPa6+HDh/ykDmdmZsZPapGOqmNL6tFVjmV7akl7E9LU75xGjggQQgj5z2B9G8zp5c5Prtezhv0QaOrGT+7SBAIBP6lDtcX+tMU6G6It29QU2lx30jEoECCEEA0Xaf0ymIFfNvpz1n4hegr0+Kvp0vT0NKu+bbE/bbHOhmjLNjWFNteddAwKBDTcwoULaVoQIYQ0oGfPnhpzN1UgEKBnz5785BZr7zq2VT0a0t711BQd1d5Eu1EgQAghpNPT1dWFUChE9+7dO6wTKRAI0L17dwiFQujq6vKzW6y96tjW9WhIe9VTU3R0exPtRg8LE0JIG6NrYdNQe3UddCwJaV9N/c7RiAAhhBBCCCFaiAIBQgghhBBCtBAFAoQQQgghhGghCgQIIYQQQgjRQhQIEEIIIYQQooXa/K1BhBBCCCGEkPbRlLcGtXkg0JSdIYSQroiuhU1D7dV10LEkpH019TtHU4MIIYQQQgjRQhQIEEIIIYQQooUoECCEEEIIIUQLUSBACCGEEEKIFqJAgBBCCCGEEC1EgQAhhBBCCCFaiF4fSgghbYyuhU3T3PaqrKxEaWkpKioq0IY/bXUSCATQ09NDz549oaury89uFe1Rx9asR2c9lu2pNdubkKZ+52hEgBBCSKdXWVkJmUyG8vLyDus4MgyD8vJyyGQyVFZW8rNbrL3q2Nb1aEh71VNTdHR7E+1GIwKEENLGWnotPFJ0HV8XXkZxdRk/q5buAl08Z+SEJb29+VmdRnPaq7i4GOXl5fzkDtO9e3cYGxvzk1ukI+rY0np0hWPZnlra3oQ09TtHIwKEEKLB/q54hBl/78GPxan4VX6jwU9sSQaW5kXje1kyf1VdWkVFBT+pQ7XF/rTFOhuiLdvUFNpcd9IxNCoQkEqlEAqFaj8uLi7Iy8vjL9Isf/31FxwdHREfH8/PqldxcTFWrFiBp556it2vCRMm4NGjR/yi7SI5ORnm5uaIiIjgZ3UqJ06cwKhRo5CTk8OeA1KplFOmrvSWqm+9MpkMr776Kj777LNmDU/n5eXBxcUFQqEQixcvrrUOuVwOPz8/CIVChISEcPLakqadxx2poqICb7/9Nl5//XWN/QFOK8tFNZp+/v1eeo+fxAoJCVF7zoWEhHTa6wn/+9XR2mJ/2mKdDdGWbWoKba476RgaFQgMGjQIX3/9Nb7++mtMmzYNurq6CAsLw9dff43NmzdDJBLxF2mWv/76C3369MHQoUP5WXXKycnBc889h88//xzu7u7YtWsXwsPDYWFhQXP66vDjjz9i9OjR+P333/lZrFu3bmHZsmUIDQ2FjY0NP7tDFRcXIyMjA/fv30dVVRU/u0mkUilyc3M5aWlpabhy5QonrSUa096d9TxuTN2aQ09PD0uWLMEff/yB48eP87M1QlO6BZMNB8JG1wQA6g0ewsLCkJqaiuTk/x81SE5Ohkwmw5w5czhlu7Lt27fDzs4OoaGhnPSCggK4u7vDzs4Ozs7OSE1NrbWMuryGJCcnw93dvdVuaikp91fd/qjur7KeCoUCM2bMYNOVn7i4OM6ymiY1NRXOzs5wd3dHQUEBJ6+uYwkAoaGhsLOzw/bt2znp9bVbfdtSrk9dmzVnW4R0JI0KBKysrODv7w9/f3+4urpCT08PY8eOhb+/P7y9vdGzZ0/+Is1y7tw5TJw4EUKhkJ+lVkVFBZYvX4779+8jNjYWX3/9NV566SUEBwdj9+7dEIvF/EUIgKysLGRlZdV7hyMqKgrm5ubw9ta8+czW1ta4evUqIiIiWvQmhz59+qCwsBAXLlxg0xiGwXfffQd7e3uYmppyyjdXQ+3dmc/jhurWEn369MG0adMQGRkJmUzGz+40Fpl44oD5a3jOoD8/qxYLCwtMnToV27ZtA2pGp5YtW4bAwEAYGhryi3dJyg7j0qVL+Vk4fvw4Vq9ejezsbLzzzjtYu3YtFAoFUlNT8cMPP+Dy5cvIzs7GF198gb179/IXb1epqakICgpCZGQk7OzsOHkFBQXIyspCWloaLl++jEuXLiEuLg4GBgaIiopCdnY2srOzkZaWBm9vb5ibm3OW1yRxcXFYu3Yt9u7dW+umYF3HUhnw+Pn5YcqUKZy8+tqtvm0pO/jZ2dm4fPkywsPDkZqa2uxtEdLRNCoQqM/FixfRq1cvfPfddwCAhw8fYsSIEfDz84NcLgcAzJ8/n/07Pz8fCxYsgJmZGYRCIfr3749jx46BYRh89tlnWLhwIaqqqhAZGQkbGxsIhULY2NhwOmtKaWlp+OmnnzBv3jy4ubnxs1k3btzA1KlTYWJiAqFQCDc3NyQmJgIq00RmzpyJVatWwcTEBNbW1oiNjUVsbCzs7e0hFArxxhtvsJ2RiIgImJubIzo6GuPHj4dQKMSwYcPYdfIxDINjx46hf//+bJ1jY2OBZm6/oqICW7duZdvHzc0Nf/zxB6AyLWnt2rWYP38+hEIh7O3t2e2FhIRg5cqVKC0thYeHB+c4KcnlciQmJsLT07PRQZnS9evX4ebmBqFQCBMTE6xZswZoYJ8BIDExEcOGDWPbMikpSWWtXMo2U06haKjOdRk6dCjc3NwQFRWFsrL/HvbMzc3Fzz//jFdffbVWx6u+86iuc7Yx7a2p57G6KW7KZZKTk+usW35+PoKCgmBiYgITExMEBwfX2ubHH38Ma2trhISEoLS0FKtWrWKvCYMHD8aNGzcAAH5+frhz5w7S0tLYfehM3hF5YHUvP0TKLmCv7DI/W62AgAB2VCAhIQEA4OHhAfCmaSqPg1JERASb15pTNttbeHg45s6dy08GAMydOxdeXl4AgNGjR7PXJ7FYjKKiIqSkpAAAYmJi4ODgwFm2LlKpFB4eHkhJSYGjoyN7XVGdIqiuvRvi6uqKmJgYtYG8WCxGeHg4DAwMIBaLMXLkSH4RoOb31djYGK6urvwsjeHl5YWoqCgYGRnxs+o8lsqAR3ksVdXXbnVtS6FQ4Pr165g5cyZQE2hlZ2cjMTGx2dsipKN1mkDA0dER/fr1Q3x8PBiGQWZmJm7cuIG0tDTcvXsXjx8/RkpKCkaOHImqqioEBwcjLi4OkZGRSEhIwMCBA/HGG29w5oInJCRgyZIleOONN5CWloZ3330XpaWlnO2iptNWWlqKwYMH87NYOTk5mDZtGvLy8nD06FH89NNP0NPTQ0BAAGc6ww8//ABLS0t8//33MDMzw8svv4ytW7fiu+++w8yZM3HkyBH8/PPPbPmysjJs2LABixYtwtGjR1FeXo758+fj7t27bBmlH374AcHBwXjttdfw+++/Y/To0ZgzZw7S09M5ZRqzfYZh8OWXX2LlypUICwvDb7/9BlNTUwQHB+PBgwfs+iIjI+Hu7o5Tp07ByMgIH374IR4+fIgNGzZgyZIl6NmzJ77//nt8++23MDAwYJcDgMePH+PWrVsYPnw4J70hDx8+xNy5c2FoaIjffvsNR48eBWoCofr2OT09Ha+99hr09fXx008/YcWKFfj222/5q29QXXWui4GBAV555RX89ttvuHXrFgDgwoUL0NfXh6enJ6dsQ+dRXedsY9q7s5zHfOrqVllZieDgYFy/fh2//PILoqKi8NNPP2HdunXsqEFpaSkuXLiA1NRUREZG4tChQ4iIiMCnn36KtLQ0TJo0iQ2WrKysYGhoiJycHN7WNUdfXVPsEs+AuQ73jSLvmYzDOrMXsLUoAaH/RHPy6qMcFVi/fj22bt2KBQsWwNDQEFKpFKGhocjMzIRMJsO+ffuwbNkyyOVyJCcn4+jRo2zewYMH+avtchITE2FsbMx2pmNjY7Fz507Y2dnBz89PbQdUHV9fX/a3KDMzE5GRkZDL5Zg2bRpsbGwgk8nY9n755ZdbPcAqKChAenp6rbv+CoUChw8fZju3pG4lJSWQyWQQi8WIi4tDSEgIXnrpJX4xQjqVThMI9OrVCx4eHvjzzz9RVFSES5cuwc/PD+bm5rh58yZycnLw999/Y8yYMbh8+TJ+/fVXrF69GlOnToVEIsFXX32Ffv364dChQ2rnQotEIixatKhWx6yxTpw4gZycHGzatAnPPfccRo0ahR07drB5Sh4eHggMDMTYsWMxdepUVFVV4YMPPsCwYcMwe/ZsGBkZ1eqMrF69Gs8//zyef/55LF++HLdu3eJ07lFzMd+9ezeeffZZdo7ikiVLUF1dzZnD2NjtP3jwAHv27MGsWbMwc+ZM9O/fH0uXLsVff/3FuVs1ffp0zJgxA2PGjEFgYCDu3LmDnJwciEQi9k63mZkZevXqBYFAwC4HAA8ePEC3bt1gaWnJSW8KPT09eHl54YMPPmhwn+Pi4lBcXIxNmzZh1KhRmDRpElatWsVfZYPqqnN9PDw80Lt3b0RHR6O0tBQHDhyAh4cHnnjiCU65xp5H4J2zjWnvxmjs9ht7HqlqzHmsjrq6XblyBQkJCdi0aROGDRuG8ePHY8aMGZBKpWygKhAIEBoaqnbqVe/evbFq1Sr2DqihoSH69OmDe/fqfsC2owkAePfsj9NWc2Gl898d6iWmXljZazy2FCXgg4c/8hdp0Jw5c1BUVASojAZER0cjODgYFhYWbLpIJEJWVhYAoLCwkO2kSiQStpymUp3PPWPGDCgUCn6ROsXFxeGbb75hp5woFArMmjULnp6euHz5MlasWFFrLnhTZGVloaioCGFhYWyah4cHbG1t6x2tbCqFQoG3334bkyZNqnXX/+LFi5DJZLC3t+ekk7opg8HY2NgW/X4Rogk6TSAgEAgwbtw4ZGVlISMjAxcvXsSMGTMwcOBAxMfHIz09Hb1798bTTz+Nv/76C/r6+ujXrx+7vKGhIcRiMR4+fIh///0XqBnyXbt2LbZt24Y+ffpg1qxZaucIm5iYQFdXF3///Tc/i5WRkQGxWIy+ffuyab169YKxsTGncyEWi9lnHYyNjdl/TRA1nRMTk/8e9FPS19fndBaV7xfmBzMymQw3btxAXFwczM3NIRQKMXz4cBQWFnLehtLY7d+/fx/5+fnYsWMHRCIRhEIhJk+ejOrqas62ra2t2Q6njo4Om97alHXQ1dWFmZkZNm3aBJlMBolEguHDh+OPP/5ocJ/VHaPmvK+5OXXu3bs3PD098csvv+Dy5ctIS0vDSy+9hG7duF9Bdfuoeh419pxVpzOcx42VmpqK6upqTJkyhZ1SERkZicrKSlRXVwM121QNAmbMmIG5c+fivffeg4WFBVauXNmp3lV+p7IQPrnbIerWE7HWb2JNLz+sMPXB54/PYlkzggDUXBdtbGzg7e0NQ0NDyOVy5OTkYOXKlWy7Wlpa4tSpU8jNzYVEIsHBgwfh4+MDYR1v29I04eHh7Fz4qKioWiNldYmLi8P8+fMRGRnJTum4ePEiACAwMBBisRiRkZH44Ycfaj1M2li5ubkQiUSc65DymGRkZHDKNpcyeLG2tq41eqFQKLBz504EBwc3ul20mXKq0MmTJ7Fnzx4YGBiwATIhnVWnCQQAwMXFBYaGhjhx4gTy8/Ph6uoKd3d3pKWl4cyZMxg6dCh69eqF/v37o6ysjJ3/i5p5mAUFBXjyySfZC56enh4WLFiAu3fvYsuWLfj+++/Zh+dUDRgwABKJBF9++SVu3rzJzwYAODk5oaCggNPJevToEYqLi+Hk5MQp2xQVFRWc6Up///03BAIB9PX1OeWEQiH69esHb29v/Pnnn8jMzGQ/zXkLiJWVFczNzTFnzhzOujIzMzF27Fh+8WYxMTFBRUUF5206ys5qXFwcO8WDYRgkJCTA1NSU7aCOHj0av/32GxITE1FeXo7FixfD2Ni43n22tbXFw4cPOUPu9XWKW5NAIMBLL72EjIwMLFu2DP369cOAAQP4xRo8jxp7zqqjqeexjo4OdHR0UFxczOY39JYmV1dX6Orq4uDBg5zj/Ouvv6J379784kDNFK3169fj/v37WLx4MTZv3oxTp04BNdeHu3fv1nowUNNklOdj3P0voAcdLDTxxObHv2L5oxh+sWZTdkIPHz7MTlVRfnx9fYGaUYD8/HxkZmYiNDS0UwQDTZWamooVK1bgyJEjnDvo5ubmkMlkKCkpAQDk5+dDKBTWmkveWJaWligqKuKc+0ot+b6p+uijj2BtbY3w8HB+FhvYPPPMM/wsooaBgQE8PT3h6ekJAwMDpKam4tKlSxg9ejS/KCGdRqcKBPr06YORI0di+/btMDc3h4WFBYYMGYK//voLUqkUXl5eEAgEkEgkcHJywooVK3D06FGkpKQgNDQUN27cwLRp09i7ufHx8YiMjERBQQHEYjF69OjB3yRQ08n+8MMPkZ+fjxEjRuDtt9/G0aNHsXPnTrz88ssoKCiAl5cXjI2NsWjRIvau79tvvw1dXV2MHz+ev8pGq6ysxPvvv4/k5GT88MMP2Lx5M4YOHVrr1acGBgbw9vZGfHw8vvnmG1RUVODBgwf46quvaj002hi9evWCl5cXvvnmG/z000+oqqrCrVu3sGfPngY7aUp6enooKyvDhQsX8Msvv9QakjcxMYGVlRXnAc2nn34aY8aMwY4dOxASEoLvvvsOISEh2LFjB6ZMmYKnnnoKBQUFWLlyJW7duoUePXqwd5pNTU3r3WcPDw9UVVVh8eLFuHjxIqKiovDVV1+p7FHbGjhwINzc3JCamorJkyfXekgYNQ+p1Xce1XfONtTemnoeW1lZoU+fPoiKisIvv/yCY8eOYfPmzZzl+XWzs7ODvb09Pv30U9y6dQtVVVWIi4tDbGxsnaM033zzDY4fPw6ZTAZzc3PO1Kn79+9DLpfD2dmZs4wmyq54BJ/cbZj/4Cg+fPRfINOa/P39ERoaqnaOulQqZTv+xsbGsLW15RfpNJSvm1y/fj2OHz/OvgpSoVBg7dq1uH//PiZOnMh5TaSrqysmTZoENzc32NnZYcWKFdiyZUuz76Y7ODhAJBJh5cqVbJpUKsW5c+fqfZZHlfK1lG5ubkhPT8fEiRPZKVBxcXE4fvw4Wz/V6VGdbTRA+TrPiRMnIj09HW5ubuzbguo6llCZGnb8+HGsX7+efX1nfe1W37YCAwNx9uxZ2NnZYeLEiVi9ejUbLDZnW4R0tE4VCOjq6mLs2LGoqqqCl5cX9PX1YWtriz59+qB79+4YNmwYUDM14fjx4xgxYgRmz54Nd3d3ZGZm4sSJE5y72cbGxti0aROcnZ3x2muvYebMmXj33XdVtvj/vLy88Ouvv2Ls2LH4+uuvMWvWLLz//vvo0aMHevToAWdnZ0ilUhgZGWHKlCnw9vaGrq4upFJpizoXPXv2xKRJkzB9+nS8+uqr6Nu3L/bt28e+xULV3LlzERYWhq+++goDBgyAp6cn5HK52g5nQ3R1dbFu3TrMnDkToaGhcHZ2xvTp06Gnp1dnwMT3v//9D8OHD8f777+PXbt28bNhYmICHx8fxMTEsNNbDA0NsWPHDrz++us4duwYZs+eDalUioULF2LdunXQ1dVFjx49kJKSgsGDB2P48OHo3r07duzYgV69etW7z8OHD0dkZCRu3boFHx8fSKVSvPPOO/zdajM9e/bExIkTYWVlVWenuqHzqL5ztqH2hoaex2ZmZli3bh3KysowZcoUfPPNN5gxYwZneX7drKys2Ld6jB8/Hs7Ozti0aROsra05y6kyMDDAO++8A0dHR6xevRpr1qzB5MmTgZq3vzz55JNqR2k0UXbFI+wrbr1/g0KVr68vgoOD4ejoyE4PUr6pydLSEkFBQeyUIW9vb3akoLOZO3cuO2VI+fHy8mLf/qIuj7/c+fPnm/QmGIlEAldXV/atQYaGhjhy5AhycnLYtg4NDcWZM2ca/eyFWCzG+fPnOfuqnALl5eVVqx7KPGU91b3lRhO5uroiPT2dUxflKEddxxK8qWHZ2dlIT0+Hq6trve1W37b454dq+zVnW4R0NAHTFi/mrpGZmQlHR0d+Mmkk5RtOTp8+DYlEws/uEm7duoWJEyfik08+waRJk/jZpAvQ9PP47t27mDhxIubPn4833niDn90qWnItTCrLwZCsT/nJDdpuHYCQXp1zykJz2qu+N3d1FDMzM35Si3RUHVtSj65yLNtTS9qbkKZ+5zrViADpeuzt7fHxxx/j008/rfWWGULaWkVFBTZs2AAHBwe8/PLL/GyNMFjfBnN6ufOT6/WsYT8Emtb9b0V0Rc15S1Zbaov9aYt1NkRbtqkptLnupGNQIEA63OTJk3HhwgXY2NjwswhpU3p6etiyZQu+++67VvuXy9tCpPXLYAZ+2ejPWfuF6CnQ46+mS9PT06z6tsX+tMU6G6It29QU2lx30jEoENBgCxcuRH5+vkZOpyCkseg8Ju2hZ8+eGnM3VSAQtElg2d51bKt6NKS966kpOqq9iXajQIAQQkinp6urC6FQiO7du3dYJ1IgEKB79+4QCoXQ1dXlZ7dYe9WxrevRkPaqp6bo6PYm2o0eFiaEkDZG18KmofbqOuhYEtK+mvqda9MRAYFAwP6jUIQQQgghhJC2wTBMk0fR2jQQ6NGjB8rKyvjJhBBCCCGEkFZUVlbW6H/rSalNAwFjY2M8fvyYn0wIIYQQQghpRY8fP4axsTE/uV5tGgiYmpqioqIChYWF/CxCCCGEEEJIKygsLERFRQVMTU35WfVq00AAACwtLVFcXIzc3FyUlpbSMwOEEEIIIYS0EMMwKC0tRW5uLoqLi2Fpackv0qA2fWuQqsLCQhQXF+Pff/+lYIAQQgghhJAWEAgE6NGjB4yNjZs8EqDUboEAIYQQQgghRHO0+dQgQgghhBBCiOahQIAQQgghhBAtRIEAIYQQQgghWogCAUIIIYQQQrQQBQKEEEIIIYRoIQoECCGEEEII0UIUCBBCCCGEEKKFKBAghBBCCCFEC1EgQAghhBBCiBaiQIAQQgghhBAtRIEAIYQQQgghWogCAUIIIYQQQrQQBQKEEEIIIYRoIY0NBMrv/YO8rd9Dfj2Ln0UIIYQQQghpIQHDMAw/sSPJziShYI8UhdHn2TTnuI0wcnPmlCOEEEIIIYQ0n8aMCMivZyH7ve2oNO4By8h3IJzizuZVFDzmlO0q5HI5/Pz84OLigry8PH42IYQQQgghbabDAwHm3wrcnr8FhZfS0HvlqyizNgEA9Nn2DkRTxwACAYwbGA2oq0N99epVmJubY/DgwcjJyeEs0xqSk5Nhbm4OoVCo9sPfH0IIIYQQQjRFhwYCFQWFuBG0HkYBnhC+Og6nzl7Ckd/+Rtz538AwDCzWzUQv/9HQFf8XHDRFTk4OgoOD0b17d+zatQs2Njb8Ii3Wq1cvvP766wgKCsK0adPQvXt3mJmZ4ZVXXmHTevbsyV+MEEIIIYSQDtdhzwiU5xQgZ/0hWHw8C9DphpycHPyQK0S5sRX0H93AtP56EBy+gN5+I9HT1Y6/OIdcLse0adNw+/ZtnDlzBgYGBnj11VeRkJCA/fv3Y/LkyfxFWl1eXh7GjRsHW1tbHDlyBIaGhvwitfD328LCgl+EEEIIIYSQNtEhIwJMZRVyVu2H+bqZgM5/uyAUCqH/+Ca6lZfAoPgODLr3wL8p2Q0GAXwVFRVYvnw5zp49i1WrVmHSpEmc/Hv37iEoKAgmJiYQCoUYP348bty4gcrKSsycORO9evXCxYsX2fIymQzjxo3DsGHDUFBQwFlXY5w5cwZeXl7sdCE3NzckJibyi7FOnDgBExMTBAYGQiaTAQAyMjIwfvx4CIVCmJiYICgoCPn5+ewydW2DYRjMmzcP5ubmuH79OgCgsrISr732Gqeejx8/xrPPPoupU6eirKwMhYWFWL58OWxsbCAUCmFmZob3338fCoUCV65cwRNPPIHXXnsNlZWV7D4cPXoUQqEQkZGRYBgGJ06cwNChQ9l9XrhwIcrKyvDVV1/BzMwMMTEx7LKEEEIIIaT9tXsgoPj9Jm4Fh+OJZTMg0NVh00UiEfwGWsJLJw1+Q59C2aEEWMyZyFm2IdXV1di8eTP279+PN954A2+99RYEAgGbn5OTgxdeeAFJSUmIiIjA5s2b8ffff2PGjBnIz8/HhAkTUFlZidjYWHaZjIwM/PHHH5gyZQrEYjGb3lgnT57EgAEDsGfPHqxbtw63b9/G7NmzcefOHX5RXLt2DfPnz4eHhwe++OILCIVCXLt2Dd7e3igrK8OuXbuwZs0aSKVSzJkzB3K5vN5t/P333xg7dixKS0uRnJwMALh79y4uXbqEyspKpKenAzXtkpWVBXd3d+jr6+POnTu4evUqVqxYgT179mDs2LH46quv8Pnnn8PJyQlPP/00Ll26hLt37wI1wcWpU6dgZWWF8ePHIz4+Hq+//josLS2xa9cufPrppygqKkJVVRVbV+W+E0IIIYSQDsK0k7yvTjC/D5jFXDH0Y7Le3sKUlJQwJQ8eMvILf/z3/yqfh9czmBtvfMZfRZ1KSkoYX19fxtTUlLGysmLEYjHz22+/8Ysx69atY/r06cOkpaWxaYcPH2aMjY2Zw4cPM/n5+czQoUMZDw8PprCwkGEYhgkLC6u1jDq5ubmMs7Mz4+vry5SUlLDpFRUVnHJhYWGMUChkzpw5w+63s7Mzc/nyZUYikTASiYT5+++/2WWDgoKYoUOHMvn5+Zx1mJqaMhcuXGDLqVLdRnZ2NtOvXz9m1qxZTHV1NXPq1CnGwcGBGTlyJPPqq68yFRUVzOHDhxkzMzPm8uXLDMMwTGVlJVNdXc2uT7mOF198kSktLWW2b9/OtplqfmhoKFNdXc1s3bqVMTY2Zvbv38+uh79OQgghhBDSsdptRKA44Q/8ezsPYBiIRzpBZ/V+6Pm9D915myD48/b/F6yqxsPPj8Mu4i3VxRvFwsICq1atwr///ovg4GDOm4IUCgUuXbqEoqIijBw5kp1GM3v2bKBmypBYLMaUKVOQkpKC9PR0PH78GHFxcRg2bBjs7Jo2RUkpOzsbH3zwAdzd3dG3b19s3LgRDMOgrKyMLfPw4UMEBwfjn3/+4TzY/OjRI1y7dg2ZmZno168fu88bN25EZWUlHj/+77Wq9W3DwsICgwYNQkpKCh49eoT4+Hi4u7tjypQp+Ouvv1BUVISEhAQMGDAAjo6OAIDy8nIcPXoUAQEBcHJygkQiQX5+PhQKBaqqqjB+/HhYWVnh5MmTqKysxJUrV1BQUIDx48dDIBBg/Pjx6Nu3L+bPn49hw4bh0KFDKC8v54zOEEIIIYSQjtVugcBTX78PM59hcOlnDv31B9Ht9G9AeQWgqwPG5r8pN9WKf5G/fB9sN8xFN+PmvW1nwoQJWLVqFW7evIm33nqLnWfPMAwqKythaWmJ8+fPIzMzk/OZM2cOAMDf3x+GhoaIjY1Feno60tLS8MorrzTr7T+///47xo0bhzNnziAkJATff/89lixZwi8GQ0ND2Nvbo7i4mJ1ug5qpTpWVlRg+fDiSk5Nr7fPYsWMb3Ia+vj7c3d1x584dJCUl4cqVK/D19cWwYcNw584dXL58GSkpKRgxYgRMTExQWVmJZcuWITg4GNbW1oiIiEBcXBwsLS3Zdfbt2xcvvPACLl26hNu3b+PkyZMYOnQoRowYAQDo168frly5gm3btqGyshIhISGYPn06eywIIYQQQkjHa7dAQKCnC+aDl3GLd1O42uNpMD174NG+n/FP2LewXTcbeuam3EJN0K1bN7z11lsICgrC2bNnsXz5clRUVMDQ0BADBgxAXl4eMjMzYWFhwfko3/Jjb28PNzc3nD17Fnv27IGtrS08PDz4m2mUM2fOoKioCKtWrUJgYCCGDBmCe/fu8YtBX18f69evh4eHB15//XWcOHECAGBiYgIXFxekpqbi0aNHtfZZX1+/UdsYOXIkKioqcPToURQVFWHQoEHo378/nnjiCcTFxbHPEgDAP//8g9OnT2PUqFEICwuDr68vdHR02NEHABAIBJgwYQIePHiAb7/9FgkJCZg+fTqEQiFQM6LQs2dPvPLKK7h+/TpmzZqFX3/9FdeuXWPXQQghhBBCOla7BQJIPY9evx3AZqMeSFVJLjE2xM1R76Iy5Tbsvni72SMBqvT09LB27Vp4enpi3759+PLLL8EwDF599VUIhULMmTMH7733HqKjo7Fx40bMnz+ffXhVX18fM2bMwLVr1/Ddd9/B09MTvXv35m+iUUQiEQBgy5YtOHr0KN59912cPn2aXwyoeWvSl19+CTs7O8yfPx/Xrl2Dvr4+Zs2ahX///ReTJ0/Ghg0bEB0djRUrVmD58uVAI7fh7OyMgQMH4tChQ7CyskKfPn0gFosxZMgQ7Ny5EwYGBpBIJEBN2xkZGeHy5cvYtm0b9u7di7fffhv//vsvZ51Dhw7FkCFDEBERgerqaowZM4bNi4yMREhICI4ePYqvv/4aP//8M5544gn06dOH3hpECCGEEKIh2icQKC8FTm6H6T+Z+OgZGb406o6rAgHKGQbZG4+j/E4+zOc27Q1BDREKhVi5ciVEIhFWrVqFH374AYMGDcKPP/4IiUSCyMhIBAYGYtu2bXjyySfRo0cPdlkPDw84ODhAT08PL730UrPnts+YMQOvv/46Ll68iNmzZ8PU1BRz587lF2PZ2Nhg1apVKC4uxuzZs5GTkwNfX18cOXIEFhYWWLt2LQIDA3Hs2DG4uLgAjdyGiYkJRowYAYZhMHLkSBgaGkJXV5cdBRgyZAj7RiQzMzN89tlnsLCwwOrVq/Hll1/iww8/hJWVFWedQqEQ06dPB8MweO6559jnCwDAzs4Ov/76K2bNmoV33nkHlpaWOHDgABwcHNgy9NYgQgghhJCO1T7/oNitP4ADH7N/3tGxwr47VpiSdR9lV/5CT1dbuF76krNIRyooKICfnx9sbGxw8ODBZj0foA0iIyOxZMkSHDt2DM899xw/mxBCCCGEaLD2GRFgqoHuPYEnrAELWzw5JxQrIxfDVboeIu+hMJ/L/Ue/OtqlS5dw48YNvPDCCxQE1EEul+PEiRNwcnLCoEGD+NmEEEIIIUTDtc+IQCfx008/4bfffsP27dsxcOBAfPfdd+wDsOQ/jx49woEDB/DLL7/g119/xe7du/Hiiy/yixFCCCGEEA3XPiMCnUR6ejo+++wzDBw4ELt376YgQI3y8nJs27YNly5dwsaNGzFlyhR+EUIIIYQQ0gnQiAAhhBBCCCFaiEYECCGEEEII0UIUCBBCCCGEEKKFKBAghBBCCCFEC1EgQAghhBBCiBaiQIAQQgghhBAtRIEAIYQQQgghWogCAUIIIYQQQrQQBQKEEEIIIYRoIQoECCGEEEII0UIUCBBCCCGEEKKFKBAghBBCCCFEC1EgQAghhBBCiBaiQIAQQgghhBAtRIEAIYQQQgghWogCAUIIIYQQQrQQBQKEEEIIIYRoIQoECCGEEEII0UIUCBBCCCGEEKKFKBAghBBCCCFEC1Eg0ErkcjkmT56MAQMGICcnh5/dYSIiIiAUCiGVSvlZAIB79+5h2LBhGD9+PGQyGT+bdBFSqRQuLi7Iy8vjZ5FWlJycDHNz8zq/bx0tOTkZLi4uSE5O5mcRQgjRQl06EJBKpRAKhYiIiOBn1ZvXXLq6uhCJROjWrXM1a/fu3WFoaAgdHR1+FiGEEEII6aI6V49VgxkaGuLYsWO4cOECrK2t+dkay9raGhcuXMCxY8dgaGjIz65TUVER3nrrLQQEBEAul/Ozu4SIiAj4+fl12fqRllE3yiKRSJCfnw9fX19OWUIIIUQTUSBAmqW0tBTx8fEoKiriZxFCCCGEkE6gwwOB0NBQWFlZwcrKCqGhofzsdpOXlwcXFxf4+fnhp59+wrBhwyAUCjFs2DD88ccfbLlLly7By8sLQqEQQqEQU6ZMQVFREeRyOfz8/Dh3CBmGwU8//YT+/ftDKBRiwIABiIqKYrcjl8sbvV0AyMjIwPjx4yEUCmFiYoKgoCDk5+ez+YWFhXjnnXdgYmICExMTLFiwoMG72arbb+z+SKVSODo64u7du0hMTISlpSW7fFVVFY4cOcLW2cbGBlu3bkVFRQW7zevXr8PNzY3N37FjB8aPH89pu4bWo5zatWjRIrZNpFIpFAoFVq5cCRsbG3a5Y8eOsdvmU65H+QkJCWGP5cqVK2vVT90y/FED5Tzs3bt3w9zcnFMv5TMbyk9j5pLzlwkJCeHkh4SEICQkhFOOf6dalbK8KmWd65oqp7z7LZVKYW5uXuf+K88fZb65uTlnPrqybZTrU5ara7t8ja0rv80a2k/lelXbhV9GdTshISGYPn067t69C0dHRzZPdQ6+uhEDqBlpamhfleo6Rsr9VC7HXx+/vCqpVFrr/OWvTzVNuU7+MvzvBP/8IoQQoqGYDrRo0SLG2NiY81m0aBG/WLPFxMQwxsbGzKZNm/hZtfJyc3MZZ2dn5oknnmBGjhzJ7NixgwkKCmKMjY2ZsWPHMkVFRcyff/7J2NraMiNGjGD279/P7N+/n5k6dSqTm5vLlJSUML6+voyzszOTm5vLMAzDxMXFMSKRiLGysmLWr1/PrF+/nunbty9jbGzM+Pr6MiUlJY3aLsMwzNWrV5k+ffowzz77LHP48GFmy5YtjFgsZiZNmsSUlJQwCoWCmTZtGmNsbMxMmjSJ2b9/PzNp0iRGJBIxxsbGTExMDKf+SsrtN2V/7t27x+zdu5fp06cPM2TIECYqKopJSEhgysvLmYiICEYoFDLz589nvv/+e2bevHmMUChktmzZwjAMw7Zhr169mMWLFzPbtm1jXFxcGKFQyLZddXV1g+tRHj+RSMQcPXqUqa6uZqqrq5klS5YwIpGICQ0NZb7//nsmNDSU+fLLL3m1/k9SUhLj7OzMJCUlMUxNW6xZs4bN37RpE9suqmlisZhdhmEYZs6cOZzjnpSUxIjFYrXLqqYpy9V1bBg161aeZ6rrmTNnDudcVpaZM2cOu56YmBh2Par/r8RvCz5le6tud9OmTWrrrfp9Uy6nrKOyjOpyMTExtdq0Lo2pa0PtrDzHVfdz06ZNjLGxMWc9u3btqnWcVdfbUDsqt6N6fPlpDe0rH788P41/DvPXxz/OMTExtdbH30f+3wyvLfjr5O8DIYQQzdWhgYClpSUbACg/lpaW/GLNpuyENCUQcHBwYG7evMkwKp2Mvn37MhkZGczPP//MGBsbM8uWLWMqKysZhmGYyspKprq6mi2r7BhUVFQwr776KiMWi5nffvuN3e758+cZMzMzzg93Q9utqKhggoKCmKFDhzL5+fnsusLCwhhTU1PmwoULzIULFxhTU1MmMDCQKS8vZxiGYcrLy5nAwMBmBQL17Y+65RiGYW7fvs3079+fCQ0NZaqrqxmGYZjCwkLGw8OD8fDwYAoLC5mwsDBGKBQyR48eZffh5s2bjIODA9t2jVmP8vi9+uqrTEVFBcMwDCOXy5mJEycydnZ27H4yDMPm86nryKnid7rUdYjUpfM7X8oyo0aNqtXZnTNnDqfzqYrfwaornd9BZdTUTfVv5fFU3b9NmzbVuR9MHZ11fr3rqotqurq2Ue6Puu8pX0N1bUw784+rujLq1NemSuqOjeo6m7qvfPz1N9R2/Hz+8jGNCATUnRuq61HXDoQQQjqHDp8a1Jb09fUhEAhQVVXFz6pTv379YG5uDtQ8AGxjY4OysjKUlpZi6NChGDFiBLZu3QoXFxd8/vnnUCgUEAgE/NWgqKgIf/31FyQSCZycnNh0e3t7iMViTlk0sN1Hjx7h2rVryMzMRL9+/djh940bN6KyshKPHz/GtWvXUFlZiRdffBF6enoAAD09PUgkEt6WGqe+/alLZmYm7t+/jx07dkAkEkEoFKJv375ISkrCgwcPUFRUhD/++AOWlpYYOXIku5y5uTn69evX6PWUlZWxZYcMGQJdXV0AgIGBAQICAvDo0SO4ublh6tSpuHr1ap1vQ/Lw8ICtrS0cHR3rnT6hlJeXB1NTUwwePJiTbmFhgTFjxiAjI4NNMzMzg6WlJft3Xl4ebty4AQ8PD84UikOHDrFl+HJzc2FrawsHBwdOuoODA2xtbZGbm8um2djYNPphb0NDQ3h7eyM6OhqomXISGxsLf39/flEOMzMzWFhY8JOBmnXk5OSoXYe/vz9ycnLYqST8tuHjT0PhTy+qr66NaeeMjAx4e3vXuQ5VqtNspk+fzs9u0Lx585CamspOD4qOjkZwcDAsLCwata98EokEY8aMQXx8PAAgKysLRUVFCAgIYMuotp+lpSUSExNV1tB0GRkZOHToEGcfPTw88PDhQ6AZ3yNCCCGao0MDAdUfr/rSmsvU1BT6+vr4/fffUVlZyclLS0sDAE4nvSG9evWCVCrF4cOHYWlpiRUrVsDDw0PtvxtQUVGBkpIS6OjocAKFqqoqVFdXc8o2pLq6GpWVlRg+fDiSk5ORmZnJ+YwdO5adO68MAjqCso2XLFlSax9//fVXmJqaQqFQoFu3bpzOOcMwnGCtofX07t2bLcsXEBCA1NRUvPnmmzh37hzGjRuHzZs3g2EYflEYGhoiJiYGmZmZ2LlzJ4QNzKduqX79+iEzMxMymYzziYyM5Bdtc2PHjmU7qFlZWRCJRPDw8OAX6xAWFhb4888/2fbJz89vUkDbGu2s7EzHxsYiNzcXMpkMhw8f5hdrkIODA0QiEZKSkpCXl4fU1FSMHTuWzW/Ovvr7+yM2NhZyuRzx8fFwdXVlA7SIiAg4OjoiPDwcMpkMubm5GD16NH8VTRYWFlZrH5XHpb2/R4QQQlpPhwYC4eHhCA4OhpGREYyMjBAcHIzw8HB+sWYTi8V44okncPbsWfz+++9s+j///IOTJ09CJBLhySef5CxTn4qKCnTr1g2+vr6Ij4/H+vXrcfPmTcTGxvKLwtjYGLa2tkhJScGdO3fY9EuXLnHu5DaGiYkJXFxckJqaikePHsHCwoLz0dfXh6urKwAgLi6O7fSWlpYiISGBt7a2Y29vD1NTUyQmJsLAwICzj71794axsTGefPJJ3Lt3D6mpqexyGRkZnDu+Da2nrjv8DMOgvLwcffr0wccff4zk5GQ4ODjg4MGDePToEb84S9nxDAsLYztY6lhYWKCwsBBJSUmc9Ly8PJw7d67eoLKuZetjaWmJ27dvIysri5OelZWF27dv13tXvSESiQSurq5ISkpCfHw8RowY0ag75HVRjhopRxlURUdH13sXvzU1tp35x1k5oqGkXH7Pnj0t2m/V0ZekpCSIRCJ2hKex+8o3ePBgFBUV4fr165yRHOXITlhYWJNeX3r79m0UFxezf+fl5bF3+1Fzs4TfXuo09ntECCFEc3RoIICaYOD+/fu4f/9+qwYBqOlIBQcHo6ioCF5eXpgxYwaCgoIwYMAAJCUlYerUqXB0dOQvVqczZ85gypQp+O6773DkyBEcOHAA3bp1qzV1AzUdgBdffBFFRUWYPHkytm/fjvfeew9hYWFNvmuvr6+PWbNm4d9//8XkyZOxYcMGREdHY8WKFVi+fDlQ07FzdnbGjh07MGvWLBw8eBAzZsyo1YlsLfr6+ujduzcuXLiAzz77DF988QUsLCwwZcoUXLhwAX5+fvj666/x3XffISgoCHFxcRAIBJg2bRoEAgFeeeUVfPrpp9iwYQMCAwOhr6/Prvupp56qdz11USgUmDlzJts+kZGRuHnzJvr166e2MyeVSut8QwtqOkCqnSQLCwsEBwcjKCiIE7isXLkStra29d5Rt6iZPhQaGsp5i8zu3bvr/FdeldNAXn75ZXYZuVyOZcuWYcyYMU26S66Ov78/vv76a1y5coVzl7q55s2bh+joaM7dYKlUiujoaMybN49Ttq00pp3nzZuHa9euYceOHWz+jh07OFNolEGWch15eXm13mrGL1OXgIAA5OTkYOvWrViwYAF7LjZmX9WxsLDA1KlT8dVXX3FGcpTBmOoUNX69+JTT3JTTkZTnl+oUwLFjx9Zqr7y8PKxduxZo4Huk6f/SMiGEaLsODwTakkAgwIIFC7B7925YW1sjJiYGx48fxxNPPIHPPvsMGzZsYOeXN4a5uTnu3r2L2bNnY/bs2SgtLcX+/fvrHHoPDAzEunXrIJPJsGTJEly/fh1ffvml2mcEGuLr64sjR47AwsICa9euRWBgII4dOwYXFxcAQO/evXHgwAEMHz4cx44dw8KFC/Hcc88hMDCQv6pWYWJiguXLl6NXr17YtGkTrl27hh49euDjjz/GBx98gDt37mD+/PmYM2cO7t+/jz59+gA1nYrdu3fD0NAQH3/8Mb777jts2rQJAwYMYNetq6vb4HrU0dHRgb29PdavX4/AwEBs3boVr732GiIiIjiBhqrp06ez855jY2Nx5MgRtqOmOvdZ+brEhQsX4v333+fM6waAmJgYtcGGqsjISIwZMwaOjo7ssleuXKm3Q89fxtLSEt7e3vVOHWmswYMH4/fff4dQKKx3HxpLIpHg9OnT+PTTT9n6hYaG4vfff2+V9TcWv8347axuP8GbliiRSBAcHMwe53HjxtUKBJSBmoeHh9rXhCpZWFjAxsYGt2/frvV8SUP7WpexY8fizJkztUZywsLCcO7cOXZdJSUldV6fULNv4eHhWLlyJYRCIezt7bFgwQLO90xdew0aNAgvvPACW6a+7xEhhBDNJWDUTZ4mbSYlJQU+Pj6YOHFiq3TmuoKCggI899xz6NOnD3Ug2lFeXh7GjRuH8PDwJk0l6aqU776n7yUhhBBt0aVHBDQNwzA4ceIESkpKMGTIEH621oqPj8ft27fh4uICAwMDfjZpI8q56fy71NpI+ZyHurceEUIIIV0VjQi0obi4OERERGDy5Mno0aMHDh8+jHPnzsHR0REnTpyAtbU1f5EuLyUlBcuXL8fYsWNhZWWFH3/8EdHR0RCJRPjxxx8xaNAg/iKkDcjlckybNg3e3t5YuHAhP7tLS05OxrfffouNGzcCKm0BgEakCCGEaBUaEWhDZmZmePDgAUJDQzF//nxcu3YNr7/+utYGAQAgEolQWVmJVatWYfbs2Th16hR8fHwQGxtLQUA7iYiIgKWlJWxsbLQuCEDNvPiYmBh2TrvyoV8KAgghhGgbGhEghBBCCCFEC9GIACGEEEIIIVqIAgFCCCGEEEK0EAUChBBCCCGEaCEKBAghhBBCCNFCFAgQQgghhBCihSgQIIQQQgghRAtRIEAIIYQQQogWokCAEEIIIYQQLUSBACGEEEIIIVqIAgFCCCGEEEK0EAUChBBCCCGEaCEKBAghhBBCCNFCFAgQQgghhBCihSgQIIQQQgghRAtRIEAIIYQQQogWokCAEEIIIYQQLUSBACGEEEIIIVqIAgFCCCGEEEK0EAUChBBCCCGEaCGtDwS2bt0KkUiE48eP87M6TEREBIRCIaRSKT8LACCXyzF58mQMGDAAOTk5/Gyiwdr72OXl5cHFxQV+fn6Qy+X8bJYmfg9I55KcnAxzc/M6r1uEEEI0T5cPBDIyMjBt2jSYmZlBKBRCKBRiwoQJePToEQBAR0cH+vr66NmzJ39RjaarqwuRSIRu3br8IexyNPHYddbvASGEEEKaT3N6Im3g2rVr8Pb2RmxsLLy9vREUFITXXnsNPXr0QGVlJQDgzTffRH5+Pnx9ffmLayxDQ0McO3YMFy5cgLW1NT+7TmVlZVi3bh28vLyQl5fHzybtoLnHrq3xvweNPVfkcjn8/PwQERHBzyKNpBy16Ux30qVSKVxcXDjnhkQi6XTXUkII0XZdOhCIioqCTCbD0aNHERUVhS1btuDLL7/E8ePHIRaL+cW7vKqqKpw/fx65ubn8LEI46FwhhBBCur4ODwRCQ0NhZWUFKysrhIaG8rNbxNjYGAzD4OHDh/wslrr5+NevX4ebmxuEQiFsbGywY8cOjB8/nr0DprwL6uLignPnzsHLywtCoRD29vaIjY3lrD8jIwPjx4+HUCiEiYkJgoKCkJ+fz+YXFhbinXfegYmJCUxMTLBgwYJ653JD5S5sU/YnOTkZ9vb2SExMxN27d+Ho6MguX1VVhSNHjqB///5snbdu3YqKigp2mw21iVJ99VXe+Rw3bhwWLVoEExMThISEgGEYnDhxAkOHDmWXW7hwIcrKytj1Kinryr97GhERwZkHr5yvrJwOxp8jrzzuyg9/fXwNrY8vPz8fCxYsYKek9e/fH1evXq117ACAYRj89NNPbPsPGDAAUVFRnLn9jTnGDbl69SqGDRvGLnfs2DEwDAPwvgf1nSuqVMutXLkSQqGQMzIglUo5bdxQmynruGbNGvj5+XGOC7/9Q0JCai0XERHBOa78fVbexd69e3et/QkJCWGXMzc3R3JyMrscf9v8etS3rHKbUqmUsw5lvaRSKRwdHXH37l1Mnz6dk8cXEhKCkJCQeusINfur2lZQ+R6q5is/dZVR3U5ISAimT59e69xITk6Gi4sLkpOT1Y4YQM33tKHvoWrbqssnhBDSQkwHWrRoEWNsbMz5LFq0iF+s2TIyMph+/foxxsbGzNy5c5nbt2/zizCbNm1ijI2NmZiYGIZhGObPP/9kbG1tmV69ejGLFy9mtm3bxri4uDBCoZBxdnZmcnNzmZKSEsbX15cRiUSMi4sLs3XrViY0NJQRiURM//792e1cvXqV6dOnD/Pss88yhw8fZrZs2cKIxWJm0qRJTElJCaNQKJhp06YxxsbGzKRJk5j9+/czkyZNYkQiEWef+JTbb8r+PHr0iDly5AgzZMgQpk+fPszevXuZn3/+mZHL5UxERAQjFAqZ+fPnM99//z0zb948RigUMlu2bGGYRrYJ04j65ubmMs7OzoyxsTHz1ltvMQqFgmEYhomLi2NEIhEzYcIE5vDhw8y2bduYmTNnMiUlJZx6Myp157fNpk2bGF9fX852lGVKSkqY1atXs+tTLcswDJOUlMSIxeJa61S1Zs0atp7KfZgzZw6/GMMwDHtcxWIx88knnzBHjhxhgoKCmJ9++qnWsWNU6m9lZcWsX7+eWb9+PdO3b1/G2NiY3c/GHGN1lG3Rt29fZsiQIcy2bduY9evXM1ZWVoxIJGLi4uIYhvc9qOtcUR4vVcr92rRpEyd906ZNjFgsZpKSkti0OXPmcOrNp1wXf7mkpCTG2dmZTeO3v/JvY2Njzn7wtxcTE8MYGxvXOm5z5szhpMXExLD70NC5VN+yyr9VjyNT0zaq+8XfRl3mzJnDqSO/HZhGtJVyW6rtpDz2quvZtWtXrWOnWoeYmJhax1J12+rqxE9r6HvIz4+JiWmwjQghhDRNhwYClpaWtQIBS0tLfrEWuXv3LvPyyy+z6w8MDGQePXrE5vMDgbCwMEYoFDJHjx5ly9y8eZNxcHBgf/iUP65mZmbM+fPnGYZhmOrqambu3LmMUChkzpw5w1RUVDBBQUHM0KFDmfz8fHZdYWFhjKmpKXPhwgXmwoULjKmpKRMYGMiUl5czDMMw5eXlTGBgYLMCgfr2R91yDMMwt2/fZvr378+EhoYy1dXVDMMwTGFhIePh4cF4eHgwhYWFjWqTxtRX2RHo168fk52dzZbZunUrY2xszOzfv5/dh8rKSvb/VSnrwG8b1U4DvzOkKjc3lxk1alStPH6HriH8Toqq/Px8ZuDAgYy7uztTUFDAMDXHo7KystYxqKioYF599VVGLBYzv/32G7uO8+fPM2ZmZuw2GnuM+ZRt3qdPHyYtLY1Nj42NZYRCIbN48WKGUfM94O9nXZTlVDuW/A5fQ+lK/E6r0pw5c2oFGqod0bqW428vhtdJZ2o6n6NGjeLUUbVO9Z1LDS3L1LFN/n7x/64LvzPOqOmQN9RWdZ23DZ3//O3w/2bUBCH8daouk9uI7yF/eUIIIa2vw6cGtTVra2t8++23uHLlCvz8/PD999/j9ddfh0wm4xdFWVkZ/vjjD1haWmLkyJFsurm5Ofr168cpCwBisRj29vYAAIFAAEdHRzAMg7KyMjx69AjXrl1DZmYm+vXrxw5tb9y4EZWVlXj8+DGuXbuGyspKvPjii9DT0wMA6OnpQSKR8LbUOPXtT10yMzNx//597NixAyKRCEKhEH379kVSUhIePHiAoqKiRrVJY+qr5ODggN69e7N/jx8/Hn379sX8+fMxbNgwHDp0COXl5RAIBGyZppBIJBgzZgw8PDzUTou4ceMGPDw8OFMODh06xCmnjuo0hZUrV/KzWb1798aMGTPwxx9/wMnJCfPmzcONGzego6PDL4qioiL89ddfkEgkcHJyYtPt7e3VPsfSnGMMAAMHDsSTTz7J/u3s7AxLS0v89ddfUCgUnLItlZeXB1NTUwwePJiTbmFhgTFjxiAjI4OTzqfaDnK5HDk5OezUI+Vn+vTpnGXAWw41UwNtbW052zMzM4OFhQX7d25uLlJSUuDo6Miu29LSEomJiUAD51JDyyrxt9kSNjY2MDQ05CcDjWyrjIwMeHt717kOVarTdtS1d0PmzZuH1NRUdnpQdHQ0goODYWFh0ajv4bx58xAdHV1ruhUhhJDW06GBQEBAAD9JbVpLCQQCODk54dChQ1iyZAnOnj2Ls2fP8ouhqqoKCoUC3bp143TaGIZBVVUVp2xDqqurUVlZieHDhyM5ORmZmZmcz9ixY9k5+MogoCMo3560ZMmSWvv466+/wtTUtFFt0pj61qVfv364cuUKtm3bhsrKSnYOsrpgrbEiIyORm5uLnJwcCHnzpPv164fMzEzIZDLOJzIykrMOJeWcawBs2bCwMH4xlkAgwAcffIArV65g6tSpOHToEIYPH44TJ07wi6KiogIlJSXQ0dHhBD5VVVWorq7mlG1NJSUlKC0thUgkQvfu3fnZGufw4cO1jteff/7ZKh3s0aNHIzc3t9b6Fy5cCDRwLjW0bEdoaVspnw+IjY1l63b48GF+sQY5ODhAJBIhKSkJeXl5SE1N5VwHGvoeKt9CtG/fPnh4eFBAQAghbaBDA4Hw8HAEBwfDyMgIRkZGCA4ORnh4OL9Ys+3cuRP37t1j/xYIBOydaHV3UA0MDPDkk0/i3r17SE1NZdMzMjKa/ANkYmICFxcXpKam4tGjR7CwsOB89PX14erqCgCIi4tjH9osLS1FQkICb21tx97eHqampkhMTITB/7V3/3FRVXkfwD+IruA4gzIKMwRGhvyykqQoS8Y0fRRWk1VcUxNZBCZdcSPEiixCkYdYhRLdFRQfZSMCsui1G5OSkmJqtsikmTxoG8qPGTNjIX4YPzzPHw/37tw7MzAohjnf9+vFq5hz7rnnnHvA8733nMuIEYI6jh07FlKp1KI+saS95nR0dMDe3h7Lli3D6dOnERERgSNHjqCiokKclSe+qyz+Hj2v6iwpKUFBQQHKy8uh1+uhUCjQ2NiIyspKcXazysrK4O/vj/T0dHGSSd3d3ejq6oK3tzeysrJw9OhRSKVS/O1vfzMad9xd67Nnz+LSpUv85ydPnhzQN/ZcvHhRsEldq9WisbERPj4+GDp0qCDvrTLXx3q9HuXl5UZ37nsjkUjg5uaG4uJicVKfLly4gJqaml6DUKVSiZqaGly4cEGcJGBqLFl67C/F0r4qLS0VbHbmniRwuOu2Z88ei54cmCORSDBr1iwUFxejsrISDg4OmDBhAtDLGDElKCgIOp0O/v7+KCsrEycTQgi5BYMaCKAnGGhoaEBDQ8OABgHoeUvKxIkT8eyzz2Lt2rUIDg5GfHw87r//fkyZMkWcHTY2Nli0aBFsbGywbNkypKamIi0tDWFhYb1OZE2xs7NDREQEfv75Z8yfPx9paWkoLi7G66+/jg0bNgA9d7x8fHyQnZ2NiIgIvPvuu3j22Wdv28Ri+PDhkMvlqKurw8aNG/H2229DKpViwYIFOH78OIKDg5Gbm4vCwkKEh4fj0KFDFveJJe01JysrC2q1Gu+//z5yc3Nx8OBBjBkzBq6uruKs/ORi165d/JIDjUYjWFKg1WqRk5NjcNR/KHqWp8TFxQneaJKTk2M22PP29kZNTQ1++uknoKf81NRUcTbe1atXMX/+fOzcuRPFxcXYuXMnmpqa4OnpaTSOJBIJFi5ciKamJv6Y+Ph4JCUlDeiToitXrmDevHl8+atXr4ZCocCzzz4rzgqYGSvff/+9OBs/+TQMxBQKBaKiohAeHi7o08TERLi7u0OlUvGfWSIkJAT5+fmCN8aYusaJiYl8ntbWViQkJMDd3Z2ffJoyYcIEuLu7IyEhQTA5Tk5O5t+EIz4Pp69jLWVqCdPN6quvVq1ahYqKCmRnZ/Pp2dnZguVMSqUS6AncuP+K3+gmzmPOkiVLUFtbi8zMTMTExPCBhSU/h731o1qtNnp7EyGEkP4b9EDgdvrDH/6AgIAAfPLJJ9i7dy9Onz6NFStW4B//+Afc3NzE2QEA06dPR05ODiQSCVJSUlBYWIj09HRMnDhRnLVPQUFBKCoqgkKhQHJyMsLCwrB//374+voCPWvJ8/Ly8Oijj2L//v2IjY3FzJkzERYWJi5qQAwdOhTx8fHw9PTEO++8g7///e+ws7NDSkoKXnnlFVy6dAlr1qxBdHQ0Ghoa+Im4pX3SV3vNue+++3DkyBFERETgT3/6E5RKJfLy8sxO4KKjo+Hu7s6vzS4uLjZaqpOQkMCvO46Li8Phw4eh6FkakZWVhcDAQMHa7lOnTpndmxEUFCTIn5CQgDVr1oiz8ezt7TF27Fi8/PLLCAsLw9///nfExsaaDYjCwsKwefNmNDc3Y/369Th9+jR27Nhhco/AzZoyZQrWr1+PtLQ0ZGVl4cEHH0RRURG/30DM1Fgx9+SAW8stM3h9aGxsLF5++WXBGnAAKCkp6fdd5qCgIBQUFPCv15TJZFi6dCl++9vfCvLFx8cjMzMTsp61+gBQVFTU6/kkEgmKioqAnsktV75EIuHHi7mxZMmxlpBIJIiJieHX9t/KKzL76is/Pz8cOHAAqampgutiuCTTz88PUVFR/LWbMWOGUSBguHfC1GtCOQqFAm5ubqipqTHaM9LXz2FtbS2fplQqMWvWrEFdckUIIXcjG8atSSFmff/995g5cyZcXV37nFhYC+qT2+vs2bOYPXs25s2bZ3bvAvl/ra2tWLRoEU0UbwG374HGGiGEWJe7+onAQCkrK0NNTQ18fX0xYsQIcbJVoj65fbg/sNbS0oLJkyeLkwkZUNzejZCQEHESIYSQuxwFAiJnz57F/Pnz8dZbb6GwsBBhYWGIioqCg4MDli9fftOvtPw1oz65vQ4dOoS5c+di165dyM3Nxdy5c5GWlgZPT0/MnTtXnJ2Qm6bVarFu3Tr++9bWVkRERNzU3g1CCCG/fhQIiDg4OKCrqwtvvPEGIiMj8fHHH2P27NkoLS3FpEmTxNmtAvXJ7SWXy3H16lXExcVhzZo1qKiowIoVK/DRRx/hnnvuEWcn5KYpFAqUlJTwa/It3UtBCCHk7kR7BAghhBBCCLFC9ESAEEIIIYQQK0SBACGEEEIIIVaIAgFCCCGEEEKsEAUChBBCCCGEWCEKBAghhBBCCLFCFAgQQgghhBBihSgQIIQQQgghxApRIEAIIYQQQogVokCAEEIIIYQQK0SBACGEEEIIIVaIAgFCCCGEEEKsEAUChBBCCCGEWCEKBAghhBBCCLFCFAgQQgghhBBihSgQIIQQQgghxApRIEAIIYQQQogVokCAEEIIIYQQK0SBACGEEEIIIVaIAgFCCCGEEEKsEAUCxGIZGRmQyWTQaDTipF89tVqN4OBgtLa2ipNuilarha+vL7RarTjprqHRaODr6wu9Xi9OumWWlq3RaCCTyeDs7PyL9XVrayuCg4OhVqvFSYNGrVb3Wh+NRvOL9hEhhJBfh7s2ENBqtXB2doZMJjP5Zckk42YUFhbCzc0N33zzjTiJEDKAtFot4uLicPToUVy5cgV+fn7iLIQQQgjpxV0bCDg6OmLFihUIDw/HokWL8Jvf/AZyuRzLli3jP7O3txcfdksYYygrK8PMmTPh6ekpTiaD4JNPPsFjjz2GgwcPipMEsrKyUFJSAolEIk7qk6V3r2+3O6UevxSdTgcAUCgU4qTbSiKRoKSkBFlZWeKkO1ZQUFC/gyW9Xg9fX9+78gkgIYSQ/3fXBgLjxo1DWloatm3bhs2bN8PJyQk+Pj7YsmULtm3bhqSkJDg4OIgPuyU6nQ4nT57EsmXLMHToUHEyGQTnz5/H+fPn0d3dLU4ihBBCCLFqgx4IxMXFwcXFBS4uLoiLixMn3zbc0qGVK1eCMQYAOHHiBBwdHbF8+XJ0dXUBPUt9HBwcUFZWBgCor69HTEwM5HI5ZDIZ3NzckJiYiLa2Nri4uKCyshIzZ84EAJw8eRJPP/00vxxpwYIFaGpqMqiFUH19Pf7whz/wZd9///04fvw4AKC9vR1ZWVnw8vKCTCbDqFGjEBoaiosXL/LHc2v433vvPaxcuZJfO/3ee+9Bp9NhxYoV/Ge7d+/m282ts96yZQuysrL4JVVPP/20oHxTqqqqMGfOHL5O4eHhuHLlCmBwRzE4OBj79+/H+PHjIZPJEBISAp1OJ/hszpw5qK+v58vt7u5GUVER3143NzdkZmais7MTMKhzWloaMjMz+TqvXLkSzc3N/DruxMREAMDixYsh62V/g3iNtXhpmbn9A2q1GosXL0ZdXR08PT2N7sjrdDr4+vry5WRkZAiO5/qor/NwuHZx+bl1373VgxsXpurAlZeRkQG1Wt1rPQzTfX190dDQIEgX55GJ+pt7YpGTk2N0DkvKNiRur2FZ4vaK185z15o7p/iacMyNAcM+MyRuQ05OjuA6cOc0rJ94vMBE/cVjVjxmxO0zRfy0iPue2zsgPpdGo4Gnpyfq6upM/uwYttXU3gPDNjg7O/N9YZhP3A7Da8j18aZNm/jxrtFozI5/QgghN4kNohdffJFJpVLB14svvijOdst0Oh3z8fFhQUFBrKWlhTHGWGNjI1OpVOzRRx9lP/zwA2OMsaSkJCaVSgWf/fGPf2S+vr6svr6eXb58mfn5+TFHR0e2bt06VlBQwJ555hkmlUpZTEwM6+jo4M/5zTffMHd3dxYQEMD27dvH9u3bx0JDQ5lOp+PzGDpz5gxzd3dnjo6OLCYmhhUUFLDo6Gj26aefso6ODhYTE8OkUil75plnWEFBAVu3bh1zdHRkfn5+7PLly4wxxtLT05lUKmVeXl4sMTGRJSUlMUdHR+bk5MQmT57M1qxZw7Zt28acnJyYXC5nX3zxBWOMsZKSEiaVStnEiRPZM888w/Ly8lhUVBSTSqUsICCAff/994LyS0pKGGOM/fOf/2Surq5s2rRprKCggC/7mWeeYS0tLXy/jxkzhj399NNs3759bNq0aUwqlTJ/f3/2xBNPsOzsbLZw4UImlUpZeHg46+zsZDdu3GAZGRlMJpOxNWvWsA8//JCtWrWKyWQytm3bNkGdx40bx5YsWcJycnJYQEAAk0qlbPPmzayzs5MdPXqURUREMKlUyl577TX24Ycfsvr6er7PDUVHR7Po6GjGDMYL186Wlha2ceNGfuyIlZSUMB8fH8G1raysZE5OToLPS0pKmJOTE6usrGTMxHlYTz0Mx6mYYT0ZY2z37t18eabqodPp2KZNm/jvuXoZti0oKEhwXbl6paen88eJ62WqfZWVlWz37t38MeL2ctfMsP7MwrJNMdXe6OhowWdc+wzLj46OFrTXFPG1MRwDXJn97R/uvNxxXDmG/ZGenm6ynN6uDfdzKe5XQ+K+4q6F4bnS09MFecR9wBGPQfF1NldOf8Y+1zeGx3B5zI1/Qggh/TeogYBSqWRSUSCgVCrF2W4Z94+OeIKVlJTEnJycWEVFBf8PT3BwMHNycmLHjx/ngwVugrp582YmlUrZe++9x5fR1tbGQkJCjP7BOnjwIJNKpSwhIYF1dXUxxhjr6upiN27c4PNwOjs7WXh4OHNwcGDFxcXiZPbFF18wuVzOwsLCBMHGzp07BRMLbkLw2muv8efhghuuDYb5cnJyGDOYFISEhLC2tjbGGGM3btxgcXFxTCaTscOHDwuOKykp4evs7+/Prly50lOj/z/f6NGj2fHjx/l+v++++9jFixcZY4x99913zMPDQxCI1NfXM19fXz4Aq6mpYV5eXiwuLo5vB3ctVCoVa2xs5Ots2CfcpGnhwoWsvb3dqM69MZxgVFZWMh8fH4snGOJJFjMxgWMGEz/D6yWevPV2bvHxYqbqISYuw9RklIkmpObq1Nf5xJM98YSR9dLevspmJvKYK0v8uXjSbor4GEPiPjSXV1w/U+c1zKPT6dgTTzxhVI7h2BQHCqbymCKui6lrIb5e4u9ZT1ufeOIJwXUx7A9Tx3DHGfZRX2Pf1LgU9zshhJBbN+hLgwZTYGAgrl+/Dq1Wi7q6Oly6dAmRkZEYM2YMzp8/j9raWly4cAFBQUHo6OjAyZMn4eLigqlTp/Jl2NvbQ6VSob29nd+8CAD+/v4ICAhAZmYmfH198dZbb6GtrQ02NjZ8Hk5TUxPOnTuHSZMmYdq0aeJknDp1Ch0dHVi4cCGGDRvGf/7YY4/B3t4eVVVVgvxTpkzhzyOVSoGezYLcvgVvb2+g57yGVCoVv4HaxsYGKpUKjDGcO3dOkA8AfvzxR1RUVKC6uhoeHh78o/otW7agq6sL//73v/m83t7e/IZOOzs7DBs2DBMnTuQ3VDs4OODee+9FS0sLOjs7UV1djYaGBmRnZ8PBwQEymQzjxo1DZWUlrl69iuvXr/Nl+/n58X2iUCggl8vR1tZ2S3sC/Pz8EBgYCJVKZdGyC3PkcjmUSqX4Y15VVRXy8/P5vpPJZFCpVLh27Zo4K9CzSTUmJgaJiYkml5SYY7gEQ6lU4tixY+Is/JgwRafTwd3dHRMmTBAnGTFcTsMtLTEkl8sFm3v7U3ZfzJU1YcIEuLu7C34+3dzcet0Y3p8xYO68pvR2Xr1ej4sXL0KlUgnGRH5+Pp+nqqoKs2bNMltGf4ivhSV0Oh3Onj0LT09Pvn6GY0qv12P06NF4+OGHxYcKWDr2DcflzY5/Qggh5g1qILBkyRLxRyY/u128vLzg6uqKzz//HFqtFmPGjMGUKVPg4+ODsrIynDlzBsOGDcOkSZPEh/bJ0dERGo0GBQUFUCqVeP3116FSqVBbWyvOis7OTrS0tMDOzu62bTLmAoL++OGHHwAATk5O4iTcuHEDXV1dePTRR6HValFdXS34mj59uvgQAYlEIghqDHH7M9avX29U7pEjRzB27FjxIQMuKysLOp0OtbW1kFm4DvtmJCUlobm5WfDV29tdgoKC0NzcjKioKKO9AKZkZGTA09MTW7duRXNzM3Q6nSCQHUhqtRqzZ8/GgQMH0NzcjOrqari6uoqz/Wr8UmPAkIeHB6qrq43GxJ30hqKpU6dCp9MZ1TE2NlactVf9Hfu4ifFPCCGkd4MaCGzduhVRUVEYOXIkRo4ciaioKGzdulWc7bZxcnLC5MmT8dVXX+G9995DQEAAFAoFnnzySfzv//4vDh48iIkTJ8LV1RUjRoyAl5cX/2YgTmdnJ7788kv+rrbh50OGDEFQUBDKysrw5ptv4ttvv0VpaSmfhzNq1Cj4+vqioqICZ86cESdj4sSJsLGxgUaj4TfLAsC5c+fQ3t6OyZMnC/LfLK1Wy5ff2dmJI0eO4De/+Q3c3d3FWfk6f/311/jxxx+hUCgEX3Z2duJDLDZ+/HiMHj0ax44dw4gRIwTljh07Fra2tuJDbgvuNZEFBQUoLy8f8AmHt7c3SktLjTblWiI2NhbV1dUAgMrKSnEy0LPhsrS0FElJSQgKChIn90tFRQUuXLgg+MzwSZRer0d5eTn27t3b60TOlL7KtpRSqURNTY1RWRcuXEBNTU2vT2fMsXQMDEQbFAoFGhsbzV5PjnjMtLa2mrzBcDuY62NDFy9eNGqDTqcT3O2/lbEPC8c/IYSQvg1qIICeYKChoQENDQ2/aBAAAEOHDsW8efNQXV2Nw4cP83exH3/8cVy8eBEffvih4DF8ZGQknJycEB0djfj4eBQWFiI0NBQff/wxli9fDh8fH77sw4cPY8GCBSgsLERRURHy8vIwZMgQk8sH7OzssHr1anR1dWHevHl82eHh4Th06BAef/xxzJs3D3l5eQgNDUVhYSHi4+Oxdu1aPPTQQ1iwYIG4yJvy0UcfITo6Gu+++y5CQ0Px4Ycf4re//a3Jx/x2dnaIiIjAzz//jPnz5yMtLQ3FxcV4/fXXsWHDBnH2frn//vuxYMECHD9+HMHBwcjNzRX0R3/cc889AIDNmzcjMzMTJ06cEGcxotVqkZOTI/7YLG6CaW6SaM706dNRUVGB7Oxs/jO9Xo/k5GRBPk5rays2bdpkdvIkrodEIoGbm5tgQpqdnW1yaVBvVCoV/P39kZCQwJ9bq9UiNTWVzyOVSuHu7i44V2JiotHSIDFLyrYUt5xn6dKlfB+0trYiISEBgYGB/QpQ+jMGBqoNCoUCgYGBiIuLE4ylnJwc/s04q1atMhozN3NNLWHqmnLLrAzbCgDJycnQ6/Xw8/NDSEiIoA16vd7ojXD9HfuwYPyrB/ivgxNCiDUY9EBgsE2aNAmjR4+Gk5MTfH19AQCenp7w8PDA0KFD8fjjj/N5vby8oNFoMH36dOzatQuRkZGoqqpCWloakpKSBOv/nZ2dUVdXh8jISERGRqK9vR379u0zuyxjxowZ+OSTT+Dn54esrCxERkbi4sWLUCgUsLe3R3Z2NmJjY3H69GlERkZiz549WLp0Kfbv3z9gS2XWrVsHJycnrF69GkeOHIFarcb27dvNLuEJCgpCUVERFAoFkpOTERYWhv379/P9eLOGDh2KlJQUvPLKK7h06RLWrFmD6OhoNDQ09HupyZw5c7Bo0SKcOXMGycnJ/CtT+5KQkMCvXY6Li8Phw4fNrqc2XE/en6UKfn5+OHDgAFJTU/lzTZo0CXPnzhVn5Z04cQJKpZJfg79161b+br+peiQlJaG8vJwvv6WlxewYNEcikaCoqAjoCTZkMhkSEhKwfft2QZ6UlBRBWwICAvq8XpaU3R9ZWVkIDAzk17ArlUrMmjXrppbWWDoGBrIN4vrLZDKcOnWKD2JMjRncpiWVhmvyZT2v7zTVVplMBolEwveNuA0zZszA1q1bIZfL+bJNtaOvsY8+xj8hhJD+s2GWzozIXUuj0WDx4sVISkrq9zpfQohpGo2m1wDCmmi1WixduhTvvvtuv57MEEIIub2s/okAIYTcDsXFxQgMDLT6IAAAysrKLH6zEiGEkF8OBQKEEHILWltboVarBUvCMjIyUFxcjFWrVgnyWoN169YJ/tqvRqNBYmIiYmJiBuS1p4QQQgYOBQKEEHILuMmt4br+1NRUHDhwwCqXwdxzzz2Cv4WwePFiFBQU0Fp+Qgi5A9EeAUIIIYQQQqwQPREghBBCCCHEClEgQAghhBBCiBWiQIAQQgghhBArRIEAIYQQQgghVogCAUIIIYQQQqwQBQKEEEIIIYRYIQoECCGEEEIIsUIUCBBCCCGEEGKFKBAghBBCCCHEClEgQAghhBBCiBWiQIAQQgghhBArRIEAIYQQQgghVogCAUIIIYQQQqwQBQKEEEIIIYRYIQoECCGEEEIIsUIUCBBCCCGEEGKFKBAghBBCCCHEClEgQAghhBBCiBWiQIAQQgghhBArRIHATdLr9fD19UVwcDBaW1vFyYOmtbUVwcHB8PX1hV6vFyeb1d7ejjfeeANyuRwuLi44e/asOMtNuVP7yVIlJSVwdHREWlqaOGnQWNKnmZmZcHBwwAcffCBOuutptVr4+vpCq9WKk8ivHPf7Ta1Wi5MGjVqtvqPqc7uo1epef+f0RfxzqdFo4OzsLPi+v/9u3Yo7cSwRMhju6kBAq9XC2dkZMpmM//Ly8kJWVhba29vF2a3azp07kZ6ejunTp2Pjxo2wt7cXZ7FKNjY2GDZsGEaOHClOuqPZ2trCzs6OriMhhBBCzLqrAwHOuHHjEB4ejuXLl8PW1hbx8fF44403wBgTZzXpzJkzmD59Ov7yl7+Ik+4KjDF8/fXXcHZ2xpYtWxAZGQkPDw9xtgEzEP05EGVYIigoCFeuXMHq1avFSXe01atX48qVKwgKChIn9eqTTz7BY489hoMHD4qTrFJGRsYt3QX9NeGeNGk0GnHSHUMikaCkpARZWVnipDvWr6FfLZGVlYWSkhJIJBJx0k3hfrf6+fmJk34Rv8axRMjtYBWBwJNPPolt27Zhx44dOHbsGCZPnowPPvgAly5dEmc1qb6+HhUVFfj555/FSXeFtrY26HQ6DBs2DHZ2duLkATcQ/TkQZRBj58+fx/nz59Hd3S1OIoQQQshdZtADgbi4OLi4uMDFxQVxcXHi5AHn6OgILy8vNDc3o76+HjNmzMCECRNQU1PD57l06RK8vb3xu9/9DpGRkVi8eDEAIDExETKZDBkZGQYlAuXl5XjkkUcgk8nwyCOP4MyZM3xad3c3PvjgA/j7+/PLk55++mmcPHmSz2O45vuTTz4xW5YpX331FZ566inIZDK4ubkhLy8PN27cEOTp7u5GUVERvLy8+HyZmZno7OyEVqvF+PHjcezYMdTV1cHT05O/A3r27FmEhoZi1KhR/LKq/fv3809SMjIyIJPJBHe6uOVY5tZdqtVqk/3JGMNHH33E99OoUaMQGxuL69evi4swWwZ69jpkZWXxbR01ahRCQ0Nx8eJFUSn/0du5NRqN0TVvbGzEypUrMWrUKIwaNQoxMTFITk4W9AXXN0VFRXjppZf4vG+88QY6Ozv5strb2/H222/Dzc3NZB8zxlBaWopJkyZBJpNh4sSJ+Oyzz/jjzRFfG64daWlpyMzM5JfMrVy5Es3Nzfx62cTERADA4sWLBcfX19cjPDycHwtz5swR9KnhHhOZTIaFCxdiz549Rn3XWzlcHby9vbFp0yY4OzvzY/HkyZN4+umnIev5GVqwYAGampr4ck356aefEBwczB9jOCb1ej2efPJJo30E3Hpvw/44duwYlEplr08GuP4Vn0uj0RgdJ75DzK2dLi8vN1tfGNTN8FyGa6w5XPnm8nBt27RpE3++5ORkeHp6oq6uzujam2ubWF99Kv6eG6Mymcxobbh4WSfXh1zdxb+D1Wq1oKycnBxBmZacEwY/N9yX+C6+uG/N9QVHo9EY9WtxcbHJNhiOC0vHBERtN3etzaVzxOv3ORqDdfvi6yjuC1P92RvDsg2JyzXsJ66eOTk5cHZ2NrrG5q4dd66cnBzIesbT1atXTV6H3vrT3Lgk5NdsUAOBuLg47Nq1Cy0tLWhpacGuXbtuezDQ1dWFtrY22NnZYcyYMZg5cyauXLmCU6dO8Xm+/PJL6HQ6LFu2DM8//zxeeOEFAMCiRYuQm5uL4OBgQd4NGzYgPDwcCxcuRHV1NV544QU0NzeDMYbMzEyEh4fD3t4e27dvx4YNG1BVVYVFixahoqKCL4crKykpCWq12qgsU86fP4+QkBCcPXsWarUar776Kt5++22cOHGCz8PVITIyEv/1X/+F3NxczJs3Dxs2bMDOnTtx7733YseOHZgwYQIcHBywbds2vPLKKxg+fDg+++wzjBgxAtnZ2Xj77bdha2sLtVqNL7/8UlCP/oiKijLZn2VlZVixYgWUSiV2796N1NRUNDU1mbwzba6Mzs5OvPTSS4iPj4e3tzd2796NqKgolJWVYdGiRaitrRUXBQD9Ond7ezvUajWKioowbdo0bNu2DZcvX8aWLVvEWQEACQkJaGtrQ2pqKsaOHYv09HR89NFHAMDXd+PGjYiKisKePXvw4IMPYuXKlfw/Ylzdf/jhB2zYsAErVqzASy+9hLq6OtGZLLNjxw6cOHEC//3f/w0fHx8UFRVh+/btGD58OF555RUsWrQIAPDCCy8gNzcXkyZNQm1tLebOnYvKykpkZGTg7bffxuXLl/Hss8+ivr4ejDG88cYbSE9Ph4+PD9566y3I5XKjn+W+yuE0NDTgiy++QFVVFUpKSnD58mUsWbIELS0t2L59O7Zv3w5bW9te9/lcu3YNoaGhSElJQXNzM6qrq1FeXm5yImUKt2wgKSkJU6dOhU6nM7ssQqvVIi4uDkePHuXP5ebmJs7WK0vrm5+fj+LiYjQ3N6O5uRkvv/wyZs+ezU9WtFotJk2ahKioKD7P3r17oVKpjCa127dv58+3YcMGVFdXw9XVFQUFBWhubkZQUNCAtM2U/Px8AEBzczN0Oh3c3d35IFSv12Pp0qXYu3cvnz5lyhRRCf+hVqtRW1sLnU6H5uZmvPvuu0hISBBn6/Wc6AkCSktL+XKOHj2K8PBwvt/0ej1mzJgh6Ftvb2++XFOCgoKM+jUkJASzZs1CaWmpYBJZWVkJAHj44YcBC8cE9/+G19pwPLz44otwc3Pj01NSUvhjDU2YMAHu7u4oKyvjP2ttbUVmZiaioqKgUCgE+QHg448/xrvvvsuXHRgYiIiIiFuaGNfV1WHp0qU4fPgwfw1SU1MFk/Vr165h//79+Ne//oVvvvkGCoUCWq0WAQEBfF0KCgoQHh4umMTX1dXh1KlTaG5uRklJCUaMGMGncXrrz/6OS0J+NdggUiqVTCqVCr6USqU4202rrKxkTk5OLDo6mjHGWEdHB/uf//kf5uDgwBYtWsTa2trYuXPnmKurK3vuuedYZ2cn6+zsZM899xzz9/dnV65cYYwxVlJSwqRSKUtPT+fL1ul0zMfHh7m6urJz584xxhhraWlhQUFBTKlUsjNnzrCamhrm5eXFpk2bxq5du8YfW1paymQyGXv++efZjRs3+LImTJjAvv32W0FZ48aNY1VVVfyxhpKSkphUKmXvvfce/9m3337LJkyYwHx8fJhOp+PrEBcXx27cuMEYY6yxsZGpVCqmUqlYY2Mjfy7uGE5nZyf//4wxVlBQwKRSKcvJyWGMMZaens6kUikrKSnh84j7nGtbUFAQa2lpYcxMf2ZmZjKpVMr27dvH17Orq4v/fzFTZXzxxRdMLpezsLAw1tHRwX++c+dOo7yGeju3+DzHjx9no0ePZs8//zx/jo6ODhYWFiboC65vNm3axJf58ccfM6lUytatW8eYQX137tzZUxPGvvvuO+bh4cGee+451t7ezp577jkml8vZ559/zuf5/PPPmVwuF/SpmPjacO0w7BvuWi1cuJC1t7ebPI4xxjZv3iwY58xgLBQUFPB1nj17NmtqamKMMXbjxg22adMmQd/1VQ43DkePHs2OHz/O5zl48CCTSqUsISGBdXV1MdbH2ODaZdgG1tMH3BjX6XTsiSeeYJWVlYI80dHR/NhlPf3RWz8zUbliJSUlRsdzPxNc/SypL+upm7gsrs+4PhbXn2P4OXeMOJ+4XsxEHXpjaZ+aaofheSorK5mPj49ROcxEe83lFde7r3NaUndzY0HcPjFT/WrqfNHR0YJ29TUmKisr2RNPPCG4Nob9I+6rvojbJ+7bvtop7nMxcXni/CUlJczJycnoGhjWy1y/iIn73FTZ4v7pqz/F9SfkbjGoTwR+Kfn5+ZDJZJDL5Vi7di28vLywdetW2Nvbw9PTEzNnzsTJkydRV1eHuro6nDx5Ek899RTGjh0rLsrIgw8+iHvvvRfouYvo5uaG7u5udHd3o7q6Gg0NDZg7dy4cHR35Yx544AHcc889uHTpEtra2vjPPTw84OzsLCjr+vXrJu98trW14Z///CdcXFwwdepU/nNnZ2fBRl+uDtnZ2XBwcIBMJsO4ceNQWVmJq1evmlx6w/nhhx/w5ptvYsaMGRg/fjwiIyMBoM8lGTdjzpw5GDduHNasWYNHHnkE+fn56OjogI2NjTirWadOnUJHRwcWLlyIYcOG8Z8/9thjsLe3R1VVlSA/pz/nPn/+PLq6uhAUFMSfY9iwYWY3vPn7+/PluLi4wN7eHs09T3i4+sbHx/OPmh966CFcuXIF165dg16vx1dffQV/f3889NBDfJnjx4+Hk5MT/31/+Pn58fVWKBSQy+Voa2sz+fQDPePs5MmTaGpqwuOPP87XkxsL9fX1+O677/D9999j5syZkMlkQM/blvz9/ftVDkehUOC+++7jv/f390dAQAAyMzPh6+uLt956C21tbSavD0cul0OpVAo+474XL0W4VSqVCu7u7vD09DRaZmApS+vr5uYmeCrB/Z6oqqpCa2sramtrERISwqdzQkJCUFtbK7hb6+3tLchjykC0zRRxOwz5+fkhMDAQKpXK6ImIGHdnf8KECeIkI72dU6/X4+LFi1CpVPzYlMlkgrv9VVVVmDVrltky+kOhUOCBBx7g78Dr9Xp8/fXXmD59Op+nrzGh0+lw9uxZeHp68vVVKpU4duwY0DM2YmJikJiYaHIJjtiSJUvQ1NSECxcuAD1PIwMDA83+boNoKRW3XPNWyOVyo6cP3t7eqKmpwU8//cTnEfcLRMt2uOVYhkyVbaiv/uzPuCTk12RQA4ElS5aIPzL52a3i3hq0ceNGaDQaHDt2jH+8PXToUCxbtgzff/89Tp06hVOnTqGxsRG///3ve51oDDbGGLq6ujBkyBDY2tqKk3ldXV0AgPXr16O6ulrwdeTIEbPBTn19PebOnYvdu3fj97//Pfbt23db367g4eGBU6dO4a9//Su6urqg7tkHwE2ab6f+nJsLggwDDfTsw+gvbq9AVlaW0bV55513MHz4cHR1dcHW1nbQxiI3zpRKJT7//HOjekZHR+P69etgjBmNQ8O9EJaUY46joyM0Gg0KCgqgVCrx+uuvQ6VSmV3q9UvjlhFVV1dj165dkJnYR/RrNVhty8rKgk6nQ21tLWRm1sYPNA8PD1RXV/PLQriv2/V7LyQkhF8eVFlZiQceeKDXSbcp3LI1cZ1jY2OBnqVJzc3NiIqKgqenZ68BgWFw0traitLSUpNBJQzW8RsupSooKBBn+8Wo1WrMnj0bBw4cQHPPMipXV1dxtj711Z+DMS4Jud0GNRDYunUroqKiMHLkSIwcORJRUVHYunWrONst494a9MILL+DJJ580msQ9/PDD8PLywocffoi8vDwEBgbiwQcfFOS5GePGjcPo0aPx6aefCiaV1dXV/C9SU+sULSGRSDB+/HjU19fj66+/5j+/dOmS4I+BjR8/HqNHj8axY8cwYsQIKBQK/mvs2LFGkzfOmTNnUF1djdWrV+P5559HYGCg0T8g999/P9Czt4Fz+fLlXp8ymNPR0QF7e3ssW7YMp0+fRkREBI4cOWK0j6I3EydOhI2NDTQajWASeu7cObS3t2Py5MmC/Jz+nNvLywsAcOjQIX5Db3NzMz799FNRzr75+fnBxsYGR48e5e9WcV+Ojo5wcHCAh4cHzp49K3jD1ddffy24g347SSQSTJw4EXq9HtXV1YI6KhQKSCQSKJVK2Nvb4+jRo/zTq87OTsGadEvKMaezsxNDhgxBUFAQysrK8Oabb+Lbb79FaWmpOGuvysrKBHePGxsbodPp+HTujvrNUigU+Oabb5CUlCRY/214NxM9k6hr164ZHGmauL6m6PV6lJeXIyQkhH86UFxcLM6G4uLiXu+I98Vc28QGsk+5IKSgoADl5eVGv384FRUV/F1sjrmnf+YoFAo0Njby6/TNEbf9VtqnUqng4OCACxcuoLi42Oyk25DhmFAqlaipqTFquymxsbGorq4GDPYimMIFJ6dPn0ZTUxO/X0GMK2PPnj03PaYsVVxcjMDAQCjM3M3nfgb27t3b70DKkKX9aem4JOTXYlADAfQEAw0NDWhoaLgtQYAl5HI5QkJCUFJSgrKyMsyZM0fwh5hGjRqFoUOHYteuXdixYwfef/99wfHmeHp6YtmyZTh+/DiCg4ORm5uLtLQ0LFmyBHK5HFFRUbd0p3fBggWwsbHBsmXLkJqaip07d2L58uUYMuQ/l/X+++/HggULBHUoLCxEeHg4Dh06JCjPkJ2dHWxsbJCXl4f8/Hxs3LgRu3fvFuTx8PCAg4MDduzYgdTUVKSmpmLVqlV9/n0GU/2ZlZUFtVqN999/H7m5uTh48CDGjBlj9q6OqTIef/xxzJs3D3l5eQgNDUVhYSHi4+Oxdu1aPPTQQ1iwYIG4GKDnLo+l53700Ufh4+OD7OxsREREYM+ePZg7d67RY2hLBAQE4KmnnhLUNzc3F8uXL8fZs2cxYsQIzJ8/H01NTZg/fz527tyJ1NRUxMfHGwWzA+Wee+4BAGzevBmZmZk4ceIEnnvuOchkMkRHRyM+Ph7FxcXYsmUL1qxZg9bWVnh5eWHatGk4dOgQv3k7NDRUsGkdQJ/lmHP48GEsWLAAhYWFKCoqQl5eHoYMGdLrBPnatWtYunQp/4+0VqtFamoqv7RDoVAgMDAQmZmZ/Lmzs7P5ZQAc8bIEUzQajdFGXA43keKWmLS2tiIhIcFouV9f9eXk5+cL7shzm12586xatQrFxcWCPBqNBsXFxVi1ahX/mSlSqRTu7u6CSXRvbROztE/7otVqkZOTI/7YJJVKBX9/fyQkJPDn5PquP7i6x8XFCSZ2OTk5/IbTVatWoaKiAtnZ2Xy6Je0z1a/omVAGBATgnXfeQW1trdGku68xwW3wNWw7ACQnJ0Ov16O1tRWbNm3q9WdLjAtO/vKXvyA0NNTs5Fu8bE2v1xu9HOBm1NXVCTYcazQa5Ofn9xokmerfxMTEfv9O7qs/exuX+p4be7/E0zJCBtqgBwJ3ipCQEMhkMri4uGDOnDmCtEceeQRr165FQ0MDXn31VXR0dAjSzbGxsUFSUhL+/Oc/4+rVq1izZg1SUlIwZcoUaDQa/u7yzZo+fTpycnIgkUiQkpKC3bt3Y/PmzZg4cSKfZ+jQoUhJScErr7yCS5cuYc2aNYiOjkZDQ4PJiS5n6tSpeO211/Ddd99BrVbj0qVLeO211wR5uDfEcOcvLS1FRkZGn3/N1lR/3nfffThy5AgiIiLwpz/9CUqlEnl5eWYne6bKsLe3R3Z2NmJjY3H69GlERkZiz549WLp0Kfbv3292GVR/zj127Fjk5eXh0Ucfxf79+/k37YSFhYmz9kkikWDv3r2IiIjAsWPHEBkZidjYWNy4cYOva1hYGDZv3ozm5masX78epaWl2LZt203vEejLnDlzsGjRIpw5cwbJyclgjGHSpEn4xz/+AT8/P2RlZSEsLAx//etfce+992L48OGwt7dHZmYmfve73+Ho0aNYu3YtvL298eqrrwrK7qscc5ydnVFXV4fIyEhERkaivb0d+/btE+yNEePeWsS9dlWlUuHll1/mH/EDQFJSEmpqaqBUKiHr2dsgXppouEa+t1cFcq+GlMlkKC0tRVFRER9wbN26lX/N7fjx4xETE2P0s2dJfdFTv6qqKv5c5eXlOHz4MD9h8/Pzw4EDB5CamsrniYuLw1dffdXn3VKJwZpymcHrF821zRRL+tQSCQkJgvobttGQRCJBUVER0DM5lclkSEhIwPbt28VZ+5SVlYXAwEDBGvFTp07x/Waqb2FB+8z1K3p+h//tb3/DrFmzjNrX15gw1XaZTMaPOwA4ceIEn+bp6YmtW7f2+kcGueDk8OHDgv0KYn5+foiKiuL3VMyYMWNAAgFXV1csXLiQr/PixYtRUFDQZ51TUlIE1yUgIMDoZ6wvlvSnpeOSkF8V8e5ha8W9Pcjw7TqEWOqPf/yj0VsprB33Nqa+3vBh7Sx9G0lfb20h/yF+I82dyty1N/c5IYQMNHoi0OPAgQP8HyC6leU6xPr861//wsGDB+Hm5gYXFxdxslX68ccf8f7778PBwYF/qxYhv5S+1pXfKSzZB0IIIbeT1QcC+fn5ePHFF5GcnIwlS5YgMDBQnIUQXmtrK6KiorB+/Xq8//77eP311/mN1CtWrLhtS3budC+//DKef/55FBYWYsuWLZg6dSpOnz6N0NBQeHp6irMTMiBaW1uhVqsF6/ozMjIs2hMx2PR6PXbt2oWYmBizS60IIeR2s/pA4LPPPsPu3bsREhKCN99887ZtwiR3B1tbWygUCuTm5iIiIgJvvfUWXF1dsXfvXqxevVqc3Wq4ubmhtLQUkZGR2LhxI2xsbPDnP/8ZKSkpGDp0qDg7IQOCm0AbrutPTU3FgQMH+twTMZjUajU8PT0RFRXV6/p3Qgi53WxYX694IYQQQgghhNx1rP6JACGEEEIIIdaIAgFCCCGEEEKsEAUChBBCCCGEWCEKBAghhBBCCLFCFAgQQgghhBBihSgQIIQQQgghxApRIEAIIYQQQogVokCAEEIIIYQQK0SBACGEEEIIIVaIAgFCCCGEEEKsEAUChBBCCCGEWCEKBAghhBBCCLFCNowxJv6QEEIIYYzh+vXr+Pnnn9HZ2Ynu7m7cuHEDADBkyBDY2tpi2LBhGD58OOzs7GBjYyMughBCyB2MAgFCCCECnZ2daG1tRVtbG2xtbTFixAgMHz4ctra2sLW1RXd3NwCgu7sbXV1daG9vx88//4wRI0ZAIpFg2LBh4iIJIYTcgSgQIIQQwmtubkZLSwukUimkUqk42azu7m60tbXhp59+wsiRIyGTycRZCCGE3GEoECCEEILOzk78+9//xpAhQyCXy8XJFuMCguvXr2PUqFH0dIAQQu5gFAgQQoiV6+jowI8//giJRNKvpwC9+emnn9Da2gpHR0f85je/EScTQgi5A/wfq4DbGnsD4Y4AAAAASUVORK5CYII=)"
   ]
  },
  {
   "cell_type": "markdown",
   "metadata": {
    "id": "QvkEOIkoVALH"
   },
   "source": [
    "## Identity Operators (is, is not)\n",
    "\n",
    "Identity operators are used to compare the memory addresses of two objects to determine if they are the same object. They differ from comparison operators because they compare the identities of the objects themselves, rather than their values. The identity operators in Python are as follows:\n",
    "\n",
    "\n",
    "\n",
    "* Check if two objects refer to the same memory location: is\n",
    "* Check if two objects do not refer to the same memory location: is not\n",
    "\n",
    "\n",
    "Identity operators are used to check if the memory addresses of two objects, i.e. if the two objects reference the same location in memory. The\n",
    "two identity operators are is and is not."
   ]
  },
  {
   "cell_type": "code",
   "execution_count": null,
   "metadata": {
    "colab": {
     "base_uri": "https://localhost:8080/"
    },
    "id": "nPmejBDdTfyr",
    "outputId": "d0f8cfe6-559b-4fda-d114-b878db225421"
   },
   "outputs": [
    {
     "name": "stdout",
     "output_type": "stream",
     "text": [
      "True\n",
      "False\n"
     ]
    }
   ],
   "source": [
    "a = 'Hello world!'\n",
    "b = a\n",
    "c = 'Hello world!'\n",
    "print(a is b) # True\n",
    "print(a is c) # False , because while the value is same for A & C \"Hello world!\" memory addresss is not same"
   ]
  },
  {
   "cell_type": "markdown",
   "metadata": {
    "id": "MzjShvmBaJO8"
   },
   "source": [
    "Here, a and b are the same thing owing to their definition. While the value stored in c might be the same as that in a, it is not defined to point\n",
    "to the same memory address.\n",
    "\n",
    "We can  **check the memory address by using the id() function.**"
   ]
  },
  {
   "cell_type": "code",
   "execution_count": null,
   "metadata": {
    "colab": {
     "base_uri": "https://localhost:8080/"
    },
    "id": "T6CP_ICHZ7IM",
    "outputId": "9a4a00b0-7f96-4dce-bd43-3c2406e1d29e"
   },
   "outputs": [
    {
     "name": "stdout",
     "output_type": "stream",
     "text": [
      "132690839922352\n",
      "132690839922352\n",
      "132690839917424\n"
     ]
    }
   ],
   "source": [
    "print (id(a))\n",
    "print(id (b))\n",
    "print(id(c))"
   ]
  },
  {
   "cell_type": "markdown",
   "metadata": {
    "id": "b-NnE450ae5O"
   },
   "source": [
    "We've thus verified that a and b point to the same memory address, while c does not.\n",
    "\n",
    "The is not operator operates similarly, but in reverse:"
   ]
  },
  {
   "cell_type": "code",
   "execution_count": null,
   "metadata": {
    "colab": {
     "base_uri": "https://localhost:8080/"
    },
    "id": "ncYgntouaP9_",
    "outputId": "c33c43c3-5ba4-4da9-f7ec-1e97379b1ada"
   },
   "outputs": [
    {
     "name": "stdout",
     "output_type": "stream",
     "text": [
      "False\n",
      "True\n"
     ]
    }
   ],
   "source": [
    "print(a is not b)\n",
    "print (a is not c)"
   ]
  },
  {
   "cell_type": "markdown",
   "metadata": {
    "id": "UlaZY1QFa2jK"
   },
   "source": [
    "The difference between is and == is that the former compares the location in memory, while the latter compares the values. Therefore,\n",
    "\n",
    "\n"
   ]
  },
  {
   "cell_type": "code",
   "execution_count": null,
   "metadata": {
    "colab": {
     "base_uri": "https://localhost:8080/"
    },
    "id": "wRM3DkSxaj4-",
    "outputId": "8742828b-a859-4a3c-c9e3-4a5cb55d1758"
   },
   "outputs": [
    {
     "name": "stdout",
     "output_type": "stream",
     "text": [
      "True\n",
      "True\n",
      "False\n",
      "True\n"
     ]
    }
   ],
   "source": [
    "print(a is b) #True\n",
    "print(a == b) #True\n",
    "print(a is c) #False\n",
    "print(a == c) #True"
   ]
  },
  {
   "cell_type": "code",
   "execution_count": null,
   "metadata": {
    "id": "tY8eefBia575"
   },
   "outputs": [],
   "source": []
  },
  {
   "cell_type": "markdown",
   "metadata": {
    "id": "16_mA4wKq4oE"
   },
   "source": [
    "# Control Structures"
   ]
  },
  {
   "cell_type": "markdown",
   "metadata": {
    "id": "ZXO7D5D8rOZQ"
   },
   "source": [
    "## Conditional Statements"
   ]
  },
  {
   "cell_type": "markdown",
   "metadata": {
    "id": "0g0Xjwbr1gZU"
   },
   "source": [
    "**Lift Problem**\n",
    "\n",
    "↓Let's implement the logic for a simple two-elevator system (let's call them Lift A and Lift B). The idea is to choose the right lift depending on the floor from which they are being hailed.\n",
    "\n",
    "\n",
    "Let's define our variables here:\n",
    "* The calling floor\n",
    "* The floor in which Lift A is at rest or the floor to which it is moving\n",
    "* The floor in which Lift B is at rest or the floor to which it is moving\n",
    "\n"
   ]
  },
  {
   "cell_type": "code",
   "execution_count": 1,
   "metadata": {
    "colab": {
     "base_uri": "https://localhost:8080/"
    },
    "id": "-1xBzUwxrAmY",
    "outputId": "51e1d85d-ae99-433a-b198-b65e9e170901"
   },
   "outputs": [
    {
     "name": "stdout",
     "output_type": "stream",
     "text": [
      "Lift B is choosen\n"
     ]
    }
   ],
   "source": [
    "#Calling floor\n",
    "calling_floor = 2\n",
    "lift_A = 23\n",
    "lift_B = 7\n",
    "\n",
    "#Logic for choosing the right lift for calling floor  - find the distance of each lift from calling floor and choose the least\n",
    "\n",
    "dist_a = abs(lift_A - calling_floor)\n",
    "dist_b = abs(lift_B - calling_floor)\n",
    "\n",
    "if dist_a < dist_b: print(\"Lift A is choosen\")\n",
    "else: print(\"Lift B is choosen\")"
   ]
  },
  {
   "cell_type": "markdown",
   "metadata": {
    "id": "VxYDxjoP62Fv"
   },
   "source": [
    "__Let's improve the code to handle two calling floors.__\n",
    "\n",
    "Let's define our variables here:\n",
    "* The calling floors, say X and Y\n",
    "* The floor in which Lift A is at rest or the floor to which it is moving\n",
    "* The floor in which Lift B is at rest or the floor to which it is moving"
   ]
  },
  {
   "cell_type": "code",
   "execution_count": 2,
   "metadata": {
    "colab": {
     "base_uri": "https://localhost:8080/"
    },
    "id": "cKiTMczH1t6c",
    "outputId": "725f535d-8afa-4b60-9729-b03631e18e10"
   },
   "outputs": [
    {
     "name": "stdout",
     "output_type": "stream",
     "text": [
      "Lift a will go to y and b will go to x\n"
     ]
    }
   ],
   "source": [
    "#Calling floor\n",
    "calling_floor_x = 2\n",
    "calling_floor_y = 2\n",
    "\n",
    "lift_A = 23\n",
    "lift_B = 7\n",
    "\n",
    "dist_a_x = abs(lift_A - calling_floor_x)\n",
    "dist_a_y = abs(lift_A - calling_floor_y)\n",
    "dist_b_x = abs(lift_B - calling_floor_x)\n",
    "dist_b_y = abs(lift_B - calling_floor_y)\n",
    "\n",
    "dist_ax_by = dist_a_x+dist_b_y\n",
    "dist_bx_ay = dist_a_y+dist_b_x\n",
    "\n",
    "if dist_ax_by < dist_bx_ay: print(\"Lift a will go to x and lift b will go to y\")\n",
    "else: print(\"Lift a will go to y and b will go to x\")"
   ]
  },
  {
   "cell_type": "markdown",
   "metadata": {
    "id": "CiWph6GB7qOl"
   },
   "source": [
    "Let's take another example. This time, let's consider the logic for the discount amount at a store.\n",
    "\n",
    "Suppose the conditions are as follows:\n",
    "* If you buy for less than INR 2500, then no discount\n",
    "* If you buy for INR 2500 or more, then 5% discount\n",
    "* If you buy for INR 5000 or more, then 10% discount\n",
    "\n",
    "The only variable here is the buying amount"
   ]
  },
  {
   "cell_type": "code",
   "execution_count": 4,
   "metadata": {
    "colab": {
     "base_uri": "https://localhost:8080/"
    },
    "id": "Jb7V0MzL7MAS",
    "outputId": "4a633e4a-bd7b-45cb-d577-9ee06a103348"
   },
   "outputs": [
    {
     "name": "stdout",
     "output_type": "stream",
     "text": [
      "5% discount\n"
     ]
    }
   ],
   "source": [
    "amount = 2788\n",
    "if amount < 2500: print('no discount')\n",
    "else:\n",
    "    if amount < 5000: print('5% discount')\n",
    "    else: print('10% discount')"
   ]
  },
  {
   "cell_type": "markdown",
   "metadata": {
    "id": "t63_7hmh86_P"
   },
   "source": [
    "We can do this using logical operators as well"
   ]
  },
  {
   "cell_type": "code",
   "execution_count": 5,
   "metadata": {
    "colab": {
     "base_uri": "https://localhost:8080/"
    },
    "id": "O2eEXTp88wGc",
    "outputId": "6eb6d2db-61a4-41bf-c674-4b3e2d5d6c33"
   },
   "outputs": [
    {
     "name": "stdout",
     "output_type": "stream",
     "text": [
      "5% discount\n"
     ]
    }
   ],
   "source": [
    "amount = 2788\n",
    "if amount < 2500: print('no discount')\n",
    "elif amount >= 2500 and amount < 5000: print('5% discount')\n",
    "else: print('10% discount')"
   ]
  },
  {
   "cell_type": "markdown",
   "metadata": {
    "id": "OVS9QFx8AKFQ"
   },
   "source": [
    "## MATCH-CASE statements.\n",
    "\n",
    "\n",
    "MATCH-CASE statements may be used to perform pattern-matching, which is another way to implement decision-making in your code. MATCH-CASE statements were introduced in Python 3.10, and they come with several features.\n",
    "\n",
    "\n",
    "![image.png](data:image/png;base64,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)"
   ]
  },
  {
   "cell_type": "code",
   "execution_count": 6,
   "metadata": {
    "colab": {
     "base_uri": "https://localhost:8080/"
    },
    "id": "5hFs7veq8-Xx",
    "outputId": "b86ef510-0c05-47fe-a518-cbfe239be831"
   },
   "outputs": [
    {
     "name": "stdout",
     "output_type": "stream",
     "text": [
      "Ten\n"
     ]
    }
   ],
   "source": [
    "x = 10\n",
    "\n",
    "match x:\n",
    "    case 1:\n",
    "        print(\"One\")\n",
    "    case 10:\n",
    "        print(\"Ten\")\n",
    "    case _:\n",
    "        print(\"Other\")\n"
   ]
  },
  {
   "cell_type": "code",
   "execution_count": 7,
   "metadata": {
    "colab": {
     "base_uri": "https://localhost:8080/"
    },
    "id": "dTEFoE1eBBnV",
    "outputId": "f3da0f66-5b91-4114-f27f-7fed479c3324"
   },
   "outputs": [
    {
     "name": "stdout",
     "output_type": "stream",
     "text": [
      "On Y-axis at 1\n"
     ]
    }
   ],
   "source": [
    "#Eg. Pattern maching capability\n",
    "\n",
    "\n",
    "point = (0, 1)\n",
    "\n",
    "match point:\n",
    "    case (0, 0):\n",
    "        print(\"Origin\")\n",
    "    case (0, y):\n",
    "        print(f\"On Y-axis at {y}\")\n",
    "    case (x, 0):\n",
    "        print(f\"On X-axis at {x}\")\n",
    "    case (x, y):\n",
    "        print(f\"Point at ({x}, {y})\")\n"
   ]
  },
  {
   "cell_type": "markdown",
   "metadata": {
    "id": "GU1Fu349BT1U"
   },
   "source": [
    "# Loop"
   ]
  },
  {
   "cell_type": "markdown",
   "metadata": {},
   "source": [
    "## For Loop"
   ]
  },
  {
   "cell_type": "code",
   "execution_count": 5,
   "metadata": {},
   "outputs": [
    {
     "name": "stdout",
     "output_type": "stream",
     "text": [
      "3\n"
     ]
    }
   ],
   "source": [
    " d ={'Name':'Steve', 'Age':30, 'Designation':'Programmer'}\n",
    "length = sum(1 for i in d)\n",
    "print(length)"
   ]
  },
  {
   "cell_type": "markdown",
   "metadata": {},
   "source": [
    "### For loop with list "
   ]
  },
  {
   "cell_type": "code",
   "execution_count": 8,
   "metadata": {},
   "outputs": [
    {
     "name": "stdout",
     "output_type": "stream",
     "text": [
      "1\n",
      "2\n",
      "3\n",
      "4\n",
      "5\n",
      "6\n"
     ]
    }
   ],
   "source": [
    "mylist = [1,2,3,4,5,6,]\n",
    "for item in mylist:\n",
    "    print(item)"
   ]
  },
  {
   "cell_type": "markdown",
   "metadata": {},
   "source": [
    "### For loop with dictonary"
   ]
  },
  {
   "cell_type": "code",
   "execution_count": 7,
   "metadata": {},
   "outputs": [
    {
     "name": "stdout",
     "output_type": "stream",
     "text": [
      "person1\n",
      "person2\n",
      "person3\n"
     ]
    }
   ],
   "source": [
    "d = {\n",
    "    \"person1\": {\"name\": \"John\", \"age\": 25},\n",
    "    \"person2\": {\"name\": \"Alice\", \"age\": 30},\n",
    "    \"person3\": {\"name\": \"Bob\", \"age\": 22}\n",
    "}\n",
    "\n",
    "for key in d:\n",
    "    print(key)"
   ]
  },
  {
   "cell_type": "code",
   "execution_count": 14,
   "metadata": {},
   "outputs": [
    {
     "name": "stdout",
     "output_type": "stream",
     "text": [
      "person1 -> {'name': 'John', 'age': 25}\n",
      "person2 -> {'name': 'Alice', 'age': 30}\n",
      "person3 -> {'name': 'Bob', 'age': 22}\n"
     ]
    }
   ],
   "source": [
    "#If You Want to Print Key-Value Pairs:\n",
    "#Modify the loop to print both keys and values:\n",
    "\n",
    "for key, value in d.items():\n",
    "    print(f\"{key} -> {value}\")"
   ]
  },
  {
   "cell_type": "code",
   "execution_count": 15,
   "metadata": {},
   "outputs": [
    {
     "name": "stdout",
     "output_type": "stream",
     "text": [
      "person1 -> John\n",
      "person2 -> Alice\n",
      "person3 -> Bob\n"
     ]
    }
   ],
   "source": [
    "for key, value in d.items():\n",
    "    print(f\"{key} -> {value['name']}\")"
   ]
  },
  {
   "cell_type": "code",
   "execution_count": 18,
   "metadata": {},
   "outputs": [
    {
     "data": {
      "text/plain": [
       "dict_items([('person1', {'name': 'John', 'age': 25}), ('person2', {'name': 'Alice', 'age': 30}), ('person3', {'name': 'Bob', 'age': 22})])"
      ]
     },
     "execution_count": 18,
     "metadata": {},
     "output_type": "execute_result"
    }
   ],
   "source": [
    "#In Python, .items() is a dictionary method that returns a view object containing key-value pairs as tuples.\n",
    "d.items() #returns "
   ]
  },
  {
   "cell_type": "code",
   "execution_count": 25,
   "metadata": {},
   "outputs": [
    {
     "name": "stdout",
     "output_type": "stream",
     "text": [
      "{'person1': 'JOHN\\n', 'person2': 'ALICE\\n', 'person3': 'BOB\\n'}\n"
     ]
    }
   ],
   "source": [
    "##interesting way to process items in dictonary with for loop\n",
    "\n",
    "processed_data = {k:v['name'].upper() + \"\\n\" for k,v in d.items()}\n",
    "print(processed_data)"
   ]
  },
  {
   "cell_type": "markdown",
   "metadata": {},
   "source": [
    "### Use of pass , continue, break in for loop "
   ]
  },
  {
   "cell_type": "code",
   "execution_count": 3,
   "metadata": {},
   "outputs": [],
   "source": [
    "# pass \n",
    "\n",
    "animalLookup = {\n",
    "    'a':['aardvak','antelopwe'],\n",
    "    'b':['bear'],\n",
    "    'c':['cat'],\n",
    "    'd':['dog'],\n",
    "}\n",
    "for letter,animal in animalLookup.items():\n",
    "    pass"
   ]
  },
  {
   "cell_type": "code",
   "execution_count": 15,
   "metadata": {},
   "outputs": [
    {
     "name": "stdout",
     "output_type": "stream",
     "text": [
      "Only one animal ['bear']\n",
      "Only one animal ['cat']\n",
      "Only one animal ['dog']\n"
     ]
    }
   ],
   "source": [
    "#continue / pass\n",
    "for letter,animal in animalLookup.items():\n",
    "    if len(animal) > 1:\n",
    "        continue\n",
    "    print(f\"Only one animal {animal}\")    \n",
    "        "
   ]
  },
  {
   "cell_type": "code",
   "execution_count": 16,
   "metadata": {},
   "outputs": [
    {
     "name": "stdout",
     "output_type": "stream",
     "text": [
      "found 2 animals ['aardvak', 'antelopwe']\n"
     ]
    }
   ],
   "source": [
    "#break\n",
    "for letter,animal in animalLookup.items():\n",
    "    if len(animal) > 1:\n",
    "        print(f\"found {len(animal)} animals {animal}\")\n",
    "        break"
   ]
  },
  {
   "cell_type": "markdown",
   "metadata": {},
   "source": [
    "### For / Else"
   ]
  },
  {
   "cell_type": "code",
   "execution_count": 17,
   "metadata": {},
   "outputs": [
    {
     "name": "stdout",
     "output_type": "stream",
     "text": [
      "2 is prime\n",
      "3 is prime\n",
      "5 is prime\n",
      "7 is prime\n",
      "11 is prime\n",
      "13 is prime\n",
      "17 is prime\n",
      "19 is prime\n",
      "23 is prime\n",
      "29 is prime\n",
      "31 is prime\n",
      "37 is prime\n",
      "41 is prime\n",
      "43 is prime\n",
      "47 is prime\n",
      "53 is prime\n",
      "59 is prime\n",
      "61 is prime\n",
      "67 is prime\n",
      "71 is prime\n",
      "73 is prime\n",
      "79 is prime\n",
      "83 is prime\n",
      "89 is prime\n",
      "97 is prime\n"
     ]
    }
   ],
   "source": [
    "for number in range(2,100):\n",
    "    for factor in range(2, int(number**0.5) + 1):\n",
    "        if number % factor == 0:\n",
    "            break\n",
    "    else: #this else is not for if statement it is against the for statement\n",
    "        print(f\"{number} is prime\")"
   ]
  },
  {
   "cell_type": "markdown",
   "metadata": {},
   "source": [
    "## While Loop"
   ]
  },
  {
   "cell_type": "code",
   "execution_count": 3,
   "metadata": {},
   "outputs": [],
   "source": [
    "from datetime import datetime\n",
    "import time\n",
    "\n",
    "while True:\n",
    "    if datetime.now().second <= 10:\n",
    "        print(datetime.now().second)\n",
    "        time.sleep(1)\n",
    "    else:\n",
    "        break"
   ]
  },
  {
   "cell_type": "markdown",
   "metadata": {},
   "source": [
    "### Garage problem\n",
    "Imagine you own a parking garage, where drivers can park their cars for a fee that is charged per hour. They can leave the garage whenever they want and are also warned about getting their car impounded in case their balance runs out, in which case they get the choice to top up their balance.\n"
   ]
  },
  {
   "cell_type": "code",
   "execution_count": 4,
   "metadata": {},
   "outputs": [
    {
     "name": "stdin",
     "output_type": "stream",
     "text": [
      "Please enter your balance in rupees:  300\n"
     ]
    },
    {
     "name": "stdout",
     "output_type": "stream",
     "text": [
      "Welcome to the upGrad parking garage! You will be billed *100 per hour.\n",
      "\n",
      "Hour 1 completed.\n",
      "100 rupees deducted.\n",
      "Remaining balance: 200\n"
     ]
    },
    {
     "name": "stdin",
     "output_type": "stream",
     "text": [
      "Do you want to stay parked for another hour? (yes/no):  yes\n"
     ]
    },
    {
     "name": "stdout",
     "output_type": "stream",
     "text": [
      "\n",
      "Hour 2 completed.\n",
      "100 rupees deducted.\n",
      "Remaining balance: 100\n"
     ]
    },
    {
     "name": "stdin",
     "output_type": "stream",
     "text": [
      "Do you want to stay parked for another hour? (yes/no):  yes\n"
     ]
    },
    {
     "name": "stdout",
     "output_type": "stream",
     "text": [
      "\n",
      "Hour 3 completed.\n",
      "100 rupees deducted.\n",
      "Remaining balance: 0\n",
      "\n",
      "Warning: Insufficient funds for another hour. Would you like to add to your balance?\n"
     ]
    },
    {
     "name": "stdin",
     "output_type": "stream",
     "text": [
      "Enter \"yes\" to add or \"no\" to exit:  yes\n",
      "Please enter the amount to add in rupees:  500\n"
     ]
    },
    {
     "name": "stdout",
     "output_type": "stream",
     "text": [
      "Balance added successfully. New balance: 500\n"
     ]
    },
    {
     "name": "stdin",
     "output_type": "stream",
     "text": [
      "Do you want to stay parked for another hour? (yes/no):  yes\n"
     ]
    },
    {
     "name": "stdout",
     "output_type": "stream",
     "text": [
      "\n",
      "Hour 4 completed.\n",
      "100 rupees deducted.\n",
      "Remaining balance: 400\n"
     ]
    },
    {
     "name": "stdin",
     "output_type": "stream",
     "text": [
      "Do you want to stay parked for another hour? (yes/no):  no\n"
     ]
    },
    {
     "name": "stdout",
     "output_type": "stream",
     "text": [
      "\n",
      "You have chosen to leave the garage.\n",
      "\n",
      "Parking session ended.\n",
      "Total hours parked: 4\n",
      "Remaining balance: 400\n",
      "Thank you for using the upGrad parking garage!\n"
     ]
    }
   ],
   "source": [
    "balance = int(input('Please enter your balance in rupees: '))\n",
    "hourly_rate = 100 # hourly parking fee in rupees\n",
    "hours_parked = 0 # to track the total hours parked\n",
    "\n",
    "print('Welcome to the upGrad parking garage! You will be billed *100 per hour.')\n",
    "\n",
    "# Loop runs as long as the driver has enough balance and decides to stay\n",
    "while balance >= hourly_rate:\n",
    "# Deduct the hourly rate from the balance\n",
    "    balance -= hourly_rate\n",
    "    hours_parked += 1\n",
    "    \n",
    "    print()\n",
    "    print('Hour', hours_parked, 'completed.')\n",
    "    print('100 rupees deducted.')\n",
    "    print('Remaining balance: ' + str(balance))\n",
    "   \n",
    "    # Check if there's enough balance for another hour\n",
    "    if balance < hourly_rate:\n",
    "        print()\n",
    "        print('Warning: Insufficient funds for another hour. Would you like to add to your balance?')\n",
    "        add_balance = input('Enter \"yes\" to add or \"no\" to exit: ')\n",
    "        if add_balance == 'yes':\n",
    "            balance += int(input('Please enter the amount to add in rupees: '))\n",
    "            print('Balance added successfully. New balance:', balance)\n",
    "        else:\n",
    "            print('You need to exit the garage or risk your vehicle being impounded.')\n",
    "            break\n",
    "    # Ask the driver if they want to stay for another hour\n",
    "    stay = input('Do you want to stay parked for another hour? (yes/no): ')\n",
    "    if stay != 'yes':\n",
    "        print()\n",
    "        print('You have chosen to leave the garage.')\n",
    "        break\n",
    "        \n",
    "# Final summary after the loop ends\n",
    "print()\n",
    "print('Parking session ended.')\n",
    "print('Total hours parked:', hours_parked)\n",
    "print('Remaining balance: ' + str(balance))\n",
    "print('Thank you for using the upGrad parking garage!')"
   ]
  },
  {
   "cell_type": "code",
   "execution_count": null,
   "metadata": {},
   "outputs": [],
   "source": []
  }
 ],
 "metadata": {
  "colab": {
   "provenance": [],
   "toc_visible": true
  },
  "kernelspec": {
   "display_name": "Python 3 (ipykernel)",
   "language": "python",
   "name": "python3"
  },
  "language_info": {
   "codemirror_mode": {
    "name": "ipython",
    "version": 3
   },
   "file_extension": ".py",
   "mimetype": "text/x-python",
   "name": "python",
   "nbconvert_exporter": "python",
   "pygments_lexer": "ipython3",
   "version": "3.12.1"
  }
 },
 "nbformat": 4,
 "nbformat_minor": 4
}
