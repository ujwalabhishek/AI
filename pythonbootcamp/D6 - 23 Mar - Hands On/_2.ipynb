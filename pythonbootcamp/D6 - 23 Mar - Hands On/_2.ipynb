{
 "cells": [
  {
   "cell_type": "code",
   "execution_count": 5,
   "id": "bc3d5324-ceeb-434d-be9d-701a39e412b1",
   "metadata": {},
   "outputs": [],
   "source": [
    "###Quiz 2\n",
    "# Change string `'Hello, User!'` to `'Hello, User'` by removing the exclamation mark"
   ]
  },
  {
   "cell_type": "code",
   "execution_count": 11,
   "id": "6b8409bc-84c3-4893-aa6e-9f7578ccb7aa",
   "metadata": {},
   "outputs": [],
   "source": [
    "s = 'Hello, User!'"
   ]
  },
  {
   "cell_type": "code",
   "execution_count": 13,
   "id": "bc3c302d-21e0-4015-b654-867376440815",
   "metadata": {},
   "outputs": [
    {
     "data": {
      "text/plain": [
       "'Hello, User'"
      ]
     },
     "execution_count": 13,
     "metadata": {},
     "output_type": "execute_result"
    }
   ],
   "source": [
    "s.replace('!','')"
   ]
  },
  {
   "cell_type": "code",
   "execution_count": 15,
   "id": "f15784e2-c15a-4b96-b434-4cf82ea5c808",
   "metadata": {},
   "outputs": [
    {
     "data": {
      "text/plain": [
       "'Hello, User'"
      ]
     },
     "execution_count": 15,
     "metadata": {},
     "output_type": "execute_result"
    }
   ],
   "source": [
    "s.strip('!')"
   ]
  },
  {
   "cell_type": "code",
   "execution_count": null,
   "id": "e994f1ad-71e4-4758-9de8-dbcd14f18988",
   "metadata": {},
   "outputs": [],
   "source": []
  },
  {
   "cell_type": "code",
   "execution_count": 23,
   "id": "7bdcf946-d1eb-47dc-942e-32c72dab5f84",
   "metadata": {},
   "outputs": [],
   "source": [
    "string = 'happy learning'\n",
    "# 1. Fetch \"happy\" from it\n",
    "# 2. count number of n in string"
   ]
  },
  {
   "cell_type": "code",
   "execution_count": 25,
   "id": "877097b4-903b-4540-9bd7-ddf393f84a82",
   "metadata": {},
   "outputs": [
    {
     "data": {
      "text/plain": [
       "'happy'"
      ]
     },
     "execution_count": 25,
     "metadata": {},
     "output_type": "execute_result"
    }
   ],
   "source": [
    "# 1\n",
    "string[:5]"
   ]
  },
  {
   "cell_type": "code",
   "execution_count": 27,
   "id": "c25273da-24a7-4695-9f6b-f4f2844a312d",
   "metadata": {},
   "outputs": [
    {
     "data": {
      "text/plain": [
       "2"
      ]
     },
     "execution_count": 27,
     "metadata": {},
     "output_type": "execute_result"
    }
   ],
   "source": [
    "# 2\n",
    "string.count(\"n\")"
   ]
  },
  {
   "cell_type": "code",
   "execution_count": null,
   "id": "6108e48c-99e9-4619-aa83-13b5d92c7967",
   "metadata": {},
   "outputs": [],
   "source": []
  },
  {
   "cell_type": "code",
   "execution_count": 37,
   "id": "d83d6a23-d3c3-4110-9570-94ddf0f7af79",
   "metadata": {},
   "outputs": [],
   "source": [
    "l = [\"iron man\",\"avengers\"]\n",
    "# 1. first add a new movie at the last index -> \"movie1\"\n",
    "# 2. add a new movie at the start of the list -> \"movie0\""
   ]
  },
  {
   "cell_type": "code",
   "execution_count": 39,
   "id": "e0508b80-a454-4f27-bf74-eb38635d1f5f",
   "metadata": {},
   "outputs": [
    {
     "data": {
      "text/plain": [
       "['iron man', 'avengers', 'movie1']"
      ]
     },
     "execution_count": 39,
     "metadata": {},
     "output_type": "execute_result"
    }
   ],
   "source": [
    "# 1)\n",
    "l.append(\"movie1\")\n",
    "l"
   ]
  },
  {
   "cell_type": "code",
   "execution_count": 41,
   "id": "b3f69722-21de-408a-a4b0-c3aee82dc76e",
   "metadata": {},
   "outputs": [
    {
     "data": {
      "text/plain": [
       "['movie0', 'iron man', 'avengers', 'movie1']"
      ]
     },
     "execution_count": 41,
     "metadata": {},
     "output_type": "execute_result"
    }
   ],
   "source": [
    "# 2\n",
    "l.insert(0,\"movie0\")\n",
    "l"
   ]
  },
  {
   "cell_type": "code",
   "execution_count": null,
   "id": "3b6c1b39-b243-4a58-bc2d-22ad1c43774f",
   "metadata": {},
   "outputs": [],
   "source": []
  },
  {
   "cell_type": "code",
   "execution_count": null,
   "id": "566f8af9-7605-4d75-b6c6-05461fc3e10a",
   "metadata": {},
   "outputs": [],
   "source": []
  },
  {
   "cell_type": "code",
   "execution_count": 45,
   "id": "3be6606c-de6f-4551-906c-db1f4f33ff37",
   "metadata": {},
   "outputs": [],
   "source": [
    "my_list = ['Apple', 'Banana', 'Cherry', 'Durian', 'Elderflower']\n",
    "# create a new list selection fruits where len = 6\n",
    "# output : ['Banana', 'Cherry', 'Durian']\n",
    "# use loops!"
   ]
  },
  {
   "cell_type": "code",
   "execution_count": 47,
   "id": "c52d354d-68d1-4aed-9d6d-afc40620c420",
   "metadata": {},
   "outputs": [
    {
     "name": "stdout",
     "output_type": "stream",
     "text": [
      "Apple\n",
      "Banana\n",
      "Cherry\n",
      "Durian\n",
      "Elderflower\n"
     ]
    }
   ],
   "source": [
    "for i in my_list :\n",
    "    print(i)"
   ]
  },
  {
   "cell_type": "code",
   "execution_count": 49,
   "id": "3ba9d78f-6c92-41cd-80a0-c04d25c2eb05",
   "metadata": {},
   "outputs": [
    {
     "name": "stdout",
     "output_type": "stream",
     "text": [
      "Banana\n",
      "Cherry\n",
      "Durian\n"
     ]
    }
   ],
   "source": [
    "for i in my_list :\n",
    "    if len(i) == 6 : # fruits with length 6!\n",
    "        print(i)"
   ]
  },
  {
   "cell_type": "code",
   "execution_count": 51,
   "id": "7c06cbec-f975-4ec0-a098-f8374eeb3cce",
   "metadata": {},
   "outputs": [],
   "source": [
    "nu = []\n",
    "for i in my_list :\n",
    "    if len(i) == 6 :\n",
    "        nu.append(i)"
   ]
  },
  {
   "cell_type": "code",
   "execution_count": 53,
   "id": "c1df4fb4-18cc-44e3-81a4-8b239d3321a4",
   "metadata": {},
   "outputs": [
    {
     "name": "stdout",
     "output_type": "stream",
     "text": [
      "['Banana', 'Cherry', 'Durian']\n"
     ]
    }
   ],
   "source": [
    "print(nu)"
   ]
  },
  {
   "cell_type": "code",
   "execution_count": null,
   "id": "f462a0e1-f970-4e6a-a71b-eab316e532d5",
   "metadata": {},
   "outputs": [],
   "source": []
  },
  {
   "cell_type": "code",
   "execution_count": null,
   "id": "b67124bb-a4c0-4cb4-815d-eaf383f88fd0",
   "metadata": {},
   "outputs": [],
   "source": []
  },
  {
   "cell_type": "code",
   "execution_count": null,
   "id": "33e2c095-b103-438f-8104-d7d155533692",
   "metadata": {},
   "outputs": [],
   "source": []
  },
  {
   "cell_type": "code",
   "execution_count": 57,
   "id": "6db6461e-3e0a-456c-b801-3cb3683c9088",
   "metadata": {},
   "outputs": [],
   "source": [
    "#  2) Write a loop to calculate the sum of all numbers in the list \n",
    "numbers = [1, 2, 3, 4, 5,6]\n",
    "# # o/p : 21"
   ]
  },
  {
   "cell_type": "code",
   "execution_count": 61,
   "id": "c4d5ad01-3608-48c5-8621-a1be01a26cc7",
   "metadata": {},
   "outputs": [
    {
     "name": "stdout",
     "output_type": "stream",
     "text": [
      "1\n",
      "2\n",
      "3\n",
      "4\n",
      "5\n",
      "6\n"
     ]
    }
   ],
   "source": [
    "for i in numbers :\n",
    "    print(i)"
   ]
  },
  {
   "cell_type": "code",
   "execution_count": 67,
   "id": "e333b512-e461-4912-bc77-3e7f846e6702",
   "metadata": {},
   "outputs": [
    {
     "data": {
      "text/plain": [
       "[1, 2, 3, 4, 5, 6]"
      ]
     },
     "execution_count": 67,
     "metadata": {},
     "output_type": "execute_result"
    }
   ],
   "source": [
    "numbers"
   ]
  },
  {
   "cell_type": "code",
   "execution_count": 63,
   "id": "dbb6bd1b-2205-491b-a7d2-64803f4e9961",
   "metadata": {},
   "outputs": [],
   "source": [
    "s = 0\n",
    "for i in numbers :\n",
    "    s = s + i"
   ]
  },
  {
   "cell_type": "code",
   "execution_count": 65,
   "id": "e65dbe31-264c-42f2-9954-c6a1a07f1a92",
   "metadata": {},
   "outputs": [
    {
     "name": "stdout",
     "output_type": "stream",
     "text": [
      "21\n"
     ]
    }
   ],
   "source": [
    "print(s)"
   ]
  },
  {
   "cell_type": "code",
   "execution_count": 69,
   "id": "f83936b5-e8c7-4aa9-9751-34b7e4f1b6d8",
   "metadata": {},
   "outputs": [],
   "source": [
    "# 1. s = s+i | s = 0 + 1 = 1\n",
    "# 2. s = s+i | s = 1 + 2 = 3\n",
    "# 3 + 3 = 6\n",
    "# 6 + 4 = 10\n",
    "# 10 + 5 = 15\n",
    "# 15 + 6 = 21"
   ]
  },
  {
   "cell_type": "code",
   "execution_count": null,
   "id": "a1459e65-456a-4b01-aaf9-ca9a5dc15a1f",
   "metadata": {},
   "outputs": [],
   "source": []
  },
  {
   "cell_type": "code",
   "execution_count": 75,
   "id": "8593b7a7-45e4-447a-b90f-87820c170c80",
   "metadata": {},
   "outputs": [],
   "source": [
    "#  2) Write a loop to calculate the sum of all numbers in the int\n",
    "numbers = 123456\n",
    "# # o/p : 21"
   ]
  },
  {
   "cell_type": "code",
   "execution_count": 77,
   "id": "6d7373b5-8f6d-4642-8d65-a693973907b4",
   "metadata": {},
   "outputs": [
    {
     "ename": "TypeError",
     "evalue": "'int' object is not iterable",
     "output_type": "error",
     "traceback": [
      "\u001b[0;31m---------------------------------------------------------------------------\u001b[0m",
      "\u001b[0;31mTypeError\u001b[0m                                 Traceback (most recent call last)",
      "Cell \u001b[0;32mIn[77], line 1\u001b[0m\n\u001b[0;32m----> 1\u001b[0m \u001b[38;5;28;01mfor\u001b[39;00m i \u001b[38;5;129;01min\u001b[39;00m numbers:\n\u001b[1;32m      2\u001b[0m     \u001b[38;5;28mprint\u001b[39m(i)\n",
      "\u001b[0;31mTypeError\u001b[0m: 'int' object is not iterable"
     ]
    }
   ],
   "source": [
    "for i in numbers:\n",
    "    print(i)"
   ]
  },
  {
   "cell_type": "code",
   "execution_count": 79,
   "id": "65823650-57b6-41ed-993f-3539ad92157b",
   "metadata": {},
   "outputs": [
    {
     "name": "stdout",
     "output_type": "stream",
     "text": [
      "1\n",
      "2\n",
      "3\n",
      "4\n",
      "5\n",
      "6\n"
     ]
    }
   ],
   "source": [
    "for i in str(numbers) :\n",
    "    print(i)"
   ]
  },
  {
   "cell_type": "code",
   "execution_count": 81,
   "id": "b844b891-0d0d-4950-937f-512f0cb6ed3b",
   "metadata": {},
   "outputs": [],
   "source": [
    "s = 0\n",
    "for i in str(numbers) : \n",
    "    s = s + int(i)"
   ]
  },
  {
   "cell_type": "code",
   "execution_count": 83,
   "id": "e0340dff-1c6a-4685-a8e0-b45a8a4250ef",
   "metadata": {},
   "outputs": [
    {
     "name": "stdout",
     "output_type": "stream",
     "text": [
      "21\n"
     ]
    }
   ],
   "source": [
    "print(s)"
   ]
  },
  {
   "cell_type": "code",
   "execution_count": null,
   "id": "0845ca38-d3a3-48b1-9bd1-138e088f5e80",
   "metadata": {},
   "outputs": [],
   "source": []
  },
  {
   "cell_type": "code",
   "execution_count": 117,
   "id": "1aed9b6d-5b0d-4d5e-afee-18ebf2debeab",
   "metadata": {},
   "outputs": [],
   "source": [
    "# Write a for loop to compute the product (multiply)\n",
    "# of all **odd numbers** in a given list.\n",
    "numbers = [1, 2, 3, 7 , 4, 5, 6]\n",
    "# o/p : 7*5*3*1 = 105"
   ]
  },
  {
   "cell_type": "code",
   "execution_count": 105,
   "id": "7c666842-2fd9-41d2-b71f-e882452a4442",
   "metadata": {},
   "outputs": [
    {
     "name": "stdout",
     "output_type": "stream",
     "text": [
      "1\n",
      "2\n",
      "3\n",
      "7\n",
      "4\n",
      "5\n",
      "6\n"
     ]
    }
   ],
   "source": [
    "for i in numbers : \n",
    "    print(i)"
   ]
  },
  {
   "cell_type": "code",
   "execution_count": 121,
   "id": "2c65391c-6525-485d-ad4d-db15b2308cfe",
   "metadata": {},
   "outputs": [
    {
     "name": "stdout",
     "output_type": "stream",
     "text": [
      "1\n",
      "3\n",
      "7\n",
      "5\n"
     ]
    }
   ],
   "source": [
    "for i in numbers :\n",
    "    if i%2 != 0 :\n",
    "        print(i)"
   ]
  },
  {
   "cell_type": "code",
   "execution_count": 123,
   "id": "ac4888ef-3a41-428a-9762-65b5c326862a",
   "metadata": {},
   "outputs": [],
   "source": [
    "s= 1\n",
    "for i in numbers :\n",
    "    if i%2 != 0 :\n",
    "        s = s*i"
   ]
  },
  {
   "cell_type": "code",
   "execution_count": 125,
   "id": "aefbef87-4fb4-4ce9-a37e-b287a75db1f4",
   "metadata": {},
   "outputs": [
    {
     "name": "stdout",
     "output_type": "stream",
     "text": [
      "105\n"
     ]
    }
   ],
   "source": [
    "print(s)"
   ]
  },
  {
   "cell_type": "code",
   "execution_count": null,
   "id": "50084884-4c28-4014-b785-f891ee04a62c",
   "metadata": {},
   "outputs": [],
   "source": []
  },
  {
   "cell_type": "code",
   "execution_count": null,
   "id": "a3155ef5-d734-440d-af17-5442d13b1c61",
   "metadata": {},
   "outputs": [],
   "source": []
  },
  {
   "cell_type": "code",
   "execution_count": null,
   "id": "207f83bc-f8bb-470d-998d-77b5e1d8595e",
   "metadata": {},
   "outputs": [],
   "source": []
  },
  {
   "cell_type": "code",
   "execution_count": 131,
   "id": "0decbf89-3f30-4ed9-adcf-00131678eb33",
   "metadata": {},
   "outputs": [],
   "source": [
    "# Q: Given a list of tuples where each\n",
    "# tuple contains a product name and its price, \n",
    "# Write a code  that returns a\n",
    "# list of products priced over 20.\n",
    "\n",
    "products = [('pen', 3.50), ('notebook', 25),\n",
    "            ('pencil', 2), ('bag', 50)]\n",
    "\n",
    "# Output: [('notebook', 25), ('bag', 50)]"
   ]
  },
  {
   "cell_type": "code",
   "execution_count": 133,
   "id": "2ebb5b37-6547-4055-8ca4-497c281c8085",
   "metadata": {},
   "outputs": [
    {
     "name": "stdout",
     "output_type": "stream",
     "text": [
      "('pen', 3.5)\n",
      "('notebook', 25)\n",
      "('pencil', 2)\n",
      "('bag', 50)\n"
     ]
    }
   ],
   "source": [
    "for i in products :\n",
    "    print(i)"
   ]
  },
  {
   "cell_type": "code",
   "execution_count": 135,
   "id": "5c75cb48-7fb4-4eb3-8975-9db52ed731c1",
   "metadata": {},
   "outputs": [
    {
     "name": "stdout",
     "output_type": "stream",
     "text": [
      "3.5\n",
      "25\n",
      "2\n",
      "50\n"
     ]
    }
   ],
   "source": [
    "for i in products :\n",
    "    print(i[1])"
   ]
  },
  {
   "cell_type": "code",
   "execution_count": 137,
   "id": "2caff2d3-7e68-4da0-acfd-74f049c57ccc",
   "metadata": {},
   "outputs": [],
   "source": [
    "nu = []\n",
    "for i in products :\n",
    "    if i[1] > 20 :\n",
    "        nu.append(i)"
   ]
  },
  {
   "cell_type": "code",
   "execution_count": 139,
   "id": "446e8e3c-a342-4ae1-964f-019ed5adb1b3",
   "metadata": {},
   "outputs": [
    {
     "data": {
      "text/plain": [
       "[('notebook', 25), ('bag', 50)]"
      ]
     },
     "execution_count": 139,
     "metadata": {},
     "output_type": "execute_result"
    }
   ],
   "source": [
    "nu"
   ]
  },
  {
   "cell_type": "code",
   "execution_count": null,
   "id": "ca69e33b-c357-4167-bd8e-7a0856260e36",
   "metadata": {},
   "outputs": [],
   "source": []
  },
  {
   "cell_type": "code",
   "execution_count": null,
   "id": "e670c6e3-7cdd-4f39-96b7-f9e02b37a18f",
   "metadata": {},
   "outputs": [],
   "source": []
  },
  {
   "cell_type": "code",
   "execution_count": null,
   "id": "c77622e7-c69a-4596-86f0-137d180f7311",
   "metadata": {},
   "outputs": [],
   "source": []
  },
  {
   "cell_type": "code",
   "execution_count": 141,
   "id": "b3430007-e5c5-4b9d-add4-a4f955efce6d",
   "metadata": {},
   "outputs": [],
   "source": [
    "# Write a func given a  integer x, \n",
    "# return x with its digits reversed\n",
    "\n",
    "# Example 1:\n",
    "# x = 123\n",
    "# Output: 321\n",
    "\n",
    "# Example 2:\n",
    "# x = -123\n",
    "# Output: -321"
   ]
  },
  {
   "cell_type": "code",
   "execution_count": 184,
   "id": "ca5cc35b-6c64-484a-a839-7f8331b40421",
   "metadata": {},
   "outputs": [
    {
     "name": "stdout",
     "output_type": "stream",
     "text": [
      "-321\n"
     ]
    }
   ],
   "source": [
    "x = -123\n",
    "if x > 0 :\n",
    "    print(int(str(x)[::-1]))\n",
    "else :\n",
    "    print(int(str(x)[1:][::-1])*-1)"
   ]
  },
  {
   "cell_type": "code",
   "execution_count": 186,
   "id": "ed5231fb-7c9e-4c94-8b73-568bda99b12c",
   "metadata": {},
   "outputs": [],
   "source": [
    "x = -123"
   ]
  },
  {
   "cell_type": "code",
   "execution_count": 196,
   "id": "3d128161-95dd-4b46-90a7-96124327cd1a",
   "metadata": {},
   "outputs": [
    {
     "data": {
      "text/plain": [
       "-321"
      ]
     },
     "execution_count": 196,
     "metadata": {},
     "output_type": "execute_result"
    }
   ],
   "source": [
    "int(str(x)[1:][::-1])*-1"
   ]
  },
  {
   "cell_type": "code",
   "execution_count": null,
   "id": "9d106c21-aea5-44f6-b937-7b92d47fd8a3",
   "metadata": {},
   "outputs": [],
   "source": []
  },
  {
   "cell_type": "code",
   "execution_count": null,
   "id": "4e7d3fc3-1186-461f-af7e-1573c9527cc7",
   "metadata": {},
   "outputs": [],
   "source": []
  },
  {
   "cell_type": "code",
   "execution_count": 224,
   "id": "4e9c0078-8279-4e77-9616-6c91136b962d",
   "metadata": {},
   "outputs": [],
   "source": [
    "# Write a code that takes a \n",
    "# list of integers and returns the \n",
    "# first element that appears more than once. \n",
    "# If no element repeats, return None.\n",
    "\n",
    "# first_repeated_element([1, 3, 2, 5, 3, 4])\n",
    "# Output: 3\n",
    "\n",
    "# first_repeated_element([1, 2, 5, 3, 4])\n",
    "# Output: None"
   ]
  },
  {
   "cell_type": "code",
   "execution_count": 240,
   "id": "10943ae3-1546-4ab6-89c8-8c8c1a2fd255",
   "metadata": {},
   "outputs": [],
   "source": [
    "def cnt(x) :\n",
    "    for i in x :\n",
    "        if x.count(i) > 1:\n",
    "            return i\n",
    "    return None"
   ]
  },
  {
   "cell_type": "code",
   "execution_count": 242,
   "id": "05e61312-775e-410f-9ca4-50fa6992e7e8",
   "metadata": {},
   "outputs": [
    {
     "name": "stdout",
     "output_type": "stream",
     "text": [
      "3\n"
     ]
    }
   ],
   "source": [
    "print(cnt([1, 3, 2, 5, 3, 4]))"
   ]
  },
  {
   "cell_type": "code",
   "execution_count": 244,
   "id": "4eedb9e7-9d9a-45d9-b8bb-a7c8c2ededd6",
   "metadata": {},
   "outputs": [
    {
     "name": "stdout",
     "output_type": "stream",
     "text": [
      "None\n"
     ]
    }
   ],
   "source": [
    "print(cnt([1, 3, 2, 5,4]))"
   ]
  },
  {
   "cell_type": "code",
   "execution_count": 248,
   "id": "8e17d32f-e85e-4aa3-bf2d-99b5f035fb93",
   "metadata": {},
   "outputs": [
    {
     "name": "stdout",
     "output_type": "stream",
     "text": [
      "1\n"
     ]
    }
   ],
   "source": [
    "print(cnt([1,2, 2,3,4,3,4,5,3,1]))"
   ]
  },
  {
   "cell_type": "code",
   "execution_count": null,
   "id": "027b46e4-1122-432f-a0ed-3fec98029b55",
   "metadata": {},
   "outputs": [],
   "source": []
  },
  {
   "cell_type": "code",
   "execution_count": 252,
   "id": "19ef668d-d65a-4802-bc82-b8fe1226663c",
   "metadata": {},
   "outputs": [],
   "source": [
    "# for i in x : \n",
    "#     if x.count(i) > 1 :\n",
    "#         print(i)\n",
    "#     else :\n",
    "#         print(None)"
   ]
  },
  {
   "cell_type": "code",
   "execution_count": null,
   "id": "e1f09e6b-2ed1-43e9-8750-5b78e0ec789b",
   "metadata": {},
   "outputs": [],
   "source": []
  },
  {
   "cell_type": "code",
   "execution_count": 256,
   "id": "17e1f724-f805-46c2-bb1b-aece9cae7e18",
   "metadata": {},
   "outputs": [],
   "source": [
    "dct = {1:\"data\",2:\"science\"}\n",
    "# o/p : {\"data\":1, \"science\":2}\n",
    "# swap Key value pairs"
   ]
  },
  {
   "cell_type": "code",
   "execution_count": 262,
   "id": "82f9f205-87e0-4561-a723-ddc402bbcfa1",
   "metadata": {},
   "outputs": [
    {
     "name": "stdout",
     "output_type": "stream",
     "text": [
      "(1, 'data')\n",
      "(2, 'science')\n"
     ]
    }
   ],
   "source": [
    "for i in dct.items():\n",
    "    print(i)"
   ]
  },
  {
   "cell_type": "code",
   "execution_count": 264,
   "id": "8096e772-9b37-4b52-b536-5bb590bd2319",
   "metadata": {},
   "outputs": [],
   "source": [
    "nudct = {}\n",
    "for i in dct.items():\n",
    "    nudct[i[1]] = i[0]"
   ]
  },
  {
   "cell_type": "code",
   "execution_count": 266,
   "id": "b5c6256a-51ac-4366-9fa2-17c92fe3a67c",
   "metadata": {},
   "outputs": [
    {
     "data": {
      "text/plain": [
       "{'data': 1, 'science': 2}"
      ]
     },
     "execution_count": 266,
     "metadata": {},
     "output_type": "execute_result"
    }
   ],
   "source": [
    "nudct"
   ]
  },
  {
   "cell_type": "code",
   "execution_count": null,
   "id": "e167fee9-a6ae-40bc-a532-aeabca2902c7",
   "metadata": {},
   "outputs": [],
   "source": []
  },
  {
   "cell_type": "code",
   "execution_count": null,
   "id": "f1aed19f-afc8-4aba-92ce-9abf82ac1e72",
   "metadata": {},
   "outputs": [],
   "source": []
  },
  {
   "cell_type": "code",
   "execution_count": null,
   "id": "4512cc57-c2a1-4dd3-91c9-05308601e264",
   "metadata": {},
   "outputs": [],
   "source": []
  },
  {
   "cell_type": "code",
   "execution_count": 268,
   "id": "257259f0-9f4d-4704-91bd-3321cf50ef1a",
   "metadata": {},
   "outputs": [],
   "source": [
    "# Write a code that takes a \n",
    "# dictionary containing player names and their scores,\n",
    "# and a list of tuples where each tuple contains a\n",
    "# player's name and points to add to their score.\n",
    "\n",
    "player_scores =  {'Alice': 10, 'Bob': 8, 'Carol': 15}\n",
    "updates       = [('Alice', 5), ('Bob', 2), ('Dave', 7)]\n",
    "\n",
    "# O/P : {'Alice': 15, 'Bob': 10, 'Carol': 15, 'Dave': 7}"
   ]
  },
  {
   "cell_type": "code",
   "execution_count": 270,
   "id": "ba699624-d86e-4a4f-bf80-be179a4b1166",
   "metadata": {},
   "outputs": [],
   "source": [
    "# 12,55 PM "
   ]
  },
  {
   "cell_type": "code",
   "execution_count": 272,
   "id": "79d9e9a0-26aa-45fd-8b73-a938c84e3060",
   "metadata": {},
   "outputs": [],
   "source": [
    "# will upload the solution by 3 pm!!"
   ]
  },
  {
   "cell_type": "code",
   "execution_count": null,
   "id": "edb7afc0-fa7a-4e85-9a90-aa709ebd4586",
   "metadata": {},
   "outputs": [],
   "source": []
  },
  {
   "cell_type": "code",
   "execution_count": null,
   "id": "d8194372-9f21-4297-a382-982b90fda319",
   "metadata": {},
   "outputs": [],
   "source": []
  }
 ],
 "metadata": {
  "kernelspec": {
   "display_name": "Python [conda env:anaconda3-genai]",
   "language": "python",
   "name": "conda-env-anaconda3-genai-py"
  },
  "language_info": {
   "codemirror_mode": {
    "name": "ipython",
    "version": 3
   },
   "file_extension": ".py",
   "mimetype": "text/x-python",
   "name": "python",
   "nbconvert_exporter": "python",
   "pygments_lexer": "ipython3",
   "version": "3.11.5"
  }
 },
 "nbformat": 4,
 "nbformat_minor": 5
}
