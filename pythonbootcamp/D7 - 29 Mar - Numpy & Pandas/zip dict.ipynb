{
 "cells": [
  {
   "cell_type": "code",
   "execution_count": 11,
   "id": "fdce3922-4f88-4991-b70c-38073c331c6f",
   "metadata": {},
   "outputs": [],
   "source": [
    "keys = ['name', 'age', 'gender','..']\n",
    "values = ['Alice', 25, 'Female']"
   ]
  },
  {
   "cell_type": "code",
   "execution_count": 13,
   "id": "2aeeba91-6961-4006-af4d-6a8c1f8292d6",
   "metadata": {},
   "outputs": [
    {
     "data": {
      "text/plain": [
       "<zip at 0x130536bc0>"
      ]
     },
     "execution_count": 13,
     "metadata": {},
     "output_type": "execute_result"
    }
   ],
   "source": [
    "zip(keys,values)"
   ]
  },
  {
   "cell_type": "code",
   "execution_count": 15,
   "id": "24cf6330-650f-4b52-89e8-52d59d5f4deb",
   "metadata": {},
   "outputs": [
    {
     "data": {
      "text/plain": [
       "{'name': 'Alice', 'age': 25, 'gender': 'Female'}"
      ]
     },
     "execution_count": 15,
     "metadata": {},
     "output_type": "execute_result"
    }
   ],
   "source": [
    "dict(zip(keys,values))"
   ]
  },
  {
   "cell_type": "code",
   "execution_count": null,
   "id": "f8b044b2-2adb-4777-b17d-8a362de26b9c",
   "metadata": {},
   "outputs": [],
   "source": []
  }
 ],
 "metadata": {
  "kernelspec": {
   "display_name": "Python [conda env:anaconda3-genai]",
   "language": "python",
   "name": "conda-env-anaconda3-genai-py"
  },
  "language_info": {
   "codemirror_mode": {
    "name": "ipython",
    "version": 3
   },
   "file_extension": ".py",
   "mimetype": "text/x-python",
   "name": "python",
   "nbconvert_exporter": "python",
   "pygments_lexer": "ipython3",
   "version": "3.11.5"
  }
 },
 "nbformat": 4,
 "nbformat_minor": 5
}
