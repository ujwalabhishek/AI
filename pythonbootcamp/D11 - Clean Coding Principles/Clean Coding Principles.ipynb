{
 "cells": [
  {
   "cell_type": "markdown",
   "metadata": {
    "id": "_HjfMpLZco2k"
   },
   "source": [
    "### The DRY Principle\n",
    "\n",
    "**Don't Repeat Yourself**\n",
    "\n",
    "The DRY principle aims to eliminate code duplication by encapsulating repetitive logic into functions, loops, or reusable components.\n",
    "\n",
    "Imagine you want to calculate a discount for your customer based on whether they are in the regular or premium tiers of your service. Here is an example of code you may write to achieve this:"
   ]
  },
  {
   "cell_type": "code",
   "execution_count": null,
   "metadata": {
    "id": "zF2IzjtcdJwI"
   },
   "outputs": [],
   "source": [
    "# One function each for regular and premium customers\n",
    "def calculate_final_price_for_regular(price):\n",
    "    discount = price * 0.10  # 10% discount\n",
    "    final_price = price - discount\n",
    "    return final_price\n",
    "\n",
    "def calculate_final_price_for_premium(price):\n",
    "    discount = price * 0.20  # 20% discount\n",
    "    final_price = price - discount\n",
    "    return final_price\n",
    "\n",
    "# Usage\n",
    "regular_price = calculate_final_price_for_regular(1000)\n",
    "premium_price = calculate_final_price_for_premium(1000)\n",
    "\n",
    "print(f'Regular Customer Price: ₹{regular_price}')\n",
    "print(f'Premium Customer Price: ₹{premium_price}')"
   ]
  },
  {
   "cell_type": "markdown",
   "metadata": {
    "id": "dBjJ9ktzd0-p"
   },
   "source": [
    "This code does not follow DRY. Here is an example of code that is better-written:"
   ]
  },
  {
   "cell_type": "code",
   "execution_count": null,
   "metadata": {
    "id": "MeelYSXWcO7W"
   },
   "outputs": [],
   "source": [
    "# DRY: One function for all discount calculations\n",
    "def calculate_final_price(price, discount_rate):\n",
    "    discount = price * discount_rate\n",
    "    return price - discount\n",
    "\n",
    "# Usage\n",
    "regular_price = calculate_final_price(1000, 0.10)  # 10% discount\n",
    "premium_price = calculate_final_price(1000, 0.20)  # 20% discount\n",
    "\n",
    "print(f'Regular Customer Price: ₹{regular_price}')\n",
    "print(f'Premium Customer Price: ₹{premium_price}')"
   ]
  },
  {
   "cell_type": "markdown",
   "metadata": {
    "id": "CN1Xr21QdF-s"
   },
   "source": [
    "This code is better for several reasons. It\n",
    "\n",
    "\n",
    "*   Has no duplicate logic as we are using a single function to handle all cases\n",
    "*   Is easier to maintenance as if we want to change how discounts are calculated, we can update the code in only one place\n",
    "*   Is more flexible as you can provide all kinds of discount percentages, not just the predefined ones"
   ]
  },
  {
   "cell_type": "markdown",
   "metadata": {
    "id": "KtVBWy3eemfs"
   },
   "source": [
    "Here is another example, where you are attempting to clean up some string entries. The following code does not use DRY:"
   ]
  },
  {
   "cell_type": "code",
   "execution_count": null,
   "metadata": {
    "id": "fihHuFIoepBl"
   },
   "outputs": [],
   "source": [
    "# Duplicated logic\n",
    "def process_admin_user(name, email):\n",
    "    name = name.strip().title()\n",
    "    email = email.strip().lower()\n",
    "    return f'Admin: {name} ({email})'\n",
    "\n",
    "def process_regular_user(name, email):\n",
    "    name = name.strip().title()\n",
    "    email = email.strip().lower()\n",
    "    return f'User: {name} ({email})'\n",
    "\n",
    "# Usage\n",
    "admin_result = process_admin_user('  raina  ', '  rainaarun97@EXAMPLE.com  ')\n",
    "user_result = process_regular_user('  joNAthan  ', '  jong1234@Example.COM  ')\n",
    "\n",
    "print(admin_result)\n",
    "print(user_result)"
   ]
  },
  {
   "cell_type": "markdown",
   "metadata": {
    "id": "kD5vF6XRfNyK"
   },
   "source": [
    "Instead, you could attempt something like this:"
   ]
  },
  {
   "cell_type": "code",
   "execution_count": null,
   "metadata": {
    "id": "22RUSPw-fRIA"
   },
   "outputs": [],
   "source": [
    "# DRY: Single function for processing user data\n",
    "def process_user(name, email, role):\n",
    "    name = name.strip().title()\n",
    "    email = email.strip().lower()\n",
    "    return f'{role}: {name} ({email})'\n",
    "\n",
    "# Usage\n",
    "admin_result = process_user('  raina  ', '  rainaarun97@EXAMPLE.com  ', 'Admin')\n",
    "user_result = process_user('  joNAthan  ', '  jong1234@Example.COM  ', 'User')\n",
    "\n",
    "print(admin_result)\n",
    "print(user_result)"
   ]
  },
  {
   "cell_type": "markdown",
   "metadata": {
    "id": "dfDXtyEpfxln"
   },
   "source": [
    "___"
   ]
  },
  {
   "cell_type": "markdown",
   "metadata": {
    "id": "ojh-boeYfymG"
   },
   "source": [
    "### The KISS Principle\n",
    "\n",
    "**Keep It Simple, Stupid**\n",
    "\n",
    "The KISS principle states that code should be as simple as possible while still solving the problem effectively. Overcomplication leads to harder maintenance, debugging, and readability issues.\n",
    "\n",
    "The following code attempts to find out whether a number is odd or even:"
   ]
  },
  {
   "cell_type": "code",
   "execution_count": null,
   "metadata": {
    "id": "-Ert33LegNbK"
   },
   "outputs": [],
   "source": [
    "def is_even(number):\n",
    "    if number % 2 == 0:\n",
    "        return True\n",
    "    else:\n",
    "        return False"
   ]
  },
  {
   "cell_type": "markdown",
   "metadata": {
    "id": "09S-vGt-gROK"
   },
   "source": [
    "This is written in a needlessly cumbersome way. You could instead try:"
   ]
  },
  {
   "cell_type": "code",
   "execution_count": null,
   "metadata": {
    "id": "kFuCltSlgVXH"
   },
   "outputs": [],
   "source": [
    "def is_even(number):\n",
    "    return number % 2 == 0"
   ]
  },
  {
   "cell_type": "markdown",
   "metadata": {
    "id": "zBE81hYQgYUj"
   },
   "source": [
    "Here,\n",
    "*   The function is simpler, more readable, and more efficient\n",
    "*   The expression `number % 2 == 0` already evaluates to `True` or `False`, so there isn't any need for IF-ELSE\n",
    "\n"
   ]
  },
  {
   "cell_type": "markdown",
   "metadata": {
    "id": "9Ou2eHo7gqBD"
   },
   "source": [
    "Let's attempt another example. Consider a function which needs to calculate student grade averages. Here's an overengineered way of implementing this:"
   ]
  },
  {
   "cell_type": "code",
   "execution_count": null,
   "metadata": {
    "id": "l-RtCBqhhVFj"
   },
   "outputs": [],
   "source": [
    "def calculate_average(grades):\n",
    "    total = 0\n",
    "    count = 0\n",
    "\n",
    "    for grade in grades:\n",
    "        if isinstance(grade, (int, float)):  # check if the number is valid\n",
    "            total += grade\n",
    "            count += 1\n",
    "\n",
    "    # To avoid a ZeroDivisionError\n",
    "    if count == 0:\n",
    "        return None\n",
    "\n",
    "    average = total / count\n",
    "    return average\n",
    "\n",
    "# Usage\n",
    "grades = [85, 90, 78, 92, 88]\n",
    "\n",
    "print(f'Average Grade: {calculate_average(grades)}')"
   ]
  },
  {
   "cell_type": "markdown",
   "metadata": {
    "id": "Y6YPFT6hhGyI"
   },
   "source": [
    "This code uses unnecessary loops, conditions, and manual calculations. Instead, we could try writing it as:"
   ]
  },
  {
   "cell_type": "code",
   "execution_count": null,
   "metadata": {
    "id": "MCrl9c_ThgbQ"
   },
   "outputs": [],
   "source": [
    "def calculate_average(grades):\n",
    "    if not grades:  # check if the list is empty\n",
    "        return None\n",
    "    return sum(grades) / len(grades)\n",
    "\n",
    "# Usage\n",
    "grades = [85, 90, 78, 92, 88]\n",
    "\n",
    "print(f'Average Grade: {calculate_average(grades)}')"
   ]
  },
  {
   "cell_type": "markdown",
   "metadata": {
    "id": "IiB0Xo_1hs9l"
   },
   "source": [
    "### The YAGNI Principle\n",
    "\n",
    "**You Ain't Gonna Need It**\n",
    "\n",
    "The YAGNI principle states that you should not add functionality until it's actually needed. Many developers overengineer solutions by adding features that 'might' be useful later, leading to bloated, harder-to-maintain code.\n",
    "\n",
    "Suppose we need to read a configuration value, but instead of keeping it simple, we build a full-fledged configuration manager—something we don't actually need:"
   ]
  },
  {
   "cell_type": "code",
   "execution_count": null,
   "metadata": {
    "id": "Sza3IVTKiDam"
   },
   "outputs": [],
   "source": [
    "# Overengineered configuration manager for a simple task\n",
    "config = {\n",
    "    'database_url': 'localhost:5432',\n",
    "    'debug_mode': True\n",
    "}\n",
    "\n",
    "def get_config_value(key):\n",
    "    if key in config:\n",
    "        return config[key]\n",
    "    else:\n",
    "        return None  # Default behavior\n",
    "\n",
    "# Using the function for a simple retrieval\n",
    "print(get_config_value('debug_mode'))"
   ]
  },
  {
   "cell_type": "markdown",
   "metadata": {
    "id": "YWd5XwZoiHfj"
   },
   "source": [
    "This is needlessly complicated and showy. It is also:\n",
    "* Overkill, as a dictionary lookup doesn't need a dedicated function\n",
    "* Unnecessarily abstract, as the function adds no value but increases maintenance\n",
    "\n",
    "You could get by with a built-in function like so:"
   ]
  },
  {
   "cell_type": "code",
   "execution_count": null,
   "metadata": {
    "id": "LYKtb5SmiLMY"
   },
   "outputs": [],
   "source": [
    "# Direct dictionary lookup\n",
    "config = {\n",
    "    'database_url': 'localhost:5432',\n",
    "    'debug_mode': True\n",
    "}\n",
    "\n",
    "print(config.get('debug_mode'))  # .get() also provides safe access"
   ]
  },
  {
   "cell_type": "markdown",
   "metadata": {
    "id": "LJACWX0DiX04"
   },
   "source": [
    "Here's another example, where we want to print a greeting message but decide to account for all sorts of possibilities which aren't needed yet:"
   ]
  },
  {
   "cell_type": "code",
   "execution_count": 1,
   "metadata": {
    "id": "LsMZG9JYi2U2"
   },
   "outputs": [
    {
     "name": "stdout",
     "output_type": "stream",
     "text": [
      "Welcome, Noor!\n"
     ]
    }
   ],
   "source": [
    "def display_message(user, format_type='plain'):\n",
    "    if format_type == 'plain':\n",
    "        return f'Welcome, {user}!'\n",
    "    elif format_type == 'html':\n",
    "        return f'<h1>Welcome, {user}!</h1>'\n",
    "    elif format_type == 'json':\n",
    "        return {'message': f'Welcome, {user}!'}\n",
    "    else:\n",
    "        return 'Invalid format'\n",
    "\n",
    "# Current usage\n",
    "print(display_message('Noor'))"
   ]
  },
  {
   "cell_type": "markdown",
   "metadata": {
    "id": "2zofnz7Hi9HA"
   },
   "source": [
    "Here, we are\n",
    "\n",
    "* Adding features no one asked for\n",
    "* Creating additional maintenance complexity\n",
    "* Using unnecessary conditional logic - we're preparing for a scenario that doesn't exist yet\n",
    "\n",
    "Don't do this, it is a waste of time. Instead, try:"
   ]
  },
  {
   "cell_type": "code",
   "execution_count": null,
   "metadata": {
    "id": "tvrTWWegjRjK"
   },
   "outputs": [],
   "source": [
    "def display_message(user):\n",
    "    return f'Welcome, {user}!'\n",
    "\n",
    "print(display_message('Noor'))"
   ]
  }
 ],
 "metadata": {
  "colab": {
   "authorship_tag": "ABX9TyNuL4OvwOxJjKYdsoXkTopR",
   "provenance": [],
   "toc_visible": true
  },
  "kernelspec": {
   "display_name": "Python [conda env:anaconda3-genai]",
   "language": "python",
   "name": "conda-env-anaconda3-genai-py"
  },
  "language_info": {
   "codemirror_mode": {
    "name": "ipython",
    "version": 3
   },
   "file_extension": ".py",
   "mimetype": "text/x-python",
   "name": "python",
   "nbconvert_exporter": "python",
   "pygments_lexer": "ipython3",
   "version": "3.11.5"
  }
 },
 "nbformat": 4,
 "nbformat_minor": 4
}
