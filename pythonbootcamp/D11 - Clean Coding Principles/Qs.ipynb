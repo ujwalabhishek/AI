{
 "cells": [
  {
   "cell_type": "code",
   "execution_count": 1,
   "id": "cc9fd1d2-696f-44a5-bb46-2e491286b145",
   "metadata": {},
   "outputs": [],
   "source": [
    "# fix the code & let me know which clean coding principle you are using?\n",
    "# KISS/ YAGNI / DRY?"
   ]
  },
  {
   "cell_type": "code",
   "execution_count": 3,
   "id": "c99a54a5-783a-4f9a-a9c6-3eb178c646d4",
   "metadata": {},
   "outputs": [],
   "source": [
    "def calculate_indian_tax(price):\n",
    "    return price + (price * 0.18)\n",
    "\n",
    "def calculate_us_tax(price):\n",
    "    return price + (price * 0.07)\n",
    "\n",
    "def calculate_eu_tax(price):\n",
    "    return price + (price * 0.20)"
   ]
  },
  {
   "cell_type": "code",
   "execution_count": 9,
   "id": "040f2a16-5e41-4a3d-b3b2-7cec35bdbda6",
   "metadata": {},
   "outputs": [],
   "source": [
    "# DRY - Dont repeat yourself"
   ]
  },
  {
   "cell_type": "code",
   "execution_count": 17,
   "id": "1a084748-5a46-4fdd-b0ad-deeecb18948f",
   "metadata": {},
   "outputs": [],
   "source": [
    "def calculate_tax(price, country): \n",
    "    return price + (price * (0.18 if country == \"India\" else 0.07 if country == \"US\" else 0.20 if country == \"EU\" else 0))"
   ]
  },
  {
   "cell_type": "code",
   "execution_count": 19,
   "id": "7c265c2f-3e51-4489-a6a9-ce9eb7543552",
   "metadata": {},
   "outputs": [
    {
     "name": "stdout",
     "output_type": "stream",
     "text": [
      "Final tax price: ₹10.0 for in \n"
     ]
    }
   ],
   "source": [
    "def master_tax(price, interest, country ): \n",
    "    return f\"{price * interest} for {country} \" \n",
    "\n",
    "final_price = master_tax(100, 0.10, \"in\") \n",
    "print(f'Final tax price: ₹{final_price}' )\n"
   ]
  },
  {
   "cell_type": "code",
   "execution_count": null,
   "id": "2751e68b-27a5-4176-a199-4c23bd58dfc4",
   "metadata": {},
   "outputs": [],
   "source": []
  },
  {
   "cell_type": "code",
   "execution_count": null,
   "id": "3f3c8915-88e3-46cd-952e-bc11bdaa3aac",
   "metadata": {},
   "outputs": [],
   "source": []
  },
  {
   "cell_type": "code",
   "execution_count": null,
   "id": "679c159c-3d1d-442a-a5d8-9d257bbb7ccc",
   "metadata": {},
   "outputs": [],
   "source": [
    "# fix the code & let me know which clean coding principle you are using?\n",
    "# KISS/ YAGNI / DRY?"
   ]
  },
  {
   "cell_type": "code",
   "execution_count": 21,
   "id": "9a1cf456-227b-4bc3-97c2-714c4d6ef00c",
   "metadata": {},
   "outputs": [],
   "source": [
    "def reverse_string(s):\n",
    "    reversed_str = ''\n",
    "    index = len(s) - 1\n",
    "    while index >= 0:\n",
    "        reversed_str += s[index]\n",
    "        index -= 1\n",
    "    return reversed_str"
   ]
  },
  {
   "cell_type": "code",
   "execution_count": 25,
   "id": "dce23751-ba3a-447e-a085-b6cc97986443",
   "metadata": {},
   "outputs": [
    {
     "data": {
      "text/plain": [
       "'dargpu'"
      ]
     },
     "execution_count": 25,
     "metadata": {},
     "output_type": "execute_result"
    }
   ],
   "source": [
    "reverse_string(\"upgrad\")"
   ]
  },
  {
   "cell_type": "code",
   "execution_count": 29,
   "id": "ab6d12d9-8087-4ab1-8e6e-fdbc951b7262",
   "metadata": {},
   "outputs": [],
   "source": [
    "# KISS"
   ]
  },
  {
   "cell_type": "code",
   "execution_count": 31,
   "id": "32dfe0f3-d441-41e2-9284-39523bba67d1",
   "metadata": {},
   "outputs": [],
   "source": [
    "def reverse_string(s):\n",
    "    return s[::-1]\n"
   ]
  },
  {
   "cell_type": "code",
   "execution_count": null,
   "id": "32b34e23-76d3-4aa8-a44d-15d41a2afcd1",
   "metadata": {},
   "outputs": [],
   "source": []
  },
  {
   "cell_type": "code",
   "execution_count": null,
   "id": "23b5c5a9-81ac-4907-8342-6c4d3a47b6bd",
   "metadata": {},
   "outputs": [],
   "source": []
  },
  {
   "cell_type": "code",
   "execution_count": 33,
   "id": "eb613f6a-e3a5-4bd5-b790-9712f06c3fc2",
   "metadata": {},
   "outputs": [],
   "source": [
    "def generate_invoice(customer, items, apply_discount=False, discount_type=None, discount_value=None, currency=\"INR\", language=\"EN\", send_email=False):\n",
    "    total = 0\n",
    "    for item in items:\n",
    "        total += item['price'] * item['quantity']\n",
    "\n",
    "    if apply_discount:\n",
    "        if discount_type == 'percent':\n",
    "            total -= total * discount_value / 100\n",
    "        elif discount_type == 'flat':\n",
    "            total -= discount_value\n",
    "    \n",
    "    # other future functionality...\n",
    "    return f\"Total invoice for {customer} is {currency} {round(total, 2)} in {language}\""
   ]
  },
  {
   "cell_type": "code",
   "execution_count": 35,
   "id": "07d30c08-0419-467f-af60-1b85be83ff01",
   "metadata": {},
   "outputs": [],
   "source": [
    "customer = \"A\"\n",
    "items = [\n",
    "    {\"price\": 500, \"quantity\": 2},  # ₹1000\n",
    "    {\"price\": 200, \"quantity\": 1}   # ₹200\n",
    "]"
   ]
  },
  {
   "cell_type": "code",
   "execution_count": 39,
   "id": "a56fbba0-7dae-4fd5-a611-d2115fbdf47e",
   "metadata": {},
   "outputs": [
    {
     "name": "stdout",
     "output_type": "stream",
     "text": [
      "Total invoice for A is INR 1200 in EN\n"
     ]
    }
   ],
   "source": [
    "print(generate_invoice(customer, items))"
   ]
  },
  {
   "cell_type": "code",
   "execution_count": 45,
   "id": "1825842f-d2c2-444c-8940-ebd1c1c57648",
   "metadata": {},
   "outputs": [],
   "source": [
    "# it violates 2 : YAGNI & KISS"
   ]
  },
  {
   "cell_type": "code",
   "execution_count": 47,
   "id": "e2aad4e4-8379-4b37-9341-b8512ea999ff",
   "metadata": {},
   "outputs": [],
   "source": [
    "def generate_invoice(customer, items):\n",
    "    total = sum(item['price'] * item['quantity'] for item in items)\n",
    "    return f\"Total invoice for {customer} is ₹{round(total, 2)}\""
   ]
  },
  {
   "cell_type": "code",
   "execution_count": 51,
   "id": "97c6cc66-589b-4b22-8b77-68a692301fe9",
   "metadata": {},
   "outputs": [
    {
     "data": {
      "text/plain": [
       "'Total invoice for A is ₹1200'"
      ]
     },
     "execution_count": 51,
     "metadata": {},
     "output_type": "execute_result"
    }
   ],
   "source": [
    "generate_invoice(customer, items)"
   ]
  },
  {
   "cell_type": "code",
   "execution_count": null,
   "id": "02f6e7a8-b0ed-4c71-b06e-92e7f51689d2",
   "metadata": {},
   "outputs": [],
   "source": []
  },
  {
   "cell_type": "code",
   "execution_count": 53,
   "id": "12edd33d-e816-4e0c-98f4-bf9e1aae3e14",
   "metadata": {},
   "outputs": [],
   "source": [
    "def calculate_total(product_list):\n",
    "    total = 0\n",
    "    for product in product_list:\n",
    "        if product['type'] == 'electronics':\n",
    "            discount = product['price'] * 0.1\n",
    "            total += (product['price'] - discount) * product['qty']\n",
    "        elif product['type'] == 'grocery':\n",
    "            discount = product['price'] * 0.05\n",
    "            total += (product['price'] - discount) * product['qty']\n",
    "        elif product['type'] == 'clothing':\n",
    "            discount = product['price'] * 0.15\n",
    "            total += (product['price'] - discount) * product['qty']\n",
    "        else:\n",
    "            total += product['price'] * product['qty']\n",
    "    return total"
   ]
  },
  {
   "cell_type": "code",
   "execution_count": 55,
   "id": "88a842f2-85d8-4e2b-98aa-85e7f640d97b",
   "metadata": {},
   "outputs": [
    {
     "name": "stdout",
     "output_type": "stream",
     "text": [
      "Total bill: 3475.0\n"
     ]
    }
   ],
   "source": [
    "products = [\n",
    "    {'type': 'electronics', 'price': 1000, 'qty': 2},\n",
    "    {'type': 'grocery', 'price': 200, 'qty': 5},\n",
    "    {'type': 'clothing', 'price': 500, 'qty': 1},\n",
    "    {'type': 'stationery', 'price': 100, 'qty': 3}\n",
    "]\n",
    "\n",
    "print(\"Total bill:\", calculate_total(products))"
   ]
  },
  {
   "cell_type": "code",
   "execution_count": 59,
   "id": "d03383e4-defa-4b24-86a1-630b59119c2c",
   "metadata": {},
   "outputs": [],
   "source": [
    "#  priciples DRY : KISS!"
   ]
  },
  {
   "cell_type": "code",
   "execution_count": 65,
   "id": "bca8f9d0-79f5-434e-a3ff-c7cc53286e62",
   "metadata": {},
   "outputs": [],
   "source": [
    "def calculate_total(product_list):\n",
    "    discounts = {\n",
    "        'electronics': 0.10,\n",
    "        'grocery': 0.05,\n",
    "        'clothing': 0.15\n",
    "    }\n",
    "\n",
    "    total = 0\n",
    "    for product in product_list:\n",
    "        if product['type'] in discounts:\n",
    "            discount = discounts[product['type']]\n",
    "        else:\n",
    "            discount = 0\n",
    "        \n",
    "        total += (product['price'] * (1 - discount)) * product['qty']\n",
    "    \n",
    "    return total"
   ]
  },
  {
   "cell_type": "code",
   "execution_count": 67,
   "id": "5906335b-0934-422f-8642-f69144f66b08",
   "metadata": {},
   "outputs": [
    {
     "name": "stdout",
     "output_type": "stream",
     "text": [
      "Total bill: 3475.0\n"
     ]
    }
   ],
   "source": [
    "products = [\n",
    "    {'type': 'electronics', 'price': 1000, 'qty': 2},\n",
    "    {'type': 'grocery', 'price': 200, 'qty': 5},\n",
    "    {'type': 'clothing', 'price': 500, 'qty': 1},\n",
    "    {'type': 'stationery', 'price': 100, 'qty': 3}\n",
    "]\n",
    "\n",
    "print(\"Total bill:\", calculate_total(products))"
   ]
  },
  {
   "cell_type": "code",
   "execution_count": null,
   "id": "3d59ae37-0038-4fe9-962d-b89ced04ca96",
   "metadata": {},
   "outputs": [],
   "source": []
  },
  {
   "cell_type": "code",
   "execution_count": null,
   "id": "7bc2f048-a240-49d1-9398-f88601421ea7",
   "metadata": {},
   "outputs": [],
   "source": []
  }
 ],
 "metadata": {
  "kernelspec": {
   "display_name": "Python [conda env:anaconda3-genai]",
   "language": "python",
   "name": "conda-env-anaconda3-genai-py"
  },
  "language_info": {
   "codemirror_mode": {
    "name": "ipython",
    "version": 3
   },
   "file_extension": ".py",
   "mimetype": "text/x-python",
   "name": "python",
   "nbconvert_exporter": "python",
   "pygments_lexer": "ipython3",
   "version": "3.11.5"
  }
 },
 "nbformat": 4,
 "nbformat_minor": 5
}
