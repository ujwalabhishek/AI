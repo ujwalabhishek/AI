{
 "cells": [
  {
   "cell_type": "code",
   "execution_count": 19,
   "id": "9e26d110-0b16-4cf5-b7c0-f3368edd2309",
   "metadata": {},
   "outputs": [],
   "source": [
    "# Which of the following is a valid variable name in Python?\n",
    "# a) 1variable\n",
    "# b) my_var --> CORRECT!\n",
    "# c) my var\n",
    "# d) my-var"
   ]
  },
  {
   "cell_type": "code",
   "execution_count": 27,
   "id": "e469130e-e9d9-41c7-afbe-af4733270e08",
   "metadata": {},
   "outputs": [],
   "source": [
    "my_var = 10"
   ]
  },
  {
   "cell_type": "code",
   "execution_count": 29,
   "id": "57c09b48-daee-43b6-8760-09a0da3718e6",
   "metadata": {},
   "outputs": [
    {
     "ename": "SyntaxError",
     "evalue": "invalid decimal literal (724792690.py, line 1)",
     "output_type": "error",
     "traceback": [
      "\u001b[0;36m  Cell \u001b[0;32mIn[29], line 1\u001b[0;36m\u001b[0m\n\u001b[0;31m    1variable = 10\u001b[0m\n\u001b[0m    ^\u001b[0m\n\u001b[0;31mSyntaxError\u001b[0m\u001b[0;31m:\u001b[0m invalid decimal literal\n"
     ]
    }
   ],
   "source": [
    "1variable = 10"
   ]
  },
  {
   "cell_type": "code",
   "execution_count": 31,
   "id": "3a58c1c6-e6b2-4881-aee1-2088a1beb7bd",
   "metadata": {},
   "outputs": [
    {
     "ename": "SyntaxError",
     "evalue": "invalid syntax (3057852973.py, line 1)",
     "output_type": "error",
     "traceback": [
      "\u001b[0;36m  Cell \u001b[0;32mIn[31], line 1\u001b[0;36m\u001b[0m\n\u001b[0;31m    my var = 10\u001b[0m\n\u001b[0m       ^\u001b[0m\n\u001b[0;31mSyntaxError\u001b[0m\u001b[0;31m:\u001b[0m invalid syntax\n"
     ]
    }
   ],
   "source": [
    "my var = 10"
   ]
  },
  {
   "cell_type": "code",
   "execution_count": 33,
   "id": "5d81789d-2435-4a90-96a2-65e9c647ce89",
   "metadata": {},
   "outputs": [
    {
     "ename": "SyntaxError",
     "evalue": "cannot assign to expression here. Maybe you meant '==' instead of '='? (3345676153.py, line 1)",
     "output_type": "error",
     "traceback": [
      "\u001b[0;36m  Cell \u001b[0;32mIn[33], line 1\u001b[0;36m\u001b[0m\n\u001b[0;31m    my-var = 10\u001b[0m\n\u001b[0m    ^\u001b[0m\n\u001b[0;31mSyntaxError\u001b[0m\u001b[0;31m:\u001b[0m cannot assign to expression here. Maybe you meant '==' instead of '='?\n"
     ]
    }
   ],
   "source": [
    "my-var = 10"
   ]
  },
  {
   "cell_type": "code",
   "execution_count": null,
   "id": "0a05939a-1c9e-49e5-9238-940b0f5bd7e4",
   "metadata": {},
   "outputs": [],
   "source": []
  },
  {
   "cell_type": "code",
   "execution_count": 43,
   "id": "06ee4132-cf1a-4a8c-9787-f18130254bd8",
   "metadata": {},
   "outputs": [
    {
     "data": {
      "text/plain": [
       "4"
      ]
     },
     "execution_count": 43,
     "metadata": {},
     "output_type": "execute_result"
    }
   ],
   "source": [
    "# 1.Write a Python program that calculates the remainder when 25 is divided by 7 and prints the result.\n",
    "25 % 7"
   ]
  },
  {
   "cell_type": "code",
   "execution_count": 67,
   "id": "83f4861d-b715-4741-9f0a-31be4d5c0e73",
   "metadata": {},
   "outputs": [
    {
     "name": "stdin",
     "output_type": "stream",
     "text": [
      "Enter Number -  50.5\n"
     ]
    }
   ],
   "source": [
    "# 2.Take user input my_number and assign it the value 50.5 \n",
    "# convert it to int.\n",
    "my_number = float(input(\"Enter Number - \"))"
   ]
  },
  {
   "cell_type": "code",
   "execution_count": 69,
   "id": "c4fbf73f-ce2c-4162-9995-05f36bd9f379",
   "metadata": {},
   "outputs": [
    {
     "data": {
      "text/plain": [
       "50.5"
      ]
     },
     "execution_count": 69,
     "metadata": {},
     "output_type": "execute_result"
    }
   ],
   "source": [
    "my_number"
   ]
  },
  {
   "cell_type": "code",
   "execution_count": 71,
   "id": "4e8c22ed-7a0d-4d5b-9c38-a00809c960d7",
   "metadata": {},
   "outputs": [
    {
     "data": {
      "text/plain": [
       "float"
      ]
     },
     "execution_count": 71,
     "metadata": {},
     "output_type": "execute_result"
    }
   ],
   "source": [
    "type(my_number)"
   ]
  },
  {
   "cell_type": "code",
   "execution_count": 73,
   "id": "8daeaab0-26d8-4ba2-bdf5-c985da93e8f5",
   "metadata": {},
   "outputs": [
    {
     "data": {
      "text/plain": [
       "50"
      ]
     },
     "execution_count": 73,
     "metadata": {},
     "output_type": "execute_result"
    }
   ],
   "source": [
    "int(my_number)"
   ]
  },
  {
   "cell_type": "code",
   "execution_count": null,
   "id": "7d927df8-8e6c-4ffc-88d2-da92ed6838bb",
   "metadata": {},
   "outputs": [],
   "source": []
  },
  {
   "cell_type": "code",
   "execution_count": 76,
   "id": "d6f90155-22b0-45fc-b976-30c19ee9f624",
   "metadata": {},
   "outputs": [
    {
     "data": {
      "text/plain": [
       "81"
      ]
     },
     "execution_count": 76,
     "metadata": {},
     "output_type": "execute_result"
    }
   ],
   "source": [
    "# 3.Write a Python program to compute 3 raised to the power of 4 and print the result.\n",
    "3**4"
   ]
  },
  {
   "cell_type": "code",
   "execution_count": 78,
   "id": "ac0a9d66-c721-4501-b137-4237849f5359",
   "metadata": {},
   "outputs": [],
   "source": [
    "# 4. Convert the float number 456.78 into an integer and print both values (before and after conversion).\n",
    "f = 456.78"
   ]
  },
  {
   "cell_type": "code",
   "execution_count": 80,
   "id": "872028ff-f5d3-46ab-8cb9-f732d9fe3267",
   "metadata": {},
   "outputs": [
    {
     "data": {
      "text/plain": [
       "456"
      ]
     },
     "execution_count": 80,
     "metadata": {},
     "output_type": "execute_result"
    }
   ],
   "source": [
    "f_int = int(f)\n",
    "f_int"
   ]
  },
  {
   "cell_type": "code",
   "execution_count": 82,
   "id": "b2292dbf-a9af-47ea-8d48-49e3c28955d1",
   "metadata": {},
   "outputs": [
    {
     "name": "stdin",
     "output_type": "stream",
     "text": [
      "Enter -  hey\n"
     ]
    }
   ],
   "source": [
    "# 5.Write a Python program that takes two input as \n",
    "# string and then concatenate\n",
    "in1 = input(\"Enter - \")"
   ]
  },
  {
   "cell_type": "code",
   "execution_count": 84,
   "id": "3b84de07-d735-4dc5-89b0-890fe091adf4",
   "metadata": {},
   "outputs": [
    {
     "name": "stdin",
     "output_type": "stream",
     "text": [
      "Enter -  all\n"
     ]
    }
   ],
   "source": [
    "in2 = input(\"Enter - \")"
   ]
  },
  {
   "cell_type": "code",
   "execution_count": 86,
   "id": "07b88b39-03b1-49d9-879e-a15d3e727776",
   "metadata": {},
   "outputs": [
    {
     "data": {
      "text/plain": [
       "'heyall'"
      ]
     },
     "execution_count": 86,
     "metadata": {},
     "output_type": "execute_result"
    }
   ],
   "source": [
    "in1 + in2"
   ]
  },
  {
   "cell_type": "code",
   "execution_count": 88,
   "id": "561412c5-8b21-491d-a2e1-7c39e196b6da",
   "metadata": {},
   "outputs": [
    {
     "data": {
      "text/plain": [
       "'hey all'"
      ]
     },
     "execution_count": 88,
     "metadata": {},
     "output_type": "execute_result"
    }
   ],
   "source": [
    "in1 + \" \" + in2"
   ]
  },
  {
   "cell_type": "code",
   "execution_count": null,
   "id": "3a54720d-86a2-4ee4-960b-7d36fd831cef",
   "metadata": {},
   "outputs": [],
   "source": []
  }
 ],
 "metadata": {
  "kernelspec": {
   "display_name": "Python [conda env:base] *",
   "language": "python",
   "name": "conda-base-py"
  },
  "language_info": {
   "codemirror_mode": {
    "name": "ipython",
    "version": 3
   },
   "file_extension": ".py",
   "mimetype": "text/x-python",
   "name": "python",
   "nbconvert_exporter": "python",
   "pygments_lexer": "ipython3",
   "version": "3.12.7"
  }
 },
 "nbformat": 4,
 "nbformat_minor": 5
}
