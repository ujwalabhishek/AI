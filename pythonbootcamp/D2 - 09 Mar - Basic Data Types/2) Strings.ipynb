{
 "cells": [
  {
   "cell_type": "code",
   "execution_count": 5,
   "id": "2d2aff85-5cc1-44d6-a94e-9c7fe39d083e",
   "metadata": {},
   "outputs": [],
   "source": [
    "# string : sequence of texts/characters"
   ]
  },
  {
   "cell_type": "code",
   "execution_count": 7,
   "id": "793e748f-8357-4c5d-9ddd-351a3fe50a5d",
   "metadata": {},
   "outputs": [],
   "source": [
    "# strings can be defined with either\n",
    "# \"\"\n",
    "# ''"
   ]
  },
  {
   "cell_type": "code",
   "execution_count": 11,
   "id": "d50464f6-269f-41cf-a021-7a8361a24a8c",
   "metadata": {},
   "outputs": [
    {
     "name": "stdout",
     "output_type": "stream",
     "text": [
      "upgrad\n"
     ]
    }
   ],
   "source": [
    "a = \"upgrad\"\n",
    "print(a)"
   ]
  },
  {
   "cell_type": "code",
   "execution_count": 13,
   "id": "6856c41d-b75e-4cd6-b5da-0e17d41c6e07",
   "metadata": {},
   "outputs": [
    {
     "data": {
      "text/plain": [
       "str"
      ]
     },
     "execution_count": 13,
     "metadata": {},
     "output_type": "execute_result"
    }
   ],
   "source": [
    "type(a)"
   ]
  },
  {
   "cell_type": "code",
   "execution_count": 15,
   "id": "e8f54599-57cc-4a89-853a-a7448fc4d206",
   "metadata": {},
   "outputs": [
    {
     "name": "stdout",
     "output_type": "stream",
     "text": [
      "upgrad\n"
     ]
    }
   ],
   "source": [
    "b = 'upgrad'\n",
    "print(b)"
   ]
  },
  {
   "cell_type": "code",
   "execution_count": 17,
   "id": "f742b408-c80f-4226-a56a-9d42a4a54812",
   "metadata": {},
   "outputs": [
    {
     "data": {
      "text/plain": [
       "str"
      ]
     },
     "execution_count": 17,
     "metadata": {},
     "output_type": "execute_result"
    }
   ],
   "source": [
    "type(b)"
   ]
  },
  {
   "cell_type": "code",
   "execution_count": null,
   "id": "d0c4e9c5-0daa-45d0-be0d-771d97196a0f",
   "metadata": {},
   "outputs": [],
   "source": []
  },
  {
   "cell_type": "code",
   "execution_count": 19,
   "id": "16b2c4d9-3784-43e7-b676-2dd5ce04b4dd",
   "metadata": {},
   "outputs": [
    {
     "data": {
      "text/plain": [
       "50"
      ]
     },
     "execution_count": 19,
     "metadata": {},
     "output_type": "execute_result"
    }
   ],
   "source": [
    "10 * 5 # multiplication = 50"
   ]
  },
  {
   "cell_type": "code",
   "execution_count": 21,
   "id": "1a472097-5d8f-4b5c-9a46-73c99a85700a",
   "metadata": {},
   "outputs": [
    {
     "data": {
      "text/plain": [
       "'1010101010'"
      ]
     },
     "execution_count": 21,
     "metadata": {},
     "output_type": "execute_result"
    }
   ],
   "source": [
    "'10'*5\n",
    "# a : error\n",
    "# b : no error --> CORRECT!"
   ]
  },
  {
   "cell_type": "code",
   "execution_count": 25,
   "id": "66098e72-d5c4-467e-b571-aeda9d5cecb3",
   "metadata": {},
   "outputs": [
    {
     "name": "stdout",
     "output_type": "stream",
     "text": [
      "upgrad\n",
      "--------------------\n",
      "Learning python\n"
     ]
    }
   ],
   "source": [
    "print(\"upgrad\")\n",
    "print('-'*20)\n",
    "print(\"Learning python\")"
   ]
  },
  {
   "cell_type": "code",
   "execution_count": null,
   "id": "2035a553-d6a7-4327-91a6-a988e4dd0491",
   "metadata": {},
   "outputs": [],
   "source": []
  },
  {
   "cell_type": "code",
   "execution_count": 29,
   "id": "2874a1ec-6ce7-45e4-b411-0955b63f96c4",
   "metadata": {},
   "outputs": [
    {
     "data": {
      "text/plain": [
       "'Hey Learners Hey Learners Hey Learners Hey Learners Hey Learners '"
      ]
     },
     "execution_count": 29,
     "metadata": {},
     "output_type": "execute_result"
    }
   ],
   "source": [
    "\"Hey Learners \"*5"
   ]
  },
  {
   "cell_type": "code",
   "execution_count": null,
   "id": "72ec6cf9-485a-4cf5-b29d-ce1e393735c9",
   "metadata": {},
   "outputs": [],
   "source": []
  },
  {
   "cell_type": "code",
   "execution_count": 31,
   "id": "453c626e-8e82-4c5d-9d6d-8f43a2fdc51d",
   "metadata": {},
   "outputs": [
    {
     "data": {
      "text/plain": [
       "10"
      ]
     },
     "execution_count": 31,
     "metadata": {},
     "output_type": "execute_result"
    }
   ],
   "source": [
    "5 + 5 # addition = 10"
   ]
  },
  {
   "cell_type": "code",
   "execution_count": 33,
   "id": "ce575b64-31b6-4985-9593-75ea9a9baefc",
   "metadata": {},
   "outputs": [
    {
     "data": {
      "text/plain": [
       "'55'"
      ]
     },
     "execution_count": 33,
     "metadata": {},
     "output_type": "execute_result"
    }
   ],
   "source": [
    "'5' + '5' #concatenation"
   ]
  },
  {
   "cell_type": "code",
   "execution_count": null,
   "id": "50976b2f-66b9-4ec1-89e0-a2f601989a9e",
   "metadata": {},
   "outputs": [],
   "source": []
  },
  {
   "cell_type": "code",
   "execution_count": 35,
   "id": "a84eee69-c97b-429f-b212-694950964195",
   "metadata": {},
   "outputs": [],
   "source": [
    "a = 1\n",
    "b = \"1\""
   ]
  },
  {
   "cell_type": "code",
   "execution_count": 37,
   "id": "20de259b-67e9-47fe-9bba-1f1d319050b5",
   "metadata": {},
   "outputs": [
    {
     "data": {
      "text/plain": [
       "False"
      ]
     },
     "execution_count": 37,
     "metadata": {},
     "output_type": "execute_result"
    }
   ],
   "source": [
    "a == b"
   ]
  },
  {
   "cell_type": "code",
   "execution_count": 39,
   "id": "0c39aeec-1e96-4aea-94e0-883143cc6712",
   "metadata": {},
   "outputs": [
    {
     "data": {
      "text/plain": [
       "True"
      ]
     },
     "execution_count": 39,
     "metadata": {},
     "output_type": "execute_result"
    }
   ],
   "source": [
    "a == int(b)"
   ]
  },
  {
   "cell_type": "code",
   "execution_count": 41,
   "id": "46a2be33-4d26-4c18-85e7-6c2537f06650",
   "metadata": {},
   "outputs": [
    {
     "data": {
      "text/plain": [
       "True"
      ]
     },
     "execution_count": 41,
     "metadata": {},
     "output_type": "execute_result"
    }
   ],
   "source": [
    "str(a) == b"
   ]
  },
  {
   "cell_type": "code",
   "execution_count": null,
   "id": "a2e01301-a8cf-49bb-b192-864a74071cc4",
   "metadata": {},
   "outputs": [],
   "source": []
  },
  {
   "cell_type": "code",
   "execution_count": 53,
   "id": "cbe5d022-8622-41bb-9fba-39d92dc192f5",
   "metadata": {},
   "outputs": [
    {
     "data": {
      "text/plain": [
       "'Hello worlD'"
      ]
     },
     "execution_count": 53,
     "metadata": {},
     "output_type": "execute_result"
    }
   ],
   "source": [
    "my_string = \"Hello worlD\"\n",
    "my_string"
   ]
  },
  {
   "cell_type": "code",
   "execution_count": 55,
   "id": "0d179a22-5b5a-400b-bfb8-ed7a93093db2",
   "metadata": {},
   "outputs": [
    {
     "data": {
      "text/plain": [
       "'hello world'"
      ]
     },
     "execution_count": 55,
     "metadata": {},
     "output_type": "execute_result"
    }
   ],
   "source": [
    "my_string.lower() #convert string to lower case"
   ]
  },
  {
   "cell_type": "code",
   "execution_count": 57,
   "id": "90e2607e-9c89-4cc0-b87b-9f7bc785b2ec",
   "metadata": {},
   "outputs": [
    {
     "data": {
      "text/plain": [
       "'HELLO WORLD'"
      ]
     },
     "execution_count": 57,
     "metadata": {},
     "output_type": "execute_result"
    }
   ],
   "source": [
    "my_string.upper() # convert string to upper case"
   ]
  },
  {
   "cell_type": "code",
   "execution_count": 59,
   "id": "5cf8ea7d-b561-4332-9240-134033d0cb87",
   "metadata": {},
   "outputs": [
    {
     "data": {
      "text/plain": [
       "'Hello World'"
      ]
     },
     "execution_count": 59,
     "metadata": {},
     "output_type": "execute_result"
    }
   ],
   "source": [
    "my_string.title() # convert 1st letter of each word as upper case"
   ]
  },
  {
   "cell_type": "code",
   "execution_count": null,
   "id": "be8a1ec7-e64b-4469-9a93-2721f713f96a",
   "metadata": {},
   "outputs": [],
   "source": []
  },
  {
   "cell_type": "code",
   "execution_count": 63,
   "id": "c46ef339-df4e-4d84-8177-40b8005e0825",
   "metadata": {},
   "outputs": [],
   "source": [
    "a1 = 'upgrad'\n",
    "a2 = ' upgrad '\n",
    "a3 = '      upgrad                 '"
   ]
  },
  {
   "cell_type": "code",
   "execution_count": 67,
   "id": "905f90ce-c127-4e28-8414-288bf0bdc561",
   "metadata": {},
   "outputs": [
    {
     "data": {
      "text/plain": [
       "6"
      ]
     },
     "execution_count": 67,
     "metadata": {},
     "output_type": "execute_result"
    }
   ],
   "source": [
    "len(a1) # number of characters in a1"
   ]
  },
  {
   "cell_type": "code",
   "execution_count": 69,
   "id": "64ce5a5c-aa4a-4022-a196-b166753c0edc",
   "metadata": {},
   "outputs": [
    {
     "data": {
      "text/plain": [
       "8"
      ]
     },
     "execution_count": 69,
     "metadata": {},
     "output_type": "execute_result"
    }
   ],
   "source": [
    "len(a2)"
   ]
  },
  {
   "cell_type": "code",
   "execution_count": 71,
   "id": "69126fe7-8397-41c0-ae3b-faf1b47b0c15",
   "metadata": {},
   "outputs": [
    {
     "data": {
      "text/plain": [
       "29"
      ]
     },
     "execution_count": 71,
     "metadata": {},
     "output_type": "execute_result"
    }
   ],
   "source": [
    "len(a3)"
   ]
  },
  {
   "cell_type": "code",
   "execution_count": 73,
   "id": "4776faf6-3d94-4565-bfaf-190fca9ee409",
   "metadata": {},
   "outputs": [
    {
     "data": {
      "text/plain": [
       "False"
      ]
     },
     "execution_count": 73,
     "metadata": {},
     "output_type": "execute_result"
    }
   ],
   "source": [
    "a1 == a2 == a3"
   ]
  },
  {
   "cell_type": "code",
   "execution_count": 85,
   "id": "a50fa2be-135c-4253-bc76-1fcf57e55ac4",
   "metadata": {},
   "outputs": [],
   "source": [
    "# .strip() : removes leading and trailing spaces from the string!"
   ]
  },
  {
   "cell_type": "code",
   "execution_count": 87,
   "id": "b59d0c7d-17c2-4a0c-ba62-49f17d130af6",
   "metadata": {},
   "outputs": [
    {
     "data": {
      "text/plain": [
       "'      upgrad                 '"
      ]
     },
     "execution_count": 87,
     "metadata": {},
     "output_type": "execute_result"
    }
   ],
   "source": [
    "a3"
   ]
  },
  {
   "cell_type": "code",
   "execution_count": 89,
   "id": "b39bcc60-7a65-4af5-ae18-a83339a94875",
   "metadata": {},
   "outputs": [
    {
     "data": {
      "text/plain": [
       "'upgrad'"
      ]
     },
     "execution_count": 89,
     "metadata": {},
     "output_type": "execute_result"
    }
   ],
   "source": [
    "a3.strip()"
   ]
  },
  {
   "cell_type": "code",
   "execution_count": 91,
   "id": "3ebf0a3d-a04b-43aa-9ae0-8f7c1168acc2",
   "metadata": {},
   "outputs": [
    {
     "data": {
      "text/plain": [
       "True"
      ]
     },
     "execution_count": 91,
     "metadata": {},
     "output_type": "execute_result"
    }
   ],
   "source": [
    "a1.strip() == a2.strip() == a3.strip()"
   ]
  },
  {
   "cell_type": "code",
   "execution_count": null,
   "id": "989088b5-7c1d-4ae8-acac-def67460a3bc",
   "metadata": {},
   "outputs": [],
   "source": []
  },
  {
   "cell_type": "code",
   "execution_count": 103,
   "id": "88a9974f-6feb-4bca-a777-ee2beb5a01f6",
   "metadata": {},
   "outputs": [],
   "source": [
    "z = \"     Hello World       \""
   ]
  },
  {
   "cell_type": "code",
   "execution_count": 105,
   "id": "c9c01616-ab91-48db-9515-1e0721d304e2",
   "metadata": {},
   "outputs": [
    {
     "data": {
      "text/plain": [
       "'Hello World'"
      ]
     },
     "execution_count": 105,
     "metadata": {},
     "output_type": "execute_result"
    }
   ],
   "source": [
    "z.strip()"
   ]
  },
  {
   "cell_type": "code",
   "execution_count": 107,
   "id": "7dbb7193-5d11-4904-aca9-be7de6704b9e",
   "metadata": {},
   "outputs": [],
   "source": [
    "# a) Hello World --> CORRECT!\n",
    "# b) HelloWorld\n",
    "# c) smth else"
   ]
  },
  {
   "cell_type": "code",
   "execution_count": null,
   "id": "9e4757c1-e1ed-43cf-b56e-c87dd27671d8",
   "metadata": {},
   "outputs": [],
   "source": []
  },
  {
   "cell_type": "code",
   "execution_count": 109,
   "id": "b25905c8-b178-47da-8780-74ce6a6b19e4",
   "metadata": {},
   "outputs": [],
   "source": [
    "# how to take user input?"
   ]
  },
  {
   "cell_type": "code",
   "execution_count": 111,
   "id": "6f273ff3-4ec6-4512-955d-afe12df7b613",
   "metadata": {},
   "outputs": [
    {
     "name": "stdin",
     "output_type": "stream",
     "text": [
      "Enter your name -  upgrad\n"
     ]
    }
   ],
   "source": [
    "name = input(\"Enter your name - \")"
   ]
  },
  {
   "cell_type": "code",
   "execution_count": 113,
   "id": "c440dd22-60d4-4dcf-a6ee-bc8c0c35009f",
   "metadata": {},
   "outputs": [
    {
     "name": "stdout",
     "output_type": "stream",
     "text": [
      "upgrad\n"
     ]
    }
   ],
   "source": [
    "print(name)"
   ]
  },
  {
   "cell_type": "code",
   "execution_count": 115,
   "id": "d4e21822-4476-48b1-99c4-c4aa49bdb6b3",
   "metadata": {},
   "outputs": [
    {
     "data": {
      "text/plain": [
       "str"
      ]
     },
     "execution_count": 115,
     "metadata": {},
     "output_type": "execute_result"
    }
   ],
   "source": [
    "type(name)"
   ]
  },
  {
   "cell_type": "code",
   "execution_count": null,
   "id": "a2da1c1a-04f1-423d-81f3-34e4f119587c",
   "metadata": {},
   "outputs": [],
   "source": []
  },
  {
   "cell_type": "code",
   "execution_count": 117,
   "id": "71401bd5-c7d1-4302-9661-093b42565fac",
   "metadata": {},
   "outputs": [
    {
     "name": "stdin",
     "output_type": "stream",
     "text": [
      "Enter your age -  20\n"
     ]
    }
   ],
   "source": [
    "age = input(\"Enter your age - \")"
   ]
  },
  {
   "cell_type": "code",
   "execution_count": 119,
   "id": "a54d0849-81b0-4f21-968e-528d23efb69e",
   "metadata": {},
   "outputs": [
    {
     "name": "stdout",
     "output_type": "stream",
     "text": [
      "20\n"
     ]
    }
   ],
   "source": [
    "print(age)"
   ]
  },
  {
   "cell_type": "code",
   "execution_count": 121,
   "id": "c208fb91-16cd-4a03-a4df-450eca282870",
   "metadata": {},
   "outputs": [
    {
     "data": {
      "text/plain": [
       "str"
      ]
     },
     "execution_count": 121,
     "metadata": {},
     "output_type": "execute_result"
    }
   ],
   "source": [
    "type(age)"
   ]
  },
  {
   "cell_type": "code",
   "execution_count": null,
   "id": "ce98ade0-0886-4ae7-8f42-d24e01f324d3",
   "metadata": {},
   "outputs": [],
   "source": []
  },
  {
   "cell_type": "code",
   "execution_count": null,
   "id": "b1256349-8627-4d17-8696-0809aac80997",
   "metadata": {},
   "outputs": [],
   "source": []
  },
  {
   "cell_type": "code",
   "execution_count": 123,
   "id": "c444a2d8-676f-4cbe-aeca-51e5c6850e72",
   "metadata": {},
   "outputs": [
    {
     "name": "stdin",
     "output_type": "stream",
     "text": [
      "enter your age again - 20\n"
     ]
    }
   ],
   "source": [
    "age2 = int(input(\"enter your age again -\"))"
   ]
  },
  {
   "cell_type": "code",
   "execution_count": 125,
   "id": "36b44721-9c8f-42e0-8efd-b544451c54e7",
   "metadata": {},
   "outputs": [
    {
     "data": {
      "text/plain": [
       "int"
      ]
     },
     "execution_count": 125,
     "metadata": {},
     "output_type": "execute_result"
    }
   ],
   "source": [
    "type(age2)"
   ]
  },
  {
   "cell_type": "code",
   "execution_count": null,
   "id": "0cd693d3-9216-4930-a057-e6f1f89ebec0",
   "metadata": {},
   "outputs": [],
   "source": []
  },
  {
   "cell_type": "code",
   "execution_count": 127,
   "id": "7cf74517-4c2f-41e9-8924-af6f9fdc1d34",
   "metadata": {},
   "outputs": [],
   "source": [
    "a = 10\n",
    "b = 20"
   ]
  },
  {
   "cell_type": "code",
   "execution_count": 129,
   "id": "d4cf1855-0ef0-4173-97f7-719e6fc8c11d",
   "metadata": {},
   "outputs": [
    {
     "data": {
      "text/plain": [
       "20"
      ]
     },
     "execution_count": 129,
     "metadata": {},
     "output_type": "execute_result"
    }
   ],
   "source": [
    "a\n",
    "b"
   ]
  },
  {
   "cell_type": "code",
   "execution_count": 131,
   "id": "c426fa4f-aab6-44fe-a785-e0e603d890c3",
   "metadata": {},
   "outputs": [
    {
     "name": "stdout",
     "output_type": "stream",
     "text": [
      "10\n",
      "20\n"
     ]
    }
   ],
   "source": [
    "print(a)\n",
    "print(b)"
   ]
  },
  {
   "cell_type": "code",
   "execution_count": null,
   "id": "f9ba2a19-0e9a-4429-a1c4-c5853ca7fcdc",
   "metadata": {},
   "outputs": [],
   "source": []
  },
  {
   "cell_type": "code",
   "execution_count": null,
   "id": "ff6d79f2-792b-4fb2-b16f-4a68a887a181",
   "metadata": {},
   "outputs": [],
   "source": []
  }
 ],
 "metadata": {
  "kernelspec": {
   "display_name": "Python [conda env:base] *",
   "language": "python",
   "name": "conda-base-py"
  },
  "language_info": {
   "codemirror_mode": {
    "name": "ipython",
    "version": 3
   },
   "file_extension": ".py",
   "mimetype": "text/x-python",
   "name": "python",
   "nbconvert_exporter": "python",
   "pygments_lexer": "ipython3",
   "version": "3.12.7"
  }
 },
 "nbformat": 4,
 "nbformat_minor": 5
}
