{
 "cells": [
  {
   "cell_type": "code",
   "execution_count": 1,
   "id": "f001ed01-3e8c-4dcf-ae16-5bbbcd120143",
   "metadata": {},
   "outputs": [],
   "source": [
    "# basic data types - int float str bool!\n",
    "# arithmetic and logical operations!"
   ]
  },
  {
   "cell_type": "code",
   "execution_count": null,
   "id": "7dc66fe5-9259-480e-b6f6-06686ab22773",
   "metadata": {},
   "outputs": [],
   "source": []
  },
  {
   "cell_type": "code",
   "execution_count": 3,
   "id": "841061c2-d646-4b28-bd2f-71ce32be4813",
   "metadata": {},
   "outputs": [],
   "source": [
    "# integer : number without decimals!"
   ]
  },
  {
   "cell_type": "code",
   "execution_count": 5,
   "id": "ca51e055-8593-4e1a-a945-ac257db2f93d",
   "metadata": {},
   "outputs": [],
   "source": [
    "a = 1 # assign the value 1 to the variable \"a\""
   ]
  },
  {
   "cell_type": "code",
   "execution_count": 7,
   "id": "ad41decc-15dd-4c01-ad77-14e22f6f26f9",
   "metadata": {},
   "outputs": [
    {
     "name": "stdout",
     "output_type": "stream",
     "text": [
      "1\n"
     ]
    }
   ],
   "source": [
    "print(a)"
   ]
  },
  {
   "cell_type": "code",
   "execution_count": 9,
   "id": "b758e0cb-39e6-4ba4-aa9c-17e262737242",
   "metadata": {},
   "outputs": [
    {
     "data": {
      "text/plain": [
       "int"
      ]
     },
     "execution_count": 9,
     "metadata": {},
     "output_type": "execute_result"
    }
   ],
   "source": [
    "type(a) #data type of a"
   ]
  },
  {
   "cell_type": "code",
   "execution_count": 11,
   "id": "4fb0cd06-f0c3-4810-ab4b-f0e5d5b68b8e",
   "metadata": {},
   "outputs": [
    {
     "name": "stdout",
     "output_type": "stream",
     "text": [
      "20\n"
     ]
    }
   ],
   "source": [
    "a2 = 20\n",
    "print(a2)"
   ]
  },
  {
   "cell_type": "code",
   "execution_count": 13,
   "id": "8ffeffa9-7497-4a03-ad92-8350fffe5b61",
   "metadata": {},
   "outputs": [
    {
     "name": "stdout",
     "output_type": "stream",
     "text": [
      "100\n"
     ]
    }
   ],
   "source": [
    "z1 = 100\n",
    "print(z1)"
   ]
  },
  {
   "cell_type": "code",
   "execution_count": null,
   "id": "1155714b-2fa4-4d33-8bf1-8236c80f9f03",
   "metadata": {},
   "outputs": [],
   "source": []
  },
  {
   "cell_type": "code",
   "execution_count": 15,
   "id": "f811dbd9-dc03-4993-be80-a79f799e4301",
   "metadata": {},
   "outputs": [
    {
     "ename": "SyntaxError",
     "evalue": "invalid decimal literal (1430442219.py, line 2)",
     "output_type": "error",
     "traceback": [
      "\u001b[0;36m  Cell \u001b[0;32mIn[15], line 2\u001b[0;36m\u001b[0m\n\u001b[0;31m    1a = 10\u001b[0m\n\u001b[0m    ^\u001b[0m\n\u001b[0;31mSyntaxError\u001b[0m\u001b[0;31m:\u001b[0m invalid decimal literal\n"
     ]
    }
   ],
   "source": [
    "# var name CANNOT start with a number\n",
    "1a = 10"
   ]
  },
  {
   "cell_type": "code",
   "execution_count": 17,
   "id": "6e3043a5-f6a7-4d47-abfa-37d612b486b0",
   "metadata": {},
   "outputs": [
    {
     "ename": "SyntaxError",
     "evalue": "invalid syntax (1225288853.py, line 2)",
     "output_type": "error",
     "traceback": [
      "\u001b[0;36m  Cell \u001b[0;32mIn[17], line 2\u001b[0;36m\u001b[0m\n\u001b[0;31m    a b = 1\u001b[0m\n\u001b[0m      ^\u001b[0m\n\u001b[0;31mSyntaxError\u001b[0m\u001b[0;31m:\u001b[0m invalid syntax\n"
     ]
    }
   ],
   "source": [
    "# var name CANNOT have space between them\n",
    "a b = 1"
   ]
  },
  {
   "cell_type": "code",
   "execution_count": 19,
   "id": "eeba9945-ddee-4e97-8626-afa73999b7fb",
   "metadata": {},
   "outputs": [
    {
     "ename": "SyntaxError",
     "evalue": "cannot assign to expression here. Maybe you meant '==' instead of '='? (27353558.py, line 2)",
     "output_type": "error",
     "traceback": [
      "\u001b[0;36m  Cell \u001b[0;32mIn[19], line 2\u001b[0;36m\u001b[0m\n\u001b[0;31m    a % b = 1\u001b[0m\n\u001b[0m    ^\u001b[0m\n\u001b[0;31mSyntaxError\u001b[0m\u001b[0;31m:\u001b[0m cannot assign to expression here. Maybe you meant '==' instead of '='?\n"
     ]
    }
   ],
   "source": [
    "# var name CANNOT contain some special char\n",
    "a % b = 1"
   ]
  },
  {
   "cell_type": "code",
   "execution_count": null,
   "id": "5be71287-b745-4bb9-9cb9-b5ae76cfc28a",
   "metadata": {},
   "outputs": [],
   "source": []
  },
  {
   "cell_type": "code",
   "execution_count": 21,
   "id": "7f7afad2-8d1d-4d9a-913e-48e587a486c8",
   "metadata": {},
   "outputs": [],
   "source": [
    "a = 1\n",
    "a = 2\n",
    "a = 3\n",
    "a = 4"
   ]
  },
  {
   "cell_type": "code",
   "execution_count": 23,
   "id": "9dbb5eac-3faa-4da7-b6e8-262b11df7cf1",
   "metadata": {},
   "outputs": [
    {
     "ename": "NameError",
     "evalue": "name 'A' is not defined",
     "output_type": "error",
     "traceback": [
      "\u001b[0;31m---------------------------------------------------------------------------\u001b[0m",
      "\u001b[0;31mNameError\u001b[0m                                 Traceback (most recent call last)",
      "Cell \u001b[0;32mIn[23], line 1\u001b[0m\n\u001b[0;32m----> 1\u001b[0m \u001b[38;5;28mprint\u001b[39m(A)\n",
      "\u001b[0;31mNameError\u001b[0m: name 'A' is not defined"
     ]
    }
   ],
   "source": [
    "print(A) #Python is a case sensitive langauge, var a & var A are 2 different variables!"
   ]
  },
  {
   "cell_type": "code",
   "execution_count": 25,
   "id": "077cd5be-100b-4ea3-a342-83d079311a41",
   "metadata": {},
   "outputs": [
    {
     "name": "stdout",
     "output_type": "stream",
     "text": [
      "4\n"
     ]
    }
   ],
   "source": [
    "print(a)"
   ]
  },
  {
   "cell_type": "code",
   "execution_count": null,
   "id": "819ac06d-fd9a-4747-8ce9-91ef660dc8a0",
   "metadata": {},
   "outputs": [],
   "source": []
  },
  {
   "cell_type": "code",
   "execution_count": 27,
   "id": "8f7f725d-4b9e-47a3-bc43-61356b9c6948",
   "metadata": {},
   "outputs": [],
   "source": [
    "a = 1\n",
    "A = 2\n",
    "a = 3\n",
    "A = 4\n",
    "a = A"
   ]
  },
  {
   "cell_type": "code",
   "execution_count": 29,
   "id": "e4246c54-8b9e-4a0e-baf1-0a0d11e1b79b",
   "metadata": {},
   "outputs": [
    {
     "name": "stdout",
     "output_type": "stream",
     "text": [
      "4\n"
     ]
    }
   ],
   "source": [
    "print(a)"
   ]
  },
  {
   "cell_type": "code",
   "execution_count": null,
   "id": "c1e23859-6369-4f7f-949b-79f6385d64de",
   "metadata": {},
   "outputs": [],
   "source": []
  },
  {
   "cell_type": "code",
   "execution_count": 33,
   "id": "4c974d61-186e-40c0-a42c-77f2164cc81f",
   "metadata": {},
   "outputs": [],
   "source": [
    "# float : numbers with decimal values"
   ]
  },
  {
   "cell_type": "code",
   "execution_count": 35,
   "id": "55433cae-cee9-4b86-83c3-e7755e8ca352",
   "metadata": {},
   "outputs": [],
   "source": [
    "a = 100.23"
   ]
  },
  {
   "cell_type": "code",
   "execution_count": 37,
   "id": "0188b851-3cd9-42d7-9843-39b7fbb8ba86",
   "metadata": {},
   "outputs": [
    {
     "name": "stdout",
     "output_type": "stream",
     "text": [
      "100.23\n"
     ]
    }
   ],
   "source": [
    "print(a)"
   ]
  },
  {
   "cell_type": "code",
   "execution_count": 39,
   "id": "f4b0e125-0335-4511-aa38-b346b4c26583",
   "metadata": {},
   "outputs": [
    {
     "data": {
      "text/plain": [
       "float"
      ]
     },
     "execution_count": 39,
     "metadata": {},
     "output_type": "execute_result"
    }
   ],
   "source": [
    "type(a) #datatype of var a"
   ]
  },
  {
   "cell_type": "code",
   "execution_count": null,
   "id": "55175faf-895f-44d9-9354-7dd35774e9ce",
   "metadata": {},
   "outputs": [],
   "source": []
  },
  {
   "cell_type": "code",
   "execution_count": null,
   "id": "f6b3d2e0-508a-4537-bc51-f12a6c147a17",
   "metadata": {},
   "outputs": [],
   "source": []
  },
  {
   "cell_type": "code",
   "execution_count": 41,
   "id": "af6595dd-dc01-4e92-a84f-f0a792d1e3c1",
   "metadata": {},
   "outputs": [
    {
     "name": "stdout",
     "output_type": "stream",
     "text": [
      "200.42\n"
     ]
    }
   ],
   "source": [
    "a2 = 200.42\n",
    "print(a2)"
   ]
  },
  {
   "cell_type": "code",
   "execution_count": 43,
   "id": "5e54c9ce-c10f-4035-8f9d-5998031a111d",
   "metadata": {},
   "outputs": [],
   "source": [
    "# TypeCasting -> convert 1 data type to another data type"
   ]
  },
  {
   "cell_type": "code",
   "execution_count": 47,
   "id": "b8087e23-230a-4518-b363-3f08989cd887",
   "metadata": {},
   "outputs": [
    {
     "data": {
      "text/plain": [
       "200"
      ]
     },
     "execution_count": 47,
     "metadata": {},
     "output_type": "execute_result"
    }
   ],
   "source": [
    "a2_int = int(a2)\n",
    "a2_int"
   ]
  },
  {
   "cell_type": "code",
   "execution_count": null,
   "id": "bb79baa2-7196-42c6-9e5a-c226d92f91d5",
   "metadata": {},
   "outputs": [],
   "source": []
  },
  {
   "cell_type": "code",
   "execution_count": 49,
   "id": "9cbd9b15-05b0-446b-a71a-7d618e3b01a5",
   "metadata": {},
   "outputs": [],
   "source": [
    "a3 = 200.99"
   ]
  },
  {
   "cell_type": "code",
   "execution_count": 51,
   "id": "8c3854bc-67e2-4c3d-9d34-e69c6d987fc9",
   "metadata": {},
   "outputs": [
    {
     "data": {
      "text/plain": [
       "200"
      ]
     },
     "execution_count": 51,
     "metadata": {},
     "output_type": "execute_result"
    }
   ],
   "source": [
    "int(a3)"
   ]
  },
  {
   "cell_type": "code",
   "execution_count": null,
   "id": "8db4cab3-6e8d-45ad-84f7-950d085b63a0",
   "metadata": {},
   "outputs": [],
   "source": []
  },
  {
   "cell_type": "code",
   "execution_count": 53,
   "id": "c6ad6524-bd49-4761-a42e-73089194790c",
   "metadata": {},
   "outputs": [
    {
     "data": {
      "text/plain": [
       "4.0"
      ]
     },
     "execution_count": 53,
     "metadata": {},
     "output_type": "execute_result"
    }
   ],
   "source": [
    "5.0 - 1 # float - int # subtraction\n",
    "# a) 4.0\n",
    "# b) 4"
   ]
  },
  {
   "cell_type": "code",
   "execution_count": 55,
   "id": "840ea9f8-1c08-44d9-ad44-28ec5d68b9ea",
   "metadata": {},
   "outputs": [
    {
     "data": {
      "text/plain": [
       "5.0"
      ]
     },
     "execution_count": 55,
     "metadata": {},
     "output_type": "execute_result"
    }
   ],
   "source": [
    "1 + 4.0 # addition"
   ]
  },
  {
   "cell_type": "code",
   "execution_count": 57,
   "id": "cda3bef7-34f0-41c1-9f98-b3884a93c20d",
   "metadata": {},
   "outputs": [
    {
     "data": {
      "text/plain": [
       "12.0"
      ]
     },
     "execution_count": 57,
     "metadata": {},
     "output_type": "execute_result"
    }
   ],
   "source": [
    "4*3.0 #multiplication"
   ]
  },
  {
   "cell_type": "code",
   "execution_count": 61,
   "id": "29de2c81-c0c2-406c-81c8-8b7b0fcf3d49",
   "metadata": {},
   "outputs": [
    {
     "data": {
      "text/plain": [
       "5.4"
      ]
     },
     "execution_count": 61,
     "metadata": {},
     "output_type": "execute_result"
    }
   ],
   "source": [
    "27/5 #division"
   ]
  },
  {
   "cell_type": "code",
   "execution_count": null,
   "id": "b67807a8-a5ba-430f-991f-c31c50a2b443",
   "metadata": {},
   "outputs": [],
   "source": []
  },
  {
   "cell_type": "code",
   "execution_count": 65,
   "id": "71743fcf-e3ab-4803-a580-d0d560e7aa3e",
   "metadata": {},
   "outputs": [
    {
     "data": {
      "text/plain": [
       "10"
      ]
     },
     "execution_count": 65,
     "metadata": {},
     "output_type": "execute_result"
    }
   ],
   "source": [
    "5*2 #=10"
   ]
  },
  {
   "cell_type": "code",
   "execution_count": 67,
   "id": "df8a5dc9-4dde-4e7e-b5b3-989c04998eda",
   "metadata": {},
   "outputs": [
    {
     "data": {
      "text/plain": [
       "25"
      ]
     },
     "execution_count": 67,
     "metadata": {},
     "output_type": "execute_result"
    }
   ],
   "source": [
    "5**2 #5^2"
   ]
  },
  {
   "cell_type": "code",
   "execution_count": 69,
   "id": "55d0b913-68fa-4baf-b1db-c20856452eaf",
   "metadata": {},
   "outputs": [
    {
     "data": {
      "text/plain": [
       "125"
      ]
     },
     "execution_count": 69,
     "metadata": {},
     "output_type": "execute_result"
    }
   ],
   "source": [
    "5**3 #5^3"
   ]
  },
  {
   "cell_type": "code",
   "execution_count": 73,
   "id": "f095a802-a9e0-4574-a64d-d0cb5d809a5e",
   "metadata": {},
   "outputs": [
    {
     "data": {
      "text/plain": [
       "2"
      ]
     },
     "execution_count": 73,
     "metadata": {},
     "output_type": "execute_result"
    }
   ],
   "source": [
    "27%5 #modulous operator : remainder"
   ]
  },
  {
   "cell_type": "code",
   "execution_count": 75,
   "id": "8eb61c77-602f-4e74-8280-a13d47344fd7",
   "metadata": {},
   "outputs": [
    {
     "data": {
      "text/plain": [
       "5.4"
      ]
     },
     "execution_count": 75,
     "metadata": {},
     "output_type": "execute_result"
    }
   ],
   "source": [
    "27/5 #division"
   ]
  },
  {
   "cell_type": "code",
   "execution_count": 77,
   "id": "96ac311d-334e-4a5f-b2ed-90b81fb247db",
   "metadata": {},
   "outputs": [
    {
     "data": {
      "text/plain": [
       "5"
      ]
     },
     "execution_count": 77,
     "metadata": {},
     "output_type": "execute_result"
    }
   ],
   "source": [
    "27//5 # // : floor division"
   ]
  },
  {
   "cell_type": "code",
   "execution_count": null,
   "id": "1568099c-c126-4ee6-bad0-bcf43e4d610e",
   "metadata": {},
   "outputs": [],
   "source": []
  },
  {
   "cell_type": "code",
   "execution_count": 79,
   "id": "7e9a38c6-8bb3-4a31-aa5a-47fb930cf7ea",
   "metadata": {},
   "outputs": [
    {
     "ename": "SyntaxError",
     "evalue": "invalid syntax (2229600697.py, line 1)",
     "output_type": "error",
     "traceback": [
      "\u001b[0;36m  Cell \u001b[0;32mIn[79], line 1\u001b[0;36m\u001b[0m\n\u001b[0;31m    5***3\u001b[0m\n\u001b[0m       ^\u001b[0m\n\u001b[0;31mSyntaxError\u001b[0m\u001b[0;31m:\u001b[0m invalid syntax\n"
     ]
    }
   ],
   "source": [
    "5***3 #error"
   ]
  },
  {
   "cell_type": "code",
   "execution_count": 83,
   "id": "e2f566d1-e0ad-483a-b087-a9321e485ced",
   "metadata": {},
   "outputs": [
    {
     "data": {
      "text/plain": [
       "1"
      ]
     },
     "execution_count": 83,
     "metadata": {},
     "output_type": "execute_result"
    }
   ],
   "source": [
    "5**0 #=1"
   ]
  },
  {
   "cell_type": "code",
   "execution_count": null,
   "id": "59d1c8c7-edd2-4a43-b068-7f1167034d3a",
   "metadata": {},
   "outputs": [],
   "source": []
  },
  {
   "cell_type": "code",
   "execution_count": 89,
   "id": "2ccce13e-49a8-42d2-99d4-6f180725ddf1",
   "metadata": {},
   "outputs": [],
   "source": [
    "# Booleans : are a result of a logical statement (True or False)"
   ]
  },
  {
   "cell_type": "code",
   "execution_count": 91,
   "id": "90690ebf-c042-4276-a1ed-7eca5638e6ca",
   "metadata": {},
   "outputs": [
    {
     "data": {
      "text/plain": [
       "False"
      ]
     },
     "execution_count": 91,
     "metadata": {},
     "output_type": "execute_result"
    }
   ],
   "source": [
    "50 > 100 "
   ]
  },
  {
   "cell_type": "code",
   "execution_count": 93,
   "id": "188cf55e-6580-4aeb-9261-37411f4c0804",
   "metadata": {},
   "outputs": [
    {
     "data": {
      "text/plain": [
       "True"
      ]
     },
     "execution_count": 93,
     "metadata": {},
     "output_type": "execute_result"
    }
   ],
   "source": [
    "10 > 1"
   ]
  },
  {
   "cell_type": "code",
   "execution_count": 95,
   "id": "756eff9b-1f79-43c1-8734-2776be95da24",
   "metadata": {},
   "outputs": [
    {
     "data": {
      "text/plain": [
       "True"
      ]
     },
     "execution_count": 95,
     "metadata": {},
     "output_type": "execute_result"
    }
   ],
   "source": [
    "20 >= 20"
   ]
  },
  {
   "cell_type": "code",
   "execution_count": 97,
   "id": "3cef52b3-6b63-4ca7-8d3b-f3c66227f9b3",
   "metadata": {},
   "outputs": [
    {
     "data": {
      "text/plain": [
       "False"
      ]
     },
     "execution_count": 97,
     "metadata": {},
     "output_type": "execute_result"
    }
   ],
   "source": [
    "50<=1"
   ]
  },
  {
   "cell_type": "code",
   "execution_count": 99,
   "id": "8acd1ce2-b6f0-4f24-a2d2-369c1e4ac9e4",
   "metadata": {},
   "outputs": [],
   "source": [
    "# > : greater than\n",
    "# < : less than\n",
    "\n",
    "# >= : greater equal\n",
    "# <= : less equal"
   ]
  },
  {
   "cell_type": "code",
   "execution_count": null,
   "id": "2c251875-2fe7-4910-9157-3fd70977493b",
   "metadata": {},
   "outputs": [],
   "source": []
  },
  {
   "cell_type": "code",
   "execution_count": 101,
   "id": "51386c92-bd8a-49e6-8056-6a51ebce52b9",
   "metadata": {},
   "outputs": [],
   "source": [
    "a = 100\n",
    "b = 200"
   ]
  },
  {
   "cell_type": "code",
   "execution_count": 103,
   "id": "ca25d9a4-db5f-468e-8958-a48f8433d6ae",
   "metadata": {},
   "outputs": [
    {
     "data": {
      "text/plain": [
       "False"
      ]
     },
     "execution_count": 103,
     "metadata": {},
     "output_type": "execute_result"
    }
   ],
   "source": [
    "a == b\n",
    "# == : checks equality? is a equal to b or not?"
   ]
  },
  {
   "cell_type": "code",
   "execution_count": 105,
   "id": "9223660d-0b41-4b3c-ab2c-c700eefad1a1",
   "metadata": {},
   "outputs": [
    {
     "data": {
      "text/plain": [
       "True"
      ]
     },
     "execution_count": 105,
     "metadata": {},
     "output_type": "execute_result"
    }
   ],
   "source": [
    "a != b\n",
    "# != : checks inequality? is a not equal to b or not?"
   ]
  },
  {
   "cell_type": "code",
   "execution_count": null,
   "id": "d381f37d-497f-4c9c-b9f1-6833f5bb77fb",
   "metadata": {},
   "outputs": [],
   "source": []
  },
  {
   "cell_type": "code",
   "execution_count": null,
   "id": "4b136077-ab90-4a87-9a50-bbc418c5b326",
   "metadata": {},
   "outputs": [],
   "source": [
    "# and operator"
   ]
  },
  {
   "cell_type": "code",
   "execution_count": 115,
   "id": "305234c8-4911-46a7-9107-291bec94e554",
   "metadata": {},
   "outputs": [
    {
     "name": "stdout",
     "output_type": "stream",
     "text": [
      "True\n"
     ]
    }
   ],
   "source": [
    "print(10 > 4 and 10 > 3)"
   ]
  },
  {
   "cell_type": "code",
   "execution_count": 117,
   "id": "1d590fee-45b1-44d1-8829-417cc4e25911",
   "metadata": {},
   "outputs": [
    {
     "name": "stdout",
     "output_type": "stream",
     "text": [
      "False\n"
     ]
    }
   ],
   "source": [
    "print(10 > 5 and 1 > 10)"
   ]
  },
  {
   "cell_type": "code",
   "execution_count": 119,
   "id": "38beabd0-8616-4334-af0e-d90ed6c9f9fb",
   "metadata": {},
   "outputs": [
    {
     "name": "stdout",
     "output_type": "stream",
     "text": [
      "True\n"
     ]
    }
   ],
   "source": [
    "print(1 > 0 and 2 > 0)"
   ]
  },
  {
   "cell_type": "code",
   "execution_count": null,
   "id": "a3db2311-6251-4342-b02c-ff2b2054a15f",
   "metadata": {},
   "outputs": [],
   "source": []
  },
  {
   "cell_type": "code",
   "execution_count": 121,
   "id": "1785095f-9037-456d-8ffb-cbc1673be500",
   "metadata": {},
   "outputs": [],
   "source": [
    "# or operator"
   ]
  },
  {
   "cell_type": "code",
   "execution_count": 123,
   "id": "e12e1463-3493-4ab5-a7c9-59403df61bf1",
   "metadata": {},
   "outputs": [
    {
     "name": "stdout",
     "output_type": "stream",
     "text": [
      "True\n"
     ]
    }
   ],
   "source": [
    "print(10 > 5 or 20 > 5)"
   ]
  },
  {
   "cell_type": "code",
   "execution_count": null,
   "id": "189642cf-d72d-44ac-9470-ca4f79eb7077",
   "metadata": {},
   "outputs": [],
   "source": []
  },
  {
   "cell_type": "code",
   "execution_count": 125,
   "id": "2130101e-cde1-4eea-b3e0-8fe7e5dcd5e2",
   "metadata": {},
   "outputs": [],
   "source": [
    "# not operator!"
   ]
  },
  {
   "cell_type": "code",
   "execution_count": 127,
   "id": "ae614070-617d-4c62-9b90-cbd4845db449",
   "metadata": {},
   "outputs": [
    {
     "name": "stdout",
     "output_type": "stream",
     "text": [
      "False\n"
     ]
    }
   ],
   "source": [
    "print(not True)"
   ]
  },
  {
   "cell_type": "code",
   "execution_count": 129,
   "id": "e9380487-7c4b-4ded-8dca-95969cfb471c",
   "metadata": {},
   "outputs": [
    {
     "name": "stdout",
     "output_type": "stream",
     "text": [
      "True\n"
     ]
    }
   ],
   "source": [
    "print(not False)"
   ]
  },
  {
   "cell_type": "code",
   "execution_count": 131,
   "id": "6a1a2365-50ac-4b08-9ed6-c14a557612b9",
   "metadata": {},
   "outputs": [
    {
     "name": "stdout",
     "output_type": "stream",
     "text": [
      "True\n"
     ]
    }
   ],
   "source": [
    "print(5 > 2)"
   ]
  },
  {
   "cell_type": "code",
   "execution_count": 133,
   "id": "f9817a7c-03ca-4ddc-9a51-99fe0144dbf8",
   "metadata": {},
   "outputs": [
    {
     "name": "stdout",
     "output_type": "stream",
     "text": [
      "False\n"
     ]
    }
   ],
   "source": [
    "print(not 5 > 2)"
   ]
  },
  {
   "cell_type": "code",
   "execution_count": null,
   "id": "3eff6565-a9be-4bbf-9297-6dc1a584aa66",
   "metadata": {},
   "outputs": [],
   "source": []
  },
  {
   "cell_type": "code",
   "execution_count": 137,
   "id": "5c1ab0a2-1088-4949-90c2-e7d80a8c82fd",
   "metadata": {},
   "outputs": [
    {
     "name": "stdout",
     "output_type": "stream",
     "text": [
      "True\n"
     ]
    }
   ],
   "source": [
    "# \n",
    "a = print(10 > 4 and 10 > 3)\n",
    "a"
   ]
  },
  {
   "cell_type": "code",
   "execution_count": null,
   "id": "aea540dc-98d6-48b3-9e41-989e89ab5855",
   "metadata": {},
   "outputs": [],
   "source": []
  },
  {
   "cell_type": "code",
   "execution_count": 147,
   "id": "501b861b-76a0-4b1f-8b91-81e431d0727f",
   "metadata": {},
   "outputs": [],
   "source": [
    "# \">\" has a higher precendence than \"and\""
   ]
  },
  {
   "cell_type": "code",
   "execution_count": null,
   "id": "378f8fe2-751c-4a77-9d81-c617910ada51",
   "metadata": {},
   "outputs": [],
   "source": []
  }
 ],
 "metadata": {
  "kernelspec": {
   "display_name": "Python [conda env:base] *",
   "language": "python",
   "name": "conda-base-py"
  },
  "language_info": {
   "codemirror_mode": {
    "name": "ipython",
    "version": 3
   },
   "file_extension": ".py",
   "mimetype": "text/x-python",
   "name": "python",
   "nbconvert_exporter": "python",
   "pygments_lexer": "ipython3",
   "version": "3.12.7"
  }
 },
 "nbformat": 4,
 "nbformat_minor": 5
}
