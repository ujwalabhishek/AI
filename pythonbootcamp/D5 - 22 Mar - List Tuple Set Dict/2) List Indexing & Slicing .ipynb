{
 "cells": [
  {
   "cell_type": "code",
   "execution_count": 1,
   "id": "2f7a5058-47a3-431f-80ea-9f917dd10741",
   "metadata": {},
   "outputs": [
    {
     "data": {
      "text/plain": [
       "['Hello', 'my', 'bestest', 'old', 'friend.']"
      ]
     },
     "execution_count": 1,
     "metadata": {},
     "output_type": "execute_result"
    }
   ],
   "source": [
    "another_list = [\"Hello\",\"my\", \"bestest\", \"old\", \"friend.\"]\n",
    "another_list"
   ]
  },
  {
   "cell_type": "code",
   "execution_count": 3,
   "id": "a1cc0224-42c2-4862-a85f-4d29078cc6be",
   "metadata": {},
   "outputs": [
    {
     "data": {
      "text/plain": [
       "list"
      ]
     },
     "execution_count": 3,
     "metadata": {},
     "output_type": "execute_result"
    }
   ],
   "source": [
    "type(another_list)"
   ]
  },
  {
   "cell_type": "code",
   "execution_count": 5,
   "id": "a28844e8-afcc-4171-81b9-a6f61e0c1724",
   "metadata": {},
   "outputs": [
    {
     "data": {
      "text/plain": [
       "'Hello'"
      ]
     },
     "execution_count": 5,
     "metadata": {},
     "output_type": "execute_result"
    }
   ],
   "source": [
    "another_list[0]"
   ]
  },
  {
   "cell_type": "code",
   "execution_count": 7,
   "id": "e1c2ac05-5510-46e1-b06e-bcde74649694",
   "metadata": {},
   "outputs": [
    {
     "data": {
      "text/plain": [
       "str"
      ]
     },
     "execution_count": 7,
     "metadata": {},
     "output_type": "execute_result"
    }
   ],
   "source": [
    "type(another_list[0])"
   ]
  },
  {
   "cell_type": "code",
   "execution_count": null,
   "id": "caa8ad60-45e2-4dd1-861e-73cdf01c8121",
   "metadata": {},
   "outputs": [],
   "source": []
  },
  {
   "cell_type": "code",
   "execution_count": 9,
   "id": "1037f304-3a86-469c-a63e-c3ba9dfdb8ec",
   "metadata": {},
   "outputs": [
    {
     "data": {
      "text/plain": [
       "['Hello', 'my', 'bestest', 'old', 'friend.']"
      ]
     },
     "execution_count": 9,
     "metadata": {},
     "output_type": "execute_result"
    }
   ],
   "source": [
    "another_list"
   ]
  },
  {
   "cell_type": "code",
   "execution_count": 11,
   "id": "37d17508-1801-4d23-b067-a6abd33c94c1",
   "metadata": {},
   "outputs": [
    {
     "data": {
      "text/plain": [
       "'old'"
      ]
     },
     "execution_count": 11,
     "metadata": {},
     "output_type": "execute_result"
    }
   ],
   "source": [
    "another_list[-2]"
   ]
  },
  {
   "cell_type": "code",
   "execution_count": 23,
   "id": "b6c0c547-fb47-41d1-baf4-aa2b3f50f8a4",
   "metadata": {},
   "outputs": [
    {
     "data": {
      "text/plain": [
       "5"
      ]
     },
     "execution_count": 23,
     "metadata": {},
     "output_type": "execute_result"
    }
   ],
   "source": [
    "len(another_list)"
   ]
  },
  {
   "cell_type": "code",
   "execution_count": 15,
   "id": "b9e687cd-9e66-4822-8c0e-14edd3eea351",
   "metadata": {},
   "outputs": [
    {
     "data": {
      "text/plain": [
       "'friend.'"
      ]
     },
     "execution_count": 15,
     "metadata": {},
     "output_type": "execute_result"
    }
   ],
   "source": [
    "another_list[len(another_list)-1] # = another_list[4]"
   ]
  },
  {
   "cell_type": "code",
   "execution_count": null,
   "id": "036fbe33-df63-4cf2-8f8c-bf9d72499e29",
   "metadata": {},
   "outputs": [],
   "source": []
  },
  {
   "cell_type": "code",
   "execution_count": 17,
   "id": "8e45d715-4c8b-4285-aba4-b658b7b14de5",
   "metadata": {},
   "outputs": [
    {
     "data": {
      "text/plain": [
       "['Hello', 'my', 'bestest', 'old', 'friend.']"
      ]
     },
     "execution_count": 17,
     "metadata": {},
     "output_type": "execute_result"
    }
   ],
   "source": [
    "another_list"
   ]
  },
  {
   "cell_type": "code",
   "execution_count": 19,
   "id": "f88eda0e-b319-4e8a-a5fb-ba147495de96",
   "metadata": {},
   "outputs": [
    {
     "data": {
      "text/plain": [
       "'Hello'"
      ]
     },
     "execution_count": 19,
     "metadata": {},
     "output_type": "execute_result"
    }
   ],
   "source": [
    "another_list[0]"
   ]
  },
  {
   "cell_type": "code",
   "execution_count": 21,
   "id": "94dca089-a283-4e81-96d4-6bee6d734e8e",
   "metadata": {},
   "outputs": [
    {
     "data": {
      "text/plain": [
       "'o'"
      ]
     },
     "execution_count": 21,
     "metadata": {},
     "output_type": "execute_result"
    }
   ],
   "source": [
    "another_list[0][-1]"
   ]
  },
  {
   "cell_type": "code",
   "execution_count": null,
   "id": "b3473306-f024-4f41-9a39-e65b81027fc8",
   "metadata": {},
   "outputs": [],
   "source": []
  },
  {
   "cell_type": "code",
   "execution_count": 29,
   "id": "9ce91f2a-d2cc-49bb-8868-d7e806210545",
   "metadata": {},
   "outputs": [],
   "source": [
    "# indexing : fetch single element\n",
    "# slicing : fetch 1 or more than one!"
   ]
  },
  {
   "cell_type": "code",
   "execution_count": 41,
   "id": "f8d17439-b498-4fd5-8024-15ffbdbd8904",
   "metadata": {},
   "outputs": [
    {
     "data": {
      "text/plain": [
       "['Hello', 'my']"
      ]
     },
     "execution_count": 41,
     "metadata": {},
     "output_type": "execute_result"
    }
   ],
   "source": [
    "another_list[0:2]"
   ]
  },
  {
   "cell_type": "code",
   "execution_count": null,
   "id": "c10eeb06-ddde-43be-8499-b74783d9bb35",
   "metadata": {},
   "outputs": [],
   "source": []
  },
  {
   "cell_type": "code",
   "execution_count": 43,
   "id": "9e457105-23e6-4257-b985-50049b2786ae",
   "metadata": {},
   "outputs": [
    {
     "data": {
      "text/plain": [
       "[['bang', 'del', 'mum'], [4, 5, 6], [7, 8, 9]]"
      ]
     },
     "execution_count": 43,
     "metadata": {},
     "output_type": "execute_result"
    }
   ],
   "source": [
    "m_list = [['bang','del','mum'],[4,5,6],[7,8,9]]\n",
    "m_list"
   ]
  },
  {
   "cell_type": "code",
   "execution_count": 45,
   "id": "101ce860-7442-4280-82b4-af861a729758",
   "metadata": {},
   "outputs": [
    {
     "data": {
      "text/plain": [
       "['bang', 'del', 'mum']"
      ]
     },
     "execution_count": 45,
     "metadata": {},
     "output_type": "execute_result"
    }
   ],
   "source": [
    "m_list[0]"
   ]
  },
  {
   "cell_type": "code",
   "execution_count": 47,
   "id": "ccac6631-466b-4769-ac73-f6e61adc11a3",
   "metadata": {},
   "outputs": [
    {
     "data": {
      "text/plain": [
       "'bang'"
      ]
     },
     "execution_count": 47,
     "metadata": {},
     "output_type": "execute_result"
    }
   ],
   "source": [
    "m_list[0][0]"
   ]
  },
  {
   "cell_type": "code",
   "execution_count": 49,
   "id": "0da86227-0d02-4801-81f0-73e196d2ec2a",
   "metadata": {},
   "outputs": [
    {
     "data": {
      "text/plain": [
       "'ban'"
      ]
     },
     "execution_count": 49,
     "metadata": {},
     "output_type": "execute_result"
    }
   ],
   "source": [
    "m_list[0][0][0:3] "
   ]
  },
  {
   "cell_type": "code",
   "execution_count": 51,
   "id": "9077551c-8650-4a53-902c-06b88d4e4402",
   "metadata": {},
   "outputs": [
    {
     "data": {
      "text/plain": [
       "'n'"
      ]
     },
     "execution_count": 51,
     "metadata": {},
     "output_type": "execute_result"
    }
   ],
   "source": [
    "m_list[0][0][0:3][2:]"
   ]
  },
  {
   "cell_type": "code",
   "execution_count": 55,
   "id": "549af86d-5212-4edc-bb1f-57ef3b999450",
   "metadata": {},
   "outputs": [
    {
     "data": {
      "text/plain": [
       "'n'"
      ]
     },
     "execution_count": 55,
     "metadata": {},
     "output_type": "execute_result"
    }
   ],
   "source": [
    "m_list[0][0][0:3][2:][-1]"
   ]
  },
  {
   "cell_type": "code",
   "execution_count": null,
   "id": "56aef7f8-c1f8-443c-b94b-6e8a581cf47f",
   "metadata": {},
   "outputs": [],
   "source": []
  },
  {
   "cell_type": "code",
   "execution_count": 57,
   "id": "66e6da35-8f59-4b2a-a0a9-419339912740",
   "metadata": {},
   "outputs": [],
   "source": [
    "my_list = [10, 20, 30, 40, 50, 60, 70, 80, 90]\n",
    "# extract the third and the sixth element from the list, \n",
    "# but if the list has fewer than 6 elements, \n",
    "# print \"Not enough elements\"."
   ]
  },
  {
   "cell_type": "code",
   "execution_count": 67,
   "id": "68ac795c-b8ca-45cb-abfa-0fa1a11ddda5",
   "metadata": {},
   "outputs": [],
   "source": [
    "# my_list = [10, 20, 30, 40, 50, 60, 70, 80, 90]\n",
    "my_list = [10, 20, 30, 40]"
   ]
  },
  {
   "cell_type": "code",
   "execution_count": 69,
   "id": "c3e4cdf7-2af5-43de-8701-16849d5d09d6",
   "metadata": {},
   "outputs": [
    {
     "name": "stdout",
     "output_type": "stream",
     "text": [
      "not enough elements\n"
     ]
    }
   ],
   "source": [
    "if len(my_list) < 6 :\n",
    "    print(\"not enough elements\")\n",
    "else : \n",
    "    print(my_list[2])\n",
    "    print(my_list[5])"
   ]
  },
  {
   "cell_type": "code",
   "execution_count": null,
   "id": "b6aa5394-4039-4697-b299-fb05da9680fa",
   "metadata": {},
   "outputs": [],
   "source": []
  },
  {
   "cell_type": "code",
   "execution_count": null,
   "id": "5658de0e-8b41-4f49-93a6-53ae9fa40bae",
   "metadata": {},
   "outputs": [],
   "source": []
  },
  {
   "cell_type": "code",
   "execution_count": null,
   "id": "277173f3-d1ff-4b9a-8a7c-63e24175ed43",
   "metadata": {},
   "outputs": [],
   "source": []
  }
 ],
 "metadata": {
  "kernelspec": {
   "display_name": "Python [conda env:anaconda3-genai]",
   "language": "python",
   "name": "conda-env-anaconda3-genai-py"
  },
  "language_info": {
   "codemirror_mode": {
    "name": "ipython",
    "version": 3
   },
   "file_extension": ".py",
   "mimetype": "text/x-python",
   "name": "python",
   "nbconvert_exporter": "python",
   "pygments_lexer": "ipython3",
   "version": "3.11.5"
  }
 },
 "nbformat": 4,
 "nbformat_minor": 5
}
