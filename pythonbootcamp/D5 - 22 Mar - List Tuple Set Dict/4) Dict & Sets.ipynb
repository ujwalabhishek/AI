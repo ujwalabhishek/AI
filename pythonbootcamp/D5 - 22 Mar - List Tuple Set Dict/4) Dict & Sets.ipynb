{
 "cells": [
  {
   "cell_type": "code",
   "execution_count": 5,
   "id": "582cb28b-c911-4453-ac83-a84795d2b058",
   "metadata": {},
   "outputs": [],
   "source": [
    "# list  -> []\n",
    "# tuple -> ()"
   ]
  },
  {
   "cell_type": "code",
   "execution_count": 7,
   "id": "be25aa56-9131-4d93-a629-9b45c0ae9775",
   "metadata": {},
   "outputs": [],
   "source": [
    "# dict -> {key:value}"
   ]
  },
  {
   "cell_type": "code",
   "execution_count": 9,
   "id": "f7bf9c14-2d14-4a2d-afc6-33bc9e3d2e7a",
   "metadata": {},
   "outputs": [],
   "source": [
    "# c1 | c2 -> columns/keys\n",
    "# -------\n",
    "# v1 | v2\n",
    "# v3 | v4\n",
    "# v5 | v6\n",
    "# (Values)"
   ]
  },
  {
   "cell_type": "code",
   "execution_count": null,
   "id": "339edb8a-6879-4745-8bd1-e7b61a188342",
   "metadata": {},
   "outputs": [],
   "source": []
  },
  {
   "cell_type": "code",
   "execution_count": 11,
   "id": "5e03619f-149b-4d13-bc00-d0ac561d52c3",
   "metadata": {},
   "outputs": [],
   "source": [
    "dct = {\"name\":\"upgrad\",\n",
    "      \"age\":10,\n",
    "      \"city\":\"mumbai\"}"
   ]
  },
  {
   "cell_type": "code",
   "execution_count": 13,
   "id": "ae36ffa5-9f30-4585-8f64-ea792cfbb654",
   "metadata": {},
   "outputs": [
    {
     "data": {
      "text/plain": [
       "dict"
      ]
     },
     "execution_count": 13,
     "metadata": {},
     "output_type": "execute_result"
    }
   ],
   "source": [
    "type(dct)"
   ]
  },
  {
   "cell_type": "code",
   "execution_count": 15,
   "id": "980d3ecf-ad7a-4031-8179-24a212a77fce",
   "metadata": {},
   "outputs": [
    {
     "name": "stdout",
     "output_type": "stream",
     "text": [
      "{'name': 'upgrad', 'age': 10, 'city': 'mumbai'}\n"
     ]
    }
   ],
   "source": [
    "print(dct)"
   ]
  },
  {
   "cell_type": "code",
   "execution_count": 17,
   "id": "b3d838dd-ba3f-4f8f-9905-5fe1d307731d",
   "metadata": {},
   "outputs": [
    {
     "ename": "KeyError",
     "evalue": "0",
     "output_type": "error",
     "traceback": [
      "\u001b[0;31m---------------------------------------------------------------------------\u001b[0m",
      "\u001b[0;31mKeyError\u001b[0m                                  Traceback (most recent call last)",
      "Cell \u001b[0;32mIn[17], line 1\u001b[0m\n\u001b[0;32m----> 1\u001b[0m dct[\u001b[38;5;241m0\u001b[39m]\n",
      "\u001b[0;31mKeyError\u001b[0m: 0"
     ]
    }
   ],
   "source": [
    "dct[0] #error!"
   ]
  },
  {
   "cell_type": "code",
   "execution_count": 19,
   "id": "97cea3f3-7e24-4915-a0bc-68ed9751d8d2",
   "metadata": {},
   "outputs": [
    {
     "data": {
      "text/plain": [
       "'upgrad'"
      ]
     },
     "execution_count": 19,
     "metadata": {},
     "output_type": "execute_result"
    }
   ],
   "source": [
    "dct[\"name\"]"
   ]
  },
  {
   "cell_type": "code",
   "execution_count": 21,
   "id": "409e72bb-15f8-48ce-9fef-2128530fe513",
   "metadata": {},
   "outputs": [
    {
     "data": {
      "text/plain": [
       "10"
      ]
     },
     "execution_count": 21,
     "metadata": {},
     "output_type": "execute_result"
    }
   ],
   "source": [
    "dct[\"age\"]"
   ]
  },
  {
   "cell_type": "code",
   "execution_count": 23,
   "id": "552a5e04-aaa7-437e-8bf7-8366b93ba0b8",
   "metadata": {},
   "outputs": [
    {
     "data": {
      "text/plain": [
       "'mumbai'"
      ]
     },
     "execution_count": 23,
     "metadata": {},
     "output_type": "execute_result"
    }
   ],
   "source": [
    "dct[\"city\"]"
   ]
  },
  {
   "cell_type": "code",
   "execution_count": null,
   "id": "c35fe36c-cb7a-4146-a01a-a090b9924898",
   "metadata": {},
   "outputs": [],
   "source": []
  },
  {
   "cell_type": "code",
   "execution_count": 25,
   "id": "9a524a0a-61a2-429d-abd0-ec3a21f67667",
   "metadata": {},
   "outputs": [],
   "source": [
    "dct2 = {\"name\":[\"upgrad\",\"school\"],\n",
    "      \"age\":[10,20],\n",
    "      \"city\":[\"mumbai\",\"delhi\"]}"
   ]
  },
  {
   "cell_type": "code",
   "execution_count": 27,
   "id": "218243c3-be17-4b72-8d33-702b7de95ab5",
   "metadata": {},
   "outputs": [
    {
     "data": {
      "text/plain": [
       "{'name': ['upgrad', 'school'], 'age': [10, 20], 'city': ['mumbai', 'delhi']}"
      ]
     },
     "execution_count": 27,
     "metadata": {},
     "output_type": "execute_result"
    }
   ],
   "source": [
    "dct2"
   ]
  },
  {
   "cell_type": "code",
   "execution_count": null,
   "id": "9e563839-a466-4297-91a8-01d0e994f228",
   "metadata": {},
   "outputs": [],
   "source": []
  },
  {
   "cell_type": "code",
   "execution_count": 29,
   "id": "31dbc140-ae33-4e6e-a361-0e5bee3db073",
   "metadata": {},
   "outputs": [
    {
     "data": {
      "text/plain": [
       "{'name': 'upgrad', 'age': 10, 'city': 'mumbai'}"
      ]
     },
     "execution_count": 29,
     "metadata": {},
     "output_type": "execute_result"
    }
   ],
   "source": [
    "dct"
   ]
  },
  {
   "cell_type": "code",
   "execution_count": 31,
   "id": "f7437187-1b48-4368-9d21-48eaad4bcd2d",
   "metadata": {},
   "outputs": [],
   "source": [
    "# add country : india?\n",
    "dct[\"country\"] = \"india\""
   ]
  },
  {
   "cell_type": "code",
   "execution_count": 33,
   "id": "08e83a7f-c613-4667-8800-bae273a0cf19",
   "metadata": {},
   "outputs": [
    {
     "data": {
      "text/plain": [
       "{'name': 'upgrad', 'age': 10, 'city': 'mumbai', 'country': 'india'}"
      ]
     },
     "execution_count": 33,
     "metadata": {},
     "output_type": "execute_result"
    }
   ],
   "source": [
    "dct"
   ]
  },
  {
   "cell_type": "code",
   "execution_count": 35,
   "id": "9f9b205a-e93b-415e-b459-403e1a0143ab",
   "metadata": {},
   "outputs": [],
   "source": [
    "del dct[\"age\"]"
   ]
  },
  {
   "cell_type": "code",
   "execution_count": 37,
   "id": "74110332-e44a-451f-a958-c91f95630cc8",
   "metadata": {},
   "outputs": [
    {
     "data": {
      "text/plain": [
       "{'name': 'upgrad', 'city': 'mumbai', 'country': 'india'}"
      ]
     },
     "execution_count": 37,
     "metadata": {},
     "output_type": "execute_result"
    }
   ],
   "source": [
    "dct"
   ]
  },
  {
   "cell_type": "code",
   "execution_count": 39,
   "id": "5a9218c8-eca4-490c-8ae9-8ee616efa401",
   "metadata": {},
   "outputs": [
    {
     "data": {
      "text/plain": [
       "3"
      ]
     },
     "execution_count": 39,
     "metadata": {},
     "output_type": "execute_result"
    }
   ],
   "source": [
    "len(dct)\n",
    "# 3 or 6?"
   ]
  },
  {
   "cell_type": "code",
   "execution_count": null,
   "id": "43666e98-ea2b-4045-88a9-caac938bcb6f",
   "metadata": {},
   "outputs": [],
   "source": []
  },
  {
   "cell_type": "code",
   "execution_count": 41,
   "id": "986b9776-f420-4fb6-99d4-27722bd4922f",
   "metadata": {},
   "outputs": [
    {
     "data": {
      "text/plain": [
       "{'name': 'upgrad', 'city': 'mumbai', 'country': 'india'}"
      ]
     },
     "execution_count": 41,
     "metadata": {},
     "output_type": "execute_result"
    }
   ],
   "source": [
    "dct"
   ]
  },
  {
   "cell_type": "code",
   "execution_count": 43,
   "id": "fc5eb862-58ab-41de-9331-8c2f30680fc4",
   "metadata": {},
   "outputs": [
    {
     "data": {
      "text/plain": [
       "dict_keys(['name', 'city', 'country'])"
      ]
     },
     "execution_count": 43,
     "metadata": {},
     "output_type": "execute_result"
    }
   ],
   "source": [
    "dct.keys()"
   ]
  },
  {
   "cell_type": "code",
   "execution_count": 45,
   "id": "1f30c4ba-ecc7-4772-8d35-5462b5e501e5",
   "metadata": {},
   "outputs": [
    {
     "data": {
      "text/plain": [
       "dict_values(['upgrad', 'mumbai', 'india'])"
      ]
     },
     "execution_count": 45,
     "metadata": {},
     "output_type": "execute_result"
    }
   ],
   "source": [
    "dct.values()"
   ]
  },
  {
   "cell_type": "code",
   "execution_count": 47,
   "id": "2c4948ca-ec11-445d-8a04-36ba733c14aa",
   "metadata": {},
   "outputs": [
    {
     "data": {
      "text/plain": [
       "dict_items([('name', 'upgrad'), ('city', 'mumbai'), ('country', 'india')])"
      ]
     },
     "execution_count": 47,
     "metadata": {},
     "output_type": "execute_result"
    }
   ],
   "source": [
    "dct.items() #both keys and values"
   ]
  },
  {
   "cell_type": "code",
   "execution_count": null,
   "id": "2390e45a-0084-4e20-97bb-0652875c34f3",
   "metadata": {},
   "outputs": [],
   "source": []
  },
  {
   "cell_type": "code",
   "execution_count": null,
   "id": "300f383a-ccb3-473a-9b22-ae497175773e",
   "metadata": {},
   "outputs": [],
   "source": []
  },
  {
   "cell_type": "code",
   "execution_count": 49,
   "id": "99eb7c2f-f8b5-482e-8388-606ebffe1847",
   "metadata": {},
   "outputs": [
    {
     "data": {
      "text/plain": [
       "{'name': 'upgrad', 'city': 'mumbai', 'country': 'india'}"
      ]
     },
     "execution_count": 49,
     "metadata": {},
     "output_type": "execute_result"
    }
   ],
   "source": [
    "dct"
   ]
  },
  {
   "cell_type": "code",
   "execution_count": 51,
   "id": "6ffcc7d8-d92b-4028-95ee-4493098cc179",
   "metadata": {},
   "outputs": [
    {
     "data": {
      "text/plain": [
       "True"
      ]
     },
     "execution_count": 51,
     "metadata": {},
     "output_type": "execute_result"
    }
   ],
   "source": [
    "\"name\" in dct"
   ]
  },
  {
   "cell_type": "code",
   "execution_count": 53,
   "id": "7e4781b9-c033-46b9-bfc6-62226e9799e4",
   "metadata": {},
   "outputs": [
    {
     "data": {
      "text/plain": [
       "False"
      ]
     },
     "execution_count": 53,
     "metadata": {},
     "output_type": "execute_result"
    }
   ],
   "source": [
    "\"City\" in dct #python is a case sensitive language!"
   ]
  },
  {
   "cell_type": "code",
   "execution_count": null,
   "id": "7df787df-4096-4b6f-99c9-58beff6b1491",
   "metadata": {},
   "outputs": [],
   "source": []
  },
  {
   "cell_type": "code",
   "execution_count": 55,
   "id": "8582ba36-15e6-4079-aede-0ba9ed9022c7",
   "metadata": {},
   "outputs": [
    {
     "data": {
      "text/plain": [
       "{'name': ['upgrad', 'school'], 'age': [10, 20], 'city': ['mumbai', 'delhi']}"
      ]
     },
     "execution_count": 55,
     "metadata": {},
     "output_type": "execute_result"
    }
   ],
   "source": [
    "dct2"
   ]
  },
  {
   "cell_type": "code",
   "execution_count": 57,
   "id": "8719de18-7e66-4c12-9256-ff4ee495a244",
   "metadata": {},
   "outputs": [
    {
     "data": {
      "text/plain": [
       "['upgrad', 'school']"
      ]
     },
     "execution_count": 57,
     "metadata": {},
     "output_type": "execute_result"
    }
   ],
   "source": [
    "dct2[\"name\"]"
   ]
  },
  {
   "cell_type": "code",
   "execution_count": 59,
   "id": "672567bc-d164-4f58-bdb9-4d2aa8b2601e",
   "metadata": {},
   "outputs": [
    {
     "data": {
      "text/plain": [
       "'upgrad'"
      ]
     },
     "execution_count": 59,
     "metadata": {},
     "output_type": "execute_result"
    }
   ],
   "source": [
    "dct2[\"name\"][0]"
   ]
  },
  {
   "cell_type": "code",
   "execution_count": null,
   "id": "9ad58ce9-c97a-400f-90c0-c3742048df5d",
   "metadata": {},
   "outputs": [],
   "source": []
  },
  {
   "cell_type": "code",
   "execution_count": 63,
   "id": "28816e65-ef0e-408b-9302-d16f984d0f19",
   "metadata": {},
   "outputs": [],
   "source": [
    "# list []\n",
    "# tuple ()\n",
    "# dict {k:v}"
   ]
  },
  {
   "cell_type": "code",
   "execution_count": 65,
   "id": "6b41acac-5a86-4326-b4a3-383b193ff83d",
   "metadata": {},
   "outputs": [],
   "source": [
    "# Sets : {}"
   ]
  },
  {
   "cell_type": "code",
   "execution_count": 67,
   "id": "84b1dc3e-fd8c-4db7-a0c4-f6a6d6383139",
   "metadata": {},
   "outputs": [],
   "source": [
    "myset = {3,4,5,6,7,9,10,1,2,3,3,3,3,3}"
   ]
  },
  {
   "cell_type": "code",
   "execution_count": 69,
   "id": "f3995377-bd49-4eae-bf6a-d018242caa72",
   "metadata": {},
   "outputs": [
    {
     "name": "stdout",
     "output_type": "stream",
     "text": [
      "{1, 2, 3, 4, 5, 6, 7, 9, 10}\n"
     ]
    }
   ],
   "source": [
    "print(myset)"
   ]
  },
  {
   "cell_type": "code",
   "execution_count": 71,
   "id": "e55e8378-ccff-4927-ab19-22e7584bf1b3",
   "metadata": {},
   "outputs": [],
   "source": [
    "# i. removes duplicates\n",
    "# ii. ordered\n",
    "# iii. does NOT support indexing"
   ]
  },
  {
   "cell_type": "code",
   "execution_count": 73,
   "id": "19abb2a5-36d9-47f3-8e6d-db43bd88813d",
   "metadata": {},
   "outputs": [
    {
     "ename": "TypeError",
     "evalue": "'set' object is not subscriptable",
     "output_type": "error",
     "traceback": [
      "\u001b[0;31m---------------------------------------------------------------------------\u001b[0m",
      "\u001b[0;31mTypeError\u001b[0m                                 Traceback (most recent call last)",
      "Cell \u001b[0;32mIn[73], line 1\u001b[0m\n\u001b[0;32m----> 1\u001b[0m myset[\u001b[38;5;241m0\u001b[39m]\n",
      "\u001b[0;31mTypeError\u001b[0m: 'set' object is not subscriptable"
     ]
    }
   ],
   "source": [
    "myset[0]"
   ]
  },
  {
   "cell_type": "code",
   "execution_count": null,
   "id": "4e9a0f23-67a7-47f9-9fc0-4941442fffb4",
   "metadata": {},
   "outputs": [],
   "source": []
  },
  {
   "cell_type": "code",
   "execution_count": 75,
   "id": "cfd951b4-5a45-44c7-9c73-9775ea427ddb",
   "metadata": {},
   "outputs": [],
   "source": [
    "set1 = {1,3,5,6}\n",
    "set2 = {1,2,3,4}`"
   ]
  },
  {
   "cell_type": "code",
   "execution_count": 79,
   "id": "a28b6cde-ff91-4780-ad70-d2f4f4d1f655",
   "metadata": {},
   "outputs": [
    {
     "data": {
      "text/plain": [
       "{1, 2, 3, 4, 5, 6}"
      ]
     },
     "execution_count": 79,
     "metadata": {},
     "output_type": "execute_result"
    }
   ],
   "source": [
    "set1.union(set2)\n",
    "# combine both sets & removes duplicates"
   ]
  },
  {
   "cell_type": "code",
   "execution_count": 81,
   "id": "18dc0bdc-5acc-4b98-8981-92a274e7f956",
   "metadata": {},
   "outputs": [
    {
     "data": {
      "text/plain": [
       "{1, 3}"
      ]
     },
     "execution_count": 81,
     "metadata": {},
     "output_type": "execute_result"
    }
   ],
   "source": [
    "set1.intersection(set2)\n",
    "# common between both sets"
   ]
  },
  {
   "cell_type": "code",
   "execution_count": 85,
   "id": "d80ffaef-e09d-4eb1-92b5-515d7ac7b628",
   "metadata": {},
   "outputs": [],
   "source": [
    "set1 = {1,2}\n",
    "set2 = {1,2,3,4}"
   ]
  },
  {
   "cell_type": "code",
   "execution_count": 87,
   "id": "985184a5-2141-4233-a1cc-3b48ddf9ecd7",
   "metadata": {},
   "outputs": [
    {
     "data": {
      "text/plain": [
       "True"
      ]
     },
     "execution_count": 87,
     "metadata": {},
     "output_type": "execute_result"
    }
   ],
   "source": [
    "set1.issubset(set2) #is set1 subset of set2?"
   ]
  },
  {
   "cell_type": "code",
   "execution_count": null,
   "id": "fd5feee6-fef6-4382-a445-002db7465f6e",
   "metadata": {},
   "outputs": [],
   "source": []
  },
  {
   "cell_type": "code",
   "execution_count": 89,
   "id": "7a590a2b-a68a-47be-a290-c7ecb3c8753d",
   "metadata": {},
   "outputs": [],
   "source": [
    "set1 = {1,2,1000000}\n",
    "set2 = {1,2,3,4}"
   ]
  },
  {
   "cell_type": "code",
   "execution_count": 91,
   "id": "de6ee79b-db63-4100-b282-32a4bca270ac",
   "metadata": {},
   "outputs": [
    {
     "data": {
      "text/plain": [
       "False"
      ]
     },
     "execution_count": 91,
     "metadata": {},
     "output_type": "execute_result"
    }
   ],
   "source": [
    "set1.issubset(set2) #is set1 subset of set2?"
   ]
  },
  {
   "cell_type": "code",
   "execution_count": null,
   "id": "4204032f-79ed-428e-a1d8-7e57810bc830",
   "metadata": {},
   "outputs": [],
   "source": []
  },
  {
   "cell_type": "code",
   "execution_count": 93,
   "id": "08142c8d-085d-487e-8b1d-3ac0831dc075",
   "metadata": {},
   "outputs": [],
   "source": [
    "# add and remove element"
   ]
  },
  {
   "cell_type": "code",
   "execution_count": 95,
   "id": "41e504e3-068e-46a7-8f0a-d135ea9eabac",
   "metadata": {},
   "outputs": [
    {
     "data": {
      "text/plain": [
       "{1, 2, 3, 4, 5, 6, 7, 9, 10}"
      ]
     },
     "execution_count": 95,
     "metadata": {},
     "output_type": "execute_result"
    }
   ],
   "source": [
    "myset"
   ]
  },
  {
   "cell_type": "code",
   "execution_count": 97,
   "id": "6a8d9976-35f0-4f38-8ce1-78ee1ef90a1d",
   "metadata": {},
   "outputs": [],
   "source": [
    "myset.add(8)"
   ]
  },
  {
   "cell_type": "code",
   "execution_count": 99,
   "id": "4eddc716-4189-4c09-9735-d19f4884ff47",
   "metadata": {},
   "outputs": [
    {
     "data": {
      "text/plain": [
       "{1, 2, 3, 4, 5, 6, 7, 8, 9, 10}"
      ]
     },
     "execution_count": 99,
     "metadata": {},
     "output_type": "execute_result"
    }
   ],
   "source": [
    "myset"
   ]
  },
  {
   "cell_type": "code",
   "execution_count": 101,
   "id": "6757aa3d-987d-49c4-99b5-bdc0715885fc",
   "metadata": {},
   "outputs": [],
   "source": [
    "myset.remove(10)"
   ]
  },
  {
   "cell_type": "code",
   "execution_count": 103,
   "id": "771d3b5f-ce74-4990-ba53-a2c19bdcdac6",
   "metadata": {},
   "outputs": [
    {
     "data": {
      "text/plain": [
       "{1, 2, 3, 4, 5, 6, 7, 8, 9}"
      ]
     },
     "execution_count": 103,
     "metadata": {},
     "output_type": "execute_result"
    }
   ],
   "source": [
    "myset"
   ]
  },
  {
   "cell_type": "code",
   "execution_count": null,
   "id": "1fcd163f-74dd-4e4b-9d97-8bff554620aa",
   "metadata": {},
   "outputs": [],
   "source": []
  },
  {
   "cell_type": "code",
   "execution_count": null,
   "id": "32acb32f-7478-4d6a-8efd-66858bf731dd",
   "metadata": {},
   "outputs": [],
   "source": []
  },
  {
   "cell_type": "code",
   "execution_count": null,
   "id": "4ce922ab-8b55-4a95-bd13-85b48b44c8fe",
   "metadata": {},
   "outputs": [],
   "source": []
  }
 ],
 "metadata": {
  "kernelspec": {
   "display_name": "Python [conda env:anaconda3-genai]",
   "language": "python",
   "name": "conda-env-anaconda3-genai-py"
  },
  "language_info": {
   "codemirror_mode": {
    "name": "ipython",
    "version": 3
   },
   "file_extension": ".py",
   "mimetype": "text/x-python",
   "name": "python",
   "nbconvert_exporter": "python",
   "pygments_lexer": "ipython3",
   "version": "3.11.5"
  }
 },
 "nbformat": 4,
 "nbformat_minor": 5
}
