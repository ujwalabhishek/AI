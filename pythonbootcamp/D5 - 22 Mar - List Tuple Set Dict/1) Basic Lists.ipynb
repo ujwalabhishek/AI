{
 "cells": [
  {
   "cell_type": "code",
   "execution_count": 1,
   "id": "be856c96-8ed9-4ce5-97c5-909b779921db",
   "metadata": {},
   "outputs": [],
   "source": [
    "# int float str bool\n",
    "# if else elif\n",
    "# for while def lambda"
   ]
  },
  {
   "cell_type": "code",
   "execution_count": 3,
   "id": "52afb7de-9b64-4fe7-9944-bb09cc2b2102",
   "metadata": {},
   "outputs": [],
   "source": [
    "# pythonic data type - list tuples set dict"
   ]
  },
  {
   "cell_type": "code",
   "execution_count": null,
   "id": "48688ea2-57f8-437a-83f5-7125c0ddcf46",
   "metadata": {},
   "outputs": [],
   "source": []
  },
  {
   "cell_type": "code",
   "execution_count": 5,
   "id": "0afdeee2-031e-49db-8ca6-81397776332b",
   "metadata": {},
   "outputs": [],
   "source": [
    "s = \"upgrad\""
   ]
  },
  {
   "cell_type": "code",
   "execution_count": 7,
   "id": "410ed814-98c7-4925-bb24-f3d40565c4c1",
   "metadata": {},
   "outputs": [
    {
     "data": {
      "text/plain": [
       "str"
      ]
     },
     "execution_count": 7,
     "metadata": {},
     "output_type": "execute_result"
    }
   ],
   "source": [
    "type(s)"
   ]
  },
  {
   "cell_type": "code",
   "execution_count": 11,
   "id": "eb71d571-6dad-44ce-bb69-6f1035cae103",
   "metadata": {},
   "outputs": [
    {
     "data": {
      "text/plain": [
       "'u'"
      ]
     },
     "execution_count": 11,
     "metadata": {},
     "output_type": "execute_result"
    }
   ],
   "source": [
    "s[0] #indexing (in python starts from 0)"
   ]
  },
  {
   "cell_type": "code",
   "execution_count": null,
   "id": "5bb2e3d5-e2e3-4eef-9110-2f6bc979e37f",
   "metadata": {},
   "outputs": [],
   "source": []
  },
  {
   "cell_type": "code",
   "execution_count": 15,
   "id": "6d9faf91-e393-4210-ad07-024634e01b40",
   "metadata": {},
   "outputs": [],
   "source": [
    "# List - mutable collection of objects!"
   ]
  },
  {
   "cell_type": "code",
   "execution_count": 17,
   "id": "80a719a0-d951-4217-b0ae-8f96f6c985b5",
   "metadata": {},
   "outputs": [],
   "source": [
    "# list - []"
   ]
  },
  {
   "cell_type": "code",
   "execution_count": 19,
   "id": "573179fe-28f4-4f91-8656-e95e63e07878",
   "metadata": {},
   "outputs": [],
   "source": [
    "mylist = [\"Upgrad\", 1 , 10.2, True]"
   ]
  },
  {
   "cell_type": "code",
   "execution_count": 21,
   "id": "b0625013-244c-4627-a361-a8b5e9ab4cda",
   "metadata": {},
   "outputs": [
    {
     "data": {
      "text/plain": [
       "['Upgrad', 1, 10.2, True]"
      ]
     },
     "execution_count": 21,
     "metadata": {},
     "output_type": "execute_result"
    }
   ],
   "source": [
    "mylist"
   ]
  },
  {
   "cell_type": "code",
   "execution_count": 23,
   "id": "e6142242-0f30-412a-9a75-fad716b074af",
   "metadata": {},
   "outputs": [
    {
     "data": {
      "text/plain": [
       "list"
      ]
     },
     "execution_count": 23,
     "metadata": {},
     "output_type": "execute_result"
    }
   ],
   "source": [
    "type(mylist)"
   ]
  },
  {
   "cell_type": "code",
   "execution_count": 25,
   "id": "18dcc5f4-2fc0-47c4-83cb-8ee9afdd2659",
   "metadata": {},
   "outputs": [
    {
     "data": {
      "text/plain": [
       "float"
      ]
     },
     "execution_count": 25,
     "metadata": {},
     "output_type": "execute_result"
    }
   ],
   "source": [
    "type(1.0)"
   ]
  },
  {
   "cell_type": "code",
   "execution_count": 27,
   "id": "b6c75e1d-93d6-4447-8400-5056bc7b2797",
   "metadata": {},
   "outputs": [
    {
     "data": {
      "text/plain": [
       "int"
      ]
     },
     "execution_count": 27,
     "metadata": {},
     "output_type": "execute_result"
    }
   ],
   "source": [
    "type(100)"
   ]
  },
  {
   "cell_type": "code",
   "execution_count": null,
   "id": "401197ef-d4de-4b94-80ec-5c6c4f497cf2",
   "metadata": {},
   "outputs": [],
   "source": []
  },
  {
   "cell_type": "code",
   "execution_count": 33,
   "id": "06bf00e9-d89b-44d9-bd92-41a258425a19",
   "metadata": {},
   "outputs": [],
   "source": [
    "empty_list = []"
   ]
  },
  {
   "cell_type": "code",
   "execution_count": 35,
   "id": "ab3d5303-09d2-4bae-ab82-3a6c40871f7b",
   "metadata": {},
   "outputs": [
    {
     "name": "stdout",
     "output_type": "stream",
     "text": [
      "[]\n"
     ]
    }
   ],
   "source": [
    "print(empty_list)"
   ]
  },
  {
   "cell_type": "code",
   "execution_count": null,
   "id": "a44909d5-8d8f-4a76-9446-d89f11bbb66d",
   "metadata": {},
   "outputs": [],
   "source": []
  },
  {
   "cell_type": "code",
   "execution_count": 37,
   "id": "a6882a76-9d61-40b6-a554-e6757603f4e6",
   "metadata": {},
   "outputs": [],
   "source": [
    "empty_list.append(\"python\")"
   ]
  },
  {
   "cell_type": "code",
   "execution_count": 39,
   "id": "c4a05e87-7574-4436-a9cc-9273815bbaf2",
   "metadata": {},
   "outputs": [
    {
     "data": {
      "text/plain": [
       "['python']"
      ]
     },
     "execution_count": 39,
     "metadata": {},
     "output_type": "execute_result"
    }
   ],
   "source": [
    "empty_list"
   ]
  },
  {
   "cell_type": "code",
   "execution_count": 41,
   "id": "71e0850a-dd30-4c59-96ca-6bf4b4912a33",
   "metadata": {},
   "outputs": [],
   "source": [
    "empty_list.append(\"learning\")\n",
    "# 1. [\"learning\"]\n",
    "# 2. [\"python\",\"learning\"] --> CORRECT!\n",
    "# 3. [\"learning\", \"python\"]"
   ]
  },
  {
   "cell_type": "code",
   "execution_count": 45,
   "id": "0c0d1f4f-39c5-4ec5-8c0c-0ed52b59e538",
   "metadata": {},
   "outputs": [
    {
     "data": {
      "text/plain": [
       "['python', 'learning']"
      ]
     },
     "execution_count": 45,
     "metadata": {},
     "output_type": "execute_result"
    }
   ],
   "source": [
    "empty_list #append adds the elemnt at the end of the list!"
   ]
  },
  {
   "cell_type": "code",
   "execution_count": null,
   "id": "aba22c24-29ef-4e3d-a1fd-0066a0eed916",
   "metadata": {},
   "outputs": [],
   "source": []
  },
  {
   "cell_type": "code",
   "execution_count": 47,
   "id": "ac2209fa-8cc9-4fec-aa6b-b00912a357f3",
   "metadata": {},
   "outputs": [],
   "source": [
    "a = []"
   ]
  },
  {
   "cell_type": "code",
   "execution_count": 53,
   "id": "9bda6094-6881-4810-a3fc-3cf6fda345b5",
   "metadata": {},
   "outputs": [],
   "source": [
    "# a. # hit tab"
   ]
  },
  {
   "cell_type": "code",
   "execution_count": 55,
   "id": "382f67bf-2672-42f4-bf4a-36c294b40a69",
   "metadata": {},
   "outputs": [],
   "source": [
    "# a.append(shift+tab)"
   ]
  },
  {
   "cell_type": "code",
   "execution_count": null,
   "id": "5fcb1efd-d692-4046-b9a1-ba378739ae4c",
   "metadata": {},
   "outputs": [],
   "source": []
  },
  {
   "cell_type": "code",
   "execution_count": 57,
   "id": "a950295d-e18e-47df-b922-670ec1ba9a62",
   "metadata": {},
   "outputs": [
    {
     "data": {
      "text/plain": [
       "['python', 'learning']"
      ]
     },
     "execution_count": 57,
     "metadata": {},
     "output_type": "execute_result"
    }
   ],
   "source": [
    "empty_list #if i use append, the element will go at the end of the list"
   ]
  },
  {
   "cell_type": "code",
   "execution_count": 59,
   "id": "8b230599-5d1d-4c17-8ec4-1da9e6e0c055",
   "metadata": {},
   "outputs": [],
   "source": [
    "empty_list.append(\"is fun\")"
   ]
  },
  {
   "cell_type": "code",
   "execution_count": 61,
   "id": "140cb329-5310-4eb9-a384-9b81a444d59e",
   "metadata": {},
   "outputs": [
    {
     "data": {
      "text/plain": [
       "['python', 'learning', 'is fun']"
      ]
     },
     "execution_count": 61,
     "metadata": {},
     "output_type": "execute_result"
    }
   ],
   "source": [
    "empty_list"
   ]
  },
  {
   "cell_type": "code",
   "execution_count": 63,
   "id": "b1de4067-2657-4735-9e53-f5b7bd26defa",
   "metadata": {},
   "outputs": [],
   "source": [
    "empty_list.insert(0,\"language\")"
   ]
  },
  {
   "cell_type": "code",
   "execution_count": 65,
   "id": "65321118-b5f8-4fad-bc97-ba285bc64c2b",
   "metadata": {},
   "outputs": [
    {
     "data": {
      "text/plain": [
       "['language', 'python', 'learning', 'is fun']"
      ]
     },
     "execution_count": 65,
     "metadata": {},
     "output_type": "execute_result"
    }
   ],
   "source": [
    "empty_list"
   ]
  },
  {
   "cell_type": "code",
   "execution_count": null,
   "id": "f3cde40f-3da1-4dd9-87a1-cf03581e156f",
   "metadata": {},
   "outputs": [],
   "source": []
  },
  {
   "cell_type": "code",
   "execution_count": 69,
   "id": "3a7ab44e-6b24-4d2d-8bb1-b6ae16f946b6",
   "metadata": {},
   "outputs": [
    {
     "data": {
      "text/plain": [
       "['Lesson', 5, 'Is Fun?', True]"
      ]
     },
     "execution_count": 69,
     "metadata": {},
     "output_type": "execute_result"
    }
   ],
   "source": [
    "newlist =['Lesson', 5, 'Is Fun?', True]\n",
    "newlist"
   ]
  },
  {
   "cell_type": "code",
   "execution_count": 71,
   "id": "acd8e57f-71f5-4382-a811-ce043cc212ed",
   "metadata": {},
   "outputs": [],
   "source": [
    "newlist.remove(5)"
   ]
  },
  {
   "cell_type": "code",
   "execution_count": 73,
   "id": "070550f6-4376-47c5-a163-a37c3646a2e6",
   "metadata": {},
   "outputs": [
    {
     "data": {
      "text/plain": [
       "['Lesson', 'Is Fun?', True]"
      ]
     },
     "execution_count": 73,
     "metadata": {},
     "output_type": "execute_result"
    }
   ],
   "source": [
    "newlist"
   ]
  },
  {
   "cell_type": "code",
   "execution_count": 75,
   "id": "935d2e07-f6a4-48f7-9d7f-e545057c4c11",
   "metadata": {},
   "outputs": [],
   "source": [
    "del newlist[0] #remove the first element of the list"
   ]
  },
  {
   "cell_type": "code",
   "execution_count": 77,
   "id": "f8d5ad6f-1b5d-4fe3-9af2-0b88c8ed00c6",
   "metadata": {},
   "outputs": [
    {
     "data": {
      "text/plain": [
       "['Is Fun?', True]"
      ]
     },
     "execution_count": 77,
     "metadata": {},
     "output_type": "execute_result"
    }
   ],
   "source": [
    "newlist"
   ]
  },
  {
   "cell_type": "code",
   "execution_count": null,
   "id": "f0cde3fb-e263-44a3-af25-eadf9b1b13ad",
   "metadata": {},
   "outputs": [],
   "source": []
  },
  {
   "cell_type": "code",
   "execution_count": null,
   "id": "15c73a99-047c-458a-85a6-02601cc71a99",
   "metadata": {},
   "outputs": [],
   "source": []
  },
  {
   "cell_type": "code",
   "execution_count": 79,
   "id": "5fb12518-4d40-4822-bbfa-0ae8e37a9c76",
   "metadata": {},
   "outputs": [],
   "source": [
    "nu = [1,1,2,2,3]"
   ]
  },
  {
   "cell_type": "code",
   "execution_count": 83,
   "id": "102b27ad-4ada-4536-b0c6-5a3fc6e5c262",
   "metadata": {},
   "outputs": [],
   "source": [
    "nu.remove(1) #will remove only 1st occurence!"
   ]
  },
  {
   "cell_type": "code",
   "execution_count": 85,
   "id": "e3ee9535-2d8b-4102-aa92-095c00aafcd9",
   "metadata": {},
   "outputs": [
    {
     "data": {
      "text/plain": [
       "[1, 2, 2, 3]"
      ]
     },
     "execution_count": 85,
     "metadata": {},
     "output_type": "execute_result"
    }
   ],
   "source": [
    "nu"
   ]
  },
  {
   "cell_type": "code",
   "execution_count": 87,
   "id": "87c3f4f5-ab23-409b-95de-bc077b8181a6",
   "metadata": {},
   "outputs": [],
   "source": [
    "# o/p :\n",
    "# 1) [1,2,2,3] --> CORRECT! \n",
    "# 2) [2,2,3]"
   ]
  },
  {
   "cell_type": "code",
   "execution_count": null,
   "id": "9a82692a-814c-4e2e-ad7a-58ffdf5902b7",
   "metadata": {},
   "outputs": [],
   "source": []
  },
  {
   "cell_type": "code",
   "execution_count": null,
   "id": "884ad516-bf45-43fd-adbc-b7097f8e4c0b",
   "metadata": {},
   "outputs": [],
   "source": []
  },
  {
   "cell_type": "code",
   "execution_count": 93,
   "id": "2b6681ed-aa73-4e18-9a16-7bae678092fe",
   "metadata": {},
   "outputs": [
    {
     "data": {
      "text/plain": [
       "'x is nice'"
      ]
     },
     "execution_count": 93,
     "metadata": {},
     "output_type": "execute_result"
    }
   ],
   "source": [
    "'x'  + ' is nice'"
   ]
  },
  {
   "cell_type": "code",
   "execution_count": null,
   "id": "1b796e9d-e039-4a14-b383-3295a68f1497",
   "metadata": {},
   "outputs": [],
   "source": []
  },
  {
   "cell_type": "code",
   "execution_count": 89,
   "id": "56e01f8e-a961-4d1d-9e87-59428922198c",
   "metadata": {},
   "outputs": [
    {
     "data": {
      "text/plain": [
       "[1, 2, 2, 3]"
      ]
     },
     "execution_count": 89,
     "metadata": {},
     "output_type": "execute_result"
    }
   ],
   "source": [
    "nu"
   ]
  },
  {
   "cell_type": "code",
   "execution_count": 91,
   "id": "745d5947-5f52-4189-bd04-2009cdcf8921",
   "metadata": {},
   "outputs": [
    {
     "data": {
      "text/plain": [
       "['Upgrad', 1, 10.2, True]"
      ]
     },
     "execution_count": 91,
     "metadata": {},
     "output_type": "execute_result"
    }
   ],
   "source": [
    "mylist"
   ]
  },
  {
   "cell_type": "code",
   "execution_count": 97,
   "id": "40086ca0-ce5f-45c8-bf80-313b5de26005",
   "metadata": {},
   "outputs": [
    {
     "data": {
      "text/plain": [
       "[1, 2, 2, 3, 'Upgrad', 1, 10.2, True]"
      ]
     },
     "execution_count": 97,
     "metadata": {},
     "output_type": "execute_result"
    }
   ],
   "source": [
    "new = nu + mylist\n",
    "new"
   ]
  },
  {
   "cell_type": "code",
   "execution_count": null,
   "id": "c1569b19-406e-4d0f-b319-5761eefc5815",
   "metadata": {},
   "outputs": [],
   "source": []
  },
  {
   "cell_type": "code",
   "execution_count": 99,
   "id": "680efcc0-56ba-4951-bd9b-86c5cb4eb543",
   "metadata": {},
   "outputs": [
    {
     "name": "stdout",
     "output_type": "stream",
     "text": [
      "len - 5\n",
      "max - 9\n",
      "min - 1\n",
      "sum - 25\n",
      "avg - 5.0\n"
     ]
    }
   ],
   "source": [
    "num_list = [1,3,5,7,9]\n",
    "print(\"len -\", len(num_list))                # Check the length\n",
    "print(\"max -\", max(num_list))                # Check the max\n",
    "print(\"min -\", min(num_list))                # Check the min\n",
    "print(\"sum -\", sum(num_list))                # Check the sum\n",
    "print(\"avg -\", sum(num_list)/len(num_list))  # Check the mean"
   ]
  },
  {
   "cell_type": "code",
   "execution_count": null,
   "id": "4273ec2d-f035-4e30-b069-31e5b987275e",
   "metadata": {},
   "outputs": [],
   "source": []
  },
  {
   "cell_type": "code",
   "execution_count": null,
   "id": "337036a1-6d38-400f-9f0d-a7747fc7e431",
   "metadata": {},
   "outputs": [],
   "source": []
  },
  {
   "cell_type": "code",
   "execution_count": 101,
   "id": "da18bec7-1fbc-4020-b0f1-28bd4da7e35e",
   "metadata": {},
   "outputs": [
    {
     "data": {
      "text/plain": [
       "[1, 3, 5, 7, 9, 3, 3, 3, 3, 'a']"
      ]
     },
     "execution_count": 101,
     "metadata": {},
     "output_type": "execute_result"
    }
   ],
   "source": [
    "num_list = [1,3,5,7,9,3,3,3,3,'a']\n",
    "num_list"
   ]
  },
  {
   "cell_type": "code",
   "execution_count": 103,
   "id": "bbf262c1-3557-454c-8066-82d83896b0f0",
   "metadata": {},
   "outputs": [
    {
     "data": {
      "text/plain": [
       "5"
      ]
     },
     "execution_count": 103,
     "metadata": {},
     "output_type": "execute_result"
    }
   ],
   "source": [
    "num_list.count(3) # count of 3"
   ]
  },
  {
   "cell_type": "code",
   "execution_count": 141,
   "id": "6384e7e1-9eb7-4c1a-875b-7d88f1f40fdc",
   "metadata": {},
   "outputs": [
    {
     "data": {
      "text/plain": [
       "0"
      ]
     },
     "execution_count": 141,
     "metadata": {},
     "output_type": "execute_result"
    }
   ],
   "source": [
    "num_list.count(\"a \")"
   ]
  },
  {
   "cell_type": "code",
   "execution_count": null,
   "id": "350ed4c7-69b7-4e33-9175-d469f5398105",
   "metadata": {},
   "outputs": [],
   "source": []
  },
  {
   "cell_type": "code",
   "execution_count": null,
   "id": "9668a421-8b65-440d-94b1-2ca29be0e829",
   "metadata": {},
   "outputs": [],
   "source": []
  },
  {
   "cell_type": "code",
   "execution_count": 111,
   "id": "4865e97b-9f9d-409c-b420-f3a3f0aba147",
   "metadata": {},
   "outputs": [
    {
     "data": {
      "text/plain": [
       "[1, 5, 4, 2, 3, 6]"
      ]
     },
     "execution_count": 111,
     "metadata": {},
     "output_type": "execute_result"
    }
   ],
   "source": [
    "new_list= [1, 5, 4, 2, 3, 6]\n",
    "new_list #is this list sorted?"
   ]
  },
  {
   "cell_type": "code",
   "execution_count": 119,
   "id": "1c78993b-e723-429c-8a18-acaac1087f78",
   "metadata": {},
   "outputs": [],
   "source": [
    "new_list.sort() #ascending order!"
   ]
  },
  {
   "cell_type": "code",
   "execution_count": 121,
   "id": "2968ad93-bd75-4deb-bb5e-74a166f74e40",
   "metadata": {},
   "outputs": [
    {
     "data": {
      "text/plain": [
       "[1, 2, 3, 4, 5, 6]"
      ]
     },
     "execution_count": 121,
     "metadata": {},
     "output_type": "execute_result"
    }
   ],
   "source": [
    "new_list"
   ]
  },
  {
   "cell_type": "code",
   "execution_count": 127,
   "id": "d098fcb2-3860-46eb-97ff-1859fcaca615",
   "metadata": {},
   "outputs": [],
   "source": [
    "new_list.sort(reverse=True) #descending order!"
   ]
  },
  {
   "cell_type": "code",
   "execution_count": 129,
   "id": "f8a51bc2-a3e5-4fe2-aa89-a3d702242c12",
   "metadata": {},
   "outputs": [
    {
     "data": {
      "text/plain": [
       "[6, 5, 4, 3, 2, 1]"
      ]
     },
     "execution_count": 129,
     "metadata": {},
     "output_type": "execute_result"
    }
   ],
   "source": [
    "new_list"
   ]
  },
  {
   "cell_type": "code",
   "execution_count": null,
   "id": "be833c53-6cd9-4aba-8dab-4063de3f4f70",
   "metadata": {},
   "outputs": [],
   "source": []
  },
  {
   "cell_type": "code",
   "execution_count": 131,
   "id": "5464db28-4db2-4a33-8346-ba39c5355ff5",
   "metadata": {},
   "outputs": [],
   "source": [
    "# a = sorted(mylist)"
   ]
  },
  {
   "cell_type": "code",
   "execution_count": null,
   "id": "d4512dfa-8458-49f7-adc1-698149d77bad",
   "metadata": {},
   "outputs": [],
   "source": []
  },
  {
   "cell_type": "code",
   "execution_count": null,
   "id": "20856a9b-c2a3-4a65-a654-e1188eae2d44",
   "metadata": {},
   "outputs": [],
   "source": []
  }
 ],
 "metadata": {
  "kernelspec": {
   "display_name": "Python [conda env:anaconda3-genai]",
   "language": "python",
   "name": "conda-env-anaconda3-genai-py"
  },
  "language_info": {
   "codemirror_mode": {
    "name": "ipython",
    "version": 3
   },
   "file_extension": ".py",
   "mimetype": "text/x-python",
   "name": "python",
   "nbconvert_exporter": "python",
   "pygments_lexer": "ipython3",
   "version": "3.11.5"
  }
 },
 "nbformat": 4,
 "nbformat_minor": 5
}
