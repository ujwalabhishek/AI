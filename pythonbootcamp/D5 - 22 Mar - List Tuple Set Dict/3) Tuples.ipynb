{
 "cells": [
  {
   "cell_type": "code",
   "execution_count": 4,
   "id": "46191a59-d47a-4639-b8fa-18779233e6ee",
   "metadata": {},
   "outputs": [],
   "source": [
    "# list : []"
   ]
  },
  {
   "cell_type": "code",
   "execution_count": 6,
   "id": "18216898-9b87-4a78-bbb9-76fa015b060a",
   "metadata": {},
   "outputs": [],
   "source": [
    "# tuple : ()"
   ]
  },
  {
   "cell_type": "code",
   "execution_count": 8,
   "id": "d62a379a-01e8-4b25-9663-df7b1a4caac4",
   "metadata": {},
   "outputs": [],
   "source": [
    "# tuples are immutable datatypes! "
   ]
  },
  {
   "cell_type": "code",
   "execution_count": null,
   "id": "023add1e-b870-463c-993b-9ce8f82a24c3",
   "metadata": {},
   "outputs": [],
   "source": []
  },
  {
   "cell_type": "code",
   "execution_count": 10,
   "id": "4b5e836d-ce51-4383-9537-915804a39c9c",
   "metadata": {},
   "outputs": [],
   "source": [
    "my_tuple = (1,2,3,4)"
   ]
  },
  {
   "cell_type": "code",
   "execution_count": 12,
   "id": "f56eaa26-6500-42ee-95a9-56bdee8c027e",
   "metadata": {},
   "outputs": [
    {
     "data": {
      "text/plain": [
       "(1, 2, 3, 4)"
      ]
     },
     "execution_count": 12,
     "metadata": {},
     "output_type": "execute_result"
    }
   ],
   "source": [
    "my_tuple"
   ]
  },
  {
   "cell_type": "code",
   "execution_count": 14,
   "id": "dc0d63d2-5c11-4842-8f97-be0bfcbfb53e",
   "metadata": {},
   "outputs": [],
   "source": [
    "# tuple support indexing!"
   ]
  },
  {
   "cell_type": "code",
   "execution_count": 16,
   "id": "1eea7e78-ce53-42af-a295-5c89fbf5a1c8",
   "metadata": {},
   "outputs": [
    {
     "data": {
      "text/plain": [
       "1"
      ]
     },
     "execution_count": 16,
     "metadata": {},
     "output_type": "execute_result"
    }
   ],
   "source": [
    "my_tuple[0]"
   ]
  },
  {
   "cell_type": "code",
   "execution_count": 18,
   "id": "8a3e09c1-667c-4056-ac7f-cfb3678bc97f",
   "metadata": {},
   "outputs": [
    {
     "data": {
      "text/plain": [
       "(1, 2, 3)"
      ]
     },
     "execution_count": 18,
     "metadata": {},
     "output_type": "execute_result"
    }
   ],
   "source": [
    "my_tuple[0:3] #0,1,2 index in the output"
   ]
  },
  {
   "cell_type": "code",
   "execution_count": null,
   "id": "7b1302cf-8693-497e-8add-1b0c6177c793",
   "metadata": {},
   "outputs": [],
   "source": []
  },
  {
   "cell_type": "code",
   "execution_count": 20,
   "id": "85bf1742-d4ca-4077-9e2c-9ac826cdf5fe",
   "metadata": {},
   "outputs": [
    {
     "data": {
      "text/plain": [
       "(1, 2, 3, 4)"
      ]
     },
     "execution_count": 20,
     "metadata": {},
     "output_type": "execute_result"
    }
   ],
   "source": [
    "my_tuple"
   ]
  },
  {
   "cell_type": "code",
   "execution_count": 22,
   "id": "8c4dad17-3ec4-4f2e-be85-889c017e9517",
   "metadata": {},
   "outputs": [
    {
     "ename": "AttributeError",
     "evalue": "'tuple' object has no attribute 'append'",
     "output_type": "error",
     "traceback": [
      "\u001b[0;31m---------------------------------------------------------------------------\u001b[0m",
      "\u001b[0;31mAttributeError\u001b[0m                            Traceback (most recent call last)",
      "Cell \u001b[0;32mIn[22], line 1\u001b[0m\n\u001b[0;32m----> 1\u001b[0m my_tuple\u001b[38;5;241m.\u001b[39mappend(\u001b[38;5;241m100\u001b[39m)\n",
      "\u001b[0;31mAttributeError\u001b[0m: 'tuple' object has no attribute 'append'"
     ]
    }
   ],
   "source": [
    "my_tuple.append(100)\n",
    "# a) work\n",
    "# b) wont work"
   ]
  },
  {
   "cell_type": "code",
   "execution_count": null,
   "id": "5ee83eda-acbd-43d8-be3e-eab7b4003b93",
   "metadata": {},
   "outputs": [],
   "source": [
    "# my_tuple. #hit tab!"
   ]
  },
  {
   "cell_type": "code",
   "execution_count": 26,
   "id": "a3980243-10bb-49ef-bd71-a1807afefdd1",
   "metadata": {},
   "outputs": [],
   "source": [
    "another_tuple = (1,2,3,4,5,6)"
   ]
  },
  {
   "cell_type": "code",
   "execution_count": 28,
   "id": "2d9da4b8-880a-406e-a339-1ade711037ed",
   "metadata": {},
   "outputs": [
    {
     "name": "stdout",
     "output_type": "stream",
     "text": [
      "len -  6\n",
      "min -  1\n",
      "max -  6\n",
      "sum -  21\n"
     ]
    }
   ],
   "source": [
    "# You can use common sequence functions on tuples:\n",
    "print(\"len - \",len(another_tuple))   \n",
    "print(\"min - \",min(another_tuple))  \n",
    "print(\"max - \",max(another_tuple))  \n",
    "print(\"sum - \",sum(another_tuple))  "
   ]
  },
  {
   "cell_type": "code",
   "execution_count": null,
   "id": "c5fd492a-9160-4a8f-a219-73e6a4b52332",
   "metadata": {},
   "outputs": [],
   "source": []
  },
  {
   "cell_type": "code",
   "execution_count": 32,
   "id": "37f88dc4-7c85-4fb7-a9f4-e03fd025219e",
   "metadata": {},
   "outputs": [],
   "source": [
    "t1 = (1,2,3)\n",
    "# i want to append 4 in  t1? - yes/no?\n",
    "# convert tuple to a list,\n",
    "# append 4 and \n",
    "# convert it back to a tuple!"
   ]
  },
  {
   "cell_type": "code",
   "execution_count": 34,
   "id": "531c6af0-1096-494d-a070-9b5daeadc49c",
   "metadata": {},
   "outputs": [
    {
     "data": {
      "text/plain": [
       "[1, 2, 3]"
      ]
     },
     "execution_count": 34,
     "metadata": {},
     "output_type": "execute_result"
    }
   ],
   "source": [
    "t2 = list(t1)\n",
    "t2"
   ]
  },
  {
   "cell_type": "code",
   "execution_count": 36,
   "id": "4c11d22d-23d0-43ad-9660-5404ccd461c3",
   "metadata": {},
   "outputs": [
    {
     "data": {
      "text/plain": [
       "[1, 2, 3, 4]"
      ]
     },
     "execution_count": 36,
     "metadata": {},
     "output_type": "execute_result"
    }
   ],
   "source": [
    "t2.append(4)\n",
    "t2"
   ]
  },
  {
   "cell_type": "code",
   "execution_count": 40,
   "id": "51e89818-5bc4-4976-88cb-3aebc5d517bb",
   "metadata": {},
   "outputs": [
    {
     "data": {
      "text/plain": [
       "(1, 2, 3, 4)"
      ]
     },
     "execution_count": 40,
     "metadata": {},
     "output_type": "execute_result"
    }
   ],
   "source": [
    "t1 = tuple(t2)\n",
    "t1"
   ]
  },
  {
   "cell_type": "code",
   "execution_count": null,
   "id": "b94a7a45-9cfe-4701-84ae-6f7ffba463c8",
   "metadata": {},
   "outputs": [],
   "source": []
  },
  {
   "cell_type": "code",
   "execution_count": null,
   "id": "9b70461c-8ed0-4a30-80a8-22bb76891997",
   "metadata": {},
   "outputs": [],
   "source": []
  },
  {
   "cell_type": "code",
   "execution_count": 46,
   "id": "e9bc6d4d-5bc9-4ef6-b231-66709bf53f62",
   "metadata": {},
   "outputs": [],
   "source": [
    "# (1,2) + [3,4]"
   ]
  },
  {
   "cell_type": "code",
   "execution_count": null,
   "id": "8da3ef6d-3a91-4571-bd5c-d776143ed9ab",
   "metadata": {},
   "outputs": [],
   "source": []
  },
  {
   "cell_type": "code",
   "execution_count": 48,
   "id": "1a8febbc-ef32-46e2-be9c-626d821a6487",
   "metadata": {},
   "outputs": [
    {
     "data": {
      "text/plain": [
       "(4, 1, 3, 2)"
      ]
     },
     "execution_count": 48,
     "metadata": {},
     "output_type": "execute_result"
    }
   ],
   "source": [
    "another_tuple = (4,1,3,2)\n",
    "another_tuple"
   ]
  },
  {
   "cell_type": "code",
   "execution_count": 50,
   "id": "5ff88ac9-849a-4556-8d1a-ad4d08e44ec3",
   "metadata": {},
   "outputs": [
    {
     "data": {
      "text/plain": [
       "[1, 2, 3, 4]"
      ]
     },
     "execution_count": 50,
     "metadata": {},
     "output_type": "execute_result"
    }
   ],
   "source": [
    "sorted(another_tuple) #sorted | converted to list"
   ]
  },
  {
   "cell_type": "code",
   "execution_count": 52,
   "id": "06dfe0ab-0f20-4984-a6ec-8cc1eb58da92",
   "metadata": {},
   "outputs": [
    {
     "data": {
      "text/plain": [
       "(1, 2, 3, 4)"
      ]
     },
     "execution_count": 52,
     "metadata": {},
     "output_type": "execute_result"
    }
   ],
   "source": [
    "a2 = tuple(sorted(another_tuple))\n",
    "a2"
   ]
  },
  {
   "cell_type": "code",
   "execution_count": 54,
   "id": "be633446-3562-49b0-a042-4cc8400a7960",
   "metadata": {},
   "outputs": [
    {
     "data": {
      "text/plain": [
       "(4, 3, 2, 1)"
      ]
     },
     "execution_count": 54,
     "metadata": {},
     "output_type": "execute_result"
    }
   ],
   "source": [
    "a2 = tuple(sorted(another_tuple,reverse=True))\n",
    "a2"
   ]
  },
  {
   "cell_type": "code",
   "execution_count": null,
   "id": "b87955d3-5a4f-4f9c-b30f-f3558839014c",
   "metadata": {},
   "outputs": [],
   "source": []
  },
  {
   "cell_type": "code",
   "execution_count": 56,
   "id": "3a73d753-5aea-49bd-8cd7-d184b7f8b579",
   "metadata": {},
   "outputs": [],
   "source": [
    "# list vs tuple"
   ]
  },
  {
   "cell_type": "code",
   "execution_count": 58,
   "id": "50b0bd21-5a49-4981-b8b3-6284f63daa47",
   "metadata": {},
   "outputs": [],
   "source": [
    "# which one will be faster in execution and why?"
   ]
  },
  {
   "cell_type": "code",
   "execution_count": 60,
   "id": "f629a128-f714-49bb-840a-c3e72644e6f1",
   "metadata": {},
   "outputs": [],
   "source": [
    "# tuple - cannot be edited (memory allocation is FIXED!)\n",
    "# slightly faster in execution"
   ]
  },
  {
   "cell_type": "code",
   "execution_count": null,
   "id": "c3aa4681-737a-46c2-83e5-ca5336efe777",
   "metadata": {},
   "outputs": [],
   "source": []
  }
 ],
 "metadata": {
  "kernelspec": {
   "display_name": "Python [conda env:anaconda3-genai]",
   "language": "python",
   "name": "conda-env-anaconda3-genai-py"
  },
  "language_info": {
   "codemirror_mode": {
    "name": "ipython",
    "version": 3
   },
   "file_extension": ".py",
   "mimetype": "text/x-python",
   "name": "python",
   "nbconvert_exporter": "python",
   "pygments_lexer": "ipython3",
   "version": "3.11.5"
  }
 },
 "nbformat": 4,
 "nbformat_minor": 5
}
