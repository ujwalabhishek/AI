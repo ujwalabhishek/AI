{
 "cells": [
  {
   "cell_type": "code",
   "execution_count": 2,
   "id": "60e0a3dd-a891-4dd0-b176-a0c5539f72d3",
   "metadata": {},
   "outputs": [],
   "source": [
    "import numpy as np\n",
    "import pandas as pd"
   ]
  },
  {
   "cell_type": "code",
   "execution_count": 4,
   "id": "d7b434b5-a03d-480f-9d8a-9ef576ba9984",
   "metadata": {},
   "outputs": [],
   "source": [
    "# 2d array with 8 elements - 1 to 8, find its dimension and its shape"
   ]
  },
  {
   "cell_type": "code",
   "execution_count": 10,
   "id": "7d3edcf3-78ba-4b3b-960d-09d98a1aa589",
   "metadata": {},
   "outputs": [
    {
     "data": {
      "text/plain": [
       "array([[1, 2, 3, 4],\n",
       "       [5, 6, 7, 8]])"
      ]
     },
     "execution_count": 10,
     "metadata": {},
     "output_type": "execute_result"
    }
   ],
   "source": [
    "arr = np.array([[1,2,3,4],[5,6,7,8]])\n",
    "arr"
   ]
  },
  {
   "cell_type": "code",
   "execution_count": 12,
   "id": "0e0b8db8-b258-40b8-abf6-31018b33cd44",
   "metadata": {},
   "outputs": [
    {
     "data": {
      "text/plain": [
       "2"
      ]
     },
     "execution_count": 12,
     "metadata": {},
     "output_type": "execute_result"
    }
   ],
   "source": [
    "arr.ndim"
   ]
  },
  {
   "cell_type": "code",
   "execution_count": 14,
   "id": "a9ea490b-2166-4321-9d18-ff4bddf05148",
   "metadata": {},
   "outputs": [
    {
     "data": {
      "text/plain": [
       "(2, 4)"
      ]
     },
     "execution_count": 14,
     "metadata": {},
     "output_type": "execute_result"
    }
   ],
   "source": [
    "arr.shape"
   ]
  },
  {
   "cell_type": "code",
   "execution_count": null,
   "id": "9eec3e8c-cb18-430d-ad06-e46614cd2469",
   "metadata": {},
   "outputs": [],
   "source": []
  },
  {
   "cell_type": "code",
   "execution_count": 16,
   "id": "f4e6bc7a-7295-4aca-9868-c741a0d142ad",
   "metadata": {},
   "outputs": [
    {
     "name": "stdout",
     "output_type": "stream",
     "text": [
      "[[ 1  2  3  4  5  6  7]\n",
      " [ 8  9 10 11 12 13 14]\n",
      " [15 16 17 18 19 20 21]\n",
      " [22 23 24 25 26 27 28]\n",
      " [29 30 31 32 33 34 35]\n",
      " [36 37 38 39 40 41 42]\n",
      " [43 44 45 46 47 48 49]]\n"
     ]
    }
   ],
   "source": [
    "# 2.\n",
    "arr = np.array([\n",
    "    [ 1,  2,  3,  4,  5,  6,  7],\n",
    "    [ 8,  9, 10, 11, 12, 13, 14],\n",
    "    [15, 16, 17, 18, 19, 20, 21],\n",
    "    [22, 23, 24, 25, 26, 27, 28],\n",
    "    [29, 30, 31, 32, 33, 34, 35],\n",
    "    [36, 37, 38, 39, 40, 41, 42],\n",
    "    [43, 44, 45, 46, 47, 48, 49]\n",
    "])\n",
    "print(arr)\n",
    "# How would you access the element `7` from this array?"
   ]
  },
  {
   "cell_type": "code",
   "execution_count": 18,
   "id": "02fb7678-188b-45b5-adad-6d037e305b5d",
   "metadata": {},
   "outputs": [
    {
     "data": {
      "text/plain": [
       "array([1, 2, 3, 4, 5, 6, 7])"
      ]
     },
     "execution_count": 18,
     "metadata": {},
     "output_type": "execute_result"
    }
   ],
   "source": [
    "arr[0]"
   ]
  },
  {
   "cell_type": "code",
   "execution_count": 20,
   "id": "81e83bcd-ae33-49e6-9d2a-b239fbf019f9",
   "metadata": {},
   "outputs": [
    {
     "data": {
      "text/plain": [
       "7"
      ]
     },
     "execution_count": 20,
     "metadata": {},
     "output_type": "execute_result"
    }
   ],
   "source": [
    "arr[0][-1]"
   ]
  },
  {
   "cell_type": "code",
   "execution_count": 22,
   "id": "c54f9004-bf64-4c8c-8aff-5597190c2575",
   "metadata": {},
   "outputs": [
    {
     "data": {
      "text/plain": [
       "7"
      ]
     },
     "execution_count": 22,
     "metadata": {},
     "output_type": "execute_result"
    }
   ],
   "source": [
    "arr[0][6]"
   ]
  },
  {
   "cell_type": "code",
   "execution_count": null,
   "id": "32682d2d-25e4-4443-871e-eef1dec4fa2c",
   "metadata": {},
   "outputs": [],
   "source": []
  },
  {
   "cell_type": "code",
   "execution_count": 26,
   "id": "e5546604-2d0a-4771-b854-a7dd29da9f5f",
   "metadata": {},
   "outputs": [],
   "source": [
    "# On the same array, How would you access the element 47-49 from this array?"
   ]
  },
  {
   "cell_type": "code",
   "execution_count": 28,
   "id": "bbfcbd9a-66ff-4573-911a-c93c84265529",
   "metadata": {},
   "outputs": [],
   "source": [
    "# 11:00 AM IST"
   ]
  },
  {
   "cell_type": "code",
   "execution_count": 30,
   "id": "d6fc2aea-667b-4df8-b192-f22c08362eb2",
   "metadata": {},
   "outputs": [
    {
     "data": {
      "text/plain": [
       "array([[ 1,  2,  3,  4,  5,  6,  7],\n",
       "       [ 8,  9, 10, 11, 12, 13, 14],\n",
       "       [15, 16, 17, 18, 19, 20, 21],\n",
       "       [22, 23, 24, 25, 26, 27, 28],\n",
       "       [29, 30, 31, 32, 33, 34, 35],\n",
       "       [36, 37, 38, 39, 40, 41, 42],\n",
       "       [43, 44, 45, 46, 47, 48, 49]])"
      ]
     },
     "execution_count": 30,
     "metadata": {},
     "output_type": "execute_result"
    }
   ],
   "source": [
    "arr"
   ]
  },
  {
   "cell_type": "code",
   "execution_count": 36,
   "id": "67ea2c02-dfa6-44fc-b1ff-2b32a7411b55",
   "metadata": {},
   "outputs": [
    {
     "data": {
      "text/plain": [
       "array([47, 48, 49])"
      ]
     },
     "execution_count": 36,
     "metadata": {},
     "output_type": "execute_result"
    }
   ],
   "source": [
    "arr[-1][4:]"
   ]
  },
  {
   "cell_type": "code",
   "execution_count": 38,
   "id": "281ac3de-b214-4c80-8620-3a8609e124be",
   "metadata": {},
   "outputs": [
    {
     "data": {
      "text/plain": [
       "array([47, 48, 49])"
      ]
     },
     "execution_count": 38,
     "metadata": {},
     "output_type": "execute_result"
    }
   ],
   "source": [
    "arr[6][4:7]"
   ]
  },
  {
   "cell_type": "code",
   "execution_count": 40,
   "id": "7a3729b8-2f85-4bd0-9713-05f4a68aaf1e",
   "metadata": {},
   "outputs": [
    {
     "data": {
      "text/plain": [
       "array([47, 48, 49])"
      ]
     },
     "execution_count": 40,
     "metadata": {},
     "output_type": "execute_result"
    }
   ],
   "source": [
    "arr[6][4:]"
   ]
  },
  {
   "cell_type": "code",
   "execution_count": null,
   "id": "11f82826-ae7c-40c7-9796-7afecb54b403",
   "metadata": {},
   "outputs": [],
   "source": []
  },
  {
   "cell_type": "code",
   "execution_count": null,
   "id": "649b6e7c-1a67-4979-a94a-f393f0504f53",
   "metadata": {},
   "outputs": [],
   "source": []
  },
  {
   "cell_type": "code",
   "execution_count": 42,
   "id": "20eabe77-bd59-4aa8-ac90-c25ef7cd1c00",
   "metadata": {},
   "outputs": [
    {
     "data": {
      "text/plain": [
       "(2, 6)"
      ]
     },
     "execution_count": 42,
     "metadata": {},
     "output_type": "execute_result"
    }
   ],
   "source": [
    "arr = np.array([[1, 2, 3, 4, 5, 6], [7, 8, 9, 10, 11, 12]])\n",
    "arr.shape"
   ]
  },
  {
   "cell_type": "code",
   "execution_count": 44,
   "id": "72ae3f7c-c34e-4997-bd73-b280de847dd0",
   "metadata": {},
   "outputs": [],
   "source": [
    "# 12 elements -->\n",
    "# 1)Reshape  this to 1x12 , tell me its dimnesion\n",
    "# 2) Reshape this to 12x1 , tell me its dimnesion\n",
    "# 3) 3x4, dimension\n",
    "# 4) 4x3 dimension\n",
    "# 5) 6x2, dimension"
   ]
  },
  {
   "cell_type": "code",
   "execution_count": 50,
   "id": "ab08804b-372d-4f53-9f80-3751102e5d11",
   "metadata": {},
   "outputs": [
    {
     "data": {
      "text/plain": [
       "array([[ 1,  2,  3,  4,  5,  6,  7,  8,  9, 10, 11, 12]])"
      ]
     },
     "execution_count": 50,
     "metadata": {},
     "output_type": "execute_result"
    }
   ],
   "source": [
    "arr1_12 = arr.reshape(1,12)\n",
    "arr1_12"
   ]
  },
  {
   "cell_type": "code",
   "execution_count": 70,
   "id": "096fba95-d885-4e0b-9f3e-95e7c63dbd04",
   "metadata": {},
   "outputs": [
    {
     "data": {
      "text/plain": [
       "2"
      ]
     },
     "execution_count": 70,
     "metadata": {},
     "output_type": "execute_result"
    }
   ],
   "source": [
    "arr1_12.ndim"
   ]
  },
  {
   "cell_type": "code",
   "execution_count": 54,
   "id": "d82e8b93-f293-4d7f-83cd-87b8170b6de5",
   "metadata": {},
   "outputs": [
    {
     "data": {
      "text/plain": [
       "array([[ 1],\n",
       "       [ 2],\n",
       "       [ 3],\n",
       "       [ 4],\n",
       "       [ 5],\n",
       "       [ 6],\n",
       "       [ 7],\n",
       "       [ 8],\n",
       "       [ 9],\n",
       "       [10],\n",
       "       [11],\n",
       "       [12]])"
      ]
     },
     "execution_count": 54,
     "metadata": {},
     "output_type": "execute_result"
    }
   ],
   "source": [
    "arr12_1 = arr.reshape(12,1)\n",
    "arr12_1"
   ]
  },
  {
   "cell_type": "code",
   "execution_count": 72,
   "id": "4108ec9e-05cb-401e-b99c-ba9e4b782fe6",
   "metadata": {},
   "outputs": [
    {
     "data": {
      "text/plain": [
       "2"
      ]
     },
     "execution_count": 72,
     "metadata": {},
     "output_type": "execute_result"
    }
   ],
   "source": [
    "arr12_1.ndim"
   ]
  },
  {
   "cell_type": "code",
   "execution_count": 56,
   "id": "74b1e60a-674f-4fc4-aade-980d4bc38ec4",
   "metadata": {},
   "outputs": [
    {
     "data": {
      "text/plain": [
       "array([[ 1,  2,  3,  4],\n",
       "       [ 5,  6,  7,  8],\n",
       "       [ 9, 10, 11, 12]])"
      ]
     },
     "execution_count": 56,
     "metadata": {},
     "output_type": "execute_result"
    }
   ],
   "source": [
    "arr3_4 = arr.reshape(3,4)\n",
    "arr3_4"
   ]
  },
  {
   "cell_type": "code",
   "execution_count": 74,
   "id": "2b1c5a3d-1c2e-45c1-8dc5-c3393fb11e94",
   "metadata": {},
   "outputs": [
    {
     "data": {
      "text/plain": [
       "2"
      ]
     },
     "execution_count": 74,
     "metadata": {},
     "output_type": "execute_result"
    }
   ],
   "source": [
    "arr3_4.ndim"
   ]
  },
  {
   "cell_type": "code",
   "execution_count": 58,
   "id": "490df88c-b0b9-4e3d-ab88-11fff855a0c7",
   "metadata": {},
   "outputs": [
    {
     "data": {
      "text/plain": [
       "array([[ 1,  2],\n",
       "       [ 3,  4],\n",
       "       [ 5,  6],\n",
       "       [ 7,  8],\n",
       "       [ 9, 10],\n",
       "       [11, 12]])"
      ]
     },
     "execution_count": 58,
     "metadata": {},
     "output_type": "execute_result"
    }
   ],
   "source": [
    "arr6_2 = arr.reshape(6,2)\n",
    "arr6_2"
   ]
  },
  {
   "cell_type": "code",
   "execution_count": 76,
   "id": "a2f1053a-ef08-4574-b123-9cc39f8b29da",
   "metadata": {},
   "outputs": [
    {
     "data": {
      "text/plain": [
       "2"
      ]
     },
     "execution_count": 76,
     "metadata": {},
     "output_type": "execute_result"
    }
   ],
   "source": [
    "arr6_2.ndim"
   ]
  },
  {
   "cell_type": "code",
   "execution_count": 60,
   "id": "b31ff563-7c2b-4d91-b549-985c1d95dbd8",
   "metadata": {},
   "outputs": [],
   "source": [
    "# flatten!"
   ]
  },
  {
   "cell_type": "code",
   "execution_count": 62,
   "id": "a2c92124-986a-4b34-b06b-74e2769b074b",
   "metadata": {},
   "outputs": [
    {
     "data": {
      "text/plain": [
       "array([[ 1,  2,  3,  4,  5,  6],\n",
       "       [ 7,  8,  9, 10, 11, 12]])"
      ]
     },
     "execution_count": 62,
     "metadata": {},
     "output_type": "execute_result"
    }
   ],
   "source": [
    "arr"
   ]
  },
  {
   "cell_type": "code",
   "execution_count": 78,
   "id": "c8501b5f-6cdf-4b11-9096-bd3b52a5b9f4",
   "metadata": {},
   "outputs": [
    {
     "data": {
      "text/plain": [
       "array([ 1,  2,  3,  4,  5,  6,  7,  8,  9, 10, 11, 12])"
      ]
     },
     "execution_count": 78,
     "metadata": {},
     "output_type": "execute_result"
    }
   ],
   "source": [
    "af = arr.flatten() #flatten the array & change it to 1d!\n",
    "af"
   ]
  },
  {
   "cell_type": "code",
   "execution_count": 80,
   "id": "ad10cc44-236c-4915-aeec-43df5909e067",
   "metadata": {},
   "outputs": [
    {
     "data": {
      "text/plain": [
       "1"
      ]
     },
     "execution_count": 80,
     "metadata": {},
     "output_type": "execute_result"
    }
   ],
   "source": [
    "af.ndim"
   ]
  },
  {
   "cell_type": "code",
   "execution_count": 84,
   "id": "596efc34-0e12-47d1-a1b7-8237e0465fd6",
   "metadata": {},
   "outputs": [],
   "source": [
    "# 1. Create an array of zeros --> 3x3\n",
    "# 2. Add 1 to its diagnol by using indexing!"
   ]
  },
  {
   "cell_type": "code",
   "execution_count": 90,
   "id": "46847503-a9b2-4714-a108-5a60e9ec33f2",
   "metadata": {},
   "outputs": [
    {
     "data": {
      "text/plain": [
       "array([[0., 0., 0.],\n",
       "       [0., 0., 0.],\n",
       "       [0., 0., 0.]])"
      ]
     },
     "execution_count": 90,
     "metadata": {},
     "output_type": "execute_result"
    }
   ],
   "source": [
    "arr0 = np.zeros((3,3))\n",
    "arr0"
   ]
  },
  {
   "cell_type": "code",
   "execution_count": 92,
   "id": "5b0e5d43-2491-46f4-b3ee-ece07505b116",
   "metadata": {},
   "outputs": [],
   "source": [
    "arr0[0][0] = 1"
   ]
  },
  {
   "cell_type": "code",
   "execution_count": 94,
   "id": "4f99d32c-0b71-4c28-b6cb-8694a33aaaa6",
   "metadata": {},
   "outputs": [
    {
     "data": {
      "text/plain": [
       "array([[1., 0., 0.],\n",
       "       [0., 0., 0.],\n",
       "       [0., 0., 0.]])"
      ]
     },
     "execution_count": 94,
     "metadata": {},
     "output_type": "execute_result"
    }
   ],
   "source": [
    "arr0"
   ]
  },
  {
   "cell_type": "code",
   "execution_count": 96,
   "id": "81e716ab-6216-4842-a2fc-12a866b60193",
   "metadata": {},
   "outputs": [
    {
     "data": {
      "text/plain": [
       "array([[1., 0., 0.],\n",
       "       [0., 1., 0.],\n",
       "       [0., 0., 0.]])"
      ]
     },
     "execution_count": 96,
     "metadata": {},
     "output_type": "execute_result"
    }
   ],
   "source": [
    "arr0[1][1] = 1\n",
    "arr0"
   ]
  },
  {
   "cell_type": "code",
   "execution_count": 98,
   "id": "59689e1b-8b7f-432e-89a2-9303e6c6ffbd",
   "metadata": {},
   "outputs": [
    {
     "data": {
      "text/plain": [
       "array([[1., 0., 0.],\n",
       "       [0., 1., 0.],\n",
       "       [0., 0., 1.]])"
      ]
     },
     "execution_count": 98,
     "metadata": {},
     "output_type": "execute_result"
    }
   ],
   "source": [
    "arr0[2][2] = 1\n",
    "arr0"
   ]
  },
  {
   "cell_type": "code",
   "execution_count": 100,
   "id": "daf79d80-4fb6-4cc1-a0e1-4f3f4e10d25a",
   "metadata": {},
   "outputs": [
    {
     "data": {
      "text/plain": [
       "array([[1., 0., 0.],\n",
       "       [0., 1., 0.],\n",
       "       [0., 0., 1.]])"
      ]
     },
     "execution_count": 100,
     "metadata": {},
     "output_type": "execute_result"
    }
   ],
   "source": [
    "np.eye(3)"
   ]
  },
  {
   "cell_type": "code",
   "execution_count": null,
   "id": "2418a03f-10d3-4e25-8b4f-fee57dbdd51e",
   "metadata": {},
   "outputs": [],
   "source": []
  },
  {
   "cell_type": "code",
   "execution_count": 102,
   "id": "2166f343-0027-4f43-856e-6df1a865b2d0",
   "metadata": {},
   "outputs": [
    {
     "data": {
      "text/plain": [
       "array([ 5, 15, 25, 35, 10,  7])"
      ]
     },
     "execution_count": 102,
     "metadata": {},
     "output_type": "execute_result"
    }
   ],
   "source": [
    "arr = np.array([5, 15, 25, 35, 10, 7])\n",
    "arr\n",
    "# Replace all values greater \n",
    "# than 10 in an array with 10?\n",
    "# Expected output : [ 5 10 10 10 10 7]"
   ]
  },
  {
   "cell_type": "code",
   "execution_count": 106,
   "id": "1866cdd9-5d0b-40cb-8777-e10e54dc990a",
   "metadata": {},
   "outputs": [
    {
     "data": {
      "text/plain": [
       "array([ 5, 15, 25, 35, 10,  7])"
      ]
     },
     "execution_count": 106,
     "metadata": {},
     "output_type": "execute_result"
    }
   ],
   "source": [
    "arr"
   ]
  },
  {
   "cell_type": "code",
   "execution_count": 108,
   "id": "7b95dc05-59a2-4d13-bc32-d5161e4b1864",
   "metadata": {},
   "outputs": [
    {
     "data": {
      "text/plain": [
       "array([False,  True,  True,  True, False, False])"
      ]
     },
     "execution_count": 108,
     "metadata": {},
     "output_type": "execute_result"
    }
   ],
   "source": [
    "arr > 10 #bool outputs"
   ]
  },
  {
   "cell_type": "code",
   "execution_count": 112,
   "id": "398b9062-853e-4651-9ac3-2ea24f4d7787",
   "metadata": {},
   "outputs": [
    {
     "data": {
      "text/plain": [
       "array([15, 25, 35])"
      ]
     },
     "execution_count": 112,
     "metadata": {},
     "output_type": "execute_result"
    }
   ],
   "source": [
    "arr[arr>10] #actual values which are greater than 10"
   ]
  },
  {
   "cell_type": "code",
   "execution_count": 114,
   "id": "6c65cb5c-b6e9-4664-bb31-9c05bd73cd78",
   "metadata": {},
   "outputs": [],
   "source": [
    "arr[arr>10] = 10 # replacevalues which are greater than 10 with 10"
   ]
  },
  {
   "cell_type": "code",
   "execution_count": 116,
   "id": "71e560ae-7e22-48c9-b839-0dc35b32a2e0",
   "metadata": {},
   "outputs": [
    {
     "data": {
      "text/plain": [
       "array([ 5, 10, 10, 10, 10,  7])"
      ]
     },
     "execution_count": 116,
     "metadata": {},
     "output_type": "execute_result"
    }
   ],
   "source": [
    "arr"
   ]
  },
  {
   "cell_type": "code",
   "execution_count": null,
   "id": "0f9bdedc-580c-4bea-8a04-11048fd2ce24",
   "metadata": {},
   "outputs": [],
   "source": []
  },
  {
   "cell_type": "code",
   "execution_count": 118,
   "id": "3e9239ae-da68-4b5c-8741-1ad8da5eb49b",
   "metadata": {},
   "outputs": [
    {
     "data": {
      "text/plain": [
       "array([ 1,  2,  3,  4,  5,  6,  7,  8,  9, 10])"
      ]
     },
     "execution_count": 118,
     "metadata": {},
     "output_type": "execute_result"
    }
   ],
   "source": [
    "# 1) Create a 1d array with elements 1-10\n",
    "# 2) Extract all even numbers from a NumPy array\n",
    "# o/p : array([ 2,  4,  6,  8, 10])\n",
    "arr=np.array([1,2,3,4,5,6,7,8,9,10])\n",
    "arr "
   ]
  },
  {
   "cell_type": "code",
   "execution_count": 124,
   "id": "9db2a253-6d14-4676-a79d-ae892383d336",
   "metadata": {},
   "outputs": [
    {
     "data": {
      "text/plain": [
       "array([False,  True, False,  True, False,  True, False,  True, False,\n",
       "        True])"
      ]
     },
     "execution_count": 124,
     "metadata": {},
     "output_type": "execute_result"
    }
   ],
   "source": [
    "arr % 2 == 0"
   ]
  },
  {
   "cell_type": "code",
   "execution_count": 128,
   "id": "1f6e8cec-b46b-46e1-bb23-5f695c4fbd52",
   "metadata": {},
   "outputs": [
    {
     "data": {
      "text/plain": [
       "array([ 2,  4,  6,  8, 10])"
      ]
     },
     "execution_count": 128,
     "metadata": {},
     "output_type": "execute_result"
    }
   ],
   "source": [
    "arr[arr%2 == 0]"
   ]
  },
  {
   "cell_type": "code",
   "execution_count": null,
   "id": "27760456-0517-4c97-a1b4-b7159519c4c4",
   "metadata": {},
   "outputs": [],
   "source": []
  },
  {
   "cell_type": "code",
   "execution_count": null,
   "id": "25c60a13-0bca-42a5-b369-b853a51fdd6e",
   "metadata": {},
   "outputs": [],
   "source": []
  }
 ],
 "metadata": {
  "kernelspec": {
   "display_name": "Python [conda env:anaconda3-genai]",
   "language": "python",
   "name": "conda-env-anaconda3-genai-py"
  },
  "language_info": {
   "codemirror_mode": {
    "name": "ipython",
    "version": 3
   },
   "file_extension": ".py",
   "mimetype": "text/x-python",
   "name": "python",
   "nbconvert_exporter": "python",
   "pygments_lexer": "ipython3",
   "version": "3.11.5"
  }
 },
 "nbformat": 4,
 "nbformat_minor": 5
}
