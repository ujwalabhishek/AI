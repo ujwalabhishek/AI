{
 "cells": [
  {
   "cell_type": "code",
   "execution_count": 1,
   "id": "825f1b5a-b4c1-47a2-8eb5-1c5b29d4f6fe",
   "metadata": {},
   "outputs": [],
   "source": [
    "# len\n",
    "# sum\n",
    "# min\n",
    "# max\n",
    "# inbuilt functions"
   ]
  },
  {
   "cell_type": "code",
   "execution_count": 6,
   "id": "04955340-d00e-42b8-b232-a68c236cb6b5",
   "metadata": {},
   "outputs": [],
   "source": [
    "# i need a custom function\n",
    "# in which, i mulitply each with 5 and then add them and then  divide them\n",
    "\n",
    "# USER DEFINED FUNCTIONS!"
   ]
  },
  {
   "cell_type": "code",
   "execution_count": 8,
   "id": "c4268f0d-46ec-47fd-a51e-c075211aead3",
   "metadata": {},
   "outputs": [],
   "source": [
    "def myfirstfunc(a,b):\n",
    "    a1 = a*5\n",
    "    b1 = b*5\n",
    "    c = a1 + b1\n",
    "    return c/2"
   ]
  },
  {
   "cell_type": "code",
   "execution_count": 10,
   "id": "2e6f43a2-7270-42a4-b961-ce00e07c7a96",
   "metadata": {},
   "outputs": [],
   "source": [
    "# a=10,b=10\n",
    "# a1 = 50 | b1 = 50\n",
    "# c = 100\n",
    "# 100/2 = 50.0"
   ]
  },
  {
   "cell_type": "code",
   "execution_count": 16,
   "id": "bbf82f52-0443-4886-ac96-ce3d646d458e",
   "metadata": {},
   "outputs": [],
   "source": [
    "x = myfirstfunc(10,10)"
   ]
  },
  {
   "cell_type": "code",
   "execution_count": 18,
   "id": "7e1540af-b563-4b45-b371-172be8703360",
   "metadata": {},
   "outputs": [
    {
     "name": "stdout",
     "output_type": "stream",
     "text": [
      "50.0\n"
     ]
    }
   ],
   "source": [
    "print(x)"
   ]
  },
  {
   "cell_type": "code",
   "execution_count": null,
   "id": "5c4e8f74-3dea-478c-bdf6-0c1093d74e04",
   "metadata": {},
   "outputs": [],
   "source": [
    "# functions: reusbale code with user defined steps!"
   ]
  },
  {
   "cell_type": "code",
   "execution_count": null,
   "id": "c2fb0dcc-3792-4978-9bf3-6e1f5331ae48",
   "metadata": {},
   "outputs": [],
   "source": []
  },
  {
   "cell_type": "code",
   "execution_count": 20,
   "id": "b430bee2-4a39-4011-a435-0a1b8d9f7eb8",
   "metadata": {},
   "outputs": [],
   "source": [
    "def mysecfunc(a,b,c,d):\n",
    "    a1 = a*10\n",
    "    b1 = b*10\n",
    "    c1 = c*100\n",
    "    d1 = d/2\n",
    "    return (a1+b1+c1+d1)*10"
   ]
  },
  {
   "cell_type": "code",
   "execution_count": 22,
   "id": "41c07263-5c89-4852-8cad-a6e566c9fc97",
   "metadata": {},
   "outputs": [
    {
     "data": {
      "text/plain": [
       "1250.0"
      ]
     },
     "execution_count": 22,
     "metadata": {},
     "output_type": "execute_result"
    }
   ],
   "source": [
    "mysecfunc(1,1,1,10)\n",
    "# a1 = 10 | b1 = 10 | c1 = 100 | d1 = 5.0\n",
    "# (10+10+100+5.0) = 125.0*10 = 1250.0"
   ]
  },
  {
   "cell_type": "code",
   "execution_count": null,
   "id": "0b18bb59-c435-490a-93fc-b1fca506388b",
   "metadata": {},
   "outputs": [],
   "source": []
  },
  {
   "cell_type": "code",
   "execution_count": 24,
   "id": "d71d232c-5801-4287-adfc-3dcd4419770e",
   "metadata": {},
   "outputs": [],
   "source": [
    "def mythirdfunc(a,b,c):\n",
    "    return a+10,b/10,c*10"
   ]
  },
  {
   "cell_type": "code",
   "execution_count": 26,
   "id": "43baf556-53a2-4832-ba9e-be58fd1ea252",
   "metadata": {},
   "outputs": [
    {
     "data": {
      "text/plain": [
       "(11, 1.0, 1000)"
      ]
     },
     "execution_count": 26,
     "metadata": {},
     "output_type": "execute_result"
    }
   ],
   "source": [
    "mythirdfunc(1,10,100)\n",
    "# 11,1.0,1000"
   ]
  },
  {
   "cell_type": "code",
   "execution_count": 28,
   "id": "67af8206-9cda-46d2-9b66-92973e159260",
   "metadata": {},
   "outputs": [],
   "source": [
    "a1,a2,a3 = mythirdfunc(1,10,100)"
   ]
  },
  {
   "cell_type": "code",
   "execution_count": 30,
   "id": "8b85a769-63e1-4a25-9527-816f2f233cda",
   "metadata": {},
   "outputs": [
    {
     "data": {
      "text/plain": [
       "11"
      ]
     },
     "execution_count": 30,
     "metadata": {},
     "output_type": "execute_result"
    }
   ],
   "source": [
    "a1"
   ]
  },
  {
   "cell_type": "code",
   "execution_count": 32,
   "id": "9fe092cd-0dba-4207-a525-68c94120304d",
   "metadata": {},
   "outputs": [
    {
     "data": {
      "text/plain": [
       "1.0"
      ]
     },
     "execution_count": 32,
     "metadata": {},
     "output_type": "execute_result"
    }
   ],
   "source": [
    "a2"
   ]
  },
  {
   "cell_type": "code",
   "execution_count": 34,
   "id": "51afb442-ca95-4634-af78-735068ae43ab",
   "metadata": {},
   "outputs": [
    {
     "data": {
      "text/plain": [
       "1000"
      ]
     },
     "execution_count": 34,
     "metadata": {},
     "output_type": "execute_result"
    }
   ],
   "source": [
    "a3"
   ]
  },
  {
   "cell_type": "code",
   "execution_count": null,
   "id": "7adb868a-afc6-4ed3-86b5-aa95444356c0",
   "metadata": {},
   "outputs": [],
   "source": []
  },
  {
   "cell_type": "code",
   "execution_count": 44,
   "id": "fa59455e-7291-4a7b-9570-9a049b7f29f1",
   "metadata": {},
   "outputs": [],
   "source": [
    "def my4func(a,b,c,d) :\n",
    "    return (a+b+c+d)/2"
   ]
  },
  {
   "cell_type": "code",
   "execution_count": 50,
   "id": "bd9c0dbd-2749-4c5f-92b5-7690b2cca70e",
   "metadata": {},
   "outputs": [],
   "source": [
    "output = my4func(1,2,3,5)"
   ]
  },
  {
   "cell_type": "code",
   "execution_count": 52,
   "id": "43d2b04b-87ae-4400-aa90-903da474453e",
   "metadata": {},
   "outputs": [
    {
     "data": {
      "text/plain": [
       "5.5"
      ]
     },
     "execution_count": 52,
     "metadata": {},
     "output_type": "execute_result"
    }
   ],
   "source": [
    "output"
   ]
  },
  {
   "cell_type": "code",
   "execution_count": 54,
   "id": "48d75e2a-5f5d-4134-8a6c-629db6ef5fa5",
   "metadata": {},
   "outputs": [],
   "source": [
    "# lambda!"
   ]
  },
  {
   "cell_type": "code",
   "execution_count": 66,
   "id": "41b30297-c752-46ed-87e4-e48b493aa349",
   "metadata": {},
   "outputs": [],
   "source": [
    "# input : output!\n",
    "f = lambda a,b,c,d : (a+b+c+d)/2"
   ]
  },
  {
   "cell_type": "code",
   "execution_count": 68,
   "id": "6d5ba894-38e8-4131-942a-a82579666639",
   "metadata": {},
   "outputs": [
    {
     "data": {
      "text/plain": [
       "5.5"
      ]
     },
     "execution_count": 68,
     "metadata": {},
     "output_type": "execute_result"
    }
   ],
   "source": [
    "f(1,2,3,5)"
   ]
  },
  {
   "cell_type": "code",
   "execution_count": 70,
   "id": "13387ec5-07c4-4f98-96ff-932664b17c3d",
   "metadata": {},
   "outputs": [],
   "source": [
    "a = f(1,2,3,5)"
   ]
  },
  {
   "cell_type": "code",
   "execution_count": 72,
   "id": "b34596f0-8ab7-4c84-8176-0b805128696d",
   "metadata": {},
   "outputs": [
    {
     "data": {
      "text/plain": [
       "5.5"
      ]
     },
     "execution_count": 72,
     "metadata": {},
     "output_type": "execute_result"
    }
   ],
   "source": [
    "a"
   ]
  },
  {
   "cell_type": "code",
   "execution_count": null,
   "id": "4e3c5ceb-7229-4885-b0b9-07afe69d1702",
   "metadata": {},
   "outputs": [],
   "source": []
  },
  {
   "cell_type": "code",
   "execution_count": null,
   "id": "514e5876-1898-4231-95a3-919041ebb559",
   "metadata": {},
   "outputs": [],
   "source": []
  },
  {
   "cell_type": "code",
   "execution_count": 74,
   "id": "1c569314-0881-4e2d-b2f2-1c6e12ea670a",
   "metadata": {},
   "outputs": [],
   "source": [
    "# print vs return!"
   ]
  },
  {
   "cell_type": "code",
   "execution_count": 76,
   "id": "5916df2f-db61-4cfd-9199-98121eb9543e",
   "metadata": {},
   "outputs": [],
   "source": [
    "def new(a,b):\n",
    "    return a*b"
   ]
  },
  {
   "cell_type": "code",
   "execution_count": 78,
   "id": "e9578aec-9602-4da7-91f6-8d39f58f4051",
   "metadata": {},
   "outputs": [],
   "source": [
    "a = new(5,5)"
   ]
  },
  {
   "cell_type": "code",
   "execution_count": 80,
   "id": "9b6b61ec-65ae-4d84-a304-19c3c68f5913",
   "metadata": {},
   "outputs": [
    {
     "name": "stdout",
     "output_type": "stream",
     "text": [
      "25\n"
     ]
    }
   ],
   "source": [
    "print(a)"
   ]
  },
  {
   "cell_type": "code",
   "execution_count": null,
   "id": "eb533ef9-8082-4133-9914-8439117721ef",
   "metadata": {},
   "outputs": [],
   "source": []
  },
  {
   "cell_type": "code",
   "execution_count": 82,
   "id": "18052e61-b29d-49cf-97a2-643207c2a577",
   "metadata": {},
   "outputs": [],
   "source": [
    "# print\n",
    "def new(a,b):\n",
    "    print(a*b)"
   ]
  },
  {
   "cell_type": "code",
   "execution_count": 84,
   "id": "a48c5a83-c46f-40b1-a60a-6f199716fcfa",
   "metadata": {},
   "outputs": [
    {
     "name": "stdout",
     "output_type": "stream",
     "text": [
      "25\n"
     ]
    }
   ],
   "source": [
    "a = new(5,5)"
   ]
  },
  {
   "cell_type": "code",
   "execution_count": 86,
   "id": "8ba7b630-d7f4-4d33-995b-9177d547b24a",
   "metadata": {},
   "outputs": [
    {
     "name": "stdout",
     "output_type": "stream",
     "text": [
      "None\n"
     ]
    }
   ],
   "source": [
    "print(a)"
   ]
  },
  {
   "cell_type": "code",
   "execution_count": null,
   "id": "ce53c4a6-bbca-495c-a542-70ee5a4d9052",
   "metadata": {},
   "outputs": [],
   "source": []
  },
  {
   "cell_type": "code",
   "execution_count": null,
   "id": "885de0ec-7f76-44a6-9d49-d46fbad6e775",
   "metadata": {},
   "outputs": [],
   "source": []
  },
  {
   "cell_type": "code",
   "execution_count": 88,
   "id": "5deaa977-3c6f-4246-860d-dffe8c29a955",
   "metadata": {},
   "outputs": [],
   "source": [
    "f2 = lambda a,b,c : ((a*10) + (b*5) + (c*2))"
   ]
  },
  {
   "cell_type": "code",
   "execution_count": 90,
   "id": "3b7a4466-2d6b-4f7f-819b-c3c19c4325f0",
   "metadata": {},
   "outputs": [],
   "source": [
    "new2 = f2(1,1,1)\n",
    "# 1*10 + 1*5 + 1*2 = 17"
   ]
  },
  {
   "cell_type": "code",
   "execution_count": 92,
   "id": "708cdee8-700d-4e65-9ff4-011a455c08ff",
   "metadata": {},
   "outputs": [
    {
     "data": {
      "text/plain": [
       "17"
      ]
     },
     "execution_count": 92,
     "metadata": {},
     "output_type": "execute_result"
    }
   ],
   "source": [
    "new2"
   ]
  },
  {
   "cell_type": "code",
   "execution_count": null,
   "id": "3b833935-3228-41a0-95fe-6be0d004e163",
   "metadata": {},
   "outputs": [],
   "source": []
  },
  {
   "cell_type": "code",
   "execution_count": null,
   "id": "56dd0576-9edf-4cf1-a669-6c6187594bc3",
   "metadata": {},
   "outputs": [],
   "source": []
  }
 ],
 "metadata": {
  "kernelspec": {
   "display_name": "Python [conda env:anaconda3-genai]",
   "language": "python",
   "name": "conda-env-anaconda3-genai-py"
  },
  "language_info": {
   "codemirror_mode": {
    "name": "ipython",
    "version": 3
   },
   "file_extension": ".py",
   "mimetype": "text/x-python",
   "name": "python",
   "nbconvert_exporter": "python",
   "pygments_lexer": "ipython3",
   "version": "3.11.5"
  }
 },
 "nbformat": 4,
 "nbformat_minor": 5
}
