{
 "cells": [
  {
   "cell_type": "code",
   "execution_count": 1,
   "id": "180dcfe1-b993-48be-98ea-1901cfd03fa5",
   "metadata": {},
   "outputs": [
    {
     "data": {
      "text/plain": [
       "int"
      ]
     },
     "execution_count": 1,
     "metadata": {},
     "output_type": "execute_result"
    }
   ],
   "source": [
    "a = 1\n",
    "type(a)"
   ]
  },
  {
   "cell_type": "code",
   "execution_count": 3,
   "id": "29585f8c-2371-4b41-b616-584f44cf823a",
   "metadata": {},
   "outputs": [
    {
     "data": {
      "text/plain": [
       "float"
      ]
     },
     "execution_count": 3,
     "metadata": {},
     "output_type": "execute_result"
    }
   ],
   "source": [
    "b = 1.0 + 10\n",
    "type(b)"
   ]
  },
  {
   "cell_type": "code",
   "execution_count": 5,
   "id": "29e16814-9671-40b7-8f81-3f424f86dbca",
   "metadata": {},
   "outputs": [
    {
     "data": {
      "text/plain": [
       "3"
      ]
     },
     "execution_count": 5,
     "metadata": {},
     "output_type": "execute_result"
    }
   ],
   "source": [
    "25//7"
   ]
  },
  {
   "cell_type": "code",
   "execution_count": 7,
   "id": "4c6f9d55-f292-460e-abfc-c4c8581ded79",
   "metadata": {},
   "outputs": [
    {
     "data": {
      "text/plain": [
       "4"
      ]
     },
     "execution_count": 7,
     "metadata": {},
     "output_type": "execute_result"
    }
   ],
   "source": [
    "25%7"
   ]
  },
  {
   "cell_type": "code",
   "execution_count": 9,
   "id": "55f9a220-40ea-45fa-92d8-5dd4f13a98c6",
   "metadata": {},
   "outputs": [
    {
     "data": {
      "text/plain": [
       "'x-x-x-x-x-x-x-x-x-x-'"
      ]
     },
     "execution_count": 9,
     "metadata": {},
     "output_type": "execute_result"
    }
   ],
   "source": [
    "\"x-x-\"*5"
   ]
  },
  {
   "cell_type": "code",
   "execution_count": 11,
   "id": "f4d5cf1d-2641-468a-81d8-4c43bde90625",
   "metadata": {},
   "outputs": [
    {
     "data": {
      "text/plain": [
       "'upgrad upgrad '"
      ]
     },
     "execution_count": 11,
     "metadata": {},
     "output_type": "execute_result"
    }
   ],
   "source": [
    "'upgrad '*2"
   ]
  },
  {
   "cell_type": "code",
   "execution_count": 29,
   "id": "fe223831-3803-4c1c-b61c-cf10bbe1a8f1",
   "metadata": {},
   "outputs": [],
   "source": [
    "# Conditional statements!"
   ]
  },
  {
   "cell_type": "code",
   "execution_count": 37,
   "id": "4dcca566-f1e3-45bd-ab85-775b62d27f1e",
   "metadata": {},
   "outputs": [
    {
     "name": "stdin",
     "output_type": "stream",
     "text": [
      "Enter your age -  22\n"
     ]
    }
   ],
   "source": [
    "age = int(input(\"Enter your age - \"))"
   ]
  },
  {
   "cell_type": "code",
   "execution_count": 41,
   "id": "a2a222b7-123c-433f-bf7d-1997b3127894",
   "metadata": {},
   "outputs": [
    {
     "data": {
      "text/plain": [
       "22"
      ]
     },
     "execution_count": 41,
     "metadata": {},
     "output_type": "execute_result"
    }
   ],
   "source": [
    "age"
   ]
  },
  {
   "cell_type": "code",
   "execution_count": 49,
   "id": "2acad660-5e61-4a31-9c3c-97ee88e0e5ea",
   "metadata": {},
   "outputs": [
    {
     "name": "stdout",
     "output_type": "stream",
     "text": [
      "You can Vote!\n"
     ]
    }
   ],
   "source": [
    "age = 20\n",
    "if age >= 18 :\n",
    "    print(\"You can Vote!\") #extra space : indentation!\n",
    "else :\n",
    "    print(\"CANNOT VOTE!\")"
   ]
  },
  {
   "cell_type": "code",
   "execution_count": 51,
   "id": "caca6a2a-2b4e-473e-8e55-41235b630e93",
   "metadata": {},
   "outputs": [
    {
     "name": "stdout",
     "output_type": "stream",
     "text": [
      "CANNOT VOTE!\n"
     ]
    }
   ],
   "source": [
    "age = 10\n",
    "if age >= 18 :\n",
    "    print(\"You can Vote!\") #extra space : indentation!\n",
    "else :\n",
    "    print(\"CANNOT VOTE!\")"
   ]
  },
  {
   "cell_type": "code",
   "execution_count": null,
   "id": "2614e7be-84b7-4c9a-b1b6-82f25e169efb",
   "metadata": {},
   "outputs": [],
   "source": []
  },
  {
   "cell_type": "code",
   "execution_count": 53,
   "id": "b50dbcfc-a463-4273-871d-686819738ef7",
   "metadata": {},
   "outputs": [
    {
     "name": "stdout",
     "output_type": "stream",
     "text": [
      "CANNOT VOTE!\n"
     ]
    }
   ],
   "source": [
    "age = -10 # age cannot be -ve\n",
    "if age >= 18 :\n",
    "    print(\"You can Vote!\") #extra space : indentation!\n",
    "else :\n",
    "    print(\"CANNOT VOTE!\")"
   ]
  },
  {
   "cell_type": "code",
   "execution_count": 61,
   "id": "d126890a-0d74-4d8f-b51a-eb2ba7eaa027",
   "metadata": {},
   "outputs": [],
   "source": [
    "# nested condition!"
   ]
  },
  {
   "cell_type": "code",
   "execution_count": 65,
   "id": "22d63de3-c9bd-46f4-9290-739284e178ea",
   "metadata": {},
   "outputs": [
    {
     "name": "stdout",
     "output_type": "stream",
     "text": [
      "Invalid age!\n"
     ]
    }
   ],
   "source": [
    "age = - 10\n",
    "if age > 0 :\n",
    "    if age >= 18 :\n",
    "        print(\"Vote\")\n",
    "    else :\n",
    "        print(\"cannot\")\n",
    "else :\n",
    "    print(\"Invalid age!\")"
   ]
  },
  {
   "cell_type": "code",
   "execution_count": 67,
   "id": "b295252c-9c1f-48e8-b250-b7f43e8c01a5",
   "metadata": {},
   "outputs": [
    {
     "name": "stdout",
     "output_type": "stream",
     "text": [
      "cannot\n"
     ]
    }
   ],
   "source": [
    "age = 10\n",
    "if age > 0 :\n",
    "    if age >= 18 :\n",
    "        print(\"Vote\")\n",
    "    else :\n",
    "        print(\"cannot\")\n",
    "else :\n",
    "    print(\"Invalid age!\")"
   ]
  },
  {
   "cell_type": "code",
   "execution_count": 69,
   "id": "726160c2-285a-416e-aaf6-cd0f1292f202",
   "metadata": {},
   "outputs": [
    {
     "name": "stdout",
     "output_type": "stream",
     "text": [
      "Vote\n"
     ]
    }
   ],
   "source": [
    "age = 25\n",
    "if age > 0 :\n",
    "    if age >= 18 :\n",
    "        print(\"Vote\")\n",
    "    else :\n",
    "        print(\"cannot\")\n",
    "else :\n",
    "    print(\"Invalid age!\")"
   ]
  },
  {
   "cell_type": "code",
   "execution_count": 79,
   "id": "d7db883f-7ec7-4041-8ea1-e4c263d3c9e4",
   "metadata": {},
   "outputs": [
    {
     "name": "stdout",
     "output_type": "stream",
     "text": [
      "Vote\n"
     ]
    }
   ],
   "source": [
    "age = 100\n",
    "if age > 0 and age < 101 :\n",
    "    if age >= 18 :\n",
    "        print(\"Vote\")\n",
    "    else :\n",
    "        print(\"cannot\")\n",
    "else :\n",
    "    print(\"Invalid age!\")"
   ]
  },
  {
   "cell_type": "code",
   "execution_count": null,
   "id": "893c363a-c4ce-4c8e-97ae-0348c0600404",
   "metadata": {},
   "outputs": [],
   "source": []
  },
  {
   "cell_type": "code",
   "execution_count": 73,
   "id": "23de5ab7-4ced-4f08-b356-3bdc6318a976",
   "metadata": {},
   "outputs": [],
   "source": [
    "# 2.\n",
    "age = 22\n",
    "income = 10000"
   ]
  },
  {
   "cell_type": "code",
   "execution_count": 81,
   "id": "a6f7f780-8622-4cf0-9778-1e0b9bf0204b",
   "metadata": {},
   "outputs": [],
   "source": [
    "# eligible for a loan : i. age >=18 and ii. income > 20000"
   ]
  },
  {
   "cell_type": "code",
   "execution_count": 83,
   "id": "caf6213f-17e7-4d6f-aa04-acfca3630ee5",
   "metadata": {},
   "outputs": [
    {
     "name": "stdout",
     "output_type": "stream",
     "text": [
      "Nope\n"
     ]
    }
   ],
   "source": [
    "if age >= 18 and income > 20000:\n",
    "    print(\"Eligible\")\n",
    "else :\n",
    "    print(\"Nope\")"
   ]
  },
  {
   "cell_type": "code",
   "execution_count": 87,
   "id": "bbfe8fbf-d7e1-4995-83e8-ce459dd062a7",
   "metadata": {},
   "outputs": [],
   "source": [
    "# 3."
   ]
  },
  {
   "cell_type": "code",
   "execution_count": 89,
   "id": "592a8d94-398b-4339-b40d-4439bbbc77cf",
   "metadata": {},
   "outputs": [
    {
     "name": "stdout",
     "output_type": "stream",
     "text": [
      "A\n"
     ]
    }
   ],
   "source": [
    "marks = 91\n",
    "if marks > 90 : \n",
    "    print(\"A\")\n",
    "else :\n",
    "    print(\"B\")"
   ]
  },
  {
   "cell_type": "code",
   "execution_count": 91,
   "id": "aac7fefe-138e-4cad-86b0-1e56e05cb4ad",
   "metadata": {},
   "outputs": [],
   "source": [
    "# i. >90 : A\n",
    "# ii. >60 and <=90 : B\n",
    "# iii. < 60 : C"
   ]
  },
  {
   "cell_type": "code",
   "execution_count": 93,
   "id": "ad26e3e1-f231-49c9-a55f-a43fc3c7088f",
   "metadata": {},
   "outputs": [],
   "source": [
    "marks = 64"
   ]
  },
  {
   "cell_type": "code",
   "execution_count": 95,
   "id": "0f464abf-5b8d-4bf0-aca0-26ca32edeb5c",
   "metadata": {},
   "outputs": [
    {
     "name": "stdout",
     "output_type": "stream",
     "text": [
      "B\n"
     ]
    }
   ],
   "source": [
    "if marks > 90 : \n",
    "    print(\"A\")\n",
    "elif marks > 60 and marks <= 90 :\n",
    "    print(\"B\")\n",
    "else :\n",
    "    print(\"C\")"
   ]
  },
  {
   "cell_type": "code",
   "execution_count": null,
   "id": "80c7a11f-1d72-45f9-93b8-b893d2ee5bfe",
   "metadata": {},
   "outputs": [],
   "source": []
  },
  {
   "cell_type": "code",
   "execution_count": 97,
   "id": "66a46318-6ba9-4325-885b-18d8e29f6fb1",
   "metadata": {},
   "outputs": [],
   "source": [
    "# i. >90 : A\n",
    "# ii. >60 and <=90 : B\n",
    "# iii. < 60 : C\n",
    "\n",
    "# max - marks can be 100, what if someone enters 110?"
   ]
  },
  {
   "cell_type": "code",
   "execution_count": 101,
   "id": "22fcbf32-a892-4fe2-aa17-adaa7e7d06c7",
   "metadata": {},
   "outputs": [
    {
     "name": "stdout",
     "output_type": "stream",
     "text": [
      "incorrect\n"
     ]
    }
   ],
   "source": [
    "marks = 100000\n",
    "if marks > 100 : \n",
    "    print(\"incorrect\")\n",
    "elif marks > 90 : \n",
    "    print(\"A\")\n",
    "elif marks > 60 and marks <= 90 :\n",
    "    print(\"B\")\n",
    "else :\n",
    "    print(\"C\")"
   ]
  },
  {
   "cell_type": "code",
   "execution_count": null,
   "id": "477e183d-369e-4ce9-bd16-4f1318fb679d",
   "metadata": {},
   "outputs": [],
   "source": [
    "# 1. >90 and <=100 : A -> IF\n",
    "# 2. >80 and <= 90 : B ->  ELIF\n",
    "# 3. >70 and <=80  : C ->  ELIF\n",
    "# 4. >60 and <=70  : D ->  ELIF\n",
    "# 5. else \"Fail\" ->  ELSE"
   ]
  },
  {
   "cell_type": "code",
   "execution_count": 121,
   "id": "b43b8fd2-69fd-46f5-85a2-6b5436bc220a",
   "metadata": {},
   "outputs": [],
   "source": [
    "marks = 1"
   ]
  },
  {
   "cell_type": "code",
   "execution_count": 123,
   "id": "9c7b21ee-754a-43cd-9d9f-bac29793ae1f",
   "metadata": {},
   "outputs": [
    {
     "name": "stdout",
     "output_type": "stream",
     "text": [
      "Fail!\n"
     ]
    }
   ],
   "source": [
    "if marks > 100 :\n",
    "    print(\"incorrect\")\n",
    "elif marks > 90 and marks <=100 : \n",
    "    print(\"A\")\n",
    "elif marks > 80 and marks <= 90 :\n",
    "    print(\"B\")\n",
    "elif marks > 70 and marks <= 80 :\n",
    "    print(\"C\")\n",
    "elif marks > 60 and marks <= 70 :\n",
    "    print(\"D\")\n",
    "else :\n",
    "    print(\"Fail!\")"
   ]
  },
  {
   "cell_type": "code",
   "execution_count": null,
   "id": "b25601d9-5c23-4aa0-beeb-5723fe3ff297",
   "metadata": {},
   "outputs": [],
   "source": []
  },
  {
   "cell_type": "code",
   "execution_count": null,
   "id": "2a22f087-650e-48cf-ac84-02d6dca9b84f",
   "metadata": {},
   "outputs": [],
   "source": []
  }
 ],
 "metadata": {
  "kernelspec": {
   "display_name": "Python [conda env:anaconda3-genai]",
   "language": "python",
   "name": "conda-env-anaconda3-genai-py"
  },
  "language_info": {
   "codemirror_mode": {
    "name": "ipython",
    "version": 3
   },
   "file_extension": ".py",
   "mimetype": "text/x-python",
   "name": "python",
   "nbconvert_exporter": "python",
   "pygments_lexer": "ipython3",
   "version": "3.11.5"
  }
 },
 "nbformat": 4,
 "nbformat_minor": 5
}
