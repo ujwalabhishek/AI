{
 "cells": [
  {
   "cell_type": "code",
   "execution_count": 1,
   "id": "1a9152e5-a380-454b-83ed-2e5b9f5480d1",
   "metadata": {},
   "outputs": [],
   "source": [
    "s = \"strawberry\""
   ]
  },
  {
   "cell_type": "code",
   "execution_count": 3,
   "id": "1da21017-0ac5-4536-b29b-71ce474b980f",
   "metadata": {},
   "outputs": [
    {
     "data": {
      "text/plain": [
       "10"
      ]
     },
     "execution_count": 3,
     "metadata": {},
     "output_type": "execute_result"
    }
   ],
   "source": [
    "len(s) # number of elements in s"
   ]
  },
  {
   "cell_type": "code",
   "execution_count": 5,
   "id": "43f8949c-24a9-44b3-9e9f-895dcb2e6cad",
   "metadata": {},
   "outputs": [
    {
     "data": {
      "text/plain": [
       "6"
      ]
     },
     "execution_count": 5,
     "metadata": {},
     "output_type": "execute_result"
    }
   ],
   "source": [
    "s1 = \"upgrad\"\n",
    "len(s1)"
   ]
  },
  {
   "cell_type": "code",
   "execution_count": 7,
   "id": "9f0e7e9e-eed4-4c2a-a076-9956f2e0e43f",
   "metadata": {},
   "outputs": [],
   "source": [
    "string = \"Hello!\""
   ]
  },
  {
   "cell_type": "code",
   "execution_count": 9,
   "id": "a459a73f-91fe-4298-ba3e-224e96f215fd",
   "metadata": {},
   "outputs": [
    {
     "data": {
      "text/plain": [
       "6"
      ]
     },
     "execution_count": 9,
     "metadata": {},
     "output_type": "execute_result"
    }
   ],
   "source": [
    "len(string)"
   ]
  },
  {
   "cell_type": "code",
   "execution_count": 11,
   "id": "3497151f-e23c-42fd-bf68-fbffe2e68640",
   "metadata": {},
   "outputs": [
    {
     "name": "stdout",
     "output_type": "stream",
     "text": [
      "H\n",
      "e\n",
      "l\n",
      "l\n",
      "o\n",
      "!\n"
     ]
    }
   ],
   "source": [
    "for i in string :\n",
    "    print(i)"
   ]
  },
  {
   "cell_type": "code",
   "execution_count": 13,
   "id": "76a1e019-a2a3-4a69-88ab-1eb5611c00f5",
   "metadata": {},
   "outputs": [
    {
     "name": "stdout",
     "output_type": "stream",
     "text": [
      "H\n",
      "e\n",
      "l\n",
      "l\n",
      "o\n",
      "!\n"
     ]
    }
   ],
   "source": [
    "for a in string :\n",
    "    print(a)"
   ]
  },
  {
   "cell_type": "code",
   "execution_count": 17,
   "id": "3cd9bca6-70a6-4040-b148-dfd3026c23c0",
   "metadata": {},
   "outputs": [
    {
     "name": "stdout",
     "output_type": "stream",
     "text": [
      "H\n",
      "e\n",
      "l\n",
      "l\n",
      "o\n",
      "!\n"
     ]
    }
   ],
   "source": [
    "for x in string:\n",
    "    print(x)"
   ]
  },
  {
   "cell_type": "code",
   "execution_count": 21,
   "id": "b721cfcd-5674-41e9-87c0-ef43c924bfd8",
   "metadata": {},
   "outputs": [
    {
     "name": "stdout",
     "output_type": "stream",
     "text": [
      "Hello!\n"
     ]
    }
   ],
   "source": [
    "print(string)"
   ]
  },
  {
   "cell_type": "code",
   "execution_count": 23,
   "id": "84cb4d0c-8ad1-4e6a-81fa-76b21e3902d9",
   "metadata": {},
   "outputs": [
    {
     "name": "stdout",
     "output_type": "stream",
     "text": [
      "H\n",
      "e\n",
      "l\n",
      "l\n",
      "o\n",
      "!\n"
     ]
    }
   ],
   "source": [
    "for i in string :\n",
    "    print(i)"
   ]
  },
  {
   "cell_type": "code",
   "execution_count": 25,
   "id": "507ab4f1-558a-42e3-97e4-73e2899275cf",
   "metadata": {},
   "outputs": [
    {
     "name": "stdout",
     "output_type": "stream",
     "text": [
      "h - H\n",
      "e - E\n",
      "l - L\n",
      "l - L\n",
      "o - O\n",
      "! - !\n"
     ]
    }
   ],
   "source": [
    "for i in string :\n",
    "    print(i.lower(),\"-\",i.upper())"
   ]
  },
  {
   "cell_type": "code",
   "execution_count": 27,
   "id": "c1a9bdae-bea8-4b03-b2af-aefd8599a107",
   "metadata": {},
   "outputs": [
    {
     "data": {
      "text/plain": [
       "'Hello!'"
      ]
     },
     "execution_count": 27,
     "metadata": {},
     "output_type": "execute_result"
    }
   ],
   "source": [
    "string"
   ]
  },
  {
   "cell_type": "code",
   "execution_count": 29,
   "id": "566df20a-e02c-4d76-b987-c4929c312bd8",
   "metadata": {},
   "outputs": [
    {
     "name": "stdout",
     "output_type": "stream",
     "text": [
      "H_new\n",
      "e_new\n",
      "l_new\n",
      "l_new\n",
      "o_new\n",
      "!_new\n"
     ]
    }
   ],
   "source": [
    "for i in string :\n",
    "    print(i + \"_new\")"
   ]
  },
  {
   "cell_type": "code",
   "execution_count": 33,
   "id": "29955f3b-7fc0-43e6-a057-01ed54015f89",
   "metadata": {},
   "outputs": [],
   "source": [
    "# range?"
   ]
  },
  {
   "cell_type": "code",
   "execution_count": 35,
   "id": "3e8763db-9355-49d8-9dd3-8dcdf1b593bd",
   "metadata": {},
   "outputs": [
    {
     "name": "stdout",
     "output_type": "stream",
     "text": [
      "0\n",
      "1\n",
      "2\n",
      "3\n",
      "4\n"
     ]
    }
   ],
   "source": [
    "for i in range(5):\n",
    "    print(i)"
   ]
  },
  {
   "cell_type": "code",
   "execution_count": 37,
   "id": "e254dc65-904c-46c0-a26e-3b62528d0537",
   "metadata": {},
   "outputs": [
    {
     "name": "stdout",
     "output_type": "stream",
     "text": [
      "10\n",
      "11\n",
      "12\n",
      "13\n",
      "14\n"
     ]
    }
   ],
   "source": [
    "for i in range(10,15):\n",
    "    print(i)"
   ]
  },
  {
   "cell_type": "code",
   "execution_count": 39,
   "id": "5b808295-f5d8-4d26-aa01-febe57cc0278",
   "metadata": {},
   "outputs": [
    {
     "name": "stdout",
     "output_type": "stream",
     "text": [
      "0\n",
      "2\n",
      "4\n",
      "6\n",
      "8\n"
     ]
    }
   ],
   "source": [
    "for i in range(0,10,2):\n",
    "    print(i)"
   ]
  },
  {
   "cell_type": "code",
   "execution_count": 47,
   "id": "27778e85-6cfe-447c-8b7c-d63e78a44277",
   "metadata": {},
   "outputs": [],
   "source": [
    "# Write a program to print every alternate hundred starting from 100. \n",
    "# The program should print 100, 300, ... until 900."
   ]
  },
  {
   "cell_type": "code",
   "execution_count": 49,
   "id": "8bd52604-482c-415f-a8e5-64356fab821d",
   "metadata": {},
   "outputs": [
    {
     "name": "stdout",
     "output_type": "stream",
     "text": [
      "100\n",
      "300\n",
      "500\n",
      "700\n",
      "900\n"
     ]
    }
   ],
   "source": [
    "for i in range(100,1000,200):\n",
    "    print(i)"
   ]
  },
  {
   "cell_type": "code",
   "execution_count": 51,
   "id": "c56d2dd2-99c2-4752-a2a9-9f1895f7edc1",
   "metadata": {},
   "outputs": [
    {
     "name": "stdout",
     "output_type": "stream",
     "text": [
      "100\n",
      "300\n",
      "500\n",
      "700\n",
      "900\n"
     ]
    }
   ],
   "source": [
    "for i in range(1,10,2):\n",
    "    print(i*100)"
   ]
  },
  {
   "cell_type": "code",
   "execution_count": null,
   "id": "bf5e24bc-98c3-4a70-bdfc-cc5b24fb024d",
   "metadata": {},
   "outputs": [],
   "source": []
  },
  {
   "cell_type": "code",
   "execution_count": 53,
   "id": "8945b4fa-c4ba-4ce8-9019-8c1ea38e7e48",
   "metadata": {},
   "outputs": [],
   "source": [
    "s = \"school\""
   ]
  },
  {
   "cell_type": "code",
   "execution_count": 55,
   "id": "88698349-79ac-429e-a3a0-aade934f3456",
   "metadata": {},
   "outputs": [
    {
     "name": "stdout",
     "output_type": "stream",
     "text": [
      "s\n",
      "c\n",
      "h\n",
      "o\n",
      "o\n",
      "l\n"
     ]
    }
   ],
   "source": [
    "for i in s :\n",
    "    print(i)"
   ]
  },
  {
   "cell_type": "code",
   "execution_count": null,
   "id": "40f77586-7c3e-4517-91f6-b5635d01c98c",
   "metadata": {},
   "outputs": [],
   "source": []
  },
  {
   "cell_type": "code",
   "execution_count": 57,
   "id": "ca532019-e44f-4336-8f12-dbd03afc3a57",
   "metadata": {},
   "outputs": [],
   "source": [
    "# while loop!"
   ]
  },
  {
   "cell_type": "code",
   "execution_count": 61,
   "id": "3576b302-2869-4b5f-b843-f470f8d7d11b",
   "metadata": {},
   "outputs": [],
   "source": [
    " i = 1"
   ]
  },
  {
   "cell_type": "code",
   "execution_count": 63,
   "id": "06a0dc95-ce72-4c91-80fc-631f7d18d65e",
   "metadata": {},
   "outputs": [
    {
     "name": "stdout",
     "output_type": "stream",
     "text": [
      "1\n",
      "2\n",
      "3\n"
     ]
    }
   ],
   "source": [
    "while i < 4 :\n",
    "    print(i)\n",
    "    i = i + 1"
   ]
  },
  {
   "cell_type": "code",
   "execution_count": 65,
   "id": "da045c78-e534-4466-ae1e-6385eb7844a9",
   "metadata": {},
   "outputs": [],
   "source": [
    "# 1. print(1) || i = 1+1 = 2\n",
    "# 2. print(2) || i = 2+1 = 3\n",
    "# 3. print(3) || i = 3+1 = 4\n",
    "# 4. FALSE (the loop stops!)"
   ]
  },
  {
   "cell_type": "code",
   "execution_count": null,
   "id": "c0f7d966-505b-4800-9e2a-c233c890db03",
   "metadata": {},
   "outputs": [],
   "source": []
  },
  {
   "cell_type": "code",
   "execution_count": 71,
   "id": "4683e934-b96f-4377-9144-6094ed8d0442",
   "metadata": {},
   "outputs": [],
   "source": [
    "# # infinite\n",
    "# # i = -1\n",
    "# # while i < 6 :\n",
    "# #     print(i)\n",
    "# #     i=i-1"
   ]
  },
  {
   "cell_type": "code",
   "execution_count": 73,
   "id": "a93951d4-7c16-441b-a7f8-18db00045df6",
   "metadata": {},
   "outputs": [],
   "source": [
    "# 1. print(-1) || i = -1-1 = -2\n",
    "# 2. print(-2) || i = -2-1 = -3\n",
    "# ....infinite loop!"
   ]
  },
  {
   "cell_type": "code",
   "execution_count": null,
   "id": "de052a68-dde6-4928-bfce-508725f4edd4",
   "metadata": {},
   "outputs": [],
   "source": []
  },
  {
   "cell_type": "code",
   "execution_count": 75,
   "id": "57007f39-8175-4fff-8e22-9bc9a88742cc",
   "metadata": {},
   "outputs": [
    {
     "name": "stdin",
     "output_type": "stream",
     "text": [
      " 101\n"
     ]
    }
   ],
   "source": [
    "num = int(input())"
   ]
  },
  {
   "cell_type": "code",
   "execution_count": 77,
   "id": "a27b9304-a6b3-4fd1-985d-8be8db42ef97",
   "metadata": {},
   "outputs": [
    {
     "name": "stdout",
     "output_type": "stream",
     "text": [
      "number is greater than 100\n"
     ]
    },
    {
     "name": "stdin",
     "output_type": "stream",
     "text": [
      " 111110000\n"
     ]
    },
    {
     "name": "stdout",
     "output_type": "stream",
     "text": [
      "number is greater than 100\n"
     ]
    },
    {
     "name": "stdin",
     "output_type": "stream",
     "text": [
      " 10001010101\n"
     ]
    },
    {
     "name": "stdout",
     "output_type": "stream",
     "text": [
      "number is greater than 100\n"
     ]
    },
    {
     "name": "stdin",
     "output_type": "stream",
     "text": [
      " 88\n"
     ]
    }
   ],
   "source": [
    "while num > 100 : \n",
    "    print(\"number is greater than 100\")\n",
    "    num = int(input())"
   ]
  },
  {
   "cell_type": "code",
   "execution_count": null,
   "id": "c11e9fa9-2511-4e32-bf2f-967add9e4a15",
   "metadata": {},
   "outputs": [],
   "source": []
  }
 ],
 "metadata": {
  "kernelspec": {
   "display_name": "Python [conda env:anaconda3-genai]",
   "language": "python",
   "name": "conda-env-anaconda3-genai-py"
  },
  "language_info": {
   "codemirror_mode": {
    "name": "ipython",
    "version": 3
   },
   "file_extension": ".py",
   "mimetype": "text/x-python",
   "name": "python",
   "nbconvert_exporter": "python",
   "pygments_lexer": "ipython3",
   "version": "3.11.5"
  }
 },
 "nbformat": 4,
 "nbformat_minor": 5
}
