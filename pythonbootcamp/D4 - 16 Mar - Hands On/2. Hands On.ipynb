{
 "cells": [
  {
   "cell_type": "code",
   "execution_count": 5,
   "id": "cd931903-9417-451e-bd81-62f756de2546",
   "metadata": {},
   "outputs": [],
   "source": [
    "### Quiz 6\n",
    "# Create a function `ticket_price(age, time_of_day)` that determines\n",
    "# the ticket type based on age and time of day.\n",
    "\n",
    "# Use If-Else Statements:\n",
    "# *   If age is under 12, return \"Child ticket\".\n",
    "# *   If age is 12 or older but under 60, check time_of_day.\n",
    "#     *   If time_of_day is before 18, return \"Adult ticket (Day)\".\n",
    "#     *   Otherwise, return \"Adult ticket (Evening)\".\n",
    "# *   If age is 60 or older, return \"Senior ticket\".\n",
    "\n",
    "\n",
    "# 1) Write the code and make sure it works using if elif else condition!\n",
    "# 2) first is done, convert it to a function"
   ]
  },
  {
   "cell_type": "code",
   "execution_count": 9,
   "id": "7bdad57a-d2e2-46e0-92fe-957eeadc74f6",
   "metadata": {},
   "outputs": [],
   "source": [
    "age = 19\n",
    "time_of_day = 19"
   ]
  },
  {
   "cell_type": "code",
   "execution_count": 11,
   "id": "6e5f36b1-f9ed-4e4a-a76c-eb9a676c5244",
   "metadata": {},
   "outputs": [
    {
     "name": "stdout",
     "output_type": "stream",
     "text": [
      "Adult,evening\n"
     ]
    }
   ],
   "source": [
    "if age < 12 :\n",
    "    print(\"Child ticket\")\n",
    "elif age >= 12 and age < 60 :\n",
    "    if time_of_day < 18 :\n",
    "        print(\"Adult,Day\")\n",
    "    else :\n",
    "        print(\"Adult,evening\")\n",
    "else :\n",
    "    print(\"Senior ticket\")"
   ]
  },
  {
   "cell_type": "code",
   "execution_count": 13,
   "id": "600889bf-c6e3-4109-b610-173ccf7d53a9",
   "metadata": {},
   "outputs": [],
   "source": [
    "def age_time(age,time_of_day) :\n",
    "    if age < 12 :\n",
    "        return \"Child ticket\"\n",
    "    elif age >= 12 and age < 60 :\n",
    "        if time_of_day < 18 :\n",
    "            return \"Adult,Day\"\n",
    "        else :\n",
    "            return \"Adult,evening\"\n",
    "    else :\n",
    "        return \"Senior ticket\""
   ]
  },
  {
   "cell_type": "code",
   "execution_count": 15,
   "id": "91668b43-3698-4235-a404-c616a370e146",
   "metadata": {},
   "outputs": [
    {
     "data": {
      "text/plain": [
       "'Adult,evening'"
      ]
     },
     "execution_count": 15,
     "metadata": {},
     "output_type": "execute_result"
    }
   ],
   "source": [
    "age_time(19,19)"
   ]
  },
  {
   "cell_type": "code",
   "execution_count": 17,
   "id": "eb37ed5e-c261-48b5-8cbd-72dbd3332038",
   "metadata": {},
   "outputs": [
    {
     "data": {
      "text/plain": [
       "'Senior ticket'"
      ]
     },
     "execution_count": 17,
     "metadata": {},
     "output_type": "execute_result"
    }
   ],
   "source": [
    "age_time(69,19)"
   ]
  },
  {
   "cell_type": "code",
   "execution_count": 19,
   "id": "9d4972af-dff8-4e59-ac20-63693fc9afe8",
   "metadata": {},
   "outputs": [
    {
     "data": {
      "text/plain": [
       "'Child ticket'"
      ]
     },
     "execution_count": 19,
     "metadata": {},
     "output_type": "execute_result"
    }
   ],
   "source": [
    "age_time(1,19)"
   ]
  },
  {
   "cell_type": "code",
   "execution_count": null,
   "id": "26e9b376-29be-4bd7-a797-2c987154098c",
   "metadata": {},
   "outputs": [],
   "source": []
  },
  {
   "cell_type": "code",
   "execution_count": 21,
   "id": "b51a1b40-45e2-44c6-9ce0-50495d42e5ea",
   "metadata": {},
   "outputs": [],
   "source": [
    "### Quiz 8\n",
    "# Create a function `check_job_eligibility(experience, education)` \n",
    "# that checks if a person is eligible for a specific job role based on \n",
    "# their work experience and education.\n",
    "\n",
    "# Use If-Else Statements:\n",
    "\n",
    "# *   If experience is 5 years or more:\n",
    "#     * If education is \"Bachelor\", return \"Eligible for Junior Management role\".`\n",
    "#     * If education is \"Master\", return \"Eligible for Senior Management role\".\n",
    "# *   Otherwise, return \"Eligible for Entry-level role\".\n",
    "# *   If experience is less than 5 years, return \"Ineligible for any management role\"."
   ]
  },
  {
   "cell_type": "code",
   "execution_count": 23,
   "id": "906b9e16-c2d2-4630-8203-121a5ab5f98e",
   "metadata": {},
   "outputs": [],
   "source": [
    "# 1) Write the code and make sure it works using if elif else condition!\n",
    "# 2) first is done, convert it to a function"
   ]
  },
  {
   "cell_type": "code",
   "execution_count": null,
   "id": "66894d75-9172-4760-a7d6-e0aa5a630cd5",
   "metadata": {},
   "outputs": [],
   "source": [
    "if exp >= 5:\n",
    "    if education == \"Bachelor\":\n",
    "        print(\"Junior Mgmt role\")\n",
    "    elif education == \"Masters\":\n",
    "        print(\"Senior Mgmt role\")\n",
    "    else:\n",
    "        print(\"Entry level roles\")\n",
    "else:\n",
    "    print(\"Not eligible for mgmt roles\")"
   ]
  },
  {
   "cell_type": "code",
   "execution_count": 27,
   "id": "82379ec1-4236-429d-99db-a9319cbd4ecf",
   "metadata": {},
   "outputs": [],
   "source": [
    "def check_job_elig(exp, education) :\n",
    "    if exp >= 5:\n",
    "        if education == \"Bachelor\":\n",
    "            return \"Junior Mgmt role\"\n",
    "        elif education == \"Masters\":\n",
    "            return \"Senior Mgmt role\"\n",
    "        else:\n",
    "            return \"Entry level roles\"\n",
    "    else:\n",
    "       return \"Not eligible for mgmt roles\""
   ]
  },
  {
   "cell_type": "code",
   "execution_count": 29,
   "id": "bf42d40c-4d44-4691-87f8-2f68a9576117",
   "metadata": {},
   "outputs": [
    {
     "data": {
      "text/plain": [
       "'Not eligible for mgmt roles'"
      ]
     },
     "execution_count": 29,
     "metadata": {},
     "output_type": "execute_result"
    }
   ],
   "source": [
    "check_job_elig(1,\"Bachelor\")"
   ]
  },
  {
   "cell_type": "code",
   "execution_count": 31,
   "id": "32015220-a036-4d66-8ebf-87af87c49a89",
   "metadata": {},
   "outputs": [
    {
     "data": {
      "text/plain": [
       "'Junior Mgmt role'"
      ]
     },
     "execution_count": 31,
     "metadata": {},
     "output_type": "execute_result"
    }
   ],
   "source": [
    "check_job_elig(10,\"Bachelor\")"
   ]
  },
  {
   "cell_type": "code",
   "execution_count": null,
   "id": "293d9e7e-36de-4736-be0d-504275516216",
   "metadata": {},
   "outputs": [],
   "source": []
  },
  {
   "cell_type": "code",
   "execution_count": null,
   "id": "d3d2ab46-dd43-4835-9cfd-8d58d04a664a",
   "metadata": {},
   "outputs": [],
   "source": []
  },
  {
   "cell_type": "code",
   "execution_count": 37,
   "id": "3643411a-96bc-477e-8c63-d7266447b688",
   "metadata": {},
   "outputs": [],
   "source": [
    "# Write a function count_vowels(s) that \n",
    "# takes a string s and \n",
    "# returns the number of vowels (a, e, i, o, u)\n",
    "# in the string!"
   ]
  },
  {
   "cell_type": "code",
   "execution_count": 45,
   "id": "dc20cd4a-12cd-4fc6-9e7d-545b3cd0eb05",
   "metadata": {},
   "outputs": [],
   "source": [
    "# print(count_vowels(\"hello\"))      # Output: 2"
   ]
  },
  {
   "cell_type": "code",
   "execution_count": 47,
   "id": "ada6510c-256f-43f0-9d24-b17d6ff88f78",
   "metadata": {},
   "outputs": [],
   "source": [
    "# print(count_vowels(\"HEllo\"))      # Output: 2"
   ]
  },
  {
   "cell_type": "code",
   "execution_count": 63,
   "id": "a006ce10-15a0-41a6-9cd2-ffe801f7cd43",
   "metadata": {},
   "outputs": [],
   "source": [
    "vowels = 'aeiouAEIOU'\n",
    "count  = 0 \n",
    "s = \"beautiful\""
   ]
  },
  {
   "cell_type": "code",
   "execution_count": 65,
   "id": "8c415fe4-84f4-43be-9c37-3a15cf9a6281",
   "metadata": {},
   "outputs": [],
   "source": [
    "for i in s :\n",
    "    if i in vowels :\n",
    "        count = count + 1"
   ]
  },
  {
   "cell_type": "code",
   "execution_count": 67,
   "id": "87141968-6ef9-4bc9-8e77-81d1279d356a",
   "metadata": {},
   "outputs": [
    {
     "data": {
      "text/plain": [
       "5"
      ]
     },
     "execution_count": 67,
     "metadata": {},
     "output_type": "execute_result"
    }
   ],
   "source": [
    "count"
   ]
  },
  {
   "cell_type": "code",
   "execution_count": null,
   "id": "96c4d396-20d7-437e-86ff-86e9f6922950",
   "metadata": {},
   "outputs": [],
   "source": []
  },
  {
   "cell_type": "code",
   "execution_count": 81,
   "id": "64658e83-4b1e-4972-a0c8-202c15c42322",
   "metadata": {},
   "outputs": [],
   "source": [
    "# s = \"upgrad\"\n",
    "s = \"beautiful\"\n",
    "vowels = 'aeiouAEIOU'\n",
    "new = \"\"\n",
    "# i want output -> all vowels should be removed?\n",
    "# o/p : pgrd"
   ]
  },
  {
   "cell_type": "code",
   "execution_count": 83,
   "id": "96fc19a2-1e7b-4674-a62b-dbcf41784612",
   "metadata": {},
   "outputs": [],
   "source": [
    "for i in s :\n",
    "    if i not in vowels :\n",
    "        new = new + i"
   ]
  },
  {
   "cell_type": "code",
   "execution_count": 85,
   "id": "d17ce786-1d80-4416-8601-b67265818dbc",
   "metadata": {},
   "outputs": [
    {
     "data": {
      "text/plain": [
       "'btfl'"
      ]
     },
     "execution_count": 85,
     "metadata": {},
     "output_type": "execute_result"
    }
   ],
   "source": [
    "new"
   ]
  },
  {
   "cell_type": "code",
   "execution_count": null,
   "id": "7e9f986b-5779-4eb6-9fa1-54475a52acd2",
   "metadata": {},
   "outputs": [],
   "source": []
  }
 ],
 "metadata": {
  "kernelspec": {
   "display_name": "Python [conda env:anaconda3-genai]",
   "language": "python",
   "name": "conda-env-anaconda3-genai-py"
  },
  "language_info": {
   "codemirror_mode": {
    "name": "ipython",
    "version": 3
   },
   "file_extension": ".py",
   "mimetype": "text/x-python",
   "name": "python",
   "nbconvert_exporter": "python",
   "pygments_lexer": "ipython3",
   "version": "3.11.5"
  }
 },
 "nbformat": 4,
 "nbformat_minor": 5
}
