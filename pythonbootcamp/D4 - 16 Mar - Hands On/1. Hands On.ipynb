{
 "cells": [
  {
   "cell_type": "code",
   "execution_count": 5,
   "id": "e98ec983-26f6-499c-9c5b-8b965111d73f",
   "metadata": {},
   "outputs": [],
   "source": [
    "# ### Quiz 1\n",
    "# Set a variable `'hunger_level'` to a value between `0` and `10`.\n",
    "# Use If-Else Logic:\n",
    "# If `'hunger_level'` is `8` or more, print \"giant pizza!\"\n",
    "# If `'hunger_level'` is `5` or more but less than `8`, print \"burger or pasta.\"\n",
    "# If `'hunger_level'` is `2` or more but less than `5`, print \"A sandwich will do for now.\"\n",
    "# If `'hunger_level'` is less than `2`, print \"I'm not hungry at all... Maybe just a snack.\""
   ]
  },
  {
   "cell_type": "code",
   "execution_count": 15,
   "id": "458bea64-c542-4db1-882a-61ad7fd0ed45",
   "metadata": {},
   "outputs": [
    {
     "name": "stdout",
     "output_type": "stream",
     "text": [
      "not hugry\n"
     ]
    }
   ],
   "source": [
    "hl = 0\n",
    "if hl >= 8 and hl <=10 :\n",
    "    print(\"giant pizza\")\n",
    "elif hl>=5 and hl< 8:\n",
    "    print(\"burger or pasta\")\n",
    "elif hl >=2 and hl<5 :\n",
    "    print(\"Sandwich\")\n",
    "else :\n",
    "    print(\"not hugry\")"
   ]
  },
  {
   "cell_type": "code",
   "execution_count": null,
   "id": "f1f7ccb0-5364-4f57-a9d9-a03c2cc7f956",
   "metadata": {},
   "outputs": [],
   "source": []
  },
  {
   "cell_type": "code",
   "execution_count": 17,
   "id": "8c1e6e8a-f08a-4f60-87ef-de6bf85e597f",
   "metadata": {},
   "outputs": [],
   "source": [
    "# ### Quiz 2\n",
    "# Set a variable `motivation_level` (`0` to `10`, where `0` is no motivation and `10` is super motivated).\n",
    "# Use If-Else Logic:\n",
    "# If motivation is `8+`, print about intense exercise (e.g., 100 push-ups).\n",
    "# If motivation is `5-7`, suggest a light workout (e.g., jog or home workout).\n",
    "# If motivation is `2-4`, suggest stretches and mention the couch.\n",
    "# If motivation is less than `2`, suggest snacks."
   ]
  },
  {
   "cell_type": "code",
   "execution_count": 23,
   "id": "45988453-d367-40a9-89e3-3a5281b0db46",
   "metadata": {},
   "outputs": [
    {
     "name": "stdout",
     "output_type": "stream",
     "text": [
      "intense exercise\n"
     ]
    }
   ],
   "source": [
    "ml = 9\n",
    "if ml >= 8 and ml <=10 :\n",
    "    print(\"intense exercise\")\n",
    "elif ml>=5 and ml< 8:\n",
    "    print(\"light workout \")\n",
    "elif ml >=2 and ml<5 :\n",
    "    print(\"stretches\")\n",
    "else :\n",
    "    print(\"snacks\")"
   ]
  },
  {
   "cell_type": "code",
   "execution_count": null,
   "id": "b797e850-2b26-49c8-969e-699076cff66c",
   "metadata": {},
   "outputs": [],
   "source": []
  },
  {
   "cell_type": "code",
   "execution_count": 29,
   "id": "086606e5-ce48-46c5-9728-e75d3133a241",
   "metadata": {},
   "outputs": [
    {
     "name": "stdout",
     "output_type": "stream",
     "text": [
      "intense exercise\n"
     ]
    }
   ],
   "source": [
    "ml = 9\n",
    "if ml > 10 :\n",
    "    print('incorrect')\n",
    "elif ml >= 8 and ml <=10 :\n",
    "    print(\"intense exercise\")\n",
    "elif ml>=5 and ml< 8:\n",
    "    print(\"light workout \")\n",
    "elif ml >=2 and ml<5 :\n",
    "    print(\"stretches\")\n",
    "elif ml >=1 and ml <= 0 :\n",
    "    print(\"snacks\")\n",
    "else :\n",
    "    print(\"cant be less than 0\")"
   ]
  },
  {
   "cell_type": "code",
   "execution_count": null,
   "id": "70e4d2b3-4ce5-40e1-bc39-022b420637a0",
   "metadata": {},
   "outputs": [],
   "source": []
  },
  {
   "cell_type": "code",
   "execution_count": null,
   "id": "11f6531d-641e-4f7f-b7d6-a6d5107193db",
   "metadata": {},
   "outputs": [],
   "source": []
  },
  {
   "cell_type": "code",
   "execution_count": null,
   "id": "ea68cf4b-7e4a-4aef-adb8-e8d190b0d461",
   "metadata": {},
   "outputs": [],
   "source": [
    "### Quiz 3\n",
    "\n",
    "# Set two variables: `age` (for the applicant's age) and `credit_score` (for the applicant's credit score).\n",
    "# Use Nested If-Else Logic:\n",
    "# First, check if the `age` is `18` or older. \n",
    "# If not, print a message saying they must be at least `18`.\n",
    "\n",
    "# If `age` is `18` or more, check if the `credit_score` is `700` or higher. \n",
    "# If yes, print \"Loan approved!\". If the credit score is lower, print \"Credit score too low for loan approval.\""
   ]
  },
  {
   "cell_type": "code",
   "execution_count": 43,
   "id": "0025bd0f-9dc0-444f-aa92-7fc32d69d459",
   "metadata": {},
   "outputs": [],
   "source": [
    "age = 19\n",
    "credit_score = 720"
   ]
  },
  {
   "cell_type": "code",
   "execution_count": 45,
   "id": "a661cf9a-b40a-4b12-8ad1-c900f525986c",
   "metadata": {},
   "outputs": [
    {
     "name": "stdout",
     "output_type": "stream",
     "text": [
      "Loan Approved!\n"
     ]
    }
   ],
   "source": [
    "if age >= 18 :\n",
    "    if credit_score >= 700 :\n",
    "        print(\"Loan Approved!\")\n",
    "    else :\n",
    "        print(\"Low Credit Score, Rejected!\")\n",
    "else :\n",
    "    print(\"Age should be atleast 18!\")"
   ]
  },
  {
   "cell_type": "code",
   "execution_count": null,
   "id": "3fff7549-6ade-4e40-82a3-d6493e2df5ee",
   "metadata": {},
   "outputs": [],
   "source": []
  },
  {
   "cell_type": "code",
   "execution_count": null,
   "id": "f10e140e-b94e-49ee-9135-0c04963a748a",
   "metadata": {},
   "outputs": [],
   "source": []
  },
  {
   "cell_type": "code",
   "execution_count": 49,
   "id": "5035d8a9-f1a6-4d64-ba90-0b04d0f90183",
   "metadata": {},
   "outputs": [],
   "source": [
    "# ### Quiz 4\n",
    "# Set `correct_password` to the right password and `user_input` to an empty string.\n",
    "\n",
    "# Use a While Loop:\n",
    "# Keep asking for the password until `user_input` matches `correct_password`.\n",
    "# If incorrect, print \"Incorrect password. Try again.\"\n",
    "# When correct, print \"Access granted.\""
   ]
  },
  {
   "cell_type": "code",
   "execution_count": 51,
   "id": "72e86119-755c-4af3-bcaf-b4c144317973",
   "metadata": {},
   "outputs": [],
   "source": [
    "correct_password = 'password123'\n",
    "user_input = \"\""
   ]
  },
  {
   "cell_type": "code",
   "execution_count": 57,
   "id": "b7c29ae9-550e-425e-939e-b61b8e17d7f7",
   "metadata": {},
   "outputs": [
    {
     "name": "stdin",
     "output_type": "stream",
     "text": [
      "Enter Password -  123\n"
     ]
    },
    {
     "name": "stdout",
     "output_type": "stream",
     "text": [
      "Incorrect, pls try again!\n"
     ]
    },
    {
     "name": "stdin",
     "output_type": "stream",
     "text": [
      "Enter Password -  upgrad\n"
     ]
    },
    {
     "name": "stdout",
     "output_type": "stream",
     "text": [
      "Incorrect, pls try again!\n"
     ]
    },
    {
     "name": "stdin",
     "output_type": "stream",
     "text": [
      "Enter Password -  password123\n"
     ]
    },
    {
     "name": "stdout",
     "output_type": "stream",
     "text": [
      "Access Granted!\n"
     ]
    }
   ],
   "source": [
    "while user_input != correct_password:\n",
    "    user_input = input(\"Enter Password - \")\n",
    "    if user_input != correct_password :\n",
    "        print(\"Incorrect, pls try again!\")\n",
    "    else :\n",
    "        print(\"Access Granted!\")"
   ]
  },
  {
   "cell_type": "code",
   "execution_count": null,
   "id": "20e67955-a5b4-4bec-8930-c551e7191856",
   "metadata": {},
   "outputs": [],
   "source": []
  },
  {
   "cell_type": "code",
   "execution_count": 59,
   "id": "8decdb53-14a1-4533-a976-eca164930caf",
   "metadata": {},
   "outputs": [],
   "source": [
    "# ### Quiz 5\n",
    "# Set `secret_number` to the number you want to be guessed, and guess to None.\n",
    "# Use a While Loop:\n",
    "# Keep asking for the guess until guess matches `secret_number`.\n",
    "# If the guess is too low, print \"Too low! Try again.\"\n",
    "# If the guess is too high, print \"Too high! Try again.\"\n",
    "# When the guess is correct, print \"Congratulations!\"\n",
    "secret_number = 7\n",
    "guess = None"
   ]
  },
  {
   "cell_type": "code",
   "execution_count": 63,
   "id": "68302f4e-fd8a-4d9f-b8f5-52e551d975f3",
   "metadata": {},
   "outputs": [
    {
     "name": "stdin",
     "output_type": "stream",
     "text": [
      "Enter number -  1\n"
     ]
    },
    {
     "name": "stdout",
     "output_type": "stream",
     "text": [
      "low\n"
     ]
    },
    {
     "name": "stdin",
     "output_type": "stream",
     "text": [
      "Enter number -  10000\n"
     ]
    },
    {
     "name": "stdout",
     "output_type": "stream",
     "text": [
      "high\n"
     ]
    },
    {
     "name": "stdin",
     "output_type": "stream",
     "text": [
      "Enter number -  7\n"
     ]
    },
    {
     "name": "stdout",
     "output_type": "stream",
     "text": [
      "Congrats!\n"
     ]
    }
   ],
   "source": [
    "while guess != secret_number :\n",
    "    guess = int(input(\"Enter number - \"))\n",
    "    if guess < secret_number: \n",
    "        print(\"low\")\n",
    "    elif guess > secret_number :\n",
    "        print(\"high\")\n",
    "    else :\n",
    "        print(\"Congrats!\")"
   ]
  },
  {
   "cell_type": "code",
   "execution_count": null,
   "id": "c97ad03a-28f1-4c8d-ac33-cc4719c5bc7c",
   "metadata": {},
   "outputs": [],
   "source": []
  },
  {
   "cell_type": "code",
   "execution_count": null,
   "id": "bc102c73-5a5f-4bd8-8412-b77594c4b1bb",
   "metadata": {},
   "outputs": [],
   "source": []
  },
  {
   "cell_type": "code",
   "execution_count": 55,
   "id": "99bbf891-6fc4-4f00-9c7b-bfaf1b54c50b",
   "metadata": {},
   "outputs": [],
   "source": [
    "# Write done once done, DONT paste codes in the chat !"
   ]
  },
  {
   "cell_type": "code",
   "execution_count": null,
   "id": "8383a2e3-64d2-4611-9b26-fb4bae8aea8e",
   "metadata": {},
   "outputs": [],
   "source": []
  }
 ],
 "metadata": {
  "kernelspec": {
   "display_name": "Python [conda env:anaconda3-genai]",
   "language": "python",
   "name": "conda-env-anaconda3-genai-py"
  },
  "language_info": {
   "codemirror_mode": {
    "name": "ipython",
    "version": 3
   },
   "file_extension": ".py",
   "mimetype": "text/x-python",
   "name": "python",
   "nbconvert_exporter": "python",
   "pygments_lexer": "ipython3",
   "version": "3.11.5"
  }
 },
 "nbformat": 4,
 "nbformat_minor": 5
}
