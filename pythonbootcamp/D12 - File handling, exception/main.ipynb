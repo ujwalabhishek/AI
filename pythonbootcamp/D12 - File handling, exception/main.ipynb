{
 "cells": [
  {
   "cell_type": "code",
   "execution_count": 22,
   "id": "4cdc4e81-77fb-4f39-badd-61e08758cf7a",
   "metadata": {},
   "outputs": [],
   "source": [
    "def greet(name) :\n",
    "    print(\"Hello,\",name)"
   ]
  },
  {
   "cell_type": "code",
   "execution_count": 24,
   "id": "3245c1ee-34db-473f-b9dd-478e88f6e826",
   "metadata": {},
   "outputs": [
    {
     "name": "stdout",
     "output_type": "stream",
     "text": [
      "Hello, upgrad\n"
     ]
    }
   ],
   "source": [
    "greet(\"upgrad\")"
   ]
  },
  {
   "cell_type": "code",
   "execution_count": 26,
   "id": "a7304766-c812-4551-aadc-a3663e3434c0",
   "metadata": {},
   "outputs": [
    {
     "name": "stdout",
     "output_type": "stream",
     "text": [
      "Hello, upgrad\n"
     ]
    }
   ],
   "source": [
    "if __name__ == \"__main__\" :\n",
    "    greet(\"upgrad\")"
   ]
  },
  {
   "cell_type": "code",
   "execution_count": null,
   "id": "ca42ba48-2ab5-41bd-98ac-423b21f94b1a",
   "metadata": {},
   "outputs": [],
   "source": [
    "# organize your codes better!\n",
    "Code execution is OnLY controlled by main"
   ]
  },
  {
   "cell_type": "code",
   "execution_count": null,
   "id": "a640553d-a001-4215-860d-336be5ce4bc3",
   "metadata": {},
   "outputs": [],
   "source": []
  },
  {
   "cell_type": "code",
   "execution_count": 30,
   "id": "a850196a-8407-47b5-8ccc-a00687c59736",
   "metadata": {},
   "outputs": [],
   "source": [
    "def add(a,b):\n",
    "    return a + b\n",
    "\n",
    "def sub(a,b):\n",
    "    return a - b\n",
    "\n",
    "def main():\n",
    "    x = int(input())\n",
    "    y = int(input())\n",
    "    op = input(\"enter operation : + or -\")\n",
    "    if op == \"+\" :\n",
    "        result = add (x,y)\n",
    "    elif op == \"-\":\n",
    "        result = sub(x,y)\n",
    "    else :\n",
    "        result = \"invalid operation\"\n",
    "    print(\"Result -\",result)"
   ]
  },
  {
   "cell_type": "code",
   "execution_count": 32,
   "id": "ab0e4b37-e323-4ad0-b31d-df1e90b180ce",
   "metadata": {},
   "outputs": [
    {
     "name": "stdin",
     "output_type": "stream",
     "text": [
      " 10\n",
      " 20\n",
      "enter operation : + or - +\n"
     ]
    },
    {
     "name": "stdout",
     "output_type": "stream",
     "text": [
      "Result - 30\n"
     ]
    }
   ],
   "source": [
    "if __name__ == \"__main__\" :\n",
    "    main()"
   ]
  },
  {
   "cell_type": "code",
   "execution_count": null,
   "id": "973aa848-cddc-4507-ad97-407c43968880",
   "metadata": {},
   "outputs": [],
   "source": []
  },
  {
   "cell_type": "code",
   "execution_count": null,
   "id": "e88b0ba7-74be-4b84-92b7-19637a31167b",
   "metadata": {},
   "outputs": [],
   "source": []
  },
  {
   "cell_type": "code",
   "execution_count": null,
   "id": "d25f092f-f9ea-4880-85c6-1e90a8d24194",
   "metadata": {},
   "outputs": [],
   "source": []
  }
 ],
 "metadata": {
  "kernelspec": {
   "display_name": "Python [conda env:anaconda3-genai]",
   "language": "python",
   "name": "conda-env-anaconda3-genai-py"
  },
  "language_info": {
   "codemirror_mode": {
    "name": "ipython",
    "version": 3
   },
   "file_extension": ".py",
   "mimetype": "text/x-python",
   "name": "python",
   "nbconvert_exporter": "python",
   "pygments_lexer": "ipython3",
   "version": "3.11.5"
  }
 },
 "nbformat": 4,
 "nbformat_minor": 5
}
