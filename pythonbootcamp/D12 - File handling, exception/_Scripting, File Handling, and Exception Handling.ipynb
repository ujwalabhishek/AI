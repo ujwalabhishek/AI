{
 "cells": [
  {
   "cell_type": "markdown",
   "metadata": {
    "id": "B6H6BL2hnW0P"
   },
   "source": [
    "### Scripting\n",
    "\n",
    "A script is a Python file (`.py`) that is executed from the command line or another environment to automate tasks. Consider the following code:\n",
    "\n",
    "\n",
    "```\n",
    "# script.py\n",
    "import sys\n",
    "\n",
    "def greet_user(name):\n",
    "    '''Prints a greeting message.'''\n",
    "    print(f'Hello, {name}! Welcome to Python scripting.')\n",
    "\n",
    "if __name__ == '__main__':\n",
    "    if len(sys.argv) > 1:  # check if a name was provided as an argument\n",
    "        greet_user(sys.argv[1])\n",
    "    else:\n",
    "        print('Usage: python script.py <name>')\n",
    "```\n",
    "\n",
    "You can save this in a `.py` file. Now, you can open a terminal window in the directory where the file is stored and run the following:\n",
    "\n",
    "\n",
    "```\n",
    "python script.py Chitra\n",
    "```\n",
    "\n",
    "You can check out the `example.txt` file in the 'Files' tab in your Colab window.\n",
    "\n",
    "Scripting is useful in many ways, including\n",
    "\n",
    "* It allows you to automate repetitive tasks, for example, in areas such as file management, data processing, and system administration\n",
    "* It helps in organising your code: `.py` files allow you to structure your code into logical units, making it easier to understand, maintain, and debug\n",
    "* It functions as glue code: Python can be used to connect different software components or systems, allowing them to work together seamlessly"
   ]
  },
  {
   "cell_type": "markdown",
   "metadata": {
    "id": "NK8s5afJpKoP"
   },
   "source": [
    "___"
   ]
  },
  {
   "cell_type": "markdown",
   "metadata": {
    "id": "dHHLH_WyoWSK"
   },
   "source": [
    "### File Handling\n",
    "\n",
    "Python provides built-in functions to read, write, and modify files. Here is an example of how one can read and write files:"
   ]
  },
  {
   "cell_type": "code",
   "execution_count": 6,
   "metadata": {
    "id": "GMi069quof6W"
   },
   "outputs": [
    {
     "name": "stdout",
     "output_type": "stream",
     "text": [
      "Hello, this is a file handling example in Python.\n"
     ]
    }
   ],
   "source": [
    "# Writing to a file\n",
    "with open('example.txt', 'w') as file:\n",
    "    file.write('Hello, this is a file handling example in Python.')\n",
    "\n",
    "# Reading from a file\n",
    "with open('example.txt', 'r') as file:\n",
    "    content = file.read()\n",
    "    print(content)"
   ]
  },
  {
   "cell_type": "markdown",
   "metadata": {
    "id": "rK0U3tVQot7r"
   },
   "source": [
    "You can check out the `example.txt` file in the 'Files' tab in your Colab window.\n",
    "\n",
    "File handling is important because\n",
    "\n",
    "* A file stores data persistently\n",
    "* It allows you to reads and write large amounts of data\n",
    "* It can help in tasks like automated report generation"
   ]
  },
  {
   "cell_type": "markdown",
   "metadata": {
    "id": "aNQJZt8NpNIs"
   },
   "source": [
    "___"
   ]
  },
  {
   "cell_type": "markdown",
   "metadata": {
    "id": "BiOMREq7pOBG"
   },
   "source": [
    "### Exception Handling\n",
    "\n",
    "Python provides a way to handle runtime errors gracefully using the `try-except` block. Consider the following code which handles various exceptions and edge-cases:"
   ]
  },
  {
   "cell_type": "code",
   "execution_count": 1,
   "metadata": {
    "id": "4WIYk9y8pMxa"
   },
   "outputs": [
    {
     "name": "stdin",
     "output_type": "stream",
     "text": [
      "Enter a number:  0\n",
      "Enter another number:  0\n"
     ]
    },
    {
     "name": "stdout",
     "output_type": "stream",
     "text": [
      "Error: Cannot divide by zero.\n",
      "Execution completed.\n"
     ]
    }
   ],
   "source": [
    "try:\n",
    "    num1 = int(input('Enter a number: '))\n",
    "    num2 = int(input('Enter another number: '))\n",
    "    result = num1 / num2\n",
    "    print(f'Result: {result}')\n",
    "\n",
    "except ZeroDivisionError:\n",
    "    print('Error: Cannot divide by zero.')\n",
    "except ValueError:\n",
    "    print('Error: Invalid input. Please enter a number.')\n",
    "except Exception as e:\n",
    "    print(f'Unexpected error: {e}')\n",
    "\n",
    "finally:  # this will always execute\n",
    "    print('Execution completed.')"
   ]
  },
  {
   "cell_type": "markdown",
   "metadata": {
    "id": "teAhmRLrpsVm"
   },
   "source": [
    "Exception handling:\n",
    "\n",
    "* Prevents program crashes\n",
    "* Handles specific errors like `ZeroDivisionError`, `ValueError`, etc.\n",
    "* Ensures important cleanup code runs (e.g., closing files)\n",
    "\n",
    "Be careful while handling exceptions. You shouldn't use exception handling when:\n",
    "\n",
    "* You can prevent the error instead\n",
    "* The exception ought to crash the program: some errors are pretty serious and need to be debugged; sometimes, overuse of exception handling can hide errors\n",
    "* It would make the code too complex"
   ]
  },
  {
   "cell_type": "markdown",
   "metadata": {
    "id": "VAxNKiKir1vE"
   },
   "source": [
    "___"
   ]
  },
  {
   "cell_type": "markdown",
   "metadata": {
    "id": "6aKdkIawr3Rp"
   },
   "source": [
    "### The `assert` Keyword\n",
    "\n",
    "The `assert` keyword is used for debugging. It tests assumptions and raises an error if they are `False`."
   ]
  },
  {
   "cell_type": "code",
   "execution_count": null,
   "metadata": {
    "id": "WVWQjbzir_Iu"
   },
   "outputs": [],
   "source": [
    "def divide(a, b):\n",
    "    assert b != 0, 'Denominator cannot be zero!'  # AssertionError if b == 0\n",
    "    return a / b\n",
    "\n",
    "print(divide(10, 2))  # No error"
   ]
  },
  {
   "cell_type": "code",
   "execution_count": null,
   "metadata": {
    "id": "JxnItEV8sV3U"
   },
   "outputs": [],
   "source": [
    "# print(divide(5, 0))   # Raises AssertionError: Denominator cannot be zero!"
   ]
  },
  {
   "cell_type": "markdown",
   "metadata": {
    "id": "yfg6aAAYsbXA"
   },
   "source": [
    "You can use `assert` to:\n",
    "\n",
    "* Ensure that conditions hold before execution continues\n",
    "* Help catch bugs during development\n",
    "\n",
    "Do not use it for runtime error handling (use `try-except` for that). Here's another example:"
   ]
  },
  {
   "cell_type": "code",
   "execution_count": null,
   "metadata": {
    "id": "vHqyMtz9sza3"
   },
   "outputs": [],
   "source": [
    "def process_age(age):\n",
    "    assert isinstance(age, int) and age > 0, 'Age must be a positive integer'\n",
    "    print(f'Processing age: {age}')\n",
    "\n",
    "process_age(25)  # No error"
   ]
  },
  {
   "cell_type": "code",
   "execution_count": null,
   "metadata": {
    "id": "JSpQQZVSs8tB"
   },
   "outputs": [],
   "source": [
    "# process_age(-5)  # Raises AssertionError: Age must be a positive integer"
   ]
  },
  {
   "cell_type": "code",
   "execution_count": null,
   "metadata": {
    "id": "xjbOZx0Cs9FC"
   },
   "outputs": [],
   "source": [
    "# process_age('twenty')  # Raises AssertionError"
   ]
  },
  {
   "cell_type": "markdown",
   "metadata": {
    "id": "PFTHoG5gJ812"
   },
   "source": [
    "___"
   ]
  }
 ],
 "metadata": {
  "colab": {
   "authorship_tag": "ABX9TyMpA1cUPXpjDEOsMpOXOO8z",
   "provenance": []
  },
  "kernelspec": {
   "display_name": "Python [conda env:anaconda3-genai]",
   "language": "python",
   "name": "conda-env-anaconda3-genai-py"
  },
  "language_info": {
   "codemirror_mode": {
    "name": "ipython",
    "version": 3
   },
   "file_extension": ".py",
   "mimetype": "text/x-python",
   "name": "python",
   "nbconvert_exporter": "python",
   "pygments_lexer": "ipython3",
   "version": "3.11.5"
  }
 },
 "nbformat": 4,
 "nbformat_minor": 4
}
