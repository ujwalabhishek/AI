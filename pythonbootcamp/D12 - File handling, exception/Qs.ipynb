{
 "cells": [
  {
   "cell_type": "code",
   "execution_count": 12,
   "id": "a779dfa4-3057-464c-8848-c5b144fff401",
   "metadata": {},
   "outputs": [],
   "source": [
    "scores = {'Alice': 85, 'Bob': 92, 'Charlie': 78, 'David': 90}\n",
    "\n",
    "# If score ≥ 90 → \"Excellent\"\n",
    "# If score ≥ 80 → \"Good\"\n",
    "# Else → \"Needs Improvement\"\n",
    "\n",
    "# new dict :\n",
    "# {'Alice': 'Good', 'Bob': 'Excellent', \n",
    "# 'Charlie': 'Needs Improvement', 'David': 'Excellent'}"
   ]
  },
  {
   "cell_type": "code",
   "execution_count": 16,
   "id": "4521ccb2-c848-45a6-881c-42da49a05e63",
   "metadata": {},
   "outputs": [
    {
     "name": "stdout",
     "output_type": "stream",
     "text": [
      "{'Alice': 'Good', 'Bob': 'Excellent', 'Charlie': 'Needs Improvement', 'David': 'Excellent'}\n"
     ]
    }
   ],
   "source": [
    "remarks = {}\n",
    "\n",
    "for name, score in scores.items():\n",
    "    if score >= 90:\n",
    "        remarks[name] = \"Excellent\"\n",
    "    elif score >= 80:\n",
    "        remarks[name] = \"Good\"\n",
    "    else:\n",
    "        remarks[name] = \"Needs Improvement\"\n",
    "\n",
    "print(remarks)"
   ]
  },
  {
   "cell_type": "code",
   "execution_count": null,
   "id": "af6432cd-6a5e-44fe-b1a1-c2564bc8479e",
   "metadata": {},
   "outputs": [],
   "source": []
  },
  {
   "cell_type": "code",
   "execution_count": 20,
   "id": "da379682-1512-4f12-8ca2-6191963d6e8e",
   "metadata": {},
   "outputs": [],
   "source": [
    "students = {\n",
    "    'Alice': {'Math': 85, 'Science': 92, 'English': 78},\n",
    "    'Bob': {'Math': 90, 'Science': 88, 'English': 84},\n",
    "    'Charlie': {'Math': 70, 'Science': 75, 'English': 65}\n",
    "}\n",
    "\n",
    "# Calculate each student's average score.\n",
    "# Add a remark:\n",
    "# If average ≥ 85 → \"Outstanding\"\n",
    "# 70–84 → \"Satisfactory\"\n",
    "# Below 70 → \"Needs Improvement\"\n",
    "\n",
    "# o/p : {\n",
    "#   'Alice': {'Average': 85.0, 'Remark': 'Outstanding'},\n",
    "#   'Bob': {'Average': 87.3, 'Remark': 'Outstanding'},\n",
    "#   'Charlie': {'Average': 70.0, 'Remark': 'Satisfactory'}\n",
    "# }"
   ]
  },
  {
   "cell_type": "code",
   "execution_count": 26,
   "id": "bc31363c-608b-401c-ba8e-08536b5ebdc9",
   "metadata": {},
   "outputs": [],
   "source": [
    "results = {}\n",
    "\n",
    "for name, subjects in students.items():\n",
    "    scores = subjects.values()\n",
    "    avg = sum(scores) / len(scores)\n",
    "\n",
    "    if avg >= 85:\n",
    "        remark = \"Outstanding\"\n",
    "    elif avg >= 70:\n",
    "        remark = \"Satisfactory\"\n",
    "    else:\n",
    "        remark = \"Needs Improvement\"\n",
    "\n",
    "    results[name] = {\"Average\": round(avg, 1), \"Remark\": remark}"
   ]
  },
  {
   "cell_type": "code",
   "execution_count": 28,
   "id": "0fb5c1b7-69ee-4164-bf13-83544593ad41",
   "metadata": {},
   "outputs": [
    {
     "name": "stdout",
     "output_type": "stream",
     "text": [
      "{'Alice': {'Average': 85.0, 'Remark': 'Outstanding'}, 'Bob': {'Average': 87.3, 'Remark': 'Outstanding'}, 'Charlie': {'Average': 70.0, 'Remark': 'Satisfactory'}}\n"
     ]
    }
   ],
   "source": [
    "print(results)"
   ]
  },
  {
   "cell_type": "code",
   "execution_count": null,
   "id": "cf7fccec-ec45-4729-bc97-1d69ecf3fc19",
   "metadata": {},
   "outputs": [],
   "source": []
  },
  {
   "cell_type": "code",
   "execution_count": 34,
   "id": "b8b4d686-3234-4b05-a130-5d2556f6aeab",
   "metadata": {},
   "outputs": [],
   "source": [
    "products = [\n",
    "    {'name': 'Laptop', 'price': 70000, 'category': 'Electronics'},\n",
    "    {'name': 'Shirt', 'price': 1500, 'category': 'Clothing'},\n",
    "    {'name': 'Smartphone', 'price': 50000, 'category': 'Electronics'},\n",
    "    {'name': 'Pants', 'price': 2000, 'category': 'Clothing'},\n",
    "    {'name': 'Book', 'price': 500, 'category': 'Stationery'}\n",
    "]\n",
    "\n",
    "# Create a new dictionary that groups product names by category.\n",
    "# {\n",
    "#   'Electronics': ['Laptop', 'Smartphone'],\n",
    "#   'Clothing': ['Shirt', 'Pants'],\n",
    "#   'Stationery': ['Book']\n",
    "# }"
   ]
  },
  {
   "cell_type": "code",
   "execution_count": 38,
   "id": "e92b900a-660b-4f7e-9ba1-1893a8b2478d",
   "metadata": {},
   "outputs": [],
   "source": [
    "# Upload the solution by 6pm IST?"
   ]
  },
  {
   "cell_type": "code",
   "execution_count": null,
   "id": "c95d02a4-d603-41f7-bb95-d63e14c041b5",
   "metadata": {},
   "outputs": [],
   "source": []
  }
 ],
 "metadata": {
  "kernelspec": {
   "display_name": "Python [conda env:anaconda3-genai]",
   "language": "python",
   "name": "conda-env-anaconda3-genai-py"
  },
  "language_info": {
   "codemirror_mode": {
    "name": "ipython",
    "version": 3
   },
   "file_extension": ".py",
   "mimetype": "text/x-python",
   "name": "python",
   "nbconvert_exporter": "python",
   "pygments_lexer": "ipython3",
   "version": "3.11.5"
  }
 },
 "nbformat": 4,
 "nbformat_minor": 5
}
