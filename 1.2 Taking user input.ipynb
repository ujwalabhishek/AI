{
 "cells": [
  {
   "cell_type": "markdown",
   "id": "415d9ca8-249d-4c25-a9ea-7658208a2863",
   "metadata": {},
   "source": [
    "# Take Multiple Input in Python\n",
    "\n",
    "We are taking multiple input from the user in a single line, splitting the values entered by the user into separate variables for each value using the [split()](https://www.geeksforgeeks.org/python-string-split/) method. Then, it prints the values with corresponding labels, either two or three, based on the number of inputs provided by the user."
   ]
  },
  {
   "cell_type": "code",
   "execution_count": 3,
   "id": "4e9f2648-1dc5-473a-aca7-b1749aa16be6",
   "metadata": {},
   "outputs": [
    {
     "name": "stdin",
     "output_type": "stream",
     "text": [
      "Enter two values: 50 60\n"
     ]
    },
    {
     "name": "stdout",
     "output_type": "stream",
     "text": [
      "No of boys: 50\n",
      "No of girls: 60\n"
     ]
    }
   ],
   "source": [
    "#taking two values\n",
    "x,y = input(\"Enter two values:\").split()\n",
    "print(\"No of boys:\",x)\n",
    "print(\"No of girls:\",y)"
   ]
  },
  {
   "cell_type": "code",
   "execution_count": 7,
   "id": "9bad8fdb-6b67-482c-ad7a-acf9e056ea5c",
   "metadata": {},
   "outputs": [
    {
     "name": "stdout",
     "output_type": "stream",
     "text": [
      "['geeks', 'for', 'geeks']\n"
     ]
    }
   ],
   "source": [
    "# split function \n",
    " # Syntax: str.split(separator, maxsplit)\n",
    " # separator: This is a delimiter. The string splits at this specified separator. If is not provided then any white space is a separator.\n",
    " # maxsplit: It is a number, that tells us to split the string into a maximum of the provided number of times. If it is not provided then the default is -1 which means there is no limit.\n",
    "\n",
    "word = 'geeks:for:geeks'\n",
    "\n",
    "# Splitting at ':'\n",
    "print(word.split(':'))"
   ]
  },
  {
   "cell_type": "code",
   "execution_count": 9,
   "id": "3a1d4e15-1477-47c9-ad74-aa0e78feb0ad",
   "metadata": {},
   "outputs": [
    {
     "name": "stdout",
     "output_type": "stream",
     "text": [
      "['geeks', 'for:geeks']\n"
     ]
    }
   ],
   "source": [
    "# Splitting at delimiter ':' and maxsplit = 1 \n",
    "print(word.split(':', 1))"
   ]
  },
  {
   "cell_type": "code",
   "execution_count": 15,
   "id": "e6e0a0b1-dfa7-4278-82d1-3579e0666b57",
   "metadata": {},
   "outputs": [
    {
     "name": "stdin",
     "output_type": "stream",
     "text": [
      "Enter number of girls: 30\n",
      "Enter number of boys: 40\n"
     ]
    },
    {
     "name": "stdout",
     "output_type": "stream",
     "text": [
      "number of girls is 30 and number of boys is 40 hence total number of students = 3040\n"
     ]
    }
   ],
   "source": [
    "x,y = input(\"Enter number of girls:\"), input(\"Enter number of boys:\")\n",
    "print(f\"number of girls is {x} and number of boys is {y} hence total number of students = {x+y}\") "
   ]
  },
  {
   "cell_type": "code",
   "execution_count": 16,
   "id": "31fdd1b4-d2c2-4dda-a45b-b13fa1f4d304",
   "metadata": {},
   "outputs": [
    {
     "name": "stdin",
     "output_type": "stream",
     "text": [
      "Enter number of girls: 30\n",
      "Enter number of boys: 40\n"
     ]
    },
    {
     "name": "stdout",
     "output_type": "stream",
     "text": [
      "number of girls is 30 and number of boys is 40 hence total number of students = 70\n"
     ]
    }
   ],
   "source": [
    "x,y = int(input(\"Enter number of girls:\")), int(input(\"Enter number of boys:\"))\n",
    "print(f\"number of girls is {x} and number of boys is {y} hence total number of students = {x+y}\")"
   ]
  },
  {
   "cell_type": "code",
   "execution_count": 25,
   "id": "c44e362c-ecde-4487-9374-58ae51fcac53",
   "metadata": {},
   "outputs": [
    {
     "name": "stdin",
     "output_type": "stream",
     "text": [
      "Enter number of girls: 30\n",
      "Enter number of boys: 40\n"
     ]
    },
    {
     "name": "stdout",
     "output_type": "stream",
     "text": [
      "number of girls is 30 and number of boys is 40 hence total number of students = 70\n"
     ]
    }
   ],
   "source": [
    "# or typecasting can also be done like \n",
    "# Type annotation x: int is optional and only helps with readability.\n",
    "x: int = int(input(\"Enter number of girls:\"))\n",
    "y: int = int(input(\"Enter number of boys:\"))\n",
    "print(f\"number of girls is {x} and number of boys is {y} hence total number of students = {x+y}\")"
   ]
  },
  {
   "cell_type": "markdown",
   "id": "6951b460-778e-469e-84c9-2f63beb4da4e",
   "metadata": {},
   "source": [
    "# correct way to declare variables in python \n",
    "```\n",
    "x, y = 10, 20\n",
    "x: int = 10\n",
    "x = int(10)\n",
    "```\n",
    "\n",
    "# following will not work\n",
    "```\n",
    "int x, int y = 10, 20\n",
    "x: int, y: int = 10, 20\n",
    "```\n"
   ]
  },
  {
   "cell_type": "markdown",
   "id": "dd794691-4ae9-40ac-ac26-596e7f2b10af",
   "metadata": {},
   "source": [
    "# Take Conditional Input from user in Python\n",
    "the program uses conditional statements to check the age range and prints a message based on whether the user is a minor, an adult, or a senior citizen."
   ]
  },
  {
   "cell_type": "code",
   "execution_count": 33,
   "id": "f78abca1-9c4c-4947-ac94-e66d8c268978",
   "metadata": {},
   "outputs": [
    {
     "name": "stdin",
     "output_type": "stream",
     "text": [
      "Enter the age : 32\n"
     ]
    },
    {
     "name": "stdout",
     "output_type": "stream",
     "text": [
      "You are an adult\n"
     ]
    }
   ],
   "source": [
    "#prompting the user to enter the age \n",
    "age = int(input(\"Enter the age :\"))\n",
    "\n",
    "#Checking age based on input \n",
    "if age < 0:\n",
    "    print(\"Please enter your valid age\")\n",
    "elif age < 18:\n",
    "    print(\"You are still a minor\")\n",
    "elif age >=18 and age <65:\n",
    "    print(\"You are an adult\")\n",
    "else:\n",
    "    print(\"You are senior citizen!\")\n",
    "    "
   ]
  },
  {
   "cell_type": "code",
   "execution_count": null,
   "id": "dc78169f-2d88-4019-958b-574e7e11b99a",
   "metadata": {},
   "outputs": [],
   "source": []
  }
 ],
 "metadata": {
  "kernelspec": {
   "display_name": "Python 3 (ipykernel)",
   "language": "python",
   "name": "python3"
  },
  "language_info": {
   "codemirror_mode": {
    "name": "ipython",
    "version": 3
   },
   "file_extension": ".py",
   "mimetype": "text/x-python",
   "name": "python",
   "nbconvert_exporter": "python",
   "pygments_lexer": "ipython3",
   "version": "3.12.1"
  }
 },
 "nbformat": 4,
 "nbformat_minor": 5
}
