{
 "cells": [
  {
   "cell_type": "markdown",
   "id": "ae3f6b2c-045d-473b-83f4-8eb24b2667f5",
   "metadata": {},
   "source": [
    "# Boolean\n",
    "## Casting boolean"
   ]
  },
  {
   "cell_type": "code",
   "execution_count": 4,
   "id": "676d0fe4-5a74-41fe-8743-66ce44960e0f",
   "metadata": {},
   "outputs": [
    {
     "data": {
      "text/plain": [
       "True"
      ]
     },
     "execution_count": 4,
     "metadata": {},
     "output_type": "execute_result"
    }
   ],
   "source": [
    "bool(1)"
   ]
  },
  {
   "cell_type": "code",
   "execution_count": 5,
   "id": "de6cd3bf-48b1-46f3-ad71-09bee138bbdf",
   "metadata": {},
   "outputs": [
    {
     "data": {
      "text/plain": [
       "False"
      ]
     },
     "execution_count": 5,
     "metadata": {},
     "output_type": "execute_result"
    }
   ],
   "source": [
    "bool(0)"
   ]
  },
  {
   "cell_type": "code",
   "execution_count": 8,
   "id": "a90aa18f-fb63-40c9-bb7d-9bd8dfcbfe4e",
   "metadata": {},
   "outputs": [
    {
     "data": {
      "text/plain": [
       "True"
      ]
     },
     "execution_count": 8,
     "metadata": {},
     "output_type": "execute_result"
    }
   ],
   "source": [
    "bool(-1)"
   ]
  },
  {
   "cell_type": "code",
   "execution_count": 7,
   "id": "45fa24cd-9ae4-4400-aa0c-9202be59e8db",
   "metadata": {},
   "outputs": [
    {
     "data": {
      "text/plain": [
       "True"
      ]
     },
     "execution_count": 7,
     "metadata": {},
     "output_type": "execute_result"
    }
   ],
   "source": [
    "bool(1j)"
   ]
  },
  {
   "cell_type": "code",
   "execution_count": 9,
   "id": "03b22fce-2898-43df-ac43-d3c268c3098b",
   "metadata": {},
   "outputs": [
    {
     "data": {
      "text/plain": [
       "True"
      ]
     },
     "execution_count": 9,
     "metadata": {},
     "output_type": "execute_result"
    }
   ],
   "source": [
    "bool(\"true\")"
   ]
  },
  {
   "cell_type": "code",
   "execution_count": 10,
   "id": "3155cdf9-4fd7-454d-b212-fb2c44909827",
   "metadata": {},
   "outputs": [
    {
     "data": {
      "text/plain": [
       "True"
      ]
     },
     "execution_count": 10,
     "metadata": {},
     "output_type": "execute_result"
    }
   ],
   "source": [
    "bool('FALSE')"
   ]
  },
  {
   "cell_type": "code",
   "execution_count": 11,
   "id": "5c731634-ec39-4897-b3c2-15af4f43ea56",
   "metadata": {},
   "outputs": [
    {
     "data": {
      "text/plain": [
       "False"
      ]
     },
     "execution_count": 11,
     "metadata": {},
     "output_type": "execute_result"
    }
   ],
   "source": [
    "bool('')"
   ]
  },
  {
   "cell_type": "code",
   "execution_count": 12,
   "id": "87653b95-64d4-4851-8664-8144c6afbf93",
   "metadata": {},
   "outputs": [
    {
     "data": {
      "text/plain": [
       "True"
      ]
     },
     "execution_count": 12,
     "metadata": {},
     "output_type": "execute_result"
    }
   ],
   "source": [
    "bool({1,2})"
   ]
  },
  {
   "cell_type": "code",
   "execution_count": 13,
   "id": "049d85ee-715c-464b-9a19-82c2207d5db7",
   "metadata": {},
   "outputs": [
    {
     "data": {
      "text/plain": [
       "True"
      ]
     },
     "execution_count": 13,
     "metadata": {},
     "output_type": "execute_result"
    }
   ],
   "source": [
    "bool([1,2])"
   ]
  },
  {
   "cell_type": "code",
   "execution_count": 14,
   "id": "ada1a0f8-9dab-423f-86d0-6282c47cb03c",
   "metadata": {},
   "outputs": [
    {
     "data": {
      "text/plain": [
       "False"
      ]
     },
     "execution_count": 14,
     "metadata": {},
     "output_type": "execute_result"
    }
   ],
   "source": [
    "bool(None)"
   ]
  },
  {
   "cell_type": "code",
   "execution_count": 18,
   "id": "27abed1c-159c-42b1-a87a-43ab0c69be98",
   "metadata": {},
   "outputs": [],
   "source": [
    "a,b = 5,5\n",
    "if a-b: # results in 0 which is false so no print\n",
    "    print(\"a and b are not equal\")"
   ]
  },
  {
   "cell_type": "code",
   "execution_count": 19,
   "id": "8393907c-5849-4fc4-89f5-9e255239682d",
   "metadata": {},
   "outputs": [
    {
     "data": {
      "text/plain": [
       "True"
      ]
     },
     "execution_count": 19,
     "metadata": {},
     "output_type": "execute_result"
    }
   ],
   "source": [
    "a == b #true since both are integers"
   ]
  },
  {
   "cell_type": "code",
   "execution_count": 21,
   "id": "ded6e852-759c-48f0-aa3c-07f7cd3e74a7",
   "metadata": {},
   "outputs": [
    {
     "data": {
      "text/plain": [
       "False"
      ]
     },
     "execution_count": 21,
     "metadata": {},
     "output_type": "execute_result"
    }
   ],
   "source": [
    "a,b = 5,'5'\n",
    "a == b #falce since both are not integers"
   ]
  },
  {
   "cell_type": "code",
   "execution_count": 23,
   "id": "1a8e1f8a-bf29-4b48-998d-871f64e68cff",
   "metadata": {},
   "outputs": [
    {
     "name": "stdout",
     "output_type": "stream",
     "text": [
      "This is true\n"
     ]
    }
   ],
   "source": [
    "if not False or True:\n",
    "    print(\"This is true\")\n",
    "else:\n",
    "    print(\"This is false\")"
   ]
  },
  {
   "cell_type": "code",
   "execution_count": 27,
   "id": "f31e7548-7bf8-455b-b788-685951cc1a26",
   "metadata": {},
   "outputs": [
    {
     "name": "stdout",
     "output_type": "stream",
     "text": [
      "Stay inside\n"
     ]
    }
   ],
   "source": [
    "weatherIsNice = True\n",
    "haveUmbrella = False\n",
    "\n",
    "if (not haveUmbrella or weatherIsNice):\n",
    "    print(\"Stay inside\")\n",
    "else:\n",
    "    print(\"Go for walk\")"
   ]
  },
  {
   "cell_type": "code",
   "execution_count": 28,
   "id": "2c494eef-8625-45ff-9473-17823aab3336",
   "metadata": {},
   "outputs": [
    {
     "name": "stdout",
     "output_type": "stream",
     "text": [
      "Go for walk !!\n"
     ]
    }
   ],
   "source": [
    "if (haveUmbrella or weatherIsNice):\n",
    "    print(\"Go for walk !!\")\n",
    "else:\n",
    "    print(\"Stay inside\")"
   ]
  },
  {
   "cell_type": "code",
   "execution_count": null,
   "id": "28730c22-b62b-4c16-9e32-ae7a6fe13c6a",
   "metadata": {},
   "outputs": [],
   "source": []
  }
 ],
 "metadata": {
  "kernelspec": {
   "display_name": "Python 3 (ipykernel)",
   "language": "python",
   "name": "python3"
  },
  "language_info": {
   "codemirror_mode": {
    "name": "ipython",
    "version": 3
   },
   "file_extension": ".py",
   "mimetype": "text/x-python",
   "name": "python",
   "nbconvert_exporter": "python",
   "pygments_lexer": "ipython3",
   "version": "3.13.1"
  }
 },
 "nbformat": 4,
 "nbformat_minor": 5
}
