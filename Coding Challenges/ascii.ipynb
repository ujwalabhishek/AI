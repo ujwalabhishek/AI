{
 "cells": [
  {
   "cell_type": "markdown",
   "id": "e194d3fe-4ec0-4c17-b241-2ee057185dec",
   "metadata": {},
   "source": [
    "Instruction\n",
    "\n",
    "Write a program to accept a character and display its next and previous character. \n",
    "\n",
    "\n",
    "\n",
    "Hint: Make use of Ascii values here.\n",
    "\n",
    "\n",
    "\n",
    "----------------------------------------------------------------------\n",
    "\n",
    "Input:\n",
    "\n",
    "A character\n",
    "\n",
    "\n",
    "\n",
    "Output:\n",
    "\n",
    "Previous character and the next character of the given character\n",
    "\n",
    "\n",
    "\n",
    "----------------------------------------------------------------------\n",
    "\n",
    "Sample input:\n",
    "\n",
    "D\n",
    "\n",
    "\n",
    "\n",
    "Sample output:\n",
    "\n",
    "C\n",
    "\n",
    "E\n",
    "\n",
    "\n",
    "\n",
    "----------------------------------------------------------------------\n",
    "\n",
    "Sample input:\n",
    "\n",
    "8\n",
    "\n",
    "\n",
    "\n",
    "Sample output:\n",
    "\n",
    "7\n",
    "\n",
    "9\n",
    "\n",
    "\n",
    "\n",
    "----------------------------------------------------------------------\n",
    "\n",
    "Sample input:\n",
    "\n",
    "@\n",
    "\n",
    "\n",
    "\n",
    "Sample Output: \n",
    "\n",
    "?\n",
    "\n",
    "A"
   ]
  },
  {
   "cell_type": "code",
   "execution_count": 3,
   "id": "a3246f28-f3f9-4212-b397-752ca06896a8",
   "metadata": {},
   "outputs": [
    {
     "name": "stdin",
     "output_type": "stream",
     "text": [
      " A\n"
     ]
    },
    {
     "name": "stdout",
     "output_type": "stream",
     "text": [
      "@\n",
      "B\n"
     ]
    }
   ],
   "source": [
    "#Take input\n",
    "ch=input()\n",
    "\n",
    "#get the Ascii value of the previous character using ord(ch)-1 and print the character equivalent\n",
    "print(chr(ord(ch)-1))\n",
    "\n",
    "#get the Ascii value of the next character using ord(ch)+1 and print the character equivalent\n",
    "print(chr(ord(ch)+1))"
   ]
  },
  {
   "cell_type": "code",
   "execution_count": null,
   "id": "c2dd8979-dc8c-45e0-8f31-33d3cddd4931",
   "metadata": {},
   "outputs": [],
   "source": []
  }
 ],
 "metadata": {
  "kernelspec": {
   "display_name": "Python 3 (ipykernel)",
   "language": "python",
   "name": "python3"
  },
  "language_info": {
   "codemirror_mode": {
    "name": "ipython",
    "version": 3
   },
   "file_extension": ".py",
   "mimetype": "text/x-python",
   "name": "python",
   "nbconvert_exporter": "python",
   "pygments_lexer": "ipython3",
   "version": "3.13.1"
  }
 },
 "nbformat": 4,
 "nbformat_minor": 5
}
