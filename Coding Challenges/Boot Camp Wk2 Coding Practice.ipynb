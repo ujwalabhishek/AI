{
 "cells": [
  {
   "cell_type": "markdown",
   "id": "f6dc99a9-4785-462a-af0d-3c0e86b93697",
   "metadata": {},
   "source": [
    "# Boot Camp Week 2 : Coding Practice"
   ]
  },
  {
   "cell_type": "markdown",
   "id": "2bb67b8e-5c50-43cd-84b0-35d0294c5147",
   "metadata": {},
   "source": [
    "### Quiz 1:\n",
    "\n",
    "* Set a variable `'hunger_level'` to a value between `0` and `10`. \n",
    "* Use If-Else Logic: \n",
    "* If `'hunger_level'` is `8` or more, print \"giant pizza!\"\n",
    "* If `'hunger_level'` is `5` or more but less than `8`, print \"burger or pasta.\"\n",
    "* If `'hunger_level'` is `2` or more but less than `5`, print \"A sandwich will do for now.\"\n",
    "*  If `'hunger_level'` is less than `2`, print \"I'm not hungry at all... Maybe just a snack."
   ]
  },
  {
   "cell_type": "code",
   "execution_count": 2,
   "id": "5c9f1932-75b1-4182-9cd9-b3dc1400339a",
   "metadata": {},
   "outputs": [
    {
     "name": "stdin",
     "output_type": "stream",
     "text": [
      "Enter hunger level: 2\n"
     ]
    },
    {
     "name": "stdout",
     "output_type": "stream",
     "text": [
      "A sandwich will do for now!\n"
     ]
    }
   ],
   "source": [
    "hunger_level = int(input(\"Enter hunger level:\"))\n",
    "if hunger_level == 8:\n",
    "    print('giant pizza!')\n",
    "elif hunger_level >=5 and hunger_level < 8:\n",
    "    print('burger or pasta!')\n",
    "elif hunger_level >=2 and hunger_level < 5:\n",
    "    print('A sandwich will do for now!')\n",
    "else:\n",
    "    print('I am not hungry at all')"
   ]
  },
  {
   "cell_type": "markdown",
   "id": "33530fb1-4793-4a6a-b01c-1d0c991ed97f",
   "metadata": {},
   "source": [
    "### Quiz 2 \n",
    "* Set a variable `motivation_level` (`0` to `10`, where `0` is no motivation and `10` is super motivated). \n",
    "* Use If-Else Logic: # If motivation is `8+`, print about intense exercise (e.g., 100 push-ups). \n",
    "* If motivation is `5-7`, suggest a light workout (e.g., jog or home workout). \n",
    "* If motivation is `2-4`, suggest stretches and mention the couch. # If motivation is less than `2`, suggest snacks."
   ]
  },
  {
   "cell_type": "code",
   "execution_count": 5,
   "id": "c9be501d-ce68-4e21-9437-1b7ae0cbdaf8",
   "metadata": {},
   "outputs": [
    {
     "name": "stdin",
     "output_type": "stream",
     "text": [
      "Enter hunger level: 2\n"
     ]
    },
    {
     "name": "stdout",
     "output_type": "stream",
     "text": [
      "You should do stretches and couch!\n"
     ]
    }
   ],
   "source": [
    "motivation_level = int(input(\"Enter hunger level:\"))\n",
    "if motivation_level > 8:\n",
    "    print('you should be doing intense pushups!')\n",
    "elif motivation_level >=5 and hunger_level < 8:\n",
    "    print('Do light pushups!')\n",
    "elif motivation_level >=2 and hunger_level < 5:\n",
    "    print('You should do stretches and couch!')\n",
    "else:\n",
    "    print('Eat Snacks')"
   ]
  },
  {
   "cell_type": "markdown",
   "id": "c36e773b-2243-406a-94bf-cc682494b3bf",
   "metadata": {},
   "source": [
    "### Quiz 3 \n",
    "\n",
    "* Set two variables: `age` (for the applicant's age) and `credit_score` (for the applicant's credit score). \n",
    "* Use Nested If-Else Logic: \n",
    "* First, check if the `age` is `18` or older. \n",
    "* If not, print a message saying they must be at least `18`. \n",
    "* If `age` is `18` or more, check if the `credit_score` is `700` or higher. \n",
    "* If yes, print \"Loan approved!\". If the credit score is lower, print \"Credit score too low for loan approval.\""
   ]
  },
  {
   "cell_type": "code",
   "execution_count": 5,
   "id": "30797334-7ce5-454e-8a06-4e39d0c2b9c6",
   "metadata": {},
   "outputs": [
    {
     "name": "stdin",
     "output_type": "stream",
     "text": [
      "Enter your age : 80\n",
      "enter your credit score: 750\n"
     ]
    },
    {
     "name": "stdout",
     "output_type": "stream",
     "text": [
      "Yes your loan is approved \n"
     ]
    }
   ],
   "source": [
    "age = int(input(\"Enter your age :\"))\n",
    "if age < 18:\n",
    "    print(\"Age must be greater than 18 years\")\n",
    "else:\n",
    "    creditscore = int(input(\"enter your credit score:\"))\n",
    "    if creditscore > 700:\n",
    "        print('Yes your loan is approved ')\n",
    "    else:\n",
    "        print(\"Credit score is lower\")\n",
    "\n",
    "\n",
    "\n",
    "\n",
    "    "
   ]
  },
  {
   "cell_type": "markdown",
   "id": "b2f613b5-34c4-4350-8b68-c09c5f7ccaf9",
   "metadata": {},
   "source": [
    "### Quiz 4\n",
    "* Set `correct_password` to the right password and `user_input` to an empty string. \n",
    "* Use a While Loop: # Keep asking for the password until `user_input` matches `correct_password`. \n",
    "* If incorrect, print \"Incorrect password. Try again.\" \n",
    "* When correct, print \"Access granted.\""
   ]
  },
  {
   "cell_type": "code",
   "execution_count": null,
   "id": "e78ac3ab-c997-4917-a5c2-145cc3e1b459",
   "metadata": {},
   "outputs": [
    {
     "name": "stdin",
     "output_type": "stream",
     "text": [
      "Enter password lir\n"
     ]
    },
    {
     "name": "stdout",
     "output_type": "stream",
     "text": [
      "Wrong pwd please enter correct password\n"
     ]
    }
   ],
   "source": [
    "correct_password = \"ujwal&198\"\n",
    "user_input =\"\"\n",
    "\n",
    "while user_input != correct_password:\n",
    "    user_input = input(\"Enter password\")\n",
    "    print(\"Wrong pwd please enter correct password\")\n",
    "else:\n",
    "    print(\"Login successful\")\n",
    "    "
   ]
  },
  {
   "cell_type": "markdown",
   "id": "7a1d4809-ab98-4241-9852-3954aaba3b88",
   "metadata": {},
   "source": [
    "### Quiz 5 \n",
    "* Set `secret_number` to the number you want to be guessed, and guess to None. \n",
    "* Use a While Loop: \n",
    "* Keep asking for the guess until guess matches `secret_number`. \n",
    "* If the guess is too low, print \"Too low! Try again.\" \n",
    "* If the guess is too high, print \"Too high! Try again.\" \n",
    "* When the guess is correct, print \"Congratulations!\" secret_number = 7 guess = None"
   ]
  },
  {
   "attachments": {},
   "cell_type": "markdown",
   "id": "0ba1e2bd-ad04-442b-ae29-bd8973aefc64",
   "metadata": {},
   "source": [
    "\n",
    "### Quiz 6 \n",
    "* Create a function `ticket_price(age, time_of_day)` that determines \n",
    "* the ticket type based on age and time of day. \n",
    "* Use If-Else Statements: \n",
    "* * If age is under 12, return \"Child ticket\". \n",
    "* * If age is 12 or older but under 60, check time_of_day. \n",
    "* * If time_of_day is before 18, return \"Adult ticket (Day)\". \n",
    "* * Otherwise, return \"Adult ticket (Evening)\". \n",
    "* * If age is 60 or older, return \"Senior ticket\". \n",
    "* 1) Write the code and make sure it works using if elif else condition! \n",
    "* 2) first is done, convert it to a function"
   ]
  },
  {
   "cell_type": "code",
   "execution_count": null,
   "id": "9255c2e2-be41-488c-8b5d-2cbcba2b40cf",
   "metadata": {},
   "outputs": [],
   "source": [
    "def ticket_price(age, time_of_day):\n",
    "    type = \"\"\n",
    "    if age < 12:\n",
    "        type = \"child ticket\"\n",
    "    elif age >=12 and age<= 60 and time_of_day:\n",
    "        type = \"\""
   ]
  },
  {
   "cell_type": "markdown",
   "id": "ffe1f820-0945-4b39-bf40-99e1bf3ad2a0",
   "metadata": {},
   "source": [
    "### Quiz 8 \n",
    "\n",
    "* Create a function `check_job_eligibility(experience, education)` \n",
    "* that checks if a person is eligible for a specific job role based on # their work experience and education. \n",
    "* Use If-Else Statements: # * If experience is 5 years or more: \n",
    "* If education is \"Bachelor\", return \"Eligible for Junior Management role\".` \n",
    "* If education is \"Master\", return \"Eligible for Senior Management role\". \n",
    "* Otherwise, return \"Eligible for Entry-level role\". \n",
    "* If experience is less than 5 years, return \"Ineligible for any management role\"."
   ]
  },
  {
   "cell_type": "markdown",
   "id": "52456e14-1b4e-4c87-bb10-32854c7c37e1",
   "metadata": {},
   "source": [
    "### Vowvel\n",
    "\n",
    "*   Write a function count_vowels(s) that  takes a string s and  returns the number of vowels (a, e, i, o, u) in the string!"
   ]
  },
  {
   "cell_type": "code",
   "execution_count": 3,
   "id": "1e1d1056-1c46-4583-999b-aab4bae009d6",
   "metadata": {},
   "outputs": [
    {
     "name": "stdout",
     "output_type": "stream",
     "text": [
      "\n",
      "p\n",
      "pg\n",
      "pgr\n",
      "pgr\n",
      "pgrd\n"
     ]
    }
   ],
   "source": [
    "s = \"upgrad\"\n",
    "new = \"\"\n",
    "vowvels = \"aeiouAEIOU\"\n",
    "for i in s:\n",
    "    if i not in vowvels:\n",
    "        new = new +  i\n",
    "    print(new)\n"
   ]
  },
  {
   "cell_type": "code",
   "execution_count": null,
   "id": "7f62c340-0d5f-4801-a393-ebda138a6eab",
   "metadata": {},
   "outputs": [],
   "source": []
  }
 ],
 "metadata": {
  "kernelspec": {
   "display_name": "Python 3 (ipykernel)",
   "language": "python",
   "name": "python3"
  },
  "language_info": {
   "codemirror_mode": {
    "name": "ipython",
    "version": 3
   },
   "file_extension": ".py",
   "mimetype": "text/x-python",
   "name": "python",
   "nbconvert_exporter": "python",
   "pygments_lexer": "ipython3",
   "version": "3.12.1"
  }
 },
 "nbformat": 4,
 "nbformat_minor": 5
}
