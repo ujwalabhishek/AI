{
 "cells": [
  {
   "cell_type": "markdown",
   "id": "dc219e7e-8a90-4786-bc6a-4e9bcd86bacd",
   "metadata": {},
   "source": [
    "A class of students attempt an exam in two parts: ‘Aptitude’ and ‘Physics'. The marks of all the students are stored as a list of tuples, and each student’s marks (in Aptitude and Physics) are stored in each tuple. Your task is to write a Python program to sort the list of tuples in decreasing order of the Physics scores of the students.\n",
    "\n",
    "\n",
    "\n",
    "Note - Marks of both the subjects are ranged between 1-100, and no two students have scored the same marks in Physics.\n",
    "\n",
    "\n",
    "\n",
    "---------------------------------------------------------------------------------------------------\n",
    "\n",
    "Input - List of tuples\n",
    "\n",
    "Output - List of tuples\n",
    "\n",
    "\n",
    "\n",
    "---------------------------------------------------------------------------------------------------\n",
    "\n",
    "\n",
    "\n",
    "Sample Input - [(45,77), (88,87), (67,98), (33,31)]\n",
    "\n",
    "\n",
    "\n",
    "In (45,77), which is the first element in the list, 45 and 77 are the scores of a student in aptitude and physics respectively.\n",
    "\n",
    "\n",
    "\n",
    "Sample Output - [ (67,98), (88,87), (45,77),(33,31)]\n",
    "\n",
    "\n",
    "\n",
    "---------------------------------------------------------------------------------------------------\n",
    "\n",
    "\n",
    "\n",
    "Sample Input - [(45,23), (45,88), (45,98), (45,44)]\n",
    "\n",
    "\n",
    "\n",
    "Sample Output - [ (45,98), (45,88), (45,44),(45,23)]\n",
    "\n",
    "\n",
    "\n",
    "---------------------------------------------------------------------------------------------------\n",
    "\n",
    "\n",
    "\n",
    "Sample Input - [(55,77), (34,90), (67,100), (90,0)]\n",
    "\n",
    "\n",
    "\n",
    "Sample Output - [ (67,100), (34,90), (55,77),(90,0)]"
   ]
  },
  {
   "cell_type": "code",
   "execution_count": 1,
   "id": "fdbc9504-aaa9-49e4-b738-44dabb704780",
   "metadata": {},
   "outputs": [],
   "source": [
    "inputstr = [(45,77), (88,87), (67,98), (33,31)]"
   ]
  },
  {
   "cell_type": "code",
   "execution_count": 7,
   "id": "505e872d-3e1f-4036-89e9-2704a32a2a28",
   "metadata": {},
   "outputs": [
    {
     "data": {
      "text/plain": [
       "[(67, 98), (88, 87), (45, 77), (33, 31)]"
      ]
     },
     "execution_count": 7,
     "metadata": {},
     "output_type": "execute_result"
    }
   ],
   "source": [
    "sorted(inputstr, key=lambda x: x[1], reverse=True)"
   ]
  }
 ],
 "metadata": {
  "kernelspec": {
   "display_name": "Python 3 (ipykernel)",
   "language": "python",
   "name": "python3"
  },
  "language_info": {
   "codemirror_mode": {
    "name": "ipython",
    "version": 3
   },
   "file_extension": ".py",
   "mimetype": "text/x-python",
   "name": "python",
   "nbconvert_exporter": "python",
   "pygments_lexer": "ipython3",
   "version": "3.13.1"
  }
 },
 "nbformat": 4,
 "nbformat_minor": 5
}
