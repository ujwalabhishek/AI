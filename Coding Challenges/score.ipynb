{
 "cells": [
  {
   "cell_type": "markdown",
   "id": "ed3bd28f-b412-4cd5-a236-aecb56d1f835",
   "metadata": {},
   "source": [
    "Suppose you want to know the total score of the Indian cricket team in a given match. To do so, your task is to find the sum of all the scores of the Indian team players. The scores are provided as a list, with each element as an individual score of the players. Also, there is a condition that if the number of elements in the list is more than 11, then it is an invalid input and the output should be -1.\n",
    "\n",
    "\n",
    "\n",
    "--------------------------------------------------------------------------------------------\n",
    "\n",
    "\n",
    "\n",
    "Input - List\n",
    "\n",
    "Output - An integer\n",
    "\n",
    "\n",
    "\n",
    "--------------------------------------------------------------------------------------------\n",
    "\n",
    "\n",
    "\n",
    "Sample Input : [11, 13, 101, 14, 33, 141]\n",
    "\n",
    "Sample Output : 313\n",
    "\n",
    "\n",
    "\n",
    "    ---------------------------------------------------------------------------------------------\n",
    "\n",
    "\n",
    "\n",
    "Sample Input : [11, 13, 101, 14, 33, 141, 12, 144, 54, 67, 8, 11]\n",
    "\n",
    "Sample Output : -1\n",
    "\n",
    "    \n",
    "\n",
    "---------------------------------------------------------------------------------------------\n",
    "\n",
    "\n",
    "\n",
    "Sample Input : [100, 80, 30, 10, 0, 1, 2, 0]\n",
    "\n",
    "Sample Output : 223\n",
    "\n",
    "\n",
    "\n",
    "---------------------------------------------------------------------------------------------"
   ]
  },
  {
   "cell_type": "code",
   "execution_count": 3,
   "id": "8eee87df-2d5e-409c-a966-36d50cb3eee8",
   "metadata": {},
   "outputs": [
    {
     "name": "stdout",
     "output_type": "stream",
     "text": [
      "313\n"
     ]
    }
   ],
   "source": [
    "#Take input \n",
    "score = [11, 13, 101, 14, 33, 141]\n",
    "\n",
    "if len(score) > 11:\n",
    "    print(-1)\n",
    "else:\n",
    "    print(sum(score))\n",
    "\n",
    "\n",
    "#Write your code here"
   ]
  },
  {
   "cell_type": "code",
   "execution_count": null,
   "id": "44b6c021-320e-4b56-b82d-19f755ddb3a3",
   "metadata": {},
   "outputs": [],
   "source": []
  }
 ],
 "metadata": {
  "kernelspec": {
   "display_name": "Python 3 (ipykernel)",
   "language": "python",
   "name": "python3"
  },
  "language_info": {
   "codemirror_mode": {
    "name": "ipython",
    "version": 3
   },
   "file_extension": ".py",
   "mimetype": "text/x-python",
   "name": "python",
   "nbconvert_exporter": "python",
   "pygments_lexer": "ipython3",
   "version": "3.13.1"
  }
 },
 "nbformat": 4,
 "nbformat_minor": 5
}
