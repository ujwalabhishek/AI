{
 "cells": [
  {
   "cell_type": "markdown",
   "id": "9bf5e318-98c8-42f2-9021-45c5c2902166",
   "metadata": {},
   "source": [
    "<div data-test=\"QuestionInstructionsContent\" class=\"css-1gx99p8 eua3guj4\"><div class=\"css-13rgiwp e2s64ho0\"><h3><strong>Encoding ASCII art</strong></h3>\n",
    "<div><span></span>\n",
    "<p>A string like 'AAAAABBBBAAA' can be efficiently represented as \"5 a's followed by 4 b's followed by 3 a's.\" This is called <a rel=\"noopener noreferrer\" href=\"https://en.wikipedia.org/wiki/Run-length_encoding\" target=\"_blank\"><em>run-length encoding</em></a>.&nbsp;</p>\n",
    "<p>We will use this concept to efficiently compress a string containing an <a rel=\"noopener noreferrer\" href=\"https://en.wikipedia.org/wiki/ASCII_art\" target=\"_blank\">ASCII Art</a> smiley face.</p>\n",
    "</div>\n",
    "<div><strong>Your task</strong></div>\n",
    "<div>Write a function <code>encodeString</code> that will encode a string like 'AAAAABBBBAAA' and return a list of tuples: [('A', 5), ('B', 4), ('A', 3)], meaning that the string has \"5 a's, followed by 4 b's, followed by 3 a's.\"</div>\n",
    "<div>&nbsp;</div>\n",
    "<div>Write a corresponding function <code>decodeString</code> that will take in a list of tuples and print the original string.</div>\n",
    "<h3><strong>Constraints</strong></h3>\n",
    "<ul>\n",
    "<li>No need to check inputs; all test cases will be strings.&nbsp;</li>\n",
    "</ul>\n",
    "<h3><strong>encodeString example 1</strong></h3>\n",
    "<div>Input: <code>AAAAABBBBAAA</code></div>\n",
    "<div>Result: <code>[('A', 5), ('B', 4), ('A', 3)]</code></div>\n",
    "<h3><strong>encodeString example 2</strong></h3>\n",
    "<div>\n",
    "<div>Input: <code>Bookkeeping</code></div>\n",
    "<div>Result: <code>[('B', 1), ('o', 2), ('k', 2), ('e', 2), ('p', 1), ('i', 1), ('n', 1), ('g', 1)]</code></div>\n",
    "<h3><strong>decodeString example 3</strong></h3>\n",
    "<div>\n",
    "<div>\n",
    "<div>Input: <code>[('W', 5), ('1', 2), ('G', 3)]</code></div>\n",
    "<div>Result: <code>WWWWW11GGG</code></div>\n",
    "</div>\n",
    "</div>\n",
    "</div>\n",
    "<h3>Want a hint?</h3>\n",
    "<div>Check out the<a rel=\"noopener noreferrer\" href=\"https://github.com/LinkedInLearning/python-essential-training-4314028-24q4/blob/main/exercise_files/04_06_Challenge_Hint.ipynb\" target=\"_blank\"> Jupyter Notebook hints file</a> for this challenge.</div>\n",
    "<div>&nbsp;</div>\n",
    "<div>&nbsp;</div></div></div>"
   ]
  },
  {
   "cell_type": "code",
   "execution_count": 70,
   "id": "018f8e67-abc4-4a6c-8e05-bc41773fd1af",
   "metadata": {},
   "outputs": [
    {
     "data": {
      "text/plain": [
       "[('A', 5), ('B', 4), ('A', 3)]"
      ]
     },
     "execution_count": 70,
     "metadata": {},
     "output_type": "execute_result"
    }
   ],
   "source": [
    "# Python code​​​​​​‌‌​​‌‌​​​​​‌‌‌‌‌​‌​‌​​​‌​ below\n",
    "\n",
    "def encodeString(stringVal):\n",
    "    prevChar =stringVal[0]\n",
    "    mylist = []\n",
    "    count = 0\n",
    "    for key, val in enumerate(stringVal):\n",
    "        count += 1 \n",
    "        if val != prevChar:\n",
    "            mylist.append((prevChar, count - 1))\n",
    "            count = 1\n",
    "            prevChar = val\n",
    "    mylist.append((prevChar, count))     \n",
    "    return mylist        \n",
    "            \n",
    "    \n",
    "    pass\n",
    "\n",
    "encodeString('AAAAABBBBAAA') # output should be list of tuples: [('A', 5), ('B', 4), ('A', 3)]\n"
   ]
  },
  {
   "cell_type": "code",
   "execution_count": null,
   "id": "c3c32766-62a8-411e-9cdd-4773bfeabbbe",
   "metadata": {},
   "outputs": [],
   "source": [
    "dclist = encodeString('AAAAABBBBAAA')"
   ]
  },
  {
   "cell_type": "code",
   "execution_count": 81,
   "id": "68bdfc55-d3c8-4692-b46a-5a1796302c68",
   "metadata": {},
   "outputs": [
    {
     "name": "stdout",
     "output_type": "stream",
     "text": [
      "A->5\n",
      "B->4\n",
      "A->3\n",
      "AAAAABBBBAAA\n"
     ]
    }
   ],
   "source": [
    "def decodeString(encodedList):\n",
    "    strn =\"\"\n",
    "    for key, val in encodedList:\n",
    "        while val > 0:\n",
    "            strn = strn + key\n",
    "            val -= 1\n",
    "    print(strn)    \n",
    "    pass\n",
    "\n",
    "decodeString(dclist) "
   ]
  },
  {
   "cell_type": "code",
   "execution_count": null,
   "id": "3d39e35f-87e5-4ca8-b43d-94a6f1e26421",
   "metadata": {},
   "outputs": [],
   "source": []
  }
 ],
 "metadata": {
  "kernelspec": {
   "display_name": "Python 3 (ipykernel)",
   "language": "python",
   "name": "python3"
  },
  "language_info": {
   "codemirror_mode": {
    "name": "ipython",
    "version": 3
   },
   "file_extension": ".py",
   "mimetype": "text/x-python",
   "name": "python",
   "nbconvert_exporter": "python",
   "pygments_lexer": "ipython3",
   "version": "3.13.1"
  }
 },
 "nbformat": 4,
 "nbformat_minor": 5
}
