{
 "cells": [
  {
   "cell_type": "markdown",
   "id": "3f15be8e-edb6-4d1e-b585-631aaa26ca7e",
   "metadata": {},
   "source": [
    "Let’s say you have two lists A and B. Identify the elements which are common in the two lists A and B and return them in a sorted manner. For example \n",
    "\n",
    "\n",
    "\n",
    "Sample Input :\n",
    "\n",
    "A = [5, 1, 3, 4, 4, 5, 6, 7]\n",
    "\n",
    "B = [3, 3, 5, 5, 1 ,7 ,2]\n",
    "\n",
    "\n",
    "\n",
    "Sample Output:\n",
    "\n",
    "[1,3,5,7]\n",
    "\n",
    "\n",
    "\n",
    "If you observe the sample output here you can see that \n",
    "\n",
    "Though value 5 is repeated twice in both lists, in the final output it is present only once.\n",
    "The values are returned in a sorted manner with values increasing."
   ]
  },
  {
   "cell_type": "code",
   "execution_count": null,
   "id": "1dd10950-9f68-4bb7-b4e7-0851fb85d14f",
   "metadata": {},
   "outputs": [],
   "source": []
  }
 ],
 "metadata": {
  "kernelspec": {
   "display_name": "Python 3 (ipykernel)",
   "language": "python",
   "name": "python3"
  },
  "language_info": {
   "codemirror_mode": {
    "name": "ipython",
    "version": 3
   },
   "file_extension": ".py",
   "mimetype": "text/x-python",
   "name": "python",
   "nbconvert_exporter": "python",
   "pygments_lexer": "ipython3",
   "version": "3.13.1"
  }
 },
 "nbformat": 4,
 "nbformat_minor": 5
}
