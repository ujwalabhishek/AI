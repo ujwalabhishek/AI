{
 "cells": [
  {
   "cell_type": "markdown",
   "id": "68a83f1d-cfb5-4756-ace5-7dd938c44c6f",
   "metadata": {},
   "source": [
    "Write a program to accept a string value from the user and accept a char value from the user and find out the total occurrence of the char value in the string value. Note that the count is not case-sensitive\n",
    "\n",
    "\n",
    "\n",
    "----------------------------------------------------------------------\n",
    "\n",
    "Input:\n",
    "\n",
    "A string and a character whose occurrence is to be found\n",
    "\n",
    "\n",
    "\n",
    "Output:\n",
    "\n",
    "An integer\n",
    "\n",
    "\n",
    "\n",
    "----------------------------------------------------------------------\n",
    "\n",
    "Sample input:\n",
    "\n",
    "Python Programming\n",
    "\n",
    "P\n",
    "\n",
    "\n",
    "\n",
    "Sample output:\n",
    "\n",
    "2\n",
    "\n",
    "\n",
    "\n",
    "----------------------------------------------------------------------\n",
    "\n",
    "Sample input:\n",
    "\n",
    "This is my first program\n",
    "\n",
    "t\n",
    "\n",
    "\n",
    "\n",
    "Sample output:\n",
    "\n",
    "2"
   ]
  },
  {
   "cell_type": "code",
   "execution_count": 1,
   "id": "41df6cd6-1a87-4da8-98e8-d7247e915923",
   "metadata": {},
   "outputs": [
    {
     "name": "stdin",
     "output_type": "stream",
     "text": [
      " This ios my Home \n",
      " i\n"
     ]
    },
    {
     "name": "stdout",
     "output_type": "stream",
     "text": [
      "2\n"
     ]
    }
   ],
   "source": [
    "# Take input\n",
    "input_string=input().lower()\n",
    "input_char=input().lower()\n",
    "\n",
    "#write your code here\n",
    "#input_string = input_string.lower()\n",
    "cnt = input_string.count(input_char)\n",
    "print(cnt)"
   ]
  },
  {
   "cell_type": "code",
   "execution_count": null,
   "id": "3f90b528-0aaa-4081-b5b7-baa57800b322",
   "metadata": {},
   "outputs": [],
   "source": []
  }
 ],
 "metadata": {
  "kernelspec": {
   "display_name": "Python 3 (ipykernel)",
   "language": "python",
   "name": "python3"
  },
  "language_info": {
   "codemirror_mode": {
    "name": "ipython",
    "version": 3
   },
   "file_extension": ".py",
   "mimetype": "text/x-python",
   "name": "python",
   "nbconvert_exporter": "python",
   "pygments_lexer": "ipython3",
   "version": "3.13.1"
  }
 },
 "nbformat": 4,
 "nbformat_minor": 5
}
