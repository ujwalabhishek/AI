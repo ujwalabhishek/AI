{
 "cells": [
  {
   "cell_type": "markdown",
   "id": "0d14cbc4-9ac6-4391-a98b-ca294a00a2a9",
   "metadata": {},
   "source": [
    "Write a program to accept three sides of a triangle as the input and print whether the triangle is valid or not.\n",
    "\n",
    "(A triangle is valid if the sum of any two sides is greater than the third side.)\n",
    "\n",
    "\n",
    "\n",
    "----------------------------------------------------------------------\n",
    "\n",
    "Input:\n",
    "\n",
    "Three sides of a triangle separated by a space\n",
    "\n",
    "\n",
    "\n",
    "Output:\n",
    "\n",
    "Whether the given triangle is \"Valid\" or \"Invalid\"\n",
    "\n",
    "\n",
    "\n",
    "----------------------------------------------------------------------\n",
    "\n",
    "Sample input:\n",
    "\n",
    "3 4 5\n",
    "\n",
    "\n",
    "\n",
    "Sample output:\n",
    "\n",
    "Valid\n",
    "\n",
    "\n",
    "\n",
    "----------------------------------------------------------------------\n",
    "\n",
    "Sample input:\n",
    "\n",
    "1 4 5\n",
    "\n",
    "\n",
    "\n",
    "Sample output:\n",
    "\n",
    "Invalid"
   ]
  },
  {
   "cell_type": "code",
   "execution_count": 4,
   "id": "e8e205b5-a09b-4823-97a6-91bf930f5bf3",
   "metadata": {},
   "outputs": [
    {
     "name": "stdin",
     "output_type": "stream",
     "text": [
      " 2 3 4\n"
     ]
    },
    {
     "name": "stdout",
     "output_type": "stream",
     "text": [
      "Valid\n"
     ]
    }
   ],
   "source": [
    "#Take inputs\n",
    "a,b,c=input().split()\n",
    "\n",
    "#Convert string to float type\n",
    "a=float(a)\n",
    "b=float(b)\n",
    "c=float(c)\n",
    "\n",
    "#check if the all possible sum of two sides is greater than the third side\n",
    "\n",
    "if b+c>a and a+c>b and a+b>c:\n",
    "    print(\"Valid\")\n",
    "\n",
    "else:\n",
    "    print(\"Invalid\")"
   ]
  },
  {
   "cell_type": "code",
   "execution_count": null,
   "id": "e48038a5-15e2-4bf6-8ea8-9c8439bc5c86",
   "metadata": {},
   "outputs": [],
   "source": []
  }
 ],
 "metadata": {
  "kernelspec": {
   "display_name": "Python 3 (ipykernel)",
   "language": "python",
   "name": "python3"
  },
  "language_info": {
   "codemirror_mode": {
    "name": "ipython",
    "version": 3
   },
   "file_extension": ".py",
   "mimetype": "text/x-python",
   "name": "python",
   "nbconvert_exporter": "python",
   "pygments_lexer": "ipython3",
   "version": "3.13.1"
  }
 },
 "nbformat": 4,
 "nbformat_minor": 5
}
