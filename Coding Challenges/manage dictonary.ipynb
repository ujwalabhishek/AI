{
 "cells": [
  {
   "cell_type": "markdown",
   "id": "e6a5bf94-89b5-4846-8bb7-22e611dc238e",
   "metadata": {},
   "source": [
    "Write a python code to merge two dictionaries into a single dictionary.\n",
    "\n",
    "\n",
    "\n",
    "--------------------------------------------------------------------------------------------------\n",
    "\n",
    "\n",
    "\n",
    "Input: Two dictionaries, one in each line\n",
    "\n",
    "\n",
    "\n",
    "Output: A Dictionary\n",
    "\n",
    "\n",
    "\n",
    "--------------------------------------------------------------------------------------------------\n",
    "\n",
    "\n",
    "\n",
    "Sample Input : \n",
    "\n",
    "{'a': 10, 'b': 8}\n",
    "\n",
    "{'d': 6, 'c': 4}\n",
    "\n",
    "\n",
    "\n",
    "Sample Output : {'c': 4, 'a': 10, 'b': 8, 'd': 6}\n",
    "\n",
    "\n",
    "\n",
    "--------------------------------------------------------------------------------------------------\n",
    "\n",
    "\n",
    "\n",
    "Sample Input : \n",
    "\n",
    "{'a': 110, 'b': 88}\n",
    "\n",
    "{'d': 62, 'c': 44}\n",
    "\n",
    "\n",
    "\n",
    "Sample Output : {'a': 110, 'b': 88, 'd': 62, 'c': 44}\n",
    "\n",
    "\n",
    "\n",
    "--------------------------------------------------------------------------------------------------"
   ]
  },
  {
   "cell_type": "code",
   "execution_count": 2,
   "id": "f352afec-b425-476b-a097-c921e057a7a9",
   "metadata": {},
   "outputs": [
    {
     "data": {
      "text/plain": [
       "{'a': 110, 'b': 88, 'd': 62, 'c': 44}"
      ]
     },
     "execution_count": 2,
     "metadata": {},
     "output_type": "execute_result"
    }
   ],
   "source": [
    "dict1 ={'a': 110, 'b': 88}\n",
    "\n",
    "dict2 = {'d': 62, 'c': 44}\n",
    "\n",
    "merged = dict1 | dict2\n",
    "\n",
    "merged"
   ]
  },
  {
   "cell_type": "code",
   "execution_count": null,
   "id": "5d25a538-8cec-4c52-bf5d-7883d325af92",
   "metadata": {},
   "outputs": [],
   "source": []
  }
 ],
 "metadata": {
  "kernelspec": {
   "display_name": "Python 3 (ipykernel)",
   "language": "python",
   "name": "python3"
  },
  "language_info": {
   "codemirror_mode": {
    "name": "ipython",
    "version": 3
   },
   "file_extension": ".py",
   "mimetype": "text/x-python",
   "name": "python",
   "nbconvert_exporter": "python",
   "pygments_lexer": "ipython3",
   "version": "3.13.1"
  }
 },
 "nbformat": 4,
 "nbformat_minor": 5
}
