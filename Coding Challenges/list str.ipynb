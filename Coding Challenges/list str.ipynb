{
 "cells": [
  {
   "cell_type": "markdown",
   "id": "3607f88d-6510-4c6e-90d6-38ce2346e0e1",
   "metadata": {},
   "source": [
    "Given a list of strings and an integer K, write a python code to print all the elements from the K th position till the end of the list.\n",
    "\n",
    "\n",
    "\n",
    "Note: Assume that K (a positive integer) will always be less than or equal to the length of the list\n",
    "\n",
    "    \n",
    "\n",
    "Input - A list of strings in the first line and an integer in the second line of the input.\n",
    "\n",
    "Output - A list\n",
    "\n",
    "\n",
    "\n",
    "--------------------------------------------------------------------------------------------------------\n",
    "\n",
    "\n",
    "\n",
    "Sample Input :\n",
    "\n",
    "['Mumbai', 'Delhi', 'Australia', 'Nigeria', 'USA', 'London', 'Canada']\n",
    "\n",
    "2\n",
    "\n",
    "\n",
    "\n",
    "Sample Output : ['Delhi', 'Australia', 'Nigeria', 'USA', 'London', 'Canada']\n",
    "\n",
    "\n",
    "\n",
    "--------------------------------------------------------------------------------------------------------\n",
    "\n",
    "\n",
    "\n",
    "Sample Input :\n",
    "\n",
    " ['Chennai', 'Vizag', 'Austria', 'Germany', 'Japan']\n",
    "\n",
    "3\n",
    "\n",
    "\n",
    "\n",
    "Sample Output : ['Austria', 'Germany', 'Japan']"
   ]
  },
  {
   "cell_type": "code",
   "execution_count": 1,
   "id": "c77e93e5-e000-4e15-8ec5-6f8c590a200f",
   "metadata": {},
   "outputs": [
    {
     "name": "stdin",
     "output_type": "stream",
     "text": [
      " ['Mumbai', 'Delhi', 'Australia', 'Nigeria', 'USA', 'London', 'Canada']\n",
      " 2\n"
     ]
    },
    {
     "name": "stdout",
     "output_type": "stream",
     "text": [
      "['Delhi', 'Australia', 'Nigeria', 'USA', 'London', 'Canada']\n"
     ]
    }
   ],
   "source": [
    "#read the input using the ast sys\n",
    "import ast\n",
    "inputstr = input()\n",
    "datslist = ast.literal_eval(inputstr)\n",
    "K=int(input())-1\n",
    "\n",
    "print(datslist[K:])\n",
    "#Write the code here\n"
   ]
  },
  {
   "cell_type": "code",
   "execution_count": null,
   "id": "face04fd-510f-4a83-9a9a-0e82af63593e",
   "metadata": {},
   "outputs": [],
   "source": []
  }
 ],
 "metadata": {
  "kernelspec": {
   "display_name": "Python 3 (ipykernel)",
   "language": "python",
   "name": "python3"
  },
  "language_info": {
   "codemirror_mode": {
    "name": "ipython",
    "version": 3
   },
   "file_extension": ".py",
   "mimetype": "text/x-python",
   "name": "python",
   "nbconvert_exporter": "python",
   "pygments_lexer": "ipython3",
   "version": "3.13.1"
  }
 },
 "nbformat": 4,
 "nbformat_minor": 5
}
