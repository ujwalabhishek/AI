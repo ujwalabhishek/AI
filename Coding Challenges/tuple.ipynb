{
 "cells": [
  {
   "cell_type": "markdown",
   "id": "55ea729d-9fba-4c17-b252-0827c9974ca6",
   "metadata": {},
   "source": [
    "Add the element ‘Python’ to a tuple input_tuple = ('Monty Python', 'British', 1969). Since tuples are immutable, one way to do this is to convert the tuple to a list, add the element, and convert it back to a tuple.\n",
    "\n",
    "\n",
    "\n",
    "Sample Input:\n",
    "\n",
    "('Monty Python', 'British', 1969)\n",
    "\n",
    "\n",
    "\n",
    "Sample Output:\n",
    "\n",
    "('Monty Python', 'British', 1969, 'Python')"
   ]
  },
  {
   "cell_type": "code",
   "execution_count": 1,
   "id": "5aba510e-5693-4d04-898f-c6270a341fb5",
   "metadata": {},
   "outputs": [
    {
     "name": "stdout",
     "output_type": "stream",
     "text": [
      "('Monty Python', 'British', 1969, 'Python')\n"
     ]
    }
   ],
   "source": [
    "import ast,sys\n",
    "input_tuple = ('Monty Python', 'British', 1969)\n",
    "\n",
    "# Write your code here\n",
    "input_list = list(input_tuple)\n",
    "input_list.append('Python')\n",
    "tuple_2 = tuple(input_list)\n",
    "# Make sure to name the final tuple 'tuple_2'\n",
    "print(tuple_2)"
   ]
  },
  {
   "cell_type": "code",
   "execution_count": null,
   "id": "a86589c1-9d7e-4519-a0e5-909c9a64fb1a",
   "metadata": {},
   "outputs": [],
   "source": []
  }
 ],
 "metadata": {
  "kernelspec": {
   "display_name": "Python 3 (ipykernel)",
   "language": "python",
   "name": "python3"
  },
  "language_info": {
   "codemirror_mode": {
    "name": "ipython",
    "version": 3
   },
   "file_extension": ".py",
   "mimetype": "text/x-python",
   "name": "python",
   "nbconvert_exporter": "python",
   "pygments_lexer": "ipython3",
   "version": "3.13.1"
  }
 },
 "nbformat": 4,
 "nbformat_minor": 5
}
