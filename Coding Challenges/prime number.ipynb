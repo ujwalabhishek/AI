{
 "cells": [
  {
   "cell_type": "markdown",
   "id": "b0fd85c1-c306-4373-9ec0-1e6375f71680",
   "metadata": {},
   "source": [
    "# Basic Approach (Brute Force)\n",
    "Check all numbers from 2 to (N-1).\n",
    "If N is divisible by any of these numbers, it's not prime.\n",
    "If no divisors are found, it's prime.\n",
    "Algorithm:\n",
    "```\n",
    "If N <= 1, return false (not prime).\n",
    "Loop from 2 to N-1.\n",
    "If N % i == 0, return false.\n",
    "If no divisor is found, return true.\n",
    "\n",
    "```\n",
    "Time Complexity: \n",
    "𝑂\n",
    "(\n",
    "𝑁\n",
    ")\n",
    "O(N) (not efficient for large numbers).\n",
    "\n"
   ]
  },
  {
   "cell_type": "markdown",
   "id": "e6890b3e-5e31-4583-a395-a7cf2f823e54",
   "metadata": {},
   "source": [
    "# Optimized Approach (Check Up to √N)\n",
    "A number N has divisors only up to its square root (√N).\n",
    "If N is divisible by any number in the range 2 to √N, it is not prime.\n",
    "Algorithm:\n",
    "```\n",
    "If N <= 1, return false.\n",
    "If N = 2 or 3, return true (2 and 3 are prime).\n",
    "If N is even, return false (except 2).\n",
    "Loop from 3 to √N, checking only odd numbers.\n",
    "If N % i == 0, return false.\n",
    "If no divisors are found, return true.\n",
    "```\n",
    "Time Complexity: \n",
    "𝑂\n",
    "(\n",
    "𝑁\n",
    ")\n",
    "O( \n",
    "N\n",
    "​\n",
    " ) (much faster for large numbers)."
   ]
  },
  {
   "cell_type": "markdown",
   "id": "83781d13-7a20-4ae5-8ad2-52c4a1d3e2fc",
   "metadata": {},
   "source": [
    "# Most Efficient Approach (Sieve of Eratosthenes)\n",
    "Used to find all prime numbers up to a given limit efficiently.\n",
    "Instead of checking each number individually, it marks multiples of each prime as composite.\n",
    "Algorithm:\n",
    "```\n",
    "Create an array isPrime[] initialized to true.\n",
    "Start from the first prime 2, mark all its multiples as not prime.\n",
    "Move to the next unmarked number and repeat.\n",
    "Continue up to √N.\n",
    "```\n",
    "Time Complexity: \n",
    "𝑂\n",
    "(\n",
    "𝑁\n",
    "log\n",
    "⁡\n",
    "log\n",
    "⁡\n",
    "𝑁\n",
    ")\n",
    "O(NloglogN) (efficient for finding multiple primes).\n",
    "\n",
    "# Algorithm Explanation\n",
    "Initialize an array:\n",
    "\n",
    "Create a boolean array isPrime[] of size \n",
    "𝑁\n",
    "+\n",
    "1\n",
    "N+1 and initialize all elements as true (assuming all numbers are prime).\n",
    "Set isPrime[0] and isPrime[1] to false since 0 and 1 are not prime.\n",
    "Mark non-prime numbers:\n",
    "\n",
    "Start from the first prime number (2).\n",
    "Mark all multiples of 2 as false (i.e., non-prime).\n",
    "Move to the next number that is still marked true (which must be prime) and repeat.\n",
    "Continue marking multiples of each prime up to \n",
    "𝑁\n",
    "N\n",
    "​\n",
    " , since all non-prime numbers beyond this point will already be marked.\n",
    "Extract prime numbers:\n",
    "\n",
    "The numbers still marked as true in isPrime[] are the prime numbers up to \n",
    "𝑁\n",
    "N."
   ]
  },
  {
   "cell_type": "code",
   "execution_count": 6,
   "id": "f84f28b3-37ba-4f6c-b512-f30d3c4ab133",
   "metadata": {},
   "outputs": [
    {
     "name": "stdout",
     "output_type": "stream",
     "text": [
      "2 is prime\n",
      "3 is prime\n",
      "5 is prime\n",
      "7 is prime\n",
      "11 is prime\n",
      "13 is prime\n",
      "17 is prime\n",
      "19 is prime\n",
      "23 is prime\n",
      "29 is prime\n",
      "31 is prime\n",
      "37 is prime\n",
      "41 is prime\n",
      "43 is prime\n",
      "47 is prime\n",
      "53 is prime\n",
      "59 is prime\n",
      "61 is prime\n",
      "67 is prime\n",
      "71 is prime\n",
      "73 is prime\n",
      "79 is prime\n",
      "83 is prime\n",
      "89 is prime\n",
      "97 is prime\n"
     ]
    }
   ],
   "source": [
    "for number in range(2,100):\n",
    "    for factor in range(2, int(number**0.5) + 1):\n",
    "        if number % factor == 0:\n",
    "            break\n",
    "    else:\n",
    "        print(f\"{number} is prime\")"
   ]
  },
  {
   "cell_type": "code",
   "execution_count": 12,
   "id": "53c0b9d9-40d7-44ea-a298-c19a10ed12ba",
   "metadata": {},
   "outputs": [
    {
     "name": "stdout",
     "output_type": "stream",
     "text": [
      "[2, 3, 5, 7, 11, 13, 17, 19, 23, 29, 31, 37, 41, 43, 47]\n"
     ]
    }
   ],
   "source": [
    "def sieve_of_eratosthenes(N):\n",
    "    isPrime = [True] * (N + 1)  # Step 1: Initialize the array\n",
    "    isPrime[0], isPrime[1] = False, False  # 0 and 1 are not prime\n",
    "\n",
    "    for i in range(2, int(N ** 0.5) + 1):  # Step 2: Start marking multiples\n",
    "        if isPrime[i]:  # If i is prime\n",
    "            for j in range(i * i, N + 1, i):  # Mark multiples of i\n",
    "                isPrime[j] = False\n",
    "    \n",
    "    primes = [i for i in range(N + 1) if isPrime[i]]  # Step 3: Extract primes\n",
    "    return primes\n",
    "\n",
    "print(sieve_of_eratosthenes(50))  # Example usage\n"
   ]
  },
  {
   "cell_type": "code",
   "execution_count": null,
   "id": "04b93444-872f-48aa-aedf-343a8ab602a1",
   "metadata": {},
   "outputs": [],
   "source": []
  }
 ],
 "metadata": {
  "kernelspec": {
   "display_name": "Python 3 (ipykernel)",
   "language": "python",
   "name": "python3"
  },
  "language_info": {
   "codemirror_mode": {
    "name": "ipython",
    "version": 3
   },
   "file_extension": ".py",
   "mimetype": "text/x-python",
   "name": "python",
   "nbconvert_exporter": "python",
   "pygments_lexer": "ipython3",
   "version": "3.12.1"
  }
 },
 "nbformat": 4,
 "nbformat_minor": 5
}
