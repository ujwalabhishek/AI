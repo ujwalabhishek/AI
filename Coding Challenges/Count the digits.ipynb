{
 "cells": [
  {
   "cell_type": "markdown",
   "id": "5b79c88c-1d55-4004-841b-29630f9862d1",
   "metadata": {},
   "source": [
    "## Count the digits\n",
    "\n",
    "Write a program to accept a number from the user and count the zeros, odd digits and non-zero even digits from the entered number.\n",
    "\n",
    "\n",
    "\n",
    "----------------------------------------------------------------------\n",
    "\n",
    "Input:\n",
    "\n",
    "A positive integer of n digits\n",
    "\n",
    "\n",
    "\n",
    "Output:\n",
    "\n",
    "Three integers representing the occurrences of zeros, odd digits and non-zero even digits from the entered number.\n",
    "\n",
    "\n",
    "\n",
    "----------------------------------------------------------------------\n",
    "\n",
    "Sample input:\n",
    "\n",
    "1030\n",
    "\n",
    "\n",
    "\n",
    "Sample output:\n",
    "\n",
    "Number of odd digits: 2\n",
    "\n",
    "Number of non-zero even digits: 0\n",
    "\n",
    "Number of zeros: 2"
   ]
  },
  {
   "cell_type": "code",
   "execution_count": 1,
   "id": "d9a6c217-104c-40ff-896c-68e53d91758a",
   "metadata": {},
   "outputs": [
    {
     "name": "stdin",
     "output_type": "stream",
     "text": [
      " 5674\n"
     ]
    },
    {
     "name": "stdout",
     "output_type": "stream",
     "text": [
      "Number of odd digits: 2\n",
      "Number of non-zero even digits: 2\n",
      "Number of zeros: 0\n"
     ]
    }
   ],
   "source": [
    "# Take input\n",
    "n=int(input())\n",
    "\n",
    "# creating three variables to keep the count of odd, even and zero digits\n",
    "n_odd=0\n",
    "n_even=0\n",
    "n_zeros=0\n",
    "\n",
    "\n",
    "\n",
    "while n>0:\n",
    "\n",
    "# Storing the reminder(is also digit at one's place of n) of n%10\n",
    "    r=n%10\n",
    "\n",
    "    # If the reminder(is also digit at one's place of n) is 0, the digit is 0. Increase the count of zeros by 1\n",
    "    if r==0:\n",
    "        n_zeros+=1\n",
    "        \n",
    "    #If the reminder is divisible by 2, it is an even digit otherwise odd. Increase the respective counts\n",
    "    elif r%2==0:\n",
    "        n_even+=1\n",
    "        \n",
    "    else:\n",
    "        r%2==1\n",
    "        n_odd+=1\n",
    "    \n",
    "    # Updating the value of n by dividing it by 10 inorder to get the next digit during next iteration\n",
    "    n=n//10\n",
    "        \n",
    "#Print the results\n",
    "print(\"Number of odd digits:\",n_odd)\n",
    "print(\"Number of non-zero even digits:\",n_even)\n",
    "print(\"Number of zeros:\",n_zeros)"
   ]
  },
  {
   "cell_type": "code",
   "execution_count": null,
   "id": "b297b66a-dd82-44f6-a791-e814488e5823",
   "metadata": {},
   "outputs": [],
   "source": []
  }
 ],
 "metadata": {
  "kernelspec": {
   "display_name": "Python 3 (ipykernel)",
   "language": "python",
   "name": "python3"
  },
  "language_info": {
   "codemirror_mode": {
    "name": "ipython",
    "version": 3
   },
   "file_extension": ".py",
   "mimetype": "text/x-python",
   "name": "python",
   "nbconvert_exporter": "python",
   "pygments_lexer": "ipython3",
   "version": "3.13.1"
  }
 },
 "nbformat": 4,
 "nbformat_minor": 5
}
