{
 "cells": [
  {
   "cell_type": "markdown",
   "id": "a67ebc3d-b08e-4b05-9c39-4c0d0a483c77",
   "metadata": {},
   "source": [
    "<div class=\"css-13rgiwp e2s64ho0\"><h3><strong>Factorial challenge</strong></h3>\n",
    "<div><span></span>The \"factorial\" of a number is that number multiplied by all the positive whole numbers less than it. It is written with an exclamation point, like \"n!\" (read this as \"n factorial\").&nbsp;</div>\n",
    "<div>&nbsp;</div>\n",
    "<div>So, for a given number, n:</div>\n",
    "<div>&nbsp;</div>\n",
    "<div><span class=\"cg-latex\"><mjx-container class=\"MathJax\" jax=\"SVG\" display=\"true\" style=\"position: relative;\"><svg xmlns=\"http://www.w3.org/2000/svg\" width=\"37.611ex\" height=\"2.262ex\" role=\"img\" focusable=\"false\" viewBox=\"0 -750 16624.2 1000\" xmlns:xlink=\"http://www.w3.org/1999/xlink\" aria-hidden=\"true\" style=\"vertical-align: -0.566ex;\"><defs><path id=\"MJX-5-TEX-I-1D45B\" d=\"M21 287Q22 293 24 303T36 341T56 388T89 425T135 442Q171 442 195 424T225 390T231 369Q231 367 232 367L243 378Q304 442 382 442Q436 442 469 415T503 336T465 179T427 52Q427 26 444 26Q450 26 453 27Q482 32 505 65T540 145Q542 153 560 153Q580 153 580 145Q580 144 576 130Q568 101 554 73T508 17T439 -10Q392 -10 371 17T350 73Q350 92 386 193T423 345Q423 404 379 404H374Q288 404 229 303L222 291L189 157Q156 26 151 16Q138 -11 108 -11Q95 -11 87 -5T76 7T74 17Q74 30 112 180T152 343Q153 348 153 366Q153 405 129 405Q91 405 66 305Q60 285 60 284Q58 278 41 278H27Q21 284 21 287Z\"></path><path id=\"MJX-5-TEX-N-21\" d=\"M78 661Q78 682 96 699T138 716T180 700T199 661Q199 654 179 432T158 206Q156 198 139 198Q121 198 119 206Q118 209 98 431T78 661ZM79 61Q79 89 97 105T141 121Q164 119 181 104T198 61Q198 31 181 16T139 1Q114 1 97 16T79 61Z\"></path><path id=\"MJX-5-TEX-N-3D\" d=\"M56 347Q56 360 70 367H707Q722 359 722 347Q722 336 708 328L390 327H72Q56 332 56 347ZM56 153Q56 168 72 173H708Q722 163 722 153Q722 140 707 133H70Q56 140 56 153Z\"></path><path id=\"MJX-5-TEX-N-2217\" d=\"M229 286Q216 420 216 436Q216 454 240 464Q241 464 245 464T251 465Q263 464 273 456T283 436Q283 419 277 356T270 286L328 328Q384 369 389 372T399 375Q412 375 423 365T435 338Q435 325 425 315Q420 312 357 282T289 250L355 219L425 184Q434 175 434 161Q434 146 425 136T401 125Q393 125 383 131T328 171L270 213Q283 79 283 63Q283 53 276 44T250 35Q231 35 224 44T216 63Q216 80 222 143T229 213L171 171Q115 130 110 127Q106 124 100 124Q87 124 76 134T64 161Q64 166 64 169T67 175T72 181T81 188T94 195T113 204T138 215T170 230T210 250L74 315Q65 324 65 338Q65 353 74 363T98 374Q106 374 116 368T171 328L229 286Z\"></path><path id=\"MJX-5-TEX-N-28\" d=\"M94 250Q94 319 104 381T127 488T164 576T202 643T244 695T277 729T302 750H315H319Q333 750 333 741Q333 738 316 720T275 667T226 581T184 443T167 250T184 58T225 -81T274 -167T316 -220T333 -241Q333 -250 318 -250H315H302L274 -226Q180 -141 137 -14T94 250Z\"></path><path id=\"MJX-5-TEX-N-2212\" d=\"M84 237T84 250T98 270H679Q694 262 694 250T679 230H98Q84 237 84 250Z\"></path><path id=\"MJX-5-TEX-N-31\" d=\"M213 578L200 573Q186 568 160 563T102 556H83V602H102Q149 604 189 617T245 641T273 663Q275 666 285 666Q294 666 302 660V361L303 61Q310 54 315 52T339 48T401 46H427V0H416Q395 3 257 3Q121 3 100 0H88V46H114Q136 46 152 46T177 47T193 50T201 52T207 57T213 61V578Z\"></path><path id=\"MJX-5-TEX-N-29\" d=\"M60 749L64 750Q69 750 74 750H86L114 726Q208 641 251 514T294 250Q294 182 284 119T261 12T224 -76T186 -143T145 -194T113 -227T90 -246Q87 -249 86 -250H74Q66 -250 63 -250T58 -247T55 -238Q56 -237 66 -225Q221 -64 221 250T66 725Q56 737 55 738Q55 746 60 749Z\"></path><path id=\"MJX-5-TEX-N-32\" d=\"M109 429Q82 429 66 447T50 491Q50 562 103 614T235 666Q326 666 387 610T449 465Q449 422 429 383T381 315T301 241Q265 210 201 149L142 93L218 92Q375 92 385 97Q392 99 409 186V189H449V186Q448 183 436 95T421 3V0H50V19V31Q50 38 56 46T86 81Q115 113 136 137Q145 147 170 174T204 211T233 244T261 278T284 308T305 340T320 369T333 401T340 431T343 464Q343 527 309 573T212 619Q179 619 154 602T119 569T109 550Q109 549 114 549Q132 549 151 535T170 489Q170 464 154 447T109 429Z\"></path><path id=\"MJX-5-TEX-N-2E\" d=\"M78 60Q78 84 95 102T138 120Q162 120 180 104T199 61Q199 36 182 18T139 0T96 17T78 60Z\"></path><path id=\"MJX-5-TEX-N-33\" d=\"M127 463Q100 463 85 480T69 524Q69 579 117 622T233 665Q268 665 277 664Q351 652 390 611T430 522Q430 470 396 421T302 350L299 348Q299 347 308 345T337 336T375 315Q457 262 457 175Q457 96 395 37T238 -22Q158 -22 100 21T42 130Q42 158 60 175T105 193Q133 193 151 175T169 130Q169 119 166 110T159 94T148 82T136 74T126 70T118 67L114 66Q165 21 238 21Q293 21 321 74Q338 107 338 175V195Q338 290 274 322Q259 328 213 329L171 330L168 332Q166 335 166 348Q166 366 174 366Q202 366 232 371Q266 376 294 413T322 525V533Q322 590 287 612Q265 626 240 626Q208 626 181 615T143 592T132 580H135Q138 579 143 578T153 573T165 566T175 555T183 540T186 520Q186 498 172 481T127 463Z\"></path></defs><g stroke=\"currentColor\" fill=\"currentColor\" stroke-width=\"0\" transform=\"scale(1,-1)\"><g data-mml-node=\"math\"><g data-mml-node=\"mi\"><use data-c=\"1D45B\" xlink:href=\"#MJX-5-TEX-I-1D45B\"></use></g><g data-mml-node=\"mo\" transform=\"translate(600,0)\"><use data-c=\"21\" xlink:href=\"#MJX-5-TEX-N-21\"></use></g><g data-mml-node=\"mo\" transform=\"translate(1155.8,0)\"><use data-c=\"3D\" xlink:href=\"#MJX-5-TEX-N-3D\"></use></g><g data-mml-node=\"mi\" transform=\"translate(2211.6,0)\"><use data-c=\"1D45B\" xlink:href=\"#MJX-5-TEX-I-1D45B\"></use></g><g data-mml-node=\"mo\" transform=\"translate(3033.8,0)\"><use data-c=\"2217\" xlink:href=\"#MJX-5-TEX-N-2217\"></use></g><g data-mml-node=\"mo\" transform=\"translate(3756,0)\"><use data-c=\"28\" xlink:href=\"#MJX-5-TEX-N-28\"></use></g><g data-mml-node=\"mi\" transform=\"translate(4145,0)\"><use data-c=\"1D45B\" xlink:href=\"#MJX-5-TEX-I-1D45B\"></use></g><g data-mml-node=\"mo\" transform=\"translate(4967.2,0)\"><use data-c=\"2212\" xlink:href=\"#MJX-5-TEX-N-2212\"></use></g><g data-mml-node=\"mn\" transform=\"translate(5967.4,0)\"><use data-c=\"31\" xlink:href=\"#MJX-5-TEX-N-31\"></use></g><g data-mml-node=\"mo\" transform=\"translate(6467.4,0)\"><use data-c=\"29\" xlink:href=\"#MJX-5-TEX-N-29\"></use></g><g data-mml-node=\"mo\" transform=\"translate(7078.7,0)\"><use data-c=\"2217\" xlink:href=\"#MJX-5-TEX-N-2217\"></use></g><g data-mml-node=\"mo\" transform=\"translate(7800.9,0)\"><use data-c=\"28\" xlink:href=\"#MJX-5-TEX-N-28\"></use></g><g data-mml-node=\"mi\" transform=\"translate(8189.9,0)\"><use data-c=\"1D45B\" xlink:href=\"#MJX-5-TEX-I-1D45B\"></use></g><g data-mml-node=\"mo\" transform=\"translate(9012.1,0)\"><use data-c=\"2212\" xlink:href=\"#MJX-5-TEX-N-2212\"></use></g><g data-mml-node=\"mn\" transform=\"translate(10012.3,0)\"><use data-c=\"32\" xlink:href=\"#MJX-5-TEX-N-32\"></use></g><g data-mml-node=\"mo\" transform=\"translate(10512.3,0)\"><use data-c=\"29\" xlink:href=\"#MJX-5-TEX-N-29\"></use></g><g data-mml-node=\"mo\" transform=\"translate(10901.3,0)\"><use data-c=\"2217\" xlink:href=\"#MJX-5-TEX-N-2217\"></use></g><g data-mml-node=\"mo\" transform=\"translate(11401.3,0)\"><use data-c=\"2E\" xlink:href=\"#MJX-5-TEX-N-2E\"></use></g><g data-mml-node=\"mo\" transform=\"translate(11846,0)\"><use data-c=\"2E\" xlink:href=\"#MJX-5-TEX-N-2E\"></use></g><g data-mml-node=\"mo\" transform=\"translate(12290.7,0)\"><use data-c=\"2E\" xlink:href=\"#MJX-5-TEX-N-2E\"></use></g><g data-mml-node=\"mo\" transform=\"translate(12735.3,0)\"><use data-c=\"2217\" xlink:href=\"#MJX-5-TEX-N-2217\"></use></g><g data-mml-node=\"mn\" transform=\"translate(13235.3,0)\"><use data-c=\"33\" xlink:href=\"#MJX-5-TEX-N-33\"></use></g><g data-mml-node=\"mo\" transform=\"translate(13957.6,0)\"><use data-c=\"2217\" xlink:href=\"#MJX-5-TEX-N-2217\"></use></g><g data-mml-node=\"mn\" transform=\"translate(14679.8,0)\"><use data-c=\"32\" xlink:href=\"#MJX-5-TEX-N-32\"></use></g><g data-mml-node=\"mo\" transform=\"translate(15402,0)\"><use data-c=\"2217\" xlink:href=\"#MJX-5-TEX-N-2217\"></use></g><g data-mml-node=\"mn\" transform=\"translate(16124.2,0)\"><use data-c=\"31\" xlink:href=\"#MJX-5-TEX-N-31\"></use></g></g></g></svg><mjx-assistive-mml unselectable=\"on\" display=\"block\"><math xmlns=\"http://www.w3.org/1998/Math/MathML\" display=\"block\"><mi>n</mi><mo>!</mo><mo>=</mo><mi>n</mi><mo>∗</mo><mo stretchy=\"false\">(</mo><mi>n</mi><mo>−</mo><mn>1</mn><mo stretchy=\"false\">)</mo><mo>∗</mo><mo stretchy=\"false\">(</mo><mi>n</mi><mo>−</mo><mn>2</mn><mo stretchy=\"false\">)</mo><mo>∗</mo><mo>.</mo><mo>.</mo><mo>.</mo><mo>∗</mo><mn>3</mn><mo>∗</mo><mn>2</mn><mo>∗</mo><mn>1</mn></math></mjx-assistive-mml></mjx-container></span></div>\n",
    "<div>&nbsp;</div>\n",
    "<div>Or, for more concrete examples:</div>\n",
    "<div>&nbsp;</div>\n",
    "<div><span class=\"cg-latex\"><mjx-container class=\"MathJax\" jax=\"SVG\" display=\"true\" style=\"position: relative;\"><svg xmlns=\"http://www.w3.org/2000/svg\" width=\"25.391ex\" height=\"1.805ex\" role=\"img\" focusable=\"false\" viewBox=\"0 -716 11222.9 798\" xmlns:xlink=\"http://www.w3.org/1999/xlink\" aria-hidden=\"true\" style=\"vertical-align: -0.186ex;\"><defs><path id=\"MJX-6-TEX-N-35\" d=\"M164 157Q164 133 148 117T109 101H102Q148 22 224 22Q294 22 326 82Q345 115 345 210Q345 313 318 349Q292 382 260 382H254Q176 382 136 314Q132 307 129 306T114 304Q97 304 95 310Q93 314 93 485V614Q93 664 98 664Q100 666 102 666Q103 666 123 658T178 642T253 634Q324 634 389 662Q397 666 402 666Q410 666 410 648V635Q328 538 205 538Q174 538 149 544L139 546V374Q158 388 169 396T205 412T256 420Q337 420 393 355T449 201Q449 109 385 44T229 -22Q148 -22 99 32T50 154Q50 178 61 192T84 210T107 214Q132 214 148 197T164 157Z\"></path><path id=\"MJX-6-TEX-N-21\" d=\"M78 661Q78 682 96 699T138 716T180 700T199 661Q199 654 179 432T158 206Q156 198 139 198Q121 198 119 206Q118 209 98 431T78 661ZM79 61Q79 89 97 105T141 121Q164 119 181 104T198 61Q198 31 181 16T139 1Q114 1 97 16T79 61Z\"></path><path id=\"MJX-6-TEX-N-3D\" d=\"M56 347Q56 360 70 367H707Q722 359 722 347Q722 336 708 328L390 327H72Q56 332 56 347ZM56 153Q56 168 72 173H708Q722 163 722 153Q722 140 707 133H70Q56 140 56 153Z\"></path><path id=\"MJX-6-TEX-N-2217\" d=\"M229 286Q216 420 216 436Q216 454 240 464Q241 464 245 464T251 465Q263 464 273 456T283 436Q283 419 277 356T270 286L328 328Q384 369 389 372T399 375Q412 375 423 365T435 338Q435 325 425 315Q420 312 357 282T289 250L355 219L425 184Q434 175 434 161Q434 146 425 136T401 125Q393 125 383 131T328 171L270 213Q283 79 283 63Q283 53 276 44T250 35Q231 35 224 44T216 63Q216 80 222 143T229 213L171 171Q115 130 110 127Q106 124 100 124Q87 124 76 134T64 161Q64 166 64 169T67 175T72 181T81 188T94 195T113 204T138 215T170 230T210 250L74 315Q65 324 65 338Q65 353 74 363T98 374Q106 374 116 368T171 328L229 286Z\"></path><path id=\"MJX-6-TEX-N-34\" d=\"M462 0Q444 3 333 3Q217 3 199 0H190V46H221Q241 46 248 46T265 48T279 53T286 61Q287 63 287 115V165H28V211L179 442Q332 674 334 675Q336 677 355 677H373L379 671V211H471V165H379V114Q379 73 379 66T385 54Q393 47 442 46H471V0H462ZM293 211V545L74 212L183 211H293Z\"></path><path id=\"MJX-6-TEX-N-33\" d=\"M127 463Q100 463 85 480T69 524Q69 579 117 622T233 665Q268 665 277 664Q351 652 390 611T430 522Q430 470 396 421T302 350L299 348Q299 347 308 345T337 336T375 315Q457 262 457 175Q457 96 395 37T238 -22Q158 -22 100 21T42 130Q42 158 60 175T105 193Q133 193 151 175T169 130Q169 119 166 110T159 94T148 82T136 74T126 70T118 67L114 66Q165 21 238 21Q293 21 321 74Q338 107 338 175V195Q338 290 274 322Q259 328 213 329L171 330L168 332Q166 335 166 348Q166 366 174 366Q202 366 232 371Q266 376 294 413T322 525V533Q322 590 287 612Q265 626 240 626Q208 626 181 615T143 592T132 580H135Q138 579 143 578T153 573T165 566T175 555T183 540T186 520Q186 498 172 481T127 463Z\"></path><path id=\"MJX-6-TEX-N-32\" d=\"M109 429Q82 429 66 447T50 491Q50 562 103 614T235 666Q326 666 387 610T449 465Q449 422 429 383T381 315T301 241Q265 210 201 149L142 93L218 92Q375 92 385 97Q392 99 409 186V189H449V186Q448 183 436 95T421 3V0H50V19V31Q50 38 56 46T86 81Q115 113 136 137Q145 147 170 174T204 211T233 244T261 278T284 308T305 340T320 369T333 401T340 431T343 464Q343 527 309 573T212 619Q179 619 154 602T119 569T109 550Q109 549 114 549Q132 549 151 535T170 489Q170 464 154 447T109 429Z\"></path><path id=\"MJX-6-TEX-N-31\" d=\"M213 578L200 573Q186 568 160 563T102 556H83V602H102Q149 604 189 617T245 641T273 663Q275 666 285 666Q294 666 302 660V361L303 61Q310 54 315 52T339 48T401 46H427V0H416Q395 3 257 3Q121 3 100 0H88V46H114Q136 46 152 46T177 47T193 50T201 52T207 57T213 61V578Z\"></path><path id=\"MJX-6-TEX-N-30\" d=\"M96 585Q152 666 249 666Q297 666 345 640T423 548Q460 465 460 320Q460 165 417 83Q397 41 362 16T301 -15T250 -22Q224 -22 198 -16T137 16T82 83Q39 165 39 320Q39 494 96 585ZM321 597Q291 629 250 629Q208 629 178 597Q153 571 145 525T137 333Q137 175 145 125T181 46Q209 16 250 16Q290 16 318 46Q347 76 354 130T362 333Q362 478 354 524T321 597Z\"></path></defs><g stroke=\"currentColor\" fill=\"currentColor\" stroke-width=\"0\" transform=\"scale(1,-1)\"><g data-mml-node=\"math\"><g data-mml-node=\"mn\"><use data-c=\"35\" xlink:href=\"#MJX-6-TEX-N-35\"></use></g><g data-mml-node=\"mo\" transform=\"translate(500,0)\"><use data-c=\"21\" xlink:href=\"#MJX-6-TEX-N-21\"></use></g><g data-mml-node=\"mo\" transform=\"translate(1055.8,0)\"><use data-c=\"3D\" xlink:href=\"#MJX-6-TEX-N-3D\"></use></g><g data-mml-node=\"mn\" transform=\"translate(2111.6,0)\"><use data-c=\"35\" xlink:href=\"#MJX-6-TEX-N-35\"></use></g><g data-mml-node=\"mo\" transform=\"translate(2833.8,0)\"><use data-c=\"2217\" xlink:href=\"#MJX-6-TEX-N-2217\"></use></g><g data-mml-node=\"mn\" transform=\"translate(3556,0)\"><use data-c=\"34\" xlink:href=\"#MJX-6-TEX-N-34\"></use></g><g data-mml-node=\"mo\" transform=\"translate(4278.2,0)\"><use data-c=\"2217\" xlink:href=\"#MJX-6-TEX-N-2217\"></use></g><g data-mml-node=\"mn\" transform=\"translate(5000.4,0)\"><use data-c=\"33\" xlink:href=\"#MJX-6-TEX-N-33\"></use></g><g data-mml-node=\"mo\" transform=\"translate(5722.7,0)\"><use data-c=\"2217\" xlink:href=\"#MJX-6-TEX-N-2217\"></use></g><g data-mml-node=\"mn\" transform=\"translate(6444.9,0)\"><use data-c=\"32\" xlink:href=\"#MJX-6-TEX-N-32\"></use></g><g data-mml-node=\"mo\" transform=\"translate(7167.1,0)\"><use data-c=\"2217\" xlink:href=\"#MJX-6-TEX-N-2217\"></use></g><g data-mml-node=\"mn\" transform=\"translate(7889.3,0)\"><use data-c=\"31\" xlink:href=\"#MJX-6-TEX-N-31\"></use></g><g data-mml-node=\"mo\" transform=\"translate(8667.1,0)\"><use data-c=\"3D\" xlink:href=\"#MJX-6-TEX-N-3D\"></use></g><g data-mml-node=\"mn\" transform=\"translate(9722.9,0)\"><use data-c=\"31\" xlink:href=\"#MJX-6-TEX-N-31\"></use><use data-c=\"32\" xlink:href=\"#MJX-6-TEX-N-32\" transform=\"translate(500,0)\"></use><use data-c=\"30\" xlink:href=\"#MJX-6-TEX-N-30\" transform=\"translate(1000,0)\"></use></g></g></g></svg><mjx-assistive-mml unselectable=\"on\" display=\"block\"><math xmlns=\"http://www.w3.org/1998/Math/MathML\" display=\"block\"><mn>5</mn><mo>!</mo><mo>=</mo><mn>5</mn><mo>∗</mo><mn>4</mn><mo>∗</mo><mn>3</mn><mo>∗</mo><mn>2</mn><mo>∗</mo><mn>1</mn><mo>=</mo><mn>120</mn></math></mjx-assistive-mml></mjx-container></span></div>\n",
    "<div>&nbsp;</div>\n",
    "<div>\n",
    "<p><span class=\"cg-latex\"><mjx-container class=\"MathJax\" jax=\"SVG\" display=\"true\" style=\"position: relative;\"><svg xmlns=\"http://www.w3.org/2000/svg\" width=\"28.659ex\" height=\"1.805ex\" role=\"img\" focusable=\"false\" viewBox=\"0 -716 12667.3 798\" xmlns:xlink=\"http://www.w3.org/1999/xlink\" aria-hidden=\"true\" style=\"vertical-align: -0.186ex;\"><defs><path id=\"MJX-7-TEX-N-36\" d=\"M42 313Q42 476 123 571T303 666Q372 666 402 630T432 550Q432 525 418 510T379 495Q356 495 341 509T326 548Q326 592 373 601Q351 623 311 626Q240 626 194 566Q147 500 147 364L148 360Q153 366 156 373Q197 433 263 433H267Q313 433 348 414Q372 400 396 374T435 317Q456 268 456 210V192Q456 169 451 149Q440 90 387 34T253 -22Q225 -22 199 -14T143 16T92 75T56 172T42 313ZM257 397Q227 397 205 380T171 335T154 278T148 216Q148 133 160 97T198 39Q222 21 251 21Q302 21 329 59Q342 77 347 104T352 209Q352 289 347 316T329 361Q302 397 257 397Z\"></path><path id=\"MJX-7-TEX-N-21\" d=\"M78 661Q78 682 96 699T138 716T180 700T199 661Q199 654 179 432T158 206Q156 198 139 198Q121 198 119 206Q118 209 98 431T78 661ZM79 61Q79 89 97 105T141 121Q164 119 181 104T198 61Q198 31 181 16T139 1Q114 1 97 16T79 61Z\"></path><path id=\"MJX-7-TEX-N-3D\" d=\"M56 347Q56 360 70 367H707Q722 359 722 347Q722 336 708 328L390 327H72Q56 332 56 347ZM56 153Q56 168 72 173H708Q722 163 722 153Q722 140 707 133H70Q56 140 56 153Z\"></path><path id=\"MJX-7-TEX-N-2217\" d=\"M229 286Q216 420 216 436Q216 454 240 464Q241 464 245 464T251 465Q263 464 273 456T283 436Q283 419 277 356T270 286L328 328Q384 369 389 372T399 375Q412 375 423 365T435 338Q435 325 425 315Q420 312 357 282T289 250L355 219L425 184Q434 175 434 161Q434 146 425 136T401 125Q393 125 383 131T328 171L270 213Q283 79 283 63Q283 53 276 44T250 35Q231 35 224 44T216 63Q216 80 222 143T229 213L171 171Q115 130 110 127Q106 124 100 124Q87 124 76 134T64 161Q64 166 64 169T67 175T72 181T81 188T94 195T113 204T138 215T170 230T210 250L74 315Q65 324 65 338Q65 353 74 363T98 374Q106 374 116 368T171 328L229 286Z\"></path><path id=\"MJX-7-TEX-N-35\" d=\"M164 157Q164 133 148 117T109 101H102Q148 22 224 22Q294 22 326 82Q345 115 345 210Q345 313 318 349Q292 382 260 382H254Q176 382 136 314Q132 307 129 306T114 304Q97 304 95 310Q93 314 93 485V614Q93 664 98 664Q100 666 102 666Q103 666 123 658T178 642T253 634Q324 634 389 662Q397 666 402 666Q410 666 410 648V635Q328 538 205 538Q174 538 149 544L139 546V374Q158 388 169 396T205 412T256 420Q337 420 393 355T449 201Q449 109 385 44T229 -22Q148 -22 99 32T50 154Q50 178 61 192T84 210T107 214Q132 214 148 197T164 157Z\"></path><path id=\"MJX-7-TEX-N-34\" d=\"M462 0Q444 3 333 3Q217 3 199 0H190V46H221Q241 46 248 46T265 48T279 53T286 61Q287 63 287 115V165H28V211L179 442Q332 674 334 675Q336 677 355 677H373L379 671V211H471V165H379V114Q379 73 379 66T385 54Q393 47 442 46H471V0H462ZM293 211V545L74 212L183 211H293Z\"></path><path id=\"MJX-7-TEX-N-33\" d=\"M127 463Q100 463 85 480T69 524Q69 579 117 622T233 665Q268 665 277 664Q351 652 390 611T430 522Q430 470 396 421T302 350L299 348Q299 347 308 345T337 336T375 315Q457 262 457 175Q457 96 395 37T238 -22Q158 -22 100 21T42 130Q42 158 60 175T105 193Q133 193 151 175T169 130Q169 119 166 110T159 94T148 82T136 74T126 70T118 67L114 66Q165 21 238 21Q293 21 321 74Q338 107 338 175V195Q338 290 274 322Q259 328 213 329L171 330L168 332Q166 335 166 348Q166 366 174 366Q202 366 232 371Q266 376 294 413T322 525V533Q322 590 287 612Q265 626 240 626Q208 626 181 615T143 592T132 580H135Q138 579 143 578T153 573T165 566T175 555T183 540T186 520Q186 498 172 481T127 463Z\"></path><path id=\"MJX-7-TEX-N-32\" d=\"M109 429Q82 429 66 447T50 491Q50 562 103 614T235 666Q326 666 387 610T449 465Q449 422 429 383T381 315T301 241Q265 210 201 149L142 93L218 92Q375 92 385 97Q392 99 409 186V189H449V186Q448 183 436 95T421 3V0H50V19V31Q50 38 56 46T86 81Q115 113 136 137Q145 147 170 174T204 211T233 244T261 278T284 308T305 340T320 369T333 401T340 431T343 464Q343 527 309 573T212 619Q179 619 154 602T119 569T109 550Q109 549 114 549Q132 549 151 535T170 489Q170 464 154 447T109 429Z\"></path><path id=\"MJX-7-TEX-N-31\" d=\"M213 578L200 573Q186 568 160 563T102 556H83V602H102Q149 604 189 617T245 641T273 663Q275 666 285 666Q294 666 302 660V361L303 61Q310 54 315 52T339 48T401 46H427V0H416Q395 3 257 3Q121 3 100 0H88V46H114Q136 46 152 46T177 47T193 50T201 52T207 57T213 61V578Z\"></path><path id=\"MJX-7-TEX-N-37\" d=\"M55 458Q56 460 72 567L88 674Q88 676 108 676H128V672Q128 662 143 655T195 646T364 644H485V605L417 512Q408 500 387 472T360 435T339 403T319 367T305 330T292 284T284 230T278 162T275 80Q275 66 275 52T274 28V19Q270 2 255 -10T221 -22Q210 -22 200 -19T179 0T168 40Q168 198 265 368Q285 400 349 489L395 552H302Q128 552 119 546Q113 543 108 522T98 479L95 458V455H55V458Z\"></path><path id=\"MJX-7-TEX-N-30\" d=\"M96 585Q152 666 249 666Q297 666 345 640T423 548Q460 465 460 320Q460 165 417 83Q397 41 362 16T301 -15T250 -22Q224 -22 198 -16T137 16T82 83Q39 165 39 320Q39 494 96 585ZM321 597Q291 629 250 629Q208 629 178 597Q153 571 145 525T137 333Q137 175 145 125T181 46Q209 16 250 16Q290 16 318 46Q347 76 354 130T362 333Q362 478 354 524T321 597Z\"></path></defs><g stroke=\"currentColor\" fill=\"currentColor\" stroke-width=\"0\" transform=\"scale(1,-1)\"><g data-mml-node=\"math\"><g data-mml-node=\"mn\"><use data-c=\"36\" xlink:href=\"#MJX-7-TEX-N-36\"></use></g><g data-mml-node=\"mo\" transform=\"translate(500,0)\"><use data-c=\"21\" xlink:href=\"#MJX-7-TEX-N-21\"></use></g><g data-mml-node=\"mo\" transform=\"translate(1055.8,0)\"><use data-c=\"3D\" xlink:href=\"#MJX-7-TEX-N-3D\"></use></g><g data-mml-node=\"mn\" transform=\"translate(2111.6,0)\"><use data-c=\"36\" xlink:href=\"#MJX-7-TEX-N-36\"></use></g><g data-mml-node=\"mo\" transform=\"translate(2833.8,0)\"><use data-c=\"2217\" xlink:href=\"#MJX-7-TEX-N-2217\"></use></g><g data-mml-node=\"mn\" transform=\"translate(3556,0)\"><use data-c=\"35\" xlink:href=\"#MJX-7-TEX-N-35\"></use></g><g data-mml-node=\"mo\" transform=\"translate(4278.2,0)\"><use data-c=\"2217\" xlink:href=\"#MJX-7-TEX-N-2217\"></use></g><g data-mml-node=\"mn\" transform=\"translate(5000.4,0)\"><use data-c=\"34\" xlink:href=\"#MJX-7-TEX-N-34\"></use></g><g data-mml-node=\"mo\" transform=\"translate(5722.7,0)\"><use data-c=\"2217\" xlink:href=\"#MJX-7-TEX-N-2217\"></use></g><g data-mml-node=\"mn\" transform=\"translate(6444.9,0)\"><use data-c=\"33\" xlink:href=\"#MJX-7-TEX-N-33\"></use></g><g data-mml-node=\"mo\" transform=\"translate(7167.1,0)\"><use data-c=\"2217\" xlink:href=\"#MJX-7-TEX-N-2217\"></use></g><g data-mml-node=\"mn\" transform=\"translate(7889.3,0)\"><use data-c=\"32\" xlink:href=\"#MJX-7-TEX-N-32\"></use></g><g data-mml-node=\"mo\" transform=\"translate(8611.6,0)\"><use data-c=\"2217\" xlink:href=\"#MJX-7-TEX-N-2217\"></use></g><g data-mml-node=\"mn\" transform=\"translate(9333.8,0)\"><use data-c=\"31\" xlink:href=\"#MJX-7-TEX-N-31\"></use></g><g data-mml-node=\"mo\" transform=\"translate(10111.6,0)\"><use data-c=\"3D\" xlink:href=\"#MJX-7-TEX-N-3D\"></use></g><g data-mml-node=\"mn\" transform=\"translate(11167.3,0)\"><use data-c=\"37\" xlink:href=\"#MJX-7-TEX-N-37\"></use><use data-c=\"32\" xlink:href=\"#MJX-7-TEX-N-32\" transform=\"translate(500,0)\"></use><use data-c=\"30\" xlink:href=\"#MJX-7-TEX-N-30\" transform=\"translate(1000,0)\"></use></g></g></g></svg><mjx-assistive-mml unselectable=\"on\" display=\"block\"><math xmlns=\"http://www.w3.org/1998/Math/MathML\" display=\"block\"><mn>6</mn><mo>!</mo><mo>=</mo><mn>6</mn><mo>∗</mo><mn>5</mn><mo>∗</mo><mn>4</mn><mo>∗</mo><mn>3</mn><mo>∗</mo><mn>2</mn><mo>∗</mo><mn>1</mn><mo>=</mo><mn>720</mn></math></mjx-assistive-mml></mjx-container></span></p>\n",
    "<p>etc.</p>\n",
    "</div>\n",
    "<div>The factorial of a number also happens to be the number of ways to arrange a set of items. For example, the possible arrangements of a standard deck of playing cards (containing 52 cards) is 52!. This is a very, very big number.</div>\n",
    "<div>&nbsp;</div>\n",
    "<div>Mathematicians have decided that in a set of 0 items (an empty set) there is only one way to arrange them, therefore:</div>\n",
    "<div>&nbsp;</div>\n",
    "<div><span class=\"cg-latex\"><mjx-container class=\"MathJax\" jax=\"SVG\" display=\"true\" style=\"position: relative;\"><svg xmlns=\"http://www.w3.org/2000/svg\" width=\"5.908ex\" height=\"1.805ex\" role=\"img\" focusable=\"false\" viewBox=\"0 -716 2611.6 798\" xmlns:xlink=\"http://www.w3.org/1999/xlink\" aria-hidden=\"true\" style=\"vertical-align: -0.186ex;\"><defs><path id=\"MJX-8-TEX-N-30\" d=\"M96 585Q152 666 249 666Q297 666 345 640T423 548Q460 465 460 320Q460 165 417 83Q397 41 362 16T301 -15T250 -22Q224 -22 198 -16T137 16T82 83Q39 165 39 320Q39 494 96 585ZM321 597Q291 629 250 629Q208 629 178 597Q153 571 145 525T137 333Q137 175 145 125T181 46Q209 16 250 16Q290 16 318 46Q347 76 354 130T362 333Q362 478 354 524T321 597Z\"></path><path id=\"MJX-8-TEX-N-21\" d=\"M78 661Q78 682 96 699T138 716T180 700T199 661Q199 654 179 432T158 206Q156 198 139 198Q121 198 119 206Q118 209 98 431T78 661ZM79 61Q79 89 97 105T141 121Q164 119 181 104T198 61Q198 31 181 16T139 1Q114 1 97 16T79 61Z\"></path><path id=\"MJX-8-TEX-N-3D\" d=\"M56 347Q56 360 70 367H707Q722 359 722 347Q722 336 708 328L390 327H72Q56 332 56 347ZM56 153Q56 168 72 173H708Q722 163 722 153Q722 140 707 133H70Q56 140 56 153Z\"></path><path id=\"MJX-8-TEX-N-31\" d=\"M213 578L200 573Q186 568 160 563T102 556H83V602H102Q149 604 189 617T245 641T273 663Q275 666 285 666Q294 666 302 660V361L303 61Q310 54 315 52T339 48T401 46H427V0H416Q395 3 257 3Q121 3 100 0H88V46H114Q136 46 152 46T177 47T193 50T201 52T207 57T213 61V578Z\"></path></defs><g stroke=\"currentColor\" fill=\"currentColor\" stroke-width=\"0\" transform=\"scale(1,-1)\"><g data-mml-node=\"math\"><g data-mml-node=\"mn\"><use data-c=\"30\" xlink:href=\"#MJX-8-TEX-N-30\"></use></g><g data-mml-node=\"mo\" transform=\"translate(500,0)\"><use data-c=\"21\" xlink:href=\"#MJX-8-TEX-N-21\"></use></g><g data-mml-node=\"mo\" transform=\"translate(1055.8,0)\"><use data-c=\"3D\" xlink:href=\"#MJX-8-TEX-N-3D\"></use></g><g data-mml-node=\"mn\" transform=\"translate(2111.6,0)\"><use data-c=\"31\" xlink:href=\"#MJX-8-TEX-N-31\"></use></g></g></g></svg><mjx-assistive-mml unselectable=\"on\" display=\"block\"><math xmlns=\"http://www.w3.org/1998/Math/MathML\" display=\"block\"><mn>0</mn><mo>!</mo><mo>=</mo><mn>1</mn></math></mjx-assistive-mml></mjx-container></span></div>\n",
    "<div>&nbsp;</div>\n",
    "<div>For the purposes of this challenge, factorials are only defined for positive integers (including 0). If an input is not a positive integer or 0, you should return None.</div>\n",
    "<div>&nbsp;</div>\n",
    "<div><strong>Your task<br></strong>Write a function called <code>factorial</code> that returns the factorial of a number passed in.</div>\n",
    "<h3><strong>Parameters</strong></h3>\n",
    "<p><code><strong>num</strong></code>: 0 or a positive integer that your function should find the factorial of. If it's not one of these, you should return None.</p>\n",
    "<h3>Result</h3>\n",
    "<p>The factorial of that number</p>\n",
    "<h3><strong>Constraints</strong></h3>\n",
    "<ul>\n",
    "<li>If an input is not a positive whole number, make sure that your function returns <code>None</code>.</li>\n",
    "</ul>\n",
    "<h3><strong>Example 1</strong></h3>\n",
    "<div>Input: <code>5</code></div>\n",
    "<div>Result: <code>120</code></div>\n",
    "<h3><strong>Example 2</strong></h3>\n",
    "<div>\n",
    "<div>Input: <code>6</code></div>\n",
    "<div>Result: <code>720</code></div>\n",
    "</div>\n",
    "<h3><strong>Example 3</strong></h3>\n",
    "<div>\n",
    "<div>Input: <code>spam spam spam</code></div>\n",
    "<div>Result: <code>None</code></div>\n",
    "</div>\n",
    "<h3>Want a hint?</h3>\n",
    "<div>Check out the <a rel=\"noopener noreferrer\" href=\"https://github.com/LinkedInLearning/python-ET-4314028/blob/main/exercise_files/02_08_Challenge_Hints.ipynb\" target=\"_blank\">Jupyter Notebook hints file</a> for this challenge.</div>\n",
    "<div>&nbsp;</div></div>\n",
    "\n",
    "\n",
    "\n",
    "\n"
   ]
  },
  {
   "cell_type": "code",
   "execution_count": 84,
   "id": "0721da27-9613-4cbc-a851-5d2fb4902a95",
   "metadata": {},
   "outputs": [
    {
     "name": "stdout",
     "output_type": "stream",
     "text": [
      "120\n"
     ]
    }
   ],
   "source": [
    "def factorial(num):\n",
    "        x = 1\n",
    "        y = 1\n",
    "        while x <= num:\n",
    "            y = y * x\n",
    "            x += 1\n",
    "        print(y)        \n",
    "\n",
    "factorial(5)"
   ]
  },
  {
   "cell_type": "code",
   "execution_count": 85,
   "id": "12094128-1d92-444e-ba8b-59b15b531427",
   "metadata": {},
   "outputs": [
    {
     "data": {
      "text/plain": [
       "120"
      ]
     },
     "execution_count": 85,
     "metadata": {},
     "output_type": "execute_result"
    }
   ],
   "source": [
    "def factorial(num):\n",
    "    if not isinstance(num,int) or num <0:\n",
    "       print('not valid')\n",
    "    elif num == 0:\n",
    "       return(1)   \n",
    "    else:\n",
    "        x = 1\n",
    "        y = 1\n",
    "        while x <= num:\n",
    "            y = y * x\n",
    "            x += 1\n",
    "        return(y)        \n",
    "\n",
    "factorial(5)"
   ]
  },
  {
   "cell_type": "code",
   "execution_count": 89,
   "id": "9574ff07-66d8-45c6-911b-be02e30983fa",
   "metadata": {},
   "outputs": [
    {
     "name": "stdout",
     "output_type": "stream",
     "text": [
      "not valid\n"
     ]
    }
   ],
   "source": [
    "def factorial(num):\n",
    "    if type(num) != int or num <0:\n",
    "       print('not valid')\n",
    "    elif num == 0:\n",
    "       return(1)   \n",
    "    else:\n",
    "        x = 1\n",
    "        y = 1\n",
    "        while x <= num:\n",
    "            y = y * x\n",
    "            x += 1\n",
    "        return(y)        \n",
    "\n",
    "factorial(-1)"
   ]
  },
  {
   "cell_type": "code",
   "execution_count": null,
   "id": "7c413642-1ddf-4c22-afdf-5fa32946ed5e",
   "metadata": {},
   "outputs": [],
   "source": []
  },
  {
   "cell_type": "code",
   "execution_count": null,
   "id": "0fc812b6-e902-4e85-a292-ae42f1d01496",
   "metadata": {},
   "outputs": [],
   "source": []
  }
 ],
 "metadata": {
  "kernelspec": {
   "display_name": "Python 3 (ipykernel)",
   "language": "python",
   "name": "python3"
  },
  "language_info": {
   "codemirror_mode": {
    "name": "ipython",
    "version": 3
   },
   "file_extension": ".py",
   "mimetype": "text/x-python",
   "name": "python",
   "nbconvert_exporter": "python",
   "pygments_lexer": "ipython3",
   "version": "3.13.1"
  }
 },
 "nbformat": 4,
 "nbformat_minor": 5
}
