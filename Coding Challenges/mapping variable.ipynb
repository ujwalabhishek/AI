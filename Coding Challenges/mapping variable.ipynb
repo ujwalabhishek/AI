{
 "cells": [
  {
   "attachments": {
    "6ff14f91-d300-4bbc-a021-4b04dac414bb.jpg": {
     "image/jpeg": "[encoded data removed]"
    }
   },
   "cell_type": "markdown",
   "id": "503fa620-4758-4262-b1de-4f25ac099e56",
   "metadata": {},
   "source": [
    "You're given two lists, the first of which contains the name of some people and the second contains their corresponding 'response'. These lists have been converted to a dataframe.\n",
    "Now, the values that the 'response' variable can take are ‘Yes’, ‘No’, and ‘Maybe’. Write a code to map these variables to the values ‘1.0’, ‘0.0’, and ‘0.5’.\n",
    "\n",
    "Note: It also might happen the the first letter of the three responses are not in uppercase, i.e. you might also have the values 'yes', 'no', and 'maybe' in the dataframe. So make sure you handle that in your code.\n",
    "\n",
    "Example:\n",
    "Input 1:\n",
    "['Reetesh', 'Shruti', 'Kaustubh', 'Vikas', 'Mahima', 'Akshay']\n",
    "['No', 'Maybe', 'yes', 'Yes', 'maybe', 'Yes']\n",
    "\n",
    "Output 1:\n",
    "![1.jpg](attachment:6ff14f91-d300-4bbc-a021-4b04dac414bb.jpg)\n"
   ]
  },
  {
   "cell_type": "code",
   "execution_count": 13,
   "id": "e6ddbc06-41f0-46df-9d35-1541c26d7377",
   "metadata": {},
   "outputs": [
    {
     "data": {
      "text/html": [
       "<div>\n",
       "<style scoped>\n",
       "    .dataframe tbody tr th:only-of-type {\n",
       "        vertical-align: middle;\n",
       "    }\n",
       "\n",
       "    .dataframe tbody tr th {\n",
       "        vertical-align: top;\n",
       "    }\n",
       "\n",
       "    .dataframe thead th {\n",
       "        text-align: right;\n",
       "    }\n",
       "</style>\n",
       "<table border=\"1\" class=\"dataframe\">\n",
       "  <thead>\n",
       "    <tr style=\"text-align: right;\">\n",
       "      <th></th>\n",
       "      <th>Name</th>\n",
       "      <th>Response</th>\n",
       "    </tr>\n",
       "  </thead>\n",
       "  <tbody>\n",
       "    <tr>\n",
       "      <th>0</th>\n",
       "      <td>Thulasi</td>\n",
       "      <td>1.0</td>\n",
       "    </tr>\n",
       "    <tr>\n",
       "      <th>1</th>\n",
       "      <td>Aditi</td>\n",
       "      <td>0.5</td>\n",
       "    </tr>\n",
       "    <tr>\n",
       "      <th>2</th>\n",
       "      <td>Jaideep</td>\n",
       "      <td>0.0</td>\n",
       "    </tr>\n",
       "    <tr>\n",
       "      <th>3</th>\n",
       "      <td>Kshitij</td>\n",
       "      <td>0.0</td>\n",
       "    </tr>\n",
       "    <tr>\n",
       "      <th>4</th>\n",
       "      <td>Rohit</td>\n",
       "      <td>0.5</td>\n",
       "    </tr>\n",
       "  </tbody>\n",
       "</table>\n",
       "</div>"
      ],
      "text/plain": [
       "      Name  Response\n",
       "0  Thulasi       1.0\n",
       "1    Aditi       0.5\n",
       "2  Jaideep       0.0\n",
       "3  Kshitij       0.0\n",
       "4    Rohit       0.5"
      ]
     },
     "execution_count": 13,
     "metadata": {},
     "output_type": "execute_result"
    }
   ],
   "source": [
    "inputlist = [['Thulasi', 'Aditi', 'Jaideep', 'Kshitij', 'Rohit', 'Sahil', 'Siddhartha'], ['Yes', 'Maybe', 'no', 'No', 'maybe', 'yes', 'Yes']]\n",
    "name = inputlist[0]\n",
    "response = inputlist[1]\n",
    "import pandas as pd \n",
    "df = pd.DataFrame({'Name': name,'Response': response})\n",
    "\n",
    "df['Response'] = df['Response'].map({'Yes': 1,'yes':1, 'No':0,'no':0,'maybe':0.5, 'Maybe':0.5})\n",
    "df.head()"
   ]
  },
  {
   "cell_type": "code",
   "execution_count": null,
   "id": "24227fa2-661b-4370-aa14-8d1578b46dc9",
   "metadata": {},
   "outputs": [],
   "source": []
  },
  {
   "cell_type": "markdown",
   "id": "7dd4d5f2-866e-421c-af56-f5ea7b52ed8d",
   "metadata": {},
   "source": [
    "✅ Best Practice:\n",
    "* When working with a single column (Series): use `.map()` directly.\n",
    "\n",
    "* When working with multiple columns (DataFrame): use `.apply(lambda x: x.map(...)).`\n",
    "\n",
    "Let me know if you want a version that handles mixed-case or missing values too."
   ]
  },
  {
   "cell_type": "code",
   "execution_count": null,
   "id": "0f81fec7-24fe-4e1f-bee3-6fca482f366c",
   "metadata": {},
   "outputs": [],
   "source": []
  }
 ],
 "metadata": {
  "kernelspec": {
   "display_name": "Python 3 (ipykernel)",
   "language": "python",
   "name": "python3"
  },
  "language_info": {
   "codemirror_mode": {
    "name": "ipython",
    "version": 3
   },
   "file_extension": ".py",
   "mimetype": "text/x-python",
   "name": "python",
   "nbconvert_exporter": "python",
   "pygments_lexer": "ipython3",
   "version": "3.13.1"
  }
 },
 "nbformat": 4,
 "nbformat_minor": 5
}
