{
 "cells": [
  {
   "cell_type": "markdown",
   "id": "010c42d8-f638-40d3-9cfc-1bf927a5d12c",
   "metadata": {},
   "source": [
    "How will you extract Python from the nested list\n",
    "\n",
    "> input_list =  [['SAS','R'],['Tableau','SQL'],['Python','Java']] "
   ]
  },
  {
   "cell_type": "code",
   "execution_count": 1,
   "id": "b15d706c-a69c-4b16-baf2-93852cc1284a",
   "metadata": {},
   "outputs": [],
   "source": [
    "input_list = [['SAS','R'],['Tableau','SQL'],['Python','Java']]"
   ]
  },
  {
   "cell_type": "code",
   "execution_count": 2,
   "id": "17eba3a4-ed55-40ed-904d-0009643b37d8",
   "metadata": {},
   "outputs": [
    {
     "data": {
      "text/plain": [
       "'Python'"
      ]
     },
     "execution_count": 2,
     "metadata": {},
     "output_type": "execute_result"
    }
   ],
   "source": [
    "input_list[2][0]"
   ]
  },
  {
   "cell_type": "code",
   "execution_count": null,
   "id": "8907d21c-8c3b-42e9-a2cf-0c9d7c45ab6e",
   "metadata": {},
   "outputs": [],
   "source": []
  }
 ],
 "metadata": {
  "kernelspec": {
   "display_name": "Python 3 (ipykernel)",
   "language": "python",
   "name": "python3"
  },
  "language_info": {
   "codemirror_mode": {
    "name": "ipython",
    "version": 3
   },
   "file_extension": ".py",
   "mimetype": "text/x-python",
   "name": "python",
   "nbconvert_exporter": "python",
   "pygments_lexer": "ipython3",
   "version": "3.13.1"
  }
 },
 "nbformat": 4,
 "nbformat_minor": 5
}
