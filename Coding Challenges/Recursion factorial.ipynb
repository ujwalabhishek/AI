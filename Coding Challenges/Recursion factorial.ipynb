{
 "cells": [
  {
   "cell_type": "code",
   "execution_count": 30,
   "id": "8e481db1-76a0-45fc-96fa-10c32fcb4ce1",
   "metadata": {},
   "outputs": [
    {
     "data": {
      "text/plain": [
       "120"
      ]
     },
     "execution_count": 30,
     "metadata": {},
     "output_type": "execute_result"
    }
   ],
   "source": [
    "# Factorial Using Recursion\n",
    "def factorial(num = None):\n",
    "    if type(num) !=int  or num < 0:\n",
    "        print(\"Invalid input\")\n",
    "        return None\n",
    "    if num == 0:\n",
    "       return(1)\n",
    "        \n",
    "    return num * factorial(num-1)\n",
    "\n",
    "factorial(5)\n",
    "\n",
    "\n",
    "#how it works \n",
    "\n",
    "#step1: \n",
    "#factorial(5) => 5*factorial(4)\n",
    "#             => 5 * 4 * factorial(3)\n",
    "#             => 5 * 4 * 3* factorial(2)\n",
    "#             => 5 * 4 * 3 * 2 factorial(1)\n",
    "#             => 5 * 4 * 3 * 2 * 1 = 120\n",
    "#             => 120"
   ]
  },
  {
   "cell_type": "code",
   "execution_count": null,
   "id": "56b8c4ca-5729-4099-b603-e9fa7ea8758b",
   "metadata": {},
   "outputs": [],
   "source": []
  }
 ],
 "metadata": {
  "kernelspec": {
   "display_name": "Python 3 (ipykernel)",
   "language": "python",
   "name": "python3"
  },
  "language_info": {
   "codemirror_mode": {
    "name": "ipython",
    "version": 3
   },
   "file_extension": ".py",
   "mimetype": "text/x-python",
   "name": "python",
   "nbconvert_exporter": "python",
   "pygments_lexer": "ipython3",
   "version": "3.13.1"
  }
 },
 "nbformat": 4,
 "nbformat_minor": 5
}
