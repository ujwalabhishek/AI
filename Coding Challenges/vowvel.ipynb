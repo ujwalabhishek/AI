{
 "cells": [
  {
   "cell_type": "markdown",
   "id": "18cf64a2-b3e7-4d29-b175-ae6c832b759e",
   "metadata": {},
   "source": [
    "Instruction\n",
    "\n",
    "Write a program to accept a string from the user, delete all vowels from the string and display the result. \n",
    "\n",
    "\n",
    "\n",
    "----------------------------------------------------------------------\n",
    "\n",
    "Input:\n",
    "\n",
    "A string\n",
    "\n",
    "\n",
    "\n",
    "Output:\n",
    "\n",
    "A string with vowels removed\n",
    "\n",
    "\n",
    "\n",
    "----------------------------------------------------------------------\n",
    "\n",
    "Sample input:\n",
    "\n",
    "Upgrad\n",
    "\n",
    "\n",
    "\n",
    "Sample output:\n",
    "\n",
    "pgrd\n",
    "\n",
    "\n",
    "\n",
    "----------------------------------------------------------------------\n",
    "\n",
    "Sample input:\n",
    "\n",
    "Python Programming\n",
    "\n",
    "\n",
    "\n",
    "Sample output:\n",
    "\n",
    "Pythn Prgrmmng"
   ]
  },
  {
   "cell_type": "code",
   "execution_count": null,
   "id": "fa48104a-fcaa-4d84-a28c-ee10b9471ca1",
   "metadata": {},
   "outputs": [],
   "source": []
  }
 ],
 "metadata": {
  "kernelspec": {
   "display_name": "Python 3 (ipykernel)",
   "language": "python",
   "name": "python3"
  },
  "language_info": {
   "codemirror_mode": {
    "name": "ipython",
    "version": 3
   },
   "file_extension": ".py",
   "mimetype": "text/x-python",
   "name": "python",
   "nbconvert_exporter": "python",
   "pygments_lexer": "ipython3",
   "version": "3.13.1"
  }
 },
 "nbformat": 4,
 "nbformat_minor": 5
}
