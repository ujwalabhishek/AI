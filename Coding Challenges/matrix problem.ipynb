{
 "cells": [
  {
   "cell_type": "markdown",
   "id": "b3e55f13-3db7-4d85-9765-49c18f6ae37b",
   "metadata": {},
   "source": [
    "Create a fenced matrix for user using given shape where all corner elements are 1 rest all 0\n",
    "[[1 1 1 1], [1 0 0 1], [1 1 1 1]]\n",
    "\n",
    "#no of rows\n",
    "\n",
    "#no. of columns\n",
    "\n",
    "output:\n",
    "\n",
    "    array([[1, 1, 1, 1],\n",
    "    \n",
    "           [1, 0, 0, 1],\n",
    "           \n",
    "           [1, 0, 0, 1],\n",
    "           \n",
    "           [1, 1, 1, 1]])"
   ]
  },
  {
   "cell_type": "code",
   "execution_count": null,
   "id": "d24afe9b-1a1c-4026-b332-dbab3ce692ec",
   "metadata": {},
   "outputs": [],
   "source": []
  },
  {
   "cell_type": "code",
   "execution_count": null,
   "id": "339a52c0-9ad9-487e-9347-8c8722317cc9",
   "metadata": {},
   "outputs": [],
   "source": []
  }
 ],
 "metadata": {
  "kernelspec": {
   "display_name": "Python 3 (ipykernel)",
   "language": "python",
   "name": "python3"
  },
  "language_info": {
   "codemirror_mode": {
    "name": "ipython",
    "version": 3
   },
   "file_extension": ".py",
   "mimetype": "text/x-python",
   "name": "python",
   "nbconvert_exporter": "python",
   "pygments_lexer": "ipython3",
   "version": "3.13.1"
  }
 },
 "nbformat": 4,
 "nbformat_minor": 5
}
