{
 "cells": [
  {
   "cell_type": "markdown",
   "id": "fae64f33-8835-4742-a109-6cfff2e4df1a",
   "metadata": {},
   "source": [
    "## String Problem\n",
    "\n",
    "In a certain encrypted message which has information about the location(area, city), the characters are jumbled such that first character of the first word is followed by the first character of the second word, then it is followed by second character of the first word and so on\n",
    "\n",
    "\n",
    "\n",
    "In other words, let’s say the location is bandra,mumbai\n",
    "\n",
    "\n",
    "\n",
    "The encrypted message says ‘bmaunmdbraai’.\n",
    "\n",
    "\n",
    "\n",
    "Sample Input:\n",
    "\n",
    "bmaunmdbraai\n",
    "\n",
    "\n",
    "\n",
    "Sample Output:\n",
    "\n",
    "bandra,mumbai\n",
    "\n",
    "\n",
    "\n",
    "Let’s say the size or length of the two words wouldn’t match then the smaller word is appended with # and then encrypted in the above format.\n",
    "\n",
    "\n",
    "\n",
    "With this in mind write a code to identify the right location and print it as place,city."
   ]
  },
  {
   "cell_type": "code",
   "execution_count": null,
   "id": "1816c507-fe75-442e-9b3c-343c82cd3c4c",
   "metadata": {},
   "outputs": [],
   "source": []
  }
 ],
 "metadata": {
  "kernelspec": {
   "display_name": "Python 3 (ipykernel)",
   "language": "python",
   "name": "python3"
  },
  "language_info": {
   "codemirror_mode": {
    "name": "ipython",
    "version": 3
   },
   "file_extension": ".py",
   "mimetype": "text/x-python",
   "name": "python",
   "nbconvert_exporter": "python",
   "pygments_lexer": "ipython3",
   "version": "3.13.1"
  }
 },
 "nbformat": 4,
 "nbformat_minor": 5
}
