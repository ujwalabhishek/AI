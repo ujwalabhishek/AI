{
 "cells": [
  {
   "cell_type": "markdown",
   "id": "326cb8c9-2379-4bd3-8b74-26bfeba4e607",
   "metadata": {},
   "source": [
    "## Sum of digits\n",
    "\n",
    "Write a program to calculate the sum of the digits of a given number \n",
    "\n",
    "\n",
    "\n",
    "----------------------------------------------------------------------\n",
    "\n",
    "Input:\n",
    "\n",
    "An n digit number\n",
    "\n",
    "\n",
    "\n",
    "Output:\n",
    "\n",
    "Sum of the digits\n",
    "\n",
    "\n",
    "\n",
    "----------------------------------------------------------------------\n",
    "\n",
    "Sample input:\n",
    "\n",
    "983\n",
    "\n",
    "\n",
    "\n",
    "Sample output:\n",
    "\n",
    "20\n",
    "\n",
    "\n",
    "\n",
    "----------------------------------------------------------------------\n",
    "\n",
    "Sample input:\n",
    "\n",
    "5241\n",
    "\n",
    "\n",
    "\n",
    "Sample output:\n",
    "\n",
    "12"
   ]
  },
  {
   "cell_type": "code",
   "execution_count": null,
   "id": "544229d0-438f-424a-9835-19f5f46b0bca",
   "metadata": {},
   "outputs": [],
   "source": [
    "#Take input\n",
    "n=int(input())\n",
    "\n",
    "#Creating a variable sum that will store the sum of the digits\n",
    "sum=0\n",
    "\n",
    "while (n>0):\n",
    "    # n%10 gives the reminder value(=digit)\n",
    "    sum=sum+n%10\n",
    "    \n",
    "    # Updating the value of n by dividing it by 10 inorder to get the next digit during next iteration\n",
    "    n=n//10\n",
    "\n",
    "#Print the result\n",
    "print(sum)"
   ]
  }
 ],
 "metadata": {
  "kernelspec": {
   "display_name": "Python 3 (ipykernel)",
   "language": "python",
   "name": "python3"
  },
  "language_info": {
   "codemirror_mode": {
    "name": "ipython",
    "version": 3
   },
   "file_extension": ".py",
   "mimetype": "text/x-python",
   "name": "python",
   "nbconvert_exporter": "python",
   "pygments_lexer": "ipython3",
   "version": "3.13.1"
  }
 },
 "nbformat": 4,
 "nbformat_minor": 5
}
