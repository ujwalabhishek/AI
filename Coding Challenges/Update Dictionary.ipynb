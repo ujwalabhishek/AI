{
 "cells": [
  {
   "cell_type": "markdown",
   "id": "67541718-1257-4a84-a241-6b080ebe5b61",
   "metadata": {},
   "source": [
    "Update Dictionary\n",
    "You are provided with a dictionary containing the names of different football clubs as keys and the name of the main player of the corresponding team as values. When the main player of a team retires, one of their teammates steps up to fill in their role as the main player. \n",
    "\n",
    "\n",
    "\n",
    "You’re also provided with a list which contains the names of the football clubs for which the current main players are retiring and the names of the corresponding new main player. Your task is to update the values in the original dictionary with the names of the new main players.\n",
    "\n",
    "\n",
    "\n",
    "------------------------------------------------------------------------------------------------------\n",
    "\n",
    "\n",
    "\n",
    "Input - The input consists of a dictionary with different football clubs' names and their main player. In the next line, you will be provided with a list of the new players who have taken up the main roles.\n",
    "\n",
    "\n",
    "\n",
    "Output - Dictionary\n",
    "\n",
    "\n",
    "\n",
    "---------------------------------------------------------------------------------------------------\n",
    "\n",
    "\n",
    "\n",
    "Sample Input :\n",
    "\n",
    "{Barcelona:’Messi’ , ‘Real Madrid’: ‘Benzema’, ‘PSG’: ‘Neymar’ }\n",
    "\n",
    " [[‘Barcelona’, ‘Griezmann’], [‘PSG’, ‘Ramos’]]\n",
    "\n",
    "\n",
    "\n",
    "Sample Output: {Barcelona:‘Griezmann’, ‘Real Madrid’: ‘Benzema’, ‘PSG’: ‘Ramos’}\n",
    "\n",
    "\n",
    "\n",
    "---------------------------------------------------------------------------------------------------\n",
    "\n",
    "\n",
    "\n",
    "Sample Input: \n",
    "\n",
    "{Liverpool:’A’, ‘Real Madrid’: ‘B’, ‘Chelsea’: ‘C’ }\n",
    "\n",
    " [[Liverpool, ‘R’]]\n",
    "\n",
    "\n",
    "\n",
    "Sample Output: {Liverpool:’R’, ‘Real Madrid’: ‘B’, ‘Chelsea’: ‘C’ }\n",
    "\n",
    "\n",
    "\n",
    "\n",
    "\n",
    "---------------------------------------------------------------------------------------------------\n",
    "\n",
    "\n",
    "\n",
    "Sample Input :\n",
    "\n",
    " {Atletico Madrid : ’D’ , ‘Juventus’: ‘B’, ‘Chelsea’: ‘C’ }\n",
    "\n",
    "[[‘Juventus’, ‘G’], [‘Chelsea’, ‘H’]]\n",
    "\n",
    "\n",
    "\n",
    "Sample Output: {Atletico Madrid : ’D’, ‘Juventus’: ‘G’, ‘Chelsea’: ‘H’ }"
   ]
  },
  {
   "cell_type": "code",
   "execution_count": 1,
   "id": "e8abdad7-1f1a-434e-9fa4-54c5ef1c6c1b",
   "metadata": {},
   "outputs": [
    {
     "name": "stdin",
     "output_type": "stream",
     "text": [
      " {Atletico Madrid : ’D’ , ‘Juventus’: ‘B’, ‘Chelsea’: ‘C’ }\n"
     ]
    },
    {
     "ename": "SyntaxError",
     "evalue": "invalid character '’' (U+2019) (<unknown>, line 1)",
     "output_type": "error",
     "traceback": [
      "Traceback \u001b[1;36m(most recent call last)\u001b[0m:\n",
      "\u001b[0m  File \u001b[0;32m~\\AppData\\Roaming\\Python\\Python313\\site-packages\\IPython\\core\\interactiveshell.py:3579\u001b[0m in \u001b[0;35mrun_code\u001b[0m\n    exec(code_obj, self.user_global_ns, self.user_ns)\u001b[0m\n",
      "\u001b[0m  Cell \u001b[0;32mIn[1], line 6\u001b[0m\n    convert_dictionary = ast.literal_eval(input_dictionary)\u001b[0m\n",
      "\u001b[0m  File \u001b[0;32mC:\\Python313\\Lib\\ast.py:68\u001b[0m in \u001b[0;35mliteral_eval\u001b[0m\n    node_or_string = parse(node_or_string.lstrip(\" \\t\"), mode='eval')\u001b[0m\n",
      "\u001b[1;36m  File \u001b[1;32mC:\\Python313\\Lib\\ast.py:54\u001b[1;36m in \u001b[1;35mparse\u001b[1;36m\n\u001b[1;33m    return compile(source, filename, mode, flags,\u001b[1;36m\n",
      "\u001b[1;36m  File \u001b[1;32m<unknown>:1\u001b[1;36m\u001b[0m\n\u001b[1;33m    {Atletico Madrid : ’D’ , ‘Juventus’: ‘B’, ‘Chelsea’: ‘C’ }\u001b[0m\n\u001b[1;37m                       ^\u001b[0m\n\u001b[1;31mSyntaxError\u001b[0m\u001b[1;31m:\u001b[0m invalid character '’' (U+2019)\n"
     ]
    }
   ],
   "source": [
    "#Take input here\n",
    "#we will take input using ast sys\n",
    "import ast\n",
    "#reading the input dictionary\n",
    "input_dictionary = input()\n",
    "convert_dictionary = ast.literal_eval(input_dictionary)\n",
    "\n",
    "#reading the input list\n",
    "input_list = input()\n",
    "convert_list = ast.literal_eval(input_list)\n",
    "\n",
    "#Write code here\n",
    "\n",
    "for i,j in convert_list:\n",
    "    if i in convert_dictionary:\n",
    "        convert_dictionary[i]=j\n",
    "\n",
    "print(convert_dictionary)"
   ]
  },
  {
   "cell_type": "code",
   "execution_count": null,
   "id": "abccfbbf-2ca1-417c-86f3-41872a6ec6aa",
   "metadata": {},
   "outputs": [],
   "source": []
  }
 ],
 "metadata": {
  "kernelspec": {
   "display_name": "Python 3 (ipykernel)",
   "language": "python",
   "name": "python3"
  },
  "language_info": {
   "codemirror_mode": {
    "name": "ipython",
    "version": 3
   },
   "file_extension": ".py",
   "mimetype": "text/x-python",
   "name": "python",
   "nbconvert_exporter": "python",
   "pygments_lexer": "ipython3",
   "version": "3.13.1"
  }
 },
 "nbformat": 4,
 "nbformat_minor": 5
}
