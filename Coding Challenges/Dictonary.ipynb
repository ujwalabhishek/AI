{
 "cells": [
  {
   "cell_type": "markdown",
   "id": "f9919753-d9d6-4781-8785-19fba35ae2df",
   "metadata": {},
   "source": [
    "Write code to fetch the profession of the employee with Employee ID - 104 from an employee input given in the form of a dictionary where the key represents the employee ID and values represent the name, age, and profession (in the same order).\n",
    "\n",
    "\n",
    "\n",
    "Sample input:\n",
    "\n",
    "Employee_data = { 101:['Shiva', 24, 'Content Strategist'] ,102:['Udit',25,'Content Strategist'], 103:['Sonam', 28,'Sr Manager'], 104:['Ansari',29,'Product Lead' ],105:['Huzefa',32,'Project Manager' ]}\n",
    "\n",
    "\n",
    "Sample output:\n",
    "\n",
    "'Product Lead'\n",
    "\n",
    "\n",
    "Note: Assume that employee data would be available in the data provided to you"
   ]
  },
  {
   "cell_type": "code",
   "execution_count": 1,
   "id": "5b1984c4-947b-4ddb-b90f-30ac0915b0fb",
   "metadata": {},
   "outputs": [
    {
     "name": "stdout",
     "output_type": "stream",
     "text": [
      "Content Strategist\n"
     ]
    }
   ],
   "source": [
    "\n",
    "input_dict = { 102:['Shiva', 24, 'Content Strategist'],104:['Udit',25,'Content Strategist'], 105:['Huzefa',32,'Project Manager' ]}\n",
    "\n",
    "#Type you answer here\n",
    "profession = input_dict[104][2]\n",
    "print(profession)\n"
   ]
  },
  {
   "cell_type": "markdown",
   "id": "911c9134-1289-4714-ac8a-629d2dc89f7e",
   "metadata": {},
   "source": [
    "Create a SORTED list of all values from the dictionary input_dict = {'Jack Dorsey' : 'Twitter' , 'Tim Cook' : 'Apple','Jeff Bezos' : 'Amazon' ,'Mukesh Ambani' : 'RJIO'}\n",
    "\n",
    "\n",
    "\n",
    "Sample Input:\n",
    "\n",
    "{'Jack Dorsey' : 'Twitter' , 'Tim Cook' : 'Apple','Jeff Bezos' : 'Amazon' ,'Mukesh Ambani' : 'RJIO'}\n",
    "\n",
    "\n",
    "Sample Output:\n",
    "\n",
    "﻿['Amazon', 'Apple', 'RJIO', 'Twitter']"
   ]
  },
  {
   "cell_type": "code",
   "execution_count": 5,
   "id": "4535a596-cfa8-4f8e-a319-65299ec28519",
   "metadata": {},
   "outputs": [
    {
     "data": {
      "text/plain": [
       "['Amazon', 'Apple', 'RJIO', 'Twitter']"
      ]
     },
     "execution_count": 5,
     "metadata": {},
     "output_type": "execute_result"
    }
   ],
   "source": [
    "input_dict = {'Jack Dorsey' : 'Twitter' , 'Tim Cook' : 'Apple','Jeff Bezos' : 'Amazon' ,'Mukesh Ambani' : 'RJIO'}\n",
    "sorted(input_dict.values())"
   ]
  },
  {
   "cell_type": "code",
   "execution_count": null,
   "id": "116250c0-2992-4d72-8c94-ae19a0edeeaa",
   "metadata": {},
   "outputs": [],
   "source": []
  }
 ],
 "metadata": {
  "kernelspec": {
   "display_name": "Python 3 (ipykernel)",
   "language": "python",
   "name": "python3"
  },
  "language_info": {
   "codemirror_mode": {
    "name": "ipython",
    "version": 3
   },
   "file_extension": ".py",
   "mimetype": "text/x-python",
   "name": "python",
   "nbconvert_exporter": "python",
   "pygments_lexer": "ipython3",
   "version": "3.13.1"
  }
 },
 "nbformat": 4,
 "nbformat_minor": 5
}
