{
 "cells": [
  {
   "cell_type": "markdown",
   "id": "20295d04-7b6f-42cf-b072-2596fee683f0",
   "metadata": {},
   "source": [
    "## String Manipulation\n",
    "\n",
    "\n",
    "Write a program that takes a string as the input and does the following:\n",
    "\n",
    "    -Removes the numbers, special characters\n",
    "\n",
    "    -Converts uppercase letters to lowercase letters, and vice versa \n",
    "\n",
    "    \n",
    "\n",
    "----------------------------------------------------------------------\n",
    "\n",
    "Input:\n",
    "\n",
    "A string \n",
    "\n",
    "\n",
    "\n",
    "Output:\n",
    "\n",
    "A string with numbers, special characters removed, upper and lower cases swapped\n",
    "\n",
    "\n",
    "\n",
    "----------------------------------------------------------------------\n",
    "\n",
    "Sample input:\n",
    "\n",
    "Programming1234\n",
    "\n",
    "\n",
    "\n",
    "Sample output:\n",
    "\n",
    "pROGRAMMING\n",
    "\n",
    "\n",
    "\n",
    "\n",
    "\n",
    "----------------------------------------------------------------------\n",
    "\n",
    " Sample input:\n",
    "\n",
    " Programming is 100% fun\n",
    "\n",
    "\n",
    "\n",
    "\n",
    "\n",
    "Sample output:\n",
    "\n",
    "pROGRAMMINGISFUN\n"
   ]
  },
  {
   "cell_type": "code",
   "execution_count": 2,
   "id": "7392c934-3fd6-468d-b3a6-942f48b0b886",
   "metadata": {},
   "outputs": [
    {
     "name": "stdin",
     "output_type": "stream",
     "text": [
      " Hello There my nam,e ioa ujdwal as988912374bhishe\n"
     ]
    },
    {
     "name": "stdout",
     "output_type": "stream",
     "text": [
      "hELLOtHEREMYNAMEIOAUJDWALASBHISHE\n"
     ]
    }
   ],
   "source": [
    "#Take input\n",
    "input_string=input()\n",
    "\n",
    "#Initialising an empty string that will store the modified resultant string\n",
    "new_str=''\n",
    "\n",
    "# looping through the input_string where 'c' is each character of the string\n",
    "for c in input_string:\n",
    "\n",
    "    # if the character 'c' is an alphabet, implement the code following otherwise skip that character and go for next iteration\n",
    "    if (c.isalpha()):\n",
    "        \n",
    "        # if the character 'c' is an uppercase, convert it into lowercase otherwise convert the character into uppercase\n",
    "        if c.isupper():\n",
    "            new_str=new_str+c.lower()\n",
    "        else:\n",
    "            new_str=new_str+c.upper()\n",
    "        \n",
    "\n",
    "print(new_str)\n"
   ]
  },
  {
   "cell_type": "code",
   "execution_count": null,
   "id": "caa8013f-bc99-4d27-ab02-5044b8edd3a5",
   "metadata": {},
   "outputs": [],
   "source": []
  }
 ],
 "metadata": {
  "kernelspec": {
   "display_name": "Python 3 (ipykernel)",
   "language": "python",
   "name": "python3"
  },
  "language_info": {
   "codemirror_mode": {
    "name": "ipython",
    "version": 3
   },
   "file_extension": ".py",
   "mimetype": "text/x-python",
   "name": "python",
   "nbconvert_exporter": "python",
   "pygments_lexer": "ipython3",
   "version": "3.13.1"
  }
 },
 "nbformat": 4,
 "nbformat_minor": 5
}
