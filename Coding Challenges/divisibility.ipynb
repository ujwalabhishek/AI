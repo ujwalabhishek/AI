{
 "cells": [
  {
   "cell_type": "markdown",
   "id": "e8bb9fd2-4c26-486d-ad84-738fb96058b9",
   "metadata": {},
   "source": [
    "Given an integer ‘n’, your task is to write a Python code to find whether ‘n’ is divisible by all its digits or not. If they divide the number, then the number ‘n’ is a happy number. Otherwise, it is a sad number.\n",
    "\n",
    "The number ‘n’ may be provided with commas. At first, you have to clean the number (by removing the commas involved) and then check whether the number is happy or sad.\n",
    "\n",
    "    \n",
    "\n",
    "---------------------------------------------------------------------------------------------------\n",
    "\n",
    "\n",
    "\n",
    "Input - String\n",
    "\n",
    "Output - String\n",
    "\n",
    "\n",
    "\n",
    "---------------------------------------------------------------------------------------------------\n",
    "\n",
    "Sample Input - 2,128\n",
    "\n",
    "Sample Output - Happy Number\n",
    "\n",
    "\n",
    "\n",
    "---------------------------------------------------------------------------------------------------\n",
    "\n",
    "\n",
    "\n",
    "Sample Input - 256\n",
    "\n",
    "Sample Output - Sad Number\n",
    "\n",
    "\n",
    "\n",
    "---------------------------------------------------------------------------------------------------\n",
    "\n",
    "\n",
    "\n",
    "Sample Input - 1124\n",
    "\n",
    "Sample Output - Happy Number\n",
    "\n",
    "\n",
    "\n",
    "---------------------------------------------------------------------------------------------------"
   ]
  },
  {
   "cell_type": "code",
   "execution_count": 1,
   "id": "93c1c7fc-c544-4feb-af30-badded88bf72",
   "metadata": {},
   "outputs": [
    {
     "name": "stdin",
     "output_type": "stream",
     "text": [
      " 456\n"
     ]
    },
    {
     "name": "stdout",
     "output_type": "stream",
     "text": [
      "Sad Number\n"
     ]
    }
   ],
   "source": [
    "# reading input\n",
    "test_str = input()\n",
    "\n",
    "#replace special characters in number, here it is comma (,)\n",
    "cleaned_test_str = test_str.replace(\",\",\"\")\n",
    "\n",
    "#convert to integer\n",
    "n = int(cleaned_test_str)\n",
    "\n",
    "# Function to check if all digits of n divide it or not\n",
    "def allDigitsDivide(n):\n",
    "    temp = n\n",
    "    while (temp > 0):\n",
    "        # Taking the digit of the number into a digit variable.\n",
    "        digit = temp % 10\n",
    "\n",
    "         #check if the digit is non-zero as any number dividing zero is invalid\n",
    "         #also check if it gives a remainder of zero when it divides n\n",
    "        if not(digit != 0 and n % digit == 0):\n",
    "\t        return False\n",
    "        temp = temp // 10\n",
    "    \n",
    "    #If the function did not return anything until the while loop is over, \n",
    "    #it means that the number was divisible by all of its digits.\n",
    "    return True\n",
    "    \n",
    "#call the allDigitsDivide function\n",
    "if (allDigitsDivide(n)):\n",
    "    print(\"Happy Number\")\n",
    "else:\n",
    "    print(\"Sad Number\" )"
   ]
  },
  {
   "cell_type": "code",
   "execution_count": null,
   "id": "0a57d25e-9366-4c5a-ae36-8be9efe12597",
   "metadata": {},
   "outputs": [],
   "source": []
  }
 ],
 "metadata": {
  "kernelspec": {
   "display_name": "Python 3 (ipykernel)",
   "language": "python",
   "name": "python3"
  },
  "language_info": {
   "codemirror_mode": {
    "name": "ipython",
    "version": 3
   },
   "file_extension": ".py",
   "mimetype": "text/x-python",
   "name": "python",
   "nbconvert_exporter": "python",
   "pygments_lexer": "ipython3",
   "version": "3.13.1"
  }
 },
 "nbformat": 4,
 "nbformat_minor": 5
}
