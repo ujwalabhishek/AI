{
 "cells": [
  {
   "cell_type": "markdown",
   "id": "3e6d55cc-7bb4-4697-a92a-9668ba2262bc",
   "metadata": {},
   "source": [
    "lets print and display a  number triangle"
   ]
  },
  {
   "cell_type": "code",
   "execution_count": 6,
   "id": "0d1e2509-1861-4ec2-9a2f-3def17378d59",
   "metadata": {},
   "outputs": [
    {
     "name": "stdout",
     "output_type": "stream",
     "text": [
      "1\n",
      "12\n",
      "123\n",
      "1234\n",
      "12345\n"
     ]
    }
   ],
   "source": [
    "n =5\n",
    "for i in range(1,n+1):\n",
    "    for j in range(1,i+1):\n",
    "        print(j,end=\"\") # print end of the line with space and not a new line so add end =\"\" by default its a  new line \n",
    "    print()    "
   ]
  },
  {
   "cell_type": "code",
   "execution_count": null,
   "id": "9573ed8e-c927-4d08-9786-3993d04519b4",
   "metadata": {},
   "outputs": [],
   "source": []
  }
 ],
 "metadata": {
  "kernelspec": {
   "display_name": "Python 3 (ipykernel)",
   "language": "python",
   "name": "python3"
  },
  "language_info": {
   "codemirror_mode": {
    "name": "ipython",
    "version": 3
   },
   "file_extension": ".py",
   "mimetype": "text/x-python",
   "name": "python",
   "nbconvert_exporter": "python",
   "pygments_lexer": "ipython3",
   "version": "3.12.1"
  }
 },
 "nbformat": 4,
 "nbformat_minor": 5
}
