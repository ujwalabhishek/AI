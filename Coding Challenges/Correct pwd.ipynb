{
 "cells": [
  {
   "cell_type": "markdown",
   "id": "2820f729-d1c8-4bb4-bc60-0df4c2e23f92",
   "metadata": {},
   "source": [
    "* Set correct_password to the right password and user_input to an empty string.\n",
    "* Use a While Loop: # Keep asking for the password until user_input matches correct_password.\n",
    "* If incorrect, print \"Incorrect password. Try again.\"\n",
    "* When correct, print \"Access granted.\""
   ]
  },
  {
   "cell_type": "code",
   "execution_count": null,
   "id": "cd8a9075-ce57-42c6-a78f-410f7297dad1",
   "metadata": {},
   "outputs": [
    {
     "name": "stdin",
     "output_type": "stream",
     "text": [
      "Enter password rwe\n"
     ]
    },
    {
     "name": "stdout",
     "output_type": "stream",
     "text": [
      "Wrong pwd please enter correct password\n"
     ]
    }
   ],
   "source": [
    "correct_password = \"ujwal&198\"\n",
    "user_input =\"\"\n",
    "while user_input != correct_password:\n",
    "    user_input = input(\"Enter password\")\n",
    "    print(\"Wrong pwd please enter correct password\")\n",
    "else:\n",
    "    print(\"Login successful\")"
   ]
  },
  {
   "cell_type": "markdown",
   "id": "4cc35a70-d129-458e-94aa-be6ac48e8673",
   "metadata": {},
   "source": [
    "### Quiz 5 \n",
    "* Set `secret_number` to the number you want to be guessed, and guess to None. \n",
    "* Use a While Loop: \n",
    "* Keep asking for the guess until guess matches `secret_number`. \n",
    "* If the guess is too low, print \"Too low! Try again.\" \n",
    "* If the guess is too high, print \"Too high! Try again.\" \n",
    "* When the guess is correct, print \"Congratulations!\" secret_number = 7 guess = None"
   ]
  },
  {
   "cell_type": "code",
   "execution_count": null,
   "id": "7851373b-8d97-40bd-935a-ab65509cb949",
   "metadata": {},
   "outputs": [],
   "source": []
  }
 ],
 "metadata": {
  "kernelspec": {
   "display_name": "Python 3 (ipykernel)",
   "language": "python",
   "name": "python3"
  },
  "language_info": {
   "codemirror_mode": {
    "name": "ipython",
    "version": 3
   },
   "file_extension": ".py",
   "mimetype": "text/x-python",
   "name": "python",
   "nbconvert_exporter": "python",
   "pygments_lexer": "ipython3",
   "version": "3.12.1"
  }
 },
 "nbformat": 4,
 "nbformat_minor": 5
}
