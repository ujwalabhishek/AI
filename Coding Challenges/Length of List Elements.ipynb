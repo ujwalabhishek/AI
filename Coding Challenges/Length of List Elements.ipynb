{
 "cells": [
  {
   "cell_type": "markdown",
   "id": "cfd25bda-398c-41bc-8c28-56f1fe2738ea",
   "metadata": {},
   "source": [
    "Given a list of strings, write a program to find the number of strings whose length is greater than or equal to K, where K is a positive integer.\n",
    "\n",
    "\n",
    "\n",
    "Input - List of strings and an integer\n",
    "\n",
    "﻿Output - Integer\n",
    "\n",
    "\n",
    "\n",
    "--------------------------------------------------------------------------------\n",
    "\n",
    "\n",
    "\n",
    "Sample Input :\n",
    "\n",
    " [Mumbai, Hyderabad, Calicut, Chennai]\n",
    "\n",
    "  9\n",
    "\n",
    "\n",
    "\n",
    "Sample Output: 1\n",
    "\n",
    "\n",
    "\n",
    "-------------------------------------------------------------------------------\n",
    "\n",
    "\n",
    "\n",
    "Sample Input :\n",
    "\n",
    " [Datascience, Data Analyst, Programmer, Manager]\n",
    "\n",
    "  8\n",
    "\n",
    "\n",
    "\n",
    "Sample Output : 3"
   ]
  },
  {
   "cell_type": "code",
   "execution_count": 7,
   "id": "3323a621-c8b6-4785-a728-861bd201ff1f",
   "metadata": {},
   "outputs": [
    {
     "name": "stdout",
     "output_type": "stream",
     "text": [
      "3\n"
     ]
    }
   ],
   "source": [
    "\n",
    "\n",
    "#Take input\n",
    "input_list = ['Datascience', 'Data Analyst', 'Programmer, Manager']\n",
    "K= 9\n",
    "cnt = 0\n",
    "for str in input_list:\n",
    "    if int(len(str)) >= K:\n",
    "        cnt +=1\n",
    "\n",
    "print(cnt)\n",
    "#start writing your code here"
   ]
  },
  {
   "cell_type": "code",
   "execution_count": null,
   "id": "f1896f1a-b367-411b-90f8-2a281ecbdc4a",
   "metadata": {},
   "outputs": [],
   "source": []
  }
 ],
 "metadata": {
  "kernelspec": {
   "display_name": "Python 3 (ipykernel)",
   "language": "python",
   "name": "python3"
  },
  "language_info": {
   "codemirror_mode": {
    "name": "ipython",
    "version": 3
   },
   "file_extension": ".py",
   "mimetype": "text/x-python",
   "name": "python",
   "nbconvert_exporter": "python",
   "pygments_lexer": "ipython3",
   "version": "3.13.1"
  }
 },
 "nbformat": 4,
 "nbformat_minor": 5
}
