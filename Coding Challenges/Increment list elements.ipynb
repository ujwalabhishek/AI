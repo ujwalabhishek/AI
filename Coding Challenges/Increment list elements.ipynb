{
 "cells": [
  {
   "cell_type": "markdown",
   "id": "2ee2f0ea-1951-4629-ad55-5e4d19dee379",
   "metadata": {},
   "source": [
    "Given a list of strings, increment the value of the numeric strings by 'k’. \n",
    "\n",
    "\n",
    "\n",
    "Hint: The function isdigit() may be useful here.\n",
    "\n",
    "\n",
    "\n",
    "---------------------------------------------------------------------------------------------\n",
    "\n",
    "\n",
    "\n",
    "Input - A list in the first line and an integer in the second line\n",
    "\n",
    "Output - A list\n",
    "\n",
    "---------------------------------------------------------------------------------------------\n",
    "\n",
    "Sample Input :\n",
    "\n",
    " ['Python', '123', 'Data']\n",
    "\n",
    "  4\n",
    "\n",
    "    \n",
    "\n",
    "Sample Output : ['Python', '127', 'Data']\n",
    "\n",
    "\n",
    "\n",
    "---------------------------------------------------------------------------------------------\n",
    "\n",
    "Sample Input :\n",
    "\n",
    " ['upGrad', '1991', 'Mumbai']\n",
    "\n",
    "  0\n",
    "\n",
    "\n",
    "\n",
    "Sample Output : ['upGrad', '1991', 'Mumbai']\n",
    "\n",
    "\n",
    "\n",
    "---------------------------------------------------------------------------------------------\n",
    "\n",
    "Sample Input :\n",
    "\n",
    " ['Data Science', '100', '10']\n",
    "\n",
    "  10\n",
    "\n",
    "\n",
    "\n",
    "Sample Output : ['Data Science', '110', '20']"
   ]
  },
  {
   "cell_type": "code",
   "execution_count": 24,
   "id": "d01bc935-fa71-4d17-a1e3-4241844d0a0b",
   "metadata": {},
   "outputs": [
    {
     "data": {
      "text/plain": [
       "['Python', 127, 'Data']"
      ]
     },
     "execution_count": 24,
     "metadata": {},
     "output_type": "execute_result"
    }
   ],
   "source": [
    "inputstr = ['Python', '123', 'Data']\n",
    "k = 4\n",
    "\n",
    "for i in inputstr:\n",
    "    if i.isdigit():\n",
    "        liindex = inputstr.index(i)\n",
    "        inputstr[liindex] = int(i)+k\n",
    "       \n",
    "inputstr     "
   ]
  },
  {
   "cell_type": "code",
   "execution_count": null,
   "id": "8b5fabe2-c746-4c87-b186-ef6aa7745d84",
   "metadata": {},
   "outputs": [],
   "source": []
  }
 ],
 "metadata": {
  "kernelspec": {
   "display_name": "Python 3 (ipykernel)",
   "language": "python",
   "name": "python3"
  },
  "language_info": {
   "codemirror_mode": {
    "name": "ipython",
    "version": 3
   },
   "file_extension": ".py",
   "mimetype": "text/x-python",
   "name": "python",
   "nbconvert_exporter": "python",
   "pygments_lexer": "ipython3",
   "version": "3.13.1"
  }
 },
 "nbformat": 4,
 "nbformat_minor": 5
}
