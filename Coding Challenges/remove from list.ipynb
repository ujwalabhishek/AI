{
 "cells": [
  {
   "cell_type": "markdown",
   "id": "c71dc374-5723-4a0d-86b5-952daf7d449e",
   "metadata": {},
   "source": [
    "# Q1.\n",
    "Remove SPSS from input_list = ['SAS', 'R', 'PYTHON', 'SPSS'] and add 'SPARK' in its place.\n",
    "\n",
    "\n",
    "\n",
    "Sample Input:\n",
    "\n",
    "['SAS', 'R', 'PYTHON', 'SPSS']\n",
    "\n",
    "\n",
    "\n",
    "Sample Output:\n",
    "\n",
    "['SAS', 'R', 'PYTHON', 'SPARK']"
   ]
  },
  {
   "cell_type": "code",
   "execution_count": 1,
   "id": "43a8b34b-14e7-4b3d-8d49-8e200296a4b5",
   "metadata": {},
   "outputs": [],
   "source": [
    "input_string = ['SAS', 'R', 'PYTHON', 'SPSS']"
   ]
  },
  {
   "cell_type": "code",
   "execution_count": 2,
   "id": "3ccfa5a3-e855-4df0-8964-2c3132f89fcd",
   "metadata": {},
   "outputs": [
    {
     "data": {
      "text/plain": [
       "['SAS', 'R', 'PYTHON', 'SPARK']"
      ]
     },
     "execution_count": 2,
     "metadata": {},
     "output_type": "execute_result"
    }
   ],
   "source": [
    "input_string[3] = 'SPARK'\n",
    "input_string"
   ]
  },
  {
   "cell_type": "code",
   "execution_count": 7,
   "id": "642c593e-6da3-4503-9c1a-425d2b28b952",
   "metadata": {},
   "outputs": [
    {
     "data": {
      "text/plain": [
       "['SAS', 'R', 'PYTHON', 'SPARK']"
      ]
     },
     "execution_count": 7,
     "metadata": {},
     "output_type": "execute_result"
    }
   ],
   "source": [
    "input_string = ['SAS', 'R', 'PYTHON', 'SPSS']\n",
    "input_string.remove('SPSS')\n",
    "input_string.append('SPARK')\n",
    "input_string"
   ]
  },
  {
   "cell_type": "markdown",
   "id": "3dc34fb9-5190-4a0f-ab46-abe2ce67a030",
   "metadata": {},
   "source": [
    "# Q2.\n",
    "\n",
    "Convert a list ['Pythons syntax is easy to learn', 'Pythons syntax is very clear'] to a string using ‘&’. The sample output of this string will be:\n",
    "\n",
    "Pythons syntax is easy to learn & Pythons syntax is very clear\n",
    "\n",
    "\n",
    "Note that there is a space on both sides of '&' (as usual in English sentences)."
   ]
  },
  {
   "cell_type": "code",
   "execution_count": 10,
   "id": "be028313-5847-4d38-8160-a43120283d05",
   "metadata": {},
   "outputs": [
    {
     "data": {
      "text/plain": [
       "'Pythons syntax is easy to learn & Pythons syntax is very clear'"
      ]
     },
     "execution_count": 10,
     "metadata": {},
     "output_type": "execute_result"
    }
   ],
   "source": [
    "input_str = ['Pythons syntax is easy to learn', 'Pythons syntax is very clear'] \n",
    "input_stringnew = input_str[0] + ' & '+ input_str[1]\n",
    "input_stringnew\n"
   ]
  },
  {
   "cell_type": "code",
   "execution_count": null,
   "id": "ae3a9748-50f7-4ebf-bb06-8168372ff08d",
   "metadata": {},
   "outputs": [],
   "source": []
  }
 ],
 "metadata": {
  "kernelspec": {
   "display_name": "Python 3 (ipykernel)",
   "language": "python",
   "name": "python3"
  },
  "language_info": {
   "codemirror_mode": {
    "name": "ipython",
    "version": 3
   },
   "file_extension": ".py",
   "mimetype": "text/x-python",
   "name": "python",
   "nbconvert_exporter": "python",
   "pygments_lexer": "ipython3",
   "version": "3.13.1"
  }
 },
 "nbformat": 4,
 "nbformat_minor": 5
}
