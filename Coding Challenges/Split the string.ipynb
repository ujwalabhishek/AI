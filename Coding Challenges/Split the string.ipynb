{
 "cells": [
  {
   "cell_type": "markdown",
   "id": "814c570e-d73a-43b3-9020-9e58779d9922",
   "metadata": {},
   "source": [
    "## Split the string"
   ]
  },
  {
   "cell_type": "markdown",
   "id": "53b47838-be91-4851-b8a0-43a540266f0a",
   "metadata": {},
   "source": [
    "Split the string input_str = 'Kumar_Ravi_003' to the person's second name, first name, and unique customer code. In this example, second_name= 'Kumar', first_name= 'Ravi', customer_code = '003'.\n",
    "\n",
    "\n",
    "\n",
    "A sample output of the input 'Kumar_Ravi_003' is:\n",
    "\n",
    "Ravi\n",
    "Kumar\n",
    "003\n",
    " \n",
    "\n",
    "Note that you need to print in the order first name, last name, and customer code.\n",
    "\n",
    "\n",
    "\n"
   ]
  },
  {
   "cell_type": "code",
   "execution_count": 3,
   "id": "d8452731-7818-4cb6-94bd-36f920e3cab6",
   "metadata": {},
   "outputs": [
    {
     "name": "stdout",
     "output_type": "stream",
     "text": [
      "Kumar\n",
      "Ravi\n",
      "003\n"
     ]
    }
   ],
   "source": [
    "import ast,sys\n",
    "input_str = 'Kumar_Ravi_003'\n",
    "splited = input_str.split('_')\n",
    "\n",
    "first_name = splited[0]\n",
    "second_name = splited[1]\n",
    "customer_code = splited[2]\n",
    "print(first_name)\n",
    "print(second_name)\n",
    "print(customer_code)"
   ]
  },
  {
   "cell_type": "code",
   "execution_count": null,
   "id": "d0be3c4d-66ec-40e6-bd5b-37e4a86c07f7",
   "metadata": {},
   "outputs": [],
   "source": []
  }
 ],
 "metadata": {
  "kernelspec": {
   "display_name": "Python 3 (ipykernel)",
   "language": "python",
   "name": "python3"
  },
  "language_info": {
   "codemirror_mode": {
    "name": "ipython",
    "version": 3
   },
   "file_extension": ".py",
   "mimetype": "text/x-python",
   "name": "python",
   "nbconvert_exporter": "python",
   "pygments_lexer": "ipython3",
   "version": "3.13.1"
  }
 },
 "nbformat": 4,
 "nbformat_minor": 5
}
