{
 "cells": [
  {
   "cell_type": "markdown",
   "id": "9b69705c-14a0-4c1a-b57d-cfd546b89de2",
   "metadata": {},
   "source": [
    "Given a string, write a Python program to find the largest substring of uppercase characters and print the length of that substring. Check the sample inputs and outputs for a better understanding.\n",
    "\n",
    "\n",
    "\n",
    "---------------------------------------------------------------------------------------------------\n",
    "\n",
    "Input - String\n",
    "\n",
    "Output - String\n",
    "\n",
    "---------------------------------------------------------------------------------------------------\n",
    "\n",
    "\n",
    "\n",
    "Sample Input - I lovE PRogrAMMING\n",
    "\n",
    "Sample Output - 6\n",
    "\n",
    "\n",
    "\n",
    "Explanation - AMMING is the largest substring with all characters in uppercase continuously \n",
    "\n",
    "\n",
    "\n",
    "-----------------------------------------------------------------------------------------------------\n",
    "\n",
    "Sample Input - MuMbaI is in MAHArashTRA\n",
    "\n",
    "Sample Output - 4\n",
    "\n",
    "\n",
    "\n",
    "Explanation - MAHA is the largest substring with all characters in uppercase continuously.\n",
    "\n",
    "\n",
    "\n",
    "---------------------------------------------------------------------------------------------------\n",
    "\n",
    "Sample Input - India WOn the WOrLD CUP\n",
    "\n",
    "Sample Output - 3\n",
    "\n",
    "\n",
    "\n",
    "Explanation - CUP is the largest substring with all characters in uppercase continuously.`1"
   ]
  },
  {
   "cell_type": "code",
   "execution_count": 1,
   "id": "e0018570-95a2-453a-bcfa-f078cc8151eb",
   "metadata": {},
   "outputs": [
    {
     "name": "stdout",
     "output_type": "stream",
     "text": [
      "3\n"
     ]
    }
   ],
   "source": [
    "#read the string\n",
    "test_str = 'India WOn the WOrLD CUP'\n",
    "\n",
    "# when a character in the string is a uppercase, cnt will count the number of #continuous uppercase characters from that index\n",
    "cnt=0\n",
    "# max_run stores the final maximum count which is to be displayed as answer\n",
    "max_run=0\n",
    "\n",
    "for i in range(0,len(test_str)):\n",
    "    # updating run count on uppercase \n",
    "    if test_str[i].isupper():\n",
    "        cnt=cnt+1\n",
    "    # on encountering lowercase, update the cnt with 0 and start counting the continuous uppercase run again. max_run  already has the count of this run stored.\n",
    "    #updating the value of max_run with cnt, if the current ‘cnt’ is greater than the previous ‘max_run’\n",
    "    else:\n",
    "        if cnt>=max_run:\n",
    "            max_run=cnt\n",
    "        cnt=0\n",
    "#for boundary cases - when there is a potential longest substring at the end of the string        \n",
    "if cnt>=max_run:\n",
    "    max_run=cnt\n",
    "    \n",
    "# printing result \n",
    "print(max_run)\n"
   ]
  },
  {
   "cell_type": "code",
   "execution_count": null,
   "id": "9107d934-7396-498a-8a5e-b4111c7a6b03",
   "metadata": {},
   "outputs": [],
   "source": []
  }
 ],
 "metadata": {
  "kernelspec": {
   "display_name": "Python 3 (ipykernel)",
   "language": "python",
   "name": "python3"
  },
  "language_info": {
   "codemirror_mode": {
    "name": "ipython",
    "version": 3
   },
   "file_extension": ".py",
   "mimetype": "text/x-python",
   "name": "python",
   "nbconvert_exporter": "python",
   "pygments_lexer": "ipython3",
   "version": "3.13.1"
  }
 },
 "nbformat": 4,
 "nbformat_minor": 5
}
