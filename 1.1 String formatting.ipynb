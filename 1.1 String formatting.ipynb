{
 "cells": [
  {
   "cell_type": "markdown",
   "id": "eadebb5d-ce15-4c28-97f1-315941d9d8ec",
   "metadata": {},
   "source": [
    "# Print function"
   ]
  },
  {
   "cell_type": "code",
   "execution_count": 19,
   "id": "219685b4-cfe6-485b-b83e-eaa796455ab0",
   "metadata": {},
   "outputs": [
    {
     "name": "stdout",
     "output_type": "stream",
     "text": [
      "Hello, Ujwal ! Welcome!\n"
     ]
    }
   ],
   "source": [
    "name = \"Ujwal\"\n",
    "print(\"Hello,\", name, \"! Welcome!\")"
   ]
  },
  {
   "cell_type": "code",
   "execution_count": 20,
   "id": "34a4daa7-1564-4fb8-804d-6b71b877c368",
   "metadata": {},
   "outputs": [
    {
     "name": "stdout",
     "output_type": "stream",
     "text": [
      "Hello Ujwal ! Welcome!\n"
     ]
    }
   ],
   "source": [
    "name = \"Ujwal\"\n",
    "print(f\"Hello {name} ! Welcome!\")"
   ]
  },
  {
   "cell_type": "code",
   "execution_count": 21,
   "id": "b8fe41ec-6f6a-435f-93ca-9c941c49996b",
   "metadata": {},
   "outputs": [
    {
     "name": "stdout",
     "output_type": "stream",
     "text": [
      "Hello Ujwal ! Welcome!\n"
     ]
    }
   ],
   "source": [
    "name = \"Ujwal\"\n",
    "print(\"Hello {} ! Welcome!\".format(name))"
   ]
  },
  {
   "cell_type": "markdown",
   "id": "edc7067e-a8f5-4804-b1b8-32361e2604a1",
   "metadata": {},
   "source": [
    "# String formatting f-strings and .format()"
   ]
  },
  {
   "cell_type": "code",
   "execution_count": 9,
   "id": "ffa7bd02-12e2-43ce-b443-089cb844c5cc",
   "metadata": {},
   "outputs": [
    {
     "name": "stdout",
     "output_type": "stream",
     "text": [
      "Amount: $150.7545\n"
     ]
    }
   ],
   "source": [
    "amount = 150.7545\n",
    "print(f\"Amount: ${amount}\")"
   ]
  },
  {
   "cell_type": "code",
   "execution_count": 10,
   "id": "7d274e48-fac7-473e-ba1b-65c1797a824d",
   "metadata": {},
   "outputs": [
    {
     "name": "stdout",
     "output_type": "stream",
     "text": [
      "Amount: $150.75\n"
     ]
    }
   ],
   "source": [
    "print(\"Amount: ${:.2f}\".format(amount)) # use :.2f inside {}"
   ]
  },
  {
   "cell_type": "markdown",
   "id": "05699c2e-b61c-4d6f-b476-d7505aeef0a9",
   "metadata": {},
   "source": [
    "Both f-strings and .format() are used for string formatting in Python, but they have some differences in syntax and performance.\n",
    "\n",
    "### Using f-strings (f\"...\") (Python 3.6+)\n",
    "```\n",
    "    amount = 150.75\n",
    "    print(f\"Amount: ${amount}\")\n",
    "```\n",
    "\n",
    "### How it works:\n",
    "* f\"...\" is a formatted string literal (f-string).\n",
    "* Variables inside {} are **directly evaluated** at runtime.\n",
    "* It's more **readable and efficient** compared to .format().\n",
    "* You can also apply formatting like {amount:.2f} to ensure **two decimal places**:"
   ]
  },
  {
   "cell_type": "code",
   "execution_count": 11,
   "id": "19e58fb9-9a05-4442-8716-18ed1fa8c83b",
   "metadata": {},
   "outputs": [
    {
     "name": "stdout",
     "output_type": "stream",
     "text": [
      "Amount: $150.75\n"
     ]
    }
   ],
   "source": [
    "print(f\"Amount: ${amount:.2f}\")"
   ]
  },
  {
   "cell_type": "code",
   "execution_count": 12,
   "id": "ad9918ba-1682-45f0-bc29-a43e214afa14",
   "metadata": {},
   "outputs": [
    {
     "name": "stdout",
     "output_type": "stream",
     "text": [
      "Amount: $150.755\n"
     ]
    }
   ],
   "source": [
    "print(f\"Amount: ${amount:.3f}\") #print 3 decimal places"
   ]
  },
  {
   "cell_type": "code",
   "execution_count": 13,
   "id": "43381d7d-3dc2-4d17-be88-773733349852",
   "metadata": {},
   "outputs": [
    {
     "name": "stdout",
     "output_type": "stream",
     "text": [
      "Amount: $150.7545\n"
     ]
    }
   ],
   "source": [
    "print(f\"Amount: ${amount:.4f}\") #print 4 decimal places"
   ]
  },
  {
   "cell_type": "markdown",
   "id": "bc6acfba-c732-49f4-98fa-21709adedfaa",
   "metadata": {},
   "source": [
    "### Using .format() Method (Python 2.7+ & 3.x)\n",
    "```\n",
    "amount = 150.75\n",
    "print(\"Amount: ${:.2f}\".format(amount))\n",
    "\n",
    "```\n",
    "### How it works:\n",
    "\n",
    "* Amount: ${:.2f}\".format(amount):\n",
    "  * {:.2f} ***formats*** amount ***to 2 decimal places***.\n",
    "  * .format(amount) inserts the value inside {}.\n",
    "* .format() is useful when formatting multiple variables:"
   ]
  },
  {
   "cell_type": "code",
   "execution_count": 14,
   "id": "91039243-0003-44aa-a687-103b7cdcb47d",
   "metadata": {},
   "outputs": [
    {
     "name": "stdout",
     "output_type": "stream",
     "text": [
      "Customer: John | Amount: $150.75\n"
     ]
    }
   ],
   "source": [
    "name = \"John\"\n",
    "print(\"Customer: {} | Amount: ${:.2f}\".format(name, amount))"
   ]
  },
  {
   "cell_type": "markdown",
   "id": "f57f08e7-969a-4c34-904e-052ca79ce907",
   "metadata": {},
   "source": [
    "# Using sep and end parameter\n",
    "\n",
    "The end is a parameter in Python’s built-in print() function that controls what character(s) are printed at the end of the printed text. \n",
    "\n",
    "* The end is set to \\n (newline character) which means that each call to print() will print the output on a new line.\n",
    "* We can change the value of the end to print a different character or string at the end of the printed text."
   ]
  },
  {
   "cell_type": "code",
   "execution_count": 15,
   "id": "2685c22d-3200-48ec-b8a3-f2fe5346d69a",
   "metadata": {},
   "outputs": [
    {
     "name": "stdout",
     "output_type": "stream",
     "text": [
      "Apples, Orange, Mango are fruits!\n"
     ]
    }
   ],
   "source": [
    "print(\"Apples\", \"Orange\", \"Mango\", sep=\", \", end=\" are fruits!\\n\")"
   ]
  },
  {
   "cell_type": "code",
   "execution_count": 16,
   "id": "5cc48eab-ba5c-4652-b06e-d56255a392dd",
   "metadata": {},
   "outputs": [
    {
     "name": "stdout",
     "output_type": "stream",
     "text": [
      "Apples - Orange - Mango are fruits!\n"
     ]
    }
   ],
   "source": [
    "print(\"Apples\", \"Orange\", \"Mango\", sep=\" - \", end=\" are fruits!\\n\")"
   ]
  },
  {
   "cell_type": "markdown",
   "id": "c93307c3-6c39-46d7-8c14-8a0e6dfcf749",
   "metadata": {},
   "source": [
    "# % operator  \n",
    "\n",
    "We can use ‘%’ operator. % values are replaced with zero or more value of elements. The formatting using % is similar to that of ‘printf’ in the C programming language.\n",
    "\n",
    "* %d –integer\n",
    "* %f – float\n",
    "* %s – string\n",
    "* %x –hexadecimal\n",
    "* %o – octal"
   ]
  },
  {
   "cell_type": "code",
   "execution_count": 17,
   "id": "9be6e28e-3297-48f0-8c73-e9de906d0dd5",
   "metadata": {},
   "outputs": [
    {
     "name": "stdin",
     "output_type": "stream",
     "text": [
      "Enter your value: 35\n"
     ]
    },
    {
     "name": "stdout",
     "output_type": "stream",
     "text": [
      "The sum of the values is 40\n"
     ]
    }
   ],
   "source": [
    "num = int(input(\"Enter your value:\"))\n",
    "\n",
    "add = num+5\n",
    "\n",
    "#Output\n",
    "print(\"The sum of the values is %d\" %add)"
   ]
  },
  {
   "cell_type": "markdown",
   "id": "7d692bd4-e9d8-486c-b4c0-6b7cfd24b41b",
   "metadata": {},
   "source": [
    "# Slicing"
   ]
  },
  {
   "cell_type": "code",
   "execution_count": 22,
   "id": "724db724-a36a-4678-9342-e42c1d66f7ee",
   "metadata": {},
   "outputs": [],
   "source": [
    "name = \"my name is ujwal abhishekl\""
   ]
  },
  {
   "cell_type": "code",
   "execution_count": 23,
   "id": "db84879b-c440-42e6-85e2-c062bd69c9cc",
   "metadata": {},
   "outputs": [
    {
     "data": {
      "text/plain": [
       "'m'"
      ]
     },
     "execution_count": 23,
     "metadata": {},
     "output_type": "execute_result"
    }
   ],
   "source": [
    "name[0]"
   ]
  },
  {
   "cell_type": "code",
   "execution_count": 26,
   "id": "05a31c92-758b-45ce-b23e-82103b684378",
   "metadata": {},
   "outputs": [
    {
     "data": {
      "text/plain": [
       "'my name'"
      ]
     },
     "execution_count": 26,
     "metadata": {},
     "output_type": "execute_result"
    }
   ],
   "source": [
    "name[0:7]"
   ]
  },
  {
   "cell_type": "code",
   "execution_count": 27,
   "id": "31fd546c-80e3-4b59-952a-b019aee8762f",
   "metadata": {},
   "outputs": [
    {
     "data": {
      "text/plain": [
       "'my name'"
      ]
     },
     "execution_count": 27,
     "metadata": {},
     "output_type": "execute_result"
    }
   ],
   "source": [
    "name[:7]"
   ]
  },
  {
   "cell_type": "code",
   "execution_count": 28,
   "id": "d075652a-7d3e-4f8f-a684-75401840c627",
   "metadata": {},
   "outputs": [
    {
     "data": {
      "text/plain": [
       "'is ujwal abhishekl'"
      ]
     },
     "execution_count": 28,
     "metadata": {},
     "output_type": "execute_result"
    }
   ],
   "source": [
    "name[8:]"
   ]
  },
  {
   "cell_type": "code",
   "execution_count": 29,
   "id": "88c9bd9a-9892-4a83-ad14-0293652ec2ad",
   "metadata": {},
   "outputs": [
    {
     "data": {
      "text/plain": [
       "[3, 4]"
      ]
     },
     "execution_count": 29,
     "metadata": {},
     "output_type": "execute_result"
    }
   ],
   "source": [
    "myList = [1,2,3,4,5]\n",
    "myList[2:4]"
   ]
  },
  {
   "cell_type": "code",
   "execution_count": 30,
   "id": "b6c3cc63-733a-44d8-bec5-0100529114aa",
   "metadata": {},
   "outputs": [
    {
     "data": {
      "text/plain": [
       "5"
      ]
     },
     "execution_count": 30,
     "metadata": {},
     "output_type": "execute_result"
    }
   ],
   "source": [
    "len(name)"
   ]
  },
  {
   "cell_type": "code",
   "execution_count": 31,
   "id": "a23926f0-c245-4a54-a8cf-0b63ea315b87",
   "metadata": {},
   "outputs": [
    {
     "data": {
      "text/plain": [
       "5"
      ]
     },
     "execution_count": 31,
     "metadata": {},
     "output_type": "execute_result"
    }
   ],
   "source": [
    "len(myList)"
   ]
  },
  {
   "cell_type": "markdown",
   "id": "1bede37a-eb85-4232-a64d-6be8229526c4",
   "metadata": {},
   "source": [
    "# Multiline Strings\n"
   ]
  },
  {
   "cell_type": "code",
   "execution_count": 32,
   "id": "629d8549-ccf2-482a-a539-4833aa90f918",
   "metadata": {},
   "outputs": [
    {
     "data": {
      "text/plain": [
       "\"\\nHere is a long string \\nwhich i am writing \\nin multiple lines '''\\n\""
      ]
     },
     "execution_count": 32,
     "metadata": {},
     "output_type": "execute_result"
    }
   ],
   "source": [
    "myString = '''\n",
    "Here is a long string \n",
    "which i am writing \n",
    "in multiple lines \\'\\'\\'\n",
    "'''\n",
    "myString"
   ]
  },
  {
   "cell_type": "code",
   "execution_count": 33,
   "id": "4852646e-66fc-4783-8907-cf4078460bcd",
   "metadata": {},
   "outputs": [
    {
     "name": "stdout",
     "output_type": "stream",
     "text": [
      "\n",
      "Here is a long string \n",
      "which i am writing \n",
      "in multiple lines '''\n",
      "\n"
     ]
    }
   ],
   "source": [
    "print(myString)\n"
   ]
  },
  {
   "cell_type": "code",
   "execution_count": null,
   "id": "d387e654-8917-4a93-a3c4-d5b570deddf8",
   "metadata": {},
   "outputs": [],
   "source": []
  }
 ],
 "metadata": {
  "kernelspec": {
   "display_name": "Python 3 (ipykernel)",
   "language": "python",
   "name": "python3"
  },
  "language_info": {
   "codemirror_mode": {
    "name": "ipython",
    "version": 3
   },
   "file_extension": ".py",
   "mimetype": "text/x-python",
   "name": "python",
   "nbconvert_exporter": "python",
   "pygments_lexer": "ipython3",
   "version": "3.12.1"
  }
 },
 "nbformat": 4,
 "nbformat_minor": 5
}
